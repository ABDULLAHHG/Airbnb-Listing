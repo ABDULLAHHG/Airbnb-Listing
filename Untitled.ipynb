{
 "cells": [
  {
   "cell_type": "markdown",
   "id": "9798ceaa",
   "metadata": {},
   "source": [
    "Project Description:\n",
    "This project focuses on performing an exploratory data analysis (EDA) of Airbnb listings within a selected city. The goal is to examine various factors such as price, availability, location, and property type to uncover the underlying trends and patterns that influence the demand for Airbnb listings. Through this analysis, we aim to provide a comprehensive overview of the Airbnb market in the city, helping stakeholders to make informed decisions.\n",
    "\n",
    "Objectives:\n",
    "- Analyze key factors that influence the demand for Airbnb listings in the city, including but not limited to price, availability, location, and property type.\n",
    "- Perform thorough data cleaning to prepare the dataset for in-depth analysis, ensuring the removal of outliers and handling of missing values.\n",
    "- Utilize advanced data visualization techniques to illustrate trends and patterns in the data, making it easier to identify key insights.\n",
    "- Conduct statistical analysis to substantiate the findings and insights derived from the data.\n",
    "- Employ Python and Jupyter Notebook as the primary tools for conducting the analysis and visualization, leveraging libraries such as Pandas, NumPy, Matplotlib, and Seaborn.\n",
    "\n",
    "Criteria:\n",
    "- The data must be efficiently cleaned to remove inaccuracies and prepare it for analysis. This includes handling missing values, removing outliers, and ensuring the data is consistent.\n",
    "- The analysis should thoroughly examine the impact of various factors like price, availability, location, and property type on the demand for Airbnb listings. If the review file is chosen, the analysis should adapt to focus on relevant fields.\n",
    "- Data visualizations should be developed to clearly depict the trends and patterns identified in the analysis. These visualizations should be insightful, making it easy to grasp the dynamics of the Airbnb market in the city.\n",
    "- Statistical analysis is required to validate the trends and patterns observed, providing a solid foundation for the conclusions drawn from the data.\n",
    "- The findings should be clearly explained, and a business plan should be suggested based on the insights gained from the analysis.\n",
    "- Any CSV file from http://insideairbnb.com/get-the-data/ can be chosen for this analysis. It is essential that the chosen dataset is up-to-date and relevant to ensure the analysis reflects the current state of the Airbnb market in the selected city."
   ]
  },
  {
   "cell_type": "code",
   "execution_count": 31,
   "id": "09863505",
   "metadata": {},
   "outputs": [],
   "source": [
    "import pandas as pd \n",
    "import numpy as np \n",
    "import matplotlib.pyplot as plt \n",
    "import seaborn as sns \n",
    "import plotly.graph_objects as go "
   ]
  },
  {
   "cell_type": "code",
   "execution_count": 32,
   "id": "7afe295c",
   "metadata": {},
   "outputs": [],
   "source": [
    "df = pd.read_csv(\"listings.csv\")"
   ]
  },
  {
   "cell_type": "code",
   "execution_count": 33,
   "id": "f0d2cf13",
   "metadata": {},
   "outputs": [
    {
     "data": {
      "text/plain": [
       "license                           1.000000\n",
       "neighbourhood_group               1.000000\n",
       "price                             0.133663\n",
       "last_review                       0.103960\n",
       "reviews_per_month                 0.103960\n",
       "host_name                         0.000000\n",
       "host_id                           0.000000\n",
       "neighbourhood                     0.000000\n",
       "latitude                          0.000000\n",
       "longitude                         0.000000\n",
       "room_type                         0.000000\n",
       "name                              0.000000\n",
       "minimum_nights                    0.000000\n",
       "number_of_reviews                 0.000000\n",
       "calculated_host_listings_count    0.000000\n",
       "availability_365                  0.000000\n",
       "number_of_reviews_ltm             0.000000\n",
       "id                                0.000000\n",
       "dtype: float64"
      ]
     },
     "execution_count": 33,
     "metadata": {},
     "output_type": "execute_result"
    }
   ],
   "source": [
    "(df.isna().sum()/df.shape[0]).sort_values(ascending=False)"
   ]
  },
  {
   "cell_type": "code",
   "execution_count": 34,
   "id": "c403282d",
   "metadata": {},
   "outputs": [],
   "source": [
    "df = df.drop(df.isna().sum()[((df.isna().sum()/df.shape[0]) > 0.5)].index , axis = 1 )\n",
    "df = df.dropna()\n",
    "df = df.reset_index(drop = True)"
   ]
  },
  {
   "cell_type": "code",
   "execution_count": 35,
   "id": "b7dbf8c1",
   "metadata": {
    "scrolled": true
   },
   "outputs": [
    {
     "name": "stdout",
     "output_type": "stream",
     "text": [
      "<class 'pandas.core.frame.DataFrame'>\n",
      "RangeIndex: 325 entries, 0 to 324\n",
      "Data columns (total 16 columns):\n",
      " #   Column                          Non-Null Count  Dtype  \n",
      "---  ------                          --------------  -----  \n",
      " 0   id                              325 non-null    int64  \n",
      " 1   name                            325 non-null    object \n",
      " 2   host_id                         325 non-null    int64  \n",
      " 3   host_name                       325 non-null    object \n",
      " 4   neighbourhood                   325 non-null    object \n",
      " 5   latitude                        325 non-null    float64\n",
      " 6   longitude                       325 non-null    float64\n",
      " 7   room_type                       325 non-null    object \n",
      " 8   price                           325 non-null    float64\n",
      " 9   minimum_nights                  325 non-null    int64  \n",
      " 10  number_of_reviews               325 non-null    int64  \n",
      " 11  last_review                     325 non-null    object \n",
      " 12  reviews_per_month               325 non-null    float64\n",
      " 13  calculated_host_listings_count  325 non-null    int64  \n",
      " 14  availability_365                325 non-null    int64  \n",
      " 15  number_of_reviews_ltm           325 non-null    int64  \n",
      "dtypes: float64(4), int64(7), object(5)\n",
      "memory usage: 40.8+ KB\n"
     ]
    }
   ],
   "source": [
    "df.info()"
   ]
  },
  {
   "cell_type": "markdown",
   "id": "0d3e907d",
   "metadata": {},
   "source": [
    "there is no duplicate in id <br>\n",
    "and there is only 2 duplicate in name col "
   ]
  },
  {
   "cell_type": "code",
   "execution_count": 36,
   "id": "94e2954e",
   "metadata": {
    "scrolled": true
   },
   "outputs": [
    {
     "name": "stdout",
     "output_type": "stream",
     "text": [
      "Number of unique values in column id is : 325\n",
      "Number of unique values in column name is : 324\n",
      "Number of unique values in column host_id is : 158\n",
      "Number of unique values in column host_name is : 147\n",
      "Number of unique values in column neighbourhood is : 15\n",
      "Number of unique values in column latitude is : 310\n",
      "Number of unique values in column longitude is : 311\n",
      "Number of unique values in column room_type is : 3\n",
      "Number of unique values in column price is : 117\n",
      "Number of unique values in column minimum_nights is : 11\n",
      "Number of unique values in column number_of_reviews is : 130\n",
      "Number of unique values in column last_review is : 144\n",
      "Number of unique values in column reviews_per_month is : 235\n",
      "Number of unique values in column calculated_host_listings_count is : 12\n",
      "Number of unique values in column availability_365 is : 158\n",
      "Number of unique values in column number_of_reviews_ltm is : 71\n"
     ]
    }
   ],
   "source": [
    "for col in df.columns:\n",
    "    print(f\"Number of unique values in column {col} is : {df[col].nunique()}\")"
   ]
  },
  {
   "cell_type": "code",
   "execution_count": 37,
   "id": "1cd86193",
   "metadata": {},
   "outputs": [
    {
     "data": {
      "text/html": [
       "<div>\n",
       "<style scoped>\n",
       "    .dataframe tbody tr th:only-of-type {\n",
       "        vertical-align: middle;\n",
       "    }\n",
       "\n",
       "    .dataframe tbody tr th {\n",
       "        vertical-align: top;\n",
       "    }\n",
       "\n",
       "    .dataframe thead th {\n",
       "        text-align: right;\n",
       "    }\n",
       "</style>\n",
       "<table border=\"1\" class=\"dataframe\">\n",
       "  <thead>\n",
       "    <tr style=\"text-align: right;\">\n",
       "      <th></th>\n",
       "      <th>id</th>\n",
       "      <th>name</th>\n",
       "      <th>host_id</th>\n",
       "      <th>host_name</th>\n",
       "      <th>neighbourhood</th>\n",
       "      <th>latitude</th>\n",
       "      <th>longitude</th>\n",
       "      <th>room_type</th>\n",
       "      <th>price</th>\n",
       "      <th>minimum_nights</th>\n",
       "      <th>number_of_reviews</th>\n",
       "      <th>last_review</th>\n",
       "      <th>reviews_per_month</th>\n",
       "      <th>calculated_host_listings_count</th>\n",
       "      <th>availability_365</th>\n",
       "      <th>number_of_reviews_ltm</th>\n",
       "    </tr>\n",
       "  </thead>\n",
       "  <tbody>\n",
       "    <tr>\n",
       "      <th>0</th>\n",
       "      <td>1489424</td>\n",
       "      <td>Welcoming, easygoing, comfy bed, entire level</td>\n",
       "      <td>5294164</td>\n",
       "      <td>Efrat</td>\n",
       "      <td>FOURTEENTH WARD</td>\n",
       "      <td>42.667190</td>\n",
       "      <td>-73.815800</td>\n",
       "      <td>Private room</td>\n",
       "      <td>50.0</td>\n",
       "      <td>1</td>\n",
       "      <td>248</td>\n",
       "      <td>2024-02-27</td>\n",
       "      <td>1.94</td>\n",
       "      <td>1</td>\n",
       "      <td>233</td>\n",
       "      <td>50</td>\n",
       "    </tr>\n",
       "    <tr>\n",
       "      <th>1</th>\n",
       "      <td>2992450</td>\n",
       "      <td>Luxury 2 bedroom apartment</td>\n",
       "      <td>4621559</td>\n",
       "      <td>Kenneth</td>\n",
       "      <td>THIRD WARD</td>\n",
       "      <td>42.657890</td>\n",
       "      <td>-73.753700</td>\n",
       "      <td>Entire home/apt</td>\n",
       "      <td>70.0</td>\n",
       "      <td>28</td>\n",
       "      <td>9</td>\n",
       "      <td>2022-08-17</td>\n",
       "      <td>0.08</td>\n",
       "      <td>1</td>\n",
       "      <td>21</td>\n",
       "      <td>0</td>\n",
       "    </tr>\n",
       "    <tr>\n",
       "      <th>2</th>\n",
       "      <td>3820211</td>\n",
       "      <td>Restored Precinct in Center Sq. w/Parking</td>\n",
       "      <td>19648678</td>\n",
       "      <td>Terra</td>\n",
       "      <td>SIXTH WARD</td>\n",
       "      <td>42.652220</td>\n",
       "      <td>-73.767240</td>\n",
       "      <td>Entire home/apt</td>\n",
       "      <td>125.0</td>\n",
       "      <td>2</td>\n",
       "      <td>292</td>\n",
       "      <td>2024-02-18</td>\n",
       "      <td>2.51</td>\n",
       "      <td>4</td>\n",
       "      <td>360</td>\n",
       "      <td>8</td>\n",
       "    </tr>\n",
       "    <tr>\n",
       "      <th>3</th>\n",
       "      <td>5651579</td>\n",
       "      <td>Large studio apt  by Capital Center &amp; ESP@</td>\n",
       "      <td>29288920</td>\n",
       "      <td>Gregg</td>\n",
       "      <td>SECOND WARD</td>\n",
       "      <td>42.646150</td>\n",
       "      <td>-73.759660</td>\n",
       "      <td>Entire home/apt</td>\n",
       "      <td>105.0</td>\n",
       "      <td>7</td>\n",
       "      <td>337</td>\n",
       "      <td>2024-03-07</td>\n",
       "      <td>3.13</td>\n",
       "      <td>2</td>\n",
       "      <td>79</td>\n",
       "      <td>31</td>\n",
       "    </tr>\n",
       "    <tr>\n",
       "      <th>4</th>\n",
       "      <td>6623339</td>\n",
       "      <td>Center Sq. Loft in Converted Precinct w/ Parking</td>\n",
       "      <td>19648678</td>\n",
       "      <td>Terra</td>\n",
       "      <td>SIXTH WARD</td>\n",
       "      <td>42.652220</td>\n",
       "      <td>-73.767240</td>\n",
       "      <td>Entire home/apt</td>\n",
       "      <td>126.0</td>\n",
       "      <td>2</td>\n",
       "      <td>306</td>\n",
       "      <td>2023-12-26</td>\n",
       "      <td>2.87</td>\n",
       "      <td>4</td>\n",
       "      <td>0</td>\n",
       "      <td>5</td>\n",
       "    </tr>\n",
       "    <tr>\n",
       "      <th>...</th>\n",
       "      <td>...</td>\n",
       "      <td>...</td>\n",
       "      <td>...</td>\n",
       "      <td>...</td>\n",
       "      <td>...</td>\n",
       "      <td>...</td>\n",
       "      <td>...</td>\n",
       "      <td>...</td>\n",
       "      <td>...</td>\n",
       "      <td>...</td>\n",
       "      <td>...</td>\n",
       "      <td>...</td>\n",
       "      <td>...</td>\n",
       "      <td>...</td>\n",
       "      <td>...</td>\n",
       "      <td>...</td>\n",
       "    </tr>\n",
       "    <tr>\n",
       "      <th>320</th>\n",
       "      <td>1062527013885315764</td>\n",
       "      <td>private twin room prime location</td>\n",
       "      <td>20536619</td>\n",
       "      <td>Emily</td>\n",
       "      <td>THIRTEENTH WARD</td>\n",
       "      <td>42.670961</td>\n",
       "      <td>-73.795139</td>\n",
       "      <td>Private room</td>\n",
       "      <td>60.0</td>\n",
       "      <td>5</td>\n",
       "      <td>2</td>\n",
       "      <td>2024-02-10</td>\n",
       "      <td>1.50</td>\n",
       "      <td>3</td>\n",
       "      <td>179</td>\n",
       "      <td>2</td>\n",
       "    </tr>\n",
       "    <tr>\n",
       "      <th>321</th>\n",
       "      <td>1072781767409521866</td>\n",
       "      <td>The Bluebird’s Nest</td>\n",
       "      <td>426223840</td>\n",
       "      <td>Antonio</td>\n",
       "      <td>ELEVENTH WARD</td>\n",
       "      <td>42.663916</td>\n",
       "      <td>-73.777869</td>\n",
       "      <td>Entire home/apt</td>\n",
       "      <td>102.0</td>\n",
       "      <td>1</td>\n",
       "      <td>7</td>\n",
       "      <td>2024-03-03</td>\n",
       "      <td>5.68</td>\n",
       "      <td>2</td>\n",
       "      <td>256</td>\n",
       "      <td>7</td>\n",
       "    </tr>\n",
       "    <tr>\n",
       "      <th>322</th>\n",
       "      <td>1075444056381274297</td>\n",
       "      <td>The Tangerine Door</td>\n",
       "      <td>542733174</td>\n",
       "      <td>Rebecca</td>\n",
       "      <td>TWELFTH WARD</td>\n",
       "      <td>42.679082</td>\n",
       "      <td>-73.795049</td>\n",
       "      <td>Entire home/apt</td>\n",
       "      <td>125.0</td>\n",
       "      <td>2</td>\n",
       "      <td>3</td>\n",
       "      <td>2024-03-10</td>\n",
       "      <td>2.43</td>\n",
       "      <td>1</td>\n",
       "      <td>238</td>\n",
       "      <td>3</td>\n",
       "    </tr>\n",
       "    <tr>\n",
       "      <th>323</th>\n",
       "      <td>1079742757364810916</td>\n",
       "      <td>Lark St Oasis: Parking &amp; Laundry</td>\n",
       "      <td>119340359</td>\n",
       "      <td>Lori</td>\n",
       "      <td>SIXTH WARD</td>\n",
       "      <td>42.656071</td>\n",
       "      <td>-73.763453</td>\n",
       "      <td>Entire home/apt</td>\n",
       "      <td>106.0</td>\n",
       "      <td>28</td>\n",
       "      <td>6</td>\n",
       "      <td>2024-03-10</td>\n",
       "      <td>6.00</td>\n",
       "      <td>2</td>\n",
       "      <td>20</td>\n",
       "      <td>6</td>\n",
       "    </tr>\n",
       "    <tr>\n",
       "      <th>324</th>\n",
       "      <td>1104977057298366617</td>\n",
       "      <td>Safe, Affordable, Adorable w/ Hot Tub and Coffee</td>\n",
       "      <td>382970529</td>\n",
       "      <td>Thomas</td>\n",
       "      <td>THIRTEENTH WARD</td>\n",
       "      <td>42.669431</td>\n",
       "      <td>-73.798820</td>\n",
       "      <td>Private room</td>\n",
       "      <td>51.0</td>\n",
       "      <td>1</td>\n",
       "      <td>1</td>\n",
       "      <td>2024-03-07</td>\n",
       "      <td>1.00</td>\n",
       "      <td>10</td>\n",
       "      <td>0</td>\n",
       "      <td>1</td>\n",
       "    </tr>\n",
       "  </tbody>\n",
       "</table>\n",
       "<p>325 rows × 16 columns</p>\n",
       "</div>"
      ],
      "text/plain": [
       "                      id                                              name  \\\n",
       "0                1489424     Welcoming, easygoing, comfy bed, entire level   \n",
       "1                2992450                        Luxury 2 bedroom apartment   \n",
       "2                3820211         Restored Precinct in Center Sq. w/Parking   \n",
       "3                5651579        Large studio apt  by Capital Center & ESP@   \n",
       "4                6623339  Center Sq. Loft in Converted Precinct w/ Parking   \n",
       "..                   ...                                               ...   \n",
       "320  1062527013885315764                  private twin room prime location   \n",
       "321  1072781767409521866                               The Bluebird’s Nest   \n",
       "322  1075444056381274297                                The Tangerine Door   \n",
       "323  1079742757364810916                  Lark St Oasis: Parking & Laundry   \n",
       "324  1104977057298366617  Safe, Affordable, Adorable w/ Hot Tub and Coffee   \n",
       "\n",
       "       host_id host_name    neighbourhood   latitude  longitude  \\\n",
       "0      5294164     Efrat  FOURTEENTH WARD  42.667190 -73.815800   \n",
       "1      4621559   Kenneth       THIRD WARD  42.657890 -73.753700   \n",
       "2     19648678     Terra       SIXTH WARD  42.652220 -73.767240   \n",
       "3     29288920     Gregg      SECOND WARD  42.646150 -73.759660   \n",
       "4     19648678     Terra       SIXTH WARD  42.652220 -73.767240   \n",
       "..         ...       ...              ...        ...        ...   \n",
       "320   20536619     Emily  THIRTEENTH WARD  42.670961 -73.795139   \n",
       "321  426223840   Antonio    ELEVENTH WARD  42.663916 -73.777869   \n",
       "322  542733174   Rebecca     TWELFTH WARD  42.679082 -73.795049   \n",
       "323  119340359      Lori       SIXTH WARD  42.656071 -73.763453   \n",
       "324  382970529    Thomas  THIRTEENTH WARD  42.669431 -73.798820   \n",
       "\n",
       "           room_type  price  minimum_nights  number_of_reviews last_review  \\\n",
       "0       Private room   50.0               1                248  2024-02-27   \n",
       "1    Entire home/apt   70.0              28                  9  2022-08-17   \n",
       "2    Entire home/apt  125.0               2                292  2024-02-18   \n",
       "3    Entire home/apt  105.0               7                337  2024-03-07   \n",
       "4    Entire home/apt  126.0               2                306  2023-12-26   \n",
       "..               ...    ...             ...                ...         ...   \n",
       "320     Private room   60.0               5                  2  2024-02-10   \n",
       "321  Entire home/apt  102.0               1                  7  2024-03-03   \n",
       "322  Entire home/apt  125.0               2                  3  2024-03-10   \n",
       "323  Entire home/apt  106.0              28                  6  2024-03-10   \n",
       "324     Private room   51.0               1                  1  2024-03-07   \n",
       "\n",
       "     reviews_per_month  calculated_host_listings_count  availability_365  \\\n",
       "0                 1.94                               1               233   \n",
       "1                 0.08                               1                21   \n",
       "2                 2.51                               4               360   \n",
       "3                 3.13                               2                79   \n",
       "4                 2.87                               4                 0   \n",
       "..                 ...                             ...               ...   \n",
       "320               1.50                               3               179   \n",
       "321               5.68                               2               256   \n",
       "322               2.43                               1               238   \n",
       "323               6.00                               2                20   \n",
       "324               1.00                              10                 0   \n",
       "\n",
       "     number_of_reviews_ltm  \n",
       "0                       50  \n",
       "1                        0  \n",
       "2                        8  \n",
       "3                       31  \n",
       "4                        5  \n",
       "..                     ...  \n",
       "320                      2  \n",
       "321                      7  \n",
       "322                      3  \n",
       "323                      6  \n",
       "324                      1  \n",
       "\n",
       "[325 rows x 16 columns]"
      ]
     },
     "execution_count": 37,
     "metadata": {},
     "output_type": "execute_result"
    }
   ],
   "source": [
    "df"
   ]
  },
  {
   "cell_type": "markdown",
   "id": "9d7e5445",
   "metadata": {},
   "source": [
    "## Univariate analysis"
   ]
  },
  {
   "cell_type": "code",
   "execution_count": 38,
   "id": "f1fe3349",
   "metadata": {},
   "outputs": [
    {
     "data": {
      "text/plain": [
       "<Axes: xlabel='room_type'>"
      ]
     },
     "execution_count": 38,
     "metadata": {},
     "output_type": "execute_result"
    },
    {
     "data": {
      "image/png": "[encoded data removed]",
      "text/plain": [
       "<Figure size 640x480 with 1 Axes>"
      ]
     },
     "metadata": {},
     "output_type": "display_data"
    }
   ],
   "source": [
    "df.room_type.value_counts().plot(kind = \"bar\")"
   ]
  },
  {
   "cell_type": "code",
   "execution_count": 39,
   "id": "65ff461f",
   "metadata": {},
   "outputs": [
    {
     "data": {
      "text/html": [
       "<div>\n",
       "<style scoped>\n",
       "    .dataframe tbody tr th:only-of-type {\n",
       "        vertical-align: middle;\n",
       "    }\n",
       "\n",
       "    .dataframe tbody tr th {\n",
       "        vertical-align: top;\n",
       "    }\n",
       "\n",
       "    .dataframe thead th {\n",
       "        text-align: right;\n",
       "    }\n",
       "</style>\n",
       "<table border=\"1\" class=\"dataframe\">\n",
       "  <thead>\n",
       "    <tr style=\"text-align: right;\">\n",
       "      <th></th>\n",
       "      <th>id</th>\n",
       "      <th>name</th>\n",
       "      <th>host_id</th>\n",
       "      <th>host_name</th>\n",
       "      <th>neighbourhood</th>\n",
       "      <th>latitude</th>\n",
       "      <th>longitude</th>\n",
       "      <th>room_type</th>\n",
       "      <th>price</th>\n",
       "      <th>minimum_nights</th>\n",
       "      <th>number_of_reviews</th>\n",
       "      <th>last_review</th>\n",
       "      <th>reviews_per_month</th>\n",
       "      <th>calculated_host_listings_count</th>\n",
       "      <th>availability_365</th>\n",
       "      <th>number_of_reviews_ltm</th>\n",
       "    </tr>\n",
       "  </thead>\n",
       "  <tbody>\n",
       "    <tr>\n",
       "      <th>0</th>\n",
       "      <td>1489424</td>\n",
       "      <td>Welcoming, easygoing, comfy bed, entire level</td>\n",
       "      <td>5294164</td>\n",
       "      <td>Efrat</td>\n",
       "      <td>FOURTEENTH WARD</td>\n",
       "      <td>42.667190</td>\n",
       "      <td>-73.815800</td>\n",
       "      <td>Private room</td>\n",
       "      <td>50.0</td>\n",
       "      <td>1</td>\n",
       "      <td>248</td>\n",
       "      <td>2024-02-27</td>\n",
       "      <td>1.94</td>\n",
       "      <td>1</td>\n",
       "      <td>233</td>\n",
       "      <td>50</td>\n",
       "    </tr>\n",
       "    <tr>\n",
       "      <th>1</th>\n",
       "      <td>2992450</td>\n",
       "      <td>Luxury 2 bedroom apartment</td>\n",
       "      <td>4621559</td>\n",
       "      <td>Kenneth</td>\n",
       "      <td>THIRD WARD</td>\n",
       "      <td>42.657890</td>\n",
       "      <td>-73.753700</td>\n",
       "      <td>Entire home/apt</td>\n",
       "      <td>70.0</td>\n",
       "      <td>28</td>\n",
       "      <td>9</td>\n",
       "      <td>2022-08-17</td>\n",
       "      <td>0.08</td>\n",
       "      <td>1</td>\n",
       "      <td>21</td>\n",
       "      <td>0</td>\n",
       "    </tr>\n",
       "    <tr>\n",
       "      <th>2</th>\n",
       "      <td>3820211</td>\n",
       "      <td>Restored Precinct in Center Sq. w/Parking</td>\n",
       "      <td>19648678</td>\n",
       "      <td>Terra</td>\n",
       "      <td>SIXTH WARD</td>\n",
       "      <td>42.652220</td>\n",
       "      <td>-73.767240</td>\n",
       "      <td>Entire home/apt</td>\n",
       "      <td>125.0</td>\n",
       "      <td>2</td>\n",
       "      <td>292</td>\n",
       "      <td>2024-02-18</td>\n",
       "      <td>2.51</td>\n",
       "      <td>4</td>\n",
       "      <td>360</td>\n",
       "      <td>8</td>\n",
       "    </tr>\n",
       "    <tr>\n",
       "      <th>3</th>\n",
       "      <td>5651579</td>\n",
       "      <td>Large studio apt  by Capital Center &amp; ESP@</td>\n",
       "      <td>29288920</td>\n",
       "      <td>Gregg</td>\n",
       "      <td>SECOND WARD</td>\n",
       "      <td>42.646150</td>\n",
       "      <td>-73.759660</td>\n",
       "      <td>Entire home/apt</td>\n",
       "      <td>105.0</td>\n",
       "      <td>7</td>\n",
       "      <td>337</td>\n",
       "      <td>2024-03-07</td>\n",
       "      <td>3.13</td>\n",
       "      <td>2</td>\n",
       "      <td>79</td>\n",
       "      <td>31</td>\n",
       "    </tr>\n",
       "    <tr>\n",
       "      <th>4</th>\n",
       "      <td>6623339</td>\n",
       "      <td>Center Sq. Loft in Converted Precinct w/ Parking</td>\n",
       "      <td>19648678</td>\n",
       "      <td>Terra</td>\n",
       "      <td>SIXTH WARD</td>\n",
       "      <td>42.652220</td>\n",
       "      <td>-73.767240</td>\n",
       "      <td>Entire home/apt</td>\n",
       "      <td>126.0</td>\n",
       "      <td>2</td>\n",
       "      <td>306</td>\n",
       "      <td>2023-12-26</td>\n",
       "      <td>2.87</td>\n",
       "      <td>4</td>\n",
       "      <td>0</td>\n",
       "      <td>5</td>\n",
       "    </tr>\n",
       "    <tr>\n",
       "      <th>...</th>\n",
       "      <td>...</td>\n",
       "      <td>...</td>\n",
       "      <td>...</td>\n",
       "      <td>...</td>\n",
       "      <td>...</td>\n",
       "      <td>...</td>\n",
       "      <td>...</td>\n",
       "      <td>...</td>\n",
       "      <td>...</td>\n",
       "      <td>...</td>\n",
       "      <td>...</td>\n",
       "      <td>...</td>\n",
       "      <td>...</td>\n",
       "      <td>...</td>\n",
       "      <td>...</td>\n",
       "      <td>...</td>\n",
       "    </tr>\n",
       "    <tr>\n",
       "      <th>320</th>\n",
       "      <td>1062527013885315764</td>\n",
       "      <td>private twin room prime location</td>\n",
       "      <td>20536619</td>\n",
       "      <td>Emily</td>\n",
       "      <td>THIRTEENTH WARD</td>\n",
       "      <td>42.670961</td>\n",
       "      <td>-73.795139</td>\n",
       "      <td>Private room</td>\n",
       "      <td>60.0</td>\n",
       "      <td>5</td>\n",
       "      <td>2</td>\n",
       "      <td>2024-02-10</td>\n",
       "      <td>1.50</td>\n",
       "      <td>3</td>\n",
       "      <td>179</td>\n",
       "      <td>2</td>\n",
       "    </tr>\n",
       "    <tr>\n",
       "      <th>321</th>\n",
       "      <td>1072781767409521866</td>\n",
       "      <td>The Bluebird’s Nest</td>\n",
       "      <td>426223840</td>\n",
       "      <td>Antonio</td>\n",
       "      <td>ELEVENTH WARD</td>\n",
       "      <td>42.663916</td>\n",
       "      <td>-73.777869</td>\n",
       "      <td>Entire home/apt</td>\n",
       "      <td>102.0</td>\n",
       "      <td>1</td>\n",
       "      <td>7</td>\n",
       "      <td>2024-03-03</td>\n",
       "      <td>5.68</td>\n",
       "      <td>2</td>\n",
       "      <td>256</td>\n",
       "      <td>7</td>\n",
       "    </tr>\n",
       "    <tr>\n",
       "      <th>322</th>\n",
       "      <td>1075444056381274297</td>\n",
       "      <td>The Tangerine Door</td>\n",
       "      <td>542733174</td>\n",
       "      <td>Rebecca</td>\n",
       "      <td>TWELFTH WARD</td>\n",
       "      <td>42.679082</td>\n",
       "      <td>-73.795049</td>\n",
       "      <td>Entire home/apt</td>\n",
       "      <td>125.0</td>\n",
       "      <td>2</td>\n",
       "      <td>3</td>\n",
       "      <td>2024-03-10</td>\n",
       "      <td>2.43</td>\n",
       "      <td>1</td>\n",
       "      <td>238</td>\n",
       "      <td>3</td>\n",
       "    </tr>\n",
       "    <tr>\n",
       "      <th>323</th>\n",
       "      <td>1079742757364810916</td>\n",
       "      <td>Lark St Oasis: Parking &amp; Laundry</td>\n",
       "      <td>119340359</td>\n",
       "      <td>Lori</td>\n",
       "      <td>SIXTH WARD</td>\n",
       "      <td>42.656071</td>\n",
       "      <td>-73.763453</td>\n",
       "      <td>Entire home/apt</td>\n",
       "      <td>106.0</td>\n",
       "      <td>28</td>\n",
       "      <td>6</td>\n",
       "      <td>2024-03-10</td>\n",
       "      <td>6.00</td>\n",
       "      <td>2</td>\n",
       "      <td>20</td>\n",
       "      <td>6</td>\n",
       "    </tr>\n",
       "    <tr>\n",
       "      <th>324</th>\n",
       "      <td>1104977057298366617</td>\n",
       "      <td>Safe, Affordable, Adorable w/ Hot Tub and Coffee</td>\n",
       "      <td>382970529</td>\n",
       "      <td>Thomas</td>\n",
       "      <td>THIRTEENTH WARD</td>\n",
       "      <td>42.669431</td>\n",
       "      <td>-73.798820</td>\n",
       "      <td>Private room</td>\n",
       "      <td>51.0</td>\n",
       "      <td>1</td>\n",
       "      <td>1</td>\n",
       "      <td>2024-03-07</td>\n",
       "      <td>1.00</td>\n",
       "      <td>10</td>\n",
       "      <td>0</td>\n",
       "      <td>1</td>\n",
       "    </tr>\n",
       "  </tbody>\n",
       "</table>\n",
       "<p>325 rows × 16 columns</p>\n",
       "</div>"
      ],
      "text/plain": [
       "                      id                                              name  \\\n",
       "0                1489424     Welcoming, easygoing, comfy bed, entire level   \n",
       "1                2992450                        Luxury 2 bedroom apartment   \n",
       "2                3820211         Restored Precinct in Center Sq. w/Parking   \n",
       "3                5651579        Large studio apt  by Capital Center & ESP@   \n",
       "4                6623339  Center Sq. Loft in Converted Precinct w/ Parking   \n",
       "..                   ...                                               ...   \n",
       "320  1062527013885315764                  private twin room prime location   \n",
       "321  1072781767409521866                               The Bluebird’s Nest   \n",
       "322  1075444056381274297                                The Tangerine Door   \n",
       "323  1079742757364810916                  Lark St Oasis: Parking & Laundry   \n",
       "324  1104977057298366617  Safe, Affordable, Adorable w/ Hot Tub and Coffee   \n",
       "\n",
       "       host_id host_name    neighbourhood   latitude  longitude  \\\n",
       "0      5294164     Efrat  FOURTEENTH WARD  42.667190 -73.815800   \n",
       "1      4621559   Kenneth       THIRD WARD  42.657890 -73.753700   \n",
       "2     19648678     Terra       SIXTH WARD  42.652220 -73.767240   \n",
       "3     29288920     Gregg      SECOND WARD  42.646150 -73.759660   \n",
       "4     19648678     Terra       SIXTH WARD  42.652220 -73.767240   \n",
       "..         ...       ...              ...        ...        ...   \n",
       "320   20536619     Emily  THIRTEENTH WARD  42.670961 -73.795139   \n",
       "321  426223840   Antonio    ELEVENTH WARD  42.663916 -73.777869   \n",
       "322  542733174   Rebecca     TWELFTH WARD  42.679082 -73.795049   \n",
       "323  119340359      Lori       SIXTH WARD  42.656071 -73.763453   \n",
       "324  382970529    Thomas  THIRTEENTH WARD  42.669431 -73.798820   \n",
       "\n",
       "           room_type  price  minimum_nights  number_of_reviews last_review  \\\n",
       "0       Private room   50.0               1                248  2024-02-27   \n",
       "1    Entire home/apt   70.0              28                  9  2022-08-17   \n",
       "2    Entire home/apt  125.0               2                292  2024-02-18   \n",
       "3    Entire home/apt  105.0               7                337  2024-03-07   \n",
       "4    Entire home/apt  126.0               2                306  2023-12-26   \n",
       "..               ...    ...             ...                ...         ...   \n",
       "320     Private room   60.0               5                  2  2024-02-10   \n",
       "321  Entire home/apt  102.0               1                  7  2024-03-03   \n",
       "322  Entire home/apt  125.0               2                  3  2024-03-10   \n",
       "323  Entire home/apt  106.0              28                  6  2024-03-10   \n",
       "324     Private room   51.0               1                  1  2024-03-07   \n",
       "\n",
       "     reviews_per_month  calculated_host_listings_count  availability_365  \\\n",
       "0                 1.94                               1               233   \n",
       "1                 0.08                               1                21   \n",
       "2                 2.51                               4               360   \n",
       "3                 3.13                               2                79   \n",
       "4                 2.87                               4                 0   \n",
       "..                 ...                             ...               ...   \n",
       "320               1.50                               3               179   \n",
       "321               5.68                               2               256   \n",
       "322               2.43                               1               238   \n",
       "323               6.00                               2                20   \n",
       "324               1.00                              10                 0   \n",
       "\n",
       "     number_of_reviews_ltm  \n",
       "0                       50  \n",
       "1                        0  \n",
       "2                        8  \n",
       "3                       31  \n",
       "4                        5  \n",
       "..                     ...  \n",
       "320                      2  \n",
       "321                      7  \n",
       "322                      3  \n",
       "323                      6  \n",
       "324                      1  \n",
       "\n",
       "[325 rows x 16 columns]"
      ]
     },
     "execution_count": 39,
     "metadata": {},
     "output_type": "execute_result"
    }
   ],
   "source": [
    "df"
   ]
  },
  {
   "cell_type": "code",
   "execution_count": 40,
   "id": "763aa2bd",
   "metadata": {},
   "outputs": [
    {
     "data": {
      "text/plain": [
       "<Axes: xlabel='host_name'>"
      ]
     },
     "execution_count": 40,
     "metadata": {},
     "output_type": "execute_result"
    },
    {
     "data": {
      "image/png": "[encoded data removed]",
      "text/plain": [
       "<Figure size 640x480 with 1 Axes>"
      ]
     },
     "metadata": {},
     "output_type": "display_data"
    }
   ],
   "source": [
    "df.host_name.value_counts()[:10].plot(kind = \"bar\")"
   ]
  },
  {
   "cell_type": "code",
   "execution_count": null,
   "id": "d5c00239-461c-4582-95c4-3f69edf794d2",
   "metadata": {},
   "outputs": [],
   "source": []
  },
  {
   "cell_type": "code",
   "execution_count": 41,
   "id": "6f317a8b-cd5b-4ec1-ae37-a09bb109a287",
   "metadata": {},
   "outputs": [
    {
     "data": {
      "application/vnd.plotly.v1+json": {
       "config": {
        "plotlyServerURL": "https://plot.ly"
       },
       "data": [
        {
         "hovertemplate": "Contestant=Entire home/apt<br>Fruit=%{x}<br>Number Eaten=%{y}<extra></extra>",
         "name": "Entire home/apt",
         "type": "bar",
         "x": [
          28,
          2,
          7,
          2,
          3,
          1,
          1,
          1,
          2,
          1,
          1,
          1,
          1,
          2,
          2,
          2,
          4,
          2,
          1,
          1,
          1,
          2,
          1,
          1,
          2,
          1,
          1,
          1,
          1,
          2,
          4,
          5,
          1,
          1,
          1,
          2,
          1,
          7,
          30,
          7,
          2,
          4,
          1,
          2,
          1,
          1,
          1,
          2,
          2,
          1,
          1,
          1,
          1,
          3,
          2,
          3,
          4,
          14,
          1,
          1,
          1,
          2,
          2,
          1,
          2,
          1,
          1,
          7,
          4,
          1,
          3,
          2,
          1,
          3,
          1,
          1,
          2,
          1,
          2,
          30,
          2,
          1,
          1,
          1,
          2,
          1,
          1,
          1,
          1,
          1,
          1,
          1,
          1,
          1,
          2,
          3,
          2,
          2,
          1,
          1,
          13,
          1,
          2,
          1,
          4,
          13,
          2,
          1,
          2,
          1,
          1,
          1,
          1,
          1,
          3,
          14,
          1,
          2,
          1,
          4,
          5,
          2,
          1,
          1,
          1,
          1,
          1,
          13,
          1,
          2,
          1,
          2,
          14,
          1,
          1,
          3,
          1,
          2,
          1,
          2,
          2,
          2,
          7,
          2,
          1,
          1,
          2,
          1,
          1,
          2,
          1,
          1,
          3,
          3,
          3,
          30,
          2,
          1,
          1,
          3,
          1,
          1,
          2,
          2,
          2,
          3,
          1,
          3,
          1,
          2,
          1,
          2,
          2,
          1,
          2,
          1,
          2,
          1,
          3,
          7,
          3,
          1,
          1,
          1,
          1,
          1,
          1,
          1,
          1,
          3,
          1,
          3,
          1,
          1,
          2,
          1,
          30,
          1,
          1,
          3,
          2,
          2,
          1,
          2,
          1,
          1,
          1,
          1,
          1,
          1,
          1,
          1,
          1,
          1,
          2,
          3,
          2,
          1,
          1,
          2,
          1,
          28,
          1,
          2,
          1,
          2,
          28
         ],
         "y": [
          1,
          4,
          2,
          4,
          1,
          1,
          2,
          9,
          1,
          9,
          2,
          9,
          9,
          2,
          8,
          8,
          9,
          9,
          2,
          2,
          1,
          1,
          6,
          6,
          4,
          6,
          6,
          22,
          22,
          8,
          3,
          8,
          2,
          1,
          2,
          9,
          1,
          1,
          1,
          8,
          4,
          3,
          5,
          22,
          3,
          3,
          1,
          4,
          1,
          15,
          15,
          15,
          1,
          9,
          4,
          9,
          3,
          2,
          2,
          5,
          2,
          5,
          1,
          15,
          1,
          15,
          1,
          1,
          1,
          15,
          3,
          5,
          1,
          9,
          1,
          2,
          5,
          22,
          22,
          1,
          22,
          22,
          15,
          3,
          2,
          22,
          3,
          3,
          15,
          9,
          8,
          8,
          8,
          1,
          4,
          9,
          9,
          9,
          22,
          15,
          5,
          22,
          1,
          3,
          1,
          5,
          1,
          3,
          4,
          1,
          15,
          15,
          2,
          3,
          4,
          5,
          3,
          2,
          15,
          1,
          3,
          1,
          1,
          22,
          3,
          2,
          1,
          5,
          3,
          22,
          1,
          1,
          1,
          6,
          22,
          1,
          2,
          2,
          1,
          1,
          2,
          2,
          8,
          22,
          8,
          1,
          1,
          1,
          6,
          1,
          5,
          22,
          4,
          1,
          1,
          1,
          5,
          1,
          1,
          1,
          8,
          2,
          1,
          2,
          1,
          2,
          1,
          3,
          1,
          2,
          8,
          1,
          5,
          8,
          1,
          15,
          9,
          5,
          1,
          1,
          1,
          1,
          22,
          22,
          12,
          6,
          2,
          6,
          1,
          3,
          1,
          1,
          1,
          1,
          1,
          2,
          1,
          1,
          1,
          9,
          2,
          1,
          1,
          1,
          4,
          6,
          22,
          1,
          2,
          8,
          1,
          15,
          15,
          3,
          1,
          4,
          1,
          1,
          2,
          1,
          1,
          1,
          1,
          1,
          2,
          1,
          2
         ]
        },
        {
         "hovertemplate": "Contestant=Private room<br>Fruit=%{x}<br>Number Eaten=%{y}<extra></extra>",
         "name": "Private room",
         "type": "bar",
         "x": [
          1,
          1,
          3,
          2,
          1,
          10,
          5,
          10,
          2,
          3,
          10,
          1,
          1,
          14,
          1,
          4,
          2,
          4,
          4,
          4,
          4,
          10,
          10,
          10,
          2,
          2,
          2,
          3,
          2,
          1,
          1,
          2,
          1,
          2,
          2,
          1,
          1,
          1,
          1,
          2,
          2,
          3,
          2,
          2,
          2,
          2,
          2,
          1,
          4,
          4,
          4,
          10,
          1,
          1,
          10,
          10,
          30,
          30,
          30,
          30,
          2,
          3,
          1,
          1,
          1,
          1,
          2,
          1,
          1,
          1,
          2,
          2,
          1,
          5,
          3,
          1,
          1,
          1,
          1,
          1,
          1,
          1,
          1,
          1,
          1,
          1,
          2,
          2,
          2,
          1,
          2,
          1,
          1,
          1,
          1,
          5,
          1
         ],
         "y": [
          1,
          6,
          2,
          2,
          2,
          4,
          2,
          4,
          4,
          2,
          4,
          1,
          3,
          4,
          6,
          6,
          6,
          6,
          6,
          6,
          6,
          3,
          3,
          3,
          8,
          1,
          8,
          1,
          8,
          1,
          3,
          4,
          1,
          8,
          1,
          3,
          2,
          1,
          1,
          10,
          8,
          3,
          1,
          4,
          4,
          4,
          4,
          10,
          4,
          4,
          4,
          3,
          10,
          10,
          3,
          3,
          3,
          3,
          3,
          1,
          8,
          2,
          3,
          1,
          6,
          6,
          4,
          6,
          6,
          6,
          4,
          2,
          1,
          3,
          2,
          2,
          2,
          3,
          2,
          2,
          6,
          12,
          12,
          12,
          12,
          12,
          4,
          4,
          3,
          6,
          4,
          10,
          10,
          10,
          10,
          3,
          10
         ]
        },
        {
         "hovertemplate": "Contestant=Shared room<br>Fruit=%{x}<br>Number Eaten=%{y}<extra></extra>",
         "name": "Shared room",
         "type": "bar",
         "x": [
          1
         ],
         "y": [
          1
         ]
        }
       ],
       "layout": {
        "autosize": true,
        "legend": {
         "title": {
          "text": "Contestant"
         }
        },
        "template": {
         "data": {
          "bar": [
           {
            "error_x": {
             "color": "#2a3f5f"
            },
            "error_y": {
             "color": "#2a3f5f"
            },
            "marker": {
             "line": {
              "color": "#E5ECF6",
              "width": 0.5
             },
             "pattern": {
              "fillmode": "overlay",
              "size": 10,
              "solidity": 0.2
             }
            },
            "type": "bar"
           }
          ],
          "barpolar": [
           {
            "marker": {
             "line": {
              "color": "#E5ECF6",
              "width": 0.5
             },
             "pattern": {
              "fillmode": "overlay",
              "size": 10,
              "solidity": 0.2
             }
            },
            "type": "barpolar"
           }
          ],
          "carpet": [
           {
            "aaxis": {
             "endlinecolor": "#2a3f5f",
             "gridcolor": "white",
             "linecolor": "white",
             "minorgridcolor": "white",
             "startlinecolor": "#2a3f5f"
            },
            "baxis": {
             "endlinecolor": "#2a3f5f",
             "gridcolor": "white",
             "linecolor": "white",
             "minorgridcolor": "white",
             "startlinecolor": "#2a3f5f"
            },
            "type": "carpet"
           }
          ],
          "choropleth": [
           {
            "colorbar": {
             "outlinewidth": 0,
             "ticks": ""
            },
            "type": "choropleth"
           }
          ],
          "contour": [
           {
            "colorbar": {
             "outlinewidth": 0,
             "ticks": ""
            },
            "colorscale": [
             [
              0,
              "#0d0887"
             ],
             [
              0.1111111111111111,
              "#46039f"
             ],
             [
              0.2222222222222222,
              "#7201a8"
             ],
             [
              0.3333333333333333,
              "#9c179e"
             ],
             [
              0.4444444444444444,
              "#bd3786"
             ],
             [
              0.5555555555555556,
              "#d8576b"
             ],
             [
              0.6666666666666666,
              "#ed7953"
             ],
             [
              0.7777777777777778,
              "#fb9f3a"
             ],
             [
              0.8888888888888888,
              "#fdca26"
             ],
             [
              1,
              "#f0f921"
             ]
            ],
            "type": "contour"
           }
          ],
          "contourcarpet": [
           {
            "colorbar": {
             "outlinewidth": 0,
             "ticks": ""
            },
            "type": "contourcarpet"
           }
          ],
          "heatmap": [
           {
            "colorbar": {
             "outlinewidth": 0,
             "ticks": ""
            },
            "colorscale": [
             [
              0,
              "#0d0887"
             ],
             [
              0.1111111111111111,
              "#46039f"
             ],
             [
              0.2222222222222222,
              "#7201a8"
             ],
             [
              0.3333333333333333,
              "#9c179e"
             ],
             [
              0.4444444444444444,
              "#bd3786"
             ],
             [
              0.5555555555555556,
              "#d8576b"
             ],
             [
              0.6666666666666666,
              "#ed7953"
             ],
             [
              0.7777777777777778,
              "#fb9f3a"
             ],
             [
              0.8888888888888888,
              "#fdca26"
             ],
             [
              1,
              "#f0f921"
             ]
            ],
            "type": "heatmap"
           }
          ],
          "heatmapgl": [
           {
            "colorbar": {
             "outlinewidth": 0,
             "ticks": ""
            },
            "colorscale": [
             [
              0,
              "#0d0887"
             ],
             [
              0.1111111111111111,
              "#46039f"
             ],
             [
              0.2222222222222222,
              "#7201a8"
             ],
             [
              0.3333333333333333,
              "#9c179e"
             ],
             [
              0.4444444444444444,
              "#bd3786"
             ],
             [
              0.5555555555555556,
              "#d8576b"
             ],
             [
              0.6666666666666666,
              "#ed7953"
             ],
             [
              0.7777777777777778,
              "#fb9f3a"
             ],
             [
              0.8888888888888888,
              "#fdca26"
             ],
             [
              1,
              "#f0f921"
             ]
            ],
            "type": "heatmapgl"
           }
          ],
          "histogram": [
           {
            "marker": {
             "pattern": {
              "fillmode": "overlay",
              "size": 10,
              "solidity": 0.2
             }
            },
            "type": "histogram"
           }
          ],
          "histogram2d": [
           {
            "colorbar": {
             "outlinewidth": 0,
             "ticks": ""
            },
            "colorscale": [
             [
              0,
              "#0d0887"
             ],
             [
              0.1111111111111111,
              "#46039f"
             ],
             [
              0.2222222222222222,
              "#7201a8"
             ],
             [
              0.3333333333333333,
              "#9c179e"
             ],
             [
              0.4444444444444444,
              "#bd3786"
             ],
             [
              0.5555555555555556,
              "#d8576b"
             ],
             [
              0.6666666666666666,
              "#ed7953"
             ],
             [
              0.7777777777777778,
              "#fb9f3a"
             ],
             [
              0.8888888888888888,
              "#fdca26"
             ],
             [
              1,
              "#f0f921"
             ]
            ],
            "type": "histogram2d"
           }
          ],
          "histogram2dcontour": [
           {
            "colorbar": {
             "outlinewidth": 0,
             "ticks": ""
            },
            "colorscale": [
             [
              0,
              "#0d0887"
             ],
             [
              0.1111111111111111,
              "#46039f"
             ],
             [
              0.2222222222222222,
              "#7201a8"
             ],
             [
              0.3333333333333333,
              "#9c179e"
             ],
             [
              0.4444444444444444,
              "#bd3786"
             ],
             [
              0.5555555555555556,
              "#d8576b"
             ],
             [
              0.6666666666666666,
              "#ed7953"
             ],
             [
              0.7777777777777778,
              "#fb9f3a"
             ],
             [
              0.8888888888888888,
              "#fdca26"
             ],
             [
              1,
              "#f0f921"
             ]
            ],
            "type": "histogram2dcontour"
           }
          ],
          "mesh3d": [
           {
            "colorbar": {
             "outlinewidth": 0,
             "ticks": ""
            },
            "type": "mesh3d"
           }
          ],
          "parcoords": [
           {
            "line": {
             "colorbar": {
              "outlinewidth": 0,
              "ticks": ""
             }
            },
            "type": "parcoords"
           }
          ],
          "pie": [
           {
            "automargin": true,
            "type": "pie"
           }
          ],
          "scatter": [
           {
            "fillpattern": {
             "fillmode": "overlay",
             "size": 10,
             "solidity": 0.2
            },
            "type": "scatter"
           }
          ],
          "scatter3d": [
           {
            "line": {
             "colorbar": {
              "outlinewidth": 0,
              "ticks": ""
             }
            },
            "marker": {
             "colorbar": {
              "outlinewidth": 0,
              "ticks": ""
             }
            },
            "type": "scatter3d"
           }
          ],
          "scattercarpet": [
           {
            "marker": {
             "colorbar": {
              "outlinewidth": 0,
              "ticks": ""
             }
            },
            "type": "scattercarpet"
           }
          ],
          "scattergeo": [
           {
            "marker": {
             "colorbar": {
              "outlinewidth": 0,
              "ticks": ""
             }
            },
            "type": "scattergeo"
           }
          ],
          "scattergl": [
           {
            "marker": {
             "colorbar": {
              "outlinewidth": 0,
              "ticks": ""
             }
            },
            "type": "scattergl"
           }
          ],
          "scattermapbox": [
           {
            "marker": {
             "colorbar": {
              "outlinewidth": 0,
              "ticks": ""
             }
            },
            "type": "scattermapbox"
           }
          ],
          "scatterpolar": [
           {
            "marker": {
             "colorbar": {
              "outlinewidth": 0,
              "ticks": ""
             }
            },
            "type": "scatterpolar"
           }
          ],
          "scatterpolargl": [
           {
            "marker": {
             "colorbar": {
              "outlinewidth": 0,
              "ticks": ""
             }
            },
            "type": "scatterpolargl"
           }
          ],
          "scatterternary": [
           {
            "marker": {
             "colorbar": {
              "outlinewidth": 0,
              "ticks": ""
             }
            },
            "type": "scatterternary"
           }
          ],
          "surface": [
           {
            "colorbar": {
             "outlinewidth": 0,
             "ticks": ""
            },
            "colorscale": [
             [
              0,
              "#0d0887"
             ],
             [
              0.1111111111111111,
              "#46039f"
             ],
             [
              0.2222222222222222,
              "#7201a8"
             ],
             [
              0.3333333333333333,
              "#9c179e"
             ],
             [
              0.4444444444444444,
              "#bd3786"
             ],
             [
              0.5555555555555556,
              "#d8576b"
             ],
             [
              0.6666666666666666,
              "#ed7953"
             ],
             [
              0.7777777777777778,
              "#fb9f3a"
             ],
             [
              0.8888888888888888,
              "#fdca26"
             ],
             [
              1,
              "#f0f921"
             ]
            ],
            "type": "surface"
           }
          ],
          "table": [
           {
            "cells": {
             "fill": {
              "color": "#EBF0F8"
             },
             "line": {
              "color": "white"
             }
            },
            "header": {
             "fill": {
              "color": "#C8D4E3"
             },
             "line": {
              "color": "white"
             }
            },
            "type": "table"
           }
          ]
         },
         "layout": {
          "annotationdefaults": {
           "arrowcolor": "#2a3f5f",
           "arrowhead": 0,
           "arrowwidth": 1
          },
          "autotypenumbers": "strict",
          "coloraxis": {
           "colorbar": {
            "outlinewidth": 0,
            "ticks": ""
           }
          },
          "colorscale": {
           "diverging": [
            [
             0,
             "#8e0152"
            ],
            [
             0.1,
             "#c51b7d"
            ],
            [
             0.2,
             "#de77ae"
            ],
            [
             0.3,
             "#f1b6da"
            ],
            [
             0.4,
             "#fde0ef"
            ],
            [
             0.5,
             "#f7f7f7"
            ],
            [
             0.6,
             "#e6f5d0"
            ],
            [
             0.7,
             "#b8e186"
            ],
            [
             0.8,
             "#7fbc41"
            ],
            [
             0.9,
             "#4d9221"
            ],
            [
             1,
             "#276419"
            ]
           ],
           "sequential": [
            [
             0,
             "#0d0887"
            ],
            [
             0.1111111111111111,
             "#46039f"
            ],
            [
             0.2222222222222222,
             "#7201a8"
            ],
            [
             0.3333333333333333,
             "#9c179e"
            ],
            [
             0.4444444444444444,
             "#bd3786"
            ],
            [
             0.5555555555555556,
             "#d8576b"
            ],
            [
             0.6666666666666666,
             "#ed7953"
            ],
            [
             0.7777777777777778,
             "#fb9f3a"
            ],
            [
             0.8888888888888888,
             "#fdca26"
            ],
            [
             1,
             "#f0f921"
            ]
           ],
           "sequentialminus": [
            [
             0,
             "#0d0887"
            ],
            [
             0.1111111111111111,
             "#46039f"
            ],
            [
             0.2222222222222222,
             "#7201a8"
            ],
            [
             0.3333333333333333,
             "#9c179e"
            ],
            [
             0.4444444444444444,
             "#bd3786"
            ],
            [
             0.5555555555555556,
             "#d8576b"
            ],
            [
             0.6666666666666666,
             "#ed7953"
            ],
            [
             0.7777777777777778,
             "#fb9f3a"
            ],
            [
             0.8888888888888888,
             "#fdca26"
            ],
            [
             1,
             "#f0f921"
            ]
           ]
          },
          "colorway": [
           "#636efa",
           "#EF553B",
           "#00cc96",
           "#ab63fa",
           "#FFA15A",
           "#19d3f3",
           "#FF6692",
           "#B6E880",
           "#FF97FF",
           "#FECB52"
          ],
          "font": {
           "color": "#2a3f5f"
          },
          "geo": {
           "bgcolor": "white",
           "lakecolor": "white",
           "landcolor": "#E5ECF6",
           "showlakes": true,
           "showland": true,
           "subunitcolor": "white"
          },
          "hoverlabel": {
           "align": "left"
          },
          "hovermode": "closest",
          "mapbox": {
           "style": "light"
          },
          "paper_bgcolor": "white",
          "plot_bgcolor": "#E5ECF6",
          "polar": {
           "angularaxis": {
            "gridcolor": "white",
            "linecolor": "white",
            "ticks": ""
           },
           "bgcolor": "#E5ECF6",
           "radialaxis": {
            "gridcolor": "white",
            "linecolor": "white",
            "ticks": ""
           }
          },
          "scene": {
           "xaxis": {
            "backgroundcolor": "#E5ECF6",
            "gridcolor": "white",
            "gridwidth": 2,
            "linecolor": "white",
            "showbackground": true,
            "ticks": "",
            "zerolinecolor": "white"
           },
           "yaxis": {
            "backgroundcolor": "#E5ECF6",
            "gridcolor": "white",
            "gridwidth": 2,
            "linecolor": "white",
            "showbackground": true,
            "ticks": "",
            "zerolinecolor": "white"
           },
           "zaxis": {
            "backgroundcolor": "#E5ECF6",
            "gridcolor": "white",
            "gridwidth": 2,
            "linecolor": "white",
            "showbackground": true,
            "ticks": "",
            "zerolinecolor": "white"
           }
          },
          "shapedefaults": {
           "line": {
            "color": "#2a3f5f"
           }
          },
          "ternary": {
           "aaxis": {
            "gridcolor": "white",
            "linecolor": "white",
            "ticks": ""
           },
           "baxis": {
            "gridcolor": "white",
            "linecolor": "white",
            "ticks": ""
           },
           "bgcolor": "#E5ECF6",
           "caxis": {
            "gridcolor": "white",
            "linecolor": "white",
            "ticks": ""
           }
          },
          "title": {
           "x": 0.05
          },
          "xaxis": {
           "automargin": true,
           "gridcolor": "white",
           "linecolor": "white",
           "ticks": "",
           "title": {
            "standoff": 15
           },
           "zerolinecolor": "white",
           "zerolinewidth": 2
          },
          "yaxis": {
           "automargin": true,
           "gridcolor": "white",
           "linecolor": "white",
           "ticks": "",
           "title": {
            "standoff": 15
           },
           "zerolinecolor": "white",
           "zerolinewidth": 2
          }
         }
        },
        "xaxis": {
         "autorange": true,
         "range": [
          0.5,
          30.5
         ],
         "title": {
          "text": "Fruit"
         },
         "type": "linear"
        },
        "yaxis": {
         "autorange": true,
         "range": [
          0,
          858.9473684210526
         ],
         "title": {
          "text": "Number Eaten"
         },
         "type": "linear"
        }
       }
      },
      "image/png": "[encoded data removed]",
      "text/html": [
       "<div>                            <div id=\"25adee48-64ac-4fe4-b0a3-a5ad65ea7bd3\" class=\"plotly-graph-div\" style=\"height:525px; width:100%;\"></div>            <script type=\"text/javascript\">                require([\"plotly\"], function(Plotly) {                    window.PLOTLYENV=window.PLOTLYENV || {};                                    if (document.getElementById(\"25adee48-64ac-4fe4-b0a3-a5ad65ea7bd3\")) {                    Plotly.newPlot(                        \"25adee48-64ac-4fe4-b0a3-a5ad65ea7bd3\",                        [{\"hovertemplate\":\"Contestant=Entire home\\u002fapt\\u003cbr\\u003eFruit=%{x}\\u003cbr\\u003eNumber Eaten=%{y}\\u003cextra\\u003e\\u003c\\u002fextra\\u003e\",\"name\":\"Entire home\\u002fapt\",\"x\":[28,2,7,2,3,1,1,1,2,1,1,1,1,2,2,2,4,2,1,1,1,2,1,1,2,1,1,1,1,2,4,5,1,1,1,2,1,7,30,7,2,4,1,2,1,1,1,2,2,1,1,1,1,3,2,3,4,14,1,1,1,2,2,1,2,1,1,7,4,1,3,2,1,3,1,1,2,1,2,30,2,1,1,1,2,1,1,1,1,1,1,1,1,1,2,3,2,2,1,1,13,1,2,1,4,13,2,1,2,1,1,1,1,1,3,14,1,2,1,4,5,2,1,1,1,1,1,13,1,2,1,2,14,1,1,3,1,2,1,2,2,2,7,2,1,1,2,1,1,2,1,1,3,3,3,30,2,1,1,3,1,1,2,2,2,3,1,3,1,2,1,2,2,1,2,1,2,1,3,7,3,1,1,1,1,1,1,1,1,3,1,3,1,1,2,1,30,1,1,3,2,2,1,2,1,1,1,1,1,1,1,1,1,1,2,3,2,1,1,2,1,28,1,2,1,2,28],\"y\":[1,4,2,4,1,1,2,9,1,9,2,9,9,2,8,8,9,9,2,2,1,1,6,6,4,6,6,22,22,8,3,8,2,1,2,9,1,1,1,8,4,3,5,22,3,3,1,4,1,15,15,15,1,9,4,9,3,2,2,5,2,5,1,15,1,15,1,1,1,15,3,5,1,9,1,2,5,22,22,1,22,22,15,3,2,22,3,3,15,9,8,8,8,1,4,9,9,9,22,15,5,22,1,3,1,5,1,3,4,1,15,15,2,3,4,5,3,2,15,1,3,1,1,22,3,2,1,5,3,22,1,1,1,6,22,1,2,2,1,1,2,2,8,22,8,1,1,1,6,1,5,22,4,1,1,1,5,1,1,1,8,2,1,2,1,2,1,3,1,2,8,1,5,8,1,15,9,5,1,1,1,1,22,22,12,6,2,6,1,3,1,1,1,1,1,2,1,1,1,9,2,1,1,1,4,6,22,1,2,8,1,15,15,3,1,4,1,1,2,1,1,1,1,1,2,1,2],\"type\":\"bar\"},{\"hovertemplate\":\"Contestant=Private room\\u003cbr\\u003eFruit=%{x}\\u003cbr\\u003eNumber Eaten=%{y}\\u003cextra\\u003e\\u003c\\u002fextra\\u003e\",\"name\":\"Private room\",\"x\":[1,1,3,2,1,10,5,10,2,3,10,1,1,14,1,4,2,4,4,4,4,10,10,10,2,2,2,3,2,1,1,2,1,2,2,1,1,1,1,2,2,3,2,2,2,2,2,1,4,4,4,10,1,1,10,10,30,30,30,30,2,3,1,1,1,1,2,1,1,1,2,2,1,5,3,1,1,1,1,1,1,1,1,1,1,1,2,2,2,1,2,1,1,1,1,5,1],\"y\":[1,6,2,2,2,4,2,4,4,2,4,1,3,4,6,6,6,6,6,6,6,3,3,3,8,1,8,1,8,1,3,4,1,8,1,3,2,1,1,10,8,3,1,4,4,4,4,10,4,4,4,3,10,10,3,3,3,3,3,1,8,2,3,1,6,6,4,6,6,6,4,2,1,3,2,2,2,3,2,2,6,12,12,12,12,12,4,4,3,6,4,10,10,10,10,3,10],\"type\":\"bar\"},{\"hovertemplate\":\"Contestant=Shared room\\u003cbr\\u003eFruit=%{x}\\u003cbr\\u003eNumber Eaten=%{y}\\u003cextra\\u003e\\u003c\\u002fextra\\u003e\",\"name\":\"Shared room\",\"x\":[1],\"y\":[1],\"type\":\"bar\"}],                        {\"template\":{\"data\":{\"histogram2dcontour\":[{\"type\":\"histogram2dcontour\",\"colorbar\":{\"outlinewidth\":0,\"ticks\":\"\"},\"colorscale\":[[0.0,\"#0d0887\"],[0.1111111111111111,\"#46039f\"],[0.2222222222222222,\"#7201a8\"],[0.3333333333333333,\"#9c179e\"],[0.4444444444444444,\"#bd3786\"],[0.5555555555555556,\"#d8576b\"],[0.6666666666666666,\"#ed7953\"],[0.7777777777777778,\"#fb9f3a\"],[0.8888888888888888,\"#fdca26\"],[1.0,\"#f0f921\"]]}],\"choropleth\":[{\"type\":\"choropleth\",\"colorbar\":{\"outlinewidth\":0,\"ticks\":\"\"}}],\"histogram2d\":[{\"type\":\"histogram2d\",\"colorbar\":{\"outlinewidth\":0,\"ticks\":\"\"},\"colorscale\":[[0.0,\"#0d0887\"],[0.1111111111111111,\"#46039f\"],[0.2222222222222222,\"#7201a8\"],[0.3333333333333333,\"#9c179e\"],[0.4444444444444444,\"#bd3786\"],[0.5555555555555556,\"#d8576b\"],[0.6666666666666666,\"#ed7953\"],[0.7777777777777778,\"#fb9f3a\"],[0.8888888888888888,\"#fdca26\"],[1.0,\"#f0f921\"]]}],\"heatmap\":[{\"type\":\"heatmap\",\"colorbar\":{\"outlinewidth\":0,\"ticks\":\"\"},\"colorscale\":[[0.0,\"#0d0887\"],[0.1111111111111111,\"#46039f\"],[0.2222222222222222,\"#7201a8\"],[0.3333333333333333,\"#9c179e\"],[0.4444444444444444,\"#bd3786\"],[0.5555555555555556,\"#d8576b\"],[0.6666666666666666,\"#ed7953\"],[0.7777777777777778,\"#fb9f3a\"],[0.8888888888888888,\"#fdca26\"],[1.0,\"#f0f921\"]]}],\"heatmapgl\":[{\"type\":\"heatmapgl\",\"colorbar\":{\"outlinewidth\":0,\"ticks\":\"\"},\"colorscale\":[[0.0,\"#0d0887\"],[0.1111111111111111,\"#46039f\"],[0.2222222222222222,\"#7201a8\"],[0.3333333333333333,\"#9c179e\"],[0.4444444444444444,\"#bd3786\"],[0.5555555555555556,\"#d8576b\"],[0.6666666666666666,\"#ed7953\"],[0.7777777777777778,\"#fb9f3a\"],[0.8888888888888888,\"#fdca26\"],[1.0,\"#f0f921\"]]}],\"contourcarpet\":[{\"type\":\"contourcarpet\",\"colorbar\":{\"outlinewidth\":0,\"ticks\":\"\"}}],\"contour\":[{\"type\":\"contour\",\"colorbar\":{\"outlinewidth\":0,\"ticks\":\"\"},\"colorscale\":[[0.0,\"#0d0887\"],[0.1111111111111111,\"#46039f\"],[0.2222222222222222,\"#7201a8\"],[0.3333333333333333,\"#9c179e\"],[0.4444444444444444,\"#bd3786\"],[0.5555555555555556,\"#d8576b\"],[0.6666666666666666,\"#ed7953\"],[0.7777777777777778,\"#fb9f3a\"],[0.8888888888888888,\"#fdca26\"],[1.0,\"#f0f921\"]]}],\"surface\":[{\"type\":\"surface\",\"colorbar\":{\"outlinewidth\":0,\"ticks\":\"\"},\"colorscale\":[[0.0,\"#0d0887\"],[0.1111111111111111,\"#46039f\"],[0.2222222222222222,\"#7201a8\"],[0.3333333333333333,\"#9c179e\"],[0.4444444444444444,\"#bd3786\"],[0.5555555555555556,\"#d8576b\"],[0.6666666666666666,\"#ed7953\"],[0.7777777777777778,\"#fb9f3a\"],[0.8888888888888888,\"#fdca26\"],[1.0,\"#f0f921\"]]}],\"mesh3d\":[{\"type\":\"mesh3d\",\"colorbar\":{\"outlinewidth\":0,\"ticks\":\"\"}}],\"scatter\":[{\"fillpattern\":{\"fillmode\":\"overlay\",\"size\":10,\"solidity\":0.2},\"type\":\"scatter\"}],\"parcoords\":[{\"type\":\"parcoords\",\"line\":{\"colorbar\":{\"outlinewidth\":0,\"ticks\":\"\"}}}],\"scatterpolargl\":[{\"type\":\"scatterpolargl\",\"marker\":{\"colorbar\":{\"outlinewidth\":0,\"ticks\":\"\"}}}],\"bar\":[{\"error_x\":{\"color\":\"#2a3f5f\"},\"error_y\":{\"color\":\"#2a3f5f\"},\"marker\":{\"line\":{\"color\":\"#E5ECF6\",\"width\":0.5},\"pattern\":{\"fillmode\":\"overlay\",\"size\":10,\"solidity\":0.2}},\"type\":\"bar\"}],\"scattergeo\":[{\"type\":\"scattergeo\",\"marker\":{\"colorbar\":{\"outlinewidth\":0,\"ticks\":\"\"}}}],\"scatterpolar\":[{\"type\":\"scatterpolar\",\"marker\":{\"colorbar\":{\"outlinewidth\":0,\"ticks\":\"\"}}}],\"histogram\":[{\"marker\":{\"pattern\":{\"fillmode\":\"overlay\",\"size\":10,\"solidity\":0.2}},\"type\":\"histogram\"}],\"scattergl\":[{\"type\":\"scattergl\",\"marker\":{\"colorbar\":{\"outlinewidth\":0,\"ticks\":\"\"}}}],\"scatter3d\":[{\"type\":\"scatter3d\",\"line\":{\"colorbar\":{\"outlinewidth\":0,\"ticks\":\"\"}},\"marker\":{\"colorbar\":{\"outlinewidth\":0,\"ticks\":\"\"}}}],\"scattermapbox\":[{\"type\":\"scattermapbox\",\"marker\":{\"colorbar\":{\"outlinewidth\":0,\"ticks\":\"\"}}}],\"scatterternary\":[{\"type\":\"scatterternary\",\"marker\":{\"colorbar\":{\"outlinewidth\":0,\"ticks\":\"\"}}}],\"scattercarpet\":[{\"type\":\"scattercarpet\",\"marker\":{\"colorbar\":{\"outlinewidth\":0,\"ticks\":\"\"}}}],\"carpet\":[{\"aaxis\":{\"endlinecolor\":\"#2a3f5f\",\"gridcolor\":\"white\",\"linecolor\":\"white\",\"minorgridcolor\":\"white\",\"startlinecolor\":\"#2a3f5f\"},\"baxis\":{\"endlinecolor\":\"#2a3f5f\",\"gridcolor\":\"white\",\"linecolor\":\"white\",\"minorgridcolor\":\"white\",\"startlinecolor\":\"#2a3f5f\"},\"type\":\"carpet\"}],\"table\":[{\"cells\":{\"fill\":{\"color\":\"#EBF0F8\"},\"line\":{\"color\":\"white\"}},\"header\":{\"fill\":{\"color\":\"#C8D4E3\"},\"line\":{\"color\":\"white\"}},\"type\":\"table\"}],\"barpolar\":[{\"marker\":{\"line\":{\"color\":\"#E5ECF6\",\"width\":0.5},\"pattern\":{\"fillmode\":\"overlay\",\"size\":10,\"solidity\":0.2}},\"type\":\"barpolar\"}],\"pie\":[{\"automargin\":true,\"type\":\"pie\"}]},\"layout\":{\"autotypenumbers\":\"strict\",\"colorway\":[\"#636efa\",\"#EF553B\",\"#00cc96\",\"#ab63fa\",\"#FFA15A\",\"#19d3f3\",\"#FF6692\",\"#B6E880\",\"#FF97FF\",\"#FECB52\"],\"font\":{\"color\":\"#2a3f5f\"},\"hovermode\":\"closest\",\"hoverlabel\":{\"align\":\"left\"},\"paper_bgcolor\":\"white\",\"plot_bgcolor\":\"#E5ECF6\",\"polar\":{\"bgcolor\":\"#E5ECF6\",\"angularaxis\":{\"gridcolor\":\"white\",\"linecolor\":\"white\",\"ticks\":\"\"},\"radialaxis\":{\"gridcolor\":\"white\",\"linecolor\":\"white\",\"ticks\":\"\"}},\"ternary\":{\"bgcolor\":\"#E5ECF6\",\"aaxis\":{\"gridcolor\":\"white\",\"linecolor\":\"white\",\"ticks\":\"\"},\"baxis\":{\"gridcolor\":\"white\",\"linecolor\":\"white\",\"ticks\":\"\"},\"caxis\":{\"gridcolor\":\"white\",\"linecolor\":\"white\",\"ticks\":\"\"}},\"coloraxis\":{\"colorbar\":{\"outlinewidth\":0,\"ticks\":\"\"}},\"colorscale\":{\"sequential\":[[0.0,\"#0d0887\"],[0.1111111111111111,\"#46039f\"],[0.2222222222222222,\"#7201a8\"],[0.3333333333333333,\"#9c179e\"],[0.4444444444444444,\"#bd3786\"],[0.5555555555555556,\"#d8576b\"],[0.6666666666666666,\"#ed7953\"],[0.7777777777777778,\"#fb9f3a\"],[0.8888888888888888,\"#fdca26\"],[1.0,\"#f0f921\"]],\"sequentialminus\":[[0.0,\"#0d0887\"],[0.1111111111111111,\"#46039f\"],[0.2222222222222222,\"#7201a8\"],[0.3333333333333333,\"#9c179e\"],[0.4444444444444444,\"#bd3786\"],[0.5555555555555556,\"#d8576b\"],[0.6666666666666666,\"#ed7953\"],[0.7777777777777778,\"#fb9f3a\"],[0.8888888888888888,\"#fdca26\"],[1.0,\"#f0f921\"]],\"diverging\":[[0,\"#8e0152\"],[0.1,\"#c51b7d\"],[0.2,\"#de77ae\"],[0.3,\"#f1b6da\"],[0.4,\"#fde0ef\"],[0.5,\"#f7f7f7\"],[0.6,\"#e6f5d0\"],[0.7,\"#b8e186\"],[0.8,\"#7fbc41\"],[0.9,\"#4d9221\"],[1,\"#276419\"]]},\"xaxis\":{\"gridcolor\":\"white\",\"linecolor\":\"white\",\"ticks\":\"\",\"title\":{\"standoff\":15},\"zerolinecolor\":\"white\",\"automargin\":true,\"zerolinewidth\":2},\"yaxis\":{\"gridcolor\":\"white\",\"linecolor\":\"white\",\"ticks\":\"\",\"title\":{\"standoff\":15},\"zerolinecolor\":\"white\",\"automargin\":true,\"zerolinewidth\":2},\"scene\":{\"xaxis\":{\"backgroundcolor\":\"#E5ECF6\",\"gridcolor\":\"white\",\"linecolor\":\"white\",\"showbackground\":true,\"ticks\":\"\",\"zerolinecolor\":\"white\",\"gridwidth\":2},\"yaxis\":{\"backgroundcolor\":\"#E5ECF6\",\"gridcolor\":\"white\",\"linecolor\":\"white\",\"showbackground\":true,\"ticks\":\"\",\"zerolinecolor\":\"white\",\"gridwidth\":2},\"zaxis\":{\"backgroundcolor\":\"#E5ECF6\",\"gridcolor\":\"white\",\"linecolor\":\"white\",\"showbackground\":true,\"ticks\":\"\",\"zerolinecolor\":\"white\",\"gridwidth\":2}},\"shapedefaults\":{\"line\":{\"color\":\"#2a3f5f\"}},\"annotationdefaults\":{\"arrowcolor\":\"#2a3f5f\",\"arrowhead\":0,\"arrowwidth\":1},\"geo\":{\"bgcolor\":\"white\",\"landcolor\":\"#E5ECF6\",\"subunitcolor\":\"white\",\"showland\":true,\"showlakes\":true,\"lakecolor\":\"white\"},\"title\":{\"x\":0.05},\"mapbox\":{\"style\":\"light\"}}},\"legend\":{\"title\":{\"text\":\"Contestant\"}},\"xaxis\":{\"title\":{\"text\":\"Fruit\"}},\"yaxis\":{\"title\":{\"text\":\"Number Eaten\"}}},                        {\"responsive\": true}                    ).then(function(){\n",
       "                            \n",
       "var gd = document.getElementById('25adee48-64ac-4fe4-b0a3-a5ad65ea7bd3');\n",
       "var x = new MutationObserver(function (mutations, observer) {{\n",
       "        var display = window.getComputedStyle(gd).display;\n",
       "        if (!display || display === 'none') {{\n",
       "            console.log([gd, 'removed!']);\n",
       "            Plotly.purge(gd);\n",
       "            observer.disconnect();\n",
       "        }}\n",
       "}});\n",
       "\n",
       "// Listen for the removal of the full notebook cells\n",
       "var notebookContainer = gd.closest('#notebook-container');\n",
       "if (notebookContainer) {{\n",
       "    x.observe(notebookContainer, {childList: true});\n",
       "}}\n",
       "\n",
       "// Listen for the clearing of the current output cell\n",
       "var outputEl = gd.closest('.output');\n",
       "if (outputEl) {{\n",
       "    x.observe(outputEl, {childList: true});\n",
       "}}\n",
       "\n",
       "                        })                };                });            </script>        </div>"
      ]
     },
     "metadata": {},
     "output_type": "display_data"
    }
   ],
   "source": [
    "\n",
    "fig = go.Figure()\n",
    "for contestant, group in df.groupby(\"room_type\"):\n",
    "    fig.add_trace(go.Bar(x=group[\"minimum_nights\"], y=group[\"calculated_host_listings_count\"], name=contestant,\n",
    "      hovertemplate=\"Contestant=%s<br>Fruit=%%{x}<br>Number Eaten=%%{y}<extra></extra>\"% contestant))\n",
    "fig.update_layout(legend_title_text = \"Contestant\")\n",
    "fig.update_xaxes(title_text=\"Fruit\")\n",
    "fig.update_yaxes(title_text=\"Number Eaten\")\n",
    "fig.show()\n",
    "\n"
   ]
  },
  {
   "cell_type": "code",
   "execution_count": 42,
   "id": "f202aba6-a876-4876-ade7-4f6295fcbfaa",
   "metadata": {},
   "outputs": [
    {
     "data": {
      "text/plain": [
       "<Axes: ylabel='reviews_per_month'>"
      ]
     },
     "execution_count": 42,
     "metadata": {},
     "output_type": "execute_result"
    },
    {
     "data": {
      "image/png": "[encoded data removed]",
      "text/plain": [
       "<Figure size 640x480 with 1 Axes>"
      ]
     },
     "metadata": {},
     "output_type": "display_data"
    }
   ],
   "source": [
    "\n",
    "sns.boxplot(df.reviews_per_month)"
   ]
  },
  {
   "cell_type": "code",
   "execution_count": 43,
   "id": "61a051af-f200-4b82-bf21-ceee01bea0d6",
   "metadata": {},
   "outputs": [
    {
     "name": "stdout",
     "output_type": "stream",
     "text": [
      "<class 'pandas.core.frame.DataFrame'>\n",
      "RangeIndex: 325 entries, 0 to 324\n",
      "Data columns (total 16 columns):\n",
      " #   Column                          Non-Null Count  Dtype  \n",
      "---  ------                          --------------  -----  \n",
      " 0   id                              325 non-null    int64  \n",
      " 1   name                            325 non-null    object \n",
      " 2   host_id                         325 non-null    int64  \n",
      " 3   host_name                       325 non-null    object \n",
      " 4   neighbourhood                   325 non-null    object \n",
      " 5   latitude                        325 non-null    float64\n",
      " 6   longitude                       325 non-null    float64\n",
      " 7   room_type                       325 non-null    object \n",
      " 8   price                           325 non-null    float64\n",
      " 9   minimum_nights                  325 non-null    int64  \n",
      " 10  number_of_reviews               325 non-null    int64  \n",
      " 11  last_review                     325 non-null    object \n",
      " 12  reviews_per_month               325 non-null    float64\n",
      " 13  calculated_host_listings_count  325 non-null    int64  \n",
      " 14  availability_365                325 non-null    int64  \n",
      " 15  number_of_reviews_ltm           325 non-null    int64  \n",
      "dtypes: float64(4), int64(7), object(5)\n",
      "memory usage: 40.8+ KB\n"
     ]
    }
   ],
   "source": [
    "df.info()\n"
   ]
  },
  {
   "cell_type": "markdown",
   "id": "fed40a15-2ecb-4526-b0e0-e1dec46bccae",
   "metadata": {},
   "source": [
    "Source : https://hersanyagci.medium.com/detecting-and-handling-outliers-with-pandas-7adbfcd5cad8"
   ]
  },
  {
   "cell_type": "code",
   "execution_count": 44,
   "id": "140fb17f-c36a-42e5-96ea-1074bc739832",
   "metadata": {},
   "outputs": [],
   "source": [
    "def drop_Outliers(col : str):\n",
    "    Q1 = df[col].quantile(0.25)\n",
    "    Q3 = df[col].quantile(0.75)\n",
    "    IQR = Q3 - Q1 \n",
    "    lower_lim = Q1 - 1.5 * IQR\n",
    "    upper_lim = Q3 + 1.5 * IQR\n",
    "    outliers_15_low = (df[col] < lower_lim)\n",
    "    outliers_15_up = (df[col] > upper_lim)\n",
    "    \n",
    "    # Show result len \n",
    "    # len(df[col]) - (len(df[col][outliers_15_low]) + len(df[col][outliers_15_up]))\n",
    "    \n",
    "    # Show the Outliers\n",
    "    # df[col][(outliers_15_low | outliers_15_up)]\n",
    "\n",
    "    # Show the col without the outliers \n",
    "    return df[col][~(outliers_15_low | outliers_15_up)]\n",
    "        "
   ]
  },
  {
   "cell_type": "code",
   "execution_count": null,
   "id": "5eeb4c8e-4578-4e9a-91dd-f747210230a3",
   "metadata": {},
   "outputs": [],
   "source": []
  },
  {
   "cell_type": "code",
   "execution_count": 45,
   "id": "ca709f5e-5c4c-494e-9a71-0cf7a4fe5a41",
   "metadata": {},
   "outputs": [],
   "source": [
    "# We begin form the index 3 cous we wont to not include the id and host id \n",
    "selected_columns = [col for col in df.columns[3:] if df[col].dtype in [\"int64\",\"float64\"]]"
   ]
  },
  {
   "cell_type": "code",
   "execution_count": 46,
   "id": "330696e7-5459-48e1-adcd-89cb20aecd55",
   "metadata": {},
   "outputs": [],
   "source": [
    "for col in selected_columns:\n",
    "    df[col] = drop_Outliers(col)"
   ]
  },
  {
   "cell_type": "code",
   "execution_count": 47,
   "id": "315c8b8e-83f8-4b10-9210-f679f69823e0",
   "metadata": {
    "scrolled": true
   },
   "outputs": [
    {
     "data": {
      "text/plain": [
       "id                                 0\n",
       "name                               0\n",
       "host_id                            0\n",
       "host_name                          0\n",
       "neighbourhood                      0\n",
       "latitude                           8\n",
       "longitude                          0\n",
       "room_type                          0\n",
       "price                             17\n",
       "minimum_nights                    53\n",
       "number_of_reviews                 32\n",
       "last_review                        0\n",
       "reviews_per_month                 16\n",
       "calculated_host_listings_count    18\n",
       "availability_365                   0\n",
       "number_of_reviews_ltm             18\n",
       "dtype: int64"
      ]
     },
     "execution_count": 47,
     "metadata": {},
     "output_type": "execute_result"
    }
   ],
   "source": [
    "df.isna().sum()"
   ]
  },
  {
   "cell_type": "markdown",
   "id": "07040188-ca4f-4028-a2aa-0942d05494ef",
   "metadata": {},
   "source": [
    "#### for now we will drop them "
   ]
  },
  {
   "cell_type": "code",
   "execution_count": 48,
   "id": "9880ddd1-e4e5-425e-9129-20398bb71cb9",
   "metadata": {},
   "outputs": [],
   "source": [
    "df = df.dropna()"
   ]
  },
  {
   "cell_type": "code",
   "execution_count": 49,
   "id": "bca5b030-086a-4036-91f5-aaecf7ec1d8d",
   "metadata": {},
   "outputs": [
    {
     "name": "stdout",
     "output_type": "stream",
     "text": [
      "Number of unique values in column id is : 197\n",
      "Number of unique values in column name is : 197\n",
      "Number of unique values in column host_id is : 104\n",
      "Number of unique values in column host_name is : 101\n",
      "Number of unique values in column neighbourhood is : 14\n",
      "Number of unique values in column latitude is : 191\n",
      "Number of unique values in column longitude is : 192\n",
      "Number of unique values in column room_type is : 3\n",
      "Number of unique values in column price is : 82\n",
      "Number of unique values in column minimum_nights is : 3\n",
      "Number of unique values in column number_of_reviews is : 86\n",
      "Number of unique values in column last_review is : 94\n",
      "Number of unique values in column reviews_per_month is : 153\n",
      "Number of unique values in column calculated_host_listings_count is : 11\n",
      "Number of unique values in column availability_365 is : 113\n",
      "Number of unique values in column number_of_reviews_ltm is : 50\n"
     ]
    }
   ],
   "source": [
    "for col in df.columns:\n",
    "    print(f\"Number of unique values in column {col} is : {df[col].nunique()}\")"
   ]
  },
  {
   "cell_type": "code",
   "execution_count": 53,
   "id": "2e3d3ff5-2725-489f-9070-204af434988a",
   "metadata": {},
   "outputs": [
    {
     "data": {
      "text/plain": [
       "<Axes: ylabel='Frequency'>"
      ]
     },
     "execution_count": 53,
     "metadata": {},
     "output_type": "execute_result"
    },
    {
     "data": {
      "image/png": "[encoded data removed]",
      "text/plain": [
       "<Figure size 640x480 with 1 Axes>"
      ]
     },
     "metadata": {},
     "output_type": "display_data"
    }
   ],
   "source": [
    "df[\"price\"].plot(kind = \"hist\")"
   ]
  },
  {
   "cell_type": "code",
   "execution_count": 54,
   "id": "1cc1fe53-1073-4498-9d01-01b87ab3faad",
   "metadata": {},
   "outputs": [
    {
     "data": {
      "text/plain": [
       "9"
      ]
     },
     "execution_count": 54,
     "metadata": {},
     "output_type": "execute_result"
    }
   ],
   "source": [
    "len(selected_columns)"
   ]
  },
  {
   "cell_type": "code",
   "execution_count": 77,
   "id": "10ff1963-856c-4c43-add5-7ff67584b8b4",
   "metadata": {},
   "outputs": [
    {
     "data": {
      "application/vnd.plotly.v1+json": {
       "config": {
        "plotlyServerURL": "https://plot.ly"
       },
       "data": [
        {
         "histnorm": "percent",
         "marker": {
          "color": "#330C73"
         },
         "name": "Latitude",
         "opacity": 0.75,
         "type": "histogram",
         "x": [
          42.64484,
          42.66063,
          42.65651,
          42.67614,
          42.65729,
          42.65312,
          42.6436,
          42.675,
          42.64939,
          42.65532,
          42.65372,
          42.66045,
          42.65501,
          42.65975,
          42.65431,
          42.65333,
          42.65403,
          42.6543083190918,
          42.65821,
          42.65746,
          42.6737,
          42.65235,
          42.6533,
          42.67519,
          42.65259,
          42.66619,
          42.66827,
          42.66403,
          42.64453,
          42.66257,
          42.66132,
          42.64454,
          42.6545,
          42.64801,
          42.64821,
          42.64713,
          42.66137,
          42.66646,
          42.65345,
          42.67156,
          42.6692,
          42.6511808672392,
          42.66261,
          42.65399,
          42.65429,
          42.65157,
          42.65888,
          42.65901,
          42.65856,
          42.65812,
          42.65269,
          42.64684,
          42.67643,
          42.65934,
          42.67044,
          42.65386,
          42.65812,
          42.65826,
          42.67004,
          42.65824,
          42.65913,
          42.674675,
          42.66261,
          42.65422,
          42.65403,
          42.64459,
          42.65578,
          42.65905,
          42.65902,
          42.6595,
          42.6598,
          42.65848,
          42.66911,
          42.652049,
          42.65353,
          42.640217,
          42.65723,
          42.64372,
          42.64528,
          42.64558,
          42.65323,
          42.65427,
          42.64595,
          42.65389,
          42.65752,
          42.65541380925019,
          42.66758,
          42.66764,
          42.6694413,
          42.65732,
          42.6623,
          42.64638,
          42.6513719,
          42.64564,
          42.6543178,
          42.64469,
          42.65569,
          42.6496,
          42.64284,
          42.66648,
          42.64439384900326,
          42.6444412,
          42.65259,
          42.65405,
          42.66117,
          42.6601,
          42.6518469,
          42.65725,
          42.65183,
          42.66298,
          42.6591503133547,
          42.6653,
          42.65489,
          42.67283,
          42.65582,
          42.6538578,
          42.65741,
          42.66958,
          42.65751,
          42.656329,
          42.656329,
          42.65588,
          42.6684126,
          42.67239,
          42.67143614564987,
          42.65258,
          42.66109,
          42.65613,
          42.66007584297136,
          42.67336,
          42.6457663,
          42.65817,
          42.66947,
          42.66128,
          42.67355,
          42.65379,
          42.6599733,
          42.66246,
          42.6628771,
          42.6573,
          42.66215778253739,
          42.66087,
          42.64787,
          42.6652959,
          42.66217,
          42.66261,
          42.6559529,
          42.65483722729842,
          42.654965911269095,
          42.67066076442359,
          42.65654925592276,
          42.658672199777634,
          42.6606,
          42.659082586070085,
          42.65846944486231,
          42.6708367,
          42.669735657513975,
          42.65801,
          42.65798404004404,
          42.67033901962889,
          42.66000843071908,
          42.6549886,
          42.65240863051438,
          42.67059398561849,
          42.65679550669701,
          42.65312775001394,
          42.66627900500492,
          42.66391565517209,
          42.65259924007496,
          42.6709773627501,
          42.65623,
          42.65761589542138,
          42.6554977755084,
          42.65483900711961,
          42.64534889999999,
          42.67002775509383,
          42.6697096084112,
          42.66873116573401,
          42.65538680270734,
          42.66996089870569,
          42.6535,
          42.64713879857583,
          42.65859808957202,
          42.65970700274541,
          42.64655138980193,
          42.66838,
          42.65487397780481,
          42.6759553661711,
          42.6736802909505,
          42.65446887973431,
          42.66106893179246,
          42.639757084309245,
          42.659886051712505,
          42.65098734769702,
          42.66311590202129,
          42.663915656143736,
          42.66943098938467
         ],
         "xaxis": "x",
         "yaxis": "y"
        },
        {
         "histnorm": "percent",
         "marker": {
          "color": "#330C73"
         },
         "name": "Longitude",
         "opacity": 0.75,
         "type": "histogram",
         "x": [
          -73.75851,
          -73.78115,
          -73.77887,
          -73.78169,
          -73.80321,
          -73.78161,
          -73.75887,
          -73.82382,
          -73.76865,
          -73.78244,
          -73.78244,
          -73.77833,
          -73.78122,
          -73.81196,
          -73.78178,
          -73.77293,
          -73.76325,
          -73.78177642822266,
          -73.76917,
          -73.77904,
          -73.75313,
          -73.76714,
          -73.78114,
          -73.82281,
          -73.78223,
          -73.79031,
          -73.79231,
          -73.81446,
          -73.75426,
          -73.78281,
          -73.7956,
          -73.75369,
          -73.78223,
          -73.75668,
          -73.75793,
          -73.75628,
          -73.7904,
          -73.79184,
          -73.76663,
          -73.80883,
          -73.79849,
          -73.75273894471623,
          -73.78332,
          -73.78126,
          -73.75986,
          -73.76546,
          -73.74673,
          -73.74748,
          -73.74866,
          -73.74941,
          -73.76076,
          -73.75614,
          -73.82903,
          -73.76966,
          -73.82573,
          -73.75958,
          -73.74837,
          -73.76944,
          -73.82367,
          -73.80114,
          -73.74722,
          -73.822861,
          -73.79026,
          -73.76996,
          -73.77056,
          -73.75392,
          -73.78641,
          -73.77964,
          -73.7701,
          -73.76938,
          -73.76995,
          -73.76359,
          -73.79869,
          -73.7949665,
          -73.7679,
          -73.780815,
          -73.75684,
          -73.78426,
          -73.75861,
          -73.75928,
          -73.76797,
          -73.76455,
          -73.76196,
          -73.76538,
          -73.74743,
          -73.76367520540953,
          -73.7992,
          -73.79908,
          -73.79749410000001,
          -73.75676,
          -73.777,
          -73.76146,
          -73.7673156,
          -73.75261,
          -73.7818222,
          -73.761,
          -73.77685,
          -73.76792,
          -73.77997,
          -73.76831,
          -73.75975701534425,
          -73.75971410000001,
          -73.76732,
          -73.76953,
          -73.79091,
          -73.80719,
          -73.7642072,
          -73.75065,
          -73.76594,
          -73.81361,
          -73.75431932508945,
          -73.7943,
          -73.77061,
          -73.77367,
          -73.77541,
          -73.7855281,
          -73.78034,
          -73.79722,
          -73.77409,
          -73.775205,
          -73.775205,
          -73.75332,
          -73.7684199,
          -73.79418,
          -73.79032550419785,
          -73.76917,
          -73.80479,
          -73.77469,
          -73.76976949435519,
          -73.78619,
          -73.7586141,
          -73.74935,
          -73.81607,
          -73.80548,
          -73.78496,
          -73.76901,
          -73.7747433,
          -73.76576,
          -73.76534029999999,
          -73.7521,
          -73.79234533756971,
          -73.78655,
          -73.76707,
          -73.7868778,
          -73.78299,
          -73.79158,
          -73.7807478,
          -73.79149618599958,
          -73.78021704609974,
          -73.79571205018514,
          -73.77433674199318,
          -73.77478693204898,
          -73.77284,
          -73.77455698333637,
          -73.77272373106814,
          -73.7853116,
          -73.78610658197474,
          -73.80049,
          -73.80128215056936,
          -73.78509801171585,
          -73.77397295619353,
          -73.79390939999999,
          -73.77002141071337,
          -73.81678288145305,
          -73.75335661522755,
          -73.76950465142727,
          -73.76511947562057,
          -73.77786945551634,
          -73.761780139996,
          -73.80695225761066,
          -73.7641152,
          -73.75115885472674,
          -73.8106566601018,
          -73.7674333870007,
          -73.75364650000002,
          -73.7977054151877,
          -73.797549986088,
          -73.79930289371134,
          -73.76416369206528,
          -73.7981565369516,
          -73.77046,
          -73.7546608201248,
          -73.76420635863742,
          -73.76382104785372,
          -73.7597240543698,
          -73.77868,
          -73.76519868723663,
          -73.79260844002489,
          -73.78413107868002,
          -73.76077862456057,
          -73.78973060044702,
          -73.75705214104126,
          -73.7920570376047,
          -73.76307767802679,
          -73.7381032862318,
          -73.77786945551634,
          -73.79881962357733
         ],
         "xaxis": "x4",
         "yaxis": "y4"
        },
        {
         "histnorm": "percent",
         "marker": {
          "color": "#330C73"
         },
         "name": "Price",
         "opacity": 0.75,
         "type": "histogram",
         "x": [
          190,
          199,
          56,
          53,
          62,
          70,
          169,
          196,
          126,
          85,
          70,
          69,
          55,
          75,
          55,
          100,
          89,
          55,
          75,
          56,
          95,
          119,
          55,
          39,
          50,
          110,
          95,
          45,
          117,
          145,
          119,
          97,
          79,
          120,
          122,
          140,
          100,
          92,
          125,
          79,
          95,
          109,
          147,
          45,
          88,
          109,
          115,
          120,
          115,
          85,
          88,
          125,
          40,
          100,
          120,
          88,
          115,
          119,
          88,
          175,
          150,
          160,
          75,
          100,
          100,
          125,
          99,
          79,
          110,
          100,
          100,
          115,
          89,
          100,
          113,
          120,
          129,
          130,
          120,
          115,
          149,
          97,
          99,
          130,
          115,
          118,
          75,
          75,
          141,
          99,
          115,
          90,
          113,
          91,
          45,
          80,
          130,
          82,
          131,
          101,
          145,
          145,
          50,
          110,
          75,
          65,
          107,
          100,
          110,
          60,
          105,
          185,
          102,
          104,
          122,
          87,
          55,
          126,
          127,
          122,
          127,
          89,
          103,
          99,
          50,
          85,
          55,
          157,
          120,
          175,
          85,
          78,
          79,
          55,
          175,
          89,
          67,
          45,
          45,
          104,
          100,
          189,
          155,
          110,
          197,
          72,
          33,
          115,
          44,
          77,
          122,
          184,
          184,
          184,
          184,
          45,
          35,
          135,
          105,
          50,
          115,
          129,
          89,
          100,
          108,
          125,
          120,
          114,
          87,
          99,
          110,
          154,
          143,
          83,
          191,
          50,
          50,
          50,
          95,
          50,
          73,
          65,
          120,
          119,
          100,
          102,
          91,
          155,
          60,
          91,
          114,
          90,
          150,
          125,
          105,
          102,
          51
         ],
         "xaxis": "x2",
         "yaxis": "y2"
        },
        {
         "histnorm": "percent",
         "marker": {
          "color": "#330C73"
         },
         "name": "Minimum_Nights",
         "opacity": 0.75,
         "type": "histogram",
         "x": [
          1,
          3,
          2,
          3,
          1,
          1,
          1,
          1,
          2,
          2,
          2,
          2,
          2,
          2,
          2,
          3,
          2,
          2,
          1,
          2,
          1,
          2,
          2,
          2,
          1,
          2,
          2,
          1,
          2,
          1,
          1,
          2,
          2,
          1,
          1,
          1,
          1,
          3,
          2,
          3,
          2,
          1,
          1,
          2,
          2,
          2,
          1,
          1,
          1,
          3,
          2,
          1,
          2,
          2,
          1,
          2,
          1,
          1,
          2,
          1,
          1,
          1,
          1,
          1,
          1,
          2,
          3,
          2,
          2,
          2,
          2,
          1,
          1,
          2,
          1,
          2,
          1,
          2,
          1,
          1,
          1,
          3,
          1,
          2,
          1,
          2,
          1,
          1,
          1,
          1,
          1,
          1,
          2,
          1,
          2,
          3,
          1,
          2,
          1,
          2,
          2,
          2,
          3,
          1,
          1,
          1,
          2,
          1,
          1,
          1,
          2,
          1,
          3,
          3,
          1,
          3,
          2,
          2,
          1,
          1,
          1,
          1,
          1,
          3,
          2,
          1,
          2,
          1,
          2,
          3,
          1,
          3,
          1,
          3,
          2,
          1,
          2,
          1,
          1,
          2,
          1,
          2,
          1,
          2,
          1,
          1,
          1,
          3,
          1,
          1,
          1,
          1,
          1,
          1,
          1,
          2,
          2,
          1,
          1,
          2,
          1,
          1,
          1,
          3,
          1,
          1,
          2,
          1,
          1,
          3,
          2,
          1,
          2,
          1,
          1,
          1,
          1,
          1,
          1,
          1,
          1,
          1,
          1,
          1,
          1,
          2,
          3,
          2,
          1,
          1,
          2,
          1,
          1,
          2,
          1,
          1,
          1
         ],
         "xaxis": "x5",
         "yaxis": "y5"
        },
        {
         "histnorm": "percent",
         "marker": {
          "color": "#330C73"
         },
         "name": "Number_Of_Reviews",
         "opacity": 0.75,
         "type": "histogram",
         "x": [
          37,
          18,
          40,
          130,
          33,
          71,
          17,
          55,
          130,
          39,
          111,
          156,
          105,
          120,
          40,
          12,
          107,
          21,
          62,
          60,
          6,
          88,
          63,
          27,
          151,
          51,
          101,
          141,
          80,
          110,
          119,
          30,
          108,
          83,
          95,
          118,
          140,
          61,
          40,
          42,
          113,
          133,
          146,
          51,
          93,
          144,
          68,
          39,
          65,
          69,
          32,
          80,
          21,
          4,
          79,
          64,
          60,
          146,
          27,
          107,
          75,
          16,
          67,
          56,
          101,
          5,
          31,
          39,
          4,
          4,
          6,
          38,
          84,
          33,
          113,
          13,
          127,
          26,
          36,
          40,
          85,
          26,
          48,
          2,
          37,
          64,
          96,
          83,
          56,
          80,
          68,
          39,
          22,
          34,
          21,
          3,
          5,
          9,
          12,
          13,
          35,
          28,
          14,
          25,
          8,
          38,
          23,
          46,
          10,
          11,
          31,
          50,
          11,
          6,
          7,
          13,
          10,
          9,
          5,
          3,
          4,
          61,
          19,
          31,
          10,
          27,
          3,
          17,
          1,
          12,
          29,
          11,
          48,
          3,
          19,
          8,
          35,
          16,
          13,
          5,
          11,
          29,
          24,
          7,
          20,
          7,
          5,
          1,
          7,
          17,
          3,
          2,
          4,
          4,
          1,
          13,
          12,
          4,
          1,
          3,
          8,
          38,
          17,
          6,
          16,
          4,
          2,
          16,
          5,
          4,
          12,
          8,
          2,
          7,
          11,
          15,
          14,
          13,
          6,
          14,
          12,
          13,
          1,
          7,
          6,
          13,
          5,
          4,
          11,
          10,
          6,
          4,
          1,
          2,
          1,
          7,
          1
         ],
         "xaxis": "x3",
         "yaxis": "y3"
        },
        {
         "histnorm": "percent",
         "marker": {
          "color": "#330C73"
         },
         "name": "Reviews_Per_Month",
         "opacity": 0.75,
         "type": "histogram",
         "x": [
          0.4,
          0.18,
          0.48,
          1.55,
          0.4,
          1.08,
          0.21,
          0.71,
          1.79,
          0.49,
          1.45,
          2.04,
          1.4,
          1.67,
          0.61,
          0.17,
          1.57,
          0.34,
          0.93,
          0.91,
          0.09,
          1.35,
          1.01,
          0.43,
          2.66,
          0.9,
          1.95,
          2.86,
          1.9,
          2.45,
          2.76,
          0.99,
          2.61,
          2.18,
          2.5,
          3.12,
          3.38,
          1.61,
          1.06,
          1.13,
          2.95,
          3.56,
          3.9,
          1.39,
          2.95,
          4.6,
          2.03,
          1.23,
          2.07,
          2.34,
          1.04,
          2.65,
          0.76,
          0.16,
          2.68,
          2.14,
          2.07,
          5.06,
          0.96,
          4.02,
          2.74,
          0.66,
          3.15,
          2.35,
          3.82,
          0.27,
          1.74,
          1.78,
          0.16,
          0.16,
          0.24,
          1.57,
          4.09,
          2.04,
          5.03,
          0.69,
          5.7,
          1.17,
          1.68,
          1.84,
          3.95,
          1.32,
          2.48,
          0.17,
          1.84,
          3.25,
          4.75,
          4.11,
          2.88,
          4.1,
          4.65,
          2.22,
          3.46,
          2.05,
          1.26,
          0.19,
          0.34,
          0.81,
          0.76,
          1.01,
          2.76,
          2.54,
          0.97,
          1.66,
          0.51,
          2.61,
          1.57,
          3.17,
          0.69,
          0.84,
          2.31,
          3.96,
          0.84,
          0.62,
          0.9,
          1.1,
          0.74,
          0.71,
          0.68,
          0.38,
          0.5,
          4.72,
          1.4,
          2.4,
          1.36,
          2.04,
          0.24,
          1.32,
          0.16,
          1.08,
          2.57,
          1.13,
          4.39,
          0.55,
          1.88,
          0.76,
          3.51,
          1.71,
          1.31,
          0.51,
          1.23,
          3.26,
          2.7,
          0.76,
          2.48,
          0.85,
          0.71,
          0.14,
          0.86,
          2.25,
          0.39,
          0.31,
          0.77,
          0.57,
          0.21,
          1.7,
          1.55,
          0.63,
          0.14,
          1.55,
          1.17,
          5.53,
          2.6,
          1.07,
          2.91,
          0.79,
          0.42,
          2.81,
          3.06,
          0.76,
          2.4,
          1.66,
          2,
          1.48,
          2.44,
          3.49,
          3.28,
          3.1,
          1.41,
          3.47,
          3.16,
          4.06,
          0.28,
          2.1,
          2.43,
          3.9,
          1.38,
          1.28,
          3.88,
          4.23,
          2.05,
          4,
          1,
          2,
          0.83,
          5.68,
          1
         ],
         "xaxis": "x6",
         "yaxis": "y6"
        }
       ],
       "layout": {
        "height": 1200,
        "template": {
         "data": {
          "bar": [
           {
            "error_x": {
             "color": "#2a3f5f"
            },
            "error_y": {
             "color": "#2a3f5f"
            },
            "marker": {
             "line": {
              "color": "#E5ECF6",
              "width": 0.5
             },
             "pattern": {
              "fillmode": "overlay",
              "size": 10,
              "solidity": 0.2
             }
            },
            "type": "bar"
           }
          ],
          "barpolar": [
           {
            "marker": {
             "line": {
              "color": "#E5ECF6",
              "width": 0.5
             },
             "pattern": {
              "fillmode": "overlay",
              "size": 10,
              "solidity": 0.2
             }
            },
            "type": "barpolar"
           }
          ],
          "carpet": [
           {
            "aaxis": {
             "endlinecolor": "#2a3f5f",
             "gridcolor": "white",
             "linecolor": "white",
             "minorgridcolor": "white",
             "startlinecolor": "#2a3f5f"
            },
            "baxis": {
             "endlinecolor": "#2a3f5f",
             "gridcolor": "white",
             "linecolor": "white",
             "minorgridcolor": "white",
             "startlinecolor": "#2a3f5f"
            },
            "type": "carpet"
           }
          ],
          "choropleth": [
           {
            "colorbar": {
             "outlinewidth": 0,
             "ticks": ""
            },
            "type": "choropleth"
           }
          ],
          "contour": [
           {
            "colorbar": {
             "outlinewidth": 0,
             "ticks": ""
            },
            "colorscale": [
             [
              0,
              "#0d0887"
             ],
             [
              0.1111111111111111,
              "#46039f"
             ],
             [
              0.2222222222222222,
              "#7201a8"
             ],
             [
              0.3333333333333333,
              "#9c179e"
             ],
             [
              0.4444444444444444,
              "#bd3786"
             ],
             [
              0.5555555555555556,
              "#d8576b"
             ],
             [
              0.6666666666666666,
              "#ed7953"
             ],
             [
              0.7777777777777778,
              "#fb9f3a"
             ],
             [
              0.8888888888888888,
              "#fdca26"
             ],
             [
              1,
              "#f0f921"
             ]
            ],
            "type": "contour"
           }
          ],
          "contourcarpet": [
           {
            "colorbar": {
             "outlinewidth": 0,
             "ticks": ""
            },
            "type": "contourcarpet"
           }
          ],
          "heatmap": [
           {
            "colorbar": {
             "outlinewidth": 0,
             "ticks": ""
            },
            "colorscale": [
             [
              0,
              "#0d0887"
             ],
             [
              0.1111111111111111,
              "#46039f"
             ],
             [
              0.2222222222222222,
              "#7201a8"
             ],
             [
              0.3333333333333333,
              "#9c179e"
             ],
             [
              0.4444444444444444,
              "#bd3786"
             ],
             [
              0.5555555555555556,
              "#d8576b"
             ],
             [
              0.6666666666666666,
              "#ed7953"
             ],
             [
              0.7777777777777778,
              "#fb9f3a"
             ],
             [
              0.8888888888888888,
              "#fdca26"
             ],
             [
              1,
              "#f0f921"
             ]
            ],
            "type": "heatmap"
           }
          ],
          "heatmapgl": [
           {
            "colorbar": {
             "outlinewidth": 0,
             "ticks": ""
            },
            "colorscale": [
             [
              0,
              "#0d0887"
             ],
             [
              0.1111111111111111,
              "#46039f"
             ],
             [
              0.2222222222222222,
              "#7201a8"
             ],
             [
              0.3333333333333333,
              "#9c179e"
             ],
             [
              0.4444444444444444,
              "#bd3786"
             ],
             [
              0.5555555555555556,
              "#d8576b"
             ],
             [
              0.6666666666666666,
              "#ed7953"
             ],
             [
              0.7777777777777778,
              "#fb9f3a"
             ],
             [
              0.8888888888888888,
              "#fdca26"
             ],
             [
              1,
              "#f0f921"
             ]
            ],
            "type": "heatmapgl"
           }
          ],
          "histogram": [
           {
            "marker": {
             "pattern": {
              "fillmode": "overlay",
              "size": 10,
              "solidity": 0.2
             }
            },
            "type": "histogram"
           }
          ],
          "histogram2d": [
           {
            "colorbar": {
             "outlinewidth": 0,
             "ticks": ""
            },
            "colorscale": [
             [
              0,
              "#0d0887"
             ],
             [
              0.1111111111111111,
              "#46039f"
             ],
             [
              0.2222222222222222,
              "#7201a8"
             ],
             [
              0.3333333333333333,
              "#9c179e"
             ],
             [
              0.4444444444444444,
              "#bd3786"
             ],
             [
              0.5555555555555556,
              "#d8576b"
             ],
             [
              0.6666666666666666,
              "#ed7953"
             ],
             [
              0.7777777777777778,
              "#fb9f3a"
             ],
             [
              0.8888888888888888,
              "#fdca26"
             ],
             [
              1,
              "#f0f921"
             ]
            ],
            "type": "histogram2d"
           }
          ],
          "histogram2dcontour": [
           {
            "colorbar": {
             "outlinewidth": 0,
             "ticks": ""
            },
            "colorscale": [
             [
              0,
              "#0d0887"
             ],
             [
              0.1111111111111111,
              "#46039f"
             ],
             [
              0.2222222222222222,
              "#7201a8"
             ],
             [
              0.3333333333333333,
              "#9c179e"
             ],
             [
              0.4444444444444444,
              "#bd3786"
             ],
             [
              0.5555555555555556,
              "#d8576b"
             ],
             [
              0.6666666666666666,
              "#ed7953"
             ],
             [
              0.7777777777777778,
              "#fb9f3a"
             ],
             [
              0.8888888888888888,
              "#fdca26"
             ],
             [
              1,
              "#f0f921"
             ]
            ],
            "type": "histogram2dcontour"
           }
          ],
          "mesh3d": [
           {
            "colorbar": {
             "outlinewidth": 0,
             "ticks": ""
            },
            "type": "mesh3d"
           }
          ],
          "parcoords": [
           {
            "line": {
             "colorbar": {
              "outlinewidth": 0,
              "ticks": ""
             }
            },
            "type": "parcoords"
           }
          ],
          "pie": [
           {
            "automargin": true,
            "type": "pie"
           }
          ],
          "scatter": [
           {
            "fillpattern": {
             "fillmode": "overlay",
             "size": 10,
             "solidity": 0.2
            },
            "type": "scatter"
           }
          ],
          "scatter3d": [
           {
            "line": {
             "colorbar": {
              "outlinewidth": 0,
              "ticks": ""
             }
            },
            "marker": {
             "colorbar": {
              "outlinewidth": 0,
              "ticks": ""
             }
            },
            "type": "scatter3d"
           }
          ],
          "scattercarpet": [
           {
            "marker": {
             "colorbar": {
              "outlinewidth": 0,
              "ticks": ""
             }
            },
            "type": "scattercarpet"
           }
          ],
          "scattergeo": [
           {
            "marker": {
             "colorbar": {
              "outlinewidth": 0,
              "ticks": ""
             }
            },
            "type": "scattergeo"
           }
          ],
          "scattergl": [
           {
            "marker": {
             "colorbar": {
              "outlinewidth": 0,
              "ticks": ""
             }
            },
            "type": "scattergl"
           }
          ],
          "scattermapbox": [
           {
            "marker": {
             "colorbar": {
              "outlinewidth": 0,
              "ticks": ""
             }
            },
            "type": "scattermapbox"
           }
          ],
          "scatterpolar": [
           {
            "marker": {
             "colorbar": {
              "outlinewidth": 0,
              "ticks": ""
             }
            },
            "type": "scatterpolar"
           }
          ],
          "scatterpolargl": [
           {
            "marker": {
             "colorbar": {
              "outlinewidth": 0,
              "ticks": ""
             }
            },
            "type": "scatterpolargl"
           }
          ],
          "scatterternary": [
           {
            "marker": {
             "colorbar": {
              "outlinewidth": 0,
              "ticks": ""
             }
            },
            "type": "scatterternary"
           }
          ],
          "surface": [
           {
            "colorbar": {
             "outlinewidth": 0,
             "ticks": ""
            },
            "colorscale": [
             [
              0,
              "#0d0887"
             ],
             [
              0.1111111111111111,
              "#46039f"
             ],
             [
              0.2222222222222222,
              "#7201a8"
             ],
             [
              0.3333333333333333,
              "#9c179e"
             ],
             [
              0.4444444444444444,
              "#bd3786"
             ],
             [
              0.5555555555555556,
              "#d8576b"
             ],
             [
              0.6666666666666666,
              "#ed7953"
             ],
             [
              0.7777777777777778,
              "#fb9f3a"
             ],
             [
              0.8888888888888888,
              "#fdca26"
             ],
             [
              1,
              "#f0f921"
             ]
            ],
            "type": "surface"
           }
          ],
          "table": [
           {
            "cells": {
             "fill": {
              "color": "#EBF0F8"
             },
             "line": {
              "color": "white"
             }
            },
            "header": {
             "fill": {
              "color": "#C8D4E3"
             },
             "line": {
              "color": "white"
             }
            },
            "type": "table"
           }
          ]
         },
         "layout": {
          "annotationdefaults": {
           "arrowcolor": "#2a3f5f",
           "arrowhead": 0,
           "arrowwidth": 1
          },
          "autotypenumbers": "strict",
          "coloraxis": {
           "colorbar": {
            "outlinewidth": 0,
            "ticks": ""
           }
          },
          "colorscale": {
           "diverging": [
            [
             0,
             "#8e0152"
            ],
            [
             0.1,
             "#c51b7d"
            ],
            [
             0.2,
             "#de77ae"
            ],
            [
             0.3,
             "#f1b6da"
            ],
            [
             0.4,
             "#fde0ef"
            ],
            [
             0.5,
             "#f7f7f7"
            ],
            [
             0.6,
             "#e6f5d0"
            ],
            [
             0.7,
             "#b8e186"
            ],
            [
             0.8,
             "#7fbc41"
            ],
            [
             0.9,
             "#4d9221"
            ],
            [
             1,
             "#276419"
            ]
           ],
           "sequential": [
            [
             0,
             "#0d0887"
            ],
            [
             0.1111111111111111,
             "#46039f"
            ],
            [
             0.2222222222222222,
             "#7201a8"
            ],
            [
             0.3333333333333333,
             "#9c179e"
            ],
            [
             0.4444444444444444,
             "#bd3786"
            ],
            [
             0.5555555555555556,
             "#d8576b"
            ],
            [
             0.6666666666666666,
             "#ed7953"
            ],
            [
             0.7777777777777778,
             "#fb9f3a"
            ],
            [
             0.8888888888888888,
             "#fdca26"
            ],
            [
             1,
             "#f0f921"
            ]
           ],
           "sequentialminus": [
            [
             0,
             "#0d0887"
            ],
            [
             0.1111111111111111,
             "#46039f"
            ],
            [
             0.2222222222222222,
             "#7201a8"
            ],
            [
             0.3333333333333333,
             "#9c179e"
            ],
            [
             0.4444444444444444,
             "#bd3786"
            ],
            [
             0.5555555555555556,
             "#d8576b"
            ],
            [
             0.6666666666666666,
             "#ed7953"
            ],
            [
             0.7777777777777778,
             "#fb9f3a"
            ],
            [
             0.8888888888888888,
             "#fdca26"
            ],
            [
             1,
             "#f0f921"
            ]
           ]
          },
          "colorway": [
           "#636efa",
           "#EF553B",
           "#00cc96",
           "#ab63fa",
           "#FFA15A",
           "#19d3f3",
           "#FF6692",
           "#B6E880",
           "#FF97FF",
           "#FECB52"
          ],
          "font": {
           "color": "#2a3f5f"
          },
          "geo": {
           "bgcolor": "white",
           "lakecolor": "white",
           "landcolor": "#E5ECF6",
           "showlakes": true,
           "showland": true,
           "subunitcolor": "white"
          },
          "hoverlabel": {
           "align": "left"
          },
          "hovermode": "closest",
          "mapbox": {
           "style": "light"
          },
          "paper_bgcolor": "white",
          "plot_bgcolor": "#E5ECF6",
          "polar": {
           "angularaxis": {
            "gridcolor": "white",
            "linecolor": "white",
            "ticks": ""
           },
           "bgcolor": "#E5ECF6",
           "radialaxis": {
            "gridcolor": "white",
            "linecolor": "white",
            "ticks": ""
           }
          },
          "scene": {
           "xaxis": {
            "backgroundcolor": "#E5ECF6",
            "gridcolor": "white",
            "gridwidth": 2,
            "linecolor": "white",
            "showbackground": true,
            "ticks": "",
            "zerolinecolor": "white"
           },
           "yaxis": {
            "backgroundcolor": "#E5ECF6",
            "gridcolor": "white",
            "gridwidth": 2,
            "linecolor": "white",
            "showbackground": true,
            "ticks": "",
            "zerolinecolor": "white"
           },
           "zaxis": {
            "backgroundcolor": "#E5ECF6",
            "gridcolor": "white",
            "gridwidth": 2,
            "linecolor": "white",
            "showbackground": true,
            "ticks": "",
            "zerolinecolor": "white"
           }
          },
          "shapedefaults": {
           "line": {
            "color": "#2a3f5f"
           }
          },
          "ternary": {
           "aaxis": {
            "gridcolor": "white",
            "linecolor": "white",
            "ticks": ""
           },
           "baxis": {
            "gridcolor": "white",
            "linecolor": "white",
            "ticks": ""
           },
           "bgcolor": "#E5ECF6",
           "caxis": {
            "gridcolor": "white",
            "linecolor": "white",
            "ticks": ""
           }
          },
          "title": {
           "x": 0.05
          },
          "xaxis": {
           "automargin": true,
           "gridcolor": "white",
           "linecolor": "white",
           "ticks": "",
           "title": {
            "standoff": 15
           },
           "zerolinecolor": "white",
           "zerolinewidth": 2
          },
          "yaxis": {
           "automargin": true,
           "gridcolor": "white",
           "linecolor": "white",
           "ticks": "",
           "title": {
            "standoff": 15
           },
           "zerolinecolor": "white",
           "zerolinewidth": 2
          }
         }
        },
        "title": {
         "text": "Side By Side Subplots"
        },
        "width": 800,
        "xaxis": {
         "anchor": "y",
         "autorange": true,
         "domain": [
          0,
          0.2888888888888889
         ],
         "range": [
          42.638,
          42.678
         ],
         "type": "linear"
        },
        "xaxis2": {
         "anchor": "y2",
         "autorange": true,
         "domain": [
          0.35555555555555557,
          0.6444444444444445
         ],
         "range": [
          29.5,
          199.5
         ],
         "type": "linear"
        },
        "xaxis3": {
         "anchor": "y3",
         "autorange": true,
         "domain": [
          0.7111111111111111,
          1
         ],
         "range": [
          -0.5,
          159.5
         ],
         "type": "linear"
        },
        "xaxis4": {
         "anchor": "y4",
         "autorange": true,
         "domain": [
          0,
          0.2888888888888889
         ],
         "range": [
          -73.83,
          -73.735
         ],
         "type": "linear"
        },
        "xaxis5": {
         "anchor": "y5",
         "autorange": true,
         "domain": [
          0.35555555555555557,
          0.6444444444444445
         ],
         "range": [
          0.5,
          3.5
         ],
         "type": "linear"
        },
        "xaxis6": {
         "anchor": "y6",
         "autorange": true,
         "domain": [
          0.7111111111111111,
          1
         ],
         "range": [
          0,
          6
         ],
         "type": "linear"
        },
        "xaxis7": {
         "anchor": "y7",
         "domain": [
          0,
          0.2888888888888889
         ]
        },
        "xaxis8": {
         "anchor": "y8",
         "domain": [
          0.35555555555555557,
          0.6444444444444445
         ]
        },
        "xaxis9": {
         "anchor": "y9",
         "domain": [
          0.7111111111111111,
          1
         ]
        },
        "yaxis": {
         "anchor": "x",
         "autorange": true,
         "domain": [
          0.7333333333333333,
          1
         ],
         "range": [
          0,
          14.42693026983703
         ]
        },
        "yaxis2": {
         "anchor": "x2",
         "autorange": true,
         "domain": [
          0.7333333333333333,
          1
         ],
         "range": [
          0,
          13.892599519102324
         ]
        },
        "yaxis3": {
         "anchor": "x3",
         "autorange": true,
         "domain": [
          0.7333333333333333,
          1
         ],
         "range": [
          0,
          30.45685279187817
         ]
        },
        "yaxis4": {
         "anchor": "x4",
         "autorange": true,
         "domain": [
          0.36666666666666664,
          0.6333333333333333
         ],
         "range": [
          0,
          16.029922522041144
         ]
        },
        "yaxis5": {
         "anchor": "x5",
         "autorange": true,
         "domain": [
          0.36666666666666664,
          0.6333333333333333
         ],
         "range": [
          0,
          58.24205183008282
         ]
        },
        "yaxis6": {
         "anchor": "x6",
         "autorange": true,
         "domain": [
          0.36666666666666664,
          0.6333333333333333
         ],
         "range": [
          0,
          19.23590702644937
         ]
        },
        "yaxis7": {
         "anchor": "x7",
         "domain": [
          0,
          0.26666666666666666
         ]
        },
        "yaxis8": {
         "anchor": "x8",
         "domain": [
          0,
          0.26666666666666666
         ]
        },
        "yaxis9": {
         "anchor": "x9",
         "domain": [
          0,
          0.26666666666666666
         ]
        }
       }
      },
      "image/png": "[encoded data removed]",
      "text/html": [
       "<div>                            <div id=\"8ab5ce62-2d3c-48f0-a6b3-f6fe434f5770\" class=\"plotly-graph-div\" style=\"height:1200px; width:800px;\"></div>            <script type=\"text/javascript\">                require([\"plotly\"], function(Plotly) {                    window.PLOTLYENV=window.PLOTLYENV || {};                                    if (document.getElementById(\"8ab5ce62-2d3c-48f0-a6b3-f6fe434f5770\")) {                    Plotly.newPlot(                        \"8ab5ce62-2d3c-48f0-a6b3-f6fe434f5770\",                        [{\"histnorm\":\"percent\",\"marker\":{\"color\":\"#330C73\"},\"name\":\"Latitude\",\"opacity\":0.75,\"x\":[42.64484,42.66063,42.65651,42.67614,42.65729,42.65312,42.6436,42.675,42.64939,42.65532,42.65372,42.66045,42.65501,42.65975,42.65431,42.65333,42.65403,42.6543083190918,42.65821,42.65746,42.6737,42.65235,42.6533,42.67519,42.65259,42.66619,42.66827,42.66403,42.64453,42.66257,42.66132,42.64454,42.6545,42.64801,42.64821,42.64713,42.66137,42.66646,42.65345,42.67156,42.6692,42.6511808672392,42.66261,42.65399,42.65429,42.65157,42.65888,42.65901,42.65856,42.65812,42.65269,42.64684,42.67643,42.65934,42.67044,42.65386,42.65812,42.65826,42.67004,42.65824,42.65913,42.674675,42.66261,42.65422,42.65403,42.64459,42.65578,42.65905,42.65902,42.6595,42.6598,42.65848,42.66911,42.652049,42.65353,42.640217,42.65723,42.64372,42.64528,42.64558,42.65323,42.65427,42.64595,42.65389,42.65752,42.65541380925019,42.66758,42.66764,42.6694413,42.65732,42.6623,42.64638,42.6513719,42.64564,42.6543178,42.64469,42.65569,42.6496,42.64284,42.66648,42.64439384900326,42.6444412,42.65259,42.65405,42.66117,42.6601,42.6518469,42.65725,42.65183,42.66298,42.6591503133547,42.6653,42.65489,42.67283,42.65582,42.6538578,42.65741,42.66958,42.65751,42.656329,42.656329,42.65588,42.6684126,42.67239,42.67143614564987,42.65258,42.66109,42.65613,42.66007584297136,42.67336,42.6457663,42.65817,42.66947,42.66128,42.67355,42.65379,42.6599733,42.66246,42.6628771,42.6573,42.66215778253739,42.66087,42.64787,42.6652959,42.66217,42.66261,42.6559529,42.65483722729842,42.654965911269095,42.67066076442359,42.65654925592276,42.658672199777634,42.6606,42.659082586070085,42.65846944486231,42.6708367,42.669735657513975,42.65801,42.65798404004404,42.67033901962889,42.66000843071908,42.6549886,42.65240863051438,42.67059398561849,42.65679550669701,42.65312775001394,42.66627900500492,42.66391565517209,42.65259924007496,42.6709773627501,42.65623,42.65761589542138,42.6554977755084,42.65483900711961,42.64534889999999,42.67002775509383,42.6697096084112,42.66873116573401,42.65538680270734,42.66996089870569,42.6535,42.64713879857583,42.65859808957202,42.65970700274541,42.64655138980193,42.66838,42.65487397780481,42.6759553661711,42.6736802909505,42.65446887973431,42.66106893179246,42.639757084309245,42.659886051712505,42.65098734769702,42.66311590202129,42.663915656143736,42.66943098938467],\"type\":\"histogram\",\"xaxis\":\"x\",\"yaxis\":\"y\"},{\"histnorm\":\"percent\",\"marker\":{\"color\":\"#330C73\"},\"name\":\"Longitude\",\"opacity\":0.75,\"x\":[-73.75851,-73.78115,-73.77887,-73.78169,-73.80321,-73.78161,-73.75887,-73.82382,-73.76865,-73.78244,-73.78244,-73.77833,-73.78122,-73.81196,-73.78178,-73.77293,-73.76325,-73.78177642822266,-73.76917,-73.77904,-73.75313,-73.76714,-73.78114,-73.82281,-73.78223,-73.79031,-73.79231,-73.81446,-73.75426,-73.78281,-73.7956,-73.75369,-73.78223,-73.75668,-73.75793,-73.75628,-73.7904,-73.79184,-73.76663,-73.80883,-73.79849,-73.75273894471623,-73.78332,-73.78126,-73.75986,-73.76546,-73.74673,-73.74748,-73.74866,-73.74941,-73.76076,-73.75614,-73.82903,-73.76966,-73.82573,-73.75958,-73.74837,-73.76944,-73.82367,-73.80114,-73.74722,-73.822861,-73.79026,-73.76996,-73.77056,-73.75392,-73.78641,-73.77964,-73.7701,-73.76938,-73.76995,-73.76359,-73.79869,-73.7949665,-73.7679,-73.780815,-73.75684,-73.78426,-73.75861,-73.75928,-73.76797,-73.76455,-73.76196,-73.76538,-73.74743,-73.76367520540953,-73.7992,-73.79908,-73.79749410000001,-73.75676,-73.777,-73.76146,-73.7673156,-73.75261,-73.7818222,-73.761,-73.77685,-73.76792,-73.77997,-73.76831,-73.75975701534425,-73.75971410000001,-73.76732,-73.76953,-73.79091,-73.80719,-73.7642072,-73.75065,-73.76594,-73.81361,-73.75431932508945,-73.7943,-73.77061,-73.77367,-73.77541,-73.7855281,-73.78034,-73.79722,-73.77409,-73.775205,-73.775205,-73.75332,-73.7684199,-73.79418,-73.79032550419785,-73.76917,-73.80479,-73.77469,-73.76976949435519,-73.78619,-73.7586141,-73.74935,-73.81607,-73.80548,-73.78496,-73.76901,-73.7747433,-73.76576,-73.76534029999999,-73.7521,-73.79234533756971,-73.78655,-73.76707,-73.7868778,-73.78299,-73.79158,-73.7807478,-73.79149618599958,-73.78021704609974,-73.79571205018514,-73.77433674199318,-73.77478693204898,-73.77284,-73.77455698333637,-73.77272373106814,-73.7853116,-73.78610658197474,-73.80049,-73.80128215056936,-73.78509801171585,-73.77397295619353,-73.79390939999999,-73.77002141071337,-73.81678288145305,-73.75335661522755,-73.76950465142727,-73.76511947562057,-73.77786945551634,-73.761780139996,-73.80695225761066,-73.7641152,-73.75115885472674,-73.8106566601018,-73.7674333870007,-73.75364650000002,-73.7977054151877,-73.797549986088,-73.79930289371134,-73.76416369206528,-73.7981565369516,-73.77046,-73.7546608201248,-73.76420635863742,-73.76382104785372,-73.7597240543698,-73.77868,-73.76519868723663,-73.79260844002489,-73.78413107868002,-73.76077862456057,-73.78973060044702,-73.75705214104126,-73.7920570376047,-73.76307767802679,-73.7381032862318,-73.77786945551634,-73.79881962357733],\"type\":\"histogram\",\"xaxis\":\"x4\",\"yaxis\":\"y4\"},{\"histnorm\":\"percent\",\"marker\":{\"color\":\"#330C73\"},\"name\":\"Price\",\"opacity\":0.75,\"x\":[190.0,199.0,56.0,53.0,62.0,70.0,169.0,196.0,126.0,85.0,70.0,69.0,55.0,75.0,55.0,100.0,89.0,55.0,75.0,56.0,95.0,119.0,55.0,39.0,50.0,110.0,95.0,45.0,117.0,145.0,119.0,97.0,79.0,120.0,122.0,140.0,100.0,92.0,125.0,79.0,95.0,109.0,147.0,45.0,88.0,109.0,115.0,120.0,115.0,85.0,88.0,125.0,40.0,100.0,120.0,88.0,115.0,119.0,88.0,175.0,150.0,160.0,75.0,100.0,100.0,125.0,99.0,79.0,110.0,100.0,100.0,115.0,89.0,100.0,113.0,120.0,129.0,130.0,120.0,115.0,149.0,97.0,99.0,130.0,115.0,118.0,75.0,75.0,141.0,99.0,115.0,90.0,113.0,91.0,45.0,80.0,130.0,82.0,131.0,101.0,145.0,145.0,50.0,110.0,75.0,65.0,107.0,100.0,110.0,60.0,105.0,185.0,102.0,104.0,122.0,87.0,55.0,126.0,127.0,122.0,127.0,89.0,103.0,99.0,50.0,85.0,55.0,157.0,120.0,175.0,85.0,78.0,79.0,55.0,175.0,89.0,67.0,45.0,45.0,104.0,100.0,189.0,155.0,110.0,197.0,72.0,33.0,115.0,44.0,77.0,122.0,184.0,184.0,184.0,184.0,45.0,35.0,135.0,105.0,50.0,115.0,129.0,89.0,100.0,108.0,125.0,120.0,114.0,87.0,99.0,110.0,154.0,143.0,83.0,191.0,50.0,50.0,50.0,95.0,50.0,73.0,65.0,120.0,119.0,100.0,102.0,91.0,155.0,60.0,91.0,114.0,90.0,150.0,125.0,105.0,102.0,51.0],\"type\":\"histogram\",\"xaxis\":\"x2\",\"yaxis\":\"y2\"},{\"histnorm\":\"percent\",\"marker\":{\"color\":\"#330C73\"},\"name\":\"Minimum_Nights\",\"opacity\":0.75,\"x\":[1.0,3.0,2.0,3.0,1.0,1.0,1.0,1.0,2.0,2.0,2.0,2.0,2.0,2.0,2.0,3.0,2.0,2.0,1.0,2.0,1.0,2.0,2.0,2.0,1.0,2.0,2.0,1.0,2.0,1.0,1.0,2.0,2.0,1.0,1.0,1.0,1.0,3.0,2.0,3.0,2.0,1.0,1.0,2.0,2.0,2.0,1.0,1.0,1.0,3.0,2.0,1.0,2.0,2.0,1.0,2.0,1.0,1.0,2.0,1.0,1.0,1.0,1.0,1.0,1.0,2.0,3.0,2.0,2.0,2.0,2.0,1.0,1.0,2.0,1.0,2.0,1.0,2.0,1.0,1.0,1.0,3.0,1.0,2.0,1.0,2.0,1.0,1.0,1.0,1.0,1.0,1.0,2.0,1.0,2.0,3.0,1.0,2.0,1.0,2.0,2.0,2.0,3.0,1.0,1.0,1.0,2.0,1.0,1.0,1.0,2.0,1.0,3.0,3.0,1.0,3.0,2.0,2.0,1.0,1.0,1.0,1.0,1.0,3.0,2.0,1.0,2.0,1.0,2.0,3.0,1.0,3.0,1.0,3.0,2.0,1.0,2.0,1.0,1.0,2.0,1.0,2.0,1.0,2.0,1.0,1.0,1.0,3.0,1.0,1.0,1.0,1.0,1.0,1.0,1.0,2.0,2.0,1.0,1.0,2.0,1.0,1.0,1.0,3.0,1.0,1.0,2.0,1.0,1.0,3.0,2.0,1.0,2.0,1.0,1.0,1.0,1.0,1.0,1.0,1.0,1.0,1.0,1.0,1.0,1.0,2.0,3.0,2.0,1.0,1.0,2.0,1.0,1.0,2.0,1.0,1.0,1.0],\"type\":\"histogram\",\"xaxis\":\"x5\",\"yaxis\":\"y5\"},{\"histnorm\":\"percent\",\"marker\":{\"color\":\"#330C73\"},\"name\":\"Number_Of_Reviews\",\"opacity\":0.75,\"x\":[37.0,18.0,40.0,130.0,33.0,71.0,17.0,55.0,130.0,39.0,111.0,156.0,105.0,120.0,40.0,12.0,107.0,21.0,62.0,60.0,6.0,88.0,63.0,27.0,151.0,51.0,101.0,141.0,80.0,110.0,119.0,30.0,108.0,83.0,95.0,118.0,140.0,61.0,40.0,42.0,113.0,133.0,146.0,51.0,93.0,144.0,68.0,39.0,65.0,69.0,32.0,80.0,21.0,4.0,79.0,64.0,60.0,146.0,27.0,107.0,75.0,16.0,67.0,56.0,101.0,5.0,31.0,39.0,4.0,4.0,6.0,38.0,84.0,33.0,113.0,13.0,127.0,26.0,36.0,40.0,85.0,26.0,48.0,2.0,37.0,64.0,96.0,83.0,56.0,80.0,68.0,39.0,22.0,34.0,21.0,3.0,5.0,9.0,12.0,13.0,35.0,28.0,14.0,25.0,8.0,38.0,23.0,46.0,10.0,11.0,31.0,50.0,11.0,6.0,7.0,13.0,10.0,9.0,5.0,3.0,4.0,61.0,19.0,31.0,10.0,27.0,3.0,17.0,1.0,12.0,29.0,11.0,48.0,3.0,19.0,8.0,35.0,16.0,13.0,5.0,11.0,29.0,24.0,7.0,20.0,7.0,5.0,1.0,7.0,17.0,3.0,2.0,4.0,4.0,1.0,13.0,12.0,4.0,1.0,3.0,8.0,38.0,17.0,6.0,16.0,4.0,2.0,16.0,5.0,4.0,12.0,8.0,2.0,7.0,11.0,15.0,14.0,13.0,6.0,14.0,12.0,13.0,1.0,7.0,6.0,13.0,5.0,4.0,11.0,10.0,6.0,4.0,1.0,2.0,1.0,7.0,1.0],\"type\":\"histogram\",\"xaxis\":\"x3\",\"yaxis\":\"y3\"},{\"histnorm\":\"percent\",\"marker\":{\"color\":\"#330C73\"},\"name\":\"Reviews_Per_Month\",\"opacity\":0.75,\"x\":[0.4,0.18,0.48,1.55,0.4,1.08,0.21,0.71,1.79,0.49,1.45,2.04,1.4,1.67,0.61,0.17,1.57,0.34,0.93,0.91,0.09,1.35,1.01,0.43,2.66,0.9,1.95,2.86,1.9,2.45,2.76,0.99,2.61,2.18,2.5,3.12,3.38,1.61,1.06,1.13,2.95,3.56,3.9,1.39,2.95,4.6,2.03,1.23,2.07,2.34,1.04,2.65,0.76,0.16,2.68,2.14,2.07,5.06,0.96,4.02,2.74,0.66,3.15,2.35,3.82,0.27,1.74,1.78,0.16,0.16,0.24,1.57,4.09,2.04,5.03,0.69,5.7,1.17,1.68,1.84,3.95,1.32,2.48,0.17,1.84,3.25,4.75,4.11,2.88,4.1,4.65,2.22,3.46,2.05,1.26,0.19,0.34,0.81,0.76,1.01,2.76,2.54,0.97,1.66,0.51,2.61,1.57,3.17,0.69,0.84,2.31,3.96,0.84,0.62,0.9,1.1,0.74,0.71,0.68,0.38,0.5,4.72,1.4,2.4,1.36,2.04,0.24,1.32,0.16,1.08,2.57,1.13,4.39,0.55,1.88,0.76,3.51,1.71,1.31,0.51,1.23,3.26,2.7,0.76,2.48,0.85,0.71,0.14,0.86,2.25,0.39,0.31,0.77,0.57,0.21,1.7,1.55,0.63,0.14,1.55,1.17,5.53,2.6,1.07,2.91,0.79,0.42,2.81,3.06,0.76,2.4,1.66,2.0,1.48,2.44,3.49,3.28,3.1,1.41,3.47,3.16,4.06,0.28,2.1,2.43,3.9,1.38,1.28,3.88,4.23,2.05,4.0,1.0,2.0,0.83,5.68,1.0],\"type\":\"histogram\",\"xaxis\":\"x6\",\"yaxis\":\"y6\"}],                        {\"template\":{\"data\":{\"histogram2dcontour\":[{\"type\":\"histogram2dcontour\",\"colorbar\":{\"outlinewidth\":0,\"ticks\":\"\"},\"colorscale\":[[0.0,\"#0d0887\"],[0.1111111111111111,\"#46039f\"],[0.2222222222222222,\"#7201a8\"],[0.3333333333333333,\"#9c179e\"],[0.4444444444444444,\"#bd3786\"],[0.5555555555555556,\"#d8576b\"],[0.6666666666666666,\"#ed7953\"],[0.7777777777777778,\"#fb9f3a\"],[0.8888888888888888,\"#fdca26\"],[1.0,\"#f0f921\"]]}],\"choropleth\":[{\"type\":\"choropleth\",\"colorbar\":{\"outlinewidth\":0,\"ticks\":\"\"}}],\"histogram2d\":[{\"type\":\"histogram2d\",\"colorbar\":{\"outlinewidth\":0,\"ticks\":\"\"},\"colorscale\":[[0.0,\"#0d0887\"],[0.1111111111111111,\"#46039f\"],[0.2222222222222222,\"#7201a8\"],[0.3333333333333333,\"#9c179e\"],[0.4444444444444444,\"#bd3786\"],[0.5555555555555556,\"#d8576b\"],[0.6666666666666666,\"#ed7953\"],[0.7777777777777778,\"#fb9f3a\"],[0.8888888888888888,\"#fdca26\"],[1.0,\"#f0f921\"]]}],\"heatmap\":[{\"type\":\"heatmap\",\"colorbar\":{\"outlinewidth\":0,\"ticks\":\"\"},\"colorscale\":[[0.0,\"#0d0887\"],[0.1111111111111111,\"#46039f\"],[0.2222222222222222,\"#7201a8\"],[0.3333333333333333,\"#9c179e\"],[0.4444444444444444,\"#bd3786\"],[0.5555555555555556,\"#d8576b\"],[0.6666666666666666,\"#ed7953\"],[0.7777777777777778,\"#fb9f3a\"],[0.8888888888888888,\"#fdca26\"],[1.0,\"#f0f921\"]]}],\"heatmapgl\":[{\"type\":\"heatmapgl\",\"colorbar\":{\"outlinewidth\":0,\"ticks\":\"\"},\"colorscale\":[[0.0,\"#0d0887\"],[0.1111111111111111,\"#46039f\"],[0.2222222222222222,\"#7201a8\"],[0.3333333333333333,\"#9c179e\"],[0.4444444444444444,\"#bd3786\"],[0.5555555555555556,\"#d8576b\"],[0.6666666666666666,\"#ed7953\"],[0.7777777777777778,\"#fb9f3a\"],[0.8888888888888888,\"#fdca26\"],[1.0,\"#f0f921\"]]}],\"contourcarpet\":[{\"type\":\"contourcarpet\",\"colorbar\":{\"outlinewidth\":0,\"ticks\":\"\"}}],\"contour\":[{\"type\":\"contour\",\"colorbar\":{\"outlinewidth\":0,\"ticks\":\"\"},\"colorscale\":[[0.0,\"#0d0887\"],[0.1111111111111111,\"#46039f\"],[0.2222222222222222,\"#7201a8\"],[0.3333333333333333,\"#9c179e\"],[0.4444444444444444,\"#bd3786\"],[0.5555555555555556,\"#d8576b\"],[0.6666666666666666,\"#ed7953\"],[0.7777777777777778,\"#fb9f3a\"],[0.8888888888888888,\"#fdca26\"],[1.0,\"#f0f921\"]]}],\"surface\":[{\"type\":\"surface\",\"colorbar\":{\"outlinewidth\":0,\"ticks\":\"\"},\"colorscale\":[[0.0,\"#0d0887\"],[0.1111111111111111,\"#46039f\"],[0.2222222222222222,\"#7201a8\"],[0.3333333333333333,\"#9c179e\"],[0.4444444444444444,\"#bd3786\"],[0.5555555555555556,\"#d8576b\"],[0.6666666666666666,\"#ed7953\"],[0.7777777777777778,\"#fb9f3a\"],[0.8888888888888888,\"#fdca26\"],[1.0,\"#f0f921\"]]}],\"mesh3d\":[{\"type\":\"mesh3d\",\"colorbar\":{\"outlinewidth\":0,\"ticks\":\"\"}}],\"scatter\":[{\"fillpattern\":{\"fillmode\":\"overlay\",\"size\":10,\"solidity\":0.2},\"type\":\"scatter\"}],\"parcoords\":[{\"type\":\"parcoords\",\"line\":{\"colorbar\":{\"outlinewidth\":0,\"ticks\":\"\"}}}],\"scatterpolargl\":[{\"type\":\"scatterpolargl\",\"marker\":{\"colorbar\":{\"outlinewidth\":0,\"ticks\":\"\"}}}],\"bar\":[{\"error_x\":{\"color\":\"#2a3f5f\"},\"error_y\":{\"color\":\"#2a3f5f\"},\"marker\":{\"line\":{\"color\":\"#E5ECF6\",\"width\":0.5},\"pattern\":{\"fillmode\":\"overlay\",\"size\":10,\"solidity\":0.2}},\"type\":\"bar\"}],\"scattergeo\":[{\"type\":\"scattergeo\",\"marker\":{\"colorbar\":{\"outlinewidth\":0,\"ticks\":\"\"}}}],\"scatterpolar\":[{\"type\":\"scatterpolar\",\"marker\":{\"colorbar\":{\"outlinewidth\":0,\"ticks\":\"\"}}}],\"histogram\":[{\"marker\":{\"pattern\":{\"fillmode\":\"overlay\",\"size\":10,\"solidity\":0.2}},\"type\":\"histogram\"}],\"scattergl\":[{\"type\":\"scattergl\",\"marker\":{\"colorbar\":{\"outlinewidth\":0,\"ticks\":\"\"}}}],\"scatter3d\":[{\"type\":\"scatter3d\",\"line\":{\"colorbar\":{\"outlinewidth\":0,\"ticks\":\"\"}},\"marker\":{\"colorbar\":{\"outlinewidth\":0,\"ticks\":\"\"}}}],\"scattermapbox\":[{\"type\":\"scattermapbox\",\"marker\":{\"colorbar\":{\"outlinewidth\":0,\"ticks\":\"\"}}}],\"scatterternary\":[{\"type\":\"scatterternary\",\"marker\":{\"colorbar\":{\"outlinewidth\":0,\"ticks\":\"\"}}}],\"scattercarpet\":[{\"type\":\"scattercarpet\",\"marker\":{\"colorbar\":{\"outlinewidth\":0,\"ticks\":\"\"}}}],\"carpet\":[{\"aaxis\":{\"endlinecolor\":\"#2a3f5f\",\"gridcolor\":\"white\",\"linecolor\":\"white\",\"minorgridcolor\":\"white\",\"startlinecolor\":\"#2a3f5f\"},\"baxis\":{\"endlinecolor\":\"#2a3f5f\",\"gridcolor\":\"white\",\"linecolor\":\"white\",\"minorgridcolor\":\"white\",\"startlinecolor\":\"#2a3f5f\"},\"type\":\"carpet\"}],\"table\":[{\"cells\":{\"fill\":{\"color\":\"#EBF0F8\"},\"line\":{\"color\":\"white\"}},\"header\":{\"fill\":{\"color\":\"#C8D4E3\"},\"line\":{\"color\":\"white\"}},\"type\":\"table\"}],\"barpolar\":[{\"marker\":{\"line\":{\"color\":\"#E5ECF6\",\"width\":0.5},\"pattern\":{\"fillmode\":\"overlay\",\"size\":10,\"solidity\":0.2}},\"type\":\"barpolar\"}],\"pie\":[{\"automargin\":true,\"type\":\"pie\"}]},\"layout\":{\"autotypenumbers\":\"strict\",\"colorway\":[\"#636efa\",\"#EF553B\",\"#00cc96\",\"#ab63fa\",\"#FFA15A\",\"#19d3f3\",\"#FF6692\",\"#B6E880\",\"#FF97FF\",\"#FECB52\"],\"font\":{\"color\":\"#2a3f5f\"},\"hovermode\":\"closest\",\"hoverlabel\":{\"align\":\"left\"},\"paper_bgcolor\":\"white\",\"plot_bgcolor\":\"#E5ECF6\",\"polar\":{\"bgcolor\":\"#E5ECF6\",\"angularaxis\":{\"gridcolor\":\"white\",\"linecolor\":\"white\",\"ticks\":\"\"},\"radialaxis\":{\"gridcolor\":\"white\",\"linecolor\":\"white\",\"ticks\":\"\"}},\"ternary\":{\"bgcolor\":\"#E5ECF6\",\"aaxis\":{\"gridcolor\":\"white\",\"linecolor\":\"white\",\"ticks\":\"\"},\"baxis\":{\"gridcolor\":\"white\",\"linecolor\":\"white\",\"ticks\":\"\"},\"caxis\":{\"gridcolor\":\"white\",\"linecolor\":\"white\",\"ticks\":\"\"}},\"coloraxis\":{\"colorbar\":{\"outlinewidth\":0,\"ticks\":\"\"}},\"colorscale\":{\"sequential\":[[0.0,\"#0d0887\"],[0.1111111111111111,\"#46039f\"],[0.2222222222222222,\"#7201a8\"],[0.3333333333333333,\"#9c179e\"],[0.4444444444444444,\"#bd3786\"],[0.5555555555555556,\"#d8576b\"],[0.6666666666666666,\"#ed7953\"],[0.7777777777777778,\"#fb9f3a\"],[0.8888888888888888,\"#fdca26\"],[1.0,\"#f0f921\"]],\"sequentialminus\":[[0.0,\"#0d0887\"],[0.1111111111111111,\"#46039f\"],[0.2222222222222222,\"#7201a8\"],[0.3333333333333333,\"#9c179e\"],[0.4444444444444444,\"#bd3786\"],[0.5555555555555556,\"#d8576b\"],[0.6666666666666666,\"#ed7953\"],[0.7777777777777778,\"#fb9f3a\"],[0.8888888888888888,\"#fdca26\"],[1.0,\"#f0f921\"]],\"diverging\":[[0,\"#8e0152\"],[0.1,\"#c51b7d\"],[0.2,\"#de77ae\"],[0.3,\"#f1b6da\"],[0.4,\"#fde0ef\"],[0.5,\"#f7f7f7\"],[0.6,\"#e6f5d0\"],[0.7,\"#b8e186\"],[0.8,\"#7fbc41\"],[0.9,\"#4d9221\"],[1,\"#276419\"]]},\"xaxis\":{\"gridcolor\":\"white\",\"linecolor\":\"white\",\"ticks\":\"\",\"title\":{\"standoff\":15},\"zerolinecolor\":\"white\",\"automargin\":true,\"zerolinewidth\":2},\"yaxis\":{\"gridcolor\":\"white\",\"linecolor\":\"white\",\"ticks\":\"\",\"title\":{\"standoff\":15},\"zerolinecolor\":\"white\",\"automargin\":true,\"zerolinewidth\":2},\"scene\":{\"xaxis\":{\"backgroundcolor\":\"#E5ECF6\",\"gridcolor\":\"white\",\"linecolor\":\"white\",\"showbackground\":true,\"ticks\":\"\",\"zerolinecolor\":\"white\",\"gridwidth\":2},\"yaxis\":{\"backgroundcolor\":\"#E5ECF6\",\"gridcolor\":\"white\",\"linecolor\":\"white\",\"showbackground\":true,\"ticks\":\"\",\"zerolinecolor\":\"white\",\"gridwidth\":2},\"zaxis\":{\"backgroundcolor\":\"#E5ECF6\",\"gridcolor\":\"white\",\"linecolor\":\"white\",\"showbackground\":true,\"ticks\":\"\",\"zerolinecolor\":\"white\",\"gridwidth\":2}},\"shapedefaults\":{\"line\":{\"color\":\"#2a3f5f\"}},\"annotationdefaults\":{\"arrowcolor\":\"#2a3f5f\",\"arrowhead\":0,\"arrowwidth\":1},\"geo\":{\"bgcolor\":\"white\",\"landcolor\":\"#E5ECF6\",\"subunitcolor\":\"white\",\"showland\":true,\"showlakes\":true,\"lakecolor\":\"white\"},\"title\":{\"x\":0.05},\"mapbox\":{\"style\":\"light\"}}},\"xaxis\":{\"anchor\":\"y\",\"domain\":[0.0,0.2888888888888889]},\"yaxis\":{\"anchor\":\"x\",\"domain\":[0.7333333333333333,1.0]},\"xaxis2\":{\"anchor\":\"y2\",\"domain\":[0.35555555555555557,0.6444444444444445]},\"yaxis2\":{\"anchor\":\"x2\",\"domain\":[0.7333333333333333,1.0]},\"xaxis3\":{\"anchor\":\"y3\",\"domain\":[0.7111111111111111,1.0]},\"yaxis3\":{\"anchor\":\"x3\",\"domain\":[0.7333333333333333,1.0]},\"xaxis4\":{\"anchor\":\"y4\",\"domain\":[0.0,0.2888888888888889]},\"yaxis4\":{\"anchor\":\"x4\",\"domain\":[0.36666666666666664,0.6333333333333333]},\"xaxis5\":{\"anchor\":\"y5\",\"domain\":[0.35555555555555557,0.6444444444444445]},\"yaxis5\":{\"anchor\":\"x5\",\"domain\":[0.36666666666666664,0.6333333333333333]},\"xaxis6\":{\"anchor\":\"y6\",\"domain\":[0.7111111111111111,1.0]},\"yaxis6\":{\"anchor\":\"x6\",\"domain\":[0.36666666666666664,0.6333333333333333]},\"xaxis7\":{\"anchor\":\"y7\",\"domain\":[0.0,0.2888888888888889]},\"yaxis7\":{\"anchor\":\"x7\",\"domain\":[0.0,0.26666666666666666]},\"xaxis8\":{\"anchor\":\"y8\",\"domain\":[0.35555555555555557,0.6444444444444445]},\"yaxis8\":{\"anchor\":\"x8\",\"domain\":[0.0,0.26666666666666666]},\"xaxis9\":{\"anchor\":\"y9\",\"domain\":[0.7111111111111111,1.0]},\"yaxis9\":{\"anchor\":\"x9\",\"domain\":[0.0,0.26666666666666666]},\"title\":{\"text\":\"Side By Side Subplots\"},\"height\":1200,\"width\":800},                        {\"responsive\": true}                    ).then(function(){\n",
       "                            \n",
       "var gd = document.getElementById('8ab5ce62-2d3c-48f0-a6b3-f6fe434f5770');\n",
       "var x = new MutationObserver(function (mutations, observer) {{\n",
       "        var display = window.getComputedStyle(gd).display;\n",
       "        if (!display || display === 'none') {{\n",
       "            console.log([gd, 'removed!']);\n",
       "            Plotly.purge(gd);\n",
       "            observer.disconnect();\n",
       "        }}\n",
       "}});\n",
       "\n",
       "// Listen for the removal of the full notebook cells\n",
       "var notebookContainer = gd.closest('#notebook-container');\n",
       "if (notebookContainer) {{\n",
       "    x.observe(notebookContainer, {childList: true});\n",
       "}}\n",
       "\n",
       "// Listen for the clearing of the current output cell\n",
       "var outputEl = gd.closest('.output');\n",
       "if (outputEl) {{\n",
       "    x.observe(outputEl, {childList: true});\n",
       "}}\n",
       "\n",
       "                        })                };                });            </script>        </div>"
      ]
     },
     "metadata": {},
     "output_type": "display_data"
    }
   ],
   "source": [
    "from plotly.subplots import make_subplots\n",
    "\n",
    "fig = make_subplots(rows=3, cols=3)\n",
    "i = 1\n",
    "j = 1\n",
    "for col in selected_columns:\n",
    "    if j == 4:\n",
    "        break\n",
    "    fig.add_trace(\n",
    "    go.Histogram(x = df[col] ,\n",
    "    histnorm='percent',\n",
    "    name=col.title(),\n",
    "    xbins=dict(\n",
    "        # start=-3.0,\n",
    "        # end=4,\n",
    "        # size=0.5\n",
    "    ),\n",
    "    marker_color='#330C73',\n",
    "    opacity=0.75\n",
    "),\n",
    "    row=i, col=j\n",
    "    \n",
    ")\n",
    "\n",
    "    i +=1\n",
    "    if i == 3:\n",
    "        j = j + 1\n",
    "        i = 1\n",
    "\n",
    "\n",
    "\n",
    "\n",
    "fig.update_layout(height=1200, width=800, title_text=\"Side By Side Subplots\")\n",
    "fig.show()"
   ]
  },
  {
   "cell_type": "code",
   "execution_count": null,
   "id": "a040d51a-c93f-4d1d-b5b0-11ad4ccfc1ab",
   "metadata": {},
   "outputs": [],
   "source": []
  },
  {
   "cell_type": "code",
   "execution_count": null,
   "id": "c5cc7e52-6371-4bd0-8db3-add8a3d6e84c",
   "metadata": {},
   "outputs": [],
   "source": []
  },
  {
   "cell_type": "code",
   "execution_count": null,
   "id": "39702c70-9b0d-46fc-9cd2-6bae75f9edde",
   "metadata": {},
   "outputs": [],
   "source": []
  }
 ],
 "metadata": {
  "kernelspec": {
   "display_name": "Python 3 (ipykernel)",
   "language": "python",
   "name": "python3"
  },
  "language_info": {
   "codemirror_mode": {
    "name": "ipython",
    "version": 3
   },
   "file_extension": ".py",
   "mimetype": "text/x-python",
   "name": "python",
   "nbconvert_exporter": "python",
   "pygments_lexer": "ipython3",
   "version": "3.10.12"
  }
 },
 "nbformat": 4,
 "nbformat_minor": 5
}
