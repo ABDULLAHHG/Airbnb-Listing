{
 "cells": [
  {
   "cell_type": "markdown",
   "id": "9798ceaa",
   "metadata": {},
   "source": [
    "Project Description:\n",
    "This project focuses on performing an exploratory data analysis (EDA) of Airbnb listings within a selected city. The goal is to examine various factors such as price, availability, location, and property type to uncover the underlying trends and patterns that influence the demand for Airbnb listings. Through this analysis, we aim to provide a comprehensive overview of the Airbnb market in the city, helping stakeholders to make informed decisions.\n",
    "\n",
    "Objectives:\n",
    "- Analyze key factors that influence the demand for Airbnb listings in the city, including but not limited to price, availability, location, and property type.\n",
    "- Perform thorough data cleaning to prepare the dataset for in-depth analysis, ensuring the removal of outliers and handling of missing values.\n",
    "- Utilize advanced data visualization techniques to illustrate trends and patterns in the data, making it easier to identify key insights.\n",
    "- Conduct statistical analysis to substantiate the findings and insights derived from the data.\n",
    "- Employ Python and Jupyter Notebook as the primary tools for conducting the analysis and visualization, leveraging libraries such as Pandas, NumPy, Matplotlib, and Seaborn.\n",
    "\n",
    "Criteria:\n",
    "- The data must be efficiently cleaned to remove inaccuracies and prepare it for analysis. This includes handling missing values, removing outliers, and ensuring the data is consistent.\n",
    "- The analysis should thoroughly examine the impact of various factors like price, availability, location, and property type on the demand for Airbnb listings. If the review file is chosen, the analysis should adapt to focus on relevant fields.\n",
    "- Data visualizations should be developed to clearly depict the trends and patterns identified in the analysis. These visualizations should be insightful, making it easy to grasp the dynamics of the Airbnb market in the city.\n",
    "- Statistical analysis is required to validate the trends and patterns observed, providing a solid foundation for the conclusions drawn from the data.\n",
    "- The findings should be clearly explained, and a business plan should be suggested based on the insights gained from the analysis.\n",
    "- Any CSV file from http://insideairbnb.com/get-the-data/ can be chosen for this analysis. It is essential that the chosen dataset is up-to-date and relevant to ensure the analysis reflects the current state of the Airbnb market in the selected city."
   ]
  },
  {
   "cell_type": "code",
   "execution_count": 15,
   "id": "09863505",
   "metadata": {},
   "outputs": [],
   "source": [
    "import pandas as pd \n",
    "import numpy as np \n",
    "import matplotlib.pyplot as plt \n",
    "import seaborn as sns \n",
    "import plotly.graph_objects as go "
   ]
  },
  {
   "cell_type": "code",
   "execution_count": 2,
   "id": "7afe295c",
   "metadata": {},
   "outputs": [],
   "source": [
    "df = pd.read_csv(\"listings.csv\")"
   ]
  },
  {
   "cell_type": "code",
   "execution_count": 3,
   "id": "f0d2cf13",
   "metadata": {},
   "outputs": [
    {
     "data": {
      "text/plain": [
       "license                           1.000000\n",
       "neighbourhood_group               1.000000\n",
       "price                             0.133663\n",
       "last_review                       0.103960\n",
       "reviews_per_month                 0.103960\n",
       "host_name                         0.000000\n",
       "host_id                           0.000000\n",
       "neighbourhood                     0.000000\n",
       "latitude                          0.000000\n",
       "longitude                         0.000000\n",
       "room_type                         0.000000\n",
       "name                              0.000000\n",
       "minimum_nights                    0.000000\n",
       "number_of_reviews                 0.000000\n",
       "calculated_host_listings_count    0.000000\n",
       "availability_365                  0.000000\n",
       "number_of_reviews_ltm             0.000000\n",
       "id                                0.000000\n",
       "dtype: float64"
      ]
     },
     "execution_count": 3,
     "metadata": {},
     "output_type": "execute_result"
    }
   ],
   "source": [
    "(df.isna().sum()/df.shape[0]).sort_values(ascending=False)"
   ]
  },
  {
   "cell_type": "code",
   "execution_count": 4,
   "id": "c403282d",
   "metadata": {},
   "outputs": [],
   "source": [
    "df = df.drop(df.isna().sum()[((df.isna().sum()/df.shape[0]) > 0.5)].index , axis = 1 )\n",
    "df = df.dropna()\n",
    "df = df.reset_index(drop = True)"
   ]
  },
  {
   "cell_type": "code",
   "execution_count": 5,
   "id": "b7dbf8c1",
   "metadata": {
    "scrolled": true
   },
   "outputs": [
    {
     "name": "stdout",
     "output_type": "stream",
     "text": [
      "<class 'pandas.core.frame.DataFrame'>\n",
      "RangeIndex: 325 entries, 0 to 324\n",
      "Data columns (total 16 columns):\n",
      " #   Column                          Non-Null Count  Dtype  \n",
      "---  ------                          --------------  -----  \n",
      " 0   id                              325 non-null    int64  \n",
      " 1   name                            325 non-null    object \n",
      " 2   host_id                         325 non-null    int64  \n",
      " 3   host_name                       325 non-null    object \n",
      " 4   neighbourhood                   325 non-null    object \n",
      " 5   latitude                        325 non-null    float64\n",
      " 6   longitude                       325 non-null    float64\n",
      " 7   room_type                       325 non-null    object \n",
      " 8   price                           325 non-null    float64\n",
      " 9   minimum_nights                  325 non-null    int64  \n",
      " 10  number_of_reviews               325 non-null    int64  \n",
      " 11  last_review                     325 non-null    object \n",
      " 12  reviews_per_month               325 non-null    float64\n",
      " 13  calculated_host_listings_count  325 non-null    int64  \n",
      " 14  availability_365                325 non-null    int64  \n",
      " 15  number_of_reviews_ltm           325 non-null    int64  \n",
      "dtypes: float64(4), int64(7), object(5)\n",
      "memory usage: 40.8+ KB\n"
     ]
    }
   ],
   "source": [
    "df.info()"
   ]
  },
  {
   "cell_type": "markdown",
   "id": "0d3e907d",
   "metadata": {},
   "source": [
    "there is no duplicate in id <br>\n",
    "and there is only 2 duplicate in name col "
   ]
  },
  {
   "cell_type": "code",
   "execution_count": 6,
   "id": "94e2954e",
   "metadata": {
    "scrolled": true
   },
   "outputs": [
    {
     "name": "stdout",
     "output_type": "stream",
     "text": [
      "Number of unique values in column id is : 325\n",
      "Number of unique values in column name is : 324\n",
      "Number of unique values in column host_id is : 158\n",
      "Number of unique values in column host_name is : 147\n",
      "Number of unique values in column neighbourhood is : 15\n",
      "Number of unique values in column latitude is : 310\n",
      "Number of unique values in column longitude is : 311\n",
      "Number of unique values in column room_type is : 3\n",
      "Number of unique values in column price is : 117\n",
      "Number of unique values in column minimum_nights is : 11\n",
      "Number of unique values in column number_of_reviews is : 130\n",
      "Number of unique values in column last_review is : 144\n",
      "Number of unique values in column reviews_per_month is : 235\n",
      "Number of unique values in column calculated_host_listings_count is : 12\n",
      "Number of unique values in column availability_365 is : 158\n",
      "Number of unique values in column number_of_reviews_ltm is : 71\n"
     ]
    }
   ],
   "source": [
    "for col in df.columns:\n",
    "    print(f\"Number of unique values in column {col} is : {df[col].nunique()}\")"
   ]
  },
  {
   "cell_type": "code",
   "execution_count": 7,
   "id": "1cd86193",
   "metadata": {},
   "outputs": [
    {
     "data": {
      "text/html": [
       "<div>\n",
       "<style scoped>\n",
       "    .dataframe tbody tr th:only-of-type {\n",
       "        vertical-align: middle;\n",
       "    }\n",
       "\n",
       "    .dataframe tbody tr th {\n",
       "        vertical-align: top;\n",
       "    }\n",
       "\n",
       "    .dataframe thead th {\n",
       "        text-align: right;\n",
       "    }\n",
       "</style>\n",
       "<table border=\"1\" class=\"dataframe\">\n",
       "  <thead>\n",
       "    <tr style=\"text-align: right;\">\n",
       "      <th></th>\n",
       "      <th>id</th>\n",
       "      <th>name</th>\n",
       "      <th>host_id</th>\n",
       "      <th>host_name</th>\n",
       "      <th>neighbourhood</th>\n",
       "      <th>latitude</th>\n",
       "      <th>longitude</th>\n",
       "      <th>room_type</th>\n",
       "      <th>price</th>\n",
       "      <th>minimum_nights</th>\n",
       "      <th>number_of_reviews</th>\n",
       "      <th>last_review</th>\n",
       "      <th>reviews_per_month</th>\n",
       "      <th>calculated_host_listings_count</th>\n",
       "      <th>availability_365</th>\n",
       "      <th>number_of_reviews_ltm</th>\n",
       "    </tr>\n",
       "  </thead>\n",
       "  <tbody>\n",
       "    <tr>\n",
       "      <th>0</th>\n",
       "      <td>1489424</td>\n",
       "      <td>Welcoming, easygoing, comfy bed, entire level</td>\n",
       "      <td>5294164</td>\n",
       "      <td>Efrat</td>\n",
       "      <td>FOURTEENTH WARD</td>\n",
       "      <td>42.667190</td>\n",
       "      <td>-73.815800</td>\n",
       "      <td>Private room</td>\n",
       "      <td>50.0</td>\n",
       "      <td>1</td>\n",
       "      <td>248</td>\n",
       "      <td>2024-02-27</td>\n",
       "      <td>1.94</td>\n",
       "      <td>1</td>\n",
       "      <td>233</td>\n",
       "      <td>50</td>\n",
       "    </tr>\n",
       "    <tr>\n",
       "      <th>1</th>\n",
       "      <td>2992450</td>\n",
       "      <td>Luxury 2 bedroom apartment</td>\n",
       "      <td>4621559</td>\n",
       "      <td>Kenneth</td>\n",
       "      <td>THIRD WARD</td>\n",
       "      <td>42.657890</td>\n",
       "      <td>-73.753700</td>\n",
       "      <td>Entire home/apt</td>\n",
       "      <td>70.0</td>\n",
       "      <td>28</td>\n",
       "      <td>9</td>\n",
       "      <td>2022-08-17</td>\n",
       "      <td>0.08</td>\n",
       "      <td>1</td>\n",
       "      <td>21</td>\n",
       "      <td>0</td>\n",
       "    </tr>\n",
       "    <tr>\n",
       "      <th>2</th>\n",
       "      <td>3820211</td>\n",
       "      <td>Restored Precinct in Center Sq. w/Parking</td>\n",
       "      <td>19648678</td>\n",
       "      <td>Terra</td>\n",
       "      <td>SIXTH WARD</td>\n",
       "      <td>42.652220</td>\n",
       "      <td>-73.767240</td>\n",
       "      <td>Entire home/apt</td>\n",
       "      <td>125.0</td>\n",
       "      <td>2</td>\n",
       "      <td>292</td>\n",
       "      <td>2024-02-18</td>\n",
       "      <td>2.51</td>\n",
       "      <td>4</td>\n",
       "      <td>360</td>\n",
       "      <td>8</td>\n",
       "    </tr>\n",
       "    <tr>\n",
       "      <th>3</th>\n",
       "      <td>5651579</td>\n",
       "      <td>Large studio apt  by Capital Center &amp; ESP@</td>\n",
       "      <td>29288920</td>\n",
       "      <td>Gregg</td>\n",
       "      <td>SECOND WARD</td>\n",
       "      <td>42.646150</td>\n",
       "      <td>-73.759660</td>\n",
       "      <td>Entire home/apt</td>\n",
       "      <td>105.0</td>\n",
       "      <td>7</td>\n",
       "      <td>337</td>\n",
       "      <td>2024-03-07</td>\n",
       "      <td>3.13</td>\n",
       "      <td>2</td>\n",
       "      <td>79</td>\n",
       "      <td>31</td>\n",
       "    </tr>\n",
       "    <tr>\n",
       "      <th>4</th>\n",
       "      <td>6623339</td>\n",
       "      <td>Center Sq. Loft in Converted Precinct w/ Parking</td>\n",
       "      <td>19648678</td>\n",
       "      <td>Terra</td>\n",
       "      <td>SIXTH WARD</td>\n",
       "      <td>42.652220</td>\n",
       "      <td>-73.767240</td>\n",
       "      <td>Entire home/apt</td>\n",
       "      <td>126.0</td>\n",
       "      <td>2</td>\n",
       "      <td>306</td>\n",
       "      <td>2023-12-26</td>\n",
       "      <td>2.87</td>\n",
       "      <td>4</td>\n",
       "      <td>0</td>\n",
       "      <td>5</td>\n",
       "    </tr>\n",
       "    <tr>\n",
       "      <th>...</th>\n",
       "      <td>...</td>\n",
       "      <td>...</td>\n",
       "      <td>...</td>\n",
       "      <td>...</td>\n",
       "      <td>...</td>\n",
       "      <td>...</td>\n",
       "      <td>...</td>\n",
       "      <td>...</td>\n",
       "      <td>...</td>\n",
       "      <td>...</td>\n",
       "      <td>...</td>\n",
       "      <td>...</td>\n",
       "      <td>...</td>\n",
       "      <td>...</td>\n",
       "      <td>...</td>\n",
       "      <td>...</td>\n",
       "    </tr>\n",
       "    <tr>\n",
       "      <th>320</th>\n",
       "      <td>1062527013885315764</td>\n",
       "      <td>private twin room prime location</td>\n",
       "      <td>20536619</td>\n",
       "      <td>Emily</td>\n",
       "      <td>THIRTEENTH WARD</td>\n",
       "      <td>42.670961</td>\n",
       "      <td>-73.795139</td>\n",
       "      <td>Private room</td>\n",
       "      <td>60.0</td>\n",
       "      <td>5</td>\n",
       "      <td>2</td>\n",
       "      <td>2024-02-10</td>\n",
       "      <td>1.50</td>\n",
       "      <td>3</td>\n",
       "      <td>179</td>\n",
       "      <td>2</td>\n",
       "    </tr>\n",
       "    <tr>\n",
       "      <th>321</th>\n",
       "      <td>1072781767409521866</td>\n",
       "      <td>The Bluebird’s Nest</td>\n",
       "      <td>426223840</td>\n",
       "      <td>Antonio</td>\n",
       "      <td>ELEVENTH WARD</td>\n",
       "      <td>42.663916</td>\n",
       "      <td>-73.777869</td>\n",
       "      <td>Entire home/apt</td>\n",
       "      <td>102.0</td>\n",
       "      <td>1</td>\n",
       "      <td>7</td>\n",
       "      <td>2024-03-03</td>\n",
       "      <td>5.68</td>\n",
       "      <td>2</td>\n",
       "      <td>256</td>\n",
       "      <td>7</td>\n",
       "    </tr>\n",
       "    <tr>\n",
       "      <th>322</th>\n",
       "      <td>1075444056381274297</td>\n",
       "      <td>The Tangerine Door</td>\n",
       "      <td>542733174</td>\n",
       "      <td>Rebecca</td>\n",
       "      <td>TWELFTH WARD</td>\n",
       "      <td>42.679082</td>\n",
       "      <td>-73.795049</td>\n",
       "      <td>Entire home/apt</td>\n",
       "      <td>125.0</td>\n",
       "      <td>2</td>\n",
       "      <td>3</td>\n",
       "      <td>2024-03-10</td>\n",
       "      <td>2.43</td>\n",
       "      <td>1</td>\n",
       "      <td>238</td>\n",
       "      <td>3</td>\n",
       "    </tr>\n",
       "    <tr>\n",
       "      <th>323</th>\n",
       "      <td>1079742757364810916</td>\n",
       "      <td>Lark St Oasis: Parking &amp; Laundry</td>\n",
       "      <td>119340359</td>\n",
       "      <td>Lori</td>\n",
       "      <td>SIXTH WARD</td>\n",
       "      <td>42.656071</td>\n",
       "      <td>-73.763453</td>\n",
       "      <td>Entire home/apt</td>\n",
       "      <td>106.0</td>\n",
       "      <td>28</td>\n",
       "      <td>6</td>\n",
       "      <td>2024-03-10</td>\n",
       "      <td>6.00</td>\n",
       "      <td>2</td>\n",
       "      <td>20</td>\n",
       "      <td>6</td>\n",
       "    </tr>\n",
       "    <tr>\n",
       "      <th>324</th>\n",
       "      <td>1104977057298366617</td>\n",
       "      <td>Safe, Affordable, Adorable w/ Hot Tub and Coffee</td>\n",
       "      <td>382970529</td>\n",
       "      <td>Thomas</td>\n",
       "      <td>THIRTEENTH WARD</td>\n",
       "      <td>42.669431</td>\n",
       "      <td>-73.798820</td>\n",
       "      <td>Private room</td>\n",
       "      <td>51.0</td>\n",
       "      <td>1</td>\n",
       "      <td>1</td>\n",
       "      <td>2024-03-07</td>\n",
       "      <td>1.00</td>\n",
       "      <td>10</td>\n",
       "      <td>0</td>\n",
       "      <td>1</td>\n",
       "    </tr>\n",
       "  </tbody>\n",
       "</table>\n",
       "<p>325 rows × 16 columns</p>\n",
       "</div>"
      ],
      "text/plain": [
       "                      id                                              name  \\\n",
       "0                1489424     Welcoming, easygoing, comfy bed, entire level   \n",
       "1                2992450                        Luxury 2 bedroom apartment   \n",
       "2                3820211         Restored Precinct in Center Sq. w/Parking   \n",
       "3                5651579        Large studio apt  by Capital Center & ESP@   \n",
       "4                6623339  Center Sq. Loft in Converted Precinct w/ Parking   \n",
       "..                   ...                                               ...   \n",
       "320  1062527013885315764                  private twin room prime location   \n",
       "321  1072781767409521866                               The Bluebird’s Nest   \n",
       "322  1075444056381274297                                The Tangerine Door   \n",
       "323  1079742757364810916                  Lark St Oasis: Parking & Laundry   \n",
       "324  1104977057298366617  Safe, Affordable, Adorable w/ Hot Tub and Coffee   \n",
       "\n",
       "       host_id host_name    neighbourhood   latitude  longitude  \\\n",
       "0      5294164     Efrat  FOURTEENTH WARD  42.667190 -73.815800   \n",
       "1      4621559   Kenneth       THIRD WARD  42.657890 -73.753700   \n",
       "2     19648678     Terra       SIXTH WARD  42.652220 -73.767240   \n",
       "3     29288920     Gregg      SECOND WARD  42.646150 -73.759660   \n",
       "4     19648678     Terra       SIXTH WARD  42.652220 -73.767240   \n",
       "..         ...       ...              ...        ...        ...   \n",
       "320   20536619     Emily  THIRTEENTH WARD  42.670961 -73.795139   \n",
       "321  426223840   Antonio    ELEVENTH WARD  42.663916 -73.777869   \n",
       "322  542733174   Rebecca     TWELFTH WARD  42.679082 -73.795049   \n",
       "323  119340359      Lori       SIXTH WARD  42.656071 -73.763453   \n",
       "324  382970529    Thomas  THIRTEENTH WARD  42.669431 -73.798820   \n",
       "\n",
       "           room_type  price  minimum_nights  number_of_reviews last_review  \\\n",
       "0       Private room   50.0               1                248  2024-02-27   \n",
       "1    Entire home/apt   70.0              28                  9  2022-08-17   \n",
       "2    Entire home/apt  125.0               2                292  2024-02-18   \n",
       "3    Entire home/apt  105.0               7                337  2024-03-07   \n",
       "4    Entire home/apt  126.0               2                306  2023-12-26   \n",
       "..               ...    ...             ...                ...         ...   \n",
       "320     Private room   60.0               5                  2  2024-02-10   \n",
       "321  Entire home/apt  102.0               1                  7  2024-03-03   \n",
       "322  Entire home/apt  125.0               2                  3  2024-03-10   \n",
       "323  Entire home/apt  106.0              28                  6  2024-03-10   \n",
       "324     Private room   51.0               1                  1  2024-03-07   \n",
       "\n",
       "     reviews_per_month  calculated_host_listings_count  availability_365  \\\n",
       "0                 1.94                               1               233   \n",
       "1                 0.08                               1                21   \n",
       "2                 2.51                               4               360   \n",
       "3                 3.13                               2                79   \n",
       "4                 2.87                               4                 0   \n",
       "..                 ...                             ...               ...   \n",
       "320               1.50                               3               179   \n",
       "321               5.68                               2               256   \n",
       "322               2.43                               1               238   \n",
       "323               6.00                               2                20   \n",
       "324               1.00                              10                 0   \n",
       "\n",
       "     number_of_reviews_ltm  \n",
       "0                       50  \n",
       "1                        0  \n",
       "2                        8  \n",
       "3                       31  \n",
       "4                        5  \n",
       "..                     ...  \n",
       "320                      2  \n",
       "321                      7  \n",
       "322                      3  \n",
       "323                      6  \n",
       "324                      1  \n",
       "\n",
       "[325 rows x 16 columns]"
      ]
     },
     "execution_count": 7,
     "metadata": {},
     "output_type": "execute_result"
    }
   ],
   "source": [
    "df"
   ]
  },
  {
   "cell_type": "markdown",
   "id": "9d7e5445",
   "metadata": {},
   "source": [
    "## Univariate analysis"
   ]
  },
  {
   "cell_type": "code",
   "execution_count": 8,
   "id": "f1fe3349",
   "metadata": {},
   "outputs": [
    {
     "data": {
      "text/plain": [
       "<Axes: xlabel='room_type'>"
      ]
     },
     "execution_count": 8,
     "metadata": {},
     "output_type": "execute_result"
    },
    {
     "data": {
      "image/png": "[encoded data removed]",
      "text/plain": [
       "<Figure size 640x480 with 1 Axes>"
      ]
     },
     "metadata": {},
     "output_type": "display_data"
    }
   ],
   "source": [
    "df.room_type.value_counts().plot(kind = \"bar\")"
   ]
  },
  {
   "cell_type": "code",
   "execution_count": 9,
   "id": "65ff461f",
   "metadata": {},
   "outputs": [
    {
     "data": {
      "text/html": [
       "<div>\n",
       "<style scoped>\n",
       "    .dataframe tbody tr th:only-of-type {\n",
       "        vertical-align: middle;\n",
       "    }\n",
       "\n",
       "    .dataframe tbody tr th {\n",
       "        vertical-align: top;\n",
       "    }\n",
       "\n",
       "    .dataframe thead th {\n",
       "        text-align: right;\n",
       "    }\n",
       "</style>\n",
       "<table border=\"1\" class=\"dataframe\">\n",
       "  <thead>\n",
       "    <tr style=\"text-align: right;\">\n",
       "      <th></th>\n",
       "      <th>id</th>\n",
       "      <th>name</th>\n",
       "      <th>host_id</th>\n",
       "      <th>host_name</th>\n",
       "      <th>neighbourhood</th>\n",
       "      <th>latitude</th>\n",
       "      <th>longitude</th>\n",
       "      <th>room_type</th>\n",
       "      <th>price</th>\n",
       "      <th>minimum_nights</th>\n",
       "      <th>number_of_reviews</th>\n",
       "      <th>last_review</th>\n",
       "      <th>reviews_per_month</th>\n",
       "      <th>calculated_host_listings_count</th>\n",
       "      <th>availability_365</th>\n",
       "      <th>number_of_reviews_ltm</th>\n",
       "    </tr>\n",
       "  </thead>\n",
       "  <tbody>\n",
       "    <tr>\n",
       "      <th>0</th>\n",
       "      <td>1489424</td>\n",
       "      <td>Welcoming, easygoing, comfy bed, entire level</td>\n",
       "      <td>5294164</td>\n",
       "      <td>Efrat</td>\n",
       "      <td>FOURTEENTH WARD</td>\n",
       "      <td>42.667190</td>\n",
       "      <td>-73.815800</td>\n",
       "      <td>Private room</td>\n",
       "      <td>50.0</td>\n",
       "      <td>1</td>\n",
       "      <td>248</td>\n",
       "      <td>2024-02-27</td>\n",
       "      <td>1.94</td>\n",
       "      <td>1</td>\n",
       "      <td>233</td>\n",
       "      <td>50</td>\n",
       "    </tr>\n",
       "    <tr>\n",
       "      <th>1</th>\n",
       "      <td>2992450</td>\n",
       "      <td>Luxury 2 bedroom apartment</td>\n",
       "      <td>4621559</td>\n",
       "      <td>Kenneth</td>\n",
       "      <td>THIRD WARD</td>\n",
       "      <td>42.657890</td>\n",
       "      <td>-73.753700</td>\n",
       "      <td>Entire home/apt</td>\n",
       "      <td>70.0</td>\n",
       "      <td>28</td>\n",
       "      <td>9</td>\n",
       "      <td>2022-08-17</td>\n",
       "      <td>0.08</td>\n",
       "      <td>1</td>\n",
       "      <td>21</td>\n",
       "      <td>0</td>\n",
       "    </tr>\n",
       "    <tr>\n",
       "      <th>2</th>\n",
       "      <td>3820211</td>\n",
       "      <td>Restored Precinct in Center Sq. w/Parking</td>\n",
       "      <td>19648678</td>\n",
       "      <td>Terra</td>\n",
       "      <td>SIXTH WARD</td>\n",
       "      <td>42.652220</td>\n",
       "      <td>-73.767240</td>\n",
       "      <td>Entire home/apt</td>\n",
       "      <td>125.0</td>\n",
       "      <td>2</td>\n",
       "      <td>292</td>\n",
       "      <td>2024-02-18</td>\n",
       "      <td>2.51</td>\n",
       "      <td>4</td>\n",
       "      <td>360</td>\n",
       "      <td>8</td>\n",
       "    </tr>\n",
       "    <tr>\n",
       "      <th>3</th>\n",
       "      <td>5651579</td>\n",
       "      <td>Large studio apt  by Capital Center &amp; ESP@</td>\n",
       "      <td>29288920</td>\n",
       "      <td>Gregg</td>\n",
       "      <td>SECOND WARD</td>\n",
       "      <td>42.646150</td>\n",
       "      <td>-73.759660</td>\n",
       "      <td>Entire home/apt</td>\n",
       "      <td>105.0</td>\n",
       "      <td>7</td>\n",
       "      <td>337</td>\n",
       "      <td>2024-03-07</td>\n",
       "      <td>3.13</td>\n",
       "      <td>2</td>\n",
       "      <td>79</td>\n",
       "      <td>31</td>\n",
       "    </tr>\n",
       "    <tr>\n",
       "      <th>4</th>\n",
       "      <td>6623339</td>\n",
       "      <td>Center Sq. Loft in Converted Precinct w/ Parking</td>\n",
       "      <td>19648678</td>\n",
       "      <td>Terra</td>\n",
       "      <td>SIXTH WARD</td>\n",
       "      <td>42.652220</td>\n",
       "      <td>-73.767240</td>\n",
       "      <td>Entire home/apt</td>\n",
       "      <td>126.0</td>\n",
       "      <td>2</td>\n",
       "      <td>306</td>\n",
       "      <td>2023-12-26</td>\n",
       "      <td>2.87</td>\n",
       "      <td>4</td>\n",
       "      <td>0</td>\n",
       "      <td>5</td>\n",
       "    </tr>\n",
       "    <tr>\n",
       "      <th>...</th>\n",
       "      <td>...</td>\n",
       "      <td>...</td>\n",
       "      <td>...</td>\n",
       "      <td>...</td>\n",
       "      <td>...</td>\n",
       "      <td>...</td>\n",
       "      <td>...</td>\n",
       "      <td>...</td>\n",
       "      <td>...</td>\n",
       "      <td>...</td>\n",
       "      <td>...</td>\n",
       "      <td>...</td>\n",
       "      <td>...</td>\n",
       "      <td>...</td>\n",
       "      <td>...</td>\n",
       "      <td>...</td>\n",
       "    </tr>\n",
       "    <tr>\n",
       "      <th>320</th>\n",
       "      <td>1062527013885315764</td>\n",
       "      <td>private twin room prime location</td>\n",
       "      <td>20536619</td>\n",
       "      <td>Emily</td>\n",
       "      <td>THIRTEENTH WARD</td>\n",
       "      <td>42.670961</td>\n",
       "      <td>-73.795139</td>\n",
       "      <td>Private room</td>\n",
       "      <td>60.0</td>\n",
       "      <td>5</td>\n",
       "      <td>2</td>\n",
       "      <td>2024-02-10</td>\n",
       "      <td>1.50</td>\n",
       "      <td>3</td>\n",
       "      <td>179</td>\n",
       "      <td>2</td>\n",
       "    </tr>\n",
       "    <tr>\n",
       "      <th>321</th>\n",
       "      <td>1072781767409521866</td>\n",
       "      <td>The Bluebird’s Nest</td>\n",
       "      <td>426223840</td>\n",
       "      <td>Antonio</td>\n",
       "      <td>ELEVENTH WARD</td>\n",
       "      <td>42.663916</td>\n",
       "      <td>-73.777869</td>\n",
       "      <td>Entire home/apt</td>\n",
       "      <td>102.0</td>\n",
       "      <td>1</td>\n",
       "      <td>7</td>\n",
       "      <td>2024-03-03</td>\n",
       "      <td>5.68</td>\n",
       "      <td>2</td>\n",
       "      <td>256</td>\n",
       "      <td>7</td>\n",
       "    </tr>\n",
       "    <tr>\n",
       "      <th>322</th>\n",
       "      <td>1075444056381274297</td>\n",
       "      <td>The Tangerine Door</td>\n",
       "      <td>542733174</td>\n",
       "      <td>Rebecca</td>\n",
       "      <td>TWELFTH WARD</td>\n",
       "      <td>42.679082</td>\n",
       "      <td>-73.795049</td>\n",
       "      <td>Entire home/apt</td>\n",
       "      <td>125.0</td>\n",
       "      <td>2</td>\n",
       "      <td>3</td>\n",
       "      <td>2024-03-10</td>\n",
       "      <td>2.43</td>\n",
       "      <td>1</td>\n",
       "      <td>238</td>\n",
       "      <td>3</td>\n",
       "    </tr>\n",
       "    <tr>\n",
       "      <th>323</th>\n",
       "      <td>1079742757364810916</td>\n",
       "      <td>Lark St Oasis: Parking &amp; Laundry</td>\n",
       "      <td>119340359</td>\n",
       "      <td>Lori</td>\n",
       "      <td>SIXTH WARD</td>\n",
       "      <td>42.656071</td>\n",
       "      <td>-73.763453</td>\n",
       "      <td>Entire home/apt</td>\n",
       "      <td>106.0</td>\n",
       "      <td>28</td>\n",
       "      <td>6</td>\n",
       "      <td>2024-03-10</td>\n",
       "      <td>6.00</td>\n",
       "      <td>2</td>\n",
       "      <td>20</td>\n",
       "      <td>6</td>\n",
       "    </tr>\n",
       "    <tr>\n",
       "      <th>324</th>\n",
       "      <td>1104977057298366617</td>\n",
       "      <td>Safe, Affordable, Adorable w/ Hot Tub and Coffee</td>\n",
       "      <td>382970529</td>\n",
       "      <td>Thomas</td>\n",
       "      <td>THIRTEENTH WARD</td>\n",
       "      <td>42.669431</td>\n",
       "      <td>-73.798820</td>\n",
       "      <td>Private room</td>\n",
       "      <td>51.0</td>\n",
       "      <td>1</td>\n",
       "      <td>1</td>\n",
       "      <td>2024-03-07</td>\n",
       "      <td>1.00</td>\n",
       "      <td>10</td>\n",
       "      <td>0</td>\n",
       "      <td>1</td>\n",
       "    </tr>\n",
       "  </tbody>\n",
       "</table>\n",
       "<p>325 rows × 16 columns</p>\n",
       "</div>"
      ],
      "text/plain": [
       "                      id                                              name  \\\n",
       "0                1489424     Welcoming, easygoing, comfy bed, entire level   \n",
       "1                2992450                        Luxury 2 bedroom apartment   \n",
       "2                3820211         Restored Precinct in Center Sq. w/Parking   \n",
       "3                5651579        Large studio apt  by Capital Center & ESP@   \n",
       "4                6623339  Center Sq. Loft in Converted Precinct w/ Parking   \n",
       "..                   ...                                               ...   \n",
       "320  1062527013885315764                  private twin room prime location   \n",
       "321  1072781767409521866                               The Bluebird’s Nest   \n",
       "322  1075444056381274297                                The Tangerine Door   \n",
       "323  1079742757364810916                  Lark St Oasis: Parking & Laundry   \n",
       "324  1104977057298366617  Safe, Affordable, Adorable w/ Hot Tub and Coffee   \n",
       "\n",
       "       host_id host_name    neighbourhood   latitude  longitude  \\\n",
       "0      5294164     Efrat  FOURTEENTH WARD  42.667190 -73.815800   \n",
       "1      4621559   Kenneth       THIRD WARD  42.657890 -73.753700   \n",
       "2     19648678     Terra       SIXTH WARD  42.652220 -73.767240   \n",
       "3     29288920     Gregg      SECOND WARD  42.646150 -73.759660   \n",
       "4     19648678     Terra       SIXTH WARD  42.652220 -73.767240   \n",
       "..         ...       ...              ...        ...        ...   \n",
       "320   20536619     Emily  THIRTEENTH WARD  42.670961 -73.795139   \n",
       "321  426223840   Antonio    ELEVENTH WARD  42.663916 -73.777869   \n",
       "322  542733174   Rebecca     TWELFTH WARD  42.679082 -73.795049   \n",
       "323  119340359      Lori       SIXTH WARD  42.656071 -73.763453   \n",
       "324  382970529    Thomas  THIRTEENTH WARD  42.669431 -73.798820   \n",
       "\n",
       "           room_type  price  minimum_nights  number_of_reviews last_review  \\\n",
       "0       Private room   50.0               1                248  2024-02-27   \n",
       "1    Entire home/apt   70.0              28                  9  2022-08-17   \n",
       "2    Entire home/apt  125.0               2                292  2024-02-18   \n",
       "3    Entire home/apt  105.0               7                337  2024-03-07   \n",
       "4    Entire home/apt  126.0               2                306  2023-12-26   \n",
       "..               ...    ...             ...                ...         ...   \n",
       "320     Private room   60.0               5                  2  2024-02-10   \n",
       "321  Entire home/apt  102.0               1                  7  2024-03-03   \n",
       "322  Entire home/apt  125.0               2                  3  2024-03-10   \n",
       "323  Entire home/apt  106.0              28                  6  2024-03-10   \n",
       "324     Private room   51.0               1                  1  2024-03-07   \n",
       "\n",
       "     reviews_per_month  calculated_host_listings_count  availability_365  \\\n",
       "0                 1.94                               1               233   \n",
       "1                 0.08                               1                21   \n",
       "2                 2.51                               4               360   \n",
       "3                 3.13                               2                79   \n",
       "4                 2.87                               4                 0   \n",
       "..                 ...                             ...               ...   \n",
       "320               1.50                               3               179   \n",
       "321               5.68                               2               256   \n",
       "322               2.43                               1               238   \n",
       "323               6.00                               2                20   \n",
       "324               1.00                              10                 0   \n",
       "\n",
       "     number_of_reviews_ltm  \n",
       "0                       50  \n",
       "1                        0  \n",
       "2                        8  \n",
       "3                       31  \n",
       "4                        5  \n",
       "..                     ...  \n",
       "320                      2  \n",
       "321                      7  \n",
       "322                      3  \n",
       "323                      6  \n",
       "324                      1  \n",
       "\n",
       "[325 rows x 16 columns]"
      ]
     },
     "execution_count": 9,
     "metadata": {},
     "output_type": "execute_result"
    }
   ],
   "source": [
    "df"
   ]
  },
  {
   "cell_type": "code",
   "execution_count": 12,
   "id": "763aa2bd",
   "metadata": {},
   "outputs": [
    {
     "data": {
      "text/plain": [
       "<Axes: xlabel='host_name'>"
      ]
     },
     "execution_count": 12,
     "metadata": {},
     "output_type": "execute_result"
    },
    {
     "data": {
      "image/png": "[encoded data removed]",
      "text/plain": [
       "<Figure size 640x480 with 1 Axes>"
      ]
     },
     "metadata": {},
     "output_type": "display_data"
    }
   ],
   "source": [
    "df.host_name.value_counts()[:10].plot(kind = \"bar\")"
   ]
  },
  {
   "cell_type": "code",
   "execution_count": 13,
   "id": "d5c00239-461c-4582-95c4-3f69edf794d2",
   "metadata": {},
   "outputs": [
    {
     "data": {
      "text/plain": [
       "minimum_nights\n",
       "1     162\n",
       "2      84\n",
       "3      26\n",
       "4      15\n",
       "10      9\n",
       "30      8\n",
       "7       6\n",
       "5       5\n",
       "14      4\n",
       "28      3\n",
       "13      3\n",
       "Name: count, dtype: int64"
      ]
     },
     "execution_count": 13,
     "metadata": {},
     "output_type": "execute_result"
    }
   ],
   "source": []
  },
  {
   "cell_type": "code",
   "execution_count": 17,
   "id": "6f317a8b-cd5b-4ec1-ae37-a09bb109a287",
   "metadata": {},
   "outputs": [
    {
     "data": {
      "application/vnd.plotly.v1+json": {
       "config": {
        "plotlyServerURL": "https://plot.ly"
       },
       "data": [
        {
         "hovertemplate": "Contestant=Entire home/apt<br>Fruit=%{x}<br>Number Eaten=%{y}<extra></extra>",
         "name": "Entire home/apt",
         "type": "bar",
         "x": [
          28,
          2,
          7,
          2,
          3,
          1,
          1,
          1,
          2,
          1,
          1,
          1,
          1,
          2,
          2,
          2,
          4,
          2,
          1,
          1,
          1,
          2,
          1,
          1,
          2,
          1,
          1,
          1,
          1,
          2,
          4,
          5,
          1,
          1,
          1,
          2,
          1,
          7,
          30,
          7,
          2,
          4,
          1,
          2,
          1,
          1,
          1,
          2,
          2,
          1,
          1,
          1,
          1,
          3,
          2,
          3,
          4,
          14,
          1,
          1,
          1,
          2,
          2,
          1,
          2,
          1,
          1,
          7,
          4,
          1,
          3,
          2,
          1,
          3,
          1,
          1,
          2,
          1,
          2,
          30,
          2,
          1,
          1,
          1,
          2,
          1,
          1,
          1,
          1,
          1,
          1,
          1,
          1,
          1,
          2,
          3,
          2,
          2,
          1,
          1,
          13,
          1,
          2,
          1,
          4,
          13,
          2,
          1,
          2,
          1,
          1,
          1,
          1,
          1,
          3,
          14,
          1,
          2,
          1,
          4,
          5,
          2,
          1,
          1,
          1,
          1,
          1,
          13,
          1,
          2,
          1,
          2,
          14,
          1,
          1,
          3,
          1,
          2,
          1,
          2,
          2,
          2,
          7,
          2,
          1,
          1,
          2,
          1,
          1,
          2,
          1,
          1,
          3,
          3,
          3,
          30,
          2,
          1,
          1,
          3,
          1,
          1,
          2,
          2,
          2,
          3,
          1,
          3,
          1,
          2,
          1,
          2,
          2,
          1,
          2,
          1,
          2,
          1,
          3,
          7,
          3,
          1,
          1,
          1,
          1,
          1,
          1,
          1,
          1,
          3,
          1,
          3,
          1,
          1,
          2,
          1,
          30,
          1,
          1,
          3,
          2,
          2,
          1,
          2,
          1,
          1,
          1,
          1,
          1,
          1,
          1,
          1,
          1,
          1,
          2,
          3,
          2,
          1,
          1,
          2,
          1,
          28,
          1,
          2,
          1,
          2,
          28
         ],
         "y": [
          1,
          4,
          2,
          4,
          1,
          1,
          2,
          9,
          1,
          9,
          2,
          9,
          9,
          2,
          8,
          8,
          9,
          9,
          2,
          2,
          1,
          1,
          6,
          6,
          4,
          6,
          6,
          22,
          22,
          8,
          3,
          8,
          2,
          1,
          2,
          9,
          1,
          1,
          1,
          8,
          4,
          3,
          5,
          22,
          3,
          3,
          1,
          4,
          1,
          15,
          15,
          15,
          1,
          9,
          4,
          9,
          3,
          2,
          2,
          5,
          2,
          5,
          1,
          15,
          1,
          15,
          1,
          1,
          1,
          15,
          3,
          5,
          1,
          9,
          1,
          2,
          5,
          22,
          22,
          1,
          22,
          22,
          15,
          3,
          2,
          22,
          3,
          3,
          15,
          9,
          8,
          8,
          8,
          1,
          4,
          9,
          9,
          9,
          22,
          15,
          5,
          22,
          1,
          3,
          1,
          5,
          1,
          3,
          4,
          1,
          15,
          15,
          2,
          3,
          4,
          5,
          3,
          2,
          15,
          1,
          3,
          1,
          1,
          22,
          3,
          2,
          1,
          5,
          3,
          22,
          1,
          1,
          1,
          6,
          22,
          1,
          2,
          2,
          1,
          1,
          2,
          2,
          8,
          22,
          8,
          1,
          1,
          1,
          6,
          1,
          5,
          22,
          4,
          1,
          1,
          1,
          5,
          1,
          1,
          1,
          8,
          2,
          1,
          2,
          1,
          2,
          1,
          3,
          1,
          2,
          8,
          1,
          5,
          8,
          1,
          15,
          9,
          5,
          1,
          1,
          1,
          1,
          22,
          22,
          12,
          6,
          2,
          6,
          1,
          3,
          1,
          1,
          1,
          1,
          1,
          2,
          1,
          1,
          1,
          9,
          2,
          1,
          1,
          1,
          4,
          6,
          22,
          1,
          2,
          8,
          1,
          15,
          15,
          3,
          1,
          4,
          1,
          1,
          2,
          1,
          1,
          1,
          1,
          1,
          2,
          1,
          2
         ]
        },
        {
         "hovertemplate": "Contestant=Private room<br>Fruit=%{x}<br>Number Eaten=%{y}<extra></extra>",
         "name": "Private room",
         "type": "bar",
         "x": [
          1,
          1,
          3,
          2,
          1,
          10,
          5,
          10,
          2,
          3,
          10,
          1,
          1,
          14,
          1,
          4,
          2,
          4,
          4,
          4,
          4,
          10,
          10,
          10,
          2,
          2,
          2,
          3,
          2,
          1,
          1,
          2,
          1,
          2,
          2,
          1,
          1,
          1,
          1,
          2,
          2,
          3,
          2,
          2,
          2,
          2,
          2,
          1,
          4,
          4,
          4,
          10,
          1,
          1,
          10,
          10,
          30,
          30,
          30,
          30,
          2,
          3,
          1,
          1,
          1,
          1,
          2,
          1,
          1,
          1,
          2,
          2,
          1,
          5,
          3,
          1,
          1,
          1,
          1,
          1,
          1,
          1,
          1,
          1,
          1,
          1,
          2,
          2,
          2,
          1,
          2,
          1,
          1,
          1,
          1,
          5,
          1
         ],
         "y": [
          1,
          6,
          2,
          2,
          2,
          4,
          2,
          4,
          4,
          2,
          4,
          1,
          3,
          4,
          6,
          6,
          6,
          6,
          6,
          6,
          6,
          3,
          3,
          3,
          8,
          1,
          8,
          1,
          8,
          1,
          3,
          4,
          1,
          8,
          1,
          3,
          2,
          1,
          1,
          10,
          8,
          3,
          1,
          4,
          4,
          4,
          4,
          10,
          4,
          4,
          4,
          3,
          10,
          10,
          3,
          3,
          3,
          3,
          3,
          1,
          8,
          2,
          3,
          1,
          6,
          6,
          4,
          6,
          6,
          6,
          4,
          2,
          1,
          3,
          2,
          2,
          2,
          3,
          2,
          2,
          6,
          12,
          12,
          12,
          12,
          12,
          4,
          4,
          3,
          6,
          4,
          10,
          10,
          10,
          10,
          3,
          10
         ]
        },
        {
         "hovertemplate": "Contestant=Shared room<br>Fruit=%{x}<br>Number Eaten=%{y}<extra></extra>",
         "name": "Shared room",
         "type": "bar",
         "x": [
          1
         ],
         "y": [
          1
         ]
        }
       ],
       "layout": {
        "autosize": true,
        "legend": {
         "title": {
          "text": "Contestant"
         }
        },
        "template": {
         "data": {
          "bar": [
           {
            "error_x": {
             "color": "#2a3f5f"
            },
            "error_y": {
             "color": "#2a3f5f"
            },
            "marker": {
             "line": {
              "color": "#E5ECF6",
              "width": 0.5
             },
             "pattern": {
              "fillmode": "overlay",
              "size": 10,
              "solidity": 0.2
             }
            },
            "type": "bar"
           }
          ],
          "barpolar": [
           {
            "marker": {
             "line": {
              "color": "#E5ECF6",
              "width": 0.5
             },
             "pattern": {
              "fillmode": "overlay",
              "size": 10,
              "solidity": 0.2
             }
            },
            "type": "barpolar"
           }
          ],
          "carpet": [
           {
            "aaxis": {
             "endlinecolor": "#2a3f5f",
             "gridcolor": "white",
             "linecolor": "white",
             "minorgridcolor": "white",
             "startlinecolor": "#2a3f5f"
            },
            "baxis": {
             "endlinecolor": "#2a3f5f",
             "gridcolor": "white",
             "linecolor": "white",
             "minorgridcolor": "white",
             "startlinecolor": "#2a3f5f"
            },
            "type": "carpet"
           }
          ],
          "choropleth": [
           {
            "colorbar": {
             "outlinewidth": 0,
             "ticks": ""
            },
            "type": "choropleth"
           }
          ],
          "contour": [
           {
            "colorbar": {
             "outlinewidth": 0,
             "ticks": ""
            },
            "colorscale": [
             [
              0,
              "#0d0887"
             ],
             [
              0.1111111111111111,
              "#46039f"
             ],
             [
              0.2222222222222222,
              "#7201a8"
             ],
             [
              0.3333333333333333,
              "#9c179e"
             ],
             [
              0.4444444444444444,
              "#bd3786"
             ],
             [
              0.5555555555555556,
              "#d8576b"
             ],
             [
              0.6666666666666666,
              "#ed7953"
             ],
             [
              0.7777777777777778,
              "#fb9f3a"
             ],
             [
              0.8888888888888888,
              "#fdca26"
             ],
             [
              1,
              "#f0f921"
             ]
            ],
            "type": "contour"
           }
          ],
          "contourcarpet": [
           {
            "colorbar": {
             "outlinewidth": 0,
             "ticks": ""
            },
            "type": "contourcarpet"
           }
          ],
          "heatmap": [
           {
            "colorbar": {
             "outlinewidth": 0,
             "ticks": ""
            },
            "colorscale": [
             [
              0,
              "#0d0887"
             ],
             [
              0.1111111111111111,
              "#46039f"
             ],
             [
              0.2222222222222222,
              "#7201a8"
             ],
             [
              0.3333333333333333,
              "#9c179e"
             ],
             [
              0.4444444444444444,
              "#bd3786"
             ],
             [
              0.5555555555555556,
              "#d8576b"
             ],
             [
              0.6666666666666666,
              "#ed7953"
             ],
             [
              0.7777777777777778,
              "#fb9f3a"
             ],
             [
              0.8888888888888888,
              "#fdca26"
             ],
             [
              1,
              "#f0f921"
             ]
            ],
            "type": "heatmap"
           }
          ],
          "heatmapgl": [
           {
            "colorbar": {
             "outlinewidth": 0,
             "ticks": ""
            },
            "colorscale": [
             [
              0,
              "#0d0887"
             ],
             [
              0.1111111111111111,
              "#46039f"
             ],
             [
              0.2222222222222222,
              "#7201a8"
             ],
             [
              0.3333333333333333,
              "#9c179e"
             ],
             [
              0.4444444444444444,
              "#bd3786"
             ],
             [
              0.5555555555555556,
              "#d8576b"
             ],
             [
              0.6666666666666666,
              "#ed7953"
             ],
             [
              0.7777777777777778,
              "#fb9f3a"
             ],
             [
              0.8888888888888888,
              "#fdca26"
             ],
             [
              1,
              "#f0f921"
             ]
            ],
            "type": "heatmapgl"
           }
          ],
          "histogram": [
           {
            "marker": {
             "pattern": {
              "fillmode": "overlay",
              "size": 10,
              "solidity": 0.2
             }
            },
            "type": "histogram"
           }
          ],
          "histogram2d": [
           {
            "colorbar": {
             "outlinewidth": 0,
             "ticks": ""
            },
            "colorscale": [
             [
              0,
              "#0d0887"
             ],
             [
              0.1111111111111111,
              "#46039f"
             ],
             [
              0.2222222222222222,
              "#7201a8"
             ],
             [
              0.3333333333333333,
              "#9c179e"
             ],
             [
              0.4444444444444444,
              "#bd3786"
             ],
             [
              0.5555555555555556,
              "#d8576b"
             ],
             [
              0.6666666666666666,
              "#ed7953"
             ],
             [
              0.7777777777777778,
              "#fb9f3a"
             ],
             [
              0.8888888888888888,
              "#fdca26"
             ],
             [
              1,
              "#f0f921"
             ]
            ],
            "type": "histogram2d"
           }
          ],
          "histogram2dcontour": [
           {
            "colorbar": {
             "outlinewidth": 0,
             "ticks": ""
            },
            "colorscale": [
             [
              0,
              "#0d0887"
             ],
             [
              0.1111111111111111,
              "#46039f"
             ],
             [
              0.2222222222222222,
              "#7201a8"
             ],
             [
              0.3333333333333333,
              "#9c179e"
             ],
             [
              0.4444444444444444,
              "#bd3786"
             ],
             [
              0.5555555555555556,
              "#d8576b"
             ],
             [
              0.6666666666666666,
              "#ed7953"
             ],
             [
              0.7777777777777778,
              "#fb9f3a"
             ],
             [
              0.8888888888888888,
              "#fdca26"
             ],
             [
              1,
              "#f0f921"
             ]
            ],
            "type": "histogram2dcontour"
           }
          ],
          "mesh3d": [
           {
            "colorbar": {
             "outlinewidth": 0,
             "ticks": ""
            },
            "type": "mesh3d"
           }
          ],
          "parcoords": [
           {
            "line": {
             "colorbar": {
              "outlinewidth": 0,
              "ticks": ""
             }
            },
            "type": "parcoords"
           }
          ],
          "pie": [
           {
            "automargin": true,
            "type": "pie"
           }
          ],
          "scatter": [
           {
            "fillpattern": {
             "fillmode": "overlay",
             "size": 10,
             "solidity": 0.2
            },
            "type": "scatter"
           }
          ],
          "scatter3d": [
           {
            "line": {
             "colorbar": {
              "outlinewidth": 0,
              "ticks": ""
             }
            },
            "marker": {
             "colorbar": {
              "outlinewidth": 0,
              "ticks": ""
             }
            },
            "type": "scatter3d"
           }
          ],
          "scattercarpet": [
           {
            "marker": {
             "colorbar": {
              "outlinewidth": 0,
              "ticks": ""
             }
            },
            "type": "scattercarpet"
           }
          ],
          "scattergeo": [
           {
            "marker": {
             "colorbar": {
              "outlinewidth": 0,
              "ticks": ""
             }
            },
            "type": "scattergeo"
           }
          ],
          "scattergl": [
           {
            "marker": {
             "colorbar": {
              "outlinewidth": 0,
              "ticks": ""
             }
            },
            "type": "scattergl"
           }
          ],
          "scattermapbox": [
           {
            "marker": {
             "colorbar": {
              "outlinewidth": 0,
              "ticks": ""
             }
            },
            "type": "scattermapbox"
           }
          ],
          "scatterpolar": [
           {
            "marker": {
             "colorbar": {
              "outlinewidth": 0,
              "ticks": ""
             }
            },
            "type": "scatterpolar"
           }
          ],
          "scatterpolargl": [
           {
            "marker": {
             "colorbar": {
              "outlinewidth": 0,
              "ticks": ""
             }
            },
            "type": "scatterpolargl"
           }
          ],
          "scatterternary": [
           {
            "marker": {
             "colorbar": {
              "outlinewidth": 0,
              "ticks": ""
             }
            },
            "type": "scatterternary"
           }
          ],
          "surface": [
           {
            "colorbar": {
             "outlinewidth": 0,
             "ticks": ""
            },
            "colorscale": [
             [
              0,
              "#0d0887"
             ],
             [
              0.1111111111111111,
              "#46039f"
             ],
             [
              0.2222222222222222,
              "#7201a8"
             ],
             [
              0.3333333333333333,
              "#9c179e"
             ],
             [
              0.4444444444444444,
              "#bd3786"
             ],
             [
              0.5555555555555556,
              "#d8576b"
             ],
             [
              0.6666666666666666,
              "#ed7953"
             ],
             [
              0.7777777777777778,
              "#fb9f3a"
             ],
             [
              0.8888888888888888,
              "#fdca26"
             ],
             [
              1,
              "#f0f921"
             ]
            ],
            "type": "surface"
           }
          ],
          "table": [
           {
            "cells": {
             "fill": {
              "color": "#EBF0F8"
             },
             "line": {
              "color": "white"
             }
            },
            "header": {
             "fill": {
              "color": "#C8D4E3"
             },
             "line": {
              "color": "white"
             }
            },
            "type": "table"
           }
          ]
         },
         "layout": {
          "annotationdefaults": {
           "arrowcolor": "#2a3f5f",
           "arrowhead": 0,
           "arrowwidth": 1
          },
          "autotypenumbers": "strict",
          "coloraxis": {
           "colorbar": {
            "outlinewidth": 0,
            "ticks": ""
           }
          },
          "colorscale": {
           "diverging": [
            [
             0,
             "#8e0152"
            ],
            [
             0.1,
             "#c51b7d"
            ],
            [
             0.2,
             "#de77ae"
            ],
            [
             0.3,
             "#f1b6da"
            ],
            [
             0.4,
             "#fde0ef"
            ],
            [
             0.5,
             "#f7f7f7"
            ],
            [
             0.6,
             "#e6f5d0"
            ],
            [
             0.7,
             "#b8e186"
            ],
            [
             0.8,
             "#7fbc41"
            ],
            [
             0.9,
             "#4d9221"
            ],
            [
             1,
             "#276419"
            ]
           ],
           "sequential": [
            [
             0,
             "#0d0887"
            ],
            [
             0.1111111111111111,
             "#46039f"
            ],
            [
             0.2222222222222222,
             "#7201a8"
            ],
            [
             0.3333333333333333,
             "#9c179e"
            ],
            [
             0.4444444444444444,
             "#bd3786"
            ],
            [
             0.5555555555555556,
             "#d8576b"
            ],
            [
             0.6666666666666666,
             "#ed7953"
            ],
            [
             0.7777777777777778,
             "#fb9f3a"
            ],
            [
             0.8888888888888888,
             "#fdca26"
            ],
            [
             1,
             "#f0f921"
            ]
           ],
           "sequentialminus": [
            [
             0,
             "#0d0887"
            ],
            [
             0.1111111111111111,
             "#46039f"
            ],
            [
             0.2222222222222222,
             "#7201a8"
            ],
            [
             0.3333333333333333,
             "#9c179e"
            ],
            [
             0.4444444444444444,
             "#bd3786"
            ],
            [
             0.5555555555555556,
             "#d8576b"
            ],
            [
             0.6666666666666666,
             "#ed7953"
            ],
            [
             0.7777777777777778,
             "#fb9f3a"
            ],
            [
             0.8888888888888888,
             "#fdca26"
            ],
            [
             1,
             "#f0f921"
            ]
           ]
          },
          "colorway": [
           "#636efa",
           "#EF553B",
           "#00cc96",
           "#ab63fa",
           "#FFA15A",
           "#19d3f3",
           "#FF6692",
           "#B6E880",
           "#FF97FF",
           "#FECB52"
          ],
          "font": {
           "color": "#2a3f5f"
          },
          "geo": {
           "bgcolor": "white",
           "lakecolor": "white",
           "landcolor": "#E5ECF6",
           "showlakes": true,
           "showland": true,
           "subunitcolor": "white"
          },
          "hoverlabel": {
           "align": "left"
          },
          "hovermode": "closest",
          "mapbox": {
           "style": "light"
          },
          "paper_bgcolor": "white",
          "plot_bgcolor": "#E5ECF6",
          "polar": {
           "angularaxis": {
            "gridcolor": "white",
            "linecolor": "white",
            "ticks": ""
           },
           "bgcolor": "#E5ECF6",
           "radialaxis": {
            "gridcolor": "white",
            "linecolor": "white",
            "ticks": ""
           }
          },
          "scene": {
           "xaxis": {
            "backgroundcolor": "#E5ECF6",
            "gridcolor": "white",
            "gridwidth": 2,
            "linecolor": "white",
            "showbackground": true,
            "ticks": "",
            "zerolinecolor": "white"
           },
           "yaxis": {
            "backgroundcolor": "#E5ECF6",
            "gridcolor": "white",
            "gridwidth": 2,
            "linecolor": "white",
            "showbackground": true,
            "ticks": "",
            "zerolinecolor": "white"
           },
           "zaxis": {
            "backgroundcolor": "#E5ECF6",
            "gridcolor": "white",
            "gridwidth": 2,
            "linecolor": "white",
            "showbackground": true,
            "ticks": "",
            "zerolinecolor": "white"
           }
          },
          "shapedefaults": {
           "line": {
            "color": "#2a3f5f"
           }
          },
          "ternary": {
           "aaxis": {
            "gridcolor": "white",
            "linecolor": "white",
            "ticks": ""
           },
           "baxis": {
            "gridcolor": "white",
            "linecolor": "white",
            "ticks": ""
           },
           "bgcolor": "#E5ECF6",
           "caxis": {
            "gridcolor": "white",
            "linecolor": "white",
            "ticks": ""
           }
          },
          "title": {
           "x": 0.05
          },
          "xaxis": {
           "automargin": true,
           "gridcolor": "white",
           "linecolor": "white",
           "ticks": "",
           "title": {
            "standoff": 15
           },
           "zerolinecolor": "white",
           "zerolinewidth": 2
          },
          "yaxis": {
           "automargin": true,
           "gridcolor": "white",
           "linecolor": "white",
           "ticks": "",
           "title": {
            "standoff": 15
           },
           "zerolinecolor": "white",
           "zerolinewidth": 2
          }
         }
        },
        "xaxis": {
         "autorange": true,
         "range": [
          0.5,
          30.5
         ],
         "title": {
          "text": "Fruit"
         },
         "type": "linear"
        },
        "yaxis": {
         "autorange": true,
         "range": [
          0,
          858.9473684210526
         ],
         "title": {
          "text": "Number Eaten"
         },
         "type": "linear"
        }
       }
      },
      "image/png": "[encoded data removed]",
      "text/html": [
       "<div>                            <div id=\"bc1299bb-f61d-4a67-b4fe-a1c7ef12f2ae\" class=\"plotly-graph-div\" style=\"height:525px; width:100%;\"></div>            <script type=\"text/javascript\">                require([\"plotly\"], function(Plotly) {                    window.PLOTLYENV=window.PLOTLYENV || {};                                    if (document.getElementById(\"bc1299bb-f61d-4a67-b4fe-a1c7ef12f2ae\")) {                    Plotly.newPlot(                        \"bc1299bb-f61d-4a67-b4fe-a1c7ef12f2ae\",                        [{\"hovertemplate\":\"Contestant=Entire home\\u002fapt\\u003cbr\\u003eFruit=%{x}\\u003cbr\\u003eNumber Eaten=%{y}\\u003cextra\\u003e\\u003c\\u002fextra\\u003e\",\"name\":\"Entire home\\u002fapt\",\"x\":[28,2,7,2,3,1,1,1,2,1,1,1,1,2,2,2,4,2,1,1,1,2,1,1,2,1,1,1,1,2,4,5,1,1,1,2,1,7,30,7,2,4,1,2,1,1,1,2,2,1,1,1,1,3,2,3,4,14,1,1,1,2,2,1,2,1,1,7,4,1,3,2,1,3,1,1,2,1,2,30,2,1,1,1,2,1,1,1,1,1,1,1,1,1,2,3,2,2,1,1,13,1,2,1,4,13,2,1,2,1,1,1,1,1,3,14,1,2,1,4,5,2,1,1,1,1,1,13,1,2,1,2,14,1,1,3,1,2,1,2,2,2,7,2,1,1,2,1,1,2,1,1,3,3,3,30,2,1,1,3,1,1,2,2,2,3,1,3,1,2,1,2,2,1,2,1,2,1,3,7,3,1,1,1,1,1,1,1,1,3,1,3,1,1,2,1,30,1,1,3,2,2,1,2,1,1,1,1,1,1,1,1,1,1,2,3,2,1,1,2,1,28,1,2,1,2,28],\"y\":[1,4,2,4,1,1,2,9,1,9,2,9,9,2,8,8,9,9,2,2,1,1,6,6,4,6,6,22,22,8,3,8,2,1,2,9,1,1,1,8,4,3,5,22,3,3,1,4,1,15,15,15,1,9,4,9,3,2,2,5,2,5,1,15,1,15,1,1,1,15,3,5,1,9,1,2,5,22,22,1,22,22,15,3,2,22,3,3,15,9,8,8,8,1,4,9,9,9,22,15,5,22,1,3,1,5,1,3,4,1,15,15,2,3,4,5,3,2,15,1,3,1,1,22,3,2,1,5,3,22,1,1,1,6,22,1,2,2,1,1,2,2,8,22,8,1,1,1,6,1,5,22,4,1,1,1,5,1,1,1,8,2,1,2,1,2,1,3,1,2,8,1,5,8,1,15,9,5,1,1,1,1,22,22,12,6,2,6,1,3,1,1,1,1,1,2,1,1,1,9,2,1,1,1,4,6,22,1,2,8,1,15,15,3,1,4,1,1,2,1,1,1,1,1,2,1,2],\"type\":\"bar\"},{\"hovertemplate\":\"Contestant=Private room\\u003cbr\\u003eFruit=%{x}\\u003cbr\\u003eNumber Eaten=%{y}\\u003cextra\\u003e\\u003c\\u002fextra\\u003e\",\"name\":\"Private room\",\"x\":[1,1,3,2,1,10,5,10,2,3,10,1,1,14,1,4,2,4,4,4,4,10,10,10,2,2,2,3,2,1,1,2,1,2,2,1,1,1,1,2,2,3,2,2,2,2,2,1,4,4,4,10,1,1,10,10,30,30,30,30,2,3,1,1,1,1,2,1,1,1,2,2,1,5,3,1,1,1,1,1,1,1,1,1,1,1,2,2,2,1,2,1,1,1,1,5,1],\"y\":[1,6,2,2,2,4,2,4,4,2,4,1,3,4,6,6,6,6,6,6,6,3,3,3,8,1,8,1,8,1,3,4,1,8,1,3,2,1,1,10,8,3,1,4,4,4,4,10,4,4,4,3,10,10,3,3,3,3,3,1,8,2,3,1,6,6,4,6,6,6,4,2,1,3,2,2,2,3,2,2,6,12,12,12,12,12,4,4,3,6,4,10,10,10,10,3,10],\"type\":\"bar\"},{\"hovertemplate\":\"Contestant=Shared room\\u003cbr\\u003eFruit=%{x}\\u003cbr\\u003eNumber Eaten=%{y}\\u003cextra\\u003e\\u003c\\u002fextra\\u003e\",\"name\":\"Shared room\",\"x\":[1],\"y\":[1],\"type\":\"bar\"}],                        {\"template\":{\"data\":{\"histogram2dcontour\":[{\"type\":\"histogram2dcontour\",\"colorbar\":{\"outlinewidth\":0,\"ticks\":\"\"},\"colorscale\":[[0.0,\"#0d0887\"],[0.1111111111111111,\"#46039f\"],[0.2222222222222222,\"#7201a8\"],[0.3333333333333333,\"#9c179e\"],[0.4444444444444444,\"#bd3786\"],[0.5555555555555556,\"#d8576b\"],[0.6666666666666666,\"#ed7953\"],[0.7777777777777778,\"#fb9f3a\"],[0.8888888888888888,\"#fdca26\"],[1.0,\"#f0f921\"]]}],\"choropleth\":[{\"type\":\"choropleth\",\"colorbar\":{\"outlinewidth\":0,\"ticks\":\"\"}}],\"histogram2d\":[{\"type\":\"histogram2d\",\"colorbar\":{\"outlinewidth\":0,\"ticks\":\"\"},\"colorscale\":[[0.0,\"#0d0887\"],[0.1111111111111111,\"#46039f\"],[0.2222222222222222,\"#7201a8\"],[0.3333333333333333,\"#9c179e\"],[0.4444444444444444,\"#bd3786\"],[0.5555555555555556,\"#d8576b\"],[0.6666666666666666,\"#ed7953\"],[0.7777777777777778,\"#fb9f3a\"],[0.8888888888888888,\"#fdca26\"],[1.0,\"#f0f921\"]]}],\"heatmap\":[{\"type\":\"heatmap\",\"colorbar\":{\"outlinewidth\":0,\"ticks\":\"\"},\"colorscale\":[[0.0,\"#0d0887\"],[0.1111111111111111,\"#46039f\"],[0.2222222222222222,\"#7201a8\"],[0.3333333333333333,\"#9c179e\"],[0.4444444444444444,\"#bd3786\"],[0.5555555555555556,\"#d8576b\"],[0.6666666666666666,\"#ed7953\"],[0.7777777777777778,\"#fb9f3a\"],[0.8888888888888888,\"#fdca26\"],[1.0,\"#f0f921\"]]}],\"heatmapgl\":[{\"type\":\"heatmapgl\",\"colorbar\":{\"outlinewidth\":0,\"ticks\":\"\"},\"colorscale\":[[0.0,\"#0d0887\"],[0.1111111111111111,\"#46039f\"],[0.2222222222222222,\"#7201a8\"],[0.3333333333333333,\"#9c179e\"],[0.4444444444444444,\"#bd3786\"],[0.5555555555555556,\"#d8576b\"],[0.6666666666666666,\"#ed7953\"],[0.7777777777777778,\"#fb9f3a\"],[0.8888888888888888,\"#fdca26\"],[1.0,\"#f0f921\"]]}],\"contourcarpet\":[{\"type\":\"contourcarpet\",\"colorbar\":{\"outlinewidth\":0,\"ticks\":\"\"}}],\"contour\":[{\"type\":\"contour\",\"colorbar\":{\"outlinewidth\":0,\"ticks\":\"\"},\"colorscale\":[[0.0,\"#0d0887\"],[0.1111111111111111,\"#46039f\"],[0.2222222222222222,\"#7201a8\"],[0.3333333333333333,\"#9c179e\"],[0.4444444444444444,\"#bd3786\"],[0.5555555555555556,\"#d8576b\"],[0.6666666666666666,\"#ed7953\"],[0.7777777777777778,\"#fb9f3a\"],[0.8888888888888888,\"#fdca26\"],[1.0,\"#f0f921\"]]}],\"surface\":[{\"type\":\"surface\",\"colorbar\":{\"outlinewidth\":0,\"ticks\":\"\"},\"colorscale\":[[0.0,\"#0d0887\"],[0.1111111111111111,\"#46039f\"],[0.2222222222222222,\"#7201a8\"],[0.3333333333333333,\"#9c179e\"],[0.4444444444444444,\"#bd3786\"],[0.5555555555555556,\"#d8576b\"],[0.6666666666666666,\"#ed7953\"],[0.7777777777777778,\"#fb9f3a\"],[0.8888888888888888,\"#fdca26\"],[1.0,\"#f0f921\"]]}],\"mesh3d\":[{\"type\":\"mesh3d\",\"colorbar\":{\"outlinewidth\":0,\"ticks\":\"\"}}],\"scatter\":[{\"fillpattern\":{\"fillmode\":\"overlay\",\"size\":10,\"solidity\":0.2},\"type\":\"scatter\"}],\"parcoords\":[{\"type\":\"parcoords\",\"line\":{\"colorbar\":{\"outlinewidth\":0,\"ticks\":\"\"}}}],\"scatterpolargl\":[{\"type\":\"scatterpolargl\",\"marker\":{\"colorbar\":{\"outlinewidth\":0,\"ticks\":\"\"}}}],\"bar\":[{\"error_x\":{\"color\":\"#2a3f5f\"},\"error_y\":{\"color\":\"#2a3f5f\"},\"marker\":{\"line\":{\"color\":\"#E5ECF6\",\"width\":0.5},\"pattern\":{\"fillmode\":\"overlay\",\"size\":10,\"solidity\":0.2}},\"type\":\"bar\"}],\"scattergeo\":[{\"type\":\"scattergeo\",\"marker\":{\"colorbar\":{\"outlinewidth\":0,\"ticks\":\"\"}}}],\"scatterpolar\":[{\"type\":\"scatterpolar\",\"marker\":{\"colorbar\":{\"outlinewidth\":0,\"ticks\":\"\"}}}],\"histogram\":[{\"marker\":{\"pattern\":{\"fillmode\":\"overlay\",\"size\":10,\"solidity\":0.2}},\"type\":\"histogram\"}],\"scattergl\":[{\"type\":\"scattergl\",\"marker\":{\"colorbar\":{\"outlinewidth\":0,\"ticks\":\"\"}}}],\"scatter3d\":[{\"type\":\"scatter3d\",\"line\":{\"colorbar\":{\"outlinewidth\":0,\"ticks\":\"\"}},\"marker\":{\"colorbar\":{\"outlinewidth\":0,\"ticks\":\"\"}}}],\"scattermapbox\":[{\"type\":\"scattermapbox\",\"marker\":{\"colorbar\":{\"outlinewidth\":0,\"ticks\":\"\"}}}],\"scatterternary\":[{\"type\":\"scatterternary\",\"marker\":{\"colorbar\":{\"outlinewidth\":0,\"ticks\":\"\"}}}],\"scattercarpet\":[{\"type\":\"scattercarpet\",\"marker\":{\"colorbar\":{\"outlinewidth\":0,\"ticks\":\"\"}}}],\"carpet\":[{\"aaxis\":{\"endlinecolor\":\"#2a3f5f\",\"gridcolor\":\"white\",\"linecolor\":\"white\",\"minorgridcolor\":\"white\",\"startlinecolor\":\"#2a3f5f\"},\"baxis\":{\"endlinecolor\":\"#2a3f5f\",\"gridcolor\":\"white\",\"linecolor\":\"white\",\"minorgridcolor\":\"white\",\"startlinecolor\":\"#2a3f5f\"},\"type\":\"carpet\"}],\"table\":[{\"cells\":{\"fill\":{\"color\":\"#EBF0F8\"},\"line\":{\"color\":\"white\"}},\"header\":{\"fill\":{\"color\":\"#C8D4E3\"},\"line\":{\"color\":\"white\"}},\"type\":\"table\"}],\"barpolar\":[{\"marker\":{\"line\":{\"color\":\"#E5ECF6\",\"width\":0.5},\"pattern\":{\"fillmode\":\"overlay\",\"size\":10,\"solidity\":0.2}},\"type\":\"barpolar\"}],\"pie\":[{\"automargin\":true,\"type\":\"pie\"}]},\"layout\":{\"autotypenumbers\":\"strict\",\"colorway\":[\"#636efa\",\"#EF553B\",\"#00cc96\",\"#ab63fa\",\"#FFA15A\",\"#19d3f3\",\"#FF6692\",\"#B6E880\",\"#FF97FF\",\"#FECB52\"],\"font\":{\"color\":\"#2a3f5f\"},\"hovermode\":\"closest\",\"hoverlabel\":{\"align\":\"left\"},\"paper_bgcolor\":\"white\",\"plot_bgcolor\":\"#E5ECF6\",\"polar\":{\"bgcolor\":\"#E5ECF6\",\"angularaxis\":{\"gridcolor\":\"white\",\"linecolor\":\"white\",\"ticks\":\"\"},\"radialaxis\":{\"gridcolor\":\"white\",\"linecolor\":\"white\",\"ticks\":\"\"}},\"ternary\":{\"bgcolor\":\"#E5ECF6\",\"aaxis\":{\"gridcolor\":\"white\",\"linecolor\":\"white\",\"ticks\":\"\"},\"baxis\":{\"gridcolor\":\"white\",\"linecolor\":\"white\",\"ticks\":\"\"},\"caxis\":{\"gridcolor\":\"white\",\"linecolor\":\"white\",\"ticks\":\"\"}},\"coloraxis\":{\"colorbar\":{\"outlinewidth\":0,\"ticks\":\"\"}},\"colorscale\":{\"sequential\":[[0.0,\"#0d0887\"],[0.1111111111111111,\"#46039f\"],[0.2222222222222222,\"#7201a8\"],[0.3333333333333333,\"#9c179e\"],[0.4444444444444444,\"#bd3786\"],[0.5555555555555556,\"#d8576b\"],[0.6666666666666666,\"#ed7953\"],[0.7777777777777778,\"#fb9f3a\"],[0.8888888888888888,\"#fdca26\"],[1.0,\"#f0f921\"]],\"sequentialminus\":[[0.0,\"#0d0887\"],[0.1111111111111111,\"#46039f\"],[0.2222222222222222,\"#7201a8\"],[0.3333333333333333,\"#9c179e\"],[0.4444444444444444,\"#bd3786\"],[0.5555555555555556,\"#d8576b\"],[0.6666666666666666,\"#ed7953\"],[0.7777777777777778,\"#fb9f3a\"],[0.8888888888888888,\"#fdca26\"],[1.0,\"#f0f921\"]],\"diverging\":[[0,\"#8e0152\"],[0.1,\"#c51b7d\"],[0.2,\"#de77ae\"],[0.3,\"#f1b6da\"],[0.4,\"#fde0ef\"],[0.5,\"#f7f7f7\"],[0.6,\"#e6f5d0\"],[0.7,\"#b8e186\"],[0.8,\"#7fbc41\"],[0.9,\"#4d9221\"],[1,\"#276419\"]]},\"xaxis\":{\"gridcolor\":\"white\",\"linecolor\":\"white\",\"ticks\":\"\",\"title\":{\"standoff\":15},\"zerolinecolor\":\"white\",\"automargin\":true,\"zerolinewidth\":2},\"yaxis\":{\"gridcolor\":\"white\",\"linecolor\":\"white\",\"ticks\":\"\",\"title\":{\"standoff\":15},\"zerolinecolor\":\"white\",\"automargin\":true,\"zerolinewidth\":2},\"scene\":{\"xaxis\":{\"backgroundcolor\":\"#E5ECF6\",\"gridcolor\":\"white\",\"linecolor\":\"white\",\"showbackground\":true,\"ticks\":\"\",\"zerolinecolor\":\"white\",\"gridwidth\":2},\"yaxis\":{\"backgroundcolor\":\"#E5ECF6\",\"gridcolor\":\"white\",\"linecolor\":\"white\",\"showbackground\":true,\"ticks\":\"\",\"zerolinecolor\":\"white\",\"gridwidth\":2},\"zaxis\":{\"backgroundcolor\":\"#E5ECF6\",\"gridcolor\":\"white\",\"linecolor\":\"white\",\"showbackground\":true,\"ticks\":\"\",\"zerolinecolor\":\"white\",\"gridwidth\":2}},\"shapedefaults\":{\"line\":{\"color\":\"#2a3f5f\"}},\"annotationdefaults\":{\"arrowcolor\":\"#2a3f5f\",\"arrowhead\":0,\"arrowwidth\":1},\"geo\":{\"bgcolor\":\"white\",\"landcolor\":\"#E5ECF6\",\"subunitcolor\":\"white\",\"showland\":true,\"showlakes\":true,\"lakecolor\":\"white\"},\"title\":{\"x\":0.05},\"mapbox\":{\"style\":\"light\"}}},\"legend\":{\"title\":{\"text\":\"Contestant\"}},\"xaxis\":{\"title\":{\"text\":\"Fruit\"}},\"yaxis\":{\"title\":{\"text\":\"Number Eaten\"}}},                        {\"responsive\": true}                    ).then(function(){\n",
       "                            \n",
       "var gd = document.getElementById('bc1299bb-f61d-4a67-b4fe-a1c7ef12f2ae');\n",
       "var x = new MutationObserver(function (mutations, observer) {{\n",
       "        var display = window.getComputedStyle(gd).display;\n",
       "        if (!display || display === 'none') {{\n",
       "            console.log([gd, 'removed!']);\n",
       "            Plotly.purge(gd);\n",
       "            observer.disconnect();\n",
       "        }}\n",
       "}});\n",
       "\n",
       "// Listen for the removal of the full notebook cells\n",
       "var notebookContainer = gd.closest('#notebook-container');\n",
       "if (notebookContainer) {{\n",
       "    x.observe(notebookContainer, {childList: true});\n",
       "}}\n",
       "\n",
       "// Listen for the clearing of the current output cell\n",
       "var outputEl = gd.closest('.output');\n",
       "if (outputEl) {{\n",
       "    x.observe(outputEl, {childList: true});\n",
       "}}\n",
       "\n",
       "                        })                };                });            </script>        </div>"
      ]
     },
     "metadata": {},
     "output_type": "display_data"
    }
   ],
   "source": [
    "\n",
    "fig = go.Figure()\n",
    "for contestant, group in df.groupby(\"room_type\"):\n",
    "    fig.add_trace(go.Bar(x=group[\"minimum_nights\"], y=group[\"calculated_host_listings_count\"], name=contestant,\n",
    "      hovertemplate=\"Contestant=%s<br>Fruit=%%{x}<br>Number Eaten=%%{y}<extra></extra>\"% contestant))\n",
    "fig.update_layout(legend_title_text = \"Contestant\")\n",
    "fig.update_xaxes(title_text=\"Fruit\")\n",
    "fig.update_yaxes(title_text=\"Number Eaten\")\n",
    "fig.show()\n",
    "\n"
   ]
  },
  {
   "cell_type": "code",
   "execution_count": 24,
   "id": "f202aba6-a876-4876-ade7-4f6295fcbfaa",
   "metadata": {},
   "outputs": [
    {
     "data": {
      "text/plain": [
       "<Axes: ylabel='reviews_per_month'>"
      ]
     },
     "execution_count": 24,
     "metadata": {},
     "output_type": "execute_result"
    },
    {
     "data": {
      "image/png": "[encoded data removed]",
      "text/plain": [
       "<Figure size 640x480 with 1 Axes>"
      ]
     },
     "metadata": {},
     "output_type": "display_data"
    }
   ],
   "source": [
    "\n",
    "sns.boxplot(df.reviews_per_month)"
   ]
  },
  {
   "cell_type": "code",
   "execution_count": 21,
   "id": "61a051af-f200-4b82-bf21-ceee01bea0d6",
   "metadata": {},
   "outputs": [
    {
     "name": "stdout",
     "output_type": "stream",
     "text": [
      "<class 'pandas.core.frame.DataFrame'>\n",
      "RangeIndex: 325 entries, 0 to 324\n",
      "Data columns (total 16 columns):\n",
      " #   Column                          Non-Null Count  Dtype  \n",
      "---  ------                          --------------  -----  \n",
      " 0   id                              325 non-null    int64  \n",
      " 1   name                            325 non-null    object \n",
      " 2   host_id                         325 non-null    int64  \n",
      " 3   host_name                       325 non-null    object \n",
      " 4   neighbourhood                   325 non-null    object \n",
      " 5   latitude                        325 non-null    float64\n",
      " 6   longitude                       325 non-null    float64\n",
      " 7   room_type                       325 non-null    object \n",
      " 8   price                           325 non-null    float64\n",
      " 9   minimum_nights                  325 non-null    int64  \n",
      " 10  number_of_reviews               325 non-null    int64  \n",
      " 11  last_review                     325 non-null    object \n",
      " 12  reviews_per_month               325 non-null    float64\n",
      " 13  calculated_host_listings_count  325 non-null    int64  \n",
      " 14  availability_365                325 non-null    int64  \n",
      " 15  number_of_reviews_ltm           325 non-null    int64  \n",
      "dtypes: float64(4), int64(7), object(5)\n",
      "memory usage: 40.8+ KB\n"
     ]
    }
   ],
   "source": [
    "df.info()\n"
   ]
  },
  {
   "cell_type": "code",
   "execution_count": null,
   "id": "140fb17f-c36a-42e5-96ea-1074bc739832",
   "metadata": {},
   "outputs": [],
   "source": [
    "def drop_Outliers(col : str):\n",
    "    Q1 = df[col].quantile(0.25)\n",
    "    Q3 = df[col].quantile(0.75)\n",
    "    QR = Q3 - Q1 \n",
    "\n",
    "https://hersanyagci.medium.com/detecting-and-handling-outliers-with-pandas-7adbfcd5cad8\n",
    "    "
   ]
  }
 ],
 "metadata": {
  "kernelspec": {
   "display_name": "Python 3 (ipykernel)",
   "language": "python",
   "name": "python3"
  },
  "language_info": {
   "codemirror_mode": {
    "name": "ipython",
    "version": 3
   },
   "file_extension": ".py",
   "mimetype": "text/x-python",
   "name": "python",
   "nbconvert_exporter": "python",
   "pygments_lexer": "ipython3",
   "version": "3.10.12"
  }
 },
 "nbformat": 4,
 "nbformat_minor": 5
}
