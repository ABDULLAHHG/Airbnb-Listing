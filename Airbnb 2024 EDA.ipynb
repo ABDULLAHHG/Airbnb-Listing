{
 "cells": [
  {
   "cell_type": "markdown",
   "id": "9798ceaa",
   "metadata": {},
   "source": [
    "Project Description:\n",
    "This project focuses on performing an exploratory data analysis (EDA) of Airbnb listings within a selected city. The goal is to examine various factors such as price, availability, location, and property type to uncover the underlying trends and patterns that influence the demand for Airbnb listings. Through this analysis, we aim to provide a comprehensive overview of the Airbnb market in the city, helping stakeholders to make informed decisions.\n",
    "\n",
    "Objectives:\n",
    "- Analyze key factors that influence the demand for Airbnb listings in the city, including but not limited to price, availability, location, and property type.\n",
    "- Perform thorough data cleaning to prepare the dataset for in-depth analysis, ensuring the removal of outliers and handling of missing values.\n",
    "- Utilize advanced data visualization techniques to illustrate trends and patterns in the data, making it easier to identify key insights.\n",
    "- Conduct statistical analysis to substantiate the findings and insights derived from the data.\n",
    "- Employ Python and Jupyter Notebook as the primary tools for conducting the analysis and visualization, leveraging libraries such as Pandas, NumPy, Matplotlib, and Seaborn.\n",
    "\n",
    "Criteria:\n",
    "- The data must be efficiently cleaned to remove inaccuracies and prepare it for analysis. This includes handling missing values, removing outliers, and ensuring the data is consistent.\n",
    "- The analysis should thoroughly examine the impact of various factors like price, availability, location, and property type on the demand for Airbnb listings. If the review file is chosen, the analysis should adapt to focus on relevant fields.\n",
    "- Data visualizations should be developed to clearly depict the trends and patterns identified in the analysis. These visualizations should be insightful, making it easy to grasp the dynamics of the Airbnb market in the city.\n",
    "- Statistical analysis is required to validate the trends and patterns observed, providing a solid foundation for the conclusions drawn from the data.\n",
    "- The findings should be clearly explained, and a business plan should be suggested based on the insights gained from the analysis.\n",
    "- Any CSV file from http://insideairbnb.com/get-the-data/ can be chosen for this analysis. It is essential that the chosen dataset is up-to-date and relevant to ensure the analysis reflects the current state of the Airbnb market in the selected city."
   ]
  },
  {
   "cell_type": "code",
   "execution_count": 1,
   "id": "09863505",
   "metadata": {},
   "outputs": [
    {
     "data": {
      "text/html": [
       "        <script type=\"text/javascript\">\n",
       "        window.PlotlyConfig = {MathJaxConfig: 'local'};\n",
       "        if (window.MathJax && window.MathJax.Hub && window.MathJax.Hub.Config) {window.MathJax.Hub.Config({SVG: {font: \"STIX-Web\"}});}\n",
       "        if (typeof require !== 'undefined') {\n",
       "        require.undef(\"plotly\");\n",
       "        requirejs.config({\n",
       "            paths: {\n",
       "                'plotly': ['https://cdn.plot.ly/plotly-2.12.1.min']\n",
       "            }\n",
       "        });\n",
       "        require(['plotly'], function(Plotly) {\n",
       "            window._Plotly = Plotly;\n",
       "        });\n",
       "        }\n",
       "        </script>\n",
       "        "
      ]
     },
     "metadata": {},
     "output_type": "display_data"
    }
   ],
   "source": [
    "import pandas as pd \n",
    "import numpy as np \n",
    "import matplotlib.pyplot as plt \n",
    "import seaborn as sns \n",
    "import plotly.graph_objects as go \n",
    "from plotly.offline import init_notebook_mode, iplot\n",
    "\n",
    "init_notebook_mode(connected=True) "
   ]
  },
  {
   "cell_type": "markdown",
   "id": "6035b2e2",
   "metadata": {},
   "source": [
    "### Load Data "
   ]
  },
  {
   "cell_type": "code",
   "execution_count": 2,
   "id": "7afe295c",
   "metadata": {},
   "outputs": [],
   "source": [
    "df = pd.read_csv(\"listings.csv\")"
   ]
  },
  {
   "cell_type": "markdown",
   "id": "78323337",
   "metadata": {},
   "source": [
    "### View nan vaues "
   ]
  },
  {
   "cell_type": "code",
   "execution_count": 3,
   "id": "f0d2cf13",
   "metadata": {
    "scrolled": true
   },
   "outputs": [
    {
     "data": {
      "text/plain": [
       "license                           1.000000\n",
       "neighbourhood_group               1.000000\n",
       "price                             0.133663\n",
       "last_review                       0.103960\n",
       "reviews_per_month                 0.103960\n",
       "host_name                         0.000000\n",
       "host_id                           0.000000\n",
       "neighbourhood                     0.000000\n",
       "latitude                          0.000000\n",
       "longitude                         0.000000\n",
       "room_type                         0.000000\n",
       "name                              0.000000\n",
       "minimum_nights                    0.000000\n",
       "number_of_reviews                 0.000000\n",
       "calculated_host_listings_count    0.000000\n",
       "availability_365                  0.000000\n",
       "number_of_reviews_ltm             0.000000\n",
       "id                                0.000000\n",
       "dtype: float64"
      ]
     },
     "execution_count": 3,
     "metadata": {},
     "output_type": "execute_result"
    }
   ],
   "source": [
    "(df.isna().sum()/df.shape[0]).sort_values(ascending=False)"
   ]
  },
  {
   "cell_type": "markdown",
   "id": "47f91e75",
   "metadata": {},
   "source": [
    "### Drop Nan values \n",
    "* Drop columns that have 50% nan values in its rows \n",
    "* then drop all nan values "
   ]
  },
  {
   "cell_type": "code",
   "execution_count": 4,
   "id": "c403282d",
   "metadata": {},
   "outputs": [],
   "source": [
    "df = df.drop(df.isna().sum()[((df.isna().sum()/df.shape[0]) > 0.5)].index , axis = 1 )\n",
    "df = df.dropna()\n",
    "df = df.reset_index(drop = True)"
   ]
  },
  {
   "cell_type": "markdown",
   "id": "b5db6f55",
   "metadata": {},
   "source": [
    "###  show info about data "
   ]
  },
  {
   "cell_type": "code",
   "execution_count": 5,
   "id": "b7dbf8c1",
   "metadata": {
    "scrolled": false
   },
   "outputs": [
    {
     "name": "stdout",
     "output_type": "stream",
     "text": [
      "<class 'pandas.core.frame.DataFrame'>\n",
      "RangeIndex: 325 entries, 0 to 324\n",
      "Data columns (total 16 columns):\n",
      " #   Column                          Non-Null Count  Dtype  \n",
      "---  ------                          --------------  -----  \n",
      " 0   id                              325 non-null    int64  \n",
      " 1   name                            325 non-null    object \n",
      " 2   host_id                         325 non-null    int64  \n",
      " 3   host_name                       325 non-null    object \n",
      " 4   neighbourhood                   325 non-null    object \n",
      " 5   latitude                        325 non-null    float64\n",
      " 6   longitude                       325 non-null    float64\n",
      " 7   room_type                       325 non-null    object \n",
      " 8   price                           325 non-null    float64\n",
      " 9   minimum_nights                  325 non-null    int64  \n",
      " 10  number_of_reviews               325 non-null    int64  \n",
      " 11  last_review                     325 non-null    object \n",
      " 12  reviews_per_month               325 non-null    float64\n",
      " 13  calculated_host_listings_count  325 non-null    int64  \n",
      " 14  availability_365                325 non-null    int64  \n",
      " 15  number_of_reviews_ltm           325 non-null    int64  \n",
      "dtypes: float64(4), int64(7), object(5)\n",
      "memory usage: 40.8+ KB\n"
     ]
    }
   ],
   "source": [
    "df.info()"
   ]
  },
  {
   "cell_type": "markdown",
   "id": "0d3e907d",
   "metadata": {},
   "source": [
    "* Show number of unique in each column <br>\n",
    "* there is no duplicate in id <br>\n",
    "* and there is only 2 duplicate in name col "
   ]
  },
  {
   "cell_type": "code",
   "execution_count": 6,
   "id": "94e2954e",
   "metadata": {
    "scrolled": true
   },
   "outputs": [
    {
     "name": "stdout",
     "output_type": "stream",
     "text": [
      "Number of unique values in column id is : 325\n",
      "Number of unique values in column name is : 324\n",
      "Number of unique values in column host_id is : 158\n",
      "Number of unique values in column host_name is : 147\n",
      "Number of unique values in column neighbourhood is : 15\n",
      "Number of unique values in column latitude is : 310\n",
      "Number of unique values in column longitude is : 311\n",
      "Number of unique values in column room_type is : 3\n",
      "Number of unique values in column price is : 117\n",
      "Number of unique values in column minimum_nights is : 11\n",
      "Number of unique values in column number_of_reviews is : 130\n",
      "Number of unique values in column last_review is : 144\n",
      "Number of unique values in column reviews_per_month is : 235\n",
      "Number of unique values in column calculated_host_listings_count is : 12\n",
      "Number of unique values in column availability_365 is : 158\n",
      "Number of unique values in column number_of_reviews_ltm is : 71\n"
     ]
    }
   ],
   "source": [
    "for col in df.columns:\n",
    "    print(f\"Number of unique values in column {col} is : {df[col].nunique()}\")"
   ]
  },
  {
   "cell_type": "markdown",
   "id": "9d7e5445",
   "metadata": {},
   "source": [
    "## Univariate analysis"
   ]
  },
  {
   "cell_type": "code",
   "execution_count": 7,
   "id": "f1fe3349",
   "metadata": {},
   "outputs": [
    {
     "data": {
      "text/plain": [
       "<Axes: title={'center': ' Frequency of different room types'}, xlabel='Room Type', ylabel='Frequency'>"
      ]
     },
     "execution_count": 7,
     "metadata": {},
     "output_type": "execute_result"
    },
    {
     "data": {
      "image/png": "[encoded data removed]",
      "text/plain": [
       "<Figure size 640x480 with 1 Axes>"
      ]
     },
     "metadata": {},
     "output_type": "display_data"
    }
   ],
   "source": [
    "df.room_type.value_counts().plot(kind = \"bar\" ,\n",
    "                                 xlabel = \"Room Type\",\n",
    "                                 ylabel = \"Frequency\",\n",
    "                                 title = \" Frequency of different room types\")"
   ]
  },
  {
   "cell_type": "code",
   "execution_count": 8,
   "id": "763aa2bd",
   "metadata": {
    "scrolled": true
   },
   "outputs": [
    {
     "data": {
      "text/plain": [
       "<Axes: title={'center': 'Top 10 hosts who offer a larger number of rooms for accommodation'}, xlabel='Host Name', ylabel='Frequency'>"
      ]
     },
     "execution_count": 8,
     "metadata": {},
     "output_type": "execute_result"
    },
    {
     "data": {
      "image/png": "[encoded data removed]",
      "text/plain": [
       "<Figure size 640x480 with 1 Axes>"
      ]
     },
     "metadata": {},
     "output_type": "display_data"
    }
   ],
   "source": [
    "df.host_name.value_counts()[:10].plot(kind = \"bar\" ,\n",
    "                                        xlabel = \"Host Name\",\n",
    "                                        ylabel = \"Frequency\",\n",
    "                                        title = \"Top 10 hosts who offer a larger number of rooms for accommodation\")"
   ]
  },
  {
   "cell_type": "markdown",
   "id": "1ab5b352",
   "metadata": {},
   "source": [
    "#### its seems that there is high outliers"
   ]
  },
  {
   "cell_type": "code",
   "execution_count": 9,
   "id": "f202aba6-a876-4876-ade7-4f6295fcbfaa",
   "metadata": {
    "scrolled": true
   },
   "outputs": [
    {
     "data": {
      "text/plain": [
       "<Axes: >"
      ]
     },
     "execution_count": 9,
     "metadata": {},
     "output_type": "execute_result"
    },
    {
     "data": {
      "image/png": "[encoded data removed]",
      "text/plain": [
       "<Figure size 640x480 with 1 Axes>"
      ]
     },
     "metadata": {},
     "output_type": "display_data"
    }
   ],
   "source": [
    "sns.boxplot(df.reviews_per_month)"
   ]
  },
  {
   "cell_type": "code",
   "execution_count": null,
   "id": "5eeb4c8e-4578-4e9a-91dd-f747210230a3",
   "metadata": {},
   "outputs": [],
   "source": []
  },
  {
   "cell_type": "code",
   "execution_count": 10,
   "id": "ca709f5e-5c4c-494e-9a71-0cf7a4fe5a41",
   "metadata": {},
   "outputs": [],
   "source": [
    "# We begin form the index 3 cause we want to not include the id and host id \n",
    "selected_columns = [col for col in df.columns[3:] if df[col].dtype in [\"int64\",\"float64\"]]"
   ]
  },
  {
   "cell_type": "markdown",
   "id": "51256421",
   "metadata": {},
   "source": [
    "### Visualize Outliers "
   ]
  },
  {
   "cell_type": "code",
   "execution_count": 11,
   "id": "63ed8587",
   "metadata": {},
   "outputs": [
    {
     "data": {
      "application/vnd.plotly.v1+json": {
       "config": {
        "plotlyServerURL": "https://plot.ly"
       },
       "data": [
        {
         "name": "",
         "opacity": 0.75,
         "showlegend": false,
         "type": "box",
         "x": [
          42.66719,
          42.65789,
          42.65222,
          42.64615,
          42.65222,
          42.64484,
          42.66063,
          42.64603,
          42.65559,
          42.64734,
          42.66078,
          42.67567,
          42.67583,
          42.65912,
          42.65154,
          42.66972,
          42.65726,
          42.673512,
          42.65651,
          42.66075,
          42.67614,
          42.6584,
          42.65729,
          42.67637,
          42.65312,
          42.6585,
          42.6436,
          42.65846,
          42.64355,
          42.65846,
          42.65846,
          42.65846,
          42.65846,
          42.675,
          42.64939,
          42.65532,
          42.66565,
          42.65372,
          42.67547,
          42.66045,
          42.66572,
          42.66703,
          42.65501,
          42.64717,
          42.65975,
          42.65431,
          42.6477,
          42.65345,
          42.65333,
          42.65403,
          42.6543083190918,
          42.65821,
          42.65464,
          42.65746,
          42.64535,
          42.64535,
          42.6737,
          42.65235,
          42.6533,
          42.67519,
          42.64563,
          42.64585,
          42.64335,
          42.65259,
          42.64506,
          42.66619,
          42.65085,
          42.65507,
          42.65483,
          42.65547,
          42.66091,
          42.65682,
          42.66827,
          42.67773,
          42.65592,
          42.65115,
          42.65315,
          42.66403,
          42.64453,
          42.65556,
          42.66257,
          42.64383,
          42.65935,
          42.66006,
          42.66132,
          42.64454,
          42.6545,
          42.64801,
          42.64821,
          42.64713,
          42.66137,
          42.65311,
          42.66646,
          42.65345,
          42.67156,
          42.6692,
          42.656,
          42.66744,
          42.6511808672392,
          42.66261,
          42.64981845378106,
          42.65399,
          42.65429,
          42.65157,
          42.65888,
          42.66034,
          42.67945,
          42.65901,
          42.66064,
          42.65969,
          42.65061,
          42.65856,
          42.65812,
          42.65269,
          42.64684,
          42.67643,
          42.63066,
          42.65641,
          42.65934,
          42.67044,
          42.65386,
          42.64186,
          42.65674,
          42.65069,
          42.67181,
          42.67131,
          42.65812,
          42.65826,
          42.67004,
          42.64369,
          42.65824,
          42.65204,
          42.65913,
          42.674675,
          42.66261,
          42.65422,
          42.65403,
          42.65155,
          42.64459,
          42.65578,
          42.65905,
          42.65902,
          42.6595,
          42.6598,
          42.66919,
          42.64342,
          42.65848,
          42.64441,
          42.66911,
          42.64252,
          42.652049,
          42.65353,
          42.65547943115234,
          42.64489,
          42.640217,
          42.65723,
          42.64372,
          42.65347,
          42.64318,
          42.64242,
          42.64198,
          42.64528,
          42.64558,
          42.65323,
          42.6635364,
          42.65802,
          42.65427,
          42.64625,
          42.64595,
          42.65389,
          42.65752,
          42.65795,
          42.6374547,
          42.65541380925019,
          42.66758,
          42.66764,
          42.6694413,
          42.66305,
          42.66286,
          42.66172,
          42.65732,
          42.65405765037151,
          42.6623,
          42.64577,
          42.66008,
          42.65929700754271,
          42.65935889426801,
          42.64638,
          42.6732,
          42.65691,
          42.6513719,
          42.65035,
          42.64564,
          42.65643,
          42.66069,
          42.6543178,
          42.64469,
          42.65569,
          42.6496,
          42.64284,
          42.66648,
          42.64439384900326,
          42.6444412,
          42.65259,
          42.65534,
          42.67348,
          42.65405,
          42.66117,
          42.6601,
          42.6518469,
          42.65725,
          42.65183,
          42.66298,
          42.6591503133547,
          42.6653,
          42.64324,
          42.65489,
          42.67283,
          42.656329,
          42.65582,
          42.6538578,
          42.65741,
          42.65315,
          42.66958,
          42.65751,
          42.656329,
          42.656329,
          42.65588,
          42.6684126,
          42.67239,
          42.67143614564987,
          42.65258,
          42.66109,
          42.65613,
          42.67076,
          42.66007584297136,
          42.63504,
          42.67336,
          42.6446,
          42.67177,
          42.6457663,
          42.65817,
          42.66947,
          42.66128,
          42.67355,
          42.65379,
          42.6599733,
          42.66246,
          42.6628771,
          42.6573,
          42.66215778253739,
          42.66087,
          42.64787,
          42.6652959,
          42.66217,
          42.66261,
          42.65193730448655,
          42.6559529,
          42.6586,
          42.65483722729842,
          42.654965911269095,
          42.67066076442359,
          42.672943350526445,
          42.67132410762948,
          42.65654925592276,
          42.658672199777634,
          42.6606,
          42.659082586070085,
          42.65846944486231,
          42.65908020134226,
          42.660362531234114,
          42.6708367,
          42.669735657513975,
          42.68001107488553,
          42.65801,
          42.65798404004404,
          42.67033901962889,
          42.6541815,
          42.66000843071908,
          42.6549886,
          42.678962799458816,
          42.65240863051438,
          42.67059398561849,
          42.65679550669701,
          42.65312775001394,
          42.66627900500492,
          42.66391565517209,
          42.65411,
          42.6715992520812,
          42.65259924007496,
          42.6709773627501,
          42.64485687096462,
          42.65623,
          42.65761589542138,
          42.6554977755084,
          42.65483900711961,
          42.64534889999999,
          42.661365504548,
          42.67002775509383,
          42.6697096084112,
          42.66873116573401,
          42.645494388571485,
          42.65538680270734,
          42.66996089870569,
          42.6535,
          42.64713879857583,
          42.65859808957202,
          42.65970700274541,
          42.64655138980193,
          42.66838,
          42.65487397780481,
          42.6759553661711,
          42.6736802909505,
          42.65446887973431,
          42.66106893179246,
          42.639757084309245,
          42.6408128784902,
          42.659886051712505,
          42.65098734769702,
          42.66311590202129,
          42.67096068386967,
          42.663915656143736,
          42.67908161690146,
          42.65607073634355,
          42.66943098938467
         ],
         "xaxis": "x",
         "yaxis": "y"
        },
        {
         "name": "",
         "opacity": 0.75,
         "showlegend": false,
         "type": "box",
         "x": [
          -73.8158,
          -73.7537,
          -73.76724,
          -73.75966,
          -73.76724,
          -73.75851,
          -73.78115,
          -73.75986,
          -73.76506,
          -73.75851,
          -73.80553,
          -73.82438,
          -73.78297,
          -73.78349,
          -73.76867,
          -73.82753,
          -73.78219,
          -73.819679,
          -73.77887,
          -73.80605,
          -73.78169,
          -73.78309,
          -73.80321,
          -73.82395,
          -73.78161,
          -73.78414,
          -73.75887,
          -73.80201,
          -73.75712,
          -73.80201,
          -73.80201,
          -73.80201,
          -73.80201,
          -73.82382,
          -73.76865,
          -73.78244,
          -73.77975,
          -73.78244,
          -73.82402,
          -73.77833,
          -73.77834,
          -73.77842,
          -73.78122,
          -73.77135,
          -73.81196,
          -73.78178,
          -73.7714,
          -73.7645,
          -73.77293,
          -73.76325,
          -73.78177642822266,
          -73.76917,
          -73.78348,
          -73.77904,
          -73.75365,
          -73.75365,
          -73.75313,
          -73.76714,
          -73.78114,
          -73.82281,
          -73.75311,
          -73.75297,
          -73.7579,
          -73.78223,
          -73.75727,
          -73.79031,
          -73.80239,
          -73.76138,
          -73.78033,
          -73.7651,
          -73.74285,
          -73.76298,
          -73.79231,
          -73.73899,
          -73.76259,
          -73.7668,
          -73.76202,
          -73.81446,
          -73.75426,
          -73.76205,
          -73.78281,
          -73.78926,
          -73.76805,
          -73.76966,
          -73.7956,
          -73.75369,
          -73.78223,
          -73.75668,
          -73.75793,
          -73.75628,
          -73.7904,
          -73.78525,
          -73.79184,
          -73.76663,
          -73.80883,
          -73.79849,
          -73.76123,
          -73.79216,
          -73.75273894471623,
          -73.78332,
          -73.75090228127745,
          -73.78126,
          -73.75986,
          -73.76546,
          -73.74673,
          -73.77163,
          -73.81647,
          -73.74748,
          -73.76074,
          -73.77564,
          -73.75006,
          -73.74866,
          -73.74941,
          -73.76076,
          -73.75614,
          -73.82903,
          -73.77357,
          -73.76413,
          -73.76966,
          -73.82573,
          -73.75958,
          -73.75868,
          -73.79221,
          -73.75193,
          -73.79543,
          -73.7921,
          -73.74837,
          -73.76944,
          -73.82367,
          -73.7581,
          -73.80114,
          -73.76655,
          -73.74722,
          -73.822861,
          -73.79026,
          -73.76996,
          -73.77056,
          -73.765,
          -73.75392,
          -73.78641,
          -73.77964,
          -73.7701,
          -73.76938,
          -73.76995,
          -73.78672,
          -73.75742,
          -73.76359,
          -73.75647,
          -73.79869,
          -73.75688,
          -73.7949665,
          -73.7679,
          -73.76625061035156,
          -73.75731,
          -73.780815,
          -73.75684,
          -73.78426,
          -73.7662,
          -73.78386,
          -73.78536,
          -73.78413,
          -73.75861,
          -73.75928,
          -73.76797,
          -73.77782359999999,
          -73.756165,
          -73.76455,
          -73.75663,
          -73.76196,
          -73.76538,
          -73.74743,
          -73.75092,
          -73.7716647,
          -73.76367520540953,
          -73.7992,
          -73.79908,
          -73.79749410000001,
          -73.77726,
          -73.77817,
          -73.78497,
          -73.75676,
          -73.76071299629517,
          -73.777,
          -73.7583,
          -73.79816,
          -73.79720147699118,
          -73.7972692027688,
          -73.76146,
          -73.79199,
          -73.78389,
          -73.7673156,
          -73.76549,
          -73.75261,
          -73.76402,
          -73.78555,
          -73.7818222,
          -73.761,
          -73.77685,
          -73.76792,
          -73.77997,
          -73.76831,
          -73.75975701534425,
          -73.75971410000001,
          -73.76732,
          -73.76461,
          -73.7934,
          -73.76953,
          -73.79091,
          -73.80719,
          -73.7642072,
          -73.75065,
          -73.76594,
          -73.81361,
          -73.75431932508945,
          -73.7943,
          -73.75732,
          -73.77061,
          -73.77367,
          -73.7752048,
          -73.77541,
          -73.7855281,
          -73.78034,
          -73.77012,
          -73.79722,
          -73.77409,
          -73.775205,
          -73.775205,
          -73.75332,
          -73.7684199,
          -73.79418,
          -73.79032550419785,
          -73.76917,
          -73.80479,
          -73.77469,
          -73.82612,
          -73.76976949435519,
          -73.79833,
          -73.78619,
          -73.75885,
          -73.79464,
          -73.7586141,
          -73.74935,
          -73.81607,
          -73.80548,
          -73.78496,
          -73.76901,
          -73.7747433,
          -73.76576,
          -73.76534029999999,
          -73.7521,
          -73.79234533756971,
          -73.78655,
          -73.76707,
          -73.7868778,
          -73.78299,
          -73.79158,
          -73.78593011701557,
          -73.7807478,
          -73.75743,
          -73.79149618599958,
          -73.78021704609974,
          -73.79571205018514,
          -73.79225342780366,
          -73.79247186675903,
          -73.77433674199318,
          -73.77478693204898,
          -73.77284,
          -73.77455698333637,
          -73.77272373106814,
          -73.77325860057209,
          -73.77290224418863,
          -73.7853116,
          -73.78610658197474,
          -73.81705995884008,
          -73.80049,
          -73.80128215056936,
          -73.78509801171585,
          -73.76086049999999,
          -73.77397295619353,
          -73.79390939999999,
          -73.81724461913109,
          -73.77002141071337,
          -73.81678288145305,
          -73.75335661522755,
          -73.76950465142727,
          -73.76511947562057,
          -73.77786945551634,
          -73.76129,
          -73.79798656710622,
          -73.761780139996,
          -73.80695225761066,
          -73.77281881169621,
          -73.7641152,
          -73.75115885472674,
          -73.8106566601018,
          -73.7674333870007,
          -73.75364650000002,
          -73.78482319521697,
          -73.7977054151877,
          -73.797549986088,
          -73.79930289371134,
          -73.83282736350908,
          -73.76416369206528,
          -73.7981565369516,
          -73.77046,
          -73.7546608201248,
          -73.76420635863742,
          -73.76382104785372,
          -73.7597240543698,
          -73.77868,
          -73.76519868723663,
          -73.79260844002489,
          -73.78413107868002,
          -73.76077862456057,
          -73.78973060044702,
          -73.75705214104126,
          -73.7746275334913,
          -73.7920570376047,
          -73.76307767802679,
          -73.7381032862318,
          -73.79513938040748,
          -73.77786945551634,
          -73.79504903417528,
          -73.76345323405465,
          -73.79881962357733
         ],
         "xaxis": "x2",
         "yaxis": "y2"
        },
        {
         "name": "",
         "opacity": 0.75,
         "showlegend": false,
         "type": "box",
         "x": [
          50,
          70,
          125,
          105,
          126,
          190,
          199,
          85,
          87,
          61,
          50,
          243,
          55,
          45,
          50,
          219,
          45,
          333,
          56,
          70,
          53,
          45,
          62,
          306,
          70,
          50,
          169,
          60,
          249,
          80,
          80,
          80,
          60,
          196,
          126,
          85,
          40,
          70,
          570,
          69,
          35,
          35,
          55,
          80,
          75,
          55,
          77,
          70,
          100,
          89,
          55,
          75,
          50,
          56,
          91,
          62,
          95,
          119,
          55,
          39,
          103,
          100,
          141,
          50,
          100,
          110,
          55,
          151,
          85,
          78,
          217,
          78,
          95,
          109,
          115,
          92,
          110,
          45,
          117,
          175,
          145,
          245,
          109,
          119,
          119,
          97,
          79,
          120,
          122,
          140,
          100,
          175,
          92,
          125,
          79,
          95,
          166,
          125,
          109,
          147,
          117,
          45,
          88,
          109,
          115,
          110,
          63,
          120,
          64,
          93,
          105,
          115,
          85,
          88,
          125,
          40,
          99,
          87,
          100,
          120,
          88,
          135,
          185,
          65,
          125,
          145,
          115,
          119,
          88,
          95,
          175,
          99,
          150,
          160,
          75,
          100,
          100,
          146,
          125,
          99,
          79,
          110,
          100,
          100,
          266,
          120,
          115,
          110,
          89,
          119,
          100,
          113,
          70,
          120,
          120,
          129,
          130,
          108,
          53,
          53,
          53,
          120,
          115,
          149,
          44,
          129,
          97,
          90,
          99,
          130,
          115,
          101,
          159,
          118,
          75,
          75,
          141,
          48,
          45,
          179,
          99,
          102,
          115,
          110,
          27,
          27,
          26,
          90,
          135,
          187,
          113,
          68,
          91,
          60,
          185,
          45,
          80,
          130,
          82,
          131,
          101,
          145,
          145,
          50,
          70,
          128,
          110,
          75,
          65,
          107,
          100,
          110,
          60,
          105,
          185,
          150,
          102,
          104,
          628,
          122,
          87,
          55,
          80,
          126,
          127,
          122,
          127,
          89,
          103,
          99,
          50,
          85,
          55,
          157,
          219,
          120,
          300,
          175,
          95,
          66,
          85,
          78,
          79,
          55,
          175,
          89,
          67,
          45,
          45,
          104,
          100,
          189,
          155,
          110,
          197,
          72,
          156,
          33,
          80,
          115,
          44,
          77,
          125,
          150,
          122,
          184,
          184,
          184,
          184,
          207,
          364,
          45,
          35,
          71,
          135,
          105,
          50,
          128,
          115,
          129,
          118,
          89,
          100,
          108,
          125,
          120,
          114,
          85,
          218,
          87,
          99,
          279,
          110,
          154,
          143,
          83,
          191,
          189,
          50,
          50,
          50,
          347,
          95,
          50,
          73,
          65,
          120,
          119,
          100,
          102,
          91,
          155,
          60,
          91,
          114,
          90,
          88,
          150,
          125,
          105,
          60,
          102,
          125,
          106,
          51
         ],
         "xaxis": "x3",
         "yaxis": "y3"
        },
        {
         "name": "",
         "opacity": 0.75,
         "showlegend": false,
         "type": "box",
         "x": [
          1,
          28,
          2,
          7,
          2,
          1,
          3,
          3,
          1,
          2,
          1,
          1,
          1,
          10,
          5,
          2,
          10,
          1,
          2,
          1,
          3,
          10,
          1,
          1,
          1,
          14,
          1,
          4,
          2,
          4,
          4,
          4,
          4,
          1,
          2,
          2,
          10,
          2,
          4,
          2,
          10,
          10,
          2,
          1,
          2,
          2,
          1,
          1,
          3,
          2,
          2,
          1,
          1,
          2,
          1,
          1,
          1,
          2,
          2,
          2,
          1,
          1,
          1,
          1,
          1,
          2,
          1,
          4,
          5,
          1,
          1,
          1,
          2,
          1,
          7,
          30,
          7,
          1,
          2,
          4,
          1,
          2,
          1,
          1,
          1,
          2,
          2,
          1,
          1,
          1,
          1,
          1,
          3,
          2,
          3,
          2,
          4,
          14,
          1,
          1,
          1,
          2,
          2,
          2,
          1,
          2,
          3,
          1,
          1,
          7,
          4,
          1,
          3,
          2,
          1,
          2,
          3,
          1,
          2,
          1,
          2,
          1,
          2,
          30,
          2,
          1,
          1,
          1,
          2,
          1,
          1,
          1,
          1,
          1,
          1,
          1,
          1,
          1,
          2,
          3,
          2,
          2,
          2,
          2,
          2,
          1,
          1,
          13,
          1,
          1,
          2,
          1,
          4,
          13,
          2,
          1,
          2,
          1,
          4,
          4,
          4,
          1,
          1,
          1,
          10,
          1,
          3,
          14,
          1,
          2,
          1,
          4,
          5,
          2,
          1,
          1,
          1,
          10,
          10,
          1,
          1,
          1,
          1,
          13,
          30,
          30,
          30,
          1,
          2,
          1,
          2,
          14,
          1,
          30,
          1,
          2,
          3,
          1,
          2,
          1,
          2,
          2,
          2,
          3,
          7,
          2,
          1,
          1,
          1,
          2,
          1,
          1,
          1,
          2,
          1,
          1,
          3,
          3,
          1,
          1,
          3,
          2,
          30,
          2,
          1,
          1,
          1,
          1,
          1,
          3,
          2,
          1,
          2,
          1,
          2,
          2,
          2,
          3,
          1,
          5,
          1,
          3,
          1,
          3,
          2,
          1,
          2,
          1,
          1,
          2,
          1,
          2,
          1,
          2,
          1,
          1,
          3,
          1,
          7,
          3,
          1,
          1,
          1,
          1,
          1,
          1,
          1,
          1,
          1,
          1,
          1,
          2,
          2,
          2,
          1,
          1,
          2,
          1,
          1,
          1,
          3,
          1,
          3,
          1,
          1,
          2,
          1,
          30,
          1,
          1,
          3,
          2,
          2,
          1,
          2,
          1,
          1,
          1,
          1,
          1,
          1,
          1,
          1,
          1,
          1,
          1,
          1,
          1,
          1,
          2,
          3,
          2,
          1,
          1,
          2,
          1,
          28,
          1,
          2,
          1,
          5,
          1,
          2,
          28,
          1
         ],
         "xaxis": "x4",
         "yaxis": "y4"
        },
        {
         "name": "",
         "opacity": 0.75,
         "showlegend": false,
         "type": "box",
         "x": [
          248,
          9,
          292,
          337,
          306,
          37,
          18,
          227,
          580,
          370,
          631,
          145,
          231,
          61,
          28,
          174,
          48,
          85,
          40,
          353,
          130,
          53,
          33,
          57,
          71,
          27,
          17,
          19,
          5,
          12,
          16,
          8,
          32,
          55,
          130,
          39,
          40,
          111,
          8,
          156,
          24,
          22,
          105,
          434,
          120,
          40,
          355,
          777,
          12,
          107,
          21,
          62,
          244,
          60,
          616,
          541,
          6,
          88,
          63,
          27,
          404,
          395,
          249,
          151,
          260,
          51,
          294,
          37,
          23,
          247,
          225,
          139,
          101,
          166,
          26,
          4,
          22,
          141,
          80,
          15,
          110,
          68,
          326,
          282,
          119,
          30,
          108,
          83,
          95,
          118,
          140,
          203,
          61,
          40,
          42,
          113,
          16,
          7,
          133,
          146,
          174,
          51,
          93,
          144,
          68,
          149,
          36,
          39,
          211,
          21,
          7,
          65,
          69,
          32,
          80,
          21,
          50,
          205,
          4,
          79,
          64,
          52,
          101,
          20,
          70,
          57,
          60,
          146,
          27,
          41,
          107,
          180,
          75,
          16,
          67,
          56,
          101,
          121,
          5,
          31,
          39,
          4,
          4,
          6,
          6,
          68,
          38,
          10,
          84,
          70,
          33,
          113,
          6,
          6,
          13,
          127,
          26,
          184,
          10,
          13,
          6,
          36,
          40,
          85,
          21,
          123,
          26,
          5,
          48,
          2,
          37,
          16,
          5,
          64,
          96,
          83,
          56,
          6,
          11,
          84,
          80,
          151,
          68,
          3,
          4,
          2,
          4,
          39,
          30,
          121,
          22,
          1,
          34,
          2,
          31,
          21,
          3,
          5,
          9,
          12,
          13,
          35,
          28,
          14,
          10,
          24,
          25,
          8,
          38,
          23,
          46,
          10,
          11,
          31,
          50,
          39,
          11,
          6,
          1,
          7,
          13,
          10,
          2,
          9,
          5,
          3,
          4,
          61,
          19,
          31,
          10,
          27,
          3,
          17,
          50,
          1,
          52,
          12,
          65,
          5,
          29,
          11,
          48,
          3,
          19,
          8,
          35,
          16,
          13,
          5,
          11,
          29,
          24,
          7,
          20,
          7,
          74,
          5,
          2,
          1,
          7,
          17,
          7,
          11,
          3,
          2,
          4,
          4,
          1,
          1,
          6,
          13,
          12,
          3,
          4,
          1,
          3,
          54,
          8,
          38,
          1,
          17,
          6,
          16,
          4,
          2,
          16,
          2,
          1,
          5,
          4,
          3,
          12,
          8,
          2,
          7,
          11,
          9,
          15,
          14,
          13,
          18,
          6,
          14,
          12,
          13,
          1,
          7,
          6,
          13,
          5,
          4,
          11,
          10,
          6,
          4,
          1,
          1,
          2,
          1,
          2,
          7,
          3,
          6,
          1
         ],
         "xaxis": "x5",
         "yaxis": "y5"
        },
        {
         "name": "",
         "opacity": 0.75,
         "showlegend": false,
         "type": "box",
         "x": [
          1.94,
          0.08,
          2.51,
          3.13,
          2.87,
          0.4,
          0.18,
          2.22,
          6.27,
          3.75,
          6.4,
          1.53,
          2.44,
          0.64,
          0.65,
          1.86,
          0.52,
          0.95,
          0.48,
          7.65,
          1.55,
          0.62,
          0.4,
          0.78,
          1.08,
          0.39,
          0.21,
          0.26,
          0.09,
          0.2,
          0.22,
          0.12,
          0.44,
          0.71,
          1.79,
          0.49,
          0.58,
          1.45,
          0.11,
          2.04,
          0.32,
          0.29,
          1.4,
          6.07,
          1.67,
          0.61,
          4.98,
          11.08,
          0.17,
          1.57,
          0.34,
          0.93,
          3.77,
          0.91,
          9.56,
          8.48,
          0.09,
          1.35,
          1.01,
          0.43,
          6.67,
          6.63,
          4.3,
          2.66,
          4.56,
          0.9,
          5.36,
          0.71,
          0.43,
          4.67,
          4.44,
          6.6,
          1.95,
          3.28,
          0.51,
          0.11,
          0.44,
          2.86,
          1.9,
          0.4,
          2.45,
          1.52,
          7.33,
          6.41,
          2.76,
          0.99,
          2.61,
          2.18,
          2.5,
          3.12,
          3.38,
          5.39,
          1.61,
          1.06,
          1.13,
          2.95,
          0.43,
          0.2,
          3.56,
          3.9,
          5.51,
          1.39,
          2.95,
          4.6,
          2.03,
          5.57,
          1.2,
          1.23,
          6.59,
          0.72,
          0.23,
          2.07,
          2.34,
          1.04,
          2.65,
          0.76,
          1.67,
          7.01,
          0.16,
          2.68,
          2.14,
          1.76,
          3.45,
          0.68,
          2.37,
          2.12,
          2.07,
          5.06,
          0.96,
          1.45,
          4.02,
          6.59,
          2.74,
          0.66,
          3.15,
          2.35,
          3.82,
          5.02,
          0.27,
          1.74,
          1.78,
          0.16,
          0.16,
          0.24,
          0.24,
          2.72,
          1.57,
          0.48,
          4.09,
          2.96,
          2.04,
          5.03,
          0.37,
          0.3,
          0.69,
          5.7,
          1.17,
          8.58,
          0.45,
          0.6,
          0.28,
          1.68,
          1.84,
          3.95,
          1.05,
          5.7,
          1.32,
          0.26,
          2.48,
          0.17,
          1.84,
          0.81,
          0.25,
          3.25,
          4.75,
          4.11,
          2.88,
          0.52,
          0.56,
          4.31,
          4.1,
          7.93,
          4.65,
          0.2,
          0.27,
          0.12,
          0.25,
          2.22,
          1.8,
          7.55,
          3.46,
          0.09,
          2.05,
          0.12,
          1.92,
          1.26,
          0.19,
          0.34,
          0.81,
          0.76,
          1.01,
          2.76,
          2.54,
          0.97,
          0.63,
          1.89,
          1.66,
          0.51,
          2.61,
          1.57,
          3.17,
          0.69,
          0.84,
          2.31,
          3.96,
          2.68,
          0.84,
          0.62,
          0.14,
          0.9,
          1.1,
          0.74,
          0.17,
          0.71,
          0.68,
          0.38,
          0.5,
          4.72,
          1.4,
          2.4,
          1.36,
          2.04,
          0.24,
          1.32,
          4.1,
          0.16,
          4.42,
          1.08,
          5.75,
          0.67,
          2.57,
          1.13,
          4.39,
          0.55,
          1.88,
          0.76,
          3.51,
          1.71,
          1.31,
          0.51,
          1.23,
          3.26,
          2.7,
          0.76,
          2.48,
          0.85,
          8.44,
          0.71,
          0.28,
          0.14,
          0.86,
          2.25,
          0.88,
          1.42,
          0.39,
          0.31,
          0.77,
          0.57,
          0.21,
          0.39,
          0.83,
          1.7,
          1.55,
          0.45,
          0.63,
          0.14,
          1.55,
          7.86,
          1.17,
          5.53,
          0.28,
          2.6,
          1.07,
          2.91,
          0.79,
          0.42,
          2.81,
          0.37,
          1,
          3.06,
          0.76,
          2.81,
          2.4,
          1.66,
          2,
          1.48,
          2.44,
          2.11,
          3.49,
          3.28,
          3.1,
          4.46,
          1.41,
          3.47,
          3.16,
          4.06,
          0.28,
          2.1,
          2.43,
          3.9,
          1.38,
          1.28,
          3.88,
          4.23,
          2.05,
          4,
          0.43,
          1,
          2,
          0.83,
          1.5,
          5.68,
          2.43,
          6,
          1
         ],
         "xaxis": "x6",
         "yaxis": "y6"
        },
        {
         "name": "",
         "opacity": 0.75,
         "showlegend": false,
         "type": "box",
         "x": [
          1,
          1,
          4,
          2,
          4,
          6,
          2,
          1,
          1,
          2,
          2,
          9,
          2,
          4,
          2,
          1,
          4,
          9,
          4,
          2,
          2,
          4,
          1,
          9,
          3,
          4,
          6,
          6,
          6,
          6,
          6,
          6,
          6,
          9,
          2,
          8,
          3,
          8,
          9,
          9,
          3,
          3,
          8,
          2,
          1,
          8,
          2,
          1,
          1,
          1,
          8,
          1,
          3,
          4,
          6,
          6,
          1,
          4,
          8,
          1,
          6,
          6,
          22,
          3,
          22,
          8,
          2,
          3,
          8,
          2,
          1,
          2,
          9,
          1,
          1,
          1,
          8,
          1,
          4,
          3,
          5,
          22,
          3,
          3,
          1,
          4,
          1,
          15,
          15,
          15,
          1,
          1,
          9,
          4,
          9,
          10,
          3,
          2,
          2,
          5,
          2,
          8,
          5,
          1,
          15,
          1,
          3,
          15,
          1,
          1,
          1,
          15,
          3,
          5,
          1,
          1,
          9,
          1,
          4,
          2,
          5,
          22,
          22,
          1,
          22,
          22,
          15,
          3,
          2,
          22,
          3,
          3,
          15,
          9,
          8,
          8,
          8,
          1,
          4,
          9,
          9,
          4,
          4,
          4,
          9,
          22,
          15,
          5,
          10,
          22,
          1,
          3,
          1,
          5,
          1,
          3,
          4,
          1,
          4,
          4,
          4,
          15,
          15,
          2,
          3,
          3,
          4,
          5,
          3,
          2,
          15,
          1,
          3,
          1,
          10,
          10,
          1,
          3,
          3,
          22,
          3,
          2,
          1,
          5,
          3,
          3,
          3,
          3,
          22,
          1,
          1,
          1,
          6,
          1,
          22,
          8,
          1,
          2,
          2,
          1,
          1,
          2,
          2,
          2,
          8,
          22,
          8,
          3,
          1,
          1,
          1,
          6,
          1,
          1,
          5,
          22,
          4,
          1,
          6,
          6,
          1,
          4,
          1,
          5,
          6,
          6,
          6,
          1,
          1,
          1,
          4,
          8,
          2,
          2,
          1,
          2,
          1,
          2,
          1,
          3,
          1,
          3,
          1,
          2,
          2,
          8,
          1,
          2,
          2,
          5,
          8,
          1,
          15,
          9,
          5,
          3,
          1,
          2,
          1,
          1,
          2,
          1,
          22,
          22,
          6,
          12,
          12,
          12,
          12,
          12,
          12,
          4,
          4,
          3,
          6,
          6,
          4,
          2,
          6,
          1,
          3,
          1,
          1,
          1,
          1,
          1,
          2,
          1,
          1,
          1,
          9,
          2,
          1,
          1,
          1,
          4,
          6,
          22,
          10,
          10,
          10,
          1,
          2,
          10,
          8,
          1,
          15,
          15,
          3,
          1,
          4,
          1,
          1,
          2,
          1,
          1,
          1,
          1,
          1,
          1,
          3,
          2,
          1,
          2,
          10
         ],
         "xaxis": "x7",
         "yaxis": "y7"
        },
        {
         "name": "",
         "opacity": 0.75,
         "showlegend": false,
         "type": "box",
         "x": [
          233,
          21,
          360,
          79,
          0,
          365,
          179,
          311,
          0,
          138,
          112,
          0,
          363,
          282,
          364,
          299,
          313,
          355,
          112,
          295,
          365,
          342,
          26,
          365,
          242,
          365,
          179,
          313,
          179,
          313,
          313,
          313,
          70,
          254,
          298,
          212,
          338,
          275,
          365,
          354,
          244,
          251,
          303,
          64,
          0,
          316,
          0,
          0,
          359,
          0,
          354,
          301,
          234,
          112,
          0,
          299,
          178,
          346,
          0,
          365,
          189,
          334,
          0,
          226,
          73,
          365,
          144,
          361,
          350,
          69,
          254,
          172,
          0,
          229,
          170,
          37,
          365,
          159,
          75,
          365,
          356,
          0,
          349,
          262,
          0,
          10,
          143,
          342,
          0,
          0,
          72,
          244,
          163,
          0,
          357,
          0,
          361,
          276,
          317,
          293,
          214,
          0,
          351,
          190,
          0,
          255,
          159,
          361,
          0,
          128,
          175,
          358,
          344,
          221,
          162,
          329,
          122,
          0,
          364,
          358,
          0,
          86,
          79,
          121,
          87,
          0,
          271,
          332,
          33,
          85,
          244,
          320,
          349,
          365,
          364,
          354,
          250,
          267,
          38,
          103,
          277,
          253,
          252,
          253,
          364,
          0,
          0,
          225,
          0,
          0,
          333,
          266,
          223,
          268,
          362,
          85,
          0,
          302,
          173,
          173,
          173,
          355,
          214,
          148,
          176,
          0,
          328,
          251,
          327,
          89,
          247,
          268,
          316,
          0,
          0,
          0,
          25,
          158,
          162,
          0,
          59,
          219,
          0,
          257,
          341,
          336,
          332,
          346,
          79,
          0,
          269,
          216,
          331,
          303,
          0,
          344,
          339,
          365,
          289,
          361,
          0,
          0,
          349,
          171,
          342,
          0,
          361,
          83,
          252,
          44,
          0,
          19,
          83,
          250,
          0,
          0,
          345,
          280,
          300,
          273,
          231,
          105,
          225,
          350,
          271,
          266,
          267,
          159,
          257,
          38,
          206,
          360,
          282,
          277,
          147,
          360,
          79,
          298,
          322,
          173,
          80,
          352,
          7,
          0,
          133,
          311,
          170,
          359,
          363,
          349,
          358,
          0,
          281,
          179,
          339,
          89,
          0,
          354,
          246,
          20,
          349,
          216,
          358,
          349,
          283,
          278,
          278,
          275,
          277,
          281,
          255,
          345,
          360,
          36,
          0,
          1,
          267,
          0,
          0,
          297,
          78,
          358,
          91,
          0,
          0,
          172,
          242,
          40,
          245,
          151,
          179,
          73,
          38,
          335,
          150,
          342,
          328,
          267,
          259,
          249,
          208,
          276,
          286,
          262,
          362,
          73,
          175,
          244,
          252,
          38,
          328,
          259,
          164,
          215,
          323,
          258,
          362,
          356,
          95,
          269,
          179,
          256,
          238,
          20,
          0
         ],
         "xaxis": "x8",
         "yaxis": "y8"
        },
        {
         "name": "",
         "opacity": 0.75,
         "showlegend": false,
         "type": "box",
         "x": [
          50,
          0,
          8,
          31,
          5,
          0,
          0,
          3,
          39,
          39,
          98,
          23,
          16,
          0,
          7,
          14,
          3,
          22,
          8,
          115,
          2,
          6,
          2,
          0,
          19,
          3,
          0,
          0,
          0,
          0,
          0,
          0,
          0,
          0,
          1,
          1,
          5,
          14,
          0,
          12,
          6,
          4,
          18,
          28,
          23,
          4,
          39,
          131,
          1,
          10,
          16,
          20,
          30,
          16,
          41,
          76,
          1,
          8,
          11,
          1,
          34,
          40,
          55,
          46,
          53,
          4,
          98,
          2,
          1,
          68,
          29,
          53,
          18,
          4,
          4,
          0,
          6,
          51,
          14,
          4,
          26,
          21,
          70,
          55,
          19,
          6,
          41,
          22,
          23,
          24,
          58,
          58,
          21,
          12,
          13,
          34,
          1,
          1,
          44,
          33,
          48,
          23,
          21,
          58,
          14,
          69,
          5,
          9,
          61,
          1,
          0,
          23,
          25,
          10,
          13,
          8,
          15,
          78,
          0,
          38,
          7,
          14,
          39,
          0,
          28,
          32,
          20,
          57,
          1,
          22,
          42,
          70,
          30,
          5,
          22,
          24,
          4,
          73,
          0,
          23,
          26,
          0,
          2,
          0,
          0,
          29,
          14,
          5,
          55,
          36,
          20,
          55,
          4,
          3,
          7,
          58,
          8,
          113,
          3,
          7,
          2,
          20,
          18,
          46,
          8,
          62,
          20,
          2,
          30,
          2,
          19,
          11,
          2,
          37,
          55,
          50,
          31,
          6,
          5,
          54,
          48,
          113,
          58,
          2,
          3,
          1,
          2,
          28,
          20,
          94,
          22,
          1,
          25,
          0,
          25,
          17,
          2,
          1,
          9,
          7,
          11,
          34,
          28,
          11,
          6,
          21,
          18,
          7,
          29,
          17,
          39,
          7,
          8,
          27,
          49,
          34,
          10,
          6,
          1,
          7,
          13,
          9,
          2,
          8,
          5,
          3,
          4,
          56,
          15,
          24,
          10,
          22,
          1,
          13,
          50,
          1,
          52,
          12,
          65,
          5,
          29,
          11,
          48,
          3,
          19,
          8,
          35,
          16,
          13,
          5,
          11,
          29,
          24,
          7,
          20,
          7,
          74,
          5,
          2,
          1,
          7,
          17,
          7,
          11,
          3,
          2,
          4,
          4,
          1,
          1,
          6,
          13,
          12,
          3,
          4,
          1,
          3,
          54,
          8,
          38,
          1,
          17,
          6,
          16,
          4,
          2,
          16,
          2,
          1,
          5,
          4,
          3,
          12,
          8,
          2,
          7,
          11,
          9,
          15,
          14,
          13,
          18,
          6,
          14,
          12,
          13,
          1,
          7,
          6,
          13,
          5,
          4,
          11,
          10,
          6,
          4,
          1,
          1,
          2,
          1,
          2,
          7,
          3,
          6,
          1
         ],
         "xaxis": "x9",
         "yaxis": "y9"
        }
       ],
       "layout": {
        "annotations": [
         {
          "font": {
           "size": 16
          },
          "showarrow": false,
          "text": "Latitude",
          "x": 0.14444444444444446,
          "xanchor": "center",
          "xref": "paper",
          "y": 1,
          "yanchor": "bottom",
          "yref": "paper"
         },
         {
          "font": {
           "size": 16
          },
          "showarrow": false,
          "text": "Longitude",
          "x": 0.5,
          "xanchor": "center",
          "xref": "paper",
          "y": 1,
          "yanchor": "bottom",
          "yref": "paper"
         },
         {
          "font": {
           "size": 16
          },
          "showarrow": false,
          "text": "Price",
          "x": 0.8555555555555556,
          "xanchor": "center",
          "xref": "paper",
          "y": 1,
          "yanchor": "bottom",
          "yref": "paper"
         },
         {
          "font": {
           "size": 16
          },
          "showarrow": false,
          "text": "Minimum_Nights",
          "x": 0.14444444444444446,
          "xanchor": "center",
          "xref": "paper",
          "y": 0.6111111111111112,
          "yanchor": "bottom",
          "yref": "paper"
         },
         {
          "font": {
           "size": 16
          },
          "showarrow": false,
          "text": "Number_Of_Reviews",
          "x": 0.5,
          "xanchor": "center",
          "xref": "paper",
          "y": 0.6111111111111112,
          "yanchor": "bottom",
          "yref": "paper"
         },
         {
          "font": {
           "size": 16
          },
          "showarrow": false,
          "text": "Reviews_Per_Month",
          "x": 0.8555555555555556,
          "xanchor": "center",
          "xref": "paper",
          "y": 0.6111111111111112,
          "yanchor": "bottom",
          "yref": "paper"
         },
         {
          "font": {
           "size": 16
          },
          "showarrow": false,
          "text": "Calculated_Host_Listings_Count",
          "x": 0.14444444444444446,
          "xanchor": "center",
          "xref": "paper",
          "y": 0.22222222222222224,
          "yanchor": "bottom",
          "yref": "paper"
         },
         {
          "font": {
           "size": 16
          },
          "showarrow": false,
          "text": "Availability_365",
          "x": 0.5,
          "xanchor": "center",
          "xref": "paper",
          "y": 0.22222222222222224,
          "yanchor": "bottom",
          "yref": "paper"
         },
         {
          "font": {
           "size": 16
          },
          "showarrow": false,
          "text": "Number_Of_Reviews_Ltm",
          "x": 0.8555555555555556,
          "xanchor": "center",
          "xref": "paper",
          "y": 0.22222222222222224,
          "yanchor": "bottom",
          "yref": "paper"
         }
        ],
        "font": {
         "color": "#909497",
         "size": 20
        },
        "height": 1000,
        "hovermode": "closest",
        "margin": {
         "b": 80,
         "l": 120,
         "r": 80,
         "t": 100
        },
        "plot_bgcolor": "white",
        "template": {
         "data": {
          "bar": [
           {
            "error_x": {
             "color": "#2a3f5f"
            },
            "error_y": {
             "color": "#2a3f5f"
            },
            "marker": {
             "line": {
              "color": "#E5ECF6",
              "width": 0.5
             },
             "pattern": {
              "fillmode": "overlay",
              "size": 10,
              "solidity": 0.2
             }
            },
            "type": "bar"
           }
          ],
          "barpolar": [
           {
            "marker": {
             "line": {
              "color": "#E5ECF6",
              "width": 0.5
             },
             "pattern": {
              "fillmode": "overlay",
              "size": 10,
              "solidity": 0.2
             }
            },
            "type": "barpolar"
           }
          ],
          "carpet": [
           {
            "aaxis": {
             "endlinecolor": "#2a3f5f",
             "gridcolor": "white",
             "linecolor": "white",
             "minorgridcolor": "white",
             "startlinecolor": "#2a3f5f"
            },
            "baxis": {
             "endlinecolor": "#2a3f5f",
             "gridcolor": "white",
             "linecolor": "white",
             "minorgridcolor": "white",
             "startlinecolor": "#2a3f5f"
            },
            "type": "carpet"
           }
          ],
          "choropleth": [
           {
            "colorbar": {
             "outlinewidth": 0,
             "ticks": ""
            },
            "type": "choropleth"
           }
          ],
          "contour": [
           {
            "colorbar": {
             "outlinewidth": 0,
             "ticks": ""
            },
            "colorscale": [
             [
              0,
              "#0d0887"
             ],
             [
              0.1111111111111111,
              "#46039f"
             ],
             [
              0.2222222222222222,
              "#7201a8"
             ],
             [
              0.3333333333333333,
              "#9c179e"
             ],
             [
              0.4444444444444444,
              "#bd3786"
             ],
             [
              0.5555555555555556,
              "#d8576b"
             ],
             [
              0.6666666666666666,
              "#ed7953"
             ],
             [
              0.7777777777777778,
              "#fb9f3a"
             ],
             [
              0.8888888888888888,
              "#fdca26"
             ],
             [
              1,
              "#f0f921"
             ]
            ],
            "type": "contour"
           }
          ],
          "contourcarpet": [
           {
            "colorbar": {
             "outlinewidth": 0,
             "ticks": ""
            },
            "type": "contourcarpet"
           }
          ],
          "heatmap": [
           {
            "colorbar": {
             "outlinewidth": 0,
             "ticks": ""
            },
            "colorscale": [
             [
              0,
              "#0d0887"
             ],
             [
              0.1111111111111111,
              "#46039f"
             ],
             [
              0.2222222222222222,
              "#7201a8"
             ],
             [
              0.3333333333333333,
              "#9c179e"
             ],
             [
              0.4444444444444444,
              "#bd3786"
             ],
             [
              0.5555555555555556,
              "#d8576b"
             ],
             [
              0.6666666666666666,
              "#ed7953"
             ],
             [
              0.7777777777777778,
              "#fb9f3a"
             ],
             [
              0.8888888888888888,
              "#fdca26"
             ],
             [
              1,
              "#f0f921"
             ]
            ],
            "type": "heatmap"
           }
          ],
          "heatmapgl": [
           {
            "colorbar": {
             "outlinewidth": 0,
             "ticks": ""
            },
            "colorscale": [
             [
              0,
              "#0d0887"
             ],
             [
              0.1111111111111111,
              "#46039f"
             ],
             [
              0.2222222222222222,
              "#7201a8"
             ],
             [
              0.3333333333333333,
              "#9c179e"
             ],
             [
              0.4444444444444444,
              "#bd3786"
             ],
             [
              0.5555555555555556,
              "#d8576b"
             ],
             [
              0.6666666666666666,
              "#ed7953"
             ],
             [
              0.7777777777777778,
              "#fb9f3a"
             ],
             [
              0.8888888888888888,
              "#fdca26"
             ],
             [
              1,
              "#f0f921"
             ]
            ],
            "type": "heatmapgl"
           }
          ],
          "histogram": [
           {
            "marker": {
             "pattern": {
              "fillmode": "overlay",
              "size": 10,
              "solidity": 0.2
             }
            },
            "type": "histogram"
           }
          ],
          "histogram2d": [
           {
            "colorbar": {
             "outlinewidth": 0,
             "ticks": ""
            },
            "colorscale": [
             [
              0,
              "#0d0887"
             ],
             [
              0.1111111111111111,
              "#46039f"
             ],
             [
              0.2222222222222222,
              "#7201a8"
             ],
             [
              0.3333333333333333,
              "#9c179e"
             ],
             [
              0.4444444444444444,
              "#bd3786"
             ],
             [
              0.5555555555555556,
              "#d8576b"
             ],
             [
              0.6666666666666666,
              "#ed7953"
             ],
             [
              0.7777777777777778,
              "#fb9f3a"
             ],
             [
              0.8888888888888888,
              "#fdca26"
             ],
             [
              1,
              "#f0f921"
             ]
            ],
            "type": "histogram2d"
           }
          ],
          "histogram2dcontour": [
           {
            "colorbar": {
             "outlinewidth": 0,
             "ticks": ""
            },
            "colorscale": [
             [
              0,
              "#0d0887"
             ],
             [
              0.1111111111111111,
              "#46039f"
             ],
             [
              0.2222222222222222,
              "#7201a8"
             ],
             [
              0.3333333333333333,
              "#9c179e"
             ],
             [
              0.4444444444444444,
              "#bd3786"
             ],
             [
              0.5555555555555556,
              "#d8576b"
             ],
             [
              0.6666666666666666,
              "#ed7953"
             ],
             [
              0.7777777777777778,
              "#fb9f3a"
             ],
             [
              0.8888888888888888,
              "#fdca26"
             ],
             [
              1,
              "#f0f921"
             ]
            ],
            "type": "histogram2dcontour"
           }
          ],
          "mesh3d": [
           {
            "colorbar": {
             "outlinewidth": 0,
             "ticks": ""
            },
            "type": "mesh3d"
           }
          ],
          "parcoords": [
           {
            "line": {
             "colorbar": {
              "outlinewidth": 0,
              "ticks": ""
             }
            },
            "type": "parcoords"
           }
          ],
          "pie": [
           {
            "automargin": true,
            "type": "pie"
           }
          ],
          "scatter": [
           {
            "fillpattern": {
             "fillmode": "overlay",
             "size": 10,
             "solidity": 0.2
            },
            "type": "scatter"
           }
          ],
          "scatter3d": [
           {
            "line": {
             "colorbar": {
              "outlinewidth": 0,
              "ticks": ""
             }
            },
            "marker": {
             "colorbar": {
              "outlinewidth": 0,
              "ticks": ""
             }
            },
            "type": "scatter3d"
           }
          ],
          "scattercarpet": [
           {
            "marker": {
             "colorbar": {
              "outlinewidth": 0,
              "ticks": ""
             }
            },
            "type": "scattercarpet"
           }
          ],
          "scattergeo": [
           {
            "marker": {
             "colorbar": {
              "outlinewidth": 0,
              "ticks": ""
             }
            },
            "type": "scattergeo"
           }
          ],
          "scattergl": [
           {
            "marker": {
             "colorbar": {
              "outlinewidth": 0,
              "ticks": ""
             }
            },
            "type": "scattergl"
           }
          ],
          "scattermapbox": [
           {
            "marker": {
             "colorbar": {
              "outlinewidth": 0,
              "ticks": ""
             }
            },
            "type": "scattermapbox"
           }
          ],
          "scatterpolar": [
           {
            "marker": {
             "colorbar": {
              "outlinewidth": 0,
              "ticks": ""
             }
            },
            "type": "scatterpolar"
           }
          ],
          "scatterpolargl": [
           {
            "marker": {
             "colorbar": {
              "outlinewidth": 0,
              "ticks": ""
             }
            },
            "type": "scatterpolargl"
           }
          ],
          "scatterternary": [
           {
            "marker": {
             "colorbar": {
              "outlinewidth": 0,
              "ticks": ""
             }
            },
            "type": "scatterternary"
           }
          ],
          "surface": [
           {
            "colorbar": {
             "outlinewidth": 0,
             "ticks": ""
            },
            "colorscale": [
             [
              0,
              "#0d0887"
             ],
             [
              0.1111111111111111,
              "#46039f"
             ],
             [
              0.2222222222222222,
              "#7201a8"
             ],
             [
              0.3333333333333333,
              "#9c179e"
             ],
             [
              0.4444444444444444,
              "#bd3786"
             ],
             [
              0.5555555555555556,
              "#d8576b"
             ],
             [
              0.6666666666666666,
              "#ed7953"
             ],
             [
              0.7777777777777778,
              "#fb9f3a"
             ],
             [
              0.8888888888888888,
              "#fdca26"
             ],
             [
              1,
              "#f0f921"
             ]
            ],
            "type": "surface"
           }
          ],
          "table": [
           {
            "cells": {
             "fill": {
              "color": "#EBF0F8"
             },
             "line": {
              "color": "white"
             }
            },
            "header": {
             "fill": {
              "color": "#C8D4E3"
             },
             "line": {
              "color": "white"
             }
            },
            "type": "table"
           }
          ]
         },
         "layout": {
          "annotationdefaults": {
           "arrowcolor": "#2a3f5f",
           "arrowhead": 0,
           "arrowwidth": 1
          },
          "autotypenumbers": "strict",
          "coloraxis": {
           "colorbar": {
            "outlinewidth": 0,
            "ticks": ""
           }
          },
          "colorscale": {
           "diverging": [
            [
             0,
             "#8e0152"
            ],
            [
             0.1,
             "#c51b7d"
            ],
            [
             0.2,
             "#de77ae"
            ],
            [
             0.3,
             "#f1b6da"
            ],
            [
             0.4,
             "#fde0ef"
            ],
            [
             0.5,
             "#f7f7f7"
            ],
            [
             0.6,
             "#e6f5d0"
            ],
            [
             0.7,
             "#b8e186"
            ],
            [
             0.8,
             "#7fbc41"
            ],
            [
             0.9,
             "#4d9221"
            ],
            [
             1,
             "#276419"
            ]
           ],
           "sequential": [
            [
             0,
             "#0d0887"
            ],
            [
             0.1111111111111111,
             "#46039f"
            ],
            [
             0.2222222222222222,
             "#7201a8"
            ],
            [
             0.3333333333333333,
             "#9c179e"
            ],
            [
             0.4444444444444444,
             "#bd3786"
            ],
            [
             0.5555555555555556,
             "#d8576b"
            ],
            [
             0.6666666666666666,
             "#ed7953"
            ],
            [
             0.7777777777777778,
             "#fb9f3a"
            ],
            [
             0.8888888888888888,
             "#fdca26"
            ],
            [
             1,
             "#f0f921"
            ]
           ],
           "sequentialminus": [
            [
             0,
             "#0d0887"
            ],
            [
             0.1111111111111111,
             "#46039f"
            ],
            [
             0.2222222222222222,
             "#7201a8"
            ],
            [
             0.3333333333333333,
             "#9c179e"
            ],
            [
             0.4444444444444444,
             "#bd3786"
            ],
            [
             0.5555555555555556,
             "#d8576b"
            ],
            [
             0.6666666666666666,
             "#ed7953"
            ],
            [
             0.7777777777777778,
             "#fb9f3a"
            ],
            [
             0.8888888888888888,
             "#fdca26"
            ],
            [
             1,
             "#f0f921"
            ]
           ]
          },
          "colorway": [
           "#636efa",
           "#EF553B",
           "#00cc96",
           "#ab63fa",
           "#FFA15A",
           "#19d3f3",
           "#FF6692",
           "#B6E880",
           "#FF97FF",
           "#FECB52"
          ],
          "font": {
           "color": "#2a3f5f"
          },
          "geo": {
           "bgcolor": "white",
           "lakecolor": "white",
           "landcolor": "#E5ECF6",
           "showlakes": true,
           "showland": true,
           "subunitcolor": "white"
          },
          "hoverlabel": {
           "align": "left"
          },
          "hovermode": "closest",
          "mapbox": {
           "style": "light"
          },
          "paper_bgcolor": "white",
          "plot_bgcolor": "#E5ECF6",
          "polar": {
           "angularaxis": {
            "gridcolor": "white",
            "linecolor": "white",
            "ticks": ""
           },
           "bgcolor": "#E5ECF6",
           "radialaxis": {
            "gridcolor": "white",
            "linecolor": "white",
            "ticks": ""
           }
          },
          "scene": {
           "xaxis": {
            "backgroundcolor": "#E5ECF6",
            "gridcolor": "white",
            "gridwidth": 2,
            "linecolor": "white",
            "showbackground": true,
            "ticks": "",
            "zerolinecolor": "white"
           },
           "yaxis": {
            "backgroundcolor": "#E5ECF6",
            "gridcolor": "white",
            "gridwidth": 2,
            "linecolor": "white",
            "showbackground": true,
            "ticks": "",
            "zerolinecolor": "white"
           },
           "zaxis": {
            "backgroundcolor": "#E5ECF6",
            "gridcolor": "white",
            "gridwidth": 2,
            "linecolor": "white",
            "showbackground": true,
            "ticks": "",
            "zerolinecolor": "white"
           }
          },
          "shapedefaults": {
           "line": {
            "color": "#2a3f5f"
           }
          },
          "ternary": {
           "aaxis": {
            "gridcolor": "white",
            "linecolor": "white",
            "ticks": ""
           },
           "baxis": {
            "gridcolor": "white",
            "linecolor": "white",
            "ticks": ""
           },
           "bgcolor": "#E5ECF6",
           "caxis": {
            "gridcolor": "white",
            "linecolor": "white",
            "ticks": ""
           }
          },
          "title": {
           "x": 0.05
          },
          "xaxis": {
           "automargin": true,
           "gridcolor": "white",
           "linecolor": "white",
           "ticks": "",
           "title": {
            "standoff": 15
           },
           "zerolinecolor": "white",
           "zerolinewidth": 2
          },
          "yaxis": {
           "automargin": true,
           "gridcolor": "white",
           "linecolor": "white",
           "ticks": "",
           "title": {
            "standoff": 15
           },
           "zerolinecolor": "white",
           "zerolinewidth": 2
          }
         }
        },
        "title": {
         "font": {
          "size": 26
         },
         "text": "All Numerical Columns"
        },
        "width": 900,
        "xaxis": {
         "anchor": "y",
         "domain": [
          0,
          0.2888888888888889
         ]
        },
        "xaxis2": {
         "anchor": "y2",
         "domain": [
          0.35555555555555557,
          0.6444444444444445
         ]
        },
        "xaxis3": {
         "anchor": "y3",
         "domain": [
          0.7111111111111111,
          1
         ]
        },
        "xaxis4": {
         "anchor": "y4",
         "domain": [
          0,
          0.2888888888888889
         ]
        },
        "xaxis5": {
         "anchor": "y5",
         "domain": [
          0.35555555555555557,
          0.6444444444444445
         ]
        },
        "xaxis6": {
         "anchor": "y6",
         "domain": [
          0.7111111111111111,
          1
         ]
        },
        "xaxis7": {
         "anchor": "y7",
         "domain": [
          0,
          0.2888888888888889
         ]
        },
        "xaxis8": {
         "anchor": "y8",
         "domain": [
          0.35555555555555557,
          0.6444444444444445
         ]
        },
        "xaxis9": {
         "anchor": "y9",
         "domain": [
          0.7111111111111111,
          1
         ]
        },
        "yaxis": {
         "anchor": "x",
         "domain": [
          0.7777777777777778,
          1
         ]
        },
        "yaxis2": {
         "anchor": "x2",
         "domain": [
          0.7777777777777778,
          1
         ]
        },
        "yaxis3": {
         "anchor": "x3",
         "domain": [
          0.7777777777777778,
          1
         ]
        },
        "yaxis4": {
         "anchor": "x4",
         "domain": [
          0.3888888888888889,
          0.6111111111111112
         ]
        },
        "yaxis5": {
         "anchor": "x5",
         "domain": [
          0.3888888888888889,
          0.6111111111111112
         ]
        },
        "yaxis6": {
         "anchor": "x6",
         "domain": [
          0.3888888888888889,
          0.6111111111111112
         ]
        },
        "yaxis7": {
         "anchor": "x7",
         "domain": [
          0,
          0.22222222222222224
         ]
        },
        "yaxis8": {
         "anchor": "x8",
         "domain": [
          0,
          0.22222222222222224
         ]
        },
        "yaxis9": {
         "anchor": "x9",
         "domain": [
          0,
          0.22222222222222224
         ]
        }
       }
      },
      "text/html": [
       "<div>                            <div id=\"e58f6a55-7f72-4ea0-8f21-0f78033d6987\" class=\"plotly-graph-div\" style=\"height:1000px; width:900px;\"></div>            <script type=\"text/javascript\">                require([\"plotly\"], function(Plotly) {                    window.PLOTLYENV=window.PLOTLYENV || {};                                    if (document.getElementById(\"e58f6a55-7f72-4ea0-8f21-0f78033d6987\")) {                    Plotly.newPlot(                        \"e58f6a55-7f72-4ea0-8f21-0f78033d6987\",                        [{\"name\":\"\",\"opacity\":0.75,\"showlegend\":false,\"x\":[42.66719,42.65789,42.65222,42.64615,42.65222,42.64484,42.66063,42.64603,42.65559,42.64734,42.66078,42.67567,42.67583,42.65912,42.65154,42.66972,42.65726,42.673512,42.65651,42.66075,42.67614,42.6584,42.65729,42.67637,42.65312,42.6585,42.6436,42.65846,42.64355,42.65846,42.65846,42.65846,42.65846,42.675,42.64939,42.65532,42.66565,42.65372,42.67547,42.66045,42.66572,42.66703,42.65501,42.64717,42.65975,42.65431,42.6477,42.65345,42.65333,42.65403,42.6543083190918,42.65821,42.65464,42.65746,42.64535,42.64535,42.6737,42.65235,42.6533,42.67519,42.64563,42.64585,42.64335,42.65259,42.64506,42.66619,42.65085,42.65507,42.65483,42.65547,42.66091,42.65682,42.66827,42.67773,42.65592,42.65115,42.65315,42.66403,42.64453,42.65556,42.66257,42.64383,42.65935,42.66006,42.66132,42.64454,42.6545,42.64801,42.64821,42.64713,42.66137,42.65311,42.66646,42.65345,42.67156,42.6692,42.656,42.66744,42.6511808672392,42.66261,42.64981845378106,42.65399,42.65429,42.65157,42.65888,42.66034,42.67945,42.65901,42.66064,42.65969,42.65061,42.65856,42.65812,42.65269,42.64684,42.67643,42.63066,42.65641,42.65934,42.67044,42.65386,42.64186,42.65674,42.65069,42.67181,42.67131,42.65812,42.65826,42.67004,42.64369,42.65824,42.65204,42.65913,42.674675,42.66261,42.65422,42.65403,42.65155,42.64459,42.65578,42.65905,42.65902,42.6595,42.6598,42.66919,42.64342,42.65848,42.64441,42.66911,42.64252,42.652049,42.65353,42.65547943115234,42.64489,42.640217,42.65723,42.64372,42.65347,42.64318,42.64242,42.64198,42.64528,42.64558,42.65323,42.6635364,42.65802,42.65427,42.64625,42.64595,42.65389,42.65752,42.65795,42.6374547,42.65541380925019,42.66758,42.66764,42.6694413,42.66305,42.66286,42.66172,42.65732,42.65405765037151,42.6623,42.64577,42.66008,42.65929700754271,42.65935889426801,42.64638,42.6732,42.65691,42.6513719,42.65035,42.64564,42.65643,42.66069,42.6543178,42.64469,42.65569,42.6496,42.64284,42.66648,42.64439384900326,42.6444412,42.65259,42.65534,42.67348,42.65405,42.66117,42.6601,42.6518469,42.65725,42.65183,42.66298,42.6591503133547,42.6653,42.64324,42.65489,42.67283,42.656329,42.65582,42.6538578,42.65741,42.65315,42.66958,42.65751,42.656329,42.656329,42.65588,42.6684126,42.67239,42.67143614564987,42.65258,42.66109,42.65613,42.67076,42.66007584297136,42.63504,42.67336,42.6446,42.67177,42.6457663,42.65817,42.66947,42.66128,42.67355,42.65379,42.6599733,42.66246,42.6628771,42.6573,42.66215778253739,42.66087,42.64787,42.6652959,42.66217,42.66261,42.65193730448655,42.6559529,42.6586,42.65483722729842,42.654965911269095,42.67066076442359,42.672943350526445,42.67132410762948,42.65654925592276,42.658672199777634,42.6606,42.659082586070085,42.65846944486231,42.65908020134226,42.660362531234114,42.6708367,42.669735657513975,42.68001107488553,42.65801,42.65798404004404,42.67033901962889,42.6541815,42.66000843071908,42.6549886,42.678962799458816,42.65240863051438,42.67059398561849,42.65679550669701,42.65312775001394,42.66627900500492,42.66391565517209,42.65411,42.6715992520812,42.65259924007496,42.6709773627501,42.64485687096462,42.65623,42.65761589542138,42.6554977755084,42.65483900711961,42.64534889999999,42.661365504548,42.67002775509383,42.6697096084112,42.66873116573401,42.645494388571485,42.65538680270734,42.66996089870569,42.6535,42.64713879857583,42.65859808957202,42.65970700274541,42.64655138980193,42.66838,42.65487397780481,42.6759553661711,42.6736802909505,42.65446887973431,42.66106893179246,42.639757084309245,42.6408128784902,42.659886051712505,42.65098734769702,42.66311590202129,42.67096068386967,42.663915656143736,42.67908161690146,42.65607073634355,42.66943098938467],\"type\":\"box\",\"xaxis\":\"x\",\"yaxis\":\"y\"},{\"name\":\"\",\"opacity\":0.75,\"showlegend\":false,\"x\":[-73.8158,-73.7537,-73.76724,-73.75966,-73.76724,-73.75851,-73.78115,-73.75986,-73.76506,-73.75851,-73.80553,-73.82438,-73.78297,-73.78349,-73.76867,-73.82753,-73.78219,-73.819679,-73.77887,-73.80605,-73.78169,-73.78309,-73.80321,-73.82395,-73.78161,-73.78414,-73.75887,-73.80201,-73.75712,-73.80201,-73.80201,-73.80201,-73.80201,-73.82382,-73.76865,-73.78244,-73.77975,-73.78244,-73.82402,-73.77833,-73.77834,-73.77842,-73.78122,-73.77135,-73.81196,-73.78178,-73.7714,-73.7645,-73.77293,-73.76325,-73.78177642822266,-73.76917,-73.78348,-73.77904,-73.75365,-73.75365,-73.75313,-73.76714,-73.78114,-73.82281,-73.75311,-73.75297,-73.7579,-73.78223,-73.75727,-73.79031,-73.80239,-73.76138,-73.78033,-73.7651,-73.74285,-73.76298,-73.79231,-73.73899,-73.76259,-73.7668,-73.76202,-73.81446,-73.75426,-73.76205,-73.78281,-73.78926,-73.76805,-73.76966,-73.7956,-73.75369,-73.78223,-73.75668,-73.75793,-73.75628,-73.7904,-73.78525,-73.79184,-73.76663,-73.80883,-73.79849,-73.76123,-73.79216,-73.75273894471623,-73.78332,-73.75090228127745,-73.78126,-73.75986,-73.76546,-73.74673,-73.77163,-73.81647,-73.74748,-73.76074,-73.77564,-73.75006,-73.74866,-73.74941,-73.76076,-73.75614,-73.82903,-73.77357,-73.76413,-73.76966,-73.82573,-73.75958,-73.75868,-73.79221,-73.75193,-73.79543,-73.7921,-73.74837,-73.76944,-73.82367,-73.7581,-73.80114,-73.76655,-73.74722,-73.822861,-73.79026,-73.76996,-73.77056,-73.765,-73.75392,-73.78641,-73.77964,-73.7701,-73.76938,-73.76995,-73.78672,-73.75742,-73.76359,-73.75647,-73.79869,-73.75688,-73.7949665,-73.7679,-73.76625061035156,-73.75731,-73.780815,-73.75684,-73.78426,-73.7662,-73.78386,-73.78536,-73.78413,-73.75861,-73.75928,-73.76797,-73.77782359999999,-73.756165,-73.76455,-73.75663,-73.76196,-73.76538,-73.74743,-73.75092,-73.7716647,-73.76367520540953,-73.7992,-73.79908,-73.79749410000001,-73.77726,-73.77817,-73.78497,-73.75676,-73.76071299629517,-73.777,-73.7583,-73.79816,-73.79720147699118,-73.7972692027688,-73.76146,-73.79199,-73.78389,-73.7673156,-73.76549,-73.75261,-73.76402,-73.78555,-73.7818222,-73.761,-73.77685,-73.76792,-73.77997,-73.76831,-73.75975701534425,-73.75971410000001,-73.76732,-73.76461,-73.7934,-73.76953,-73.79091,-73.80719,-73.7642072,-73.75065,-73.76594,-73.81361,-73.75431932508945,-73.7943,-73.75732,-73.77061,-73.77367,-73.7752048,-73.77541,-73.7855281,-73.78034,-73.77012,-73.79722,-73.77409,-73.775205,-73.775205,-73.75332,-73.7684199,-73.79418,-73.79032550419785,-73.76917,-73.80479,-73.77469,-73.82612,-73.76976949435519,-73.79833,-73.78619,-73.75885,-73.79464,-73.7586141,-73.74935,-73.81607,-73.80548,-73.78496,-73.76901,-73.7747433,-73.76576,-73.76534029999999,-73.7521,-73.79234533756971,-73.78655,-73.76707,-73.7868778,-73.78299,-73.79158,-73.78593011701557,-73.7807478,-73.75743,-73.79149618599958,-73.78021704609974,-73.79571205018514,-73.79225342780366,-73.79247186675903,-73.77433674199318,-73.77478693204898,-73.77284,-73.77455698333637,-73.77272373106814,-73.77325860057209,-73.77290224418863,-73.7853116,-73.78610658197474,-73.81705995884008,-73.80049,-73.80128215056936,-73.78509801171585,-73.76086049999999,-73.77397295619353,-73.79390939999999,-73.81724461913109,-73.77002141071337,-73.81678288145305,-73.75335661522755,-73.76950465142727,-73.76511947562057,-73.77786945551634,-73.76129,-73.79798656710622,-73.761780139996,-73.80695225761066,-73.77281881169621,-73.7641152,-73.75115885472674,-73.8106566601018,-73.7674333870007,-73.75364650000002,-73.78482319521697,-73.7977054151877,-73.797549986088,-73.79930289371134,-73.83282736350908,-73.76416369206528,-73.7981565369516,-73.77046,-73.7546608201248,-73.76420635863742,-73.76382104785372,-73.7597240543698,-73.77868,-73.76519868723663,-73.79260844002489,-73.78413107868002,-73.76077862456057,-73.78973060044702,-73.75705214104126,-73.7746275334913,-73.7920570376047,-73.76307767802679,-73.7381032862318,-73.79513938040748,-73.77786945551634,-73.79504903417528,-73.76345323405465,-73.79881962357733],\"type\":\"box\",\"xaxis\":\"x2\",\"yaxis\":\"y2\"},{\"name\":\"\",\"opacity\":0.75,\"showlegend\":false,\"x\":[50.0,70.0,125.0,105.0,126.0,190.0,199.0,85.0,87.0,61.0,50.0,243.0,55.0,45.0,50.0,219.0,45.0,333.0,56.0,70.0,53.0,45.0,62.0,306.0,70.0,50.0,169.0,60.0,249.0,80.0,80.0,80.0,60.0,196.0,126.0,85.0,40.0,70.0,570.0,69.0,35.0,35.0,55.0,80.0,75.0,55.0,77.0,70.0,100.0,89.0,55.0,75.0,50.0,56.0,91.0,62.0,95.0,119.0,55.0,39.0,103.0,100.0,141.0,50.0,100.0,110.0,55.0,151.0,85.0,78.0,217.0,78.0,95.0,109.0,115.0,92.0,110.0,45.0,117.0,175.0,145.0,245.0,109.0,119.0,119.0,97.0,79.0,120.0,122.0,140.0,100.0,175.0,92.0,125.0,79.0,95.0,166.0,125.0,109.0,147.0,117.0,45.0,88.0,109.0,115.0,110.0,63.0,120.0,64.0,93.0,105.0,115.0,85.0,88.0,125.0,40.0,99.0,87.0,100.0,120.0,88.0,135.0,185.0,65.0,125.0,145.0,115.0,119.0,88.0,95.0,175.0,99.0,150.0,160.0,75.0,100.0,100.0,146.0,125.0,99.0,79.0,110.0,100.0,100.0,266.0,120.0,115.0,110.0,89.0,119.0,100.0,113.0,70.0,120.0,120.0,129.0,130.0,108.0,53.0,53.0,53.0,120.0,115.0,149.0,44.0,129.0,97.0,90.0,99.0,130.0,115.0,101.0,159.0,118.0,75.0,75.0,141.0,48.0,45.0,179.0,99.0,102.0,115.0,110.0,27.0,27.0,26.0,90.0,135.0,187.0,113.0,68.0,91.0,60.0,185.0,45.0,80.0,130.0,82.0,131.0,101.0,145.0,145.0,50.0,70.0,128.0,110.0,75.0,65.0,107.0,100.0,110.0,60.0,105.0,185.0,150.0,102.0,104.0,628.0,122.0,87.0,55.0,80.0,126.0,127.0,122.0,127.0,89.0,103.0,99.0,50.0,85.0,55.0,157.0,219.0,120.0,300.0,175.0,95.0,66.0,85.0,78.0,79.0,55.0,175.0,89.0,67.0,45.0,45.0,104.0,100.0,189.0,155.0,110.0,197.0,72.0,156.0,33.0,80.0,115.0,44.0,77.0,125.0,150.0,122.0,184.0,184.0,184.0,184.0,207.0,364.0,45.0,35.0,71.0,135.0,105.0,50.0,128.0,115.0,129.0,118.0,89.0,100.0,108.0,125.0,120.0,114.0,85.0,218.0,87.0,99.0,279.0,110.0,154.0,143.0,83.0,191.0,189.0,50.0,50.0,50.0,347.0,95.0,50.0,73.0,65.0,120.0,119.0,100.0,102.0,91.0,155.0,60.0,91.0,114.0,90.0,88.0,150.0,125.0,105.0,60.0,102.0,125.0,106.0,51.0],\"type\":\"box\",\"xaxis\":\"x3\",\"yaxis\":\"y3\"},{\"name\":\"\",\"opacity\":0.75,\"showlegend\":false,\"x\":[1,28,2,7,2,1,3,3,1,2,1,1,1,10,5,2,10,1,2,1,3,10,1,1,1,14,1,4,2,4,4,4,4,1,2,2,10,2,4,2,10,10,2,1,2,2,1,1,3,2,2,1,1,2,1,1,1,2,2,2,1,1,1,1,1,2,1,4,5,1,1,1,2,1,7,30,7,1,2,4,1,2,1,1,1,2,2,1,1,1,1,1,3,2,3,2,4,14,1,1,1,2,2,2,1,2,3,1,1,7,4,1,3,2,1,2,3,1,2,1,2,1,2,30,2,1,1,1,2,1,1,1,1,1,1,1,1,1,2,3,2,2,2,2,2,1,1,13,1,1,2,1,4,13,2,1,2,1,4,4,4,1,1,1,10,1,3,14,1,2,1,4,5,2,1,1,1,10,10,1,1,1,1,13,30,30,30,1,2,1,2,14,1,30,1,2,3,1,2,1,2,2,2,3,7,2,1,1,1,2,1,1,1,2,1,1,3,3,1,1,3,2,30,2,1,1,1,1,1,3,2,1,2,1,2,2,2,3,1,5,1,3,1,3,2,1,2,1,1,2,1,2,1,2,1,1,3,1,7,3,1,1,1,1,1,1,1,1,1,1,1,2,2,2,1,1,2,1,1,1,3,1,3,1,1,2,1,30,1,1,3,2,2,1,2,1,1,1,1,1,1,1,1,1,1,1,1,1,1,2,3,2,1,1,2,1,28,1,2,1,5,1,2,28,1],\"type\":\"box\",\"xaxis\":\"x4\",\"yaxis\":\"y4\"},{\"name\":\"\",\"opacity\":0.75,\"showlegend\":false,\"x\":[248,9,292,337,306,37,18,227,580,370,631,145,231,61,28,174,48,85,40,353,130,53,33,57,71,27,17,19,5,12,16,8,32,55,130,39,40,111,8,156,24,22,105,434,120,40,355,777,12,107,21,62,244,60,616,541,6,88,63,27,404,395,249,151,260,51,294,37,23,247,225,139,101,166,26,4,22,141,80,15,110,68,326,282,119,30,108,83,95,118,140,203,61,40,42,113,16,7,133,146,174,51,93,144,68,149,36,39,211,21,7,65,69,32,80,21,50,205,4,79,64,52,101,20,70,57,60,146,27,41,107,180,75,16,67,56,101,121,5,31,39,4,4,6,6,68,38,10,84,70,33,113,6,6,13,127,26,184,10,13,6,36,40,85,21,123,26,5,48,2,37,16,5,64,96,83,56,6,11,84,80,151,68,3,4,2,4,39,30,121,22,1,34,2,31,21,3,5,9,12,13,35,28,14,10,24,25,8,38,23,46,10,11,31,50,39,11,6,1,7,13,10,2,9,5,3,4,61,19,31,10,27,3,17,50,1,52,12,65,5,29,11,48,3,19,8,35,16,13,5,11,29,24,7,20,7,74,5,2,1,7,17,7,11,3,2,4,4,1,1,6,13,12,3,4,1,3,54,8,38,1,17,6,16,4,2,16,2,1,5,4,3,12,8,2,7,11,9,15,14,13,18,6,14,12,13,1,7,6,13,5,4,11,10,6,4,1,1,2,1,2,7,3,6,1],\"type\":\"box\",\"xaxis\":\"x5\",\"yaxis\":\"y5\"},{\"name\":\"\",\"opacity\":0.75,\"showlegend\":false,\"x\":[1.94,0.08,2.51,3.13,2.87,0.4,0.18,2.22,6.27,3.75,6.4,1.53,2.44,0.64,0.65,1.86,0.52,0.95,0.48,7.65,1.55,0.62,0.4,0.78,1.08,0.39,0.21,0.26,0.09,0.2,0.22,0.12,0.44,0.71,1.79,0.49,0.58,1.45,0.11,2.04,0.32,0.29,1.4,6.07,1.67,0.61,4.98,11.08,0.17,1.57,0.34,0.93,3.77,0.91,9.56,8.48,0.09,1.35,1.01,0.43,6.67,6.63,4.3,2.66,4.56,0.9,5.36,0.71,0.43,4.67,4.44,6.6,1.95,3.28,0.51,0.11,0.44,2.86,1.9,0.4,2.45,1.52,7.33,6.41,2.76,0.99,2.61,2.18,2.5,3.12,3.38,5.39,1.61,1.06,1.13,2.95,0.43,0.2,3.56,3.9,5.51,1.39,2.95,4.6,2.03,5.57,1.2,1.23,6.59,0.72,0.23,2.07,2.34,1.04,2.65,0.76,1.67,7.01,0.16,2.68,2.14,1.76,3.45,0.68,2.37,2.12,2.07,5.06,0.96,1.45,4.02,6.59,2.74,0.66,3.15,2.35,3.82,5.02,0.27,1.74,1.78,0.16,0.16,0.24,0.24,2.72,1.57,0.48,4.09,2.96,2.04,5.03,0.37,0.3,0.69,5.7,1.17,8.58,0.45,0.6,0.28,1.68,1.84,3.95,1.05,5.7,1.32,0.26,2.48,0.17,1.84,0.81,0.25,3.25,4.75,4.11,2.88,0.52,0.56,4.31,4.1,7.93,4.65,0.2,0.27,0.12,0.25,2.22,1.8,7.55,3.46,0.09,2.05,0.12,1.92,1.26,0.19,0.34,0.81,0.76,1.01,2.76,2.54,0.97,0.63,1.89,1.66,0.51,2.61,1.57,3.17,0.69,0.84,2.31,3.96,2.68,0.84,0.62,0.14,0.9,1.1,0.74,0.17,0.71,0.68,0.38,0.5,4.72,1.4,2.4,1.36,2.04,0.24,1.32,4.1,0.16,4.42,1.08,5.75,0.67,2.57,1.13,4.39,0.55,1.88,0.76,3.51,1.71,1.31,0.51,1.23,3.26,2.7,0.76,2.48,0.85,8.44,0.71,0.28,0.14,0.86,2.25,0.88,1.42,0.39,0.31,0.77,0.57,0.21,0.39,0.83,1.7,1.55,0.45,0.63,0.14,1.55,7.86,1.17,5.53,0.28,2.6,1.07,2.91,0.79,0.42,2.81,0.37,1.0,3.06,0.76,2.81,2.4,1.66,2.0,1.48,2.44,2.11,3.49,3.28,3.1,4.46,1.41,3.47,3.16,4.06,0.28,2.1,2.43,3.9,1.38,1.28,3.88,4.23,2.05,4.0,0.43,1.0,2.0,0.83,1.5,5.68,2.43,6.0,1.0],\"type\":\"box\",\"xaxis\":\"x6\",\"yaxis\":\"y6\"},{\"name\":\"\",\"opacity\":0.75,\"showlegend\":false,\"x\":[1,1,4,2,4,6,2,1,1,2,2,9,2,4,2,1,4,9,4,2,2,4,1,9,3,4,6,6,6,6,6,6,6,9,2,8,3,8,9,9,3,3,8,2,1,8,2,1,1,1,8,1,3,4,6,6,1,4,8,1,6,6,22,3,22,8,2,3,8,2,1,2,9,1,1,1,8,1,4,3,5,22,3,3,1,4,1,15,15,15,1,1,9,4,9,10,3,2,2,5,2,8,5,1,15,1,3,15,1,1,1,15,3,5,1,1,9,1,4,2,5,22,22,1,22,22,15,3,2,22,3,3,15,9,8,8,8,1,4,9,9,4,4,4,9,22,15,5,10,22,1,3,1,5,1,3,4,1,4,4,4,15,15,2,3,3,4,5,3,2,15,1,3,1,10,10,1,3,3,22,3,2,1,5,3,3,3,3,22,1,1,1,6,1,22,8,1,2,2,1,1,2,2,2,8,22,8,3,1,1,1,6,1,1,5,22,4,1,6,6,1,4,1,5,6,6,6,1,1,1,4,8,2,2,1,2,1,2,1,3,1,3,1,2,2,8,1,2,2,5,8,1,15,9,5,3,1,2,1,1,2,1,22,22,6,12,12,12,12,12,12,4,4,3,6,6,4,2,6,1,3,1,1,1,1,1,2,1,1,1,9,2,1,1,1,4,6,22,10,10,10,1,2,10,8,1,15,15,3,1,4,1,1,2,1,1,1,1,1,1,3,2,1,2,10],\"type\":\"box\",\"xaxis\":\"x7\",\"yaxis\":\"y7\"},{\"name\":\"\",\"opacity\":0.75,\"showlegend\":false,\"x\":[233,21,360,79,0,365,179,311,0,138,112,0,363,282,364,299,313,355,112,295,365,342,26,365,242,365,179,313,179,313,313,313,70,254,298,212,338,275,365,354,244,251,303,64,0,316,0,0,359,0,354,301,234,112,0,299,178,346,0,365,189,334,0,226,73,365,144,361,350,69,254,172,0,229,170,37,365,159,75,365,356,0,349,262,0,10,143,342,0,0,72,244,163,0,357,0,361,276,317,293,214,0,351,190,0,255,159,361,0,128,175,358,344,221,162,329,122,0,364,358,0,86,79,121,87,0,271,332,33,85,244,320,349,365,364,354,250,267,38,103,277,253,252,253,364,0,0,225,0,0,333,266,223,268,362,85,0,302,173,173,173,355,214,148,176,0,328,251,327,89,247,268,316,0,0,0,25,158,162,0,59,219,0,257,341,336,332,346,79,0,269,216,331,303,0,344,339,365,289,361,0,0,349,171,342,0,361,83,252,44,0,19,83,250,0,0,345,280,300,273,231,105,225,350,271,266,267,159,257,38,206,360,282,277,147,360,79,298,322,173,80,352,7,0,133,311,170,359,363,349,358,0,281,179,339,89,0,354,246,20,349,216,358,349,283,278,278,275,277,281,255,345,360,36,0,1,267,0,0,297,78,358,91,0,0,172,242,40,245,151,179,73,38,335,150,342,328,267,259,249,208,276,286,262,362,73,175,244,252,38,328,259,164,215,323,258,362,356,95,269,179,256,238,20,0],\"type\":\"box\",\"xaxis\":\"x8\",\"yaxis\":\"y8\"},{\"name\":\"\",\"opacity\":0.75,\"showlegend\":false,\"x\":[50,0,8,31,5,0,0,3,39,39,98,23,16,0,7,14,3,22,8,115,2,6,2,0,19,3,0,0,0,0,0,0,0,0,1,1,5,14,0,12,6,4,18,28,23,4,39,131,1,10,16,20,30,16,41,76,1,8,11,1,34,40,55,46,53,4,98,2,1,68,29,53,18,4,4,0,6,51,14,4,26,21,70,55,19,6,41,22,23,24,58,58,21,12,13,34,1,1,44,33,48,23,21,58,14,69,5,9,61,1,0,23,25,10,13,8,15,78,0,38,7,14,39,0,28,32,20,57,1,22,42,70,30,5,22,24,4,73,0,23,26,0,2,0,0,29,14,5,55,36,20,55,4,3,7,58,8,113,3,7,2,20,18,46,8,62,20,2,30,2,19,11,2,37,55,50,31,6,5,54,48,113,58,2,3,1,2,28,20,94,22,1,25,0,25,17,2,1,9,7,11,34,28,11,6,21,18,7,29,17,39,7,8,27,49,34,10,6,1,7,13,9,2,8,5,3,4,56,15,24,10,22,1,13,50,1,52,12,65,5,29,11,48,3,19,8,35,16,13,5,11,29,24,7,20,7,74,5,2,1,7,17,7,11,3,2,4,4,1,1,6,13,12,3,4,1,3,54,8,38,1,17,6,16,4,2,16,2,1,5,4,3,12,8,2,7,11,9,15,14,13,18,6,14,12,13,1,7,6,13,5,4,11,10,6,4,1,1,2,1,2,7,3,6,1],\"type\":\"box\",\"xaxis\":\"x9\",\"yaxis\":\"y9\"}],                        {\"template\":{\"data\":{\"histogram2dcontour\":[{\"type\":\"histogram2dcontour\",\"colorbar\":{\"outlinewidth\":0,\"ticks\":\"\"},\"colorscale\":[[0.0,\"#0d0887\"],[0.1111111111111111,\"#46039f\"],[0.2222222222222222,\"#7201a8\"],[0.3333333333333333,\"#9c179e\"],[0.4444444444444444,\"#bd3786\"],[0.5555555555555556,\"#d8576b\"],[0.6666666666666666,\"#ed7953\"],[0.7777777777777778,\"#fb9f3a\"],[0.8888888888888888,\"#fdca26\"],[1.0,\"#f0f921\"]]}],\"choropleth\":[{\"type\":\"choropleth\",\"colorbar\":{\"outlinewidth\":0,\"ticks\":\"\"}}],\"histogram2d\":[{\"type\":\"histogram2d\",\"colorbar\":{\"outlinewidth\":0,\"ticks\":\"\"},\"colorscale\":[[0.0,\"#0d0887\"],[0.1111111111111111,\"#46039f\"],[0.2222222222222222,\"#7201a8\"],[0.3333333333333333,\"#9c179e\"],[0.4444444444444444,\"#bd3786\"],[0.5555555555555556,\"#d8576b\"],[0.6666666666666666,\"#ed7953\"],[0.7777777777777778,\"#fb9f3a\"],[0.8888888888888888,\"#fdca26\"],[1.0,\"#f0f921\"]]}],\"heatmap\":[{\"type\":\"heatmap\",\"colorbar\":{\"outlinewidth\":0,\"ticks\":\"\"},\"colorscale\":[[0.0,\"#0d0887\"],[0.1111111111111111,\"#46039f\"],[0.2222222222222222,\"#7201a8\"],[0.3333333333333333,\"#9c179e\"],[0.4444444444444444,\"#bd3786\"],[0.5555555555555556,\"#d8576b\"],[0.6666666666666666,\"#ed7953\"],[0.7777777777777778,\"#fb9f3a\"],[0.8888888888888888,\"#fdca26\"],[1.0,\"#f0f921\"]]}],\"heatmapgl\":[{\"type\":\"heatmapgl\",\"colorbar\":{\"outlinewidth\":0,\"ticks\":\"\"},\"colorscale\":[[0.0,\"#0d0887\"],[0.1111111111111111,\"#46039f\"],[0.2222222222222222,\"#7201a8\"],[0.3333333333333333,\"#9c179e\"],[0.4444444444444444,\"#bd3786\"],[0.5555555555555556,\"#d8576b\"],[0.6666666666666666,\"#ed7953\"],[0.7777777777777778,\"#fb9f3a\"],[0.8888888888888888,\"#fdca26\"],[1.0,\"#f0f921\"]]}],\"contourcarpet\":[{\"type\":\"contourcarpet\",\"colorbar\":{\"outlinewidth\":0,\"ticks\":\"\"}}],\"contour\":[{\"type\":\"contour\",\"colorbar\":{\"outlinewidth\":0,\"ticks\":\"\"},\"colorscale\":[[0.0,\"#0d0887\"],[0.1111111111111111,\"#46039f\"],[0.2222222222222222,\"#7201a8\"],[0.3333333333333333,\"#9c179e\"],[0.4444444444444444,\"#bd3786\"],[0.5555555555555556,\"#d8576b\"],[0.6666666666666666,\"#ed7953\"],[0.7777777777777778,\"#fb9f3a\"],[0.8888888888888888,\"#fdca26\"],[1.0,\"#f0f921\"]]}],\"surface\":[{\"type\":\"surface\",\"colorbar\":{\"outlinewidth\":0,\"ticks\":\"\"},\"colorscale\":[[0.0,\"#0d0887\"],[0.1111111111111111,\"#46039f\"],[0.2222222222222222,\"#7201a8\"],[0.3333333333333333,\"#9c179e\"],[0.4444444444444444,\"#bd3786\"],[0.5555555555555556,\"#d8576b\"],[0.6666666666666666,\"#ed7953\"],[0.7777777777777778,\"#fb9f3a\"],[0.8888888888888888,\"#fdca26\"],[1.0,\"#f0f921\"]]}],\"mesh3d\":[{\"type\":\"mesh3d\",\"colorbar\":{\"outlinewidth\":0,\"ticks\":\"\"}}],\"scatter\":[{\"fillpattern\":{\"fillmode\":\"overlay\",\"size\":10,\"solidity\":0.2},\"type\":\"scatter\"}],\"parcoords\":[{\"type\":\"parcoords\",\"line\":{\"colorbar\":{\"outlinewidth\":0,\"ticks\":\"\"}}}],\"scatterpolargl\":[{\"type\":\"scatterpolargl\",\"marker\":{\"colorbar\":{\"outlinewidth\":0,\"ticks\":\"\"}}}],\"bar\":[{\"error_x\":{\"color\":\"#2a3f5f\"},\"error_y\":{\"color\":\"#2a3f5f\"},\"marker\":{\"line\":{\"color\":\"#E5ECF6\",\"width\":0.5},\"pattern\":{\"fillmode\":\"overlay\",\"size\":10,\"solidity\":0.2}},\"type\":\"bar\"}],\"scattergeo\":[{\"type\":\"scattergeo\",\"marker\":{\"colorbar\":{\"outlinewidth\":0,\"ticks\":\"\"}}}],\"scatterpolar\":[{\"type\":\"scatterpolar\",\"marker\":{\"colorbar\":{\"outlinewidth\":0,\"ticks\":\"\"}}}],\"histogram\":[{\"marker\":{\"pattern\":{\"fillmode\":\"overlay\",\"size\":10,\"solidity\":0.2}},\"type\":\"histogram\"}],\"scattergl\":[{\"type\":\"scattergl\",\"marker\":{\"colorbar\":{\"outlinewidth\":0,\"ticks\":\"\"}}}],\"scatter3d\":[{\"type\":\"scatter3d\",\"line\":{\"colorbar\":{\"outlinewidth\":0,\"ticks\":\"\"}},\"marker\":{\"colorbar\":{\"outlinewidth\":0,\"ticks\":\"\"}}}],\"scattermapbox\":[{\"type\":\"scattermapbox\",\"marker\":{\"colorbar\":{\"outlinewidth\":0,\"ticks\":\"\"}}}],\"scatterternary\":[{\"type\":\"scatterternary\",\"marker\":{\"colorbar\":{\"outlinewidth\":0,\"ticks\":\"\"}}}],\"scattercarpet\":[{\"type\":\"scattercarpet\",\"marker\":{\"colorbar\":{\"outlinewidth\":0,\"ticks\":\"\"}}}],\"carpet\":[{\"aaxis\":{\"endlinecolor\":\"#2a3f5f\",\"gridcolor\":\"white\",\"linecolor\":\"white\",\"minorgridcolor\":\"white\",\"startlinecolor\":\"#2a3f5f\"},\"baxis\":{\"endlinecolor\":\"#2a3f5f\",\"gridcolor\":\"white\",\"linecolor\":\"white\",\"minorgridcolor\":\"white\",\"startlinecolor\":\"#2a3f5f\"},\"type\":\"carpet\"}],\"table\":[{\"cells\":{\"fill\":{\"color\":\"#EBF0F8\"},\"line\":{\"color\":\"white\"}},\"header\":{\"fill\":{\"color\":\"#C8D4E3\"},\"line\":{\"color\":\"white\"}},\"type\":\"table\"}],\"barpolar\":[{\"marker\":{\"line\":{\"color\":\"#E5ECF6\",\"width\":0.5},\"pattern\":{\"fillmode\":\"overlay\",\"size\":10,\"solidity\":0.2}},\"type\":\"barpolar\"}],\"pie\":[{\"automargin\":true,\"type\":\"pie\"}]},\"layout\":{\"autotypenumbers\":\"strict\",\"colorway\":[\"#636efa\",\"#EF553B\",\"#00cc96\",\"#ab63fa\",\"#FFA15A\",\"#19d3f3\",\"#FF6692\",\"#B6E880\",\"#FF97FF\",\"#FECB52\"],\"font\":{\"color\":\"#2a3f5f\"},\"hovermode\":\"closest\",\"hoverlabel\":{\"align\":\"left\"},\"paper_bgcolor\":\"white\",\"plot_bgcolor\":\"#E5ECF6\",\"polar\":{\"bgcolor\":\"#E5ECF6\",\"angularaxis\":{\"gridcolor\":\"white\",\"linecolor\":\"white\",\"ticks\":\"\"},\"radialaxis\":{\"gridcolor\":\"white\",\"linecolor\":\"white\",\"ticks\":\"\"}},\"ternary\":{\"bgcolor\":\"#E5ECF6\",\"aaxis\":{\"gridcolor\":\"white\",\"linecolor\":\"white\",\"ticks\":\"\"},\"baxis\":{\"gridcolor\":\"white\",\"linecolor\":\"white\",\"ticks\":\"\"},\"caxis\":{\"gridcolor\":\"white\",\"linecolor\":\"white\",\"ticks\":\"\"}},\"coloraxis\":{\"colorbar\":{\"outlinewidth\":0,\"ticks\":\"\"}},\"colorscale\":{\"sequential\":[[0.0,\"#0d0887\"],[0.1111111111111111,\"#46039f\"],[0.2222222222222222,\"#7201a8\"],[0.3333333333333333,\"#9c179e\"],[0.4444444444444444,\"#bd3786\"],[0.5555555555555556,\"#d8576b\"],[0.6666666666666666,\"#ed7953\"],[0.7777777777777778,\"#fb9f3a\"],[0.8888888888888888,\"#fdca26\"],[1.0,\"#f0f921\"]],\"sequentialminus\":[[0.0,\"#0d0887\"],[0.1111111111111111,\"#46039f\"],[0.2222222222222222,\"#7201a8\"],[0.3333333333333333,\"#9c179e\"],[0.4444444444444444,\"#bd3786\"],[0.5555555555555556,\"#d8576b\"],[0.6666666666666666,\"#ed7953\"],[0.7777777777777778,\"#fb9f3a\"],[0.8888888888888888,\"#fdca26\"],[1.0,\"#f0f921\"]],\"diverging\":[[0,\"#8e0152\"],[0.1,\"#c51b7d\"],[0.2,\"#de77ae\"],[0.3,\"#f1b6da\"],[0.4,\"#fde0ef\"],[0.5,\"#f7f7f7\"],[0.6,\"#e6f5d0\"],[0.7,\"#b8e186\"],[0.8,\"#7fbc41\"],[0.9,\"#4d9221\"],[1,\"#276419\"]]},\"xaxis\":{\"gridcolor\":\"white\",\"linecolor\":\"white\",\"ticks\":\"\",\"title\":{\"standoff\":15},\"zerolinecolor\":\"white\",\"automargin\":true,\"zerolinewidth\":2},\"yaxis\":{\"gridcolor\":\"white\",\"linecolor\":\"white\",\"ticks\":\"\",\"title\":{\"standoff\":15},\"zerolinecolor\":\"white\",\"automargin\":true,\"zerolinewidth\":2},\"scene\":{\"xaxis\":{\"backgroundcolor\":\"#E5ECF6\",\"gridcolor\":\"white\",\"linecolor\":\"white\",\"showbackground\":true,\"ticks\":\"\",\"zerolinecolor\":\"white\",\"gridwidth\":2},\"yaxis\":{\"backgroundcolor\":\"#E5ECF6\",\"gridcolor\":\"white\",\"linecolor\":\"white\",\"showbackground\":true,\"ticks\":\"\",\"zerolinecolor\":\"white\",\"gridwidth\":2},\"zaxis\":{\"backgroundcolor\":\"#E5ECF6\",\"gridcolor\":\"white\",\"linecolor\":\"white\",\"showbackground\":true,\"ticks\":\"\",\"zerolinecolor\":\"white\",\"gridwidth\":2}},\"shapedefaults\":{\"line\":{\"color\":\"#2a3f5f\"}},\"annotationdefaults\":{\"arrowcolor\":\"#2a3f5f\",\"arrowhead\":0,\"arrowwidth\":1},\"geo\":{\"bgcolor\":\"white\",\"landcolor\":\"#E5ECF6\",\"subunitcolor\":\"white\",\"showland\":true,\"showlakes\":true,\"lakecolor\":\"white\"},\"title\":{\"x\":0.05},\"mapbox\":{\"style\":\"light\"}}},\"xaxis\":{\"anchor\":\"y\",\"domain\":[0.0,0.2888888888888889]},\"yaxis\":{\"anchor\":\"x\",\"domain\":[0.7777777777777778,1.0]},\"xaxis2\":{\"anchor\":\"y2\",\"domain\":[0.35555555555555557,0.6444444444444445]},\"yaxis2\":{\"anchor\":\"x2\",\"domain\":[0.7777777777777778,1.0]},\"xaxis3\":{\"anchor\":\"y3\",\"domain\":[0.7111111111111111,1.0]},\"yaxis3\":{\"anchor\":\"x3\",\"domain\":[0.7777777777777778,1.0]},\"xaxis4\":{\"anchor\":\"y4\",\"domain\":[0.0,0.2888888888888889]},\"yaxis4\":{\"anchor\":\"x4\",\"domain\":[0.3888888888888889,0.6111111111111112]},\"xaxis5\":{\"anchor\":\"y5\",\"domain\":[0.35555555555555557,0.6444444444444445]},\"yaxis5\":{\"anchor\":\"x5\",\"domain\":[0.3888888888888889,0.6111111111111112]},\"xaxis6\":{\"anchor\":\"y6\",\"domain\":[0.7111111111111111,1.0]},\"yaxis6\":{\"anchor\":\"x6\",\"domain\":[0.3888888888888889,0.6111111111111112]},\"xaxis7\":{\"anchor\":\"y7\",\"domain\":[0.0,0.2888888888888889]},\"yaxis7\":{\"anchor\":\"x7\",\"domain\":[0.0,0.22222222222222224]},\"xaxis8\":{\"anchor\":\"y8\",\"domain\":[0.35555555555555557,0.6444444444444445]},\"yaxis8\":{\"anchor\":\"x8\",\"domain\":[0.0,0.22222222222222224]},\"xaxis9\":{\"anchor\":\"y9\",\"domain\":[0.7111111111111111,1.0]},\"yaxis9\":{\"anchor\":\"x9\",\"domain\":[0.0,0.22222222222222224]},\"annotations\":[{\"font\":{\"size\":16},\"showarrow\":false,\"text\":\"Latitude\",\"x\":0.14444444444444446,\"xanchor\":\"center\",\"xref\":\"paper\",\"y\":1.0,\"yanchor\":\"bottom\",\"yref\":\"paper\"},{\"font\":{\"size\":16},\"showarrow\":false,\"text\":\"Longitude\",\"x\":0.5,\"xanchor\":\"center\",\"xref\":\"paper\",\"y\":1.0,\"yanchor\":\"bottom\",\"yref\":\"paper\"},{\"font\":{\"size\":16},\"showarrow\":false,\"text\":\"Price\",\"x\":0.8555555555555556,\"xanchor\":\"center\",\"xref\":\"paper\",\"y\":1.0,\"yanchor\":\"bottom\",\"yref\":\"paper\"},{\"font\":{\"size\":16},\"showarrow\":false,\"text\":\"Minimum_Nights\",\"x\":0.14444444444444446,\"xanchor\":\"center\",\"xref\":\"paper\",\"y\":0.6111111111111112,\"yanchor\":\"bottom\",\"yref\":\"paper\"},{\"font\":{\"size\":16},\"showarrow\":false,\"text\":\"Number_Of_Reviews\",\"x\":0.5,\"xanchor\":\"center\",\"xref\":\"paper\",\"y\":0.6111111111111112,\"yanchor\":\"bottom\",\"yref\":\"paper\"},{\"font\":{\"size\":16},\"showarrow\":false,\"text\":\"Reviews_Per_Month\",\"x\":0.8555555555555556,\"xanchor\":\"center\",\"xref\":\"paper\",\"y\":0.6111111111111112,\"yanchor\":\"bottom\",\"yref\":\"paper\"},{\"font\":{\"size\":16},\"showarrow\":false,\"text\":\"Calculated_Host_Listings_Count\",\"x\":0.14444444444444446,\"xanchor\":\"center\",\"xref\":\"paper\",\"y\":0.22222222222222224,\"yanchor\":\"bottom\",\"yref\":\"paper\"},{\"font\":{\"size\":16},\"showarrow\":false,\"text\":\"Availability_365\",\"x\":0.5,\"xanchor\":\"center\",\"xref\":\"paper\",\"y\":0.22222222222222224,\"yanchor\":\"bottom\",\"yref\":\"paper\"},{\"font\":{\"size\":16},\"showarrow\":false,\"text\":\"Number_Of_Reviews_Ltm\",\"x\":0.8555555555555556,\"xanchor\":\"center\",\"xref\":\"paper\",\"y\":0.22222222222222224,\"yanchor\":\"bottom\",\"yref\":\"paper\"}],\"font\":{\"color\":\"#909497\",\"size\":20},\"title\":{\"font\":{\"size\":26},\"text\":\"All Numerical Columns\"},\"margin\":{\"t\":100,\"r\":80,\"b\":80,\"l\":120},\"plot_bgcolor\":\"white\",\"hovermode\":\"closest\",\"height\":1000,\"width\":900},                        {\"responsive\": true}                    ).then(function(){\n",
       "                            \n",
       "var gd = document.getElementById('e58f6a55-7f72-4ea0-8f21-0f78033d6987');\n",
       "var x = new MutationObserver(function (mutations, observer) {{\n",
       "        var display = window.getComputedStyle(gd).display;\n",
       "        if (!display || display === 'none') {{\n",
       "            console.log([gd, 'removed!']);\n",
       "            Plotly.purge(gd);\n",
       "            observer.disconnect();\n",
       "        }}\n",
       "}});\n",
       "\n",
       "// Listen for the removal of the full notebook cells\n",
       "var notebookContainer = gd.closest('#notebook-container');\n",
       "if (notebookContainer) {{\n",
       "    x.observe(notebookContainer, {childList: true});\n",
       "}}\n",
       "\n",
       "// Listen for the clearing of the current output cell\n",
       "var outputEl = gd.closest('.output');\n",
       "if (outputEl) {{\n",
       "    x.observe(outputEl, {childList: true});\n",
       "}}\n",
       "\n",
       "                        })                };                });            </script>        </div>"
      ]
     },
     "metadata": {},
     "output_type": "display_data"
    }
   ],
   "source": [
    "from plotly.subplots import make_subplots\n",
    "\n",
    "fig = make_subplots(rows=3, cols=3 , subplot_titles = [col.title() for col in selected_columns])\n",
    "\n",
    "for i , column in enumerate(selected_columns):\n",
    "    row = (i)//3 + 1\n",
    "    col = (i)%3 + 1\n",
    "    \n",
    "    fig.add_trace(\n",
    "    go.Box(x = df[column] ,\n",
    "    showlegend=False,\n",
    "    name=\"\",\n",
    "    \n",
    "    opacity=0.75\n",
    "),\n",
    "    row=row, col=col\n",
    "    \n",
    ")\n",
    "\n",
    "\n",
    "\n",
    "\n",
    "    fig.update_layout(plot_bgcolor = \"white\",\n",
    "                 font = dict(color = \"#909497\", size = 20),\n",
    "                 title = dict(text = \"all numerical columns\".title(), font = dict(size = 26)),\n",
    "                 margin = dict(t = 100, r = 80, b = 80, l = 120),\n",
    "                 hovermode=\"closest\",\n",
    "                 height = 1000,\n",
    "                 width = 900)\n",
    "fig.show() "
   ]
  },
  {
   "cell_type": "code",
   "execution_count": 12,
   "id": "d6984a16",
   "metadata": {},
   "outputs": [
    {
     "data": {
      "application/vnd.plotly.v1+json": {
       "config": {
        "plotlyServerURL": "https://plot.ly"
       },
       "data": [
        {
         "name": "Latitude",
         "opacity": 0.75,
         "showlegend": false,
         "type": "histogram",
         "x": [
          42.66719,
          42.65789,
          42.65222,
          42.64615,
          42.65222,
          42.64484,
          42.66063,
          42.64603,
          42.65559,
          42.64734,
          42.66078,
          42.67567,
          42.67583,
          42.65912,
          42.65154,
          42.66972,
          42.65726,
          42.673512,
          42.65651,
          42.66075,
          42.67614,
          42.6584,
          42.65729,
          42.67637,
          42.65312,
          42.6585,
          42.6436,
          42.65846,
          42.64355,
          42.65846,
          42.65846,
          42.65846,
          42.65846,
          42.675,
          42.64939,
          42.65532,
          42.66565,
          42.65372,
          42.67547,
          42.66045,
          42.66572,
          42.66703,
          42.65501,
          42.64717,
          42.65975,
          42.65431,
          42.6477,
          42.65345,
          42.65333,
          42.65403,
          42.6543083190918,
          42.65821,
          42.65464,
          42.65746,
          42.64535,
          42.64535,
          42.6737,
          42.65235,
          42.6533,
          42.67519,
          42.64563,
          42.64585,
          42.64335,
          42.65259,
          42.64506,
          42.66619,
          42.65085,
          42.65507,
          42.65483,
          42.65547,
          42.66091,
          42.65682,
          42.66827,
          42.67773,
          42.65592,
          42.65115,
          42.65315,
          42.66403,
          42.64453,
          42.65556,
          42.66257,
          42.64383,
          42.65935,
          42.66006,
          42.66132,
          42.64454,
          42.6545,
          42.64801,
          42.64821,
          42.64713,
          42.66137,
          42.65311,
          42.66646,
          42.65345,
          42.67156,
          42.6692,
          42.656,
          42.66744,
          42.6511808672392,
          42.66261,
          42.64981845378106,
          42.65399,
          42.65429,
          42.65157,
          42.65888,
          42.66034,
          42.67945,
          42.65901,
          42.66064,
          42.65969,
          42.65061,
          42.65856,
          42.65812,
          42.65269,
          42.64684,
          42.67643,
          42.63066,
          42.65641,
          42.65934,
          42.67044,
          42.65386,
          42.64186,
          42.65674,
          42.65069,
          42.67181,
          42.67131,
          42.65812,
          42.65826,
          42.67004,
          42.64369,
          42.65824,
          42.65204,
          42.65913,
          42.674675,
          42.66261,
          42.65422,
          42.65403,
          42.65155,
          42.64459,
          42.65578,
          42.65905,
          42.65902,
          42.6595,
          42.6598,
          42.66919,
          42.64342,
          42.65848,
          42.64441,
          42.66911,
          42.64252,
          42.652049,
          42.65353,
          42.65547943115234,
          42.64489,
          42.640217,
          42.65723,
          42.64372,
          42.65347,
          42.64318,
          42.64242,
          42.64198,
          42.64528,
          42.64558,
          42.65323,
          42.6635364,
          42.65802,
          42.65427,
          42.64625,
          42.64595,
          42.65389,
          42.65752,
          42.65795,
          42.6374547,
          42.65541380925019,
          42.66758,
          42.66764,
          42.6694413,
          42.66305,
          42.66286,
          42.66172,
          42.65732,
          42.65405765037151,
          42.6623,
          42.64577,
          42.66008,
          42.65929700754271,
          42.65935889426801,
          42.64638,
          42.6732,
          42.65691,
          42.6513719,
          42.65035,
          42.64564,
          42.65643,
          42.66069,
          42.6543178,
          42.64469,
          42.65569,
          42.6496,
          42.64284,
          42.66648,
          42.64439384900326,
          42.6444412,
          42.65259,
          42.65534,
          42.67348,
          42.65405,
          42.66117,
          42.6601,
          42.6518469,
          42.65725,
          42.65183,
          42.66298,
          42.6591503133547,
          42.6653,
          42.64324,
          42.65489,
          42.67283,
          42.656329,
          42.65582,
          42.6538578,
          42.65741,
          42.65315,
          42.66958,
          42.65751,
          42.656329,
          42.656329,
          42.65588,
          42.6684126,
          42.67239,
          42.67143614564987,
          42.65258,
          42.66109,
          42.65613,
          42.67076,
          42.66007584297136,
          42.63504,
          42.67336,
          42.6446,
          42.67177,
          42.6457663,
          42.65817,
          42.66947,
          42.66128,
          42.67355,
          42.65379,
          42.6599733,
          42.66246,
          42.6628771,
          42.6573,
          42.66215778253739,
          42.66087,
          42.64787,
          42.6652959,
          42.66217,
          42.66261,
          42.65193730448655,
          42.6559529,
          42.6586,
          42.65483722729842,
          42.654965911269095,
          42.67066076442359,
          42.672943350526445,
          42.67132410762948,
          42.65654925592276,
          42.658672199777634,
          42.6606,
          42.659082586070085,
          42.65846944486231,
          42.65908020134226,
          42.660362531234114,
          42.6708367,
          42.669735657513975,
          42.68001107488553,
          42.65801,
          42.65798404004404,
          42.67033901962889,
          42.6541815,
          42.66000843071908,
          42.6549886,
          42.678962799458816,
          42.65240863051438,
          42.67059398561849,
          42.65679550669701,
          42.65312775001394,
          42.66627900500492,
          42.66391565517209,
          42.65411,
          42.6715992520812,
          42.65259924007496,
          42.6709773627501,
          42.64485687096462,
          42.65623,
          42.65761589542138,
          42.6554977755084,
          42.65483900711961,
          42.64534889999999,
          42.661365504548,
          42.67002775509383,
          42.6697096084112,
          42.66873116573401,
          42.645494388571485,
          42.65538680270734,
          42.66996089870569,
          42.6535,
          42.64713879857583,
          42.65859808957202,
          42.65970700274541,
          42.64655138980193,
          42.66838,
          42.65487397780481,
          42.6759553661711,
          42.6736802909505,
          42.65446887973431,
          42.66106893179246,
          42.639757084309245,
          42.6408128784902,
          42.659886051712505,
          42.65098734769702,
          42.66311590202129,
          42.67096068386967,
          42.663915656143736,
          42.67908161690146,
          42.65607073634355,
          42.66943098938467
         ],
         "xaxis": "x",
         "yaxis": "y"
        },
        {
         "name": "Longitude",
         "opacity": 0.75,
         "showlegend": false,
         "type": "histogram",
         "x": [
          -73.8158,
          -73.7537,
          -73.76724,
          -73.75966,
          -73.76724,
          -73.75851,
          -73.78115,
          -73.75986,
          -73.76506,
          -73.75851,
          -73.80553,
          -73.82438,
          -73.78297,
          -73.78349,
          -73.76867,
          -73.82753,
          -73.78219,
          -73.819679,
          -73.77887,
          -73.80605,
          -73.78169,
          -73.78309,
          -73.80321,
          -73.82395,
          -73.78161,
          -73.78414,
          -73.75887,
          -73.80201,
          -73.75712,
          -73.80201,
          -73.80201,
          -73.80201,
          -73.80201,
          -73.82382,
          -73.76865,
          -73.78244,
          -73.77975,
          -73.78244,
          -73.82402,
          -73.77833,
          -73.77834,
          -73.77842,
          -73.78122,
          -73.77135,
          -73.81196,
          -73.78178,
          -73.7714,
          -73.7645,
          -73.77293,
          -73.76325,
          -73.78177642822266,
          -73.76917,
          -73.78348,
          -73.77904,
          -73.75365,
          -73.75365,
          -73.75313,
          -73.76714,
          -73.78114,
          -73.82281,
          -73.75311,
          -73.75297,
          -73.7579,
          -73.78223,
          -73.75727,
          -73.79031,
          -73.80239,
          -73.76138,
          -73.78033,
          -73.7651,
          -73.74285,
          -73.76298,
          -73.79231,
          -73.73899,
          -73.76259,
          -73.7668,
          -73.76202,
          -73.81446,
          -73.75426,
          -73.76205,
          -73.78281,
          -73.78926,
          -73.76805,
          -73.76966,
          -73.7956,
          -73.75369,
          -73.78223,
          -73.75668,
          -73.75793,
          -73.75628,
          -73.7904,
          -73.78525,
          -73.79184,
          -73.76663,
          -73.80883,
          -73.79849,
          -73.76123,
          -73.79216,
          -73.75273894471623,
          -73.78332,
          -73.75090228127745,
          -73.78126,
          -73.75986,
          -73.76546,
          -73.74673,
          -73.77163,
          -73.81647,
          -73.74748,
          -73.76074,
          -73.77564,
          -73.75006,
          -73.74866,
          -73.74941,
          -73.76076,
          -73.75614,
          -73.82903,
          -73.77357,
          -73.76413,
          -73.76966,
          -73.82573,
          -73.75958,
          -73.75868,
          -73.79221,
          -73.75193,
          -73.79543,
          -73.7921,
          -73.74837,
          -73.76944,
          -73.82367,
          -73.7581,
          -73.80114,
          -73.76655,
          -73.74722,
          -73.822861,
          -73.79026,
          -73.76996,
          -73.77056,
          -73.765,
          -73.75392,
          -73.78641,
          -73.77964,
          -73.7701,
          -73.76938,
          -73.76995,
          -73.78672,
          -73.75742,
          -73.76359,
          -73.75647,
          -73.79869,
          -73.75688,
          -73.7949665,
          -73.7679,
          -73.76625061035156,
          -73.75731,
          -73.780815,
          -73.75684,
          -73.78426,
          -73.7662,
          -73.78386,
          -73.78536,
          -73.78413,
          -73.75861,
          -73.75928,
          -73.76797,
          -73.77782359999999,
          -73.756165,
          -73.76455,
          -73.75663,
          -73.76196,
          -73.76538,
          -73.74743,
          -73.75092,
          -73.7716647,
          -73.76367520540953,
          -73.7992,
          -73.79908,
          -73.79749410000001,
          -73.77726,
          -73.77817,
          -73.78497,
          -73.75676,
          -73.76071299629517,
          -73.777,
          -73.7583,
          -73.79816,
          -73.79720147699118,
          -73.7972692027688,
          -73.76146,
          -73.79199,
          -73.78389,
          -73.7673156,
          -73.76549,
          -73.75261,
          -73.76402,
          -73.78555,
          -73.7818222,
          -73.761,
          -73.77685,
          -73.76792,
          -73.77997,
          -73.76831,
          -73.75975701534425,
          -73.75971410000001,
          -73.76732,
          -73.76461,
          -73.7934,
          -73.76953,
          -73.79091,
          -73.80719,
          -73.7642072,
          -73.75065,
          -73.76594,
          -73.81361,
          -73.75431932508945,
          -73.7943,
          -73.75732,
          -73.77061,
          -73.77367,
          -73.7752048,
          -73.77541,
          -73.7855281,
          -73.78034,
          -73.77012,
          -73.79722,
          -73.77409,
          -73.775205,
          -73.775205,
          -73.75332,
          -73.7684199,
          -73.79418,
          -73.79032550419785,
          -73.76917,
          -73.80479,
          -73.77469,
          -73.82612,
          -73.76976949435519,
          -73.79833,
          -73.78619,
          -73.75885,
          -73.79464,
          -73.7586141,
          -73.74935,
          -73.81607,
          -73.80548,
          -73.78496,
          -73.76901,
          -73.7747433,
          -73.76576,
          -73.76534029999999,
          -73.7521,
          -73.79234533756971,
          -73.78655,
          -73.76707,
          -73.7868778,
          -73.78299,
          -73.79158,
          -73.78593011701557,
          -73.7807478,
          -73.75743,
          -73.79149618599958,
          -73.78021704609974,
          -73.79571205018514,
          -73.79225342780366,
          -73.79247186675903,
          -73.77433674199318,
          -73.77478693204898,
          -73.77284,
          -73.77455698333637,
          -73.77272373106814,
          -73.77325860057209,
          -73.77290224418863,
          -73.7853116,
          -73.78610658197474,
          -73.81705995884008,
          -73.80049,
          -73.80128215056936,
          -73.78509801171585,
          -73.76086049999999,
          -73.77397295619353,
          -73.79390939999999,
          -73.81724461913109,
          -73.77002141071337,
          -73.81678288145305,
          -73.75335661522755,
          -73.76950465142727,
          -73.76511947562057,
          -73.77786945551634,
          -73.76129,
          -73.79798656710622,
          -73.761780139996,
          -73.80695225761066,
          -73.77281881169621,
          -73.7641152,
          -73.75115885472674,
          -73.8106566601018,
          -73.7674333870007,
          -73.75364650000002,
          -73.78482319521697,
          -73.7977054151877,
          -73.797549986088,
          -73.79930289371134,
          -73.83282736350908,
          -73.76416369206528,
          -73.7981565369516,
          -73.77046,
          -73.7546608201248,
          -73.76420635863742,
          -73.76382104785372,
          -73.7597240543698,
          -73.77868,
          -73.76519868723663,
          -73.79260844002489,
          -73.78413107868002,
          -73.76077862456057,
          -73.78973060044702,
          -73.75705214104126,
          -73.7746275334913,
          -73.7920570376047,
          -73.76307767802679,
          -73.7381032862318,
          -73.79513938040748,
          -73.77786945551634,
          -73.79504903417528,
          -73.76345323405465,
          -73.79881962357733
         ],
         "xaxis": "x2",
         "yaxis": "y2"
        },
        {
         "name": "Price",
         "opacity": 0.75,
         "showlegend": false,
         "type": "histogram",
         "x": [
          50,
          70,
          125,
          105,
          126,
          190,
          199,
          85,
          87,
          61,
          50,
          243,
          55,
          45,
          50,
          219,
          45,
          333,
          56,
          70,
          53,
          45,
          62,
          306,
          70,
          50,
          169,
          60,
          249,
          80,
          80,
          80,
          60,
          196,
          126,
          85,
          40,
          70,
          570,
          69,
          35,
          35,
          55,
          80,
          75,
          55,
          77,
          70,
          100,
          89,
          55,
          75,
          50,
          56,
          91,
          62,
          95,
          119,
          55,
          39,
          103,
          100,
          141,
          50,
          100,
          110,
          55,
          151,
          85,
          78,
          217,
          78,
          95,
          109,
          115,
          92,
          110,
          45,
          117,
          175,
          145,
          245,
          109,
          119,
          119,
          97,
          79,
          120,
          122,
          140,
          100,
          175,
          92,
          125,
          79,
          95,
          166,
          125,
          109,
          147,
          117,
          45,
          88,
          109,
          115,
          110,
          63,
          120,
          64,
          93,
          105,
          115,
          85,
          88,
          125,
          40,
          99,
          87,
          100,
          120,
          88,
          135,
          185,
          65,
          125,
          145,
          115,
          119,
          88,
          95,
          175,
          99,
          150,
          160,
          75,
          100,
          100,
          146,
          125,
          99,
          79,
          110,
          100,
          100,
          266,
          120,
          115,
          110,
          89,
          119,
          100,
          113,
          70,
          120,
          120,
          129,
          130,
          108,
          53,
          53,
          53,
          120,
          115,
          149,
          44,
          129,
          97,
          90,
          99,
          130,
          115,
          101,
          159,
          118,
          75,
          75,
          141,
          48,
          45,
          179,
          99,
          102,
          115,
          110,
          27,
          27,
          26,
          90,
          135,
          187,
          113,
          68,
          91,
          60,
          185,
          45,
          80,
          130,
          82,
          131,
          101,
          145,
          145,
          50,
          70,
          128,
          110,
          75,
          65,
          107,
          100,
          110,
          60,
          105,
          185,
          150,
          102,
          104,
          628,
          122,
          87,
          55,
          80,
          126,
          127,
          122,
          127,
          89,
          103,
          99,
          50,
          85,
          55,
          157,
          219,
          120,
          300,
          175,
          95,
          66,
          85,
          78,
          79,
          55,
          175,
          89,
          67,
          45,
          45,
          104,
          100,
          189,
          155,
          110,
          197,
          72,
          156,
          33,
          80,
          115,
          44,
          77,
          125,
          150,
          122,
          184,
          184,
          184,
          184,
          207,
          364,
          45,
          35,
          71,
          135,
          105,
          50,
          128,
          115,
          129,
          118,
          89,
          100,
          108,
          125,
          120,
          114,
          85,
          218,
          87,
          99,
          279,
          110,
          154,
          143,
          83,
          191,
          189,
          50,
          50,
          50,
          347,
          95,
          50,
          73,
          65,
          120,
          119,
          100,
          102,
          91,
          155,
          60,
          91,
          114,
          90,
          88,
          150,
          125,
          105,
          60,
          102,
          125,
          106,
          51
         ],
         "xaxis": "x3",
         "yaxis": "y3"
        },
        {
         "name": "Minimum_Nights",
         "opacity": 0.75,
         "showlegend": false,
         "type": "histogram",
         "x": [
          1,
          28,
          2,
          7,
          2,
          1,
          3,
          3,
          1,
          2,
          1,
          1,
          1,
          10,
          5,
          2,
          10,
          1,
          2,
          1,
          3,
          10,
          1,
          1,
          1,
          14,
          1,
          4,
          2,
          4,
          4,
          4,
          4,
          1,
          2,
          2,
          10,
          2,
          4,
          2,
          10,
          10,
          2,
          1,
          2,
          2,
          1,
          1,
          3,
          2,
          2,
          1,
          1,
          2,
          1,
          1,
          1,
          2,
          2,
          2,
          1,
          1,
          1,
          1,
          1,
          2,
          1,
          4,
          5,
          1,
          1,
          1,
          2,
          1,
          7,
          30,
          7,
          1,
          2,
          4,
          1,
          2,
          1,
          1,
          1,
          2,
          2,
          1,
          1,
          1,
          1,
          1,
          3,
          2,
          3,
          2,
          4,
          14,
          1,
          1,
          1,
          2,
          2,
          2,
          1,
          2,
          3,
          1,
          1,
          7,
          4,
          1,
          3,
          2,
          1,
          2,
          3,
          1,
          2,
          1,
          2,
          1,
          2,
          30,
          2,
          1,
          1,
          1,
          2,
          1,
          1,
          1,
          1,
          1,
          1,
          1,
          1,
          1,
          2,
          3,
          2,
          2,
          2,
          2,
          2,
          1,
          1,
          13,
          1,
          1,
          2,
          1,
          4,
          13,
          2,
          1,
          2,
          1,
          4,
          4,
          4,
          1,
          1,
          1,
          10,
          1,
          3,
          14,
          1,
          2,
          1,
          4,
          5,
          2,
          1,
          1,
          1,
          10,
          10,
          1,
          1,
          1,
          1,
          13,
          30,
          30,
          30,
          1,
          2,
          1,
          2,
          14,
          1,
          30,
          1,
          2,
          3,
          1,
          2,
          1,
          2,
          2,
          2,
          3,
          7,
          2,
          1,
          1,
          1,
          2,
          1,
          1,
          1,
          2,
          1,
          1,
          3,
          3,
          1,
          1,
          3,
          2,
          30,
          2,
          1,
          1,
          1,
          1,
          1,
          3,
          2,
          1,
          2,
          1,
          2,
          2,
          2,
          3,
          1,
          5,
          1,
          3,
          1,
          3,
          2,
          1,
          2,
          1,
          1,
          2,
          1,
          2,
          1,
          2,
          1,
          1,
          3,
          1,
          7,
          3,
          1,
          1,
          1,
          1,
          1,
          1,
          1,
          1,
          1,
          1,
          1,
          2,
          2,
          2,
          1,
          1,
          2,
          1,
          1,
          1,
          3,
          1,
          3,
          1,
          1,
          2,
          1,
          30,
          1,
          1,
          3,
          2,
          2,
          1,
          2,
          1,
          1,
          1,
          1,
          1,
          1,
          1,
          1,
          1,
          1,
          1,
          1,
          1,
          1,
          2,
          3,
          2,
          1,
          1,
          2,
          1,
          28,
          1,
          2,
          1,
          5,
          1,
          2,
          28,
          1
         ],
         "xaxis": "x4",
         "yaxis": "y4"
        },
        {
         "name": "Number_Of_Reviews",
         "opacity": 0.75,
         "showlegend": false,
         "type": "histogram",
         "x": [
          248,
          9,
          292,
          337,
          306,
          37,
          18,
          227,
          580,
          370,
          631,
          145,
          231,
          61,
          28,
          174,
          48,
          85,
          40,
          353,
          130,
          53,
          33,
          57,
          71,
          27,
          17,
          19,
          5,
          12,
          16,
          8,
          32,
          55,
          130,
          39,
          40,
          111,
          8,
          156,
          24,
          22,
          105,
          434,
          120,
          40,
          355,
          777,
          12,
          107,
          21,
          62,
          244,
          60,
          616,
          541,
          6,
          88,
          63,
          27,
          404,
          395,
          249,
          151,
          260,
          51,
          294,
          37,
          23,
          247,
          225,
          139,
          101,
          166,
          26,
          4,
          22,
          141,
          80,
          15,
          110,
          68,
          326,
          282,
          119,
          30,
          108,
          83,
          95,
          118,
          140,
          203,
          61,
          40,
          42,
          113,
          16,
          7,
          133,
          146,
          174,
          51,
          93,
          144,
          68,
          149,
          36,
          39,
          211,
          21,
          7,
          65,
          69,
          32,
          80,
          21,
          50,
          205,
          4,
          79,
          64,
          52,
          101,
          20,
          70,
          57,
          60,
          146,
          27,
          41,
          107,
          180,
          75,
          16,
          67,
          56,
          101,
          121,
          5,
          31,
          39,
          4,
          4,
          6,
          6,
          68,
          38,
          10,
          84,
          70,
          33,
          113,
          6,
          6,
          13,
          127,
          26,
          184,
          10,
          13,
          6,
          36,
          40,
          85,
          21,
          123,
          26,
          5,
          48,
          2,
          37,
          16,
          5,
          64,
          96,
          83,
          56,
          6,
          11,
          84,
          80,
          151,
          68,
          3,
          4,
          2,
          4,
          39,
          30,
          121,
          22,
          1,
          34,
          2,
          31,
          21,
          3,
          5,
          9,
          12,
          13,
          35,
          28,
          14,
          10,
          24,
          25,
          8,
          38,
          23,
          46,
          10,
          11,
          31,
          50,
          39,
          11,
          6,
          1,
          7,
          13,
          10,
          2,
          9,
          5,
          3,
          4,
          61,
          19,
          31,
          10,
          27,
          3,
          17,
          50,
          1,
          52,
          12,
          65,
          5,
          29,
          11,
          48,
          3,
          19,
          8,
          35,
          16,
          13,
          5,
          11,
          29,
          24,
          7,
          20,
          7,
          74,
          5,
          2,
          1,
          7,
          17,
          7,
          11,
          3,
          2,
          4,
          4,
          1,
          1,
          6,
          13,
          12,
          3,
          4,
          1,
          3,
          54,
          8,
          38,
          1,
          17,
          6,
          16,
          4,
          2,
          16,
          2,
          1,
          5,
          4,
          3,
          12,
          8,
          2,
          7,
          11,
          9,
          15,
          14,
          13,
          18,
          6,
          14,
          12,
          13,
          1,
          7,
          6,
          13,
          5,
          4,
          11,
          10,
          6,
          4,
          1,
          1,
          2,
          1,
          2,
          7,
          3,
          6,
          1
         ],
         "xaxis": "x5",
         "yaxis": "y5"
        },
        {
         "name": "Reviews_Per_Month",
         "opacity": 0.75,
         "showlegend": false,
         "type": "histogram",
         "x": [
          1.94,
          0.08,
          2.51,
          3.13,
          2.87,
          0.4,
          0.18,
          2.22,
          6.27,
          3.75,
          6.4,
          1.53,
          2.44,
          0.64,
          0.65,
          1.86,
          0.52,
          0.95,
          0.48,
          7.65,
          1.55,
          0.62,
          0.4,
          0.78,
          1.08,
          0.39,
          0.21,
          0.26,
          0.09,
          0.2,
          0.22,
          0.12,
          0.44,
          0.71,
          1.79,
          0.49,
          0.58,
          1.45,
          0.11,
          2.04,
          0.32,
          0.29,
          1.4,
          6.07,
          1.67,
          0.61,
          4.98,
          11.08,
          0.17,
          1.57,
          0.34,
          0.93,
          3.77,
          0.91,
          9.56,
          8.48,
          0.09,
          1.35,
          1.01,
          0.43,
          6.67,
          6.63,
          4.3,
          2.66,
          4.56,
          0.9,
          5.36,
          0.71,
          0.43,
          4.67,
          4.44,
          6.6,
          1.95,
          3.28,
          0.51,
          0.11,
          0.44,
          2.86,
          1.9,
          0.4,
          2.45,
          1.52,
          7.33,
          6.41,
          2.76,
          0.99,
          2.61,
          2.18,
          2.5,
          3.12,
          3.38,
          5.39,
          1.61,
          1.06,
          1.13,
          2.95,
          0.43,
          0.2,
          3.56,
          3.9,
          5.51,
          1.39,
          2.95,
          4.6,
          2.03,
          5.57,
          1.2,
          1.23,
          6.59,
          0.72,
          0.23,
          2.07,
          2.34,
          1.04,
          2.65,
          0.76,
          1.67,
          7.01,
          0.16,
          2.68,
          2.14,
          1.76,
          3.45,
          0.68,
          2.37,
          2.12,
          2.07,
          5.06,
          0.96,
          1.45,
          4.02,
          6.59,
          2.74,
          0.66,
          3.15,
          2.35,
          3.82,
          5.02,
          0.27,
          1.74,
          1.78,
          0.16,
          0.16,
          0.24,
          0.24,
          2.72,
          1.57,
          0.48,
          4.09,
          2.96,
          2.04,
          5.03,
          0.37,
          0.3,
          0.69,
          5.7,
          1.17,
          8.58,
          0.45,
          0.6,
          0.28,
          1.68,
          1.84,
          3.95,
          1.05,
          5.7,
          1.32,
          0.26,
          2.48,
          0.17,
          1.84,
          0.81,
          0.25,
          3.25,
          4.75,
          4.11,
          2.88,
          0.52,
          0.56,
          4.31,
          4.1,
          7.93,
          4.65,
          0.2,
          0.27,
          0.12,
          0.25,
          2.22,
          1.8,
          7.55,
          3.46,
          0.09,
          2.05,
          0.12,
          1.92,
          1.26,
          0.19,
          0.34,
          0.81,
          0.76,
          1.01,
          2.76,
          2.54,
          0.97,
          0.63,
          1.89,
          1.66,
          0.51,
          2.61,
          1.57,
          3.17,
          0.69,
          0.84,
          2.31,
          3.96,
          2.68,
          0.84,
          0.62,
          0.14,
          0.9,
          1.1,
          0.74,
          0.17,
          0.71,
          0.68,
          0.38,
          0.5,
          4.72,
          1.4,
          2.4,
          1.36,
          2.04,
          0.24,
          1.32,
          4.1,
          0.16,
          4.42,
          1.08,
          5.75,
          0.67,
          2.57,
          1.13,
          4.39,
          0.55,
          1.88,
          0.76,
          3.51,
          1.71,
          1.31,
          0.51,
          1.23,
          3.26,
          2.7,
          0.76,
          2.48,
          0.85,
          8.44,
          0.71,
          0.28,
          0.14,
          0.86,
          2.25,
          0.88,
          1.42,
          0.39,
          0.31,
          0.77,
          0.57,
          0.21,
          0.39,
          0.83,
          1.7,
          1.55,
          0.45,
          0.63,
          0.14,
          1.55,
          7.86,
          1.17,
          5.53,
          0.28,
          2.6,
          1.07,
          2.91,
          0.79,
          0.42,
          2.81,
          0.37,
          1,
          3.06,
          0.76,
          2.81,
          2.4,
          1.66,
          2,
          1.48,
          2.44,
          2.11,
          3.49,
          3.28,
          3.1,
          4.46,
          1.41,
          3.47,
          3.16,
          4.06,
          0.28,
          2.1,
          2.43,
          3.9,
          1.38,
          1.28,
          3.88,
          4.23,
          2.05,
          4,
          0.43,
          1,
          2,
          0.83,
          1.5,
          5.68,
          2.43,
          6,
          1
         ],
         "xaxis": "x6",
         "yaxis": "y6"
        },
        {
         "name": "Calculated_Host_Listings_Count",
         "opacity": 0.75,
         "showlegend": false,
         "type": "histogram",
         "x": [
          1,
          1,
          4,
          2,
          4,
          6,
          2,
          1,
          1,
          2,
          2,
          9,
          2,
          4,
          2,
          1,
          4,
          9,
          4,
          2,
          2,
          4,
          1,
          9,
          3,
          4,
          6,
          6,
          6,
          6,
          6,
          6,
          6,
          9,
          2,
          8,
          3,
          8,
          9,
          9,
          3,
          3,
          8,
          2,
          1,
          8,
          2,
          1,
          1,
          1,
          8,
          1,
          3,
          4,
          6,
          6,
          1,
          4,
          8,
          1,
          6,
          6,
          22,
          3,
          22,
          8,
          2,
          3,
          8,
          2,
          1,
          2,
          9,
          1,
          1,
          1,
          8,
          1,
          4,
          3,
          5,
          22,
          3,
          3,
          1,
          4,
          1,
          15,
          15,
          15,
          1,
          1,
          9,
          4,
          9,
          10,
          3,
          2,
          2,
          5,
          2,
          8,
          5,
          1,
          15,
          1,
          3,
          15,
          1,
          1,
          1,
          15,
          3,
          5,
          1,
          1,
          9,
          1,
          4,
          2,
          5,
          22,
          22,
          1,
          22,
          22,
          15,
          3,
          2,
          22,
          3,
          3,
          15,
          9,
          8,
          8,
          8,
          1,
          4,
          9,
          9,
          4,
          4,
          4,
          9,
          22,
          15,
          5,
          10,
          22,
          1,
          3,
          1,
          5,
          1,
          3,
          4,
          1,
          4,
          4,
          4,
          15,
          15,
          2,
          3,
          3,
          4,
          5,
          3,
          2,
          15,
          1,
          3,
          1,
          10,
          10,
          1,
          3,
          3,
          22,
          3,
          2,
          1,
          5,
          3,
          3,
          3,
          3,
          22,
          1,
          1,
          1,
          6,
          1,
          22,
          8,
          1,
          2,
          2,
          1,
          1,
          2,
          2,
          2,
          8,
          22,
          8,
          3,
          1,
          1,
          1,
          6,
          1,
          1,
          5,
          22,
          4,
          1,
          6,
          6,
          1,
          4,
          1,
          5,
          6,
          6,
          6,
          1,
          1,
          1,
          4,
          8,
          2,
          2,
          1,
          2,
          1,
          2,
          1,
          3,
          1,
          3,
          1,
          2,
          2,
          8,
          1,
          2,
          2,
          5,
          8,
          1,
          15,
          9,
          5,
          3,
          1,
          2,
          1,
          1,
          2,
          1,
          22,
          22,
          6,
          12,
          12,
          12,
          12,
          12,
          12,
          4,
          4,
          3,
          6,
          6,
          4,
          2,
          6,
          1,
          3,
          1,
          1,
          1,
          1,
          1,
          2,
          1,
          1,
          1,
          9,
          2,
          1,
          1,
          1,
          4,
          6,
          22,
          10,
          10,
          10,
          1,
          2,
          10,
          8,
          1,
          15,
          15,
          3,
          1,
          4,
          1,
          1,
          2,
          1,
          1,
          1,
          1,
          1,
          1,
          3,
          2,
          1,
          2,
          10
         ],
         "xaxis": "x7",
         "yaxis": "y7"
        },
        {
         "name": "Availability_365",
         "opacity": 0.75,
         "showlegend": false,
         "type": "histogram",
         "x": [
          233,
          21,
          360,
          79,
          0,
          365,
          179,
          311,
          0,
          138,
          112,
          0,
          363,
          282,
          364,
          299,
          313,
          355,
          112,
          295,
          365,
          342,
          26,
          365,
          242,
          365,
          179,
          313,
          179,
          313,
          313,
          313,
          70,
          254,
          298,
          212,
          338,
          275,
          365,
          354,
          244,
          251,
          303,
          64,
          0,
          316,
          0,
          0,
          359,
          0,
          354,
          301,
          234,
          112,
          0,
          299,
          178,
          346,
          0,
          365,
          189,
          334,
          0,
          226,
          73,
          365,
          144,
          361,
          350,
          69,
          254,
          172,
          0,
          229,
          170,
          37,
          365,
          159,
          75,
          365,
          356,
          0,
          349,
          262,
          0,
          10,
          143,
          342,
          0,
          0,
          72,
          244,
          163,
          0,
          357,
          0,
          361,
          276,
          317,
          293,
          214,
          0,
          351,
          190,
          0,
          255,
          159,
          361,
          0,
          128,
          175,
          358,
          344,
          221,
          162,
          329,
          122,
          0,
          364,
          358,
          0,
          86,
          79,
          121,
          87,
          0,
          271,
          332,
          33,
          85,
          244,
          320,
          349,
          365,
          364,
          354,
          250,
          267,
          38,
          103,
          277,
          253,
          252,
          253,
          364,
          0,
          0,
          225,
          0,
          0,
          333,
          266,
          223,
          268,
          362,
          85,
          0,
          302,
          173,
          173,
          173,
          355,
          214,
          148,
          176,
          0,
          328,
          251,
          327,
          89,
          247,
          268,
          316,
          0,
          0,
          0,
          25,
          158,
          162,
          0,
          59,
          219,
          0,
          257,
          341,
          336,
          332,
          346,
          79,
          0,
          269,
          216,
          331,
          303,
          0,
          344,
          339,
          365,
          289,
          361,
          0,
          0,
          349,
          171,
          342,
          0,
          361,
          83,
          252,
          44,
          0,
          19,
          83,
          250,
          0,
          0,
          345,
          280,
          300,
          273,
          231,
          105,
          225,
          350,
          271,
          266,
          267,
          159,
          257,
          38,
          206,
          360,
          282,
          277,
          147,
          360,
          79,
          298,
          322,
          173,
          80,
          352,
          7,
          0,
          133,
          311,
          170,
          359,
          363,
          349,
          358,
          0,
          281,
          179,
          339,
          89,
          0,
          354,
          246,
          20,
          349,
          216,
          358,
          349,
          283,
          278,
          278,
          275,
          277,
          281,
          255,
          345,
          360,
          36,
          0,
          1,
          267,
          0,
          0,
          297,
          78,
          358,
          91,
          0,
          0,
          172,
          242,
          40,
          245,
          151,
          179,
          73,
          38,
          335,
          150,
          342,
          328,
          267,
          259,
          249,
          208,
          276,
          286,
          262,
          362,
          73,
          175,
          244,
          252,
          38,
          328,
          259,
          164,
          215,
          323,
          258,
          362,
          356,
          95,
          269,
          179,
          256,
          238,
          20,
          0
         ],
         "xaxis": "x8",
         "yaxis": "y8"
        },
        {
         "name": "Number_Of_Reviews_Ltm",
         "opacity": 0.75,
         "showlegend": false,
         "type": "histogram",
         "x": [
          50,
          0,
          8,
          31,
          5,
          0,
          0,
          3,
          39,
          39,
          98,
          23,
          16,
          0,
          7,
          14,
          3,
          22,
          8,
          115,
          2,
          6,
          2,
          0,
          19,
          3,
          0,
          0,
          0,
          0,
          0,
          0,
          0,
          0,
          1,
          1,
          5,
          14,
          0,
          12,
          6,
          4,
          18,
          28,
          23,
          4,
          39,
          131,
          1,
          10,
          16,
          20,
          30,
          16,
          41,
          76,
          1,
          8,
          11,
          1,
          34,
          40,
          55,
          46,
          53,
          4,
          98,
          2,
          1,
          68,
          29,
          53,
          18,
          4,
          4,
          0,
          6,
          51,
          14,
          4,
          26,
          21,
          70,
          55,
          19,
          6,
          41,
          22,
          23,
          24,
          58,
          58,
          21,
          12,
          13,
          34,
          1,
          1,
          44,
          33,
          48,
          23,
          21,
          58,
          14,
          69,
          5,
          9,
          61,
          1,
          0,
          23,
          25,
          10,
          13,
          8,
          15,
          78,
          0,
          38,
          7,
          14,
          39,
          0,
          28,
          32,
          20,
          57,
          1,
          22,
          42,
          70,
          30,
          5,
          22,
          24,
          4,
          73,
          0,
          23,
          26,
          0,
          2,
          0,
          0,
          29,
          14,
          5,
          55,
          36,
          20,
          55,
          4,
          3,
          7,
          58,
          8,
          113,
          3,
          7,
          2,
          20,
          18,
          46,
          8,
          62,
          20,
          2,
          30,
          2,
          19,
          11,
          2,
          37,
          55,
          50,
          31,
          6,
          5,
          54,
          48,
          113,
          58,
          2,
          3,
          1,
          2,
          28,
          20,
          94,
          22,
          1,
          25,
          0,
          25,
          17,
          2,
          1,
          9,
          7,
          11,
          34,
          28,
          11,
          6,
          21,
          18,
          7,
          29,
          17,
          39,
          7,
          8,
          27,
          49,
          34,
          10,
          6,
          1,
          7,
          13,
          9,
          2,
          8,
          5,
          3,
          4,
          56,
          15,
          24,
          10,
          22,
          1,
          13,
          50,
          1,
          52,
          12,
          65,
          5,
          29,
          11,
          48,
          3,
          19,
          8,
          35,
          16,
          13,
          5,
          11,
          29,
          24,
          7,
          20,
          7,
          74,
          5,
          2,
          1,
          7,
          17,
          7,
          11,
          3,
          2,
          4,
          4,
          1,
          1,
          6,
          13,
          12,
          3,
          4,
          1,
          3,
          54,
          8,
          38,
          1,
          17,
          6,
          16,
          4,
          2,
          16,
          2,
          1,
          5,
          4,
          3,
          12,
          8,
          2,
          7,
          11,
          9,
          15,
          14,
          13,
          18,
          6,
          14,
          12,
          13,
          1,
          7,
          6,
          13,
          5,
          4,
          11,
          10,
          6,
          4,
          1,
          1,
          2,
          1,
          2,
          7,
          3,
          6,
          1
         ],
         "xaxis": "x9",
         "yaxis": "y9"
        }
       ],
       "layout": {
        "annotations": [
         {
          "font": {
           "size": 16
          },
          "showarrow": false,
          "text": "Latitude",
          "x": 0.14444444444444446,
          "xanchor": "center",
          "xref": "paper",
          "y": 1,
          "yanchor": "bottom",
          "yref": "paper"
         },
         {
          "font": {
           "size": 16
          },
          "showarrow": false,
          "text": "Longitude",
          "x": 0.5,
          "xanchor": "center",
          "xref": "paper",
          "y": 1,
          "yanchor": "bottom",
          "yref": "paper"
         },
         {
          "font": {
           "size": 16
          },
          "showarrow": false,
          "text": "Price",
          "x": 0.8555555555555556,
          "xanchor": "center",
          "xref": "paper",
          "y": 1,
          "yanchor": "bottom",
          "yref": "paper"
         },
         {
          "font": {
           "size": 16
          },
          "showarrow": false,
          "text": "Minimum_Nights",
          "x": 0.14444444444444446,
          "xanchor": "center",
          "xref": "paper",
          "y": 0.6111111111111112,
          "yanchor": "bottom",
          "yref": "paper"
         },
         {
          "font": {
           "size": 16
          },
          "showarrow": false,
          "text": "Number_Of_Reviews",
          "x": 0.5,
          "xanchor": "center",
          "xref": "paper",
          "y": 0.6111111111111112,
          "yanchor": "bottom",
          "yref": "paper"
         },
         {
          "font": {
           "size": 16
          },
          "showarrow": false,
          "text": "Reviews_Per_Month",
          "x": 0.8555555555555556,
          "xanchor": "center",
          "xref": "paper",
          "y": 0.6111111111111112,
          "yanchor": "bottom",
          "yref": "paper"
         },
         {
          "font": {
           "size": 16
          },
          "showarrow": false,
          "text": "Calculated_Host_Listings_Count",
          "x": 0.14444444444444446,
          "xanchor": "center",
          "xref": "paper",
          "y": 0.22222222222222224,
          "yanchor": "bottom",
          "yref": "paper"
         },
         {
          "font": {
           "size": 16
          },
          "showarrow": false,
          "text": "Availability_365",
          "x": 0.5,
          "xanchor": "center",
          "xref": "paper",
          "y": 0.22222222222222224,
          "yanchor": "bottom",
          "yref": "paper"
         },
         {
          "font": {
           "size": 16
          },
          "showarrow": false,
          "text": "Number_Of_Reviews_Ltm",
          "x": 0.8555555555555556,
          "xanchor": "center",
          "xref": "paper",
          "y": 0.22222222222222224,
          "yanchor": "bottom",
          "yref": "paper"
         }
        ],
        "font": {
         "color": "#909497",
         "size": 18
        },
        "height": 1000,
        "hovermode": "closest",
        "margin": {
         "b": 80,
         "l": 120,
         "r": 80,
         "t": 100
        },
        "plot_bgcolor": "white",
        "template": {
         "data": {
          "bar": [
           {
            "error_x": {
             "color": "#2a3f5f"
            },
            "error_y": {
             "color": "#2a3f5f"
            },
            "marker": {
             "line": {
              "color": "#E5ECF6",
              "width": 0.5
             },
             "pattern": {
              "fillmode": "overlay",
              "size": 10,
              "solidity": 0.2
             }
            },
            "type": "bar"
           }
          ],
          "barpolar": [
           {
            "marker": {
             "line": {
              "color": "#E5ECF6",
              "width": 0.5
             },
             "pattern": {
              "fillmode": "overlay",
              "size": 10,
              "solidity": 0.2
             }
            },
            "type": "barpolar"
           }
          ],
          "carpet": [
           {
            "aaxis": {
             "endlinecolor": "#2a3f5f",
             "gridcolor": "white",
             "linecolor": "white",
             "minorgridcolor": "white",
             "startlinecolor": "#2a3f5f"
            },
            "baxis": {
             "endlinecolor": "#2a3f5f",
             "gridcolor": "white",
             "linecolor": "white",
             "minorgridcolor": "white",
             "startlinecolor": "#2a3f5f"
            },
            "type": "carpet"
           }
          ],
          "choropleth": [
           {
            "colorbar": {
             "outlinewidth": 0,
             "ticks": ""
            },
            "type": "choropleth"
           }
          ],
          "contour": [
           {
            "colorbar": {
             "outlinewidth": 0,
             "ticks": ""
            },
            "colorscale": [
             [
              0,
              "#0d0887"
             ],
             [
              0.1111111111111111,
              "#46039f"
             ],
             [
              0.2222222222222222,
              "#7201a8"
             ],
             [
              0.3333333333333333,
              "#9c179e"
             ],
             [
              0.4444444444444444,
              "#bd3786"
             ],
             [
              0.5555555555555556,
              "#d8576b"
             ],
             [
              0.6666666666666666,
              "#ed7953"
             ],
             [
              0.7777777777777778,
              "#fb9f3a"
             ],
             [
              0.8888888888888888,
              "#fdca26"
             ],
             [
              1,
              "#f0f921"
             ]
            ],
            "type": "contour"
           }
          ],
          "contourcarpet": [
           {
            "colorbar": {
             "outlinewidth": 0,
             "ticks": ""
            },
            "type": "contourcarpet"
           }
          ],
          "heatmap": [
           {
            "colorbar": {
             "outlinewidth": 0,
             "ticks": ""
            },
            "colorscale": [
             [
              0,
              "#0d0887"
             ],
             [
              0.1111111111111111,
              "#46039f"
             ],
             [
              0.2222222222222222,
              "#7201a8"
             ],
             [
              0.3333333333333333,
              "#9c179e"
             ],
             [
              0.4444444444444444,
              "#bd3786"
             ],
             [
              0.5555555555555556,
              "#d8576b"
             ],
             [
              0.6666666666666666,
              "#ed7953"
             ],
             [
              0.7777777777777778,
              "#fb9f3a"
             ],
             [
              0.8888888888888888,
              "#fdca26"
             ],
             [
              1,
              "#f0f921"
             ]
            ],
            "type": "heatmap"
           }
          ],
          "heatmapgl": [
           {
            "colorbar": {
             "outlinewidth": 0,
             "ticks": ""
            },
            "colorscale": [
             [
              0,
              "#0d0887"
             ],
             [
              0.1111111111111111,
              "#46039f"
             ],
             [
              0.2222222222222222,
              "#7201a8"
             ],
             [
              0.3333333333333333,
              "#9c179e"
             ],
             [
              0.4444444444444444,
              "#bd3786"
             ],
             [
              0.5555555555555556,
              "#d8576b"
             ],
             [
              0.6666666666666666,
              "#ed7953"
             ],
             [
              0.7777777777777778,
              "#fb9f3a"
             ],
             [
              0.8888888888888888,
              "#fdca26"
             ],
             [
              1,
              "#f0f921"
             ]
            ],
            "type": "heatmapgl"
           }
          ],
          "histogram": [
           {
            "marker": {
             "pattern": {
              "fillmode": "overlay",
              "size": 10,
              "solidity": 0.2
             }
            },
            "type": "histogram"
           }
          ],
          "histogram2d": [
           {
            "colorbar": {
             "outlinewidth": 0,
             "ticks": ""
            },
            "colorscale": [
             [
              0,
              "#0d0887"
             ],
             [
              0.1111111111111111,
              "#46039f"
             ],
             [
              0.2222222222222222,
              "#7201a8"
             ],
             [
              0.3333333333333333,
              "#9c179e"
             ],
             [
              0.4444444444444444,
              "#bd3786"
             ],
             [
              0.5555555555555556,
              "#d8576b"
             ],
             [
              0.6666666666666666,
              "#ed7953"
             ],
             [
              0.7777777777777778,
              "#fb9f3a"
             ],
             [
              0.8888888888888888,
              "#fdca26"
             ],
             [
              1,
              "#f0f921"
             ]
            ],
            "type": "histogram2d"
           }
          ],
          "histogram2dcontour": [
           {
            "colorbar": {
             "outlinewidth": 0,
             "ticks": ""
            },
            "colorscale": [
             [
              0,
              "#0d0887"
             ],
             [
              0.1111111111111111,
              "#46039f"
             ],
             [
              0.2222222222222222,
              "#7201a8"
             ],
             [
              0.3333333333333333,
              "#9c179e"
             ],
             [
              0.4444444444444444,
              "#bd3786"
             ],
             [
              0.5555555555555556,
              "#d8576b"
             ],
             [
              0.6666666666666666,
              "#ed7953"
             ],
             [
              0.7777777777777778,
              "#fb9f3a"
             ],
             [
              0.8888888888888888,
              "#fdca26"
             ],
             [
              1,
              "#f0f921"
             ]
            ],
            "type": "histogram2dcontour"
           }
          ],
          "mesh3d": [
           {
            "colorbar": {
             "outlinewidth": 0,
             "ticks": ""
            },
            "type": "mesh3d"
           }
          ],
          "parcoords": [
           {
            "line": {
             "colorbar": {
              "outlinewidth": 0,
              "ticks": ""
             }
            },
            "type": "parcoords"
           }
          ],
          "pie": [
           {
            "automargin": true,
            "type": "pie"
           }
          ],
          "scatter": [
           {
            "fillpattern": {
             "fillmode": "overlay",
             "size": 10,
             "solidity": 0.2
            },
            "type": "scatter"
           }
          ],
          "scatter3d": [
           {
            "line": {
             "colorbar": {
              "outlinewidth": 0,
              "ticks": ""
             }
            },
            "marker": {
             "colorbar": {
              "outlinewidth": 0,
              "ticks": ""
             }
            },
            "type": "scatter3d"
           }
          ],
          "scattercarpet": [
           {
            "marker": {
             "colorbar": {
              "outlinewidth": 0,
              "ticks": ""
             }
            },
            "type": "scattercarpet"
           }
          ],
          "scattergeo": [
           {
            "marker": {
             "colorbar": {
              "outlinewidth": 0,
              "ticks": ""
             }
            },
            "type": "scattergeo"
           }
          ],
          "scattergl": [
           {
            "marker": {
             "colorbar": {
              "outlinewidth": 0,
              "ticks": ""
             }
            },
            "type": "scattergl"
           }
          ],
          "scattermapbox": [
           {
            "marker": {
             "colorbar": {
              "outlinewidth": 0,
              "ticks": ""
             }
            },
            "type": "scattermapbox"
           }
          ],
          "scatterpolar": [
           {
            "marker": {
             "colorbar": {
              "outlinewidth": 0,
              "ticks": ""
             }
            },
            "type": "scatterpolar"
           }
          ],
          "scatterpolargl": [
           {
            "marker": {
             "colorbar": {
              "outlinewidth": 0,
              "ticks": ""
             }
            },
            "type": "scatterpolargl"
           }
          ],
          "scatterternary": [
           {
            "marker": {
             "colorbar": {
              "outlinewidth": 0,
              "ticks": ""
             }
            },
            "type": "scatterternary"
           }
          ],
          "surface": [
           {
            "colorbar": {
             "outlinewidth": 0,
             "ticks": ""
            },
            "colorscale": [
             [
              0,
              "#0d0887"
             ],
             [
              0.1111111111111111,
              "#46039f"
             ],
             [
              0.2222222222222222,
              "#7201a8"
             ],
             [
              0.3333333333333333,
              "#9c179e"
             ],
             [
              0.4444444444444444,
              "#bd3786"
             ],
             [
              0.5555555555555556,
              "#d8576b"
             ],
             [
              0.6666666666666666,
              "#ed7953"
             ],
             [
              0.7777777777777778,
              "#fb9f3a"
             ],
             [
              0.8888888888888888,
              "#fdca26"
             ],
             [
              1,
              "#f0f921"
             ]
            ],
            "type": "surface"
           }
          ],
          "table": [
           {
            "cells": {
             "fill": {
              "color": "#EBF0F8"
             },
             "line": {
              "color": "white"
             }
            },
            "header": {
             "fill": {
              "color": "#C8D4E3"
             },
             "line": {
              "color": "white"
             }
            },
            "type": "table"
           }
          ]
         },
         "layout": {
          "annotationdefaults": {
           "arrowcolor": "#2a3f5f",
           "arrowhead": 0,
           "arrowwidth": 1
          },
          "autotypenumbers": "strict",
          "coloraxis": {
           "colorbar": {
            "outlinewidth": 0,
            "ticks": ""
           }
          },
          "colorscale": {
           "diverging": [
            [
             0,
             "#8e0152"
            ],
            [
             0.1,
             "#c51b7d"
            ],
            [
             0.2,
             "#de77ae"
            ],
            [
             0.3,
             "#f1b6da"
            ],
            [
             0.4,
             "#fde0ef"
            ],
            [
             0.5,
             "#f7f7f7"
            ],
            [
             0.6,
             "#e6f5d0"
            ],
            [
             0.7,
             "#b8e186"
            ],
            [
             0.8,
             "#7fbc41"
            ],
            [
             0.9,
             "#4d9221"
            ],
            [
             1,
             "#276419"
            ]
           ],
           "sequential": [
            [
             0,
             "#0d0887"
            ],
            [
             0.1111111111111111,
             "#46039f"
            ],
            [
             0.2222222222222222,
             "#7201a8"
            ],
            [
             0.3333333333333333,
             "#9c179e"
            ],
            [
             0.4444444444444444,
             "#bd3786"
            ],
            [
             0.5555555555555556,
             "#d8576b"
            ],
            [
             0.6666666666666666,
             "#ed7953"
            ],
            [
             0.7777777777777778,
             "#fb9f3a"
            ],
            [
             0.8888888888888888,
             "#fdca26"
            ],
            [
             1,
             "#f0f921"
            ]
           ],
           "sequentialminus": [
            [
             0,
             "#0d0887"
            ],
            [
             0.1111111111111111,
             "#46039f"
            ],
            [
             0.2222222222222222,
             "#7201a8"
            ],
            [
             0.3333333333333333,
             "#9c179e"
            ],
            [
             0.4444444444444444,
             "#bd3786"
            ],
            [
             0.5555555555555556,
             "#d8576b"
            ],
            [
             0.6666666666666666,
             "#ed7953"
            ],
            [
             0.7777777777777778,
             "#fb9f3a"
            ],
            [
             0.8888888888888888,
             "#fdca26"
            ],
            [
             1,
             "#f0f921"
            ]
           ]
          },
          "colorway": [
           "#636efa",
           "#EF553B",
           "#00cc96",
           "#ab63fa",
           "#FFA15A",
           "#19d3f3",
           "#FF6692",
           "#B6E880",
           "#FF97FF",
           "#FECB52"
          ],
          "font": {
           "color": "#2a3f5f"
          },
          "geo": {
           "bgcolor": "white",
           "lakecolor": "white",
           "landcolor": "#E5ECF6",
           "showlakes": true,
           "showland": true,
           "subunitcolor": "white"
          },
          "hoverlabel": {
           "align": "left"
          },
          "hovermode": "closest",
          "mapbox": {
           "style": "light"
          },
          "paper_bgcolor": "white",
          "plot_bgcolor": "#E5ECF6",
          "polar": {
           "angularaxis": {
            "gridcolor": "white",
            "linecolor": "white",
            "ticks": ""
           },
           "bgcolor": "#E5ECF6",
           "radialaxis": {
            "gridcolor": "white",
            "linecolor": "white",
            "ticks": ""
           }
          },
          "scene": {
           "xaxis": {
            "backgroundcolor": "#E5ECF6",
            "gridcolor": "white",
            "gridwidth": 2,
            "linecolor": "white",
            "showbackground": true,
            "ticks": "",
            "zerolinecolor": "white"
           },
           "yaxis": {
            "backgroundcolor": "#E5ECF6",
            "gridcolor": "white",
            "gridwidth": 2,
            "linecolor": "white",
            "showbackground": true,
            "ticks": "",
            "zerolinecolor": "white"
           },
           "zaxis": {
            "backgroundcolor": "#E5ECF6",
            "gridcolor": "white",
            "gridwidth": 2,
            "linecolor": "white",
            "showbackground": true,
            "ticks": "",
            "zerolinecolor": "white"
           }
          },
          "shapedefaults": {
           "line": {
            "color": "#2a3f5f"
           }
          },
          "ternary": {
           "aaxis": {
            "gridcolor": "white",
            "linecolor": "white",
            "ticks": ""
           },
           "baxis": {
            "gridcolor": "white",
            "linecolor": "white",
            "ticks": ""
           },
           "bgcolor": "#E5ECF6",
           "caxis": {
            "gridcolor": "white",
            "linecolor": "white",
            "ticks": ""
           }
          },
          "title": {
           "x": 0.05
          },
          "xaxis": {
           "automargin": true,
           "gridcolor": "white",
           "linecolor": "white",
           "ticks": "",
           "title": {
            "standoff": 15
           },
           "zerolinecolor": "white",
           "zerolinewidth": 2
          },
          "yaxis": {
           "automargin": true,
           "gridcolor": "white",
           "linecolor": "white",
           "ticks": "",
           "title": {
            "standoff": 15
           },
           "zerolinecolor": "white",
           "zerolinewidth": 2
          }
         }
        },
        "title": {
         "font": {
          "size": 26
         },
         "text": "All Numerical Columns"
        },
        "width": 900,
        "xaxis": {
         "anchor": "y",
         "domain": [
          0,
          0.2888888888888889
         ]
        },
        "xaxis2": {
         "anchor": "y2",
         "domain": [
          0.35555555555555557,
          0.6444444444444445
         ]
        },
        "xaxis3": {
         "anchor": "y3",
         "domain": [
          0.7111111111111111,
          1
         ]
        },
        "xaxis4": {
         "anchor": "y4",
         "domain": [
          0,
          0.2888888888888889
         ]
        },
        "xaxis5": {
         "anchor": "y5",
         "domain": [
          0.35555555555555557,
          0.6444444444444445
         ]
        },
        "xaxis6": {
         "anchor": "y6",
         "domain": [
          0.7111111111111111,
          1
         ]
        },
        "xaxis7": {
         "anchor": "y7",
         "domain": [
          0,
          0.2888888888888889
         ]
        },
        "xaxis8": {
         "anchor": "y8",
         "domain": [
          0.35555555555555557,
          0.6444444444444445
         ]
        },
        "xaxis9": {
         "anchor": "y9",
         "domain": [
          0.7111111111111111,
          1
         ]
        },
        "yaxis": {
         "anchor": "x",
         "domain": [
          0.7777777777777778,
          1
         ]
        },
        "yaxis2": {
         "anchor": "x2",
         "domain": [
          0.7777777777777778,
          1
         ]
        },
        "yaxis3": {
         "anchor": "x3",
         "domain": [
          0.7777777777777778,
          1
         ]
        },
        "yaxis4": {
         "anchor": "x4",
         "domain": [
          0.3888888888888889,
          0.6111111111111112
         ]
        },
        "yaxis5": {
         "anchor": "x5",
         "domain": [
          0.3888888888888889,
          0.6111111111111112
         ]
        },
        "yaxis6": {
         "anchor": "x6",
         "domain": [
          0.3888888888888889,
          0.6111111111111112
         ]
        },
        "yaxis7": {
         "anchor": "x7",
         "domain": [
          0,
          0.22222222222222224
         ]
        },
        "yaxis8": {
         "anchor": "x8",
         "domain": [
          0,
          0.22222222222222224
         ]
        },
        "yaxis9": {
         "anchor": "x9",
         "domain": [
          0,
          0.22222222222222224
         ]
        }
       }
      },
      "text/html": [
       "<div>                            <div id=\"d5c50420-7374-45f3-aed9-5a60365727ef\" class=\"plotly-graph-div\" style=\"height:1000px; width:900px;\"></div>            <script type=\"text/javascript\">                require([\"plotly\"], function(Plotly) {                    window.PLOTLYENV=window.PLOTLYENV || {};                                    if (document.getElementById(\"d5c50420-7374-45f3-aed9-5a60365727ef\")) {                    Plotly.newPlot(                        \"d5c50420-7374-45f3-aed9-5a60365727ef\",                        [{\"name\":\"Latitude\",\"opacity\":0.75,\"showlegend\":false,\"x\":[42.66719,42.65789,42.65222,42.64615,42.65222,42.64484,42.66063,42.64603,42.65559,42.64734,42.66078,42.67567,42.67583,42.65912,42.65154,42.66972,42.65726,42.673512,42.65651,42.66075,42.67614,42.6584,42.65729,42.67637,42.65312,42.6585,42.6436,42.65846,42.64355,42.65846,42.65846,42.65846,42.65846,42.675,42.64939,42.65532,42.66565,42.65372,42.67547,42.66045,42.66572,42.66703,42.65501,42.64717,42.65975,42.65431,42.6477,42.65345,42.65333,42.65403,42.6543083190918,42.65821,42.65464,42.65746,42.64535,42.64535,42.6737,42.65235,42.6533,42.67519,42.64563,42.64585,42.64335,42.65259,42.64506,42.66619,42.65085,42.65507,42.65483,42.65547,42.66091,42.65682,42.66827,42.67773,42.65592,42.65115,42.65315,42.66403,42.64453,42.65556,42.66257,42.64383,42.65935,42.66006,42.66132,42.64454,42.6545,42.64801,42.64821,42.64713,42.66137,42.65311,42.66646,42.65345,42.67156,42.6692,42.656,42.66744,42.6511808672392,42.66261,42.64981845378106,42.65399,42.65429,42.65157,42.65888,42.66034,42.67945,42.65901,42.66064,42.65969,42.65061,42.65856,42.65812,42.65269,42.64684,42.67643,42.63066,42.65641,42.65934,42.67044,42.65386,42.64186,42.65674,42.65069,42.67181,42.67131,42.65812,42.65826,42.67004,42.64369,42.65824,42.65204,42.65913,42.674675,42.66261,42.65422,42.65403,42.65155,42.64459,42.65578,42.65905,42.65902,42.6595,42.6598,42.66919,42.64342,42.65848,42.64441,42.66911,42.64252,42.652049,42.65353,42.65547943115234,42.64489,42.640217,42.65723,42.64372,42.65347,42.64318,42.64242,42.64198,42.64528,42.64558,42.65323,42.6635364,42.65802,42.65427,42.64625,42.64595,42.65389,42.65752,42.65795,42.6374547,42.65541380925019,42.66758,42.66764,42.6694413,42.66305,42.66286,42.66172,42.65732,42.65405765037151,42.6623,42.64577,42.66008,42.65929700754271,42.65935889426801,42.64638,42.6732,42.65691,42.6513719,42.65035,42.64564,42.65643,42.66069,42.6543178,42.64469,42.65569,42.6496,42.64284,42.66648,42.64439384900326,42.6444412,42.65259,42.65534,42.67348,42.65405,42.66117,42.6601,42.6518469,42.65725,42.65183,42.66298,42.6591503133547,42.6653,42.64324,42.65489,42.67283,42.656329,42.65582,42.6538578,42.65741,42.65315,42.66958,42.65751,42.656329,42.656329,42.65588,42.6684126,42.67239,42.67143614564987,42.65258,42.66109,42.65613,42.67076,42.66007584297136,42.63504,42.67336,42.6446,42.67177,42.6457663,42.65817,42.66947,42.66128,42.67355,42.65379,42.6599733,42.66246,42.6628771,42.6573,42.66215778253739,42.66087,42.64787,42.6652959,42.66217,42.66261,42.65193730448655,42.6559529,42.6586,42.65483722729842,42.654965911269095,42.67066076442359,42.672943350526445,42.67132410762948,42.65654925592276,42.658672199777634,42.6606,42.659082586070085,42.65846944486231,42.65908020134226,42.660362531234114,42.6708367,42.669735657513975,42.68001107488553,42.65801,42.65798404004404,42.67033901962889,42.6541815,42.66000843071908,42.6549886,42.678962799458816,42.65240863051438,42.67059398561849,42.65679550669701,42.65312775001394,42.66627900500492,42.66391565517209,42.65411,42.6715992520812,42.65259924007496,42.6709773627501,42.64485687096462,42.65623,42.65761589542138,42.6554977755084,42.65483900711961,42.64534889999999,42.661365504548,42.67002775509383,42.6697096084112,42.66873116573401,42.645494388571485,42.65538680270734,42.66996089870569,42.6535,42.64713879857583,42.65859808957202,42.65970700274541,42.64655138980193,42.66838,42.65487397780481,42.6759553661711,42.6736802909505,42.65446887973431,42.66106893179246,42.639757084309245,42.6408128784902,42.659886051712505,42.65098734769702,42.66311590202129,42.67096068386967,42.663915656143736,42.67908161690146,42.65607073634355,42.66943098938467],\"type\":\"histogram\",\"xaxis\":\"x\",\"yaxis\":\"y\"},{\"name\":\"Longitude\",\"opacity\":0.75,\"showlegend\":false,\"x\":[-73.8158,-73.7537,-73.76724,-73.75966,-73.76724,-73.75851,-73.78115,-73.75986,-73.76506,-73.75851,-73.80553,-73.82438,-73.78297,-73.78349,-73.76867,-73.82753,-73.78219,-73.819679,-73.77887,-73.80605,-73.78169,-73.78309,-73.80321,-73.82395,-73.78161,-73.78414,-73.75887,-73.80201,-73.75712,-73.80201,-73.80201,-73.80201,-73.80201,-73.82382,-73.76865,-73.78244,-73.77975,-73.78244,-73.82402,-73.77833,-73.77834,-73.77842,-73.78122,-73.77135,-73.81196,-73.78178,-73.7714,-73.7645,-73.77293,-73.76325,-73.78177642822266,-73.76917,-73.78348,-73.77904,-73.75365,-73.75365,-73.75313,-73.76714,-73.78114,-73.82281,-73.75311,-73.75297,-73.7579,-73.78223,-73.75727,-73.79031,-73.80239,-73.76138,-73.78033,-73.7651,-73.74285,-73.76298,-73.79231,-73.73899,-73.76259,-73.7668,-73.76202,-73.81446,-73.75426,-73.76205,-73.78281,-73.78926,-73.76805,-73.76966,-73.7956,-73.75369,-73.78223,-73.75668,-73.75793,-73.75628,-73.7904,-73.78525,-73.79184,-73.76663,-73.80883,-73.79849,-73.76123,-73.79216,-73.75273894471623,-73.78332,-73.75090228127745,-73.78126,-73.75986,-73.76546,-73.74673,-73.77163,-73.81647,-73.74748,-73.76074,-73.77564,-73.75006,-73.74866,-73.74941,-73.76076,-73.75614,-73.82903,-73.77357,-73.76413,-73.76966,-73.82573,-73.75958,-73.75868,-73.79221,-73.75193,-73.79543,-73.7921,-73.74837,-73.76944,-73.82367,-73.7581,-73.80114,-73.76655,-73.74722,-73.822861,-73.79026,-73.76996,-73.77056,-73.765,-73.75392,-73.78641,-73.77964,-73.7701,-73.76938,-73.76995,-73.78672,-73.75742,-73.76359,-73.75647,-73.79869,-73.75688,-73.7949665,-73.7679,-73.76625061035156,-73.75731,-73.780815,-73.75684,-73.78426,-73.7662,-73.78386,-73.78536,-73.78413,-73.75861,-73.75928,-73.76797,-73.77782359999999,-73.756165,-73.76455,-73.75663,-73.76196,-73.76538,-73.74743,-73.75092,-73.7716647,-73.76367520540953,-73.7992,-73.79908,-73.79749410000001,-73.77726,-73.77817,-73.78497,-73.75676,-73.76071299629517,-73.777,-73.7583,-73.79816,-73.79720147699118,-73.7972692027688,-73.76146,-73.79199,-73.78389,-73.7673156,-73.76549,-73.75261,-73.76402,-73.78555,-73.7818222,-73.761,-73.77685,-73.76792,-73.77997,-73.76831,-73.75975701534425,-73.75971410000001,-73.76732,-73.76461,-73.7934,-73.76953,-73.79091,-73.80719,-73.7642072,-73.75065,-73.76594,-73.81361,-73.75431932508945,-73.7943,-73.75732,-73.77061,-73.77367,-73.7752048,-73.77541,-73.7855281,-73.78034,-73.77012,-73.79722,-73.77409,-73.775205,-73.775205,-73.75332,-73.7684199,-73.79418,-73.79032550419785,-73.76917,-73.80479,-73.77469,-73.82612,-73.76976949435519,-73.79833,-73.78619,-73.75885,-73.79464,-73.7586141,-73.74935,-73.81607,-73.80548,-73.78496,-73.76901,-73.7747433,-73.76576,-73.76534029999999,-73.7521,-73.79234533756971,-73.78655,-73.76707,-73.7868778,-73.78299,-73.79158,-73.78593011701557,-73.7807478,-73.75743,-73.79149618599958,-73.78021704609974,-73.79571205018514,-73.79225342780366,-73.79247186675903,-73.77433674199318,-73.77478693204898,-73.77284,-73.77455698333637,-73.77272373106814,-73.77325860057209,-73.77290224418863,-73.7853116,-73.78610658197474,-73.81705995884008,-73.80049,-73.80128215056936,-73.78509801171585,-73.76086049999999,-73.77397295619353,-73.79390939999999,-73.81724461913109,-73.77002141071337,-73.81678288145305,-73.75335661522755,-73.76950465142727,-73.76511947562057,-73.77786945551634,-73.76129,-73.79798656710622,-73.761780139996,-73.80695225761066,-73.77281881169621,-73.7641152,-73.75115885472674,-73.8106566601018,-73.7674333870007,-73.75364650000002,-73.78482319521697,-73.7977054151877,-73.797549986088,-73.79930289371134,-73.83282736350908,-73.76416369206528,-73.7981565369516,-73.77046,-73.7546608201248,-73.76420635863742,-73.76382104785372,-73.7597240543698,-73.77868,-73.76519868723663,-73.79260844002489,-73.78413107868002,-73.76077862456057,-73.78973060044702,-73.75705214104126,-73.7746275334913,-73.7920570376047,-73.76307767802679,-73.7381032862318,-73.79513938040748,-73.77786945551634,-73.79504903417528,-73.76345323405465,-73.79881962357733],\"type\":\"histogram\",\"xaxis\":\"x2\",\"yaxis\":\"y2\"},{\"name\":\"Price\",\"opacity\":0.75,\"showlegend\":false,\"x\":[50.0,70.0,125.0,105.0,126.0,190.0,199.0,85.0,87.0,61.0,50.0,243.0,55.0,45.0,50.0,219.0,45.0,333.0,56.0,70.0,53.0,45.0,62.0,306.0,70.0,50.0,169.0,60.0,249.0,80.0,80.0,80.0,60.0,196.0,126.0,85.0,40.0,70.0,570.0,69.0,35.0,35.0,55.0,80.0,75.0,55.0,77.0,70.0,100.0,89.0,55.0,75.0,50.0,56.0,91.0,62.0,95.0,119.0,55.0,39.0,103.0,100.0,141.0,50.0,100.0,110.0,55.0,151.0,85.0,78.0,217.0,78.0,95.0,109.0,115.0,92.0,110.0,45.0,117.0,175.0,145.0,245.0,109.0,119.0,119.0,97.0,79.0,120.0,122.0,140.0,100.0,175.0,92.0,125.0,79.0,95.0,166.0,125.0,109.0,147.0,117.0,45.0,88.0,109.0,115.0,110.0,63.0,120.0,64.0,93.0,105.0,115.0,85.0,88.0,125.0,40.0,99.0,87.0,100.0,120.0,88.0,135.0,185.0,65.0,125.0,145.0,115.0,119.0,88.0,95.0,175.0,99.0,150.0,160.0,75.0,100.0,100.0,146.0,125.0,99.0,79.0,110.0,100.0,100.0,266.0,120.0,115.0,110.0,89.0,119.0,100.0,113.0,70.0,120.0,120.0,129.0,130.0,108.0,53.0,53.0,53.0,120.0,115.0,149.0,44.0,129.0,97.0,90.0,99.0,130.0,115.0,101.0,159.0,118.0,75.0,75.0,141.0,48.0,45.0,179.0,99.0,102.0,115.0,110.0,27.0,27.0,26.0,90.0,135.0,187.0,113.0,68.0,91.0,60.0,185.0,45.0,80.0,130.0,82.0,131.0,101.0,145.0,145.0,50.0,70.0,128.0,110.0,75.0,65.0,107.0,100.0,110.0,60.0,105.0,185.0,150.0,102.0,104.0,628.0,122.0,87.0,55.0,80.0,126.0,127.0,122.0,127.0,89.0,103.0,99.0,50.0,85.0,55.0,157.0,219.0,120.0,300.0,175.0,95.0,66.0,85.0,78.0,79.0,55.0,175.0,89.0,67.0,45.0,45.0,104.0,100.0,189.0,155.0,110.0,197.0,72.0,156.0,33.0,80.0,115.0,44.0,77.0,125.0,150.0,122.0,184.0,184.0,184.0,184.0,207.0,364.0,45.0,35.0,71.0,135.0,105.0,50.0,128.0,115.0,129.0,118.0,89.0,100.0,108.0,125.0,120.0,114.0,85.0,218.0,87.0,99.0,279.0,110.0,154.0,143.0,83.0,191.0,189.0,50.0,50.0,50.0,347.0,95.0,50.0,73.0,65.0,120.0,119.0,100.0,102.0,91.0,155.0,60.0,91.0,114.0,90.0,88.0,150.0,125.0,105.0,60.0,102.0,125.0,106.0,51.0],\"type\":\"histogram\",\"xaxis\":\"x3\",\"yaxis\":\"y3\"},{\"name\":\"Minimum_Nights\",\"opacity\":0.75,\"showlegend\":false,\"x\":[1,28,2,7,2,1,3,3,1,2,1,1,1,10,5,2,10,1,2,1,3,10,1,1,1,14,1,4,2,4,4,4,4,1,2,2,10,2,4,2,10,10,2,1,2,2,1,1,3,2,2,1,1,2,1,1,1,2,2,2,1,1,1,1,1,2,1,4,5,1,1,1,2,1,7,30,7,1,2,4,1,2,1,1,1,2,2,1,1,1,1,1,3,2,3,2,4,14,1,1,1,2,2,2,1,2,3,1,1,7,4,1,3,2,1,2,3,1,2,1,2,1,2,30,2,1,1,1,2,1,1,1,1,1,1,1,1,1,2,3,2,2,2,2,2,1,1,13,1,1,2,1,4,13,2,1,2,1,4,4,4,1,1,1,10,1,3,14,1,2,1,4,5,2,1,1,1,10,10,1,1,1,1,13,30,30,30,1,2,1,2,14,1,30,1,2,3,1,2,1,2,2,2,3,7,2,1,1,1,2,1,1,1,2,1,1,3,3,1,1,3,2,30,2,1,1,1,1,1,3,2,1,2,1,2,2,2,3,1,5,1,3,1,3,2,1,2,1,1,2,1,2,1,2,1,1,3,1,7,3,1,1,1,1,1,1,1,1,1,1,1,2,2,2,1,1,2,1,1,1,3,1,3,1,1,2,1,30,1,1,3,2,2,1,2,1,1,1,1,1,1,1,1,1,1,1,1,1,1,2,3,2,1,1,2,1,28,1,2,1,5,1,2,28,1],\"type\":\"histogram\",\"xaxis\":\"x4\",\"yaxis\":\"y4\"},{\"name\":\"Number_Of_Reviews\",\"opacity\":0.75,\"showlegend\":false,\"x\":[248,9,292,337,306,37,18,227,580,370,631,145,231,61,28,174,48,85,40,353,130,53,33,57,71,27,17,19,5,12,16,8,32,55,130,39,40,111,8,156,24,22,105,434,120,40,355,777,12,107,21,62,244,60,616,541,6,88,63,27,404,395,249,151,260,51,294,37,23,247,225,139,101,166,26,4,22,141,80,15,110,68,326,282,119,30,108,83,95,118,140,203,61,40,42,113,16,7,133,146,174,51,93,144,68,149,36,39,211,21,7,65,69,32,80,21,50,205,4,79,64,52,101,20,70,57,60,146,27,41,107,180,75,16,67,56,101,121,5,31,39,4,4,6,6,68,38,10,84,70,33,113,6,6,13,127,26,184,10,13,6,36,40,85,21,123,26,5,48,2,37,16,5,64,96,83,56,6,11,84,80,151,68,3,4,2,4,39,30,121,22,1,34,2,31,21,3,5,9,12,13,35,28,14,10,24,25,8,38,23,46,10,11,31,50,39,11,6,1,7,13,10,2,9,5,3,4,61,19,31,10,27,3,17,50,1,52,12,65,5,29,11,48,3,19,8,35,16,13,5,11,29,24,7,20,7,74,5,2,1,7,17,7,11,3,2,4,4,1,1,6,13,12,3,4,1,3,54,8,38,1,17,6,16,4,2,16,2,1,5,4,3,12,8,2,7,11,9,15,14,13,18,6,14,12,13,1,7,6,13,5,4,11,10,6,4,1,1,2,1,2,7,3,6,1],\"type\":\"histogram\",\"xaxis\":\"x5\",\"yaxis\":\"y5\"},{\"name\":\"Reviews_Per_Month\",\"opacity\":0.75,\"showlegend\":false,\"x\":[1.94,0.08,2.51,3.13,2.87,0.4,0.18,2.22,6.27,3.75,6.4,1.53,2.44,0.64,0.65,1.86,0.52,0.95,0.48,7.65,1.55,0.62,0.4,0.78,1.08,0.39,0.21,0.26,0.09,0.2,0.22,0.12,0.44,0.71,1.79,0.49,0.58,1.45,0.11,2.04,0.32,0.29,1.4,6.07,1.67,0.61,4.98,11.08,0.17,1.57,0.34,0.93,3.77,0.91,9.56,8.48,0.09,1.35,1.01,0.43,6.67,6.63,4.3,2.66,4.56,0.9,5.36,0.71,0.43,4.67,4.44,6.6,1.95,3.28,0.51,0.11,0.44,2.86,1.9,0.4,2.45,1.52,7.33,6.41,2.76,0.99,2.61,2.18,2.5,3.12,3.38,5.39,1.61,1.06,1.13,2.95,0.43,0.2,3.56,3.9,5.51,1.39,2.95,4.6,2.03,5.57,1.2,1.23,6.59,0.72,0.23,2.07,2.34,1.04,2.65,0.76,1.67,7.01,0.16,2.68,2.14,1.76,3.45,0.68,2.37,2.12,2.07,5.06,0.96,1.45,4.02,6.59,2.74,0.66,3.15,2.35,3.82,5.02,0.27,1.74,1.78,0.16,0.16,0.24,0.24,2.72,1.57,0.48,4.09,2.96,2.04,5.03,0.37,0.3,0.69,5.7,1.17,8.58,0.45,0.6,0.28,1.68,1.84,3.95,1.05,5.7,1.32,0.26,2.48,0.17,1.84,0.81,0.25,3.25,4.75,4.11,2.88,0.52,0.56,4.31,4.1,7.93,4.65,0.2,0.27,0.12,0.25,2.22,1.8,7.55,3.46,0.09,2.05,0.12,1.92,1.26,0.19,0.34,0.81,0.76,1.01,2.76,2.54,0.97,0.63,1.89,1.66,0.51,2.61,1.57,3.17,0.69,0.84,2.31,3.96,2.68,0.84,0.62,0.14,0.9,1.1,0.74,0.17,0.71,0.68,0.38,0.5,4.72,1.4,2.4,1.36,2.04,0.24,1.32,4.1,0.16,4.42,1.08,5.75,0.67,2.57,1.13,4.39,0.55,1.88,0.76,3.51,1.71,1.31,0.51,1.23,3.26,2.7,0.76,2.48,0.85,8.44,0.71,0.28,0.14,0.86,2.25,0.88,1.42,0.39,0.31,0.77,0.57,0.21,0.39,0.83,1.7,1.55,0.45,0.63,0.14,1.55,7.86,1.17,5.53,0.28,2.6,1.07,2.91,0.79,0.42,2.81,0.37,1.0,3.06,0.76,2.81,2.4,1.66,2.0,1.48,2.44,2.11,3.49,3.28,3.1,4.46,1.41,3.47,3.16,4.06,0.28,2.1,2.43,3.9,1.38,1.28,3.88,4.23,2.05,4.0,0.43,1.0,2.0,0.83,1.5,5.68,2.43,6.0,1.0],\"type\":\"histogram\",\"xaxis\":\"x6\",\"yaxis\":\"y6\"},{\"name\":\"Calculated_Host_Listings_Count\",\"opacity\":0.75,\"showlegend\":false,\"x\":[1,1,4,2,4,6,2,1,1,2,2,9,2,4,2,1,4,9,4,2,2,4,1,9,3,4,6,6,6,6,6,6,6,9,2,8,3,8,9,9,3,3,8,2,1,8,2,1,1,1,8,1,3,4,6,6,1,4,8,1,6,6,22,3,22,8,2,3,8,2,1,2,9,1,1,1,8,1,4,3,5,22,3,3,1,4,1,15,15,15,1,1,9,4,9,10,3,2,2,5,2,8,5,1,15,1,3,15,1,1,1,15,3,5,1,1,9,1,4,2,5,22,22,1,22,22,15,3,2,22,3,3,15,9,8,8,8,1,4,9,9,4,4,4,9,22,15,5,10,22,1,3,1,5,1,3,4,1,4,4,4,15,15,2,3,3,4,5,3,2,15,1,3,1,10,10,1,3,3,22,3,2,1,5,3,3,3,3,22,1,1,1,6,1,22,8,1,2,2,1,1,2,2,2,8,22,8,3,1,1,1,6,1,1,5,22,4,1,6,6,1,4,1,5,6,6,6,1,1,1,4,8,2,2,1,2,1,2,1,3,1,3,1,2,2,8,1,2,2,5,8,1,15,9,5,3,1,2,1,1,2,1,22,22,6,12,12,12,12,12,12,4,4,3,6,6,4,2,6,1,3,1,1,1,1,1,2,1,1,1,9,2,1,1,1,4,6,22,10,10,10,1,2,10,8,1,15,15,3,1,4,1,1,2,1,1,1,1,1,1,3,2,1,2,10],\"type\":\"histogram\",\"xaxis\":\"x7\",\"yaxis\":\"y7\"},{\"name\":\"Availability_365\",\"opacity\":0.75,\"showlegend\":false,\"x\":[233,21,360,79,0,365,179,311,0,138,112,0,363,282,364,299,313,355,112,295,365,342,26,365,242,365,179,313,179,313,313,313,70,254,298,212,338,275,365,354,244,251,303,64,0,316,0,0,359,0,354,301,234,112,0,299,178,346,0,365,189,334,0,226,73,365,144,361,350,69,254,172,0,229,170,37,365,159,75,365,356,0,349,262,0,10,143,342,0,0,72,244,163,0,357,0,361,276,317,293,214,0,351,190,0,255,159,361,0,128,175,358,344,221,162,329,122,0,364,358,0,86,79,121,87,0,271,332,33,85,244,320,349,365,364,354,250,267,38,103,277,253,252,253,364,0,0,225,0,0,333,266,223,268,362,85,0,302,173,173,173,355,214,148,176,0,328,251,327,89,247,268,316,0,0,0,25,158,162,0,59,219,0,257,341,336,332,346,79,0,269,216,331,303,0,344,339,365,289,361,0,0,349,171,342,0,361,83,252,44,0,19,83,250,0,0,345,280,300,273,231,105,225,350,271,266,267,159,257,38,206,360,282,277,147,360,79,298,322,173,80,352,7,0,133,311,170,359,363,349,358,0,281,179,339,89,0,354,246,20,349,216,358,349,283,278,278,275,277,281,255,345,360,36,0,1,267,0,0,297,78,358,91,0,0,172,242,40,245,151,179,73,38,335,150,342,328,267,259,249,208,276,286,262,362,73,175,244,252,38,328,259,164,215,323,258,362,356,95,269,179,256,238,20,0],\"type\":\"histogram\",\"xaxis\":\"x8\",\"yaxis\":\"y8\"},{\"name\":\"Number_Of_Reviews_Ltm\",\"opacity\":0.75,\"showlegend\":false,\"x\":[50,0,8,31,5,0,0,3,39,39,98,23,16,0,7,14,3,22,8,115,2,6,2,0,19,3,0,0,0,0,0,0,0,0,1,1,5,14,0,12,6,4,18,28,23,4,39,131,1,10,16,20,30,16,41,76,1,8,11,1,34,40,55,46,53,4,98,2,1,68,29,53,18,4,4,0,6,51,14,4,26,21,70,55,19,6,41,22,23,24,58,58,21,12,13,34,1,1,44,33,48,23,21,58,14,69,5,9,61,1,0,23,25,10,13,8,15,78,0,38,7,14,39,0,28,32,20,57,1,22,42,70,30,5,22,24,4,73,0,23,26,0,2,0,0,29,14,5,55,36,20,55,4,3,7,58,8,113,3,7,2,20,18,46,8,62,20,2,30,2,19,11,2,37,55,50,31,6,5,54,48,113,58,2,3,1,2,28,20,94,22,1,25,0,25,17,2,1,9,7,11,34,28,11,6,21,18,7,29,17,39,7,8,27,49,34,10,6,1,7,13,9,2,8,5,3,4,56,15,24,10,22,1,13,50,1,52,12,65,5,29,11,48,3,19,8,35,16,13,5,11,29,24,7,20,7,74,5,2,1,7,17,7,11,3,2,4,4,1,1,6,13,12,3,4,1,3,54,8,38,1,17,6,16,4,2,16,2,1,5,4,3,12,8,2,7,11,9,15,14,13,18,6,14,12,13,1,7,6,13,5,4,11,10,6,4,1,1,2,1,2,7,3,6,1],\"type\":\"histogram\",\"xaxis\":\"x9\",\"yaxis\":\"y9\"}],                        {\"template\":{\"data\":{\"histogram2dcontour\":[{\"type\":\"histogram2dcontour\",\"colorbar\":{\"outlinewidth\":0,\"ticks\":\"\"},\"colorscale\":[[0.0,\"#0d0887\"],[0.1111111111111111,\"#46039f\"],[0.2222222222222222,\"#7201a8\"],[0.3333333333333333,\"#9c179e\"],[0.4444444444444444,\"#bd3786\"],[0.5555555555555556,\"#d8576b\"],[0.6666666666666666,\"#ed7953\"],[0.7777777777777778,\"#fb9f3a\"],[0.8888888888888888,\"#fdca26\"],[1.0,\"#f0f921\"]]}],\"choropleth\":[{\"type\":\"choropleth\",\"colorbar\":{\"outlinewidth\":0,\"ticks\":\"\"}}],\"histogram2d\":[{\"type\":\"histogram2d\",\"colorbar\":{\"outlinewidth\":0,\"ticks\":\"\"},\"colorscale\":[[0.0,\"#0d0887\"],[0.1111111111111111,\"#46039f\"],[0.2222222222222222,\"#7201a8\"],[0.3333333333333333,\"#9c179e\"],[0.4444444444444444,\"#bd3786\"],[0.5555555555555556,\"#d8576b\"],[0.6666666666666666,\"#ed7953\"],[0.7777777777777778,\"#fb9f3a\"],[0.8888888888888888,\"#fdca26\"],[1.0,\"#f0f921\"]]}],\"heatmap\":[{\"type\":\"heatmap\",\"colorbar\":{\"outlinewidth\":0,\"ticks\":\"\"},\"colorscale\":[[0.0,\"#0d0887\"],[0.1111111111111111,\"#46039f\"],[0.2222222222222222,\"#7201a8\"],[0.3333333333333333,\"#9c179e\"],[0.4444444444444444,\"#bd3786\"],[0.5555555555555556,\"#d8576b\"],[0.6666666666666666,\"#ed7953\"],[0.7777777777777778,\"#fb9f3a\"],[0.8888888888888888,\"#fdca26\"],[1.0,\"#f0f921\"]]}],\"heatmapgl\":[{\"type\":\"heatmapgl\",\"colorbar\":{\"outlinewidth\":0,\"ticks\":\"\"},\"colorscale\":[[0.0,\"#0d0887\"],[0.1111111111111111,\"#46039f\"],[0.2222222222222222,\"#7201a8\"],[0.3333333333333333,\"#9c179e\"],[0.4444444444444444,\"#bd3786\"],[0.5555555555555556,\"#d8576b\"],[0.6666666666666666,\"#ed7953\"],[0.7777777777777778,\"#fb9f3a\"],[0.8888888888888888,\"#fdca26\"],[1.0,\"#f0f921\"]]}],\"contourcarpet\":[{\"type\":\"contourcarpet\",\"colorbar\":{\"outlinewidth\":0,\"ticks\":\"\"}}],\"contour\":[{\"type\":\"contour\",\"colorbar\":{\"outlinewidth\":0,\"ticks\":\"\"},\"colorscale\":[[0.0,\"#0d0887\"],[0.1111111111111111,\"#46039f\"],[0.2222222222222222,\"#7201a8\"],[0.3333333333333333,\"#9c179e\"],[0.4444444444444444,\"#bd3786\"],[0.5555555555555556,\"#d8576b\"],[0.6666666666666666,\"#ed7953\"],[0.7777777777777778,\"#fb9f3a\"],[0.8888888888888888,\"#fdca26\"],[1.0,\"#f0f921\"]]}],\"surface\":[{\"type\":\"surface\",\"colorbar\":{\"outlinewidth\":0,\"ticks\":\"\"},\"colorscale\":[[0.0,\"#0d0887\"],[0.1111111111111111,\"#46039f\"],[0.2222222222222222,\"#7201a8\"],[0.3333333333333333,\"#9c179e\"],[0.4444444444444444,\"#bd3786\"],[0.5555555555555556,\"#d8576b\"],[0.6666666666666666,\"#ed7953\"],[0.7777777777777778,\"#fb9f3a\"],[0.8888888888888888,\"#fdca26\"],[1.0,\"#f0f921\"]]}],\"mesh3d\":[{\"type\":\"mesh3d\",\"colorbar\":{\"outlinewidth\":0,\"ticks\":\"\"}}],\"scatter\":[{\"fillpattern\":{\"fillmode\":\"overlay\",\"size\":10,\"solidity\":0.2},\"type\":\"scatter\"}],\"parcoords\":[{\"type\":\"parcoords\",\"line\":{\"colorbar\":{\"outlinewidth\":0,\"ticks\":\"\"}}}],\"scatterpolargl\":[{\"type\":\"scatterpolargl\",\"marker\":{\"colorbar\":{\"outlinewidth\":0,\"ticks\":\"\"}}}],\"bar\":[{\"error_x\":{\"color\":\"#2a3f5f\"},\"error_y\":{\"color\":\"#2a3f5f\"},\"marker\":{\"line\":{\"color\":\"#E5ECF6\",\"width\":0.5},\"pattern\":{\"fillmode\":\"overlay\",\"size\":10,\"solidity\":0.2}},\"type\":\"bar\"}],\"scattergeo\":[{\"type\":\"scattergeo\",\"marker\":{\"colorbar\":{\"outlinewidth\":0,\"ticks\":\"\"}}}],\"scatterpolar\":[{\"type\":\"scatterpolar\",\"marker\":{\"colorbar\":{\"outlinewidth\":0,\"ticks\":\"\"}}}],\"histogram\":[{\"marker\":{\"pattern\":{\"fillmode\":\"overlay\",\"size\":10,\"solidity\":0.2}},\"type\":\"histogram\"}],\"scattergl\":[{\"type\":\"scattergl\",\"marker\":{\"colorbar\":{\"outlinewidth\":0,\"ticks\":\"\"}}}],\"scatter3d\":[{\"type\":\"scatter3d\",\"line\":{\"colorbar\":{\"outlinewidth\":0,\"ticks\":\"\"}},\"marker\":{\"colorbar\":{\"outlinewidth\":0,\"ticks\":\"\"}}}],\"scattermapbox\":[{\"type\":\"scattermapbox\",\"marker\":{\"colorbar\":{\"outlinewidth\":0,\"ticks\":\"\"}}}],\"scatterternary\":[{\"type\":\"scatterternary\",\"marker\":{\"colorbar\":{\"outlinewidth\":0,\"ticks\":\"\"}}}],\"scattercarpet\":[{\"type\":\"scattercarpet\",\"marker\":{\"colorbar\":{\"outlinewidth\":0,\"ticks\":\"\"}}}],\"carpet\":[{\"aaxis\":{\"endlinecolor\":\"#2a3f5f\",\"gridcolor\":\"white\",\"linecolor\":\"white\",\"minorgridcolor\":\"white\",\"startlinecolor\":\"#2a3f5f\"},\"baxis\":{\"endlinecolor\":\"#2a3f5f\",\"gridcolor\":\"white\",\"linecolor\":\"white\",\"minorgridcolor\":\"white\",\"startlinecolor\":\"#2a3f5f\"},\"type\":\"carpet\"}],\"table\":[{\"cells\":{\"fill\":{\"color\":\"#EBF0F8\"},\"line\":{\"color\":\"white\"}},\"header\":{\"fill\":{\"color\":\"#C8D4E3\"},\"line\":{\"color\":\"white\"}},\"type\":\"table\"}],\"barpolar\":[{\"marker\":{\"line\":{\"color\":\"#E5ECF6\",\"width\":0.5},\"pattern\":{\"fillmode\":\"overlay\",\"size\":10,\"solidity\":0.2}},\"type\":\"barpolar\"}],\"pie\":[{\"automargin\":true,\"type\":\"pie\"}]},\"layout\":{\"autotypenumbers\":\"strict\",\"colorway\":[\"#636efa\",\"#EF553B\",\"#00cc96\",\"#ab63fa\",\"#FFA15A\",\"#19d3f3\",\"#FF6692\",\"#B6E880\",\"#FF97FF\",\"#FECB52\"],\"font\":{\"color\":\"#2a3f5f\"},\"hovermode\":\"closest\",\"hoverlabel\":{\"align\":\"left\"},\"paper_bgcolor\":\"white\",\"plot_bgcolor\":\"#E5ECF6\",\"polar\":{\"bgcolor\":\"#E5ECF6\",\"angularaxis\":{\"gridcolor\":\"white\",\"linecolor\":\"white\",\"ticks\":\"\"},\"radialaxis\":{\"gridcolor\":\"white\",\"linecolor\":\"white\",\"ticks\":\"\"}},\"ternary\":{\"bgcolor\":\"#E5ECF6\",\"aaxis\":{\"gridcolor\":\"white\",\"linecolor\":\"white\",\"ticks\":\"\"},\"baxis\":{\"gridcolor\":\"white\",\"linecolor\":\"white\",\"ticks\":\"\"},\"caxis\":{\"gridcolor\":\"white\",\"linecolor\":\"white\",\"ticks\":\"\"}},\"coloraxis\":{\"colorbar\":{\"outlinewidth\":0,\"ticks\":\"\"}},\"colorscale\":{\"sequential\":[[0.0,\"#0d0887\"],[0.1111111111111111,\"#46039f\"],[0.2222222222222222,\"#7201a8\"],[0.3333333333333333,\"#9c179e\"],[0.4444444444444444,\"#bd3786\"],[0.5555555555555556,\"#d8576b\"],[0.6666666666666666,\"#ed7953\"],[0.7777777777777778,\"#fb9f3a\"],[0.8888888888888888,\"#fdca26\"],[1.0,\"#f0f921\"]],\"sequentialminus\":[[0.0,\"#0d0887\"],[0.1111111111111111,\"#46039f\"],[0.2222222222222222,\"#7201a8\"],[0.3333333333333333,\"#9c179e\"],[0.4444444444444444,\"#bd3786\"],[0.5555555555555556,\"#d8576b\"],[0.6666666666666666,\"#ed7953\"],[0.7777777777777778,\"#fb9f3a\"],[0.8888888888888888,\"#fdca26\"],[1.0,\"#f0f921\"]],\"diverging\":[[0,\"#8e0152\"],[0.1,\"#c51b7d\"],[0.2,\"#de77ae\"],[0.3,\"#f1b6da\"],[0.4,\"#fde0ef\"],[0.5,\"#f7f7f7\"],[0.6,\"#e6f5d0\"],[0.7,\"#b8e186\"],[0.8,\"#7fbc41\"],[0.9,\"#4d9221\"],[1,\"#276419\"]]},\"xaxis\":{\"gridcolor\":\"white\",\"linecolor\":\"white\",\"ticks\":\"\",\"title\":{\"standoff\":15},\"zerolinecolor\":\"white\",\"automargin\":true,\"zerolinewidth\":2},\"yaxis\":{\"gridcolor\":\"white\",\"linecolor\":\"white\",\"ticks\":\"\",\"title\":{\"standoff\":15},\"zerolinecolor\":\"white\",\"automargin\":true,\"zerolinewidth\":2},\"scene\":{\"xaxis\":{\"backgroundcolor\":\"#E5ECF6\",\"gridcolor\":\"white\",\"linecolor\":\"white\",\"showbackground\":true,\"ticks\":\"\",\"zerolinecolor\":\"white\",\"gridwidth\":2},\"yaxis\":{\"backgroundcolor\":\"#E5ECF6\",\"gridcolor\":\"white\",\"linecolor\":\"white\",\"showbackground\":true,\"ticks\":\"\",\"zerolinecolor\":\"white\",\"gridwidth\":2},\"zaxis\":{\"backgroundcolor\":\"#E5ECF6\",\"gridcolor\":\"white\",\"linecolor\":\"white\",\"showbackground\":true,\"ticks\":\"\",\"zerolinecolor\":\"white\",\"gridwidth\":2}},\"shapedefaults\":{\"line\":{\"color\":\"#2a3f5f\"}},\"annotationdefaults\":{\"arrowcolor\":\"#2a3f5f\",\"arrowhead\":0,\"arrowwidth\":1},\"geo\":{\"bgcolor\":\"white\",\"landcolor\":\"#E5ECF6\",\"subunitcolor\":\"white\",\"showland\":true,\"showlakes\":true,\"lakecolor\":\"white\"},\"title\":{\"x\":0.05},\"mapbox\":{\"style\":\"light\"}}},\"xaxis\":{\"anchor\":\"y\",\"domain\":[0.0,0.2888888888888889]},\"yaxis\":{\"anchor\":\"x\",\"domain\":[0.7777777777777778,1.0]},\"xaxis2\":{\"anchor\":\"y2\",\"domain\":[0.35555555555555557,0.6444444444444445]},\"yaxis2\":{\"anchor\":\"x2\",\"domain\":[0.7777777777777778,1.0]},\"xaxis3\":{\"anchor\":\"y3\",\"domain\":[0.7111111111111111,1.0]},\"yaxis3\":{\"anchor\":\"x3\",\"domain\":[0.7777777777777778,1.0]},\"xaxis4\":{\"anchor\":\"y4\",\"domain\":[0.0,0.2888888888888889]},\"yaxis4\":{\"anchor\":\"x4\",\"domain\":[0.3888888888888889,0.6111111111111112]},\"xaxis5\":{\"anchor\":\"y5\",\"domain\":[0.35555555555555557,0.6444444444444445]},\"yaxis5\":{\"anchor\":\"x5\",\"domain\":[0.3888888888888889,0.6111111111111112]},\"xaxis6\":{\"anchor\":\"y6\",\"domain\":[0.7111111111111111,1.0]},\"yaxis6\":{\"anchor\":\"x6\",\"domain\":[0.3888888888888889,0.6111111111111112]},\"xaxis7\":{\"anchor\":\"y7\",\"domain\":[0.0,0.2888888888888889]},\"yaxis7\":{\"anchor\":\"x7\",\"domain\":[0.0,0.22222222222222224]},\"xaxis8\":{\"anchor\":\"y8\",\"domain\":[0.35555555555555557,0.6444444444444445]},\"yaxis8\":{\"anchor\":\"x8\",\"domain\":[0.0,0.22222222222222224]},\"xaxis9\":{\"anchor\":\"y9\",\"domain\":[0.7111111111111111,1.0]},\"yaxis9\":{\"anchor\":\"x9\",\"domain\":[0.0,0.22222222222222224]},\"annotations\":[{\"font\":{\"size\":16},\"showarrow\":false,\"text\":\"Latitude\",\"x\":0.14444444444444446,\"xanchor\":\"center\",\"xref\":\"paper\",\"y\":1.0,\"yanchor\":\"bottom\",\"yref\":\"paper\"},{\"font\":{\"size\":16},\"showarrow\":false,\"text\":\"Longitude\",\"x\":0.5,\"xanchor\":\"center\",\"xref\":\"paper\",\"y\":1.0,\"yanchor\":\"bottom\",\"yref\":\"paper\"},{\"font\":{\"size\":16},\"showarrow\":false,\"text\":\"Price\",\"x\":0.8555555555555556,\"xanchor\":\"center\",\"xref\":\"paper\",\"y\":1.0,\"yanchor\":\"bottom\",\"yref\":\"paper\"},{\"font\":{\"size\":16},\"showarrow\":false,\"text\":\"Minimum_Nights\",\"x\":0.14444444444444446,\"xanchor\":\"center\",\"xref\":\"paper\",\"y\":0.6111111111111112,\"yanchor\":\"bottom\",\"yref\":\"paper\"},{\"font\":{\"size\":16},\"showarrow\":false,\"text\":\"Number_Of_Reviews\",\"x\":0.5,\"xanchor\":\"center\",\"xref\":\"paper\",\"y\":0.6111111111111112,\"yanchor\":\"bottom\",\"yref\":\"paper\"},{\"font\":{\"size\":16},\"showarrow\":false,\"text\":\"Reviews_Per_Month\",\"x\":0.8555555555555556,\"xanchor\":\"center\",\"xref\":\"paper\",\"y\":0.6111111111111112,\"yanchor\":\"bottom\",\"yref\":\"paper\"},{\"font\":{\"size\":16},\"showarrow\":false,\"text\":\"Calculated_Host_Listings_Count\",\"x\":0.14444444444444446,\"xanchor\":\"center\",\"xref\":\"paper\",\"y\":0.22222222222222224,\"yanchor\":\"bottom\",\"yref\":\"paper\"},{\"font\":{\"size\":16},\"showarrow\":false,\"text\":\"Availability_365\",\"x\":0.5,\"xanchor\":\"center\",\"xref\":\"paper\",\"y\":0.22222222222222224,\"yanchor\":\"bottom\",\"yref\":\"paper\"},{\"font\":{\"size\":16},\"showarrow\":false,\"text\":\"Number_Of_Reviews_Ltm\",\"x\":0.8555555555555556,\"xanchor\":\"center\",\"xref\":\"paper\",\"y\":0.22222222222222224,\"yanchor\":\"bottom\",\"yref\":\"paper\"}],\"font\":{\"color\":\"#909497\",\"size\":18},\"title\":{\"font\":{\"size\":26},\"text\":\"All Numerical Columns\"},\"margin\":{\"t\":100,\"r\":80,\"b\":80,\"l\":120},\"plot_bgcolor\":\"white\",\"hovermode\":\"closest\",\"height\":1000,\"width\":900},                        {\"responsive\": true}                    ).then(function(){\n",
       "                            \n",
       "var gd = document.getElementById('d5c50420-7374-45f3-aed9-5a60365727ef');\n",
       "var x = new MutationObserver(function (mutations, observer) {{\n",
       "        var display = window.getComputedStyle(gd).display;\n",
       "        if (!display || display === 'none') {{\n",
       "            console.log([gd, 'removed!']);\n",
       "            Plotly.purge(gd);\n",
       "            observer.disconnect();\n",
       "        }}\n",
       "}});\n",
       "\n",
       "// Listen for the removal of the full notebook cells\n",
       "var notebookContainer = gd.closest('#notebook-container');\n",
       "if (notebookContainer) {{\n",
       "    x.observe(notebookContainer, {childList: true});\n",
       "}}\n",
       "\n",
       "// Listen for the clearing of the current output cell\n",
       "var outputEl = gd.closest('.output');\n",
       "if (outputEl) {{\n",
       "    x.observe(outputEl, {childList: true});\n",
       "}}\n",
       "\n",
       "                        })                };                });            </script>        </div>"
      ]
     },
     "metadata": {},
     "output_type": "display_data"
    }
   ],
   "source": [
    "from tools import Muti_hist_plot\n",
    "Muti_hist_plot(df[df.columns[3:]])"
   ]
  },
  {
   "cell_type": "markdown",
   "id": "998014e7-045c-437b-92a2-8d725540f3cc",
   "metadata": {},
   "source": [
    "### The first method \n",
    "- Dropping the outliers"
   ]
  },
  {
   "cell_type": "markdown",
   "id": "fed40a15-2ecb-4526-b0e0-e1dec46bccae",
   "metadata": {},
   "source": [
    "Source : https://hersanyagci.medium.com/detecting-and-handling-outliers-with-pandas-7adbfcd5cad8"
   ]
  },
  {
   "cell_type": "code",
   "execution_count": 13,
   "id": "140fb17f-c36a-42e5-96ea-1074bc739832",
   "metadata": {},
   "outputs": [],
   "source": [
    "def drop_Outliers(col : str):\n",
    "    Q1 = df[col].quantile(0.25)\n",
    "    Q3 = df[col].quantile(0.75)\n",
    "    IQR = Q3 - Q1 \n",
    "    lower_lim = Q1 - 1.5 * IQR\n",
    "    upper_lim = Q3 + 1.5 * IQR\n",
    "    outliers_15_low = (df[col] < lower_lim)\n",
    "    outliers_15_up = (df[col] > upper_lim)\n",
    "    \n",
    "    #  result len \n",
    "    # len(df[col]) - (len(df[col][outliers_15_low]) + len(df[col][outliers_15_up]))\n",
    "    \n",
    "    #  the Outliers\n",
    "    # df[col][(outliers_15_low | outliers_15_up)]\n",
    "\n",
    "    #  the col without the outliers \n",
    "    return df[col][~(outliers_15_low | outliers_15_up)]\n",
    "        "
   ]
  },
  {
   "cell_type": "markdown",
   "id": "98cfae5c",
   "metadata": {},
   "source": [
    "### Drop the outliers "
   ]
  },
  {
   "cell_type": "code",
   "execution_count": 14,
   "id": "330696e7-5459-48e1-adcd-89cb20aecd55",
   "metadata": {},
   "outputs": [],
   "source": [
    "data_without_outliers = df.copy()\n",
    "for col in selected_columns:\n",
    "    data_without_outliers[col] = drop_Outliers(col)"
   ]
  },
  {
   "cell_type": "markdown",
   "id": "0b2406bb",
   "metadata": {},
   "source": [
    "### Veiw Nan values after drop outliers"
   ]
  },
  {
   "cell_type": "code",
   "execution_count": 15,
   "id": "315c8b8e-83f8-4b10-9210-f679f69823e0",
   "metadata": {
    "scrolled": true
   },
   "outputs": [
    {
     "data": {
      "text/plain": [
       "id                                 0\n",
       "name                               0\n",
       "host_id                            0\n",
       "host_name                          0\n",
       "neighbourhood                      0\n",
       "latitude                           8\n",
       "longitude                          0\n",
       "room_type                          0\n",
       "price                             17\n",
       "minimum_nights                    53\n",
       "number_of_reviews                 32\n",
       "last_review                        0\n",
       "reviews_per_month                 16\n",
       "calculated_host_listings_count    18\n",
       "availability_365                   0\n",
       "number_of_reviews_ltm             18\n",
       "dtype: int64"
      ]
     },
     "execution_count": 15,
     "metadata": {},
     "output_type": "execute_result"
    }
   ],
   "source": [
    "data_without_outliers.isna().sum()"
   ]
  },
  {
   "cell_type": "markdown",
   "id": "07040188-ca4f-4028-a2aa-0942d05494ef",
   "metadata": {},
   "source": [
    "#### for now we will drop them "
   ]
  },
  {
   "cell_type": "code",
   "execution_count": 16,
   "id": "9880ddd1-e4e5-425e-9129-20398bb71cb9",
   "metadata": {},
   "outputs": [],
   "source": [
    "data_without_outliers = data_without_outliers.dropna()"
   ]
  },
  {
   "cell_type": "code",
   "execution_count": 17,
   "id": "bca5b030-086a-4036-91f5-aaecf7ec1d8d",
   "metadata": {
    "scrolled": true
   },
   "outputs": [
    {
     "name": "stdout",
     "output_type": "stream",
     "text": [
      "Number of unique values in column id is : 197\n",
      "Number of unique values in column name is : 197\n",
      "Number of unique values in column host_id is : 104\n",
      "Number of unique values in column host_name is : 101\n",
      "Number of unique values in column neighbourhood is : 14\n",
      "Number of unique values in column latitude is : 191\n",
      "Number of unique values in column longitude is : 192\n",
      "Number of unique values in column room_type is : 3\n",
      "Number of unique values in column price is : 82\n",
      "Number of unique values in column minimum_nights is : 3\n",
      "Number of unique values in column number_of_reviews is : 86\n",
      "Number of unique values in column last_review is : 94\n",
      "Number of unique values in column reviews_per_month is : 153\n",
      "Number of unique values in column calculated_host_listings_count is : 11\n",
      "Number of unique values in column availability_365 is : 113\n",
      "Number of unique values in column number_of_reviews_ltm is : 50\n"
     ]
    }
   ],
   "source": [
    "for col in df.columns:\n",
    "    print(f\"Number of unique values in column {col} is : {data_without_outliers[col].nunique()}\")"
   ]
  },
  {
   "cell_type": "code",
   "execution_count": 18,
   "id": "10ff1963-856c-4c43-add5-7ff67584b8b4",
   "metadata": {},
   "outputs": [
    {
     "data": {
      "application/vnd.plotly.v1+json": {
       "config": {
        "plotlyServerURL": "https://plot.ly"
       },
       "data": [
        {
         "name": "Latitude",
         "opacity": 0.75,
         "showlegend": false,
         "type": "histogram",
         "x": [
          42.64484,
          42.66063,
          42.65651,
          42.67614,
          42.65729,
          42.65312,
          42.6436,
          42.675,
          42.64939,
          42.65532,
          42.65372,
          42.66045,
          42.65501,
          42.65975,
          42.65431,
          42.65333,
          42.65403,
          42.6543083190918,
          42.65821,
          42.65746,
          42.6737,
          42.65235,
          42.6533,
          42.67519,
          42.65259,
          42.66619,
          42.66827,
          42.66403,
          42.64453,
          42.66257,
          42.66132,
          42.64454,
          42.6545,
          42.64801,
          42.64821,
          42.64713,
          42.66137,
          42.66646,
          42.65345,
          42.67156,
          42.6692,
          42.6511808672392,
          42.66261,
          42.65399,
          42.65429,
          42.65157,
          42.65888,
          42.65901,
          42.65856,
          42.65812,
          42.65269,
          42.64684,
          42.67643,
          42.65934,
          42.67044,
          42.65386,
          42.65812,
          42.65826,
          42.67004,
          42.65824,
          42.65913,
          42.674675,
          42.66261,
          42.65422,
          42.65403,
          42.64459,
          42.65578,
          42.65905,
          42.65902,
          42.6595,
          42.6598,
          42.65848,
          42.66911,
          42.652049,
          42.65353,
          42.640217,
          42.65723,
          42.64372,
          42.64528,
          42.64558,
          42.65323,
          42.65427,
          42.64595,
          42.65389,
          42.65752,
          42.65541380925019,
          42.66758,
          42.66764,
          42.6694413,
          42.65732,
          42.6623,
          42.64638,
          42.6513719,
          42.64564,
          42.6543178,
          42.64469,
          42.65569,
          42.6496,
          42.64284,
          42.66648,
          42.64439384900326,
          42.6444412,
          42.65259,
          42.65405,
          42.66117,
          42.6601,
          42.6518469,
          42.65725,
          42.65183,
          42.66298,
          42.6591503133547,
          42.6653,
          42.65489,
          42.67283,
          42.65582,
          42.6538578,
          42.65741,
          42.66958,
          42.65751,
          42.656329,
          42.656329,
          42.65588,
          42.6684126,
          42.67239,
          42.67143614564987,
          42.65258,
          42.66109,
          42.65613,
          42.66007584297136,
          42.67336,
          42.6457663,
          42.65817,
          42.66947,
          42.66128,
          42.67355,
          42.65379,
          42.6599733,
          42.66246,
          42.6628771,
          42.6573,
          42.66215778253739,
          42.66087,
          42.64787,
          42.6652959,
          42.66217,
          42.66261,
          42.6559529,
          42.65483722729842,
          42.654965911269095,
          42.67066076442359,
          42.65654925592276,
          42.658672199777634,
          42.6606,
          42.659082586070085,
          42.65846944486231,
          42.6708367,
          42.669735657513975,
          42.65801,
          42.65798404004404,
          42.67033901962889,
          42.66000843071908,
          42.6549886,
          42.65240863051438,
          42.67059398561849,
          42.65679550669701,
          42.65312775001394,
          42.66627900500492,
          42.66391565517209,
          42.65259924007496,
          42.6709773627501,
          42.65623,
          42.65761589542138,
          42.6554977755084,
          42.65483900711961,
          42.64534889999999,
          42.67002775509383,
          42.6697096084112,
          42.66873116573401,
          42.65538680270734,
          42.66996089870569,
          42.6535,
          42.64713879857583,
          42.65859808957202,
          42.65970700274541,
          42.64655138980193,
          42.66838,
          42.65487397780481,
          42.6759553661711,
          42.6736802909505,
          42.65446887973431,
          42.66106893179246,
          42.639757084309245,
          42.659886051712505,
          42.65098734769702,
          42.66311590202129,
          42.663915656143736,
          42.66943098938467
         ],
         "xaxis": "x",
         "yaxis": "y"
        },
        {
         "name": "Longitude",
         "opacity": 0.75,
         "showlegend": false,
         "type": "histogram",
         "x": [
          -73.75851,
          -73.78115,
          -73.77887,
          -73.78169,
          -73.80321,
          -73.78161,
          -73.75887,
          -73.82382,
          -73.76865,
          -73.78244,
          -73.78244,
          -73.77833,
          -73.78122,
          -73.81196,
          -73.78178,
          -73.77293,
          -73.76325,
          -73.78177642822266,
          -73.76917,
          -73.77904,
          -73.75313,
          -73.76714,
          -73.78114,
          -73.82281,
          -73.78223,
          -73.79031,
          -73.79231,
          -73.81446,
          -73.75426,
          -73.78281,
          -73.7956,
          -73.75369,
          -73.78223,
          -73.75668,
          -73.75793,
          -73.75628,
          -73.7904,
          -73.79184,
          -73.76663,
          -73.80883,
          -73.79849,
          -73.75273894471623,
          -73.78332,
          -73.78126,
          -73.75986,
          -73.76546,
          -73.74673,
          -73.74748,
          -73.74866,
          -73.74941,
          -73.76076,
          -73.75614,
          -73.82903,
          -73.76966,
          -73.82573,
          -73.75958,
          -73.74837,
          -73.76944,
          -73.82367,
          -73.80114,
          -73.74722,
          -73.822861,
          -73.79026,
          -73.76996,
          -73.77056,
          -73.75392,
          -73.78641,
          -73.77964,
          -73.7701,
          -73.76938,
          -73.76995,
          -73.76359,
          -73.79869,
          -73.7949665,
          -73.7679,
          -73.780815,
          -73.75684,
          -73.78426,
          -73.75861,
          -73.75928,
          -73.76797,
          -73.76455,
          -73.76196,
          -73.76538,
          -73.74743,
          -73.76367520540953,
          -73.7992,
          -73.79908,
          -73.79749410000001,
          -73.75676,
          -73.777,
          -73.76146,
          -73.7673156,
          -73.75261,
          -73.7818222,
          -73.761,
          -73.77685,
          -73.76792,
          -73.77997,
          -73.76831,
          -73.75975701534425,
          -73.75971410000001,
          -73.76732,
          -73.76953,
          -73.79091,
          -73.80719,
          -73.7642072,
          -73.75065,
          -73.76594,
          -73.81361,
          -73.75431932508945,
          -73.7943,
          -73.77061,
          -73.77367,
          -73.77541,
          -73.7855281,
          -73.78034,
          -73.79722,
          -73.77409,
          -73.775205,
          -73.775205,
          -73.75332,
          -73.7684199,
          -73.79418,
          -73.79032550419785,
          -73.76917,
          -73.80479,
          -73.77469,
          -73.76976949435519,
          -73.78619,
          -73.7586141,
          -73.74935,
          -73.81607,
          -73.80548,
          -73.78496,
          -73.76901,
          -73.7747433,
          -73.76576,
          -73.76534029999999,
          -73.7521,
          -73.79234533756971,
          -73.78655,
          -73.76707,
          -73.7868778,
          -73.78299,
          -73.79158,
          -73.7807478,
          -73.79149618599958,
          -73.78021704609974,
          -73.79571205018514,
          -73.77433674199318,
          -73.77478693204898,
          -73.77284,
          -73.77455698333637,
          -73.77272373106814,
          -73.7853116,
          -73.78610658197474,
          -73.80049,
          -73.80128215056936,
          -73.78509801171585,
          -73.77397295619353,
          -73.79390939999999,
          -73.77002141071337,
          -73.81678288145305,
          -73.75335661522755,
          -73.76950465142727,
          -73.76511947562057,
          -73.77786945551634,
          -73.761780139996,
          -73.80695225761066,
          -73.7641152,
          -73.75115885472674,
          -73.8106566601018,
          -73.7674333870007,
          -73.75364650000002,
          -73.7977054151877,
          -73.797549986088,
          -73.79930289371134,
          -73.76416369206528,
          -73.7981565369516,
          -73.77046,
          -73.7546608201248,
          -73.76420635863742,
          -73.76382104785372,
          -73.7597240543698,
          -73.77868,
          -73.76519868723663,
          -73.79260844002489,
          -73.78413107868002,
          -73.76077862456057,
          -73.78973060044702,
          -73.75705214104126,
          -73.7920570376047,
          -73.76307767802679,
          -73.7381032862318,
          -73.77786945551634,
          -73.79881962357733
         ],
         "xaxis": "x2",
         "yaxis": "y2"
        },
        {
         "name": "Price",
         "opacity": 0.75,
         "showlegend": false,
         "type": "histogram",
         "x": [
          190,
          199,
          56,
          53,
          62,
          70,
          169,
          196,
          126,
          85,
          70,
          69,
          55,
          75,
          55,
          100,
          89,
          55,
          75,
          56,
          95,
          119,
          55,
          39,
          50,
          110,
          95,
          45,
          117,
          145,
          119,
          97,
          79,
          120,
          122,
          140,
          100,
          92,
          125,
          79,
          95,
          109,
          147,
          45,
          88,
          109,
          115,
          120,
          115,
          85,
          88,
          125,
          40,
          100,
          120,
          88,
          115,
          119,
          88,
          175,
          150,
          160,
          75,
          100,
          100,
          125,
          99,
          79,
          110,
          100,
          100,
          115,
          89,
          100,
          113,
          120,
          129,
          130,
          120,
          115,
          149,
          97,
          99,
          130,
          115,
          118,
          75,
          75,
          141,
          99,
          115,
          90,
          113,
          91,
          45,
          80,
          130,
          82,
          131,
          101,
          145,
          145,
          50,
          110,
          75,
          65,
          107,
          100,
          110,
          60,
          105,
          185,
          102,
          104,
          122,
          87,
          55,
          126,
          127,
          122,
          127,
          89,
          103,
          99,
          50,
          85,
          55,
          157,
          120,
          175,
          85,
          78,
          79,
          55,
          175,
          89,
          67,
          45,
          45,
          104,
          100,
          189,
          155,
          110,
          197,
          72,
          33,
          115,
          44,
          77,
          122,
          184,
          184,
          184,
          184,
          45,
          35,
          135,
          105,
          50,
          115,
          129,
          89,
          100,
          108,
          125,
          120,
          114,
          87,
          99,
          110,
          154,
          143,
          83,
          191,
          50,
          50,
          50,
          95,
          50,
          73,
          65,
          120,
          119,
          100,
          102,
          91,
          155,
          60,
          91,
          114,
          90,
          150,
          125,
          105,
          102,
          51
         ],
         "xaxis": "x3",
         "yaxis": "y3"
        },
        {
         "name": "Minimum_Nights",
         "opacity": 0.75,
         "showlegend": false,
         "type": "histogram",
         "x": [
          1,
          3,
          2,
          3,
          1,
          1,
          1,
          1,
          2,
          2,
          2,
          2,
          2,
          2,
          2,
          3,
          2,
          2,
          1,
          2,
          1,
          2,
          2,
          2,
          1,
          2,
          2,
          1,
          2,
          1,
          1,
          2,
          2,
          1,
          1,
          1,
          1,
          3,
          2,
          3,
          2,
          1,
          1,
          2,
          2,
          2,
          1,
          1,
          1,
          3,
          2,
          1,
          2,
          2,
          1,
          2,
          1,
          1,
          2,
          1,
          1,
          1,
          1,
          1,
          1,
          2,
          3,
          2,
          2,
          2,
          2,
          1,
          1,
          2,
          1,
          2,
          1,
          2,
          1,
          1,
          1,
          3,
          1,
          2,
          1,
          2,
          1,
          1,
          1,
          1,
          1,
          1,
          2,
          1,
          2,
          3,
          1,
          2,
          1,
          2,
          2,
          2,
          3,
          1,
          1,
          1,
          2,
          1,
          1,
          1,
          2,
          1,
          3,
          3,
          1,
          3,
          2,
          2,
          1,
          1,
          1,
          1,
          1,
          3,
          2,
          1,
          2,
          1,
          2,
          3,
          1,
          3,
          1,
          3,
          2,
          1,
          2,
          1,
          1,
          2,
          1,
          2,
          1,
          2,
          1,
          1,
          1,
          3,
          1,
          1,
          1,
          1,
          1,
          1,
          1,
          2,
          2,
          1,
          1,
          2,
          1,
          1,
          1,
          3,
          1,
          1,
          2,
          1,
          1,
          3,
          2,
          1,
          2,
          1,
          1,
          1,
          1,
          1,
          1,
          1,
          1,
          1,
          1,
          1,
          1,
          2,
          3,
          2,
          1,
          1,
          2,
          1,
          1,
          2,
          1,
          1,
          1
         ],
         "xaxis": "x4",
         "yaxis": "y4"
        },
        {
         "name": "Number_Of_Reviews",
         "opacity": 0.75,
         "showlegend": false,
         "type": "histogram",
         "x": [
          37,
          18,
          40,
          130,
          33,
          71,
          17,
          55,
          130,
          39,
          111,
          156,
          105,
          120,
          40,
          12,
          107,
          21,
          62,
          60,
          6,
          88,
          63,
          27,
          151,
          51,
          101,
          141,
          80,
          110,
          119,
          30,
          108,
          83,
          95,
          118,
          140,
          61,
          40,
          42,
          113,
          133,
          146,
          51,
          93,
          144,
          68,
          39,
          65,
          69,
          32,
          80,
          21,
          4,
          79,
          64,
          60,
          146,
          27,
          107,
          75,
          16,
          67,
          56,
          101,
          5,
          31,
          39,
          4,
          4,
          6,
          38,
          84,
          33,
          113,
          13,
          127,
          26,
          36,
          40,
          85,
          26,
          48,
          2,
          37,
          64,
          96,
          83,
          56,
          80,
          68,
          39,
          22,
          34,
          21,
          3,
          5,
          9,
          12,
          13,
          35,
          28,
          14,
          25,
          8,
          38,
          23,
          46,
          10,
          11,
          31,
          50,
          11,
          6,
          7,
          13,
          10,
          9,
          5,
          3,
          4,
          61,
          19,
          31,
          10,
          27,
          3,
          17,
          1,
          12,
          29,
          11,
          48,
          3,
          19,
          8,
          35,
          16,
          13,
          5,
          11,
          29,
          24,
          7,
          20,
          7,
          5,
          1,
          7,
          17,
          3,
          2,
          4,
          4,
          1,
          13,
          12,
          4,
          1,
          3,
          8,
          38,
          17,
          6,
          16,
          4,
          2,
          16,
          5,
          4,
          12,
          8,
          2,
          7,
          11,
          15,
          14,
          13,
          6,
          14,
          12,
          13,
          1,
          7,
          6,
          13,
          5,
          4,
          11,
          10,
          6,
          4,
          1,
          2,
          1,
          7,
          1
         ],
         "xaxis": "x5",
         "yaxis": "y5"
        },
        {
         "name": "Reviews_Per_Month",
         "opacity": 0.75,
         "showlegend": false,
         "type": "histogram",
         "x": [
          0.4,
          0.18,
          0.48,
          1.55,
          0.4,
          1.08,
          0.21,
          0.71,
          1.79,
          0.49,
          1.45,
          2.04,
          1.4,
          1.67,
          0.61,
          0.17,
          1.57,
          0.34,
          0.93,
          0.91,
          0.09,
          1.35,
          1.01,
          0.43,
          2.66,
          0.9,
          1.95,
          2.86,
          1.9,
          2.45,
          2.76,
          0.99,
          2.61,
          2.18,
          2.5,
          3.12,
          3.38,
          1.61,
          1.06,
          1.13,
          2.95,
          3.56,
          3.9,
          1.39,
          2.95,
          4.6,
          2.03,
          1.23,
          2.07,
          2.34,
          1.04,
          2.65,
          0.76,
          0.16,
          2.68,
          2.14,
          2.07,
          5.06,
          0.96,
          4.02,
          2.74,
          0.66,
          3.15,
          2.35,
          3.82,
          0.27,
          1.74,
          1.78,
          0.16,
          0.16,
          0.24,
          1.57,
          4.09,
          2.04,
          5.03,
          0.69,
          5.7,
          1.17,
          1.68,
          1.84,
          3.95,
          1.32,
          2.48,
          0.17,
          1.84,
          3.25,
          4.75,
          4.11,
          2.88,
          4.1,
          4.65,
          2.22,
          3.46,
          2.05,
          1.26,
          0.19,
          0.34,
          0.81,
          0.76,
          1.01,
          2.76,
          2.54,
          0.97,
          1.66,
          0.51,
          2.61,
          1.57,
          3.17,
          0.69,
          0.84,
          2.31,
          3.96,
          0.84,
          0.62,
          0.9,
          1.1,
          0.74,
          0.71,
          0.68,
          0.38,
          0.5,
          4.72,
          1.4,
          2.4,
          1.36,
          2.04,
          0.24,
          1.32,
          0.16,
          1.08,
          2.57,
          1.13,
          4.39,
          0.55,
          1.88,
          0.76,
          3.51,
          1.71,
          1.31,
          0.51,
          1.23,
          3.26,
          2.7,
          0.76,
          2.48,
          0.85,
          0.71,
          0.14,
          0.86,
          2.25,
          0.39,
          0.31,
          0.77,
          0.57,
          0.21,
          1.7,
          1.55,
          0.63,
          0.14,
          1.55,
          1.17,
          5.53,
          2.6,
          1.07,
          2.91,
          0.79,
          0.42,
          2.81,
          3.06,
          0.76,
          2.4,
          1.66,
          2,
          1.48,
          2.44,
          3.49,
          3.28,
          3.1,
          1.41,
          3.47,
          3.16,
          4.06,
          0.28,
          2.1,
          2.43,
          3.9,
          1.38,
          1.28,
          3.88,
          4.23,
          2.05,
          4,
          1,
          2,
          0.83,
          5.68,
          1
         ],
         "xaxis": "x6",
         "yaxis": "y6"
        },
        {
         "name": "Calculated_Host_Listings_Count",
         "opacity": 0.75,
         "showlegend": false,
         "type": "histogram",
         "x": [
          6,
          2,
          4,
          2,
          1,
          3,
          6,
          9,
          2,
          8,
          8,
          9,
          8,
          1,
          8,
          1,
          1,
          8,
          1,
          4,
          1,
          4,
          8,
          1,
          3,
          8,
          9,
          1,
          4,
          5,
          1,
          4,
          1,
          15,
          15,
          15,
          1,
          9,
          4,
          9,
          10,
          2,
          5,
          8,
          5,
          1,
          15,
          15,
          15,
          3,
          5,
          1,
          1,
          4,
          2,
          5,
          15,
          3,
          2,
          3,
          15,
          9,
          8,
          8,
          8,
          4,
          9,
          9,
          4,
          4,
          4,
          15,
          10,
          1,
          3,
          1,
          3,
          4,
          15,
          15,
          2,
          4,
          3,
          2,
          15,
          1,
          10,
          10,
          1,
          3,
          1,
          3,
          1,
          6,
          8,
          1,
          2,
          2,
          1,
          1,
          2,
          2,
          2,
          8,
          3,
          1,
          1,
          1,
          6,
          1,
          1,
          5,
          4,
          1,
          6,
          1,
          4,
          5,
          6,
          6,
          6,
          1,
          1,
          1,
          4,
          8,
          2,
          2,
          2,
          2,
          1,
          3,
          1,
          2,
          2,
          8,
          1,
          2,
          2,
          5,
          8,
          1,
          15,
          9,
          5,
          3,
          2,
          1,
          2,
          1,
          6,
          12,
          12,
          12,
          12,
          4,
          4,
          6,
          6,
          4,
          6,
          1,
          1,
          1,
          1,
          1,
          1,
          2,
          1,
          9,
          1,
          1,
          1,
          4,
          6,
          10,
          10,
          10,
          2,
          10,
          8,
          1,
          15,
          15,
          3,
          1,
          4,
          1,
          1,
          2,
          1,
          1,
          1,
          1,
          1,
          2,
          10
         ],
         "xaxis": "x7",
         "yaxis": "y7"
        },
        {
         "name": "Availability_365",
         "opacity": 0.75,
         "showlegend": false,
         "type": "histogram",
         "x": [
          365,
          179,
          112,
          365,
          26,
          242,
          179,
          254,
          298,
          212,
          275,
          354,
          303,
          0,
          316,
          359,
          0,
          354,
          301,
          112,
          178,
          346,
          0,
          365,
          226,
          365,
          0,
          159,
          75,
          356,
          0,
          10,
          143,
          342,
          0,
          0,
          72,
          163,
          0,
          357,
          0,
          317,
          293,
          0,
          351,
          190,
          0,
          361,
          358,
          344,
          221,
          162,
          329,
          364,
          358,
          0,
          271,
          332,
          33,
          244,
          349,
          365,
          364,
          354,
          250,
          38,
          103,
          277,
          253,
          252,
          253,
          0,
          0,
          333,
          266,
          362,
          85,
          0,
          355,
          214,
          148,
          328,
          327,
          89,
          247,
          0,
          0,
          0,
          25,
          59,
          0,
          346,
          269,
          331,
          344,
          339,
          365,
          289,
          361,
          0,
          0,
          349,
          171,
          361,
          83,
          252,
          44,
          0,
          19,
          83,
          250,
          0,
          345,
          280,
          273,
          231,
          105,
          350,
          271,
          266,
          267,
          159,
          257,
          38,
          206,
          360,
          282,
          277,
          360,
          298,
          80,
          352,
          7,
          0,
          133,
          311,
          170,
          359,
          363,
          349,
          358,
          0,
          281,
          179,
          339,
          89,
          354,
          20,
          349,
          216,
          283,
          278,
          278,
          275,
          277,
          345,
          360,
          0,
          1,
          267,
          0,
          297,
          358,
          91,
          0,
          0,
          172,
          242,
          151,
          179,
          38,
          335,
          150,
          342,
          328,
          259,
          249,
          208,
          286,
          262,
          362,
          73,
          175,
          244,
          252,
          38,
          328,
          259,
          164,
          215,
          323,
          258,
          356,
          95,
          269,
          256,
          0
         ],
         "xaxis": "x8",
         "yaxis": "y8"
        },
        {
         "name": "Number_Of_Reviews_Ltm",
         "opacity": 0.75,
         "showlegend": false,
         "type": "histogram",
         "x": [
          0,
          0,
          8,
          2,
          2,
          19,
          0,
          0,
          1,
          1,
          14,
          12,
          18,
          23,
          4,
          1,
          10,
          16,
          20,
          16,
          1,
          8,
          11,
          1,
          46,
          4,
          18,
          51,
          14,
          26,
          19,
          6,
          41,
          22,
          23,
          24,
          58,
          21,
          12,
          13,
          34,
          44,
          33,
          23,
          21,
          58,
          14,
          9,
          23,
          25,
          10,
          13,
          8,
          0,
          38,
          7,
          20,
          57,
          1,
          42,
          30,
          5,
          22,
          24,
          4,
          0,
          23,
          26,
          0,
          2,
          0,
          14,
          55,
          20,
          55,
          7,
          58,
          8,
          20,
          18,
          46,
          20,
          30,
          2,
          19,
          37,
          55,
          50,
          31,
          48,
          58,
          28,
          22,
          25,
          17,
          2,
          1,
          9,
          7,
          11,
          34,
          28,
          11,
          18,
          7,
          29,
          17,
          39,
          7,
          8,
          27,
          49,
          10,
          6,
          7,
          13,
          9,
          8,
          5,
          3,
          4,
          56,
          15,
          24,
          10,
          22,
          1,
          13,
          1,
          12,
          29,
          11,
          48,
          3,
          19,
          8,
          35,
          16,
          13,
          5,
          11,
          29,
          24,
          7,
          20,
          7,
          5,
          1,
          7,
          17,
          3,
          2,
          4,
          4,
          1,
          13,
          12,
          4,
          1,
          3,
          8,
          38,
          17,
          6,
          16,
          4,
          2,
          16,
          5,
          4,
          12,
          8,
          2,
          7,
          11,
          15,
          14,
          13,
          6,
          14,
          12,
          13,
          1,
          7,
          6,
          13,
          5,
          4,
          11,
          10,
          6,
          4,
          1,
          2,
          1,
          7,
          1
         ],
         "xaxis": "x9",
         "yaxis": "y9"
        }
       ],
       "layout": {
        "annotations": [
         {
          "font": {
           "size": 16
          },
          "showarrow": false,
          "text": "Latitude",
          "x": 0.14444444444444446,
          "xanchor": "center",
          "xref": "paper",
          "y": 1,
          "yanchor": "bottom",
          "yref": "paper"
         },
         {
          "font": {
           "size": 16
          },
          "showarrow": false,
          "text": "Longitude",
          "x": 0.5,
          "xanchor": "center",
          "xref": "paper",
          "y": 1,
          "yanchor": "bottom",
          "yref": "paper"
         },
         {
          "font": {
           "size": 16
          },
          "showarrow": false,
          "text": "Price",
          "x": 0.8555555555555556,
          "xanchor": "center",
          "xref": "paper",
          "y": 1,
          "yanchor": "bottom",
          "yref": "paper"
         },
         {
          "font": {
           "size": 16
          },
          "showarrow": false,
          "text": "Minimum_Nights",
          "x": 0.14444444444444446,
          "xanchor": "center",
          "xref": "paper",
          "y": 0.6111111111111112,
          "yanchor": "bottom",
          "yref": "paper"
         },
         {
          "font": {
           "size": 16
          },
          "showarrow": false,
          "text": "Number_Of_Reviews",
          "x": 0.5,
          "xanchor": "center",
          "xref": "paper",
          "y": 0.6111111111111112,
          "yanchor": "bottom",
          "yref": "paper"
         },
         {
          "font": {
           "size": 16
          },
          "showarrow": false,
          "text": "Reviews_Per_Month",
          "x": 0.8555555555555556,
          "xanchor": "center",
          "xref": "paper",
          "y": 0.6111111111111112,
          "yanchor": "bottom",
          "yref": "paper"
         },
         {
          "font": {
           "size": 16
          },
          "showarrow": false,
          "text": "Calculated_Host_Listings_Count",
          "x": 0.14444444444444446,
          "xanchor": "center",
          "xref": "paper",
          "y": 0.22222222222222224,
          "yanchor": "bottom",
          "yref": "paper"
         },
         {
          "font": {
           "size": 16
          },
          "showarrow": false,
          "text": "Availability_365",
          "x": 0.5,
          "xanchor": "center",
          "xref": "paper",
          "y": 0.22222222222222224,
          "yanchor": "bottom",
          "yref": "paper"
         },
         {
          "font": {
           "size": 16
          },
          "showarrow": false,
          "text": "Number_Of_Reviews_Ltm",
          "x": 0.8555555555555556,
          "xanchor": "center",
          "xref": "paper",
          "y": 0.22222222222222224,
          "yanchor": "bottom",
          "yref": "paper"
         }
        ],
        "font": {
         "color": "#909497",
         "size": 18
        },
        "height": 1000,
        "hovermode": "closest",
        "margin": {
         "b": 80,
         "l": 120,
         "r": 80,
         "t": 100
        },
        "plot_bgcolor": "white",
        "template": {
         "data": {
          "bar": [
           {
            "error_x": {
             "color": "#2a3f5f"
            },
            "error_y": {
             "color": "#2a3f5f"
            },
            "marker": {
             "line": {
              "color": "#E5ECF6",
              "width": 0.5
             },
             "pattern": {
              "fillmode": "overlay",
              "size": 10,
              "solidity": 0.2
             }
            },
            "type": "bar"
           }
          ],
          "barpolar": [
           {
            "marker": {
             "line": {
              "color": "#E5ECF6",
              "width": 0.5
             },
             "pattern": {
              "fillmode": "overlay",
              "size": 10,
              "solidity": 0.2
             }
            },
            "type": "barpolar"
           }
          ],
          "carpet": [
           {
            "aaxis": {
             "endlinecolor": "#2a3f5f",
             "gridcolor": "white",
             "linecolor": "white",
             "minorgridcolor": "white",
             "startlinecolor": "#2a3f5f"
            },
            "baxis": {
             "endlinecolor": "#2a3f5f",
             "gridcolor": "white",
             "linecolor": "white",
             "minorgridcolor": "white",
             "startlinecolor": "#2a3f5f"
            },
            "type": "carpet"
           }
          ],
          "choropleth": [
           {
            "colorbar": {
             "outlinewidth": 0,
             "ticks": ""
            },
            "type": "choropleth"
           }
          ],
          "contour": [
           {
            "colorbar": {
             "outlinewidth": 0,
             "ticks": ""
            },
            "colorscale": [
             [
              0,
              "#0d0887"
             ],
             [
              0.1111111111111111,
              "#46039f"
             ],
             [
              0.2222222222222222,
              "#7201a8"
             ],
             [
              0.3333333333333333,
              "#9c179e"
             ],
             [
              0.4444444444444444,
              "#bd3786"
             ],
             [
              0.5555555555555556,
              "#d8576b"
             ],
             [
              0.6666666666666666,
              "#ed7953"
             ],
             [
              0.7777777777777778,
              "#fb9f3a"
             ],
             [
              0.8888888888888888,
              "#fdca26"
             ],
             [
              1,
              "#f0f921"
             ]
            ],
            "type": "contour"
           }
          ],
          "contourcarpet": [
           {
            "colorbar": {
             "outlinewidth": 0,
             "ticks": ""
            },
            "type": "contourcarpet"
           }
          ],
          "heatmap": [
           {
            "colorbar": {
             "outlinewidth": 0,
             "ticks": ""
            },
            "colorscale": [
             [
              0,
              "#0d0887"
             ],
             [
              0.1111111111111111,
              "#46039f"
             ],
             [
              0.2222222222222222,
              "#7201a8"
             ],
             [
              0.3333333333333333,
              "#9c179e"
             ],
             [
              0.4444444444444444,
              "#bd3786"
             ],
             [
              0.5555555555555556,
              "#d8576b"
             ],
             [
              0.6666666666666666,
              "#ed7953"
             ],
             [
              0.7777777777777778,
              "#fb9f3a"
             ],
             [
              0.8888888888888888,
              "#fdca26"
             ],
             [
              1,
              "#f0f921"
             ]
            ],
            "type": "heatmap"
           }
          ],
          "heatmapgl": [
           {
            "colorbar": {
             "outlinewidth": 0,
             "ticks": ""
            },
            "colorscale": [
             [
              0,
              "#0d0887"
             ],
             [
              0.1111111111111111,
              "#46039f"
             ],
             [
              0.2222222222222222,
              "#7201a8"
             ],
             [
              0.3333333333333333,
              "#9c179e"
             ],
             [
              0.4444444444444444,
              "#bd3786"
             ],
             [
              0.5555555555555556,
              "#d8576b"
             ],
             [
              0.6666666666666666,
              "#ed7953"
             ],
             [
              0.7777777777777778,
              "#fb9f3a"
             ],
             [
              0.8888888888888888,
              "#fdca26"
             ],
             [
              1,
              "#f0f921"
             ]
            ],
            "type": "heatmapgl"
           }
          ],
          "histogram": [
           {
            "marker": {
             "pattern": {
              "fillmode": "overlay",
              "size": 10,
              "solidity": 0.2
             }
            },
            "type": "histogram"
           }
          ],
          "histogram2d": [
           {
            "colorbar": {
             "outlinewidth": 0,
             "ticks": ""
            },
            "colorscale": [
             [
              0,
              "#0d0887"
             ],
             [
              0.1111111111111111,
              "#46039f"
             ],
             [
              0.2222222222222222,
              "#7201a8"
             ],
             [
              0.3333333333333333,
              "#9c179e"
             ],
             [
              0.4444444444444444,
              "#bd3786"
             ],
             [
              0.5555555555555556,
              "#d8576b"
             ],
             [
              0.6666666666666666,
              "#ed7953"
             ],
             [
              0.7777777777777778,
              "#fb9f3a"
             ],
             [
              0.8888888888888888,
              "#fdca26"
             ],
             [
              1,
              "#f0f921"
             ]
            ],
            "type": "histogram2d"
           }
          ],
          "histogram2dcontour": [
           {
            "colorbar": {
             "outlinewidth": 0,
             "ticks": ""
            },
            "colorscale": [
             [
              0,
              "#0d0887"
             ],
             [
              0.1111111111111111,
              "#46039f"
             ],
             [
              0.2222222222222222,
              "#7201a8"
             ],
             [
              0.3333333333333333,
              "#9c179e"
             ],
             [
              0.4444444444444444,
              "#bd3786"
             ],
             [
              0.5555555555555556,
              "#d8576b"
             ],
             [
              0.6666666666666666,
              "#ed7953"
             ],
             [
              0.7777777777777778,
              "#fb9f3a"
             ],
             [
              0.8888888888888888,
              "#fdca26"
             ],
             [
              1,
              "#f0f921"
             ]
            ],
            "type": "histogram2dcontour"
           }
          ],
          "mesh3d": [
           {
            "colorbar": {
             "outlinewidth": 0,
             "ticks": ""
            },
            "type": "mesh3d"
           }
          ],
          "parcoords": [
           {
            "line": {
             "colorbar": {
              "outlinewidth": 0,
              "ticks": ""
             }
            },
            "type": "parcoords"
           }
          ],
          "pie": [
           {
            "automargin": true,
            "type": "pie"
           }
          ],
          "scatter": [
           {
            "fillpattern": {
             "fillmode": "overlay",
             "size": 10,
             "solidity": 0.2
            },
            "type": "scatter"
           }
          ],
          "scatter3d": [
           {
            "line": {
             "colorbar": {
              "outlinewidth": 0,
              "ticks": ""
             }
            },
            "marker": {
             "colorbar": {
              "outlinewidth": 0,
              "ticks": ""
             }
            },
            "type": "scatter3d"
           }
          ],
          "scattercarpet": [
           {
            "marker": {
             "colorbar": {
              "outlinewidth": 0,
              "ticks": ""
             }
            },
            "type": "scattercarpet"
           }
          ],
          "scattergeo": [
           {
            "marker": {
             "colorbar": {
              "outlinewidth": 0,
              "ticks": ""
             }
            },
            "type": "scattergeo"
           }
          ],
          "scattergl": [
           {
            "marker": {
             "colorbar": {
              "outlinewidth": 0,
              "ticks": ""
             }
            },
            "type": "scattergl"
           }
          ],
          "scattermapbox": [
           {
            "marker": {
             "colorbar": {
              "outlinewidth": 0,
              "ticks": ""
             }
            },
            "type": "scattermapbox"
           }
          ],
          "scatterpolar": [
           {
            "marker": {
             "colorbar": {
              "outlinewidth": 0,
              "ticks": ""
             }
            },
            "type": "scatterpolar"
           }
          ],
          "scatterpolargl": [
           {
            "marker": {
             "colorbar": {
              "outlinewidth": 0,
              "ticks": ""
             }
            },
            "type": "scatterpolargl"
           }
          ],
          "scatterternary": [
           {
            "marker": {
             "colorbar": {
              "outlinewidth": 0,
              "ticks": ""
             }
            },
            "type": "scatterternary"
           }
          ],
          "surface": [
           {
            "colorbar": {
             "outlinewidth": 0,
             "ticks": ""
            },
            "colorscale": [
             [
              0,
              "#0d0887"
             ],
             [
              0.1111111111111111,
              "#46039f"
             ],
             [
              0.2222222222222222,
              "#7201a8"
             ],
             [
              0.3333333333333333,
              "#9c179e"
             ],
             [
              0.4444444444444444,
              "#bd3786"
             ],
             [
              0.5555555555555556,
              "#d8576b"
             ],
             [
              0.6666666666666666,
              "#ed7953"
             ],
             [
              0.7777777777777778,
              "#fb9f3a"
             ],
             [
              0.8888888888888888,
              "#fdca26"
             ],
             [
              1,
              "#f0f921"
             ]
            ],
            "type": "surface"
           }
          ],
          "table": [
           {
            "cells": {
             "fill": {
              "color": "#EBF0F8"
             },
             "line": {
              "color": "white"
             }
            },
            "header": {
             "fill": {
              "color": "#C8D4E3"
             },
             "line": {
              "color": "white"
             }
            },
            "type": "table"
           }
          ]
         },
         "layout": {
          "annotationdefaults": {
           "arrowcolor": "#2a3f5f",
           "arrowhead": 0,
           "arrowwidth": 1
          },
          "autotypenumbers": "strict",
          "coloraxis": {
           "colorbar": {
            "outlinewidth": 0,
            "ticks": ""
           }
          },
          "colorscale": {
           "diverging": [
            [
             0,
             "#8e0152"
            ],
            [
             0.1,
             "#c51b7d"
            ],
            [
             0.2,
             "#de77ae"
            ],
            [
             0.3,
             "#f1b6da"
            ],
            [
             0.4,
             "#fde0ef"
            ],
            [
             0.5,
             "#f7f7f7"
            ],
            [
             0.6,
             "#e6f5d0"
            ],
            [
             0.7,
             "#b8e186"
            ],
            [
             0.8,
             "#7fbc41"
            ],
            [
             0.9,
             "#4d9221"
            ],
            [
             1,
             "#276419"
            ]
           ],
           "sequential": [
            [
             0,
             "#0d0887"
            ],
            [
             0.1111111111111111,
             "#46039f"
            ],
            [
             0.2222222222222222,
             "#7201a8"
            ],
            [
             0.3333333333333333,
             "#9c179e"
            ],
            [
             0.4444444444444444,
             "#bd3786"
            ],
            [
             0.5555555555555556,
             "#d8576b"
            ],
            [
             0.6666666666666666,
             "#ed7953"
            ],
            [
             0.7777777777777778,
             "#fb9f3a"
            ],
            [
             0.8888888888888888,
             "#fdca26"
            ],
            [
             1,
             "#f0f921"
            ]
           ],
           "sequentialminus": [
            [
             0,
             "#0d0887"
            ],
            [
             0.1111111111111111,
             "#46039f"
            ],
            [
             0.2222222222222222,
             "#7201a8"
            ],
            [
             0.3333333333333333,
             "#9c179e"
            ],
            [
             0.4444444444444444,
             "#bd3786"
            ],
            [
             0.5555555555555556,
             "#d8576b"
            ],
            [
             0.6666666666666666,
             "#ed7953"
            ],
            [
             0.7777777777777778,
             "#fb9f3a"
            ],
            [
             0.8888888888888888,
             "#fdca26"
            ],
            [
             1,
             "#f0f921"
            ]
           ]
          },
          "colorway": [
           "#636efa",
           "#EF553B",
           "#00cc96",
           "#ab63fa",
           "#FFA15A",
           "#19d3f3",
           "#FF6692",
           "#B6E880",
           "#FF97FF",
           "#FECB52"
          ],
          "font": {
           "color": "#2a3f5f"
          },
          "geo": {
           "bgcolor": "white",
           "lakecolor": "white",
           "landcolor": "#E5ECF6",
           "showlakes": true,
           "showland": true,
           "subunitcolor": "white"
          },
          "hoverlabel": {
           "align": "left"
          },
          "hovermode": "closest",
          "mapbox": {
           "style": "light"
          },
          "paper_bgcolor": "white",
          "plot_bgcolor": "#E5ECF6",
          "polar": {
           "angularaxis": {
            "gridcolor": "white",
            "linecolor": "white",
            "ticks": ""
           },
           "bgcolor": "#E5ECF6",
           "radialaxis": {
            "gridcolor": "white",
            "linecolor": "white",
            "ticks": ""
           }
          },
          "scene": {
           "xaxis": {
            "backgroundcolor": "#E5ECF6",
            "gridcolor": "white",
            "gridwidth": 2,
            "linecolor": "white",
            "showbackground": true,
            "ticks": "",
            "zerolinecolor": "white"
           },
           "yaxis": {
            "backgroundcolor": "#E5ECF6",
            "gridcolor": "white",
            "gridwidth": 2,
            "linecolor": "white",
            "showbackground": true,
            "ticks": "",
            "zerolinecolor": "white"
           },
           "zaxis": {
            "backgroundcolor": "#E5ECF6",
            "gridcolor": "white",
            "gridwidth": 2,
            "linecolor": "white",
            "showbackground": true,
            "ticks": "",
            "zerolinecolor": "white"
           }
          },
          "shapedefaults": {
           "line": {
            "color": "#2a3f5f"
           }
          },
          "ternary": {
           "aaxis": {
            "gridcolor": "white",
            "linecolor": "white",
            "ticks": ""
           },
           "baxis": {
            "gridcolor": "white",
            "linecolor": "white",
            "ticks": ""
           },
           "bgcolor": "#E5ECF6",
           "caxis": {
            "gridcolor": "white",
            "linecolor": "white",
            "ticks": ""
           }
          },
          "title": {
           "x": 0.05
          },
          "xaxis": {
           "automargin": true,
           "gridcolor": "white",
           "linecolor": "white",
           "ticks": "",
           "title": {
            "standoff": 15
           },
           "zerolinecolor": "white",
           "zerolinewidth": 2
          },
          "yaxis": {
           "automargin": true,
           "gridcolor": "white",
           "linecolor": "white",
           "ticks": "",
           "title": {
            "standoff": 15
           },
           "zerolinecolor": "white",
           "zerolinewidth": 2
          }
         }
        },
        "title": {
         "font": {
          "size": 26
         },
         "text": "All Numerical Columns"
        },
        "width": 900,
        "xaxis": {
         "anchor": "y",
         "domain": [
          0,
          0.2888888888888889
         ]
        },
        "xaxis2": {
         "anchor": "y2",
         "domain": [
          0.35555555555555557,
          0.6444444444444445
         ]
        },
        "xaxis3": {
         "anchor": "y3",
         "domain": [
          0.7111111111111111,
          1
         ]
        },
        "xaxis4": {
         "anchor": "y4",
         "domain": [
          0,
          0.2888888888888889
         ]
        },
        "xaxis5": {
         "anchor": "y5",
         "domain": [
          0.35555555555555557,
          0.6444444444444445
         ]
        },
        "xaxis6": {
         "anchor": "y6",
         "domain": [
          0.7111111111111111,
          1
         ]
        },
        "xaxis7": {
         "anchor": "y7",
         "domain": [
          0,
          0.2888888888888889
         ]
        },
        "xaxis8": {
         "anchor": "y8",
         "domain": [
          0.35555555555555557,
          0.6444444444444445
         ]
        },
        "xaxis9": {
         "anchor": "y9",
         "domain": [
          0.7111111111111111,
          1
         ]
        },
        "yaxis": {
         "anchor": "x",
         "domain": [
          0.7777777777777778,
          1
         ]
        },
        "yaxis2": {
         "anchor": "x2",
         "domain": [
          0.7777777777777778,
          1
         ]
        },
        "yaxis3": {
         "anchor": "x3",
         "domain": [
          0.7777777777777778,
          1
         ]
        },
        "yaxis4": {
         "anchor": "x4",
         "domain": [
          0.3888888888888889,
          0.6111111111111112
         ]
        },
        "yaxis5": {
         "anchor": "x5",
         "domain": [
          0.3888888888888889,
          0.6111111111111112
         ]
        },
        "yaxis6": {
         "anchor": "x6",
         "domain": [
          0.3888888888888889,
          0.6111111111111112
         ]
        },
        "yaxis7": {
         "anchor": "x7",
         "domain": [
          0,
          0.22222222222222224
         ]
        },
        "yaxis8": {
         "anchor": "x8",
         "domain": [
          0,
          0.22222222222222224
         ]
        },
        "yaxis9": {
         "anchor": "x9",
         "domain": [
          0,
          0.22222222222222224
         ]
        }
       }
      },
      "text/html": [
       "<div>                            <div id=\"97a78126-aeac-4c81-b8d8-9154c32c8a1a\" class=\"plotly-graph-div\" style=\"height:1000px; width:900px;\"></div>            <script type=\"text/javascript\">                require([\"plotly\"], function(Plotly) {                    window.PLOTLYENV=window.PLOTLYENV || {};                                    if (document.getElementById(\"97a78126-aeac-4c81-b8d8-9154c32c8a1a\")) {                    Plotly.newPlot(                        \"97a78126-aeac-4c81-b8d8-9154c32c8a1a\",                        [{\"name\":\"Latitude\",\"opacity\":0.75,\"showlegend\":false,\"x\":[42.64484,42.66063,42.65651,42.67614,42.65729,42.65312,42.6436,42.675,42.64939,42.65532,42.65372,42.66045,42.65501,42.65975,42.65431,42.65333,42.65403,42.6543083190918,42.65821,42.65746,42.6737,42.65235,42.6533,42.67519,42.65259,42.66619,42.66827,42.66403,42.64453,42.66257,42.66132,42.64454,42.6545,42.64801,42.64821,42.64713,42.66137,42.66646,42.65345,42.67156,42.6692,42.6511808672392,42.66261,42.65399,42.65429,42.65157,42.65888,42.65901,42.65856,42.65812,42.65269,42.64684,42.67643,42.65934,42.67044,42.65386,42.65812,42.65826,42.67004,42.65824,42.65913,42.674675,42.66261,42.65422,42.65403,42.64459,42.65578,42.65905,42.65902,42.6595,42.6598,42.65848,42.66911,42.652049,42.65353,42.640217,42.65723,42.64372,42.64528,42.64558,42.65323,42.65427,42.64595,42.65389,42.65752,42.65541380925019,42.66758,42.66764,42.6694413,42.65732,42.6623,42.64638,42.6513719,42.64564,42.6543178,42.64469,42.65569,42.6496,42.64284,42.66648,42.64439384900326,42.6444412,42.65259,42.65405,42.66117,42.6601,42.6518469,42.65725,42.65183,42.66298,42.6591503133547,42.6653,42.65489,42.67283,42.65582,42.6538578,42.65741,42.66958,42.65751,42.656329,42.656329,42.65588,42.6684126,42.67239,42.67143614564987,42.65258,42.66109,42.65613,42.66007584297136,42.67336,42.6457663,42.65817,42.66947,42.66128,42.67355,42.65379,42.6599733,42.66246,42.6628771,42.6573,42.66215778253739,42.66087,42.64787,42.6652959,42.66217,42.66261,42.6559529,42.65483722729842,42.654965911269095,42.67066076442359,42.65654925592276,42.658672199777634,42.6606,42.659082586070085,42.65846944486231,42.6708367,42.669735657513975,42.65801,42.65798404004404,42.67033901962889,42.66000843071908,42.6549886,42.65240863051438,42.67059398561849,42.65679550669701,42.65312775001394,42.66627900500492,42.66391565517209,42.65259924007496,42.6709773627501,42.65623,42.65761589542138,42.6554977755084,42.65483900711961,42.64534889999999,42.67002775509383,42.6697096084112,42.66873116573401,42.65538680270734,42.66996089870569,42.6535,42.64713879857583,42.65859808957202,42.65970700274541,42.64655138980193,42.66838,42.65487397780481,42.6759553661711,42.6736802909505,42.65446887973431,42.66106893179246,42.639757084309245,42.659886051712505,42.65098734769702,42.66311590202129,42.663915656143736,42.66943098938467],\"type\":\"histogram\",\"xaxis\":\"x\",\"yaxis\":\"y\"},{\"name\":\"Longitude\",\"opacity\":0.75,\"showlegend\":false,\"x\":[-73.75851,-73.78115,-73.77887,-73.78169,-73.80321,-73.78161,-73.75887,-73.82382,-73.76865,-73.78244,-73.78244,-73.77833,-73.78122,-73.81196,-73.78178,-73.77293,-73.76325,-73.78177642822266,-73.76917,-73.77904,-73.75313,-73.76714,-73.78114,-73.82281,-73.78223,-73.79031,-73.79231,-73.81446,-73.75426,-73.78281,-73.7956,-73.75369,-73.78223,-73.75668,-73.75793,-73.75628,-73.7904,-73.79184,-73.76663,-73.80883,-73.79849,-73.75273894471623,-73.78332,-73.78126,-73.75986,-73.76546,-73.74673,-73.74748,-73.74866,-73.74941,-73.76076,-73.75614,-73.82903,-73.76966,-73.82573,-73.75958,-73.74837,-73.76944,-73.82367,-73.80114,-73.74722,-73.822861,-73.79026,-73.76996,-73.77056,-73.75392,-73.78641,-73.77964,-73.7701,-73.76938,-73.76995,-73.76359,-73.79869,-73.7949665,-73.7679,-73.780815,-73.75684,-73.78426,-73.75861,-73.75928,-73.76797,-73.76455,-73.76196,-73.76538,-73.74743,-73.76367520540953,-73.7992,-73.79908,-73.79749410000001,-73.75676,-73.777,-73.76146,-73.7673156,-73.75261,-73.7818222,-73.761,-73.77685,-73.76792,-73.77997,-73.76831,-73.75975701534425,-73.75971410000001,-73.76732,-73.76953,-73.79091,-73.80719,-73.7642072,-73.75065,-73.76594,-73.81361,-73.75431932508945,-73.7943,-73.77061,-73.77367,-73.77541,-73.7855281,-73.78034,-73.79722,-73.77409,-73.775205,-73.775205,-73.75332,-73.7684199,-73.79418,-73.79032550419785,-73.76917,-73.80479,-73.77469,-73.76976949435519,-73.78619,-73.7586141,-73.74935,-73.81607,-73.80548,-73.78496,-73.76901,-73.7747433,-73.76576,-73.76534029999999,-73.7521,-73.79234533756971,-73.78655,-73.76707,-73.7868778,-73.78299,-73.79158,-73.7807478,-73.79149618599958,-73.78021704609974,-73.79571205018514,-73.77433674199318,-73.77478693204898,-73.77284,-73.77455698333637,-73.77272373106814,-73.7853116,-73.78610658197474,-73.80049,-73.80128215056936,-73.78509801171585,-73.77397295619353,-73.79390939999999,-73.77002141071337,-73.81678288145305,-73.75335661522755,-73.76950465142727,-73.76511947562057,-73.77786945551634,-73.761780139996,-73.80695225761066,-73.7641152,-73.75115885472674,-73.8106566601018,-73.7674333870007,-73.75364650000002,-73.7977054151877,-73.797549986088,-73.79930289371134,-73.76416369206528,-73.7981565369516,-73.77046,-73.7546608201248,-73.76420635863742,-73.76382104785372,-73.7597240543698,-73.77868,-73.76519868723663,-73.79260844002489,-73.78413107868002,-73.76077862456057,-73.78973060044702,-73.75705214104126,-73.7920570376047,-73.76307767802679,-73.7381032862318,-73.77786945551634,-73.79881962357733],\"type\":\"histogram\",\"xaxis\":\"x2\",\"yaxis\":\"y2\"},{\"name\":\"Price\",\"opacity\":0.75,\"showlegend\":false,\"x\":[190.0,199.0,56.0,53.0,62.0,70.0,169.0,196.0,126.0,85.0,70.0,69.0,55.0,75.0,55.0,100.0,89.0,55.0,75.0,56.0,95.0,119.0,55.0,39.0,50.0,110.0,95.0,45.0,117.0,145.0,119.0,97.0,79.0,120.0,122.0,140.0,100.0,92.0,125.0,79.0,95.0,109.0,147.0,45.0,88.0,109.0,115.0,120.0,115.0,85.0,88.0,125.0,40.0,100.0,120.0,88.0,115.0,119.0,88.0,175.0,150.0,160.0,75.0,100.0,100.0,125.0,99.0,79.0,110.0,100.0,100.0,115.0,89.0,100.0,113.0,120.0,129.0,130.0,120.0,115.0,149.0,97.0,99.0,130.0,115.0,118.0,75.0,75.0,141.0,99.0,115.0,90.0,113.0,91.0,45.0,80.0,130.0,82.0,131.0,101.0,145.0,145.0,50.0,110.0,75.0,65.0,107.0,100.0,110.0,60.0,105.0,185.0,102.0,104.0,122.0,87.0,55.0,126.0,127.0,122.0,127.0,89.0,103.0,99.0,50.0,85.0,55.0,157.0,120.0,175.0,85.0,78.0,79.0,55.0,175.0,89.0,67.0,45.0,45.0,104.0,100.0,189.0,155.0,110.0,197.0,72.0,33.0,115.0,44.0,77.0,122.0,184.0,184.0,184.0,184.0,45.0,35.0,135.0,105.0,50.0,115.0,129.0,89.0,100.0,108.0,125.0,120.0,114.0,87.0,99.0,110.0,154.0,143.0,83.0,191.0,50.0,50.0,50.0,95.0,50.0,73.0,65.0,120.0,119.0,100.0,102.0,91.0,155.0,60.0,91.0,114.0,90.0,150.0,125.0,105.0,102.0,51.0],\"type\":\"histogram\",\"xaxis\":\"x3\",\"yaxis\":\"y3\"},{\"name\":\"Minimum_Nights\",\"opacity\":0.75,\"showlegend\":false,\"x\":[1.0,3.0,2.0,3.0,1.0,1.0,1.0,1.0,2.0,2.0,2.0,2.0,2.0,2.0,2.0,3.0,2.0,2.0,1.0,2.0,1.0,2.0,2.0,2.0,1.0,2.0,2.0,1.0,2.0,1.0,1.0,2.0,2.0,1.0,1.0,1.0,1.0,3.0,2.0,3.0,2.0,1.0,1.0,2.0,2.0,2.0,1.0,1.0,1.0,3.0,2.0,1.0,2.0,2.0,1.0,2.0,1.0,1.0,2.0,1.0,1.0,1.0,1.0,1.0,1.0,2.0,3.0,2.0,2.0,2.0,2.0,1.0,1.0,2.0,1.0,2.0,1.0,2.0,1.0,1.0,1.0,3.0,1.0,2.0,1.0,2.0,1.0,1.0,1.0,1.0,1.0,1.0,2.0,1.0,2.0,3.0,1.0,2.0,1.0,2.0,2.0,2.0,3.0,1.0,1.0,1.0,2.0,1.0,1.0,1.0,2.0,1.0,3.0,3.0,1.0,3.0,2.0,2.0,1.0,1.0,1.0,1.0,1.0,3.0,2.0,1.0,2.0,1.0,2.0,3.0,1.0,3.0,1.0,3.0,2.0,1.0,2.0,1.0,1.0,2.0,1.0,2.0,1.0,2.0,1.0,1.0,1.0,3.0,1.0,1.0,1.0,1.0,1.0,1.0,1.0,2.0,2.0,1.0,1.0,2.0,1.0,1.0,1.0,3.0,1.0,1.0,2.0,1.0,1.0,3.0,2.0,1.0,2.0,1.0,1.0,1.0,1.0,1.0,1.0,1.0,1.0,1.0,1.0,1.0,1.0,2.0,3.0,2.0,1.0,1.0,2.0,1.0,1.0,2.0,1.0,1.0,1.0],\"type\":\"histogram\",\"xaxis\":\"x4\",\"yaxis\":\"y4\"},{\"name\":\"Number_Of_Reviews\",\"opacity\":0.75,\"showlegend\":false,\"x\":[37.0,18.0,40.0,130.0,33.0,71.0,17.0,55.0,130.0,39.0,111.0,156.0,105.0,120.0,40.0,12.0,107.0,21.0,62.0,60.0,6.0,88.0,63.0,27.0,151.0,51.0,101.0,141.0,80.0,110.0,119.0,30.0,108.0,83.0,95.0,118.0,140.0,61.0,40.0,42.0,113.0,133.0,146.0,51.0,93.0,144.0,68.0,39.0,65.0,69.0,32.0,80.0,21.0,4.0,79.0,64.0,60.0,146.0,27.0,107.0,75.0,16.0,67.0,56.0,101.0,5.0,31.0,39.0,4.0,4.0,6.0,38.0,84.0,33.0,113.0,13.0,127.0,26.0,36.0,40.0,85.0,26.0,48.0,2.0,37.0,64.0,96.0,83.0,56.0,80.0,68.0,39.0,22.0,34.0,21.0,3.0,5.0,9.0,12.0,13.0,35.0,28.0,14.0,25.0,8.0,38.0,23.0,46.0,10.0,11.0,31.0,50.0,11.0,6.0,7.0,13.0,10.0,9.0,5.0,3.0,4.0,61.0,19.0,31.0,10.0,27.0,3.0,17.0,1.0,12.0,29.0,11.0,48.0,3.0,19.0,8.0,35.0,16.0,13.0,5.0,11.0,29.0,24.0,7.0,20.0,7.0,5.0,1.0,7.0,17.0,3.0,2.0,4.0,4.0,1.0,13.0,12.0,4.0,1.0,3.0,8.0,38.0,17.0,6.0,16.0,4.0,2.0,16.0,5.0,4.0,12.0,8.0,2.0,7.0,11.0,15.0,14.0,13.0,6.0,14.0,12.0,13.0,1.0,7.0,6.0,13.0,5.0,4.0,11.0,10.0,6.0,4.0,1.0,2.0,1.0,7.0,1.0],\"type\":\"histogram\",\"xaxis\":\"x5\",\"yaxis\":\"y5\"},{\"name\":\"Reviews_Per_Month\",\"opacity\":0.75,\"showlegend\":false,\"x\":[0.4,0.18,0.48,1.55,0.4,1.08,0.21,0.71,1.79,0.49,1.45,2.04,1.4,1.67,0.61,0.17,1.57,0.34,0.93,0.91,0.09,1.35,1.01,0.43,2.66,0.9,1.95,2.86,1.9,2.45,2.76,0.99,2.61,2.18,2.5,3.12,3.38,1.61,1.06,1.13,2.95,3.56,3.9,1.39,2.95,4.6,2.03,1.23,2.07,2.34,1.04,2.65,0.76,0.16,2.68,2.14,2.07,5.06,0.96,4.02,2.74,0.66,3.15,2.35,3.82,0.27,1.74,1.78,0.16,0.16,0.24,1.57,4.09,2.04,5.03,0.69,5.7,1.17,1.68,1.84,3.95,1.32,2.48,0.17,1.84,3.25,4.75,4.11,2.88,4.1,4.65,2.22,3.46,2.05,1.26,0.19,0.34,0.81,0.76,1.01,2.76,2.54,0.97,1.66,0.51,2.61,1.57,3.17,0.69,0.84,2.31,3.96,0.84,0.62,0.9,1.1,0.74,0.71,0.68,0.38,0.5,4.72,1.4,2.4,1.36,2.04,0.24,1.32,0.16,1.08,2.57,1.13,4.39,0.55,1.88,0.76,3.51,1.71,1.31,0.51,1.23,3.26,2.7,0.76,2.48,0.85,0.71,0.14,0.86,2.25,0.39,0.31,0.77,0.57,0.21,1.7,1.55,0.63,0.14,1.55,1.17,5.53,2.6,1.07,2.91,0.79,0.42,2.81,3.06,0.76,2.4,1.66,2.0,1.48,2.44,3.49,3.28,3.1,1.41,3.47,3.16,4.06,0.28,2.1,2.43,3.9,1.38,1.28,3.88,4.23,2.05,4.0,1.0,2.0,0.83,5.68,1.0],\"type\":\"histogram\",\"xaxis\":\"x6\",\"yaxis\":\"y6\"},{\"name\":\"Calculated_Host_Listings_Count\",\"opacity\":0.75,\"showlegend\":false,\"x\":[6.0,2.0,4.0,2.0,1.0,3.0,6.0,9.0,2.0,8.0,8.0,9.0,8.0,1.0,8.0,1.0,1.0,8.0,1.0,4.0,1.0,4.0,8.0,1.0,3.0,8.0,9.0,1.0,4.0,5.0,1.0,4.0,1.0,15.0,15.0,15.0,1.0,9.0,4.0,9.0,10.0,2.0,5.0,8.0,5.0,1.0,15.0,15.0,15.0,3.0,5.0,1.0,1.0,4.0,2.0,5.0,15.0,3.0,2.0,3.0,15.0,9.0,8.0,8.0,8.0,4.0,9.0,9.0,4.0,4.0,4.0,15.0,10.0,1.0,3.0,1.0,3.0,4.0,15.0,15.0,2.0,4.0,3.0,2.0,15.0,1.0,10.0,10.0,1.0,3.0,1.0,3.0,1.0,6.0,8.0,1.0,2.0,2.0,1.0,1.0,2.0,2.0,2.0,8.0,3.0,1.0,1.0,1.0,6.0,1.0,1.0,5.0,4.0,1.0,6.0,1.0,4.0,5.0,6.0,6.0,6.0,1.0,1.0,1.0,4.0,8.0,2.0,2.0,2.0,2.0,1.0,3.0,1.0,2.0,2.0,8.0,1.0,2.0,2.0,5.0,8.0,1.0,15.0,9.0,5.0,3.0,2.0,1.0,2.0,1.0,6.0,12.0,12.0,12.0,12.0,4.0,4.0,6.0,6.0,4.0,6.0,1.0,1.0,1.0,1.0,1.0,1.0,2.0,1.0,9.0,1.0,1.0,1.0,4.0,6.0,10.0,10.0,10.0,2.0,10.0,8.0,1.0,15.0,15.0,3.0,1.0,4.0,1.0,1.0,2.0,1.0,1.0,1.0,1.0,1.0,2.0,10.0],\"type\":\"histogram\",\"xaxis\":\"x7\",\"yaxis\":\"y7\"},{\"name\":\"Availability_365\",\"opacity\":0.75,\"showlegend\":false,\"x\":[365,179,112,365,26,242,179,254,298,212,275,354,303,0,316,359,0,354,301,112,178,346,0,365,226,365,0,159,75,356,0,10,143,342,0,0,72,163,0,357,0,317,293,0,351,190,0,361,358,344,221,162,329,364,358,0,271,332,33,244,349,365,364,354,250,38,103,277,253,252,253,0,0,333,266,362,85,0,355,214,148,328,327,89,247,0,0,0,25,59,0,346,269,331,344,339,365,289,361,0,0,349,171,361,83,252,44,0,19,83,250,0,345,280,273,231,105,350,271,266,267,159,257,38,206,360,282,277,360,298,80,352,7,0,133,311,170,359,363,349,358,0,281,179,339,89,354,20,349,216,283,278,278,275,277,345,360,0,1,267,0,297,358,91,0,0,172,242,151,179,38,335,150,342,328,259,249,208,286,262,362,73,175,244,252,38,328,259,164,215,323,258,356,95,269,256,0],\"type\":\"histogram\",\"xaxis\":\"x8\",\"yaxis\":\"y8\"},{\"name\":\"Number_Of_Reviews_Ltm\",\"opacity\":0.75,\"showlegend\":false,\"x\":[0.0,0.0,8.0,2.0,2.0,19.0,0.0,0.0,1.0,1.0,14.0,12.0,18.0,23.0,4.0,1.0,10.0,16.0,20.0,16.0,1.0,8.0,11.0,1.0,46.0,4.0,18.0,51.0,14.0,26.0,19.0,6.0,41.0,22.0,23.0,24.0,58.0,21.0,12.0,13.0,34.0,44.0,33.0,23.0,21.0,58.0,14.0,9.0,23.0,25.0,10.0,13.0,8.0,0.0,38.0,7.0,20.0,57.0,1.0,42.0,30.0,5.0,22.0,24.0,4.0,0.0,23.0,26.0,0.0,2.0,0.0,14.0,55.0,20.0,55.0,7.0,58.0,8.0,20.0,18.0,46.0,20.0,30.0,2.0,19.0,37.0,55.0,50.0,31.0,48.0,58.0,28.0,22.0,25.0,17.0,2.0,1.0,9.0,7.0,11.0,34.0,28.0,11.0,18.0,7.0,29.0,17.0,39.0,7.0,8.0,27.0,49.0,10.0,6.0,7.0,13.0,9.0,8.0,5.0,3.0,4.0,56.0,15.0,24.0,10.0,22.0,1.0,13.0,1.0,12.0,29.0,11.0,48.0,3.0,19.0,8.0,35.0,16.0,13.0,5.0,11.0,29.0,24.0,7.0,20.0,7.0,5.0,1.0,7.0,17.0,3.0,2.0,4.0,4.0,1.0,13.0,12.0,4.0,1.0,3.0,8.0,38.0,17.0,6.0,16.0,4.0,2.0,16.0,5.0,4.0,12.0,8.0,2.0,7.0,11.0,15.0,14.0,13.0,6.0,14.0,12.0,13.0,1.0,7.0,6.0,13.0,5.0,4.0,11.0,10.0,6.0,4.0,1.0,2.0,1.0,7.0,1.0],\"type\":\"histogram\",\"xaxis\":\"x9\",\"yaxis\":\"y9\"}],                        {\"template\":{\"data\":{\"histogram2dcontour\":[{\"type\":\"histogram2dcontour\",\"colorbar\":{\"outlinewidth\":0,\"ticks\":\"\"},\"colorscale\":[[0.0,\"#0d0887\"],[0.1111111111111111,\"#46039f\"],[0.2222222222222222,\"#7201a8\"],[0.3333333333333333,\"#9c179e\"],[0.4444444444444444,\"#bd3786\"],[0.5555555555555556,\"#d8576b\"],[0.6666666666666666,\"#ed7953\"],[0.7777777777777778,\"#fb9f3a\"],[0.8888888888888888,\"#fdca26\"],[1.0,\"#f0f921\"]]}],\"choropleth\":[{\"type\":\"choropleth\",\"colorbar\":{\"outlinewidth\":0,\"ticks\":\"\"}}],\"histogram2d\":[{\"type\":\"histogram2d\",\"colorbar\":{\"outlinewidth\":0,\"ticks\":\"\"},\"colorscale\":[[0.0,\"#0d0887\"],[0.1111111111111111,\"#46039f\"],[0.2222222222222222,\"#7201a8\"],[0.3333333333333333,\"#9c179e\"],[0.4444444444444444,\"#bd3786\"],[0.5555555555555556,\"#d8576b\"],[0.6666666666666666,\"#ed7953\"],[0.7777777777777778,\"#fb9f3a\"],[0.8888888888888888,\"#fdca26\"],[1.0,\"#f0f921\"]]}],\"heatmap\":[{\"type\":\"heatmap\",\"colorbar\":{\"outlinewidth\":0,\"ticks\":\"\"},\"colorscale\":[[0.0,\"#0d0887\"],[0.1111111111111111,\"#46039f\"],[0.2222222222222222,\"#7201a8\"],[0.3333333333333333,\"#9c179e\"],[0.4444444444444444,\"#bd3786\"],[0.5555555555555556,\"#d8576b\"],[0.6666666666666666,\"#ed7953\"],[0.7777777777777778,\"#fb9f3a\"],[0.8888888888888888,\"#fdca26\"],[1.0,\"#f0f921\"]]}],\"heatmapgl\":[{\"type\":\"heatmapgl\",\"colorbar\":{\"outlinewidth\":0,\"ticks\":\"\"},\"colorscale\":[[0.0,\"#0d0887\"],[0.1111111111111111,\"#46039f\"],[0.2222222222222222,\"#7201a8\"],[0.3333333333333333,\"#9c179e\"],[0.4444444444444444,\"#bd3786\"],[0.5555555555555556,\"#d8576b\"],[0.6666666666666666,\"#ed7953\"],[0.7777777777777778,\"#fb9f3a\"],[0.8888888888888888,\"#fdca26\"],[1.0,\"#f0f921\"]]}],\"contourcarpet\":[{\"type\":\"contourcarpet\",\"colorbar\":{\"outlinewidth\":0,\"ticks\":\"\"}}],\"contour\":[{\"type\":\"contour\",\"colorbar\":{\"outlinewidth\":0,\"ticks\":\"\"},\"colorscale\":[[0.0,\"#0d0887\"],[0.1111111111111111,\"#46039f\"],[0.2222222222222222,\"#7201a8\"],[0.3333333333333333,\"#9c179e\"],[0.4444444444444444,\"#bd3786\"],[0.5555555555555556,\"#d8576b\"],[0.6666666666666666,\"#ed7953\"],[0.7777777777777778,\"#fb9f3a\"],[0.8888888888888888,\"#fdca26\"],[1.0,\"#f0f921\"]]}],\"surface\":[{\"type\":\"surface\",\"colorbar\":{\"outlinewidth\":0,\"ticks\":\"\"},\"colorscale\":[[0.0,\"#0d0887\"],[0.1111111111111111,\"#46039f\"],[0.2222222222222222,\"#7201a8\"],[0.3333333333333333,\"#9c179e\"],[0.4444444444444444,\"#bd3786\"],[0.5555555555555556,\"#d8576b\"],[0.6666666666666666,\"#ed7953\"],[0.7777777777777778,\"#fb9f3a\"],[0.8888888888888888,\"#fdca26\"],[1.0,\"#f0f921\"]]}],\"mesh3d\":[{\"type\":\"mesh3d\",\"colorbar\":{\"outlinewidth\":0,\"ticks\":\"\"}}],\"scatter\":[{\"fillpattern\":{\"fillmode\":\"overlay\",\"size\":10,\"solidity\":0.2},\"type\":\"scatter\"}],\"parcoords\":[{\"type\":\"parcoords\",\"line\":{\"colorbar\":{\"outlinewidth\":0,\"ticks\":\"\"}}}],\"scatterpolargl\":[{\"type\":\"scatterpolargl\",\"marker\":{\"colorbar\":{\"outlinewidth\":0,\"ticks\":\"\"}}}],\"bar\":[{\"error_x\":{\"color\":\"#2a3f5f\"},\"error_y\":{\"color\":\"#2a3f5f\"},\"marker\":{\"line\":{\"color\":\"#E5ECF6\",\"width\":0.5},\"pattern\":{\"fillmode\":\"overlay\",\"size\":10,\"solidity\":0.2}},\"type\":\"bar\"}],\"scattergeo\":[{\"type\":\"scattergeo\",\"marker\":{\"colorbar\":{\"outlinewidth\":0,\"ticks\":\"\"}}}],\"scatterpolar\":[{\"type\":\"scatterpolar\",\"marker\":{\"colorbar\":{\"outlinewidth\":0,\"ticks\":\"\"}}}],\"histogram\":[{\"marker\":{\"pattern\":{\"fillmode\":\"overlay\",\"size\":10,\"solidity\":0.2}},\"type\":\"histogram\"}],\"scattergl\":[{\"type\":\"scattergl\",\"marker\":{\"colorbar\":{\"outlinewidth\":0,\"ticks\":\"\"}}}],\"scatter3d\":[{\"type\":\"scatter3d\",\"line\":{\"colorbar\":{\"outlinewidth\":0,\"ticks\":\"\"}},\"marker\":{\"colorbar\":{\"outlinewidth\":0,\"ticks\":\"\"}}}],\"scattermapbox\":[{\"type\":\"scattermapbox\",\"marker\":{\"colorbar\":{\"outlinewidth\":0,\"ticks\":\"\"}}}],\"scatterternary\":[{\"type\":\"scatterternary\",\"marker\":{\"colorbar\":{\"outlinewidth\":0,\"ticks\":\"\"}}}],\"scattercarpet\":[{\"type\":\"scattercarpet\",\"marker\":{\"colorbar\":{\"outlinewidth\":0,\"ticks\":\"\"}}}],\"carpet\":[{\"aaxis\":{\"endlinecolor\":\"#2a3f5f\",\"gridcolor\":\"white\",\"linecolor\":\"white\",\"minorgridcolor\":\"white\",\"startlinecolor\":\"#2a3f5f\"},\"baxis\":{\"endlinecolor\":\"#2a3f5f\",\"gridcolor\":\"white\",\"linecolor\":\"white\",\"minorgridcolor\":\"white\",\"startlinecolor\":\"#2a3f5f\"},\"type\":\"carpet\"}],\"table\":[{\"cells\":{\"fill\":{\"color\":\"#EBF0F8\"},\"line\":{\"color\":\"white\"}},\"header\":{\"fill\":{\"color\":\"#C8D4E3\"},\"line\":{\"color\":\"white\"}},\"type\":\"table\"}],\"barpolar\":[{\"marker\":{\"line\":{\"color\":\"#E5ECF6\",\"width\":0.5},\"pattern\":{\"fillmode\":\"overlay\",\"size\":10,\"solidity\":0.2}},\"type\":\"barpolar\"}],\"pie\":[{\"automargin\":true,\"type\":\"pie\"}]},\"layout\":{\"autotypenumbers\":\"strict\",\"colorway\":[\"#636efa\",\"#EF553B\",\"#00cc96\",\"#ab63fa\",\"#FFA15A\",\"#19d3f3\",\"#FF6692\",\"#B6E880\",\"#FF97FF\",\"#FECB52\"],\"font\":{\"color\":\"#2a3f5f\"},\"hovermode\":\"closest\",\"hoverlabel\":{\"align\":\"left\"},\"paper_bgcolor\":\"white\",\"plot_bgcolor\":\"#E5ECF6\",\"polar\":{\"bgcolor\":\"#E5ECF6\",\"angularaxis\":{\"gridcolor\":\"white\",\"linecolor\":\"white\",\"ticks\":\"\"},\"radialaxis\":{\"gridcolor\":\"white\",\"linecolor\":\"white\",\"ticks\":\"\"}},\"ternary\":{\"bgcolor\":\"#E5ECF6\",\"aaxis\":{\"gridcolor\":\"white\",\"linecolor\":\"white\",\"ticks\":\"\"},\"baxis\":{\"gridcolor\":\"white\",\"linecolor\":\"white\",\"ticks\":\"\"},\"caxis\":{\"gridcolor\":\"white\",\"linecolor\":\"white\",\"ticks\":\"\"}},\"coloraxis\":{\"colorbar\":{\"outlinewidth\":0,\"ticks\":\"\"}},\"colorscale\":{\"sequential\":[[0.0,\"#0d0887\"],[0.1111111111111111,\"#46039f\"],[0.2222222222222222,\"#7201a8\"],[0.3333333333333333,\"#9c179e\"],[0.4444444444444444,\"#bd3786\"],[0.5555555555555556,\"#d8576b\"],[0.6666666666666666,\"#ed7953\"],[0.7777777777777778,\"#fb9f3a\"],[0.8888888888888888,\"#fdca26\"],[1.0,\"#f0f921\"]],\"sequentialminus\":[[0.0,\"#0d0887\"],[0.1111111111111111,\"#46039f\"],[0.2222222222222222,\"#7201a8\"],[0.3333333333333333,\"#9c179e\"],[0.4444444444444444,\"#bd3786\"],[0.5555555555555556,\"#d8576b\"],[0.6666666666666666,\"#ed7953\"],[0.7777777777777778,\"#fb9f3a\"],[0.8888888888888888,\"#fdca26\"],[1.0,\"#f0f921\"]],\"diverging\":[[0,\"#8e0152\"],[0.1,\"#c51b7d\"],[0.2,\"#de77ae\"],[0.3,\"#f1b6da\"],[0.4,\"#fde0ef\"],[0.5,\"#f7f7f7\"],[0.6,\"#e6f5d0\"],[0.7,\"#b8e186\"],[0.8,\"#7fbc41\"],[0.9,\"#4d9221\"],[1,\"#276419\"]]},\"xaxis\":{\"gridcolor\":\"white\",\"linecolor\":\"white\",\"ticks\":\"\",\"title\":{\"standoff\":15},\"zerolinecolor\":\"white\",\"automargin\":true,\"zerolinewidth\":2},\"yaxis\":{\"gridcolor\":\"white\",\"linecolor\":\"white\",\"ticks\":\"\",\"title\":{\"standoff\":15},\"zerolinecolor\":\"white\",\"automargin\":true,\"zerolinewidth\":2},\"scene\":{\"xaxis\":{\"backgroundcolor\":\"#E5ECF6\",\"gridcolor\":\"white\",\"linecolor\":\"white\",\"showbackground\":true,\"ticks\":\"\",\"zerolinecolor\":\"white\",\"gridwidth\":2},\"yaxis\":{\"backgroundcolor\":\"#E5ECF6\",\"gridcolor\":\"white\",\"linecolor\":\"white\",\"showbackground\":true,\"ticks\":\"\",\"zerolinecolor\":\"white\",\"gridwidth\":2},\"zaxis\":{\"backgroundcolor\":\"#E5ECF6\",\"gridcolor\":\"white\",\"linecolor\":\"white\",\"showbackground\":true,\"ticks\":\"\",\"zerolinecolor\":\"white\",\"gridwidth\":2}},\"shapedefaults\":{\"line\":{\"color\":\"#2a3f5f\"}},\"annotationdefaults\":{\"arrowcolor\":\"#2a3f5f\",\"arrowhead\":0,\"arrowwidth\":1},\"geo\":{\"bgcolor\":\"white\",\"landcolor\":\"#E5ECF6\",\"subunitcolor\":\"white\",\"showland\":true,\"showlakes\":true,\"lakecolor\":\"white\"},\"title\":{\"x\":0.05},\"mapbox\":{\"style\":\"light\"}}},\"xaxis\":{\"anchor\":\"y\",\"domain\":[0.0,0.2888888888888889]},\"yaxis\":{\"anchor\":\"x\",\"domain\":[0.7777777777777778,1.0]},\"xaxis2\":{\"anchor\":\"y2\",\"domain\":[0.35555555555555557,0.6444444444444445]},\"yaxis2\":{\"anchor\":\"x2\",\"domain\":[0.7777777777777778,1.0]},\"xaxis3\":{\"anchor\":\"y3\",\"domain\":[0.7111111111111111,1.0]},\"yaxis3\":{\"anchor\":\"x3\",\"domain\":[0.7777777777777778,1.0]},\"xaxis4\":{\"anchor\":\"y4\",\"domain\":[0.0,0.2888888888888889]},\"yaxis4\":{\"anchor\":\"x4\",\"domain\":[0.3888888888888889,0.6111111111111112]},\"xaxis5\":{\"anchor\":\"y5\",\"domain\":[0.35555555555555557,0.6444444444444445]},\"yaxis5\":{\"anchor\":\"x5\",\"domain\":[0.3888888888888889,0.6111111111111112]},\"xaxis6\":{\"anchor\":\"y6\",\"domain\":[0.7111111111111111,1.0]},\"yaxis6\":{\"anchor\":\"x6\",\"domain\":[0.3888888888888889,0.6111111111111112]},\"xaxis7\":{\"anchor\":\"y7\",\"domain\":[0.0,0.2888888888888889]},\"yaxis7\":{\"anchor\":\"x7\",\"domain\":[0.0,0.22222222222222224]},\"xaxis8\":{\"anchor\":\"y8\",\"domain\":[0.35555555555555557,0.6444444444444445]},\"yaxis8\":{\"anchor\":\"x8\",\"domain\":[0.0,0.22222222222222224]},\"xaxis9\":{\"anchor\":\"y9\",\"domain\":[0.7111111111111111,1.0]},\"yaxis9\":{\"anchor\":\"x9\",\"domain\":[0.0,0.22222222222222224]},\"annotations\":[{\"font\":{\"size\":16},\"showarrow\":false,\"text\":\"Latitude\",\"x\":0.14444444444444446,\"xanchor\":\"center\",\"xref\":\"paper\",\"y\":1.0,\"yanchor\":\"bottom\",\"yref\":\"paper\"},{\"font\":{\"size\":16},\"showarrow\":false,\"text\":\"Longitude\",\"x\":0.5,\"xanchor\":\"center\",\"xref\":\"paper\",\"y\":1.0,\"yanchor\":\"bottom\",\"yref\":\"paper\"},{\"font\":{\"size\":16},\"showarrow\":false,\"text\":\"Price\",\"x\":0.8555555555555556,\"xanchor\":\"center\",\"xref\":\"paper\",\"y\":1.0,\"yanchor\":\"bottom\",\"yref\":\"paper\"},{\"font\":{\"size\":16},\"showarrow\":false,\"text\":\"Minimum_Nights\",\"x\":0.14444444444444446,\"xanchor\":\"center\",\"xref\":\"paper\",\"y\":0.6111111111111112,\"yanchor\":\"bottom\",\"yref\":\"paper\"},{\"font\":{\"size\":16},\"showarrow\":false,\"text\":\"Number_Of_Reviews\",\"x\":0.5,\"xanchor\":\"center\",\"xref\":\"paper\",\"y\":0.6111111111111112,\"yanchor\":\"bottom\",\"yref\":\"paper\"},{\"font\":{\"size\":16},\"showarrow\":false,\"text\":\"Reviews_Per_Month\",\"x\":0.8555555555555556,\"xanchor\":\"center\",\"xref\":\"paper\",\"y\":0.6111111111111112,\"yanchor\":\"bottom\",\"yref\":\"paper\"},{\"font\":{\"size\":16},\"showarrow\":false,\"text\":\"Calculated_Host_Listings_Count\",\"x\":0.14444444444444446,\"xanchor\":\"center\",\"xref\":\"paper\",\"y\":0.22222222222222224,\"yanchor\":\"bottom\",\"yref\":\"paper\"},{\"font\":{\"size\":16},\"showarrow\":false,\"text\":\"Availability_365\",\"x\":0.5,\"xanchor\":\"center\",\"xref\":\"paper\",\"y\":0.22222222222222224,\"yanchor\":\"bottom\",\"yref\":\"paper\"},{\"font\":{\"size\":16},\"showarrow\":false,\"text\":\"Number_Of_Reviews_Ltm\",\"x\":0.8555555555555556,\"xanchor\":\"center\",\"xref\":\"paper\",\"y\":0.22222222222222224,\"yanchor\":\"bottom\",\"yref\":\"paper\"}],\"font\":{\"color\":\"#909497\",\"size\":18},\"title\":{\"font\":{\"size\":26},\"text\":\"All Numerical Columns\"},\"margin\":{\"t\":100,\"r\":80,\"b\":80,\"l\":120},\"plot_bgcolor\":\"white\",\"hovermode\":\"closest\",\"height\":1000,\"width\":900},                        {\"responsive\": true}                    ).then(function(){\n",
       "                            \n",
       "var gd = document.getElementById('97a78126-aeac-4c81-b8d8-9154c32c8a1a');\n",
       "var x = new MutationObserver(function (mutations, observer) {{\n",
       "        var display = window.getComputedStyle(gd).display;\n",
       "        if (!display || display === 'none') {{\n",
       "            console.log([gd, 'removed!']);\n",
       "            Plotly.purge(gd);\n",
       "            observer.disconnect();\n",
       "        }}\n",
       "}});\n",
       "\n",
       "// Listen for the removal of the full notebook cells\n",
       "var notebookContainer = gd.closest('#notebook-container');\n",
       "if (notebookContainer) {{\n",
       "    x.observe(notebookContainer, {childList: true});\n",
       "}}\n",
       "\n",
       "// Listen for the clearing of the current output cell\n",
       "var outputEl = gd.closest('.output');\n",
       "if (outputEl) {{\n",
       "    x.observe(outputEl, {childList: true});\n",
       "}}\n",
       "\n",
       "                        })                };                });            </script>        </div>"
      ]
     },
     "metadata": {},
     "output_type": "display_data"
    }
   ],
   "source": [
    "Muti_hist_plot(data_without_outliers[data_without_outliers.columns[3:]])"
   ]
  },
  {
   "cell_type": "markdown",
   "id": "2ab2f4f3",
   "metadata": {},
   "source": [
    "Ok after drop the outlier we can see that the Minimum Night is between 1 - 3 \n",
    "and with outliers it was between 1 - 31 \n",
    "its a huge diffrent \n",
    "\n"
   ]
  },
  {
   "cell_type": "markdown",
   "id": "392a9cbf-a012-47c8-8730-ee66891b3baa",
   "metadata": {},
   "source": [
    "## bivariate analysis"
   ]
  },
  {
   "cell_type": "markdown",
   "id": "5919c1d2-727f-4dcc-a19a-a59f8e19958e",
   "metadata": {},
   "source": [
    "##### Coordinates are often expressed as two sets of numbers. The first number is always the latitude and the second is the longitude\n",
    "- Latitudes are horizontal lines that measure distance north or south of the equator. \n",
    "- Longitudes are vertical lines that measure east or west of the meridian in Greenwich, England. "
   ]
  },
  {
   "cell_type": "code",
   "execution_count": 19,
   "id": "25c1a840-1115-4efc-8921-3b4ddcb50ad5",
   "metadata": {},
   "outputs": [
    {
     "data": {
      "application/vnd.plotly.v1+json": {
       "config": {
        "plotlyServerURL": "https://plot.ly"
       },
       "data": [
        {
         "mode": "markers",
         "type": "scatter",
         "x": [
          -73.75851,
          -73.78115,
          -73.77887,
          -73.78169,
          -73.80321,
          -73.78161,
          -73.75887,
          -73.82382,
          -73.76865,
          -73.78244,
          -73.78244,
          -73.77833,
          -73.78122,
          -73.81196,
          -73.78178,
          -73.77293,
          -73.76325,
          -73.78177642822266,
          -73.76917,
          -73.77904,
          -73.75313,
          -73.76714,
          -73.78114,
          -73.82281,
          -73.78223,
          -73.79031,
          -73.79231,
          -73.81446,
          -73.75426,
          -73.78281,
          -73.7956,
          -73.75369,
          -73.78223,
          -73.75668,
          -73.75793,
          -73.75628,
          -73.7904,
          -73.79184,
          -73.76663,
          -73.80883,
          -73.79849,
          -73.75273894471623,
          -73.78332,
          -73.78126,
          -73.75986,
          -73.76546,
          -73.74673,
          -73.74748,
          -73.74866,
          -73.74941,
          -73.76076,
          -73.75614,
          -73.82903,
          -73.76966,
          -73.82573,
          -73.75958,
          -73.74837,
          -73.76944,
          -73.82367,
          -73.80114,
          -73.74722,
          -73.822861,
          -73.79026,
          -73.76996,
          -73.77056,
          -73.75392,
          -73.78641,
          -73.77964,
          -73.7701,
          -73.76938,
          -73.76995,
          -73.76359,
          -73.79869,
          -73.7949665,
          -73.7679,
          -73.780815,
          -73.75684,
          -73.78426,
          -73.75861,
          -73.75928,
          -73.76797,
          -73.76455,
          -73.76196,
          -73.76538,
          -73.74743,
          -73.76367520540953,
          -73.7992,
          -73.79908,
          -73.79749410000001,
          -73.75676,
          -73.777,
          -73.76146,
          -73.7673156,
          -73.75261,
          -73.7818222,
          -73.761,
          -73.77685,
          -73.76792,
          -73.77997,
          -73.76831,
          -73.75975701534425,
          -73.75971410000001,
          -73.76732,
          -73.76953,
          -73.79091,
          -73.80719,
          -73.7642072,
          -73.75065,
          -73.76594,
          -73.81361,
          -73.75431932508945,
          -73.7943,
          -73.77061,
          -73.77367,
          -73.77541,
          -73.7855281,
          -73.78034,
          -73.79722,
          -73.77409,
          -73.775205,
          -73.775205,
          -73.75332,
          -73.7684199,
          -73.79418,
          -73.79032550419785,
          -73.76917,
          -73.80479,
          -73.77469,
          -73.76976949435519,
          -73.78619,
          -73.7586141,
          -73.74935,
          -73.81607,
          -73.80548,
          -73.78496,
          -73.76901,
          -73.7747433,
          -73.76576,
          -73.76534029999999,
          -73.7521,
          -73.79234533756971,
          -73.78655,
          -73.76707,
          -73.7868778,
          -73.78299,
          -73.79158,
          -73.7807478,
          -73.79149618599958,
          -73.78021704609974,
          -73.79571205018514,
          -73.77433674199318,
          -73.77478693204898,
          -73.77284,
          -73.77455698333637,
          -73.77272373106814,
          -73.7853116,
          -73.78610658197474,
          -73.80049,
          -73.80128215056936,
          -73.78509801171585,
          -73.77397295619353,
          -73.79390939999999,
          -73.77002141071337,
          -73.81678288145305,
          -73.75335661522755,
          -73.76950465142727,
          -73.76511947562057,
          -73.77786945551634,
          -73.761780139996,
          -73.80695225761066,
          -73.7641152,
          -73.75115885472674,
          -73.8106566601018,
          -73.7674333870007,
          -73.75364650000002,
          -73.7977054151877,
          -73.797549986088,
          -73.79930289371134,
          -73.76416369206528,
          -73.7981565369516,
          -73.77046,
          -73.7546608201248,
          -73.76420635863742,
          -73.76382104785372,
          -73.7597240543698,
          -73.77868,
          -73.76519868723663,
          -73.79260844002489,
          -73.78413107868002,
          -73.76077862456057,
          -73.78973060044702,
          -73.75705214104126,
          -73.7920570376047,
          -73.76307767802679,
          -73.7381032862318,
          -73.77786945551634,
          -73.79881962357733
         ],
         "y": [
          42.64484,
          42.66063,
          42.65651,
          42.67614,
          42.65729,
          42.65312,
          42.6436,
          42.675,
          42.64939,
          42.65532,
          42.65372,
          42.66045,
          42.65501,
          42.65975,
          42.65431,
          42.65333,
          42.65403,
          42.6543083190918,
          42.65821,
          42.65746,
          42.6737,
          42.65235,
          42.6533,
          42.67519,
          42.65259,
          42.66619,
          42.66827,
          42.66403,
          42.64453,
          42.66257,
          42.66132,
          42.64454,
          42.6545,
          42.64801,
          42.64821,
          42.64713,
          42.66137,
          42.66646,
          42.65345,
          42.67156,
          42.6692,
          42.6511808672392,
          42.66261,
          42.65399,
          42.65429,
          42.65157,
          42.65888,
          42.65901,
          42.65856,
          42.65812,
          42.65269,
          42.64684,
          42.67643,
          42.65934,
          42.67044,
          42.65386,
          42.65812,
          42.65826,
          42.67004,
          42.65824,
          42.65913,
          42.674675,
          42.66261,
          42.65422,
          42.65403,
          42.64459,
          42.65578,
          42.65905,
          42.65902,
          42.6595,
          42.6598,
          42.65848,
          42.66911,
          42.652049,
          42.65353,
          42.640217,
          42.65723,
          42.64372,
          42.64528,
          42.64558,
          42.65323,
          42.65427,
          42.64595,
          42.65389,
          42.65752,
          42.65541380925019,
          42.66758,
          42.66764,
          42.6694413,
          42.65732,
          42.6623,
          42.64638,
          42.6513719,
          42.64564,
          42.6543178,
          42.64469,
          42.65569,
          42.6496,
          42.64284,
          42.66648,
          42.64439384900326,
          42.6444412,
          42.65259,
          42.65405,
          42.66117,
          42.6601,
          42.6518469,
          42.65725,
          42.65183,
          42.66298,
          42.6591503133547,
          42.6653,
          42.65489,
          42.67283,
          42.65582,
          42.6538578,
          42.65741,
          42.66958,
          42.65751,
          42.656329,
          42.656329,
          42.65588,
          42.6684126,
          42.67239,
          42.67143614564987,
          42.65258,
          42.66109,
          42.65613,
          42.66007584297136,
          42.67336,
          42.6457663,
          42.65817,
          42.66947,
          42.66128,
          42.67355,
          42.65379,
          42.6599733,
          42.66246,
          42.6628771,
          42.6573,
          42.66215778253739,
          42.66087,
          42.64787,
          42.6652959,
          42.66217,
          42.66261,
          42.6559529,
          42.65483722729842,
          42.654965911269095,
          42.67066076442359,
          42.65654925592276,
          42.658672199777634,
          42.6606,
          42.659082586070085,
          42.65846944486231,
          42.6708367,
          42.669735657513975,
          42.65801,
          42.65798404004404,
          42.67033901962889,
          42.66000843071908,
          42.6549886,
          42.65240863051438,
          42.67059398561849,
          42.65679550669701,
          42.65312775001394,
          42.66627900500492,
          42.66391565517209,
          42.65259924007496,
          42.6709773627501,
          42.65623,
          42.65761589542138,
          42.6554977755084,
          42.65483900711961,
          42.64534889999999,
          42.67002775509383,
          42.6697096084112,
          42.66873116573401,
          42.65538680270734,
          42.66996089870569,
          42.6535,
          42.64713879857583,
          42.65859808957202,
          42.65970700274541,
          42.64655138980193,
          42.66838,
          42.65487397780481,
          42.6759553661711,
          42.6736802909505,
          42.65446887973431,
          42.66106893179246,
          42.639757084309245,
          42.659886051712505,
          42.65098734769702,
          42.66311590202129,
          42.663915656143736,
          42.66943098938467
         ]
        }
       ],
       "layout": {
        "font": {
         "color": "#909497",
         "size": 18
        },
        "height": 720,
        "margin": {
         "b": 80,
         "l": 120,
         "r": 80,
         "t": 100
        },
        "plot_bgcolor": "white",
        "template": {
         "data": {
          "bar": [
           {
            "error_x": {
             "color": "#2a3f5f"
            },
            "error_y": {
             "color": "#2a3f5f"
            },
            "marker": {
             "line": {
              "color": "#E5ECF6",
              "width": 0.5
             },
             "pattern": {
              "fillmode": "overlay",
              "size": 10,
              "solidity": 0.2
             }
            },
            "type": "bar"
           }
          ],
          "barpolar": [
           {
            "marker": {
             "line": {
              "color": "#E5ECF6",
              "width": 0.5
             },
             "pattern": {
              "fillmode": "overlay",
              "size": 10,
              "solidity": 0.2
             }
            },
            "type": "barpolar"
           }
          ],
          "carpet": [
           {
            "aaxis": {
             "endlinecolor": "#2a3f5f",
             "gridcolor": "white",
             "linecolor": "white",
             "minorgridcolor": "white",
             "startlinecolor": "#2a3f5f"
            },
            "baxis": {
             "endlinecolor": "#2a3f5f",
             "gridcolor": "white",
             "linecolor": "white",
             "minorgridcolor": "white",
             "startlinecolor": "#2a3f5f"
            },
            "type": "carpet"
           }
          ],
          "choropleth": [
           {
            "colorbar": {
             "outlinewidth": 0,
             "ticks": ""
            },
            "type": "choropleth"
           }
          ],
          "contour": [
           {
            "colorbar": {
             "outlinewidth": 0,
             "ticks": ""
            },
            "colorscale": [
             [
              0,
              "#0d0887"
             ],
             [
              0.1111111111111111,
              "#46039f"
             ],
             [
              0.2222222222222222,
              "#7201a8"
             ],
             [
              0.3333333333333333,
              "#9c179e"
             ],
             [
              0.4444444444444444,
              "#bd3786"
             ],
             [
              0.5555555555555556,
              "#d8576b"
             ],
             [
              0.6666666666666666,
              "#ed7953"
             ],
             [
              0.7777777777777778,
              "#fb9f3a"
             ],
             [
              0.8888888888888888,
              "#fdca26"
             ],
             [
              1,
              "#f0f921"
             ]
            ],
            "type": "contour"
           }
          ],
          "contourcarpet": [
           {
            "colorbar": {
             "outlinewidth": 0,
             "ticks": ""
            },
            "type": "contourcarpet"
           }
          ],
          "heatmap": [
           {
            "colorbar": {
             "outlinewidth": 0,
             "ticks": ""
            },
            "colorscale": [
             [
              0,
              "#0d0887"
             ],
             [
              0.1111111111111111,
              "#46039f"
             ],
             [
              0.2222222222222222,
              "#7201a8"
             ],
             [
              0.3333333333333333,
              "#9c179e"
             ],
             [
              0.4444444444444444,
              "#bd3786"
             ],
             [
              0.5555555555555556,
              "#d8576b"
             ],
             [
              0.6666666666666666,
              "#ed7953"
             ],
             [
              0.7777777777777778,
              "#fb9f3a"
             ],
             [
              0.8888888888888888,
              "#fdca26"
             ],
             [
              1,
              "#f0f921"
             ]
            ],
            "type": "heatmap"
           }
          ],
          "heatmapgl": [
           {
            "colorbar": {
             "outlinewidth": 0,
             "ticks": ""
            },
            "colorscale": [
             [
              0,
              "#0d0887"
             ],
             [
              0.1111111111111111,
              "#46039f"
             ],
             [
              0.2222222222222222,
              "#7201a8"
             ],
             [
              0.3333333333333333,
              "#9c179e"
             ],
             [
              0.4444444444444444,
              "#bd3786"
             ],
             [
              0.5555555555555556,
              "#d8576b"
             ],
             [
              0.6666666666666666,
              "#ed7953"
             ],
             [
              0.7777777777777778,
              "#fb9f3a"
             ],
             [
              0.8888888888888888,
              "#fdca26"
             ],
             [
              1,
              "#f0f921"
             ]
            ],
            "type": "heatmapgl"
           }
          ],
          "histogram": [
           {
            "marker": {
             "pattern": {
              "fillmode": "overlay",
              "size": 10,
              "solidity": 0.2
             }
            },
            "type": "histogram"
           }
          ],
          "histogram2d": [
           {
            "colorbar": {
             "outlinewidth": 0,
             "ticks": ""
            },
            "colorscale": [
             [
              0,
              "#0d0887"
             ],
             [
              0.1111111111111111,
              "#46039f"
             ],
             [
              0.2222222222222222,
              "#7201a8"
             ],
             [
              0.3333333333333333,
              "#9c179e"
             ],
             [
              0.4444444444444444,
              "#bd3786"
             ],
             [
              0.5555555555555556,
              "#d8576b"
             ],
             [
              0.6666666666666666,
              "#ed7953"
             ],
             [
              0.7777777777777778,
              "#fb9f3a"
             ],
             [
              0.8888888888888888,
              "#fdca26"
             ],
             [
              1,
              "#f0f921"
             ]
            ],
            "type": "histogram2d"
           }
          ],
          "histogram2dcontour": [
           {
            "colorbar": {
             "outlinewidth": 0,
             "ticks": ""
            },
            "colorscale": [
             [
              0,
              "#0d0887"
             ],
             [
              0.1111111111111111,
              "#46039f"
             ],
             [
              0.2222222222222222,
              "#7201a8"
             ],
             [
              0.3333333333333333,
              "#9c179e"
             ],
             [
              0.4444444444444444,
              "#bd3786"
             ],
             [
              0.5555555555555556,
              "#d8576b"
             ],
             [
              0.6666666666666666,
              "#ed7953"
             ],
             [
              0.7777777777777778,
              "#fb9f3a"
             ],
             [
              0.8888888888888888,
              "#fdca26"
             ],
             [
              1,
              "#f0f921"
             ]
            ],
            "type": "histogram2dcontour"
           }
          ],
          "mesh3d": [
           {
            "colorbar": {
             "outlinewidth": 0,
             "ticks": ""
            },
            "type": "mesh3d"
           }
          ],
          "parcoords": [
           {
            "line": {
             "colorbar": {
              "outlinewidth": 0,
              "ticks": ""
             }
            },
            "type": "parcoords"
           }
          ],
          "pie": [
           {
            "automargin": true,
            "type": "pie"
           }
          ],
          "scatter": [
           {
            "fillpattern": {
             "fillmode": "overlay",
             "size": 10,
             "solidity": 0.2
            },
            "type": "scatter"
           }
          ],
          "scatter3d": [
           {
            "line": {
             "colorbar": {
              "outlinewidth": 0,
              "ticks": ""
             }
            },
            "marker": {
             "colorbar": {
              "outlinewidth": 0,
              "ticks": ""
             }
            },
            "type": "scatter3d"
           }
          ],
          "scattercarpet": [
           {
            "marker": {
             "colorbar": {
              "outlinewidth": 0,
              "ticks": ""
             }
            },
            "type": "scattercarpet"
           }
          ],
          "scattergeo": [
           {
            "marker": {
             "colorbar": {
              "outlinewidth": 0,
              "ticks": ""
             }
            },
            "type": "scattergeo"
           }
          ],
          "scattergl": [
           {
            "marker": {
             "colorbar": {
              "outlinewidth": 0,
              "ticks": ""
             }
            },
            "type": "scattergl"
           }
          ],
          "scattermapbox": [
           {
            "marker": {
             "colorbar": {
              "outlinewidth": 0,
              "ticks": ""
             }
            },
            "type": "scattermapbox"
           }
          ],
          "scatterpolar": [
           {
            "marker": {
             "colorbar": {
              "outlinewidth": 0,
              "ticks": ""
             }
            },
            "type": "scatterpolar"
           }
          ],
          "scatterpolargl": [
           {
            "marker": {
             "colorbar": {
              "outlinewidth": 0,
              "ticks": ""
             }
            },
            "type": "scatterpolargl"
           }
          ],
          "scatterternary": [
           {
            "marker": {
             "colorbar": {
              "outlinewidth": 0,
              "ticks": ""
             }
            },
            "type": "scatterternary"
           }
          ],
          "surface": [
           {
            "colorbar": {
             "outlinewidth": 0,
             "ticks": ""
            },
            "colorscale": [
             [
              0,
              "#0d0887"
             ],
             [
              0.1111111111111111,
              "#46039f"
             ],
             [
              0.2222222222222222,
              "#7201a8"
             ],
             [
              0.3333333333333333,
              "#9c179e"
             ],
             [
              0.4444444444444444,
              "#bd3786"
             ],
             [
              0.5555555555555556,
              "#d8576b"
             ],
             [
              0.6666666666666666,
              "#ed7953"
             ],
             [
              0.7777777777777778,
              "#fb9f3a"
             ],
             [
              0.8888888888888888,
              "#fdca26"
             ],
             [
              1,
              "#f0f921"
             ]
            ],
            "type": "surface"
           }
          ],
          "table": [
           {
            "cells": {
             "fill": {
              "color": "#EBF0F8"
             },
             "line": {
              "color": "white"
             }
            },
            "header": {
             "fill": {
              "color": "#C8D4E3"
             },
             "line": {
              "color": "white"
             }
            },
            "type": "table"
           }
          ]
         },
         "layout": {
          "annotationdefaults": {
           "arrowcolor": "#2a3f5f",
           "arrowhead": 0,
           "arrowwidth": 1
          },
          "autotypenumbers": "strict",
          "coloraxis": {
           "colorbar": {
            "outlinewidth": 0,
            "ticks": ""
           }
          },
          "colorscale": {
           "diverging": [
            [
             0,
             "#8e0152"
            ],
            [
             0.1,
             "#c51b7d"
            ],
            [
             0.2,
             "#de77ae"
            ],
            [
             0.3,
             "#f1b6da"
            ],
            [
             0.4,
             "#fde0ef"
            ],
            [
             0.5,
             "#f7f7f7"
            ],
            [
             0.6,
             "#e6f5d0"
            ],
            [
             0.7,
             "#b8e186"
            ],
            [
             0.8,
             "#7fbc41"
            ],
            [
             0.9,
             "#4d9221"
            ],
            [
             1,
             "#276419"
            ]
           ],
           "sequential": [
            [
             0,
             "#0d0887"
            ],
            [
             0.1111111111111111,
             "#46039f"
            ],
            [
             0.2222222222222222,
             "#7201a8"
            ],
            [
             0.3333333333333333,
             "#9c179e"
            ],
            [
             0.4444444444444444,
             "#bd3786"
            ],
            [
             0.5555555555555556,
             "#d8576b"
            ],
            [
             0.6666666666666666,
             "#ed7953"
            ],
            [
             0.7777777777777778,
             "#fb9f3a"
            ],
            [
             0.8888888888888888,
             "#fdca26"
            ],
            [
             1,
             "#f0f921"
            ]
           ],
           "sequentialminus": [
            [
             0,
             "#0d0887"
            ],
            [
             0.1111111111111111,
             "#46039f"
            ],
            [
             0.2222222222222222,
             "#7201a8"
            ],
            [
             0.3333333333333333,
             "#9c179e"
            ],
            [
             0.4444444444444444,
             "#bd3786"
            ],
            [
             0.5555555555555556,
             "#d8576b"
            ],
            [
             0.6666666666666666,
             "#ed7953"
            ],
            [
             0.7777777777777778,
             "#fb9f3a"
            ],
            [
             0.8888888888888888,
             "#fdca26"
            ],
            [
             1,
             "#f0f921"
            ]
           ]
          },
          "colorway": [
           "#636efa",
           "#EF553B",
           "#00cc96",
           "#ab63fa",
           "#FFA15A",
           "#19d3f3",
           "#FF6692",
           "#B6E880",
           "#FF97FF",
           "#FECB52"
          ],
          "font": {
           "color": "#2a3f5f"
          },
          "geo": {
           "bgcolor": "white",
           "lakecolor": "white",
           "landcolor": "#E5ECF6",
           "showlakes": true,
           "showland": true,
           "subunitcolor": "white"
          },
          "hoverlabel": {
           "align": "left"
          },
          "hovermode": "closest",
          "mapbox": {
           "style": "light"
          },
          "paper_bgcolor": "white",
          "plot_bgcolor": "#E5ECF6",
          "polar": {
           "angularaxis": {
            "gridcolor": "white",
            "linecolor": "white",
            "ticks": ""
           },
           "bgcolor": "#E5ECF6",
           "radialaxis": {
            "gridcolor": "white",
            "linecolor": "white",
            "ticks": ""
           }
          },
          "scene": {
           "xaxis": {
            "backgroundcolor": "#E5ECF6",
            "gridcolor": "white",
            "gridwidth": 2,
            "linecolor": "white",
            "showbackground": true,
            "ticks": "",
            "zerolinecolor": "white"
           },
           "yaxis": {
            "backgroundcolor": "#E5ECF6",
            "gridcolor": "white",
            "gridwidth": 2,
            "linecolor": "white",
            "showbackground": true,
            "ticks": "",
            "zerolinecolor": "white"
           },
           "zaxis": {
            "backgroundcolor": "#E5ECF6",
            "gridcolor": "white",
            "gridwidth": 2,
            "linecolor": "white",
            "showbackground": true,
            "ticks": "",
            "zerolinecolor": "white"
           }
          },
          "shapedefaults": {
           "line": {
            "color": "#2a3f5f"
           }
          },
          "ternary": {
           "aaxis": {
            "gridcolor": "white",
            "linecolor": "white",
            "ticks": ""
           },
           "baxis": {
            "gridcolor": "white",
            "linecolor": "white",
            "ticks": ""
           },
           "bgcolor": "#E5ECF6",
           "caxis": {
            "gridcolor": "white",
            "linecolor": "white",
            "ticks": ""
           }
          },
          "title": {
           "x": 0.05
          },
          "xaxis": {
           "automargin": true,
           "gridcolor": "white",
           "linecolor": "white",
           "ticks": "",
           "title": {
            "standoff": 15
           },
           "zerolinecolor": "white",
           "zerolinewidth": 2
          },
          "yaxis": {
           "automargin": true,
           "gridcolor": "white",
           "linecolor": "white",
           "ticks": "",
           "title": {
            "standoff": 15
           },
           "zerolinecolor": "white",
           "zerolinewidth": 2
          }
         }
        },
        "title": {
         "font": {
          "size": 26
         },
         "text": "Longitude VS Latitude"
        },
        "width": 900,
        "xaxis": {
         "linecolor": "#909497",
         "title": {
          "text": "Longitude"
         }
        },
        "yaxis": {
         "linecolor": "#909497",
         "tickformat": ",",
         "title": {
          "text": "Latitude"
         }
        }
       }
      },
      "text/html": [
       "<div>                            <div id=\"600f7a77-1e96-4322-9e4f-08a3ee5653ab\" class=\"plotly-graph-div\" style=\"height:720px; width:900px;\"></div>            <script type=\"text/javascript\">                require([\"plotly\"], function(Plotly) {                    window.PLOTLYENV=window.PLOTLYENV || {};                                    if (document.getElementById(\"600f7a77-1e96-4322-9e4f-08a3ee5653ab\")) {                    Plotly.newPlot(                        \"600f7a77-1e96-4322-9e4f-08a3ee5653ab\",                        [{\"mode\":\"markers\",\"x\":[-73.75851,-73.78115,-73.77887,-73.78169,-73.80321,-73.78161,-73.75887,-73.82382,-73.76865,-73.78244,-73.78244,-73.77833,-73.78122,-73.81196,-73.78178,-73.77293,-73.76325,-73.78177642822266,-73.76917,-73.77904,-73.75313,-73.76714,-73.78114,-73.82281,-73.78223,-73.79031,-73.79231,-73.81446,-73.75426,-73.78281,-73.7956,-73.75369,-73.78223,-73.75668,-73.75793,-73.75628,-73.7904,-73.79184,-73.76663,-73.80883,-73.79849,-73.75273894471623,-73.78332,-73.78126,-73.75986,-73.76546,-73.74673,-73.74748,-73.74866,-73.74941,-73.76076,-73.75614,-73.82903,-73.76966,-73.82573,-73.75958,-73.74837,-73.76944,-73.82367,-73.80114,-73.74722,-73.822861,-73.79026,-73.76996,-73.77056,-73.75392,-73.78641,-73.77964,-73.7701,-73.76938,-73.76995,-73.76359,-73.79869,-73.7949665,-73.7679,-73.780815,-73.75684,-73.78426,-73.75861,-73.75928,-73.76797,-73.76455,-73.76196,-73.76538,-73.74743,-73.76367520540953,-73.7992,-73.79908,-73.79749410000001,-73.75676,-73.777,-73.76146,-73.7673156,-73.75261,-73.7818222,-73.761,-73.77685,-73.76792,-73.77997,-73.76831,-73.75975701534425,-73.75971410000001,-73.76732,-73.76953,-73.79091,-73.80719,-73.7642072,-73.75065,-73.76594,-73.81361,-73.75431932508945,-73.7943,-73.77061,-73.77367,-73.77541,-73.7855281,-73.78034,-73.79722,-73.77409,-73.775205,-73.775205,-73.75332,-73.7684199,-73.79418,-73.79032550419785,-73.76917,-73.80479,-73.77469,-73.76976949435519,-73.78619,-73.7586141,-73.74935,-73.81607,-73.80548,-73.78496,-73.76901,-73.7747433,-73.76576,-73.76534029999999,-73.7521,-73.79234533756971,-73.78655,-73.76707,-73.7868778,-73.78299,-73.79158,-73.7807478,-73.79149618599958,-73.78021704609974,-73.79571205018514,-73.77433674199318,-73.77478693204898,-73.77284,-73.77455698333637,-73.77272373106814,-73.7853116,-73.78610658197474,-73.80049,-73.80128215056936,-73.78509801171585,-73.77397295619353,-73.79390939999999,-73.77002141071337,-73.81678288145305,-73.75335661522755,-73.76950465142727,-73.76511947562057,-73.77786945551634,-73.761780139996,-73.80695225761066,-73.7641152,-73.75115885472674,-73.8106566601018,-73.7674333870007,-73.75364650000002,-73.7977054151877,-73.797549986088,-73.79930289371134,-73.76416369206528,-73.7981565369516,-73.77046,-73.7546608201248,-73.76420635863742,-73.76382104785372,-73.7597240543698,-73.77868,-73.76519868723663,-73.79260844002489,-73.78413107868002,-73.76077862456057,-73.78973060044702,-73.75705214104126,-73.7920570376047,-73.76307767802679,-73.7381032862318,-73.77786945551634,-73.79881962357733],\"y\":[42.64484,42.66063,42.65651,42.67614,42.65729,42.65312,42.6436,42.675,42.64939,42.65532,42.65372,42.66045,42.65501,42.65975,42.65431,42.65333,42.65403,42.6543083190918,42.65821,42.65746,42.6737,42.65235,42.6533,42.67519,42.65259,42.66619,42.66827,42.66403,42.64453,42.66257,42.66132,42.64454,42.6545,42.64801,42.64821,42.64713,42.66137,42.66646,42.65345,42.67156,42.6692,42.6511808672392,42.66261,42.65399,42.65429,42.65157,42.65888,42.65901,42.65856,42.65812,42.65269,42.64684,42.67643,42.65934,42.67044,42.65386,42.65812,42.65826,42.67004,42.65824,42.65913,42.674675,42.66261,42.65422,42.65403,42.64459,42.65578,42.65905,42.65902,42.6595,42.6598,42.65848,42.66911,42.652049,42.65353,42.640217,42.65723,42.64372,42.64528,42.64558,42.65323,42.65427,42.64595,42.65389,42.65752,42.65541380925019,42.66758,42.66764,42.6694413,42.65732,42.6623,42.64638,42.6513719,42.64564,42.6543178,42.64469,42.65569,42.6496,42.64284,42.66648,42.64439384900326,42.6444412,42.65259,42.65405,42.66117,42.6601,42.6518469,42.65725,42.65183,42.66298,42.6591503133547,42.6653,42.65489,42.67283,42.65582,42.6538578,42.65741,42.66958,42.65751,42.656329,42.656329,42.65588,42.6684126,42.67239,42.67143614564987,42.65258,42.66109,42.65613,42.66007584297136,42.67336,42.6457663,42.65817,42.66947,42.66128,42.67355,42.65379,42.6599733,42.66246,42.6628771,42.6573,42.66215778253739,42.66087,42.64787,42.6652959,42.66217,42.66261,42.6559529,42.65483722729842,42.654965911269095,42.67066076442359,42.65654925592276,42.658672199777634,42.6606,42.659082586070085,42.65846944486231,42.6708367,42.669735657513975,42.65801,42.65798404004404,42.67033901962889,42.66000843071908,42.6549886,42.65240863051438,42.67059398561849,42.65679550669701,42.65312775001394,42.66627900500492,42.66391565517209,42.65259924007496,42.6709773627501,42.65623,42.65761589542138,42.6554977755084,42.65483900711961,42.64534889999999,42.67002775509383,42.6697096084112,42.66873116573401,42.65538680270734,42.66996089870569,42.6535,42.64713879857583,42.65859808957202,42.65970700274541,42.64655138980193,42.66838,42.65487397780481,42.6759553661711,42.6736802909505,42.65446887973431,42.66106893179246,42.639757084309245,42.659886051712505,42.65098734769702,42.66311590202129,42.663915656143736,42.66943098938467],\"type\":\"scatter\"}],                        {\"template\":{\"data\":{\"histogram2dcontour\":[{\"type\":\"histogram2dcontour\",\"colorbar\":{\"outlinewidth\":0,\"ticks\":\"\"},\"colorscale\":[[0.0,\"#0d0887\"],[0.1111111111111111,\"#46039f\"],[0.2222222222222222,\"#7201a8\"],[0.3333333333333333,\"#9c179e\"],[0.4444444444444444,\"#bd3786\"],[0.5555555555555556,\"#d8576b\"],[0.6666666666666666,\"#ed7953\"],[0.7777777777777778,\"#fb9f3a\"],[0.8888888888888888,\"#fdca26\"],[1.0,\"#f0f921\"]]}],\"choropleth\":[{\"type\":\"choropleth\",\"colorbar\":{\"outlinewidth\":0,\"ticks\":\"\"}}],\"histogram2d\":[{\"type\":\"histogram2d\",\"colorbar\":{\"outlinewidth\":0,\"ticks\":\"\"},\"colorscale\":[[0.0,\"#0d0887\"],[0.1111111111111111,\"#46039f\"],[0.2222222222222222,\"#7201a8\"],[0.3333333333333333,\"#9c179e\"],[0.4444444444444444,\"#bd3786\"],[0.5555555555555556,\"#d8576b\"],[0.6666666666666666,\"#ed7953\"],[0.7777777777777778,\"#fb9f3a\"],[0.8888888888888888,\"#fdca26\"],[1.0,\"#f0f921\"]]}],\"heatmap\":[{\"type\":\"heatmap\",\"colorbar\":{\"outlinewidth\":0,\"ticks\":\"\"},\"colorscale\":[[0.0,\"#0d0887\"],[0.1111111111111111,\"#46039f\"],[0.2222222222222222,\"#7201a8\"],[0.3333333333333333,\"#9c179e\"],[0.4444444444444444,\"#bd3786\"],[0.5555555555555556,\"#d8576b\"],[0.6666666666666666,\"#ed7953\"],[0.7777777777777778,\"#fb9f3a\"],[0.8888888888888888,\"#fdca26\"],[1.0,\"#f0f921\"]]}],\"heatmapgl\":[{\"type\":\"heatmapgl\",\"colorbar\":{\"outlinewidth\":0,\"ticks\":\"\"},\"colorscale\":[[0.0,\"#0d0887\"],[0.1111111111111111,\"#46039f\"],[0.2222222222222222,\"#7201a8\"],[0.3333333333333333,\"#9c179e\"],[0.4444444444444444,\"#bd3786\"],[0.5555555555555556,\"#d8576b\"],[0.6666666666666666,\"#ed7953\"],[0.7777777777777778,\"#fb9f3a\"],[0.8888888888888888,\"#fdca26\"],[1.0,\"#f0f921\"]]}],\"contourcarpet\":[{\"type\":\"contourcarpet\",\"colorbar\":{\"outlinewidth\":0,\"ticks\":\"\"}}],\"contour\":[{\"type\":\"contour\",\"colorbar\":{\"outlinewidth\":0,\"ticks\":\"\"},\"colorscale\":[[0.0,\"#0d0887\"],[0.1111111111111111,\"#46039f\"],[0.2222222222222222,\"#7201a8\"],[0.3333333333333333,\"#9c179e\"],[0.4444444444444444,\"#bd3786\"],[0.5555555555555556,\"#d8576b\"],[0.6666666666666666,\"#ed7953\"],[0.7777777777777778,\"#fb9f3a\"],[0.8888888888888888,\"#fdca26\"],[1.0,\"#f0f921\"]]}],\"surface\":[{\"type\":\"surface\",\"colorbar\":{\"outlinewidth\":0,\"ticks\":\"\"},\"colorscale\":[[0.0,\"#0d0887\"],[0.1111111111111111,\"#46039f\"],[0.2222222222222222,\"#7201a8\"],[0.3333333333333333,\"#9c179e\"],[0.4444444444444444,\"#bd3786\"],[0.5555555555555556,\"#d8576b\"],[0.6666666666666666,\"#ed7953\"],[0.7777777777777778,\"#fb9f3a\"],[0.8888888888888888,\"#fdca26\"],[1.0,\"#f0f921\"]]}],\"mesh3d\":[{\"type\":\"mesh3d\",\"colorbar\":{\"outlinewidth\":0,\"ticks\":\"\"}}],\"scatter\":[{\"fillpattern\":{\"fillmode\":\"overlay\",\"size\":10,\"solidity\":0.2},\"type\":\"scatter\"}],\"parcoords\":[{\"type\":\"parcoords\",\"line\":{\"colorbar\":{\"outlinewidth\":0,\"ticks\":\"\"}}}],\"scatterpolargl\":[{\"type\":\"scatterpolargl\",\"marker\":{\"colorbar\":{\"outlinewidth\":0,\"ticks\":\"\"}}}],\"bar\":[{\"error_x\":{\"color\":\"#2a3f5f\"},\"error_y\":{\"color\":\"#2a3f5f\"},\"marker\":{\"line\":{\"color\":\"#E5ECF6\",\"width\":0.5},\"pattern\":{\"fillmode\":\"overlay\",\"size\":10,\"solidity\":0.2}},\"type\":\"bar\"}],\"scattergeo\":[{\"type\":\"scattergeo\",\"marker\":{\"colorbar\":{\"outlinewidth\":0,\"ticks\":\"\"}}}],\"scatterpolar\":[{\"type\":\"scatterpolar\",\"marker\":{\"colorbar\":{\"outlinewidth\":0,\"ticks\":\"\"}}}],\"histogram\":[{\"marker\":{\"pattern\":{\"fillmode\":\"overlay\",\"size\":10,\"solidity\":0.2}},\"type\":\"histogram\"}],\"scattergl\":[{\"type\":\"scattergl\",\"marker\":{\"colorbar\":{\"outlinewidth\":0,\"ticks\":\"\"}}}],\"scatter3d\":[{\"type\":\"scatter3d\",\"line\":{\"colorbar\":{\"outlinewidth\":0,\"ticks\":\"\"}},\"marker\":{\"colorbar\":{\"outlinewidth\":0,\"ticks\":\"\"}}}],\"scattermapbox\":[{\"type\":\"scattermapbox\",\"marker\":{\"colorbar\":{\"outlinewidth\":0,\"ticks\":\"\"}}}],\"scatterternary\":[{\"type\":\"scatterternary\",\"marker\":{\"colorbar\":{\"outlinewidth\":0,\"ticks\":\"\"}}}],\"scattercarpet\":[{\"type\":\"scattercarpet\",\"marker\":{\"colorbar\":{\"outlinewidth\":0,\"ticks\":\"\"}}}],\"carpet\":[{\"aaxis\":{\"endlinecolor\":\"#2a3f5f\",\"gridcolor\":\"white\",\"linecolor\":\"white\",\"minorgridcolor\":\"white\",\"startlinecolor\":\"#2a3f5f\"},\"baxis\":{\"endlinecolor\":\"#2a3f5f\",\"gridcolor\":\"white\",\"linecolor\":\"white\",\"minorgridcolor\":\"white\",\"startlinecolor\":\"#2a3f5f\"},\"type\":\"carpet\"}],\"table\":[{\"cells\":{\"fill\":{\"color\":\"#EBF0F8\"},\"line\":{\"color\":\"white\"}},\"header\":{\"fill\":{\"color\":\"#C8D4E3\"},\"line\":{\"color\":\"white\"}},\"type\":\"table\"}],\"barpolar\":[{\"marker\":{\"line\":{\"color\":\"#E5ECF6\",\"width\":0.5},\"pattern\":{\"fillmode\":\"overlay\",\"size\":10,\"solidity\":0.2}},\"type\":\"barpolar\"}],\"pie\":[{\"automargin\":true,\"type\":\"pie\"}]},\"layout\":{\"autotypenumbers\":\"strict\",\"colorway\":[\"#636efa\",\"#EF553B\",\"#00cc96\",\"#ab63fa\",\"#FFA15A\",\"#19d3f3\",\"#FF6692\",\"#B6E880\",\"#FF97FF\",\"#FECB52\"],\"font\":{\"color\":\"#2a3f5f\"},\"hovermode\":\"closest\",\"hoverlabel\":{\"align\":\"left\"},\"paper_bgcolor\":\"white\",\"plot_bgcolor\":\"#E5ECF6\",\"polar\":{\"bgcolor\":\"#E5ECF6\",\"angularaxis\":{\"gridcolor\":\"white\",\"linecolor\":\"white\",\"ticks\":\"\"},\"radialaxis\":{\"gridcolor\":\"white\",\"linecolor\":\"white\",\"ticks\":\"\"}},\"ternary\":{\"bgcolor\":\"#E5ECF6\",\"aaxis\":{\"gridcolor\":\"white\",\"linecolor\":\"white\",\"ticks\":\"\"},\"baxis\":{\"gridcolor\":\"white\",\"linecolor\":\"white\",\"ticks\":\"\"},\"caxis\":{\"gridcolor\":\"white\",\"linecolor\":\"white\",\"ticks\":\"\"}},\"coloraxis\":{\"colorbar\":{\"outlinewidth\":0,\"ticks\":\"\"}},\"colorscale\":{\"sequential\":[[0.0,\"#0d0887\"],[0.1111111111111111,\"#46039f\"],[0.2222222222222222,\"#7201a8\"],[0.3333333333333333,\"#9c179e\"],[0.4444444444444444,\"#bd3786\"],[0.5555555555555556,\"#d8576b\"],[0.6666666666666666,\"#ed7953\"],[0.7777777777777778,\"#fb9f3a\"],[0.8888888888888888,\"#fdca26\"],[1.0,\"#f0f921\"]],\"sequentialminus\":[[0.0,\"#0d0887\"],[0.1111111111111111,\"#46039f\"],[0.2222222222222222,\"#7201a8\"],[0.3333333333333333,\"#9c179e\"],[0.4444444444444444,\"#bd3786\"],[0.5555555555555556,\"#d8576b\"],[0.6666666666666666,\"#ed7953\"],[0.7777777777777778,\"#fb9f3a\"],[0.8888888888888888,\"#fdca26\"],[1.0,\"#f0f921\"]],\"diverging\":[[0,\"#8e0152\"],[0.1,\"#c51b7d\"],[0.2,\"#de77ae\"],[0.3,\"#f1b6da\"],[0.4,\"#fde0ef\"],[0.5,\"#f7f7f7\"],[0.6,\"#e6f5d0\"],[0.7,\"#b8e186\"],[0.8,\"#7fbc41\"],[0.9,\"#4d9221\"],[1,\"#276419\"]]},\"xaxis\":{\"gridcolor\":\"white\",\"linecolor\":\"white\",\"ticks\":\"\",\"title\":{\"standoff\":15},\"zerolinecolor\":\"white\",\"automargin\":true,\"zerolinewidth\":2},\"yaxis\":{\"gridcolor\":\"white\",\"linecolor\":\"white\",\"ticks\":\"\",\"title\":{\"standoff\":15},\"zerolinecolor\":\"white\",\"automargin\":true,\"zerolinewidth\":2},\"scene\":{\"xaxis\":{\"backgroundcolor\":\"#E5ECF6\",\"gridcolor\":\"white\",\"linecolor\":\"white\",\"showbackground\":true,\"ticks\":\"\",\"zerolinecolor\":\"white\",\"gridwidth\":2},\"yaxis\":{\"backgroundcolor\":\"#E5ECF6\",\"gridcolor\":\"white\",\"linecolor\":\"white\",\"showbackground\":true,\"ticks\":\"\",\"zerolinecolor\":\"white\",\"gridwidth\":2},\"zaxis\":{\"backgroundcolor\":\"#E5ECF6\",\"gridcolor\":\"white\",\"linecolor\":\"white\",\"showbackground\":true,\"ticks\":\"\",\"zerolinecolor\":\"white\",\"gridwidth\":2}},\"shapedefaults\":{\"line\":{\"color\":\"#2a3f5f\"}},\"annotationdefaults\":{\"arrowcolor\":\"#2a3f5f\",\"arrowhead\":0,\"arrowwidth\":1},\"geo\":{\"bgcolor\":\"white\",\"landcolor\":\"#E5ECF6\",\"subunitcolor\":\"white\",\"showland\":true,\"showlakes\":true,\"lakecolor\":\"white\"},\"title\":{\"x\":0.05},\"mapbox\":{\"style\":\"light\"}}},\"font\":{\"color\":\"#909497\",\"size\":18},\"title\":{\"font\":{\"size\":26},\"text\":\"Longitude VS Latitude\"},\"xaxis\":{\"title\":{\"text\":\"Longitude\"},\"linecolor\":\"#909497\"},\"yaxis\":{\"title\":{\"text\":\"Latitude\"},\"tickformat\":\",\",\"linecolor\":\"#909497\"},\"margin\":{\"t\":100,\"r\":80,\"b\":80,\"l\":120},\"plot_bgcolor\":\"white\",\"height\":720,\"width\":900},                        {\"responsive\": true}                    ).then(function(){\n",
       "                            \n",
       "var gd = document.getElementById('600f7a77-1e96-4322-9e4f-08a3ee5653ab');\n",
       "var x = new MutationObserver(function (mutations, observer) {{\n",
       "        var display = window.getComputedStyle(gd).display;\n",
       "        if (!display || display === 'none') {{\n",
       "            console.log([gd, 'removed!']);\n",
       "            Plotly.purge(gd);\n",
       "            observer.disconnect();\n",
       "        }}\n",
       "}});\n",
       "\n",
       "// Listen for the removal of the full notebook cells\n",
       "var notebookContainer = gd.closest('#notebook-container');\n",
       "if (notebookContainer) {{\n",
       "    x.observe(notebookContainer, {childList: true});\n",
       "}}\n",
       "\n",
       "// Listen for the clearing of the current output cell\n",
       "var outputEl = gd.closest('.output');\n",
       "if (outputEl) {{\n",
       "    x.observe(outputEl, {childList: true});\n",
       "}}\n",
       "\n",
       "                        })                };                });            </script>        </div>"
      ]
     },
     "metadata": {},
     "output_type": "display_data"
    }
   ],
   "source": [
    "fig = go.Figure()\n",
    "\n",
    "\n",
    "fig.add_trace(go.Scatter(x = data_without_outliers.longitude, y = data_without_outliers.latitude,\n",
    "                        mode = \"markers\",\n",
    "                        ))\n",
    "\n",
    "\n",
    "fig.update_layout(plot_bgcolor = \"white\",\n",
    "                 font = dict(color = \"#909497\", size = 18),\n",
    "                 title = dict(text = \"Longitude VS Latitude\", font = dict(size = 26)),\n",
    "                 xaxis = dict(title = \"Longitude\", linecolor = \"#909497\"),\n",
    "                 yaxis = dict(title = \"Latitude\", tickformat = \",\", linecolor = \"#909497\"),\n",
    "                 margin = dict(t = 100, r = 80, b = 80, l = 120),\n",
    "                 height = 720,\n",
    "                 width = 900)\n",
    "\n",
    "\n",
    "fig.show()        "
   ]
  },
  {
   "cell_type": "markdown",
   "id": "7ab54159-f82b-4b30-8f9d-fb55a1e813f7",
   "metadata": {},
   "source": [
    "Think about it as a map when u looking to this scatter plot \n",
    "as a said appove its Coordinates "
   ]
  },
  {
   "cell_type": "code",
   "execution_count": 20,
   "id": "2888781a",
   "metadata": {},
   "outputs": [],
   "source": [
    "from tools import column_summary_statistics\n",
    "from tools import plot_column_summary_statistics"
   ]
  },
  {
   "cell_type": "code",
   "execution_count": 21,
   "id": "b87d5581-2d58-4b3e-8e8d-892a1cb5b9e0",
   "metadata": {},
   "outputs": [
    {
     "data": {
      "application/vnd.plotly.v1+json": {
       "config": {
        "plotlyServerURL": "https://plot.ly"
       },
       "data": [
        {
         "name": "Total Price",
         "opacity": 0.75,
         "showlegend": false,
         "type": "bar",
         "x": [
          "Entire home/apt",
          "Private room",
          "Shared room"
         ],
         "xaxis": "x",
         "y": [
          15204,
          5009,
          105
         ],
         "yaxis": "y"
        },
        {
         "name": "Average Price",
         "opacity": 0.75,
         "showlegend": false,
         "type": "bar",
         "x": [
          "Entire home/apt",
          "Private room",
          "Shared room"
         ],
         "xaxis": "x2",
         "y": [
          112.62222222222222,
          82.11475409836065,
          105
         ],
         "yaxis": "y2"
        },
        {
         "name": "Highest Price",
         "opacity": 0.75,
         "showlegend": false,
         "type": "bar",
         "x": [
          "Entire home/apt",
          "Private room",
          "Shared room"
         ],
         "xaxis": "x3",
         "y": [
          197,
          199,
          105
         ],
         "yaxis": "y3"
        },
        {
         "name": "Lowest Price",
         "opacity": 0.75,
         "showlegend": false,
         "type": "bar",
         "x": [
          "Entire home/apt",
          "Private room",
          "Shared room"
         ],
         "xaxis": "x4",
         "y": [
          60,
          33,
          105
         ],
         "yaxis": "y4"
        }
       ],
       "layout": {
        "annotations": [
         {
          "font": {
           "size": 16
          },
          "showarrow": false,
          "text": "Total Price",
          "x": 0.225,
          "xanchor": "center",
          "xref": "paper",
          "y": 1,
          "yanchor": "bottom",
          "yref": "paper"
         },
         {
          "font": {
           "size": 16
          },
          "showarrow": false,
          "text": "Average Price",
          "x": 0.775,
          "xanchor": "center",
          "xref": "paper",
          "y": 1,
          "yanchor": "bottom",
          "yref": "paper"
         },
         {
          "font": {
           "size": 16
          },
          "showarrow": false,
          "text": "Highest Price",
          "x": 0.225,
          "xanchor": "center",
          "xref": "paper",
          "y": 0.375,
          "yanchor": "bottom",
          "yref": "paper"
         },
         {
          "font": {
           "size": 16
          },
          "showarrow": false,
          "text": "Lowest Price",
          "x": 0.775,
          "xanchor": "center",
          "xref": "paper",
          "y": 0.375,
          "yanchor": "bottom",
          "yref": "paper"
         }
        ],
        "font": {
         "color": "#909497",
         "size": 18
        },
        "height": 1200,
        "hovermode": "closest",
        "margin": {
         "b": 80,
         "l": 120,
         "r": 80,
         "t": 100
        },
        "plot_bgcolor": "white",
        "template": {
         "data": {
          "bar": [
           {
            "error_x": {
             "color": "#2a3f5f"
            },
            "error_y": {
             "color": "#2a3f5f"
            },
            "marker": {
             "line": {
              "color": "#E5ECF6",
              "width": 0.5
             },
             "pattern": {
              "fillmode": "overlay",
              "size": 10,
              "solidity": 0.2
             }
            },
            "type": "bar"
           }
          ],
          "barpolar": [
           {
            "marker": {
             "line": {
              "color": "#E5ECF6",
              "width": 0.5
             },
             "pattern": {
              "fillmode": "overlay",
              "size": 10,
              "solidity": 0.2
             }
            },
            "type": "barpolar"
           }
          ],
          "carpet": [
           {
            "aaxis": {
             "endlinecolor": "#2a3f5f",
             "gridcolor": "white",
             "linecolor": "white",
             "minorgridcolor": "white",
             "startlinecolor": "#2a3f5f"
            },
            "baxis": {
             "endlinecolor": "#2a3f5f",
             "gridcolor": "white",
             "linecolor": "white",
             "minorgridcolor": "white",
             "startlinecolor": "#2a3f5f"
            },
            "type": "carpet"
           }
          ],
          "choropleth": [
           {
            "colorbar": {
             "outlinewidth": 0,
             "ticks": ""
            },
            "type": "choropleth"
           }
          ],
          "contour": [
           {
            "colorbar": {
             "outlinewidth": 0,
             "ticks": ""
            },
            "colorscale": [
             [
              0,
              "#0d0887"
             ],
             [
              0.1111111111111111,
              "#46039f"
             ],
             [
              0.2222222222222222,
              "#7201a8"
             ],
             [
              0.3333333333333333,
              "#9c179e"
             ],
             [
              0.4444444444444444,
              "#bd3786"
             ],
             [
              0.5555555555555556,
              "#d8576b"
             ],
             [
              0.6666666666666666,
              "#ed7953"
             ],
             [
              0.7777777777777778,
              "#fb9f3a"
             ],
             [
              0.8888888888888888,
              "#fdca26"
             ],
             [
              1,
              "#f0f921"
             ]
            ],
            "type": "contour"
           }
          ],
          "contourcarpet": [
           {
            "colorbar": {
             "outlinewidth": 0,
             "ticks": ""
            },
            "type": "contourcarpet"
           }
          ],
          "heatmap": [
           {
            "colorbar": {
             "outlinewidth": 0,
             "ticks": ""
            },
            "colorscale": [
             [
              0,
              "#0d0887"
             ],
             [
              0.1111111111111111,
              "#46039f"
             ],
             [
              0.2222222222222222,
              "#7201a8"
             ],
             [
              0.3333333333333333,
              "#9c179e"
             ],
             [
              0.4444444444444444,
              "#bd3786"
             ],
             [
              0.5555555555555556,
              "#d8576b"
             ],
             [
              0.6666666666666666,
              "#ed7953"
             ],
             [
              0.7777777777777778,
              "#fb9f3a"
             ],
             [
              0.8888888888888888,
              "#fdca26"
             ],
             [
              1,
              "#f0f921"
             ]
            ],
            "type": "heatmap"
           }
          ],
          "heatmapgl": [
           {
            "colorbar": {
             "outlinewidth": 0,
             "ticks": ""
            },
            "colorscale": [
             [
              0,
              "#0d0887"
             ],
             [
              0.1111111111111111,
              "#46039f"
             ],
             [
              0.2222222222222222,
              "#7201a8"
             ],
             [
              0.3333333333333333,
              "#9c179e"
             ],
             [
              0.4444444444444444,
              "#bd3786"
             ],
             [
              0.5555555555555556,
              "#d8576b"
             ],
             [
              0.6666666666666666,
              "#ed7953"
             ],
             [
              0.7777777777777778,
              "#fb9f3a"
             ],
             [
              0.8888888888888888,
              "#fdca26"
             ],
             [
              1,
              "#f0f921"
             ]
            ],
            "type": "heatmapgl"
           }
          ],
          "histogram": [
           {
            "marker": {
             "pattern": {
              "fillmode": "overlay",
              "size": 10,
              "solidity": 0.2
             }
            },
            "type": "histogram"
           }
          ],
          "histogram2d": [
           {
            "colorbar": {
             "outlinewidth": 0,
             "ticks": ""
            },
            "colorscale": [
             [
              0,
              "#0d0887"
             ],
             [
              0.1111111111111111,
              "#46039f"
             ],
             [
              0.2222222222222222,
              "#7201a8"
             ],
             [
              0.3333333333333333,
              "#9c179e"
             ],
             [
              0.4444444444444444,
              "#bd3786"
             ],
             [
              0.5555555555555556,
              "#d8576b"
             ],
             [
              0.6666666666666666,
              "#ed7953"
             ],
             [
              0.7777777777777778,
              "#fb9f3a"
             ],
             [
              0.8888888888888888,
              "#fdca26"
             ],
             [
              1,
              "#f0f921"
             ]
            ],
            "type": "histogram2d"
           }
          ],
          "histogram2dcontour": [
           {
            "colorbar": {
             "outlinewidth": 0,
             "ticks": ""
            },
            "colorscale": [
             [
              0,
              "#0d0887"
             ],
             [
              0.1111111111111111,
              "#46039f"
             ],
             [
              0.2222222222222222,
              "#7201a8"
             ],
             [
              0.3333333333333333,
              "#9c179e"
             ],
             [
              0.4444444444444444,
              "#bd3786"
             ],
             [
              0.5555555555555556,
              "#d8576b"
             ],
             [
              0.6666666666666666,
              "#ed7953"
             ],
             [
              0.7777777777777778,
              "#fb9f3a"
             ],
             [
              0.8888888888888888,
              "#fdca26"
             ],
             [
              1,
              "#f0f921"
             ]
            ],
            "type": "histogram2dcontour"
           }
          ],
          "mesh3d": [
           {
            "colorbar": {
             "outlinewidth": 0,
             "ticks": ""
            },
            "type": "mesh3d"
           }
          ],
          "parcoords": [
           {
            "line": {
             "colorbar": {
              "outlinewidth": 0,
              "ticks": ""
             }
            },
            "type": "parcoords"
           }
          ],
          "pie": [
           {
            "automargin": true,
            "type": "pie"
           }
          ],
          "scatter": [
           {
            "fillpattern": {
             "fillmode": "overlay",
             "size": 10,
             "solidity": 0.2
            },
            "type": "scatter"
           }
          ],
          "scatter3d": [
           {
            "line": {
             "colorbar": {
              "outlinewidth": 0,
              "ticks": ""
             }
            },
            "marker": {
             "colorbar": {
              "outlinewidth": 0,
              "ticks": ""
             }
            },
            "type": "scatter3d"
           }
          ],
          "scattercarpet": [
           {
            "marker": {
             "colorbar": {
              "outlinewidth": 0,
              "ticks": ""
             }
            },
            "type": "scattercarpet"
           }
          ],
          "scattergeo": [
           {
            "marker": {
             "colorbar": {
              "outlinewidth": 0,
              "ticks": ""
             }
            },
            "type": "scattergeo"
           }
          ],
          "scattergl": [
           {
            "marker": {
             "colorbar": {
              "outlinewidth": 0,
              "ticks": ""
             }
            },
            "type": "scattergl"
           }
          ],
          "scattermapbox": [
           {
            "marker": {
             "colorbar": {
              "outlinewidth": 0,
              "ticks": ""
             }
            },
            "type": "scattermapbox"
           }
          ],
          "scatterpolar": [
           {
            "marker": {
             "colorbar": {
              "outlinewidth": 0,
              "ticks": ""
             }
            },
            "type": "scatterpolar"
           }
          ],
          "scatterpolargl": [
           {
            "marker": {
             "colorbar": {
              "outlinewidth": 0,
              "ticks": ""
             }
            },
            "type": "scatterpolargl"
           }
          ],
          "scatterternary": [
           {
            "marker": {
             "colorbar": {
              "outlinewidth": 0,
              "ticks": ""
             }
            },
            "type": "scatterternary"
           }
          ],
          "surface": [
           {
            "colorbar": {
             "outlinewidth": 0,
             "ticks": ""
            },
            "colorscale": [
             [
              0,
              "#0d0887"
             ],
             [
              0.1111111111111111,
              "#46039f"
             ],
             [
              0.2222222222222222,
              "#7201a8"
             ],
             [
              0.3333333333333333,
              "#9c179e"
             ],
             [
              0.4444444444444444,
              "#bd3786"
             ],
             [
              0.5555555555555556,
              "#d8576b"
             ],
             [
              0.6666666666666666,
              "#ed7953"
             ],
             [
              0.7777777777777778,
              "#fb9f3a"
             ],
             [
              0.8888888888888888,
              "#fdca26"
             ],
             [
              1,
              "#f0f921"
             ]
            ],
            "type": "surface"
           }
          ],
          "table": [
           {
            "cells": {
             "fill": {
              "color": "#EBF0F8"
             },
             "line": {
              "color": "white"
             }
            },
            "header": {
             "fill": {
              "color": "#C8D4E3"
             },
             "line": {
              "color": "white"
             }
            },
            "type": "table"
           }
          ]
         },
         "layout": {
          "annotationdefaults": {
           "arrowcolor": "#2a3f5f",
           "arrowhead": 0,
           "arrowwidth": 1
          },
          "autotypenumbers": "strict",
          "coloraxis": {
           "colorbar": {
            "outlinewidth": 0,
            "ticks": ""
           }
          },
          "colorscale": {
           "diverging": [
            [
             0,
             "#8e0152"
            ],
            [
             0.1,
             "#c51b7d"
            ],
            [
             0.2,
             "#de77ae"
            ],
            [
             0.3,
             "#f1b6da"
            ],
            [
             0.4,
             "#fde0ef"
            ],
            [
             0.5,
             "#f7f7f7"
            ],
            [
             0.6,
             "#e6f5d0"
            ],
            [
             0.7,
             "#b8e186"
            ],
            [
             0.8,
             "#7fbc41"
            ],
            [
             0.9,
             "#4d9221"
            ],
            [
             1,
             "#276419"
            ]
           ],
           "sequential": [
            [
             0,
             "#0d0887"
            ],
            [
             0.1111111111111111,
             "#46039f"
            ],
            [
             0.2222222222222222,
             "#7201a8"
            ],
            [
             0.3333333333333333,
             "#9c179e"
            ],
            [
             0.4444444444444444,
             "#bd3786"
            ],
            [
             0.5555555555555556,
             "#d8576b"
            ],
            [
             0.6666666666666666,
             "#ed7953"
            ],
            [
             0.7777777777777778,
             "#fb9f3a"
            ],
            [
             0.8888888888888888,
             "#fdca26"
            ],
            [
             1,
             "#f0f921"
            ]
           ],
           "sequentialminus": [
            [
             0,
             "#0d0887"
            ],
            [
             0.1111111111111111,
             "#46039f"
            ],
            [
             0.2222222222222222,
             "#7201a8"
            ],
            [
             0.3333333333333333,
             "#9c179e"
            ],
            [
             0.4444444444444444,
             "#bd3786"
            ],
            [
             0.5555555555555556,
             "#d8576b"
            ],
            [
             0.6666666666666666,
             "#ed7953"
            ],
            [
             0.7777777777777778,
             "#fb9f3a"
            ],
            [
             0.8888888888888888,
             "#fdca26"
            ],
            [
             1,
             "#f0f921"
            ]
           ]
          },
          "colorway": [
           "#636efa",
           "#EF553B",
           "#00cc96",
           "#ab63fa",
           "#FFA15A",
           "#19d3f3",
           "#FF6692",
           "#B6E880",
           "#FF97FF",
           "#FECB52"
          ],
          "font": {
           "color": "#2a3f5f"
          },
          "geo": {
           "bgcolor": "white",
           "lakecolor": "white",
           "landcolor": "#E5ECF6",
           "showlakes": true,
           "showland": true,
           "subunitcolor": "white"
          },
          "hoverlabel": {
           "align": "left"
          },
          "hovermode": "closest",
          "mapbox": {
           "style": "light"
          },
          "paper_bgcolor": "white",
          "plot_bgcolor": "#E5ECF6",
          "polar": {
           "angularaxis": {
            "gridcolor": "white",
            "linecolor": "white",
            "ticks": ""
           },
           "bgcolor": "#E5ECF6",
           "radialaxis": {
            "gridcolor": "white",
            "linecolor": "white",
            "ticks": ""
           }
          },
          "scene": {
           "xaxis": {
            "backgroundcolor": "#E5ECF6",
            "gridcolor": "white",
            "gridwidth": 2,
            "linecolor": "white",
            "showbackground": true,
            "ticks": "",
            "zerolinecolor": "white"
           },
           "yaxis": {
            "backgroundcolor": "#E5ECF6",
            "gridcolor": "white",
            "gridwidth": 2,
            "linecolor": "white",
            "showbackground": true,
            "ticks": "",
            "zerolinecolor": "white"
           },
           "zaxis": {
            "backgroundcolor": "#E5ECF6",
            "gridcolor": "white",
            "gridwidth": 2,
            "linecolor": "white",
            "showbackground": true,
            "ticks": "",
            "zerolinecolor": "white"
           }
          },
          "shapedefaults": {
           "line": {
            "color": "#2a3f5f"
           }
          },
          "ternary": {
           "aaxis": {
            "gridcolor": "white",
            "linecolor": "white",
            "ticks": ""
           },
           "baxis": {
            "gridcolor": "white",
            "linecolor": "white",
            "ticks": ""
           },
           "bgcolor": "#E5ECF6",
           "caxis": {
            "gridcolor": "white",
            "linecolor": "white",
            "ticks": ""
           }
          },
          "title": {
           "x": 0.05
          },
          "xaxis": {
           "automargin": true,
           "gridcolor": "white",
           "linecolor": "white",
           "ticks": "",
           "title": {
            "standoff": 15
           },
           "zerolinecolor": "white",
           "zerolinewidth": 2
          },
          "yaxis": {
           "automargin": true,
           "gridcolor": "white",
           "linecolor": "white",
           "ticks": "",
           "title": {
            "standoff": 15
           },
           "zerolinecolor": "white",
           "zerolinewidth": 2
          }
         }
        },
        "title": {
         "font": {
          "size": 26
         },
         "text": "Room_Type VS Total Price , Average Price , Highest Price , Lowest Price"
        },
        "width": 1000,
        "xaxis": {
         "anchor": "y",
         "domain": [
          0,
          0.45
         ]
        },
        "xaxis2": {
         "anchor": "y2",
         "domain": [
          0.55,
          1
         ]
        },
        "xaxis3": {
         "anchor": "y3",
         "domain": [
          0,
          0.45
         ]
        },
        "xaxis4": {
         "anchor": "y4",
         "domain": [
          0.55,
          1
         ]
        },
        "yaxis": {
         "anchor": "x",
         "domain": [
          0.625,
          1
         ]
        },
        "yaxis2": {
         "anchor": "x2",
         "domain": [
          0.625,
          1
         ]
        },
        "yaxis3": {
         "anchor": "x3",
         "domain": [
          0,
          0.375
         ]
        },
        "yaxis4": {
         "anchor": "x4",
         "domain": [
          0,
          0.375
         ]
        }
       }
      },
      "text/html": [
       "<div>                            <div id=\"b6ccdeea-51bf-4787-9ae2-dfc704f49b12\" class=\"plotly-graph-div\" style=\"height:1200px; width:1000px;\"></div>            <script type=\"text/javascript\">                require([\"plotly\"], function(Plotly) {                    window.PLOTLYENV=window.PLOTLYENV || {};                                    if (document.getElementById(\"b6ccdeea-51bf-4787-9ae2-dfc704f49b12\")) {                    Plotly.newPlot(                        \"b6ccdeea-51bf-4787-9ae2-dfc704f49b12\",                        [{\"name\":\"Total Price\",\"opacity\":0.75,\"showlegend\":false,\"x\":[\"Entire home/apt\",\"Private room\",\"Shared room\"],\"y\":[15204.0,5009.0,105.0],\"type\":\"bar\",\"xaxis\":\"x\",\"yaxis\":\"y\"},{\"name\":\"Average Price\",\"opacity\":0.75,\"showlegend\":false,\"x\":[\"Entire home/apt\",\"Private room\",\"Shared room\"],\"y\":[112.62222222222222,82.11475409836065,105.0],\"type\":\"bar\",\"xaxis\":\"x2\",\"yaxis\":\"y2\"},{\"name\":\"Highest Price\",\"opacity\":0.75,\"showlegend\":false,\"x\":[\"Entire home/apt\",\"Private room\",\"Shared room\"],\"y\":[197.0,199.0,105.0],\"type\":\"bar\",\"xaxis\":\"x3\",\"yaxis\":\"y3\"},{\"name\":\"Lowest Price\",\"opacity\":0.75,\"showlegend\":false,\"x\":[\"Entire home/apt\",\"Private room\",\"Shared room\"],\"y\":[60.0,33.0,105.0],\"type\":\"bar\",\"xaxis\":\"x4\",\"yaxis\":\"y4\"}],                        {\"template\":{\"data\":{\"histogram2dcontour\":[{\"type\":\"histogram2dcontour\",\"colorbar\":{\"outlinewidth\":0,\"ticks\":\"\"},\"colorscale\":[[0.0,\"#0d0887\"],[0.1111111111111111,\"#46039f\"],[0.2222222222222222,\"#7201a8\"],[0.3333333333333333,\"#9c179e\"],[0.4444444444444444,\"#bd3786\"],[0.5555555555555556,\"#d8576b\"],[0.6666666666666666,\"#ed7953\"],[0.7777777777777778,\"#fb9f3a\"],[0.8888888888888888,\"#fdca26\"],[1.0,\"#f0f921\"]]}],\"choropleth\":[{\"type\":\"choropleth\",\"colorbar\":{\"outlinewidth\":0,\"ticks\":\"\"}}],\"histogram2d\":[{\"type\":\"histogram2d\",\"colorbar\":{\"outlinewidth\":0,\"ticks\":\"\"},\"colorscale\":[[0.0,\"#0d0887\"],[0.1111111111111111,\"#46039f\"],[0.2222222222222222,\"#7201a8\"],[0.3333333333333333,\"#9c179e\"],[0.4444444444444444,\"#bd3786\"],[0.5555555555555556,\"#d8576b\"],[0.6666666666666666,\"#ed7953\"],[0.7777777777777778,\"#fb9f3a\"],[0.8888888888888888,\"#fdca26\"],[1.0,\"#f0f921\"]]}],\"heatmap\":[{\"type\":\"heatmap\",\"colorbar\":{\"outlinewidth\":0,\"ticks\":\"\"},\"colorscale\":[[0.0,\"#0d0887\"],[0.1111111111111111,\"#46039f\"],[0.2222222222222222,\"#7201a8\"],[0.3333333333333333,\"#9c179e\"],[0.4444444444444444,\"#bd3786\"],[0.5555555555555556,\"#d8576b\"],[0.6666666666666666,\"#ed7953\"],[0.7777777777777778,\"#fb9f3a\"],[0.8888888888888888,\"#fdca26\"],[1.0,\"#f0f921\"]]}],\"heatmapgl\":[{\"type\":\"heatmapgl\",\"colorbar\":{\"outlinewidth\":0,\"ticks\":\"\"},\"colorscale\":[[0.0,\"#0d0887\"],[0.1111111111111111,\"#46039f\"],[0.2222222222222222,\"#7201a8\"],[0.3333333333333333,\"#9c179e\"],[0.4444444444444444,\"#bd3786\"],[0.5555555555555556,\"#d8576b\"],[0.6666666666666666,\"#ed7953\"],[0.7777777777777778,\"#fb9f3a\"],[0.8888888888888888,\"#fdca26\"],[1.0,\"#f0f921\"]]}],\"contourcarpet\":[{\"type\":\"contourcarpet\",\"colorbar\":{\"outlinewidth\":0,\"ticks\":\"\"}}],\"contour\":[{\"type\":\"contour\",\"colorbar\":{\"outlinewidth\":0,\"ticks\":\"\"},\"colorscale\":[[0.0,\"#0d0887\"],[0.1111111111111111,\"#46039f\"],[0.2222222222222222,\"#7201a8\"],[0.3333333333333333,\"#9c179e\"],[0.4444444444444444,\"#bd3786\"],[0.5555555555555556,\"#d8576b\"],[0.6666666666666666,\"#ed7953\"],[0.7777777777777778,\"#fb9f3a\"],[0.8888888888888888,\"#fdca26\"],[1.0,\"#f0f921\"]]}],\"surface\":[{\"type\":\"surface\",\"colorbar\":{\"outlinewidth\":0,\"ticks\":\"\"},\"colorscale\":[[0.0,\"#0d0887\"],[0.1111111111111111,\"#46039f\"],[0.2222222222222222,\"#7201a8\"],[0.3333333333333333,\"#9c179e\"],[0.4444444444444444,\"#bd3786\"],[0.5555555555555556,\"#d8576b\"],[0.6666666666666666,\"#ed7953\"],[0.7777777777777778,\"#fb9f3a\"],[0.8888888888888888,\"#fdca26\"],[1.0,\"#f0f921\"]]}],\"mesh3d\":[{\"type\":\"mesh3d\",\"colorbar\":{\"outlinewidth\":0,\"ticks\":\"\"}}],\"scatter\":[{\"fillpattern\":{\"fillmode\":\"overlay\",\"size\":10,\"solidity\":0.2},\"type\":\"scatter\"}],\"parcoords\":[{\"type\":\"parcoords\",\"line\":{\"colorbar\":{\"outlinewidth\":0,\"ticks\":\"\"}}}],\"scatterpolargl\":[{\"type\":\"scatterpolargl\",\"marker\":{\"colorbar\":{\"outlinewidth\":0,\"ticks\":\"\"}}}],\"bar\":[{\"error_x\":{\"color\":\"#2a3f5f\"},\"error_y\":{\"color\":\"#2a3f5f\"},\"marker\":{\"line\":{\"color\":\"#E5ECF6\",\"width\":0.5},\"pattern\":{\"fillmode\":\"overlay\",\"size\":10,\"solidity\":0.2}},\"type\":\"bar\"}],\"scattergeo\":[{\"type\":\"scattergeo\",\"marker\":{\"colorbar\":{\"outlinewidth\":0,\"ticks\":\"\"}}}],\"scatterpolar\":[{\"type\":\"scatterpolar\",\"marker\":{\"colorbar\":{\"outlinewidth\":0,\"ticks\":\"\"}}}],\"histogram\":[{\"marker\":{\"pattern\":{\"fillmode\":\"overlay\",\"size\":10,\"solidity\":0.2}},\"type\":\"histogram\"}],\"scattergl\":[{\"type\":\"scattergl\",\"marker\":{\"colorbar\":{\"outlinewidth\":0,\"ticks\":\"\"}}}],\"scatter3d\":[{\"type\":\"scatter3d\",\"line\":{\"colorbar\":{\"outlinewidth\":0,\"ticks\":\"\"}},\"marker\":{\"colorbar\":{\"outlinewidth\":0,\"ticks\":\"\"}}}],\"scattermapbox\":[{\"type\":\"scattermapbox\",\"marker\":{\"colorbar\":{\"outlinewidth\":0,\"ticks\":\"\"}}}],\"scatterternary\":[{\"type\":\"scatterternary\",\"marker\":{\"colorbar\":{\"outlinewidth\":0,\"ticks\":\"\"}}}],\"scattercarpet\":[{\"type\":\"scattercarpet\",\"marker\":{\"colorbar\":{\"outlinewidth\":0,\"ticks\":\"\"}}}],\"carpet\":[{\"aaxis\":{\"endlinecolor\":\"#2a3f5f\",\"gridcolor\":\"white\",\"linecolor\":\"white\",\"minorgridcolor\":\"white\",\"startlinecolor\":\"#2a3f5f\"},\"baxis\":{\"endlinecolor\":\"#2a3f5f\",\"gridcolor\":\"white\",\"linecolor\":\"white\",\"minorgridcolor\":\"white\",\"startlinecolor\":\"#2a3f5f\"},\"type\":\"carpet\"}],\"table\":[{\"cells\":{\"fill\":{\"color\":\"#EBF0F8\"},\"line\":{\"color\":\"white\"}},\"header\":{\"fill\":{\"color\":\"#C8D4E3\"},\"line\":{\"color\":\"white\"}},\"type\":\"table\"}],\"barpolar\":[{\"marker\":{\"line\":{\"color\":\"#E5ECF6\",\"width\":0.5},\"pattern\":{\"fillmode\":\"overlay\",\"size\":10,\"solidity\":0.2}},\"type\":\"barpolar\"}],\"pie\":[{\"automargin\":true,\"type\":\"pie\"}]},\"layout\":{\"autotypenumbers\":\"strict\",\"colorway\":[\"#636efa\",\"#EF553B\",\"#00cc96\",\"#ab63fa\",\"#FFA15A\",\"#19d3f3\",\"#FF6692\",\"#B6E880\",\"#FF97FF\",\"#FECB52\"],\"font\":{\"color\":\"#2a3f5f\"},\"hovermode\":\"closest\",\"hoverlabel\":{\"align\":\"left\"},\"paper_bgcolor\":\"white\",\"plot_bgcolor\":\"#E5ECF6\",\"polar\":{\"bgcolor\":\"#E5ECF6\",\"angularaxis\":{\"gridcolor\":\"white\",\"linecolor\":\"white\",\"ticks\":\"\"},\"radialaxis\":{\"gridcolor\":\"white\",\"linecolor\":\"white\",\"ticks\":\"\"}},\"ternary\":{\"bgcolor\":\"#E5ECF6\",\"aaxis\":{\"gridcolor\":\"white\",\"linecolor\":\"white\",\"ticks\":\"\"},\"baxis\":{\"gridcolor\":\"white\",\"linecolor\":\"white\",\"ticks\":\"\"},\"caxis\":{\"gridcolor\":\"white\",\"linecolor\":\"white\",\"ticks\":\"\"}},\"coloraxis\":{\"colorbar\":{\"outlinewidth\":0,\"ticks\":\"\"}},\"colorscale\":{\"sequential\":[[0.0,\"#0d0887\"],[0.1111111111111111,\"#46039f\"],[0.2222222222222222,\"#7201a8\"],[0.3333333333333333,\"#9c179e\"],[0.4444444444444444,\"#bd3786\"],[0.5555555555555556,\"#d8576b\"],[0.6666666666666666,\"#ed7953\"],[0.7777777777777778,\"#fb9f3a\"],[0.8888888888888888,\"#fdca26\"],[1.0,\"#f0f921\"]],\"sequentialminus\":[[0.0,\"#0d0887\"],[0.1111111111111111,\"#46039f\"],[0.2222222222222222,\"#7201a8\"],[0.3333333333333333,\"#9c179e\"],[0.4444444444444444,\"#bd3786\"],[0.5555555555555556,\"#d8576b\"],[0.6666666666666666,\"#ed7953\"],[0.7777777777777778,\"#fb9f3a\"],[0.8888888888888888,\"#fdca26\"],[1.0,\"#f0f921\"]],\"diverging\":[[0,\"#8e0152\"],[0.1,\"#c51b7d\"],[0.2,\"#de77ae\"],[0.3,\"#f1b6da\"],[0.4,\"#fde0ef\"],[0.5,\"#f7f7f7\"],[0.6,\"#e6f5d0\"],[0.7,\"#b8e186\"],[0.8,\"#7fbc41\"],[0.9,\"#4d9221\"],[1,\"#276419\"]]},\"xaxis\":{\"gridcolor\":\"white\",\"linecolor\":\"white\",\"ticks\":\"\",\"title\":{\"standoff\":15},\"zerolinecolor\":\"white\",\"automargin\":true,\"zerolinewidth\":2},\"yaxis\":{\"gridcolor\":\"white\",\"linecolor\":\"white\",\"ticks\":\"\",\"title\":{\"standoff\":15},\"zerolinecolor\":\"white\",\"automargin\":true,\"zerolinewidth\":2},\"scene\":{\"xaxis\":{\"backgroundcolor\":\"#E5ECF6\",\"gridcolor\":\"white\",\"linecolor\":\"white\",\"showbackground\":true,\"ticks\":\"\",\"zerolinecolor\":\"white\",\"gridwidth\":2},\"yaxis\":{\"backgroundcolor\":\"#E5ECF6\",\"gridcolor\":\"white\",\"linecolor\":\"white\",\"showbackground\":true,\"ticks\":\"\",\"zerolinecolor\":\"white\",\"gridwidth\":2},\"zaxis\":{\"backgroundcolor\":\"#E5ECF6\",\"gridcolor\":\"white\",\"linecolor\":\"white\",\"showbackground\":true,\"ticks\":\"\",\"zerolinecolor\":\"white\",\"gridwidth\":2}},\"shapedefaults\":{\"line\":{\"color\":\"#2a3f5f\"}},\"annotationdefaults\":{\"arrowcolor\":\"#2a3f5f\",\"arrowhead\":0,\"arrowwidth\":1},\"geo\":{\"bgcolor\":\"white\",\"landcolor\":\"#E5ECF6\",\"subunitcolor\":\"white\",\"showland\":true,\"showlakes\":true,\"lakecolor\":\"white\"},\"title\":{\"x\":0.05},\"mapbox\":{\"style\":\"light\"}}},\"xaxis\":{\"anchor\":\"y\",\"domain\":[0.0,0.45]},\"yaxis\":{\"anchor\":\"x\",\"domain\":[0.625,1.0]},\"xaxis2\":{\"anchor\":\"y2\",\"domain\":[0.55,1.0]},\"yaxis2\":{\"anchor\":\"x2\",\"domain\":[0.625,1.0]},\"xaxis3\":{\"anchor\":\"y3\",\"domain\":[0.0,0.45]},\"yaxis3\":{\"anchor\":\"x3\",\"domain\":[0.0,0.375]},\"xaxis4\":{\"anchor\":\"y4\",\"domain\":[0.55,1.0]},\"yaxis4\":{\"anchor\":\"x4\",\"domain\":[0.0,0.375]},\"annotations\":[{\"font\":{\"size\":16},\"showarrow\":false,\"text\":\"Total Price\",\"x\":0.225,\"xanchor\":\"center\",\"xref\":\"paper\",\"y\":1.0,\"yanchor\":\"bottom\",\"yref\":\"paper\"},{\"font\":{\"size\":16},\"showarrow\":false,\"text\":\"Average Price\",\"x\":0.775,\"xanchor\":\"center\",\"xref\":\"paper\",\"y\":1.0,\"yanchor\":\"bottom\",\"yref\":\"paper\"},{\"font\":{\"size\":16},\"showarrow\":false,\"text\":\"Highest Price\",\"x\":0.225,\"xanchor\":\"center\",\"xref\":\"paper\",\"y\":0.375,\"yanchor\":\"bottom\",\"yref\":\"paper\"},{\"font\":{\"size\":16},\"showarrow\":false,\"text\":\"Lowest Price\",\"x\":0.775,\"xanchor\":\"center\",\"xref\":\"paper\",\"y\":0.375,\"yanchor\":\"bottom\",\"yref\":\"paper\"}],\"font\":{\"color\":\"#909497\",\"size\":18},\"title\":{\"font\":{\"size\":26},\"text\":\"Room_Type VS Total Price , Average Price , Highest Price , Lowest Price\"},\"margin\":{\"t\":100,\"r\":80,\"b\":80,\"l\":120},\"plot_bgcolor\":\"white\",\"hovermode\":\"closest\",\"height\":1200,\"width\":1000},                        {\"responsive\": true}                    ).then(function(){\n",
       "                            \n",
       "var gd = document.getElementById('b6ccdeea-51bf-4787-9ae2-dfc704f49b12');\n",
       "var x = new MutationObserver(function (mutations, observer) {{\n",
       "        var display = window.getComputedStyle(gd).display;\n",
       "        if (!display || display === 'none') {{\n",
       "            console.log([gd, 'removed!']);\n",
       "            Plotly.purge(gd);\n",
       "            observer.disconnect();\n",
       "        }}\n",
       "}});\n",
       "\n",
       "// Listen for the removal of the full notebook cells\n",
       "var notebookContainer = gd.closest('#notebook-container');\n",
       "if (notebookContainer) {{\n",
       "    x.observe(notebookContainer, {childList: true});\n",
       "}}\n",
       "\n",
       "// Listen for the clearing of the current output cell\n",
       "var outputEl = gd.closest('.output');\n",
       "if (outputEl) {{\n",
       "    x.observe(outputEl, {childList: true});\n",
       "}}\n",
       "\n",
       "                        })                };                });            </script>        </div>"
      ]
     },
     "metadata": {},
     "output_type": "display_data"
    }
   ],
   "source": [
    "plot_column_summary_statistics(column_summary_statistics(data_without_outliers , \"room_type\" , \"price\"))"
   ]
  },
  {
   "cell_type": "markdown",
   "id": "c0a7e4f5",
   "metadata": {},
   "source": [
    "the Private room and Entire Home/apt has a highest price  in dataset <br>\n",
    "and the shared room has the highest price within the lowest price <br>"
   ]
  },
  {
   "cell_type": "code",
   "execution_count": 22,
   "id": "4130915c",
   "metadata": {},
   "outputs": [
    {
     "data": {
      "application/vnd.plotly.v1+json": {
       "config": {
        "plotlyServerURL": "https://plot.ly"
       },
       "data": [
        {
         "name": "Total Price",
         "opacity": 0.75,
         "showlegend": false,
         "type": "bar",
         "x": [
          "EIGHTH WARD",
          "ELEVENTH WARD",
          "FIFTEENTH WARD",
          "FIFTH WARD",
          "FOURTEENTH WARD",
          "FOURTH WARD",
          "NINTH WARD",
          "SECOND WARD",
          "SEVENTH WARD",
          "SIXTH WARD",
          "TENTH WARD",
          "THIRD WARD",
          "THIRTEENTH WARD",
          "TWELFTH WARD"
         ],
         "xaxis": "x",
         "y": [
          143,
          947,
          743,
          586,
          1593,
          930,
          2085,
          2530,
          794,
          4689,
          2038,
          1590,
          1320,
          330
         ],
         "yaxis": "y"
        },
        {
         "name": "Average Price",
         "opacity": 0.75,
         "showlegend": false,
         "type": "bar",
         "x": [
          "EIGHTH WARD",
          "ELEVENTH WARD",
          "FIFTEENTH WARD",
          "FIFTH WARD",
          "FOURTEENTH WARD",
          "FOURTH WARD",
          "NINTH WARD",
          "SECOND WARD",
          "SEVENTH WARD",
          "SIXTH WARD",
          "TENTH WARD",
          "THIRD WARD",
          "THIRTEENTH WARD",
          "TWELFTH WARD"
         ],
         "xaxis": "x2",
         "y": [
          143,
          105.22222222222223,
          106.14285714285714,
          97.66666666666667,
          88.5,
          116.25,
          86.875,
          120.47619047619048,
          113.42857142857143,
          106.56818181818181,
          113.22222222222223,
          99.375,
          82.5,
          165
         ],
         "yaxis": "y2"
        },
        {
         "name": "Highest Price",
         "opacity": 0.75,
         "showlegend": false,
         "type": "bar",
         "x": [
          "EIGHTH WARD",
          "ELEVENTH WARD",
          "FIFTEENTH WARD",
          "FIFTH WARD",
          "FOURTEENTH WARD",
          "FOURTH WARD",
          "NINTH WARD",
          "SECOND WARD",
          "SEVENTH WARD",
          "SIXTH WARD",
          "TENTH WARD",
          "THIRD WARD",
          "THIRTEENTH WARD",
          "TWELFTH WARD"
         ],
         "xaxis": "x3",
         "y": [
          143,
          184,
          196,
          120,
          185,
          150,
          157,
          191,
          155,
          184,
          199,
          154,
          141,
          175
         ],
         "yaxis": "y3"
        },
        {
         "name": "Lowest Price",
         "opacity": 0.75,
         "showlegend": false,
         "type": "bar",
         "x": [
          "EIGHTH WARD",
          "ELEVENTH WARD",
          "FIFTEENTH WARD",
          "FIFTH WARD",
          "FOURTEENTH WARD",
          "FOURTH WARD",
          "NINTH WARD",
          "SECOND WARD",
          "SEVENTH WARD",
          "SIXTH WARD",
          "TENTH WARD",
          "THIRD WARD",
          "THIRTEENTH WARD",
          "TWELFTH WARD"
         ],
         "xaxis": "x4",
         "y": [
          143,
          45,
          39,
          53,
          45,
          95,
          33,
          65,
          50,
          50,
          55,
          45,
          35,
          155
         ],
         "yaxis": "y4"
        }
       ],
       "layout": {
        "annotations": [
         {
          "font": {
           "size": 16
          },
          "showarrow": false,
          "text": "Total Price",
          "x": 0.225,
          "xanchor": "center",
          "xref": "paper",
          "y": 1,
          "yanchor": "bottom",
          "yref": "paper"
         },
         {
          "font": {
           "size": 16
          },
          "showarrow": false,
          "text": "Average Price",
          "x": 0.775,
          "xanchor": "center",
          "xref": "paper",
          "y": 1,
          "yanchor": "bottom",
          "yref": "paper"
         },
         {
          "font": {
           "size": 16
          },
          "showarrow": false,
          "text": "Highest Price",
          "x": 0.225,
          "xanchor": "center",
          "xref": "paper",
          "y": 0.375,
          "yanchor": "bottom",
          "yref": "paper"
         },
         {
          "font": {
           "size": 16
          },
          "showarrow": false,
          "text": "Lowest Price",
          "x": 0.775,
          "xanchor": "center",
          "xref": "paper",
          "y": 0.375,
          "yanchor": "bottom",
          "yref": "paper"
         }
        ],
        "font": {
         "color": "#909497",
         "size": 18
        },
        "height": 1200,
        "hovermode": "closest",
        "margin": {
         "b": 80,
         "l": 120,
         "r": 80,
         "t": 100
        },
        "plot_bgcolor": "white",
        "template": {
         "data": {
          "bar": [
           {
            "error_x": {
             "color": "#2a3f5f"
            },
            "error_y": {
             "color": "#2a3f5f"
            },
            "marker": {
             "line": {
              "color": "#E5ECF6",
              "width": 0.5
             },
             "pattern": {
              "fillmode": "overlay",
              "size": 10,
              "solidity": 0.2
             }
            },
            "type": "bar"
           }
          ],
          "barpolar": [
           {
            "marker": {
             "line": {
              "color": "#E5ECF6",
              "width": 0.5
             },
             "pattern": {
              "fillmode": "overlay",
              "size": 10,
              "solidity": 0.2
             }
            },
            "type": "barpolar"
           }
          ],
          "carpet": [
           {
            "aaxis": {
             "endlinecolor": "#2a3f5f",
             "gridcolor": "white",
             "linecolor": "white",
             "minorgridcolor": "white",
             "startlinecolor": "#2a3f5f"
            },
            "baxis": {
             "endlinecolor": "#2a3f5f",
             "gridcolor": "white",
             "linecolor": "white",
             "minorgridcolor": "white",
             "startlinecolor": "#2a3f5f"
            },
            "type": "carpet"
           }
          ],
          "choropleth": [
           {
            "colorbar": {
             "outlinewidth": 0,
             "ticks": ""
            },
            "type": "choropleth"
           }
          ],
          "contour": [
           {
            "colorbar": {
             "outlinewidth": 0,
             "ticks": ""
            },
            "colorscale": [
             [
              0,
              "#0d0887"
             ],
             [
              0.1111111111111111,
              "#46039f"
             ],
             [
              0.2222222222222222,
              "#7201a8"
             ],
             [
              0.3333333333333333,
              "#9c179e"
             ],
             [
              0.4444444444444444,
              "#bd3786"
             ],
             [
              0.5555555555555556,
              "#d8576b"
             ],
             [
              0.6666666666666666,
              "#ed7953"
             ],
             [
              0.7777777777777778,
              "#fb9f3a"
             ],
             [
              0.8888888888888888,
              "#fdca26"
             ],
             [
              1,
              "#f0f921"
             ]
            ],
            "type": "contour"
           }
          ],
          "contourcarpet": [
           {
            "colorbar": {
             "outlinewidth": 0,
             "ticks": ""
            },
            "type": "contourcarpet"
           }
          ],
          "heatmap": [
           {
            "colorbar": {
             "outlinewidth": 0,
             "ticks": ""
            },
            "colorscale": [
             [
              0,
              "#0d0887"
             ],
             [
              0.1111111111111111,
              "#46039f"
             ],
             [
              0.2222222222222222,
              "#7201a8"
             ],
             [
              0.3333333333333333,
              "#9c179e"
             ],
             [
              0.4444444444444444,
              "#bd3786"
             ],
             [
              0.5555555555555556,
              "#d8576b"
             ],
             [
              0.6666666666666666,
              "#ed7953"
             ],
             [
              0.7777777777777778,
              "#fb9f3a"
             ],
             [
              0.8888888888888888,
              "#fdca26"
             ],
             [
              1,
              "#f0f921"
             ]
            ],
            "type": "heatmap"
           }
          ],
          "heatmapgl": [
           {
            "colorbar": {
             "outlinewidth": 0,
             "ticks": ""
            },
            "colorscale": [
             [
              0,
              "#0d0887"
             ],
             [
              0.1111111111111111,
              "#46039f"
             ],
             [
              0.2222222222222222,
              "#7201a8"
             ],
             [
              0.3333333333333333,
              "#9c179e"
             ],
             [
              0.4444444444444444,
              "#bd3786"
             ],
             [
              0.5555555555555556,
              "#d8576b"
             ],
             [
              0.6666666666666666,
              "#ed7953"
             ],
             [
              0.7777777777777778,
              "#fb9f3a"
             ],
             [
              0.8888888888888888,
              "#fdca26"
             ],
             [
              1,
              "#f0f921"
             ]
            ],
            "type": "heatmapgl"
           }
          ],
          "histogram": [
           {
            "marker": {
             "pattern": {
              "fillmode": "overlay",
              "size": 10,
              "solidity": 0.2
             }
            },
            "type": "histogram"
           }
          ],
          "histogram2d": [
           {
            "colorbar": {
             "outlinewidth": 0,
             "ticks": ""
            },
            "colorscale": [
             [
              0,
              "#0d0887"
             ],
             [
              0.1111111111111111,
              "#46039f"
             ],
             [
              0.2222222222222222,
              "#7201a8"
             ],
             [
              0.3333333333333333,
              "#9c179e"
             ],
             [
              0.4444444444444444,
              "#bd3786"
             ],
             [
              0.5555555555555556,
              "#d8576b"
             ],
             [
              0.6666666666666666,
              "#ed7953"
             ],
             [
              0.7777777777777778,
              "#fb9f3a"
             ],
             [
              0.8888888888888888,
              "#fdca26"
             ],
             [
              1,
              "#f0f921"
             ]
            ],
            "type": "histogram2d"
           }
          ],
          "histogram2dcontour": [
           {
            "colorbar": {
             "outlinewidth": 0,
             "ticks": ""
            },
            "colorscale": [
             [
              0,
              "#0d0887"
             ],
             [
              0.1111111111111111,
              "#46039f"
             ],
             [
              0.2222222222222222,
              "#7201a8"
             ],
             [
              0.3333333333333333,
              "#9c179e"
             ],
             [
              0.4444444444444444,
              "#bd3786"
             ],
             [
              0.5555555555555556,
              "#d8576b"
             ],
             [
              0.6666666666666666,
              "#ed7953"
             ],
             [
              0.7777777777777778,
              "#fb9f3a"
             ],
             [
              0.8888888888888888,
              "#fdca26"
             ],
             [
              1,
              "#f0f921"
             ]
            ],
            "type": "histogram2dcontour"
           }
          ],
          "mesh3d": [
           {
            "colorbar": {
             "outlinewidth": 0,
             "ticks": ""
            },
            "type": "mesh3d"
           }
          ],
          "parcoords": [
           {
            "line": {
             "colorbar": {
              "outlinewidth": 0,
              "ticks": ""
             }
            },
            "type": "parcoords"
           }
          ],
          "pie": [
           {
            "automargin": true,
            "type": "pie"
           }
          ],
          "scatter": [
           {
            "fillpattern": {
             "fillmode": "overlay",
             "size": 10,
             "solidity": 0.2
            },
            "type": "scatter"
           }
          ],
          "scatter3d": [
           {
            "line": {
             "colorbar": {
              "outlinewidth": 0,
              "ticks": ""
             }
            },
            "marker": {
             "colorbar": {
              "outlinewidth": 0,
              "ticks": ""
             }
            },
            "type": "scatter3d"
           }
          ],
          "scattercarpet": [
           {
            "marker": {
             "colorbar": {
              "outlinewidth": 0,
              "ticks": ""
             }
            },
            "type": "scattercarpet"
           }
          ],
          "scattergeo": [
           {
            "marker": {
             "colorbar": {
              "outlinewidth": 0,
              "ticks": ""
             }
            },
            "type": "scattergeo"
           }
          ],
          "scattergl": [
           {
            "marker": {
             "colorbar": {
              "outlinewidth": 0,
              "ticks": ""
             }
            },
            "type": "scattergl"
           }
          ],
          "scattermapbox": [
           {
            "marker": {
             "colorbar": {
              "outlinewidth": 0,
              "ticks": ""
             }
            },
            "type": "scattermapbox"
           }
          ],
          "scatterpolar": [
           {
            "marker": {
             "colorbar": {
              "outlinewidth": 0,
              "ticks": ""
             }
            },
            "type": "scatterpolar"
           }
          ],
          "scatterpolargl": [
           {
            "marker": {
             "colorbar": {
              "outlinewidth": 0,
              "ticks": ""
             }
            },
            "type": "scatterpolargl"
           }
          ],
          "scatterternary": [
           {
            "marker": {
             "colorbar": {
              "outlinewidth": 0,
              "ticks": ""
             }
            },
            "type": "scatterternary"
           }
          ],
          "surface": [
           {
            "colorbar": {
             "outlinewidth": 0,
             "ticks": ""
            },
            "colorscale": [
             [
              0,
              "#0d0887"
             ],
             [
              0.1111111111111111,
              "#46039f"
             ],
             [
              0.2222222222222222,
              "#7201a8"
             ],
             [
              0.3333333333333333,
              "#9c179e"
             ],
             [
              0.4444444444444444,
              "#bd3786"
             ],
             [
              0.5555555555555556,
              "#d8576b"
             ],
             [
              0.6666666666666666,
              "#ed7953"
             ],
             [
              0.7777777777777778,
              "#fb9f3a"
             ],
             [
              0.8888888888888888,
              "#fdca26"
             ],
             [
              1,
              "#f0f921"
             ]
            ],
            "type": "surface"
           }
          ],
          "table": [
           {
            "cells": {
             "fill": {
              "color": "#EBF0F8"
             },
             "line": {
              "color": "white"
             }
            },
            "header": {
             "fill": {
              "color": "#C8D4E3"
             },
             "line": {
              "color": "white"
             }
            },
            "type": "table"
           }
          ]
         },
         "layout": {
          "annotationdefaults": {
           "arrowcolor": "#2a3f5f",
           "arrowhead": 0,
           "arrowwidth": 1
          },
          "autotypenumbers": "strict",
          "coloraxis": {
           "colorbar": {
            "outlinewidth": 0,
            "ticks": ""
           }
          },
          "colorscale": {
           "diverging": [
            [
             0,
             "#8e0152"
            ],
            [
             0.1,
             "#c51b7d"
            ],
            [
             0.2,
             "#de77ae"
            ],
            [
             0.3,
             "#f1b6da"
            ],
            [
             0.4,
             "#fde0ef"
            ],
            [
             0.5,
             "#f7f7f7"
            ],
            [
             0.6,
             "#e6f5d0"
            ],
            [
             0.7,
             "#b8e186"
            ],
            [
             0.8,
             "#7fbc41"
            ],
            [
             0.9,
             "#4d9221"
            ],
            [
             1,
             "#276419"
            ]
           ],
           "sequential": [
            [
             0,
             "#0d0887"
            ],
            [
             0.1111111111111111,
             "#46039f"
            ],
            [
             0.2222222222222222,
             "#7201a8"
            ],
            [
             0.3333333333333333,
             "#9c179e"
            ],
            [
             0.4444444444444444,
             "#bd3786"
            ],
            [
             0.5555555555555556,
             "#d8576b"
            ],
            [
             0.6666666666666666,
             "#ed7953"
            ],
            [
             0.7777777777777778,
             "#fb9f3a"
            ],
            [
             0.8888888888888888,
             "#fdca26"
            ],
            [
             1,
             "#f0f921"
            ]
           ],
           "sequentialminus": [
            [
             0,
             "#0d0887"
            ],
            [
             0.1111111111111111,
             "#46039f"
            ],
            [
             0.2222222222222222,
             "#7201a8"
            ],
            [
             0.3333333333333333,
             "#9c179e"
            ],
            [
             0.4444444444444444,
             "#bd3786"
            ],
            [
             0.5555555555555556,
             "#d8576b"
            ],
            [
             0.6666666666666666,
             "#ed7953"
            ],
            [
             0.7777777777777778,
             "#fb9f3a"
            ],
            [
             0.8888888888888888,
             "#fdca26"
            ],
            [
             1,
             "#f0f921"
            ]
           ]
          },
          "colorway": [
           "#636efa",
           "#EF553B",
           "#00cc96",
           "#ab63fa",
           "#FFA15A",
           "#19d3f3",
           "#FF6692",
           "#B6E880",
           "#FF97FF",
           "#FECB52"
          ],
          "font": {
           "color": "#2a3f5f"
          },
          "geo": {
           "bgcolor": "white",
           "lakecolor": "white",
           "landcolor": "#E5ECF6",
           "showlakes": true,
           "showland": true,
           "subunitcolor": "white"
          },
          "hoverlabel": {
           "align": "left"
          },
          "hovermode": "closest",
          "mapbox": {
           "style": "light"
          },
          "paper_bgcolor": "white",
          "plot_bgcolor": "#E5ECF6",
          "polar": {
           "angularaxis": {
            "gridcolor": "white",
            "linecolor": "white",
            "ticks": ""
           },
           "bgcolor": "#E5ECF6",
           "radialaxis": {
            "gridcolor": "white",
            "linecolor": "white",
            "ticks": ""
           }
          },
          "scene": {
           "xaxis": {
            "backgroundcolor": "#E5ECF6",
            "gridcolor": "white",
            "gridwidth": 2,
            "linecolor": "white",
            "showbackground": true,
            "ticks": "",
            "zerolinecolor": "white"
           },
           "yaxis": {
            "backgroundcolor": "#E5ECF6",
            "gridcolor": "white",
            "gridwidth": 2,
            "linecolor": "white",
            "showbackground": true,
            "ticks": "",
            "zerolinecolor": "white"
           },
           "zaxis": {
            "backgroundcolor": "#E5ECF6",
            "gridcolor": "white",
            "gridwidth": 2,
            "linecolor": "white",
            "showbackground": true,
            "ticks": "",
            "zerolinecolor": "white"
           }
          },
          "shapedefaults": {
           "line": {
            "color": "#2a3f5f"
           }
          },
          "ternary": {
           "aaxis": {
            "gridcolor": "white",
            "linecolor": "white",
            "ticks": ""
           },
           "baxis": {
            "gridcolor": "white",
            "linecolor": "white",
            "ticks": ""
           },
           "bgcolor": "#E5ECF6",
           "caxis": {
            "gridcolor": "white",
            "linecolor": "white",
            "ticks": ""
           }
          },
          "title": {
           "x": 0.05
          },
          "xaxis": {
           "automargin": true,
           "gridcolor": "white",
           "linecolor": "white",
           "ticks": "",
           "title": {
            "standoff": 15
           },
           "zerolinecolor": "white",
           "zerolinewidth": 2
          },
          "yaxis": {
           "automargin": true,
           "gridcolor": "white",
           "linecolor": "white",
           "ticks": "",
           "title": {
            "standoff": 15
           },
           "zerolinecolor": "white",
           "zerolinewidth": 2
          }
         }
        },
        "title": {
         "font": {
          "size": 26
         },
         "text": "Neighbourhood VS Total Price , Average Price , Highest Price , Lowest Price"
        },
        "width": 1000,
        "xaxis": {
         "anchor": "y",
         "domain": [
          0,
          0.45
         ]
        },
        "xaxis2": {
         "anchor": "y2",
         "domain": [
          0.55,
          1
         ]
        },
        "xaxis3": {
         "anchor": "y3",
         "domain": [
          0,
          0.45
         ]
        },
        "xaxis4": {
         "anchor": "y4",
         "domain": [
          0.55,
          1
         ]
        },
        "yaxis": {
         "anchor": "x",
         "domain": [
          0.625,
          1
         ]
        },
        "yaxis2": {
         "anchor": "x2",
         "domain": [
          0.625,
          1
         ]
        },
        "yaxis3": {
         "anchor": "x3",
         "domain": [
          0,
          0.375
         ]
        },
        "yaxis4": {
         "anchor": "x4",
         "domain": [
          0,
          0.375
         ]
        }
       }
      },
      "text/html": [
       "<div>                            <div id=\"a9f0b4f4-9949-440a-8dc2-8a993d2e83b5\" class=\"plotly-graph-div\" style=\"height:1200px; width:1000px;\"></div>            <script type=\"text/javascript\">                require([\"plotly\"], function(Plotly) {                    window.PLOTLYENV=window.PLOTLYENV || {};                                    if (document.getElementById(\"a9f0b4f4-9949-440a-8dc2-8a993d2e83b5\")) {                    Plotly.newPlot(                        \"a9f0b4f4-9949-440a-8dc2-8a993d2e83b5\",                        [{\"name\":\"Total Price\",\"opacity\":0.75,\"showlegend\":false,\"x\":[\"EIGHTH WARD\",\"ELEVENTH WARD\",\"FIFTEENTH WARD\",\"FIFTH WARD\",\"FOURTEENTH WARD\",\"FOURTH WARD\",\"NINTH WARD\",\"SECOND WARD\",\"SEVENTH WARD\",\"SIXTH WARD\",\"TENTH WARD\",\"THIRD WARD\",\"THIRTEENTH WARD\",\"TWELFTH WARD\"],\"y\":[143.0,947.0,743.0,586.0,1593.0,930.0,2085.0,2530.0,794.0,4689.0,2038.0,1590.0,1320.0,330.0],\"type\":\"bar\",\"xaxis\":\"x\",\"yaxis\":\"y\"},{\"name\":\"Average Price\",\"opacity\":0.75,\"showlegend\":false,\"x\":[\"EIGHTH WARD\",\"ELEVENTH WARD\",\"FIFTEENTH WARD\",\"FIFTH WARD\",\"FOURTEENTH WARD\",\"FOURTH WARD\",\"NINTH WARD\",\"SECOND WARD\",\"SEVENTH WARD\",\"SIXTH WARD\",\"TENTH WARD\",\"THIRD WARD\",\"THIRTEENTH WARD\",\"TWELFTH WARD\"],\"y\":[143.0,105.22222222222223,106.14285714285714,97.66666666666667,88.5,116.25,86.875,120.47619047619048,113.42857142857143,106.56818181818181,113.22222222222223,99.375,82.5,165.0],\"type\":\"bar\",\"xaxis\":\"x2\",\"yaxis\":\"y2\"},{\"name\":\"Highest Price\",\"opacity\":0.75,\"showlegend\":false,\"x\":[\"EIGHTH WARD\",\"ELEVENTH WARD\",\"FIFTEENTH WARD\",\"FIFTH WARD\",\"FOURTEENTH WARD\",\"FOURTH WARD\",\"NINTH WARD\",\"SECOND WARD\",\"SEVENTH WARD\",\"SIXTH WARD\",\"TENTH WARD\",\"THIRD WARD\",\"THIRTEENTH WARD\",\"TWELFTH WARD\"],\"y\":[143.0,184.0,196.0,120.0,185.0,150.0,157.0,191.0,155.0,184.0,199.0,154.0,141.0,175.0],\"type\":\"bar\",\"xaxis\":\"x3\",\"yaxis\":\"y3\"},{\"name\":\"Lowest Price\",\"opacity\":0.75,\"showlegend\":false,\"x\":[\"EIGHTH WARD\",\"ELEVENTH WARD\",\"FIFTEENTH WARD\",\"FIFTH WARD\",\"FOURTEENTH WARD\",\"FOURTH WARD\",\"NINTH WARD\",\"SECOND WARD\",\"SEVENTH WARD\",\"SIXTH WARD\",\"TENTH WARD\",\"THIRD WARD\",\"THIRTEENTH WARD\",\"TWELFTH WARD\"],\"y\":[143.0,45.0,39.0,53.0,45.0,95.0,33.0,65.0,50.0,50.0,55.0,45.0,35.0,155.0],\"type\":\"bar\",\"xaxis\":\"x4\",\"yaxis\":\"y4\"}],                        {\"template\":{\"data\":{\"histogram2dcontour\":[{\"type\":\"histogram2dcontour\",\"colorbar\":{\"outlinewidth\":0,\"ticks\":\"\"},\"colorscale\":[[0.0,\"#0d0887\"],[0.1111111111111111,\"#46039f\"],[0.2222222222222222,\"#7201a8\"],[0.3333333333333333,\"#9c179e\"],[0.4444444444444444,\"#bd3786\"],[0.5555555555555556,\"#d8576b\"],[0.6666666666666666,\"#ed7953\"],[0.7777777777777778,\"#fb9f3a\"],[0.8888888888888888,\"#fdca26\"],[1.0,\"#f0f921\"]]}],\"choropleth\":[{\"type\":\"choropleth\",\"colorbar\":{\"outlinewidth\":0,\"ticks\":\"\"}}],\"histogram2d\":[{\"type\":\"histogram2d\",\"colorbar\":{\"outlinewidth\":0,\"ticks\":\"\"},\"colorscale\":[[0.0,\"#0d0887\"],[0.1111111111111111,\"#46039f\"],[0.2222222222222222,\"#7201a8\"],[0.3333333333333333,\"#9c179e\"],[0.4444444444444444,\"#bd3786\"],[0.5555555555555556,\"#d8576b\"],[0.6666666666666666,\"#ed7953\"],[0.7777777777777778,\"#fb9f3a\"],[0.8888888888888888,\"#fdca26\"],[1.0,\"#f0f921\"]]}],\"heatmap\":[{\"type\":\"heatmap\",\"colorbar\":{\"outlinewidth\":0,\"ticks\":\"\"},\"colorscale\":[[0.0,\"#0d0887\"],[0.1111111111111111,\"#46039f\"],[0.2222222222222222,\"#7201a8\"],[0.3333333333333333,\"#9c179e\"],[0.4444444444444444,\"#bd3786\"],[0.5555555555555556,\"#d8576b\"],[0.6666666666666666,\"#ed7953\"],[0.7777777777777778,\"#fb9f3a\"],[0.8888888888888888,\"#fdca26\"],[1.0,\"#f0f921\"]]}],\"heatmapgl\":[{\"type\":\"heatmapgl\",\"colorbar\":{\"outlinewidth\":0,\"ticks\":\"\"},\"colorscale\":[[0.0,\"#0d0887\"],[0.1111111111111111,\"#46039f\"],[0.2222222222222222,\"#7201a8\"],[0.3333333333333333,\"#9c179e\"],[0.4444444444444444,\"#bd3786\"],[0.5555555555555556,\"#d8576b\"],[0.6666666666666666,\"#ed7953\"],[0.7777777777777778,\"#fb9f3a\"],[0.8888888888888888,\"#fdca26\"],[1.0,\"#f0f921\"]]}],\"contourcarpet\":[{\"type\":\"contourcarpet\",\"colorbar\":{\"outlinewidth\":0,\"ticks\":\"\"}}],\"contour\":[{\"type\":\"contour\",\"colorbar\":{\"outlinewidth\":0,\"ticks\":\"\"},\"colorscale\":[[0.0,\"#0d0887\"],[0.1111111111111111,\"#46039f\"],[0.2222222222222222,\"#7201a8\"],[0.3333333333333333,\"#9c179e\"],[0.4444444444444444,\"#bd3786\"],[0.5555555555555556,\"#d8576b\"],[0.6666666666666666,\"#ed7953\"],[0.7777777777777778,\"#fb9f3a\"],[0.8888888888888888,\"#fdca26\"],[1.0,\"#f0f921\"]]}],\"surface\":[{\"type\":\"surface\",\"colorbar\":{\"outlinewidth\":0,\"ticks\":\"\"},\"colorscale\":[[0.0,\"#0d0887\"],[0.1111111111111111,\"#46039f\"],[0.2222222222222222,\"#7201a8\"],[0.3333333333333333,\"#9c179e\"],[0.4444444444444444,\"#bd3786\"],[0.5555555555555556,\"#d8576b\"],[0.6666666666666666,\"#ed7953\"],[0.7777777777777778,\"#fb9f3a\"],[0.8888888888888888,\"#fdca26\"],[1.0,\"#f0f921\"]]}],\"mesh3d\":[{\"type\":\"mesh3d\",\"colorbar\":{\"outlinewidth\":0,\"ticks\":\"\"}}],\"scatter\":[{\"fillpattern\":{\"fillmode\":\"overlay\",\"size\":10,\"solidity\":0.2},\"type\":\"scatter\"}],\"parcoords\":[{\"type\":\"parcoords\",\"line\":{\"colorbar\":{\"outlinewidth\":0,\"ticks\":\"\"}}}],\"scatterpolargl\":[{\"type\":\"scatterpolargl\",\"marker\":{\"colorbar\":{\"outlinewidth\":0,\"ticks\":\"\"}}}],\"bar\":[{\"error_x\":{\"color\":\"#2a3f5f\"},\"error_y\":{\"color\":\"#2a3f5f\"},\"marker\":{\"line\":{\"color\":\"#E5ECF6\",\"width\":0.5},\"pattern\":{\"fillmode\":\"overlay\",\"size\":10,\"solidity\":0.2}},\"type\":\"bar\"}],\"scattergeo\":[{\"type\":\"scattergeo\",\"marker\":{\"colorbar\":{\"outlinewidth\":0,\"ticks\":\"\"}}}],\"scatterpolar\":[{\"type\":\"scatterpolar\",\"marker\":{\"colorbar\":{\"outlinewidth\":0,\"ticks\":\"\"}}}],\"histogram\":[{\"marker\":{\"pattern\":{\"fillmode\":\"overlay\",\"size\":10,\"solidity\":0.2}},\"type\":\"histogram\"}],\"scattergl\":[{\"type\":\"scattergl\",\"marker\":{\"colorbar\":{\"outlinewidth\":0,\"ticks\":\"\"}}}],\"scatter3d\":[{\"type\":\"scatter3d\",\"line\":{\"colorbar\":{\"outlinewidth\":0,\"ticks\":\"\"}},\"marker\":{\"colorbar\":{\"outlinewidth\":0,\"ticks\":\"\"}}}],\"scattermapbox\":[{\"type\":\"scattermapbox\",\"marker\":{\"colorbar\":{\"outlinewidth\":0,\"ticks\":\"\"}}}],\"scatterternary\":[{\"type\":\"scatterternary\",\"marker\":{\"colorbar\":{\"outlinewidth\":0,\"ticks\":\"\"}}}],\"scattercarpet\":[{\"type\":\"scattercarpet\",\"marker\":{\"colorbar\":{\"outlinewidth\":0,\"ticks\":\"\"}}}],\"carpet\":[{\"aaxis\":{\"endlinecolor\":\"#2a3f5f\",\"gridcolor\":\"white\",\"linecolor\":\"white\",\"minorgridcolor\":\"white\",\"startlinecolor\":\"#2a3f5f\"},\"baxis\":{\"endlinecolor\":\"#2a3f5f\",\"gridcolor\":\"white\",\"linecolor\":\"white\",\"minorgridcolor\":\"white\",\"startlinecolor\":\"#2a3f5f\"},\"type\":\"carpet\"}],\"table\":[{\"cells\":{\"fill\":{\"color\":\"#EBF0F8\"},\"line\":{\"color\":\"white\"}},\"header\":{\"fill\":{\"color\":\"#C8D4E3\"},\"line\":{\"color\":\"white\"}},\"type\":\"table\"}],\"barpolar\":[{\"marker\":{\"line\":{\"color\":\"#E5ECF6\",\"width\":0.5},\"pattern\":{\"fillmode\":\"overlay\",\"size\":10,\"solidity\":0.2}},\"type\":\"barpolar\"}],\"pie\":[{\"automargin\":true,\"type\":\"pie\"}]},\"layout\":{\"autotypenumbers\":\"strict\",\"colorway\":[\"#636efa\",\"#EF553B\",\"#00cc96\",\"#ab63fa\",\"#FFA15A\",\"#19d3f3\",\"#FF6692\",\"#B6E880\",\"#FF97FF\",\"#FECB52\"],\"font\":{\"color\":\"#2a3f5f\"},\"hovermode\":\"closest\",\"hoverlabel\":{\"align\":\"left\"},\"paper_bgcolor\":\"white\",\"plot_bgcolor\":\"#E5ECF6\",\"polar\":{\"bgcolor\":\"#E5ECF6\",\"angularaxis\":{\"gridcolor\":\"white\",\"linecolor\":\"white\",\"ticks\":\"\"},\"radialaxis\":{\"gridcolor\":\"white\",\"linecolor\":\"white\",\"ticks\":\"\"}},\"ternary\":{\"bgcolor\":\"#E5ECF6\",\"aaxis\":{\"gridcolor\":\"white\",\"linecolor\":\"white\",\"ticks\":\"\"},\"baxis\":{\"gridcolor\":\"white\",\"linecolor\":\"white\",\"ticks\":\"\"},\"caxis\":{\"gridcolor\":\"white\",\"linecolor\":\"white\",\"ticks\":\"\"}},\"coloraxis\":{\"colorbar\":{\"outlinewidth\":0,\"ticks\":\"\"}},\"colorscale\":{\"sequential\":[[0.0,\"#0d0887\"],[0.1111111111111111,\"#46039f\"],[0.2222222222222222,\"#7201a8\"],[0.3333333333333333,\"#9c179e\"],[0.4444444444444444,\"#bd3786\"],[0.5555555555555556,\"#d8576b\"],[0.6666666666666666,\"#ed7953\"],[0.7777777777777778,\"#fb9f3a\"],[0.8888888888888888,\"#fdca26\"],[1.0,\"#f0f921\"]],\"sequentialminus\":[[0.0,\"#0d0887\"],[0.1111111111111111,\"#46039f\"],[0.2222222222222222,\"#7201a8\"],[0.3333333333333333,\"#9c179e\"],[0.4444444444444444,\"#bd3786\"],[0.5555555555555556,\"#d8576b\"],[0.6666666666666666,\"#ed7953\"],[0.7777777777777778,\"#fb9f3a\"],[0.8888888888888888,\"#fdca26\"],[1.0,\"#f0f921\"]],\"diverging\":[[0,\"#8e0152\"],[0.1,\"#c51b7d\"],[0.2,\"#de77ae\"],[0.3,\"#f1b6da\"],[0.4,\"#fde0ef\"],[0.5,\"#f7f7f7\"],[0.6,\"#e6f5d0\"],[0.7,\"#b8e186\"],[0.8,\"#7fbc41\"],[0.9,\"#4d9221\"],[1,\"#276419\"]]},\"xaxis\":{\"gridcolor\":\"white\",\"linecolor\":\"white\",\"ticks\":\"\",\"title\":{\"standoff\":15},\"zerolinecolor\":\"white\",\"automargin\":true,\"zerolinewidth\":2},\"yaxis\":{\"gridcolor\":\"white\",\"linecolor\":\"white\",\"ticks\":\"\",\"title\":{\"standoff\":15},\"zerolinecolor\":\"white\",\"automargin\":true,\"zerolinewidth\":2},\"scene\":{\"xaxis\":{\"backgroundcolor\":\"#E5ECF6\",\"gridcolor\":\"white\",\"linecolor\":\"white\",\"showbackground\":true,\"ticks\":\"\",\"zerolinecolor\":\"white\",\"gridwidth\":2},\"yaxis\":{\"backgroundcolor\":\"#E5ECF6\",\"gridcolor\":\"white\",\"linecolor\":\"white\",\"showbackground\":true,\"ticks\":\"\",\"zerolinecolor\":\"white\",\"gridwidth\":2},\"zaxis\":{\"backgroundcolor\":\"#E5ECF6\",\"gridcolor\":\"white\",\"linecolor\":\"white\",\"showbackground\":true,\"ticks\":\"\",\"zerolinecolor\":\"white\",\"gridwidth\":2}},\"shapedefaults\":{\"line\":{\"color\":\"#2a3f5f\"}},\"annotationdefaults\":{\"arrowcolor\":\"#2a3f5f\",\"arrowhead\":0,\"arrowwidth\":1},\"geo\":{\"bgcolor\":\"white\",\"landcolor\":\"#E5ECF6\",\"subunitcolor\":\"white\",\"showland\":true,\"showlakes\":true,\"lakecolor\":\"white\"},\"title\":{\"x\":0.05},\"mapbox\":{\"style\":\"light\"}}},\"xaxis\":{\"anchor\":\"y\",\"domain\":[0.0,0.45]},\"yaxis\":{\"anchor\":\"x\",\"domain\":[0.625,1.0]},\"xaxis2\":{\"anchor\":\"y2\",\"domain\":[0.55,1.0]},\"yaxis2\":{\"anchor\":\"x2\",\"domain\":[0.625,1.0]},\"xaxis3\":{\"anchor\":\"y3\",\"domain\":[0.0,0.45]},\"yaxis3\":{\"anchor\":\"x3\",\"domain\":[0.0,0.375]},\"xaxis4\":{\"anchor\":\"y4\",\"domain\":[0.55,1.0]},\"yaxis4\":{\"anchor\":\"x4\",\"domain\":[0.0,0.375]},\"annotations\":[{\"font\":{\"size\":16},\"showarrow\":false,\"text\":\"Total Price\",\"x\":0.225,\"xanchor\":\"center\",\"xref\":\"paper\",\"y\":1.0,\"yanchor\":\"bottom\",\"yref\":\"paper\"},{\"font\":{\"size\":16},\"showarrow\":false,\"text\":\"Average Price\",\"x\":0.775,\"xanchor\":\"center\",\"xref\":\"paper\",\"y\":1.0,\"yanchor\":\"bottom\",\"yref\":\"paper\"},{\"font\":{\"size\":16},\"showarrow\":false,\"text\":\"Highest Price\",\"x\":0.225,\"xanchor\":\"center\",\"xref\":\"paper\",\"y\":0.375,\"yanchor\":\"bottom\",\"yref\":\"paper\"},{\"font\":{\"size\":16},\"showarrow\":false,\"text\":\"Lowest Price\",\"x\":0.775,\"xanchor\":\"center\",\"xref\":\"paper\",\"y\":0.375,\"yanchor\":\"bottom\",\"yref\":\"paper\"}],\"font\":{\"color\":\"#909497\",\"size\":18},\"title\":{\"font\":{\"size\":26},\"text\":\"Neighbourhood VS Total Price , Average Price , Highest Price , Lowest Price\"},\"margin\":{\"t\":100,\"r\":80,\"b\":80,\"l\":120},\"plot_bgcolor\":\"white\",\"hovermode\":\"closest\",\"height\":1200,\"width\":1000},                        {\"responsive\": true}                    ).then(function(){\n",
       "                            \n",
       "var gd = document.getElementById('a9f0b4f4-9949-440a-8dc2-8a993d2e83b5');\n",
       "var x = new MutationObserver(function (mutations, observer) {{\n",
       "        var display = window.getComputedStyle(gd).display;\n",
       "        if (!display || display === 'none') {{\n",
       "            console.log([gd, 'removed!']);\n",
       "            Plotly.purge(gd);\n",
       "            observer.disconnect();\n",
       "        }}\n",
       "}});\n",
       "\n",
       "// Listen for the removal of the full notebook cells\n",
       "var notebookContainer = gd.closest('#notebook-container');\n",
       "if (notebookContainer) {{\n",
       "    x.observe(notebookContainer, {childList: true});\n",
       "}}\n",
       "\n",
       "// Listen for the clearing of the current output cell\n",
       "var outputEl = gd.closest('.output');\n",
       "if (outputEl) {{\n",
       "    x.observe(outputEl, {childList: true});\n",
       "}}\n",
       "\n",
       "                        })                };                });            </script>        </div>"
      ]
     },
     "metadata": {},
     "output_type": "display_data"
    }
   ],
   "source": [
    "plot_column_summary_statistics(column_summary_statistics(data_without_outliers , \"neighbourhood\" , \"price\"))\n"
   ]
  },
  {
   "cell_type": "markdown",
   "id": "0091f836-739a-45be-a3d5-cbebbd4c8ca6",
   "metadata": {},
   "source": [
    "* The rooms in the sixth ward have the highest total price compare to the rooms in the other wards \n",
    "* The average price of rooms in the eighth ward is higher than the average price of rooms in other wards \n",
    "* The Twelfth ward has the highest price within the lowest price \n"
   ]
  },
  {
   "cell_type": "markdown",
   "id": "9eaf6591",
   "metadata": {},
   "source": [
    "### Let create a catigorical column based on price \n",
    "* to make levels for price like\n",
    "* Low price \n",
    "* Midium pirce \n",
    "* High price"
   ]
  },
  {
   "cell_type": "code",
   "execution_count": 23,
   "id": "22d9f42b-2eee-4604-854d-a63fd7048e42",
   "metadata": {
    "scrolled": true
   },
   "outputs": [],
   "source": [
    "data_without_outliers[\"price_cat\"] = pd.cut(data_without_outliers.price , bins = [26 , 100 ,130,199],labels = [\"Low\" , \"Mid\" , \"High\"])"
   ]
  },
  {
   "cell_type": "code",
   "execution_count": 24,
   "id": "6e346d6d-646f-4224-a2cd-e3e42684e453",
   "metadata": {
    "scrolled": false
   },
   "outputs": [
    {
     "data": {
      "application/vnd.plotly.v1+json": {
       "config": {
        "plotlyServerURL": "https://plot.ly"
       },
       "data": [
        {
         "name": "Total Price",
         "opacity": 0.75,
         "showlegend": false,
         "type": "bar",
         "x": [
          "Low",
          "Mid",
          "High"
         ],
         "xaxis": "x",
         "y": [
          7486,
          7553,
          5279
         ],
         "yaxis": "y"
        },
        {
         "name": "Average Price",
         "opacity": 0.75,
         "showlegend": false,
         "type": "bar",
         "x": [
          "Low",
          "Mid",
          "High"
         ],
         "xaxis": "x2",
         "y": [
          74.86,
          116.2,
          164.96875
         ],
         "yaxis": "y2"
        },
        {
         "name": "Highest Price",
         "opacity": 0.75,
         "showlegend": false,
         "type": "bar",
         "x": [
          "Low",
          "Mid",
          "High"
         ],
         "xaxis": "x3",
         "y": [
          100,
          130,
          199
         ],
         "yaxis": "y3"
        },
        {
         "name": "Lowest Price",
         "opacity": 0.75,
         "showlegend": false,
         "type": "bar",
         "x": [
          "Low",
          "Mid",
          "High"
         ],
         "xaxis": "x4",
         "y": [
          33,
          101,
          131
         ],
         "yaxis": "y4"
        }
       ],
       "layout": {
        "annotations": [
         {
          "font": {
           "size": 16
          },
          "showarrow": false,
          "text": "Total Price",
          "x": 0.225,
          "xanchor": "center",
          "xref": "paper",
          "y": 1,
          "yanchor": "bottom",
          "yref": "paper"
         },
         {
          "font": {
           "size": 16
          },
          "showarrow": false,
          "text": "Average Price",
          "x": 0.775,
          "xanchor": "center",
          "xref": "paper",
          "y": 1,
          "yanchor": "bottom",
          "yref": "paper"
         },
         {
          "font": {
           "size": 16
          },
          "showarrow": false,
          "text": "Highest Price",
          "x": 0.225,
          "xanchor": "center",
          "xref": "paper",
          "y": 0.375,
          "yanchor": "bottom",
          "yref": "paper"
         },
         {
          "font": {
           "size": 16
          },
          "showarrow": false,
          "text": "Lowest Price",
          "x": 0.775,
          "xanchor": "center",
          "xref": "paper",
          "y": 0.375,
          "yanchor": "bottom",
          "yref": "paper"
         }
        ],
        "font": {
         "color": "#909497",
         "size": 18
        },
        "height": 1200,
        "hovermode": "closest",
        "margin": {
         "b": 80,
         "l": 120,
         "r": 80,
         "t": 100
        },
        "plot_bgcolor": "white",
        "template": {
         "data": {
          "bar": [
           {
            "error_x": {
             "color": "#2a3f5f"
            },
            "error_y": {
             "color": "#2a3f5f"
            },
            "marker": {
             "line": {
              "color": "#E5ECF6",
              "width": 0.5
             },
             "pattern": {
              "fillmode": "overlay",
              "size": 10,
              "solidity": 0.2
             }
            },
            "type": "bar"
           }
          ],
          "barpolar": [
           {
            "marker": {
             "line": {
              "color": "#E5ECF6",
              "width": 0.5
             },
             "pattern": {
              "fillmode": "overlay",
              "size": 10,
              "solidity": 0.2
             }
            },
            "type": "barpolar"
           }
          ],
          "carpet": [
           {
            "aaxis": {
             "endlinecolor": "#2a3f5f",
             "gridcolor": "white",
             "linecolor": "white",
             "minorgridcolor": "white",
             "startlinecolor": "#2a3f5f"
            },
            "baxis": {
             "endlinecolor": "#2a3f5f",
             "gridcolor": "white",
             "linecolor": "white",
             "minorgridcolor": "white",
             "startlinecolor": "#2a3f5f"
            },
            "type": "carpet"
           }
          ],
          "choropleth": [
           {
            "colorbar": {
             "outlinewidth": 0,
             "ticks": ""
            },
            "type": "choropleth"
           }
          ],
          "contour": [
           {
            "colorbar": {
             "outlinewidth": 0,
             "ticks": ""
            },
            "colorscale": [
             [
              0,
              "#0d0887"
             ],
             [
              0.1111111111111111,
              "#46039f"
             ],
             [
              0.2222222222222222,
              "#7201a8"
             ],
             [
              0.3333333333333333,
              "#9c179e"
             ],
             [
              0.4444444444444444,
              "#bd3786"
             ],
             [
              0.5555555555555556,
              "#d8576b"
             ],
             [
              0.6666666666666666,
              "#ed7953"
             ],
             [
              0.7777777777777778,
              "#fb9f3a"
             ],
             [
              0.8888888888888888,
              "#fdca26"
             ],
             [
              1,
              "#f0f921"
             ]
            ],
            "type": "contour"
           }
          ],
          "contourcarpet": [
           {
            "colorbar": {
             "outlinewidth": 0,
             "ticks": ""
            },
            "type": "contourcarpet"
           }
          ],
          "heatmap": [
           {
            "colorbar": {
             "outlinewidth": 0,
             "ticks": ""
            },
            "colorscale": [
             [
              0,
              "#0d0887"
             ],
             [
              0.1111111111111111,
              "#46039f"
             ],
             [
              0.2222222222222222,
              "#7201a8"
             ],
             [
              0.3333333333333333,
              "#9c179e"
             ],
             [
              0.4444444444444444,
              "#bd3786"
             ],
             [
              0.5555555555555556,
              "#d8576b"
             ],
             [
              0.6666666666666666,
              "#ed7953"
             ],
             [
              0.7777777777777778,
              "#fb9f3a"
             ],
             [
              0.8888888888888888,
              "#fdca26"
             ],
             [
              1,
              "#f0f921"
             ]
            ],
            "type": "heatmap"
           }
          ],
          "heatmapgl": [
           {
            "colorbar": {
             "outlinewidth": 0,
             "ticks": ""
            },
            "colorscale": [
             [
              0,
              "#0d0887"
             ],
             [
              0.1111111111111111,
              "#46039f"
             ],
             [
              0.2222222222222222,
              "#7201a8"
             ],
             [
              0.3333333333333333,
              "#9c179e"
             ],
             [
              0.4444444444444444,
              "#bd3786"
             ],
             [
              0.5555555555555556,
              "#d8576b"
             ],
             [
              0.6666666666666666,
              "#ed7953"
             ],
             [
              0.7777777777777778,
              "#fb9f3a"
             ],
             [
              0.8888888888888888,
              "#fdca26"
             ],
             [
              1,
              "#f0f921"
             ]
            ],
            "type": "heatmapgl"
           }
          ],
          "histogram": [
           {
            "marker": {
             "pattern": {
              "fillmode": "overlay",
              "size": 10,
              "solidity": 0.2
             }
            },
            "type": "histogram"
           }
          ],
          "histogram2d": [
           {
            "colorbar": {
             "outlinewidth": 0,
             "ticks": ""
            },
            "colorscale": [
             [
              0,
              "#0d0887"
             ],
             [
              0.1111111111111111,
              "#46039f"
             ],
             [
              0.2222222222222222,
              "#7201a8"
             ],
             [
              0.3333333333333333,
              "#9c179e"
             ],
             [
              0.4444444444444444,
              "#bd3786"
             ],
             [
              0.5555555555555556,
              "#d8576b"
             ],
             [
              0.6666666666666666,
              "#ed7953"
             ],
             [
              0.7777777777777778,
              "#fb9f3a"
             ],
             [
              0.8888888888888888,
              "#fdca26"
             ],
             [
              1,
              "#f0f921"
             ]
            ],
            "type": "histogram2d"
           }
          ],
          "histogram2dcontour": [
           {
            "colorbar": {
             "outlinewidth": 0,
             "ticks": ""
            },
            "colorscale": [
             [
              0,
              "#0d0887"
             ],
             [
              0.1111111111111111,
              "#46039f"
             ],
             [
              0.2222222222222222,
              "#7201a8"
             ],
             [
              0.3333333333333333,
              "#9c179e"
             ],
             [
              0.4444444444444444,
              "#bd3786"
             ],
             [
              0.5555555555555556,
              "#d8576b"
             ],
             [
              0.6666666666666666,
              "#ed7953"
             ],
             [
              0.7777777777777778,
              "#fb9f3a"
             ],
             [
              0.8888888888888888,
              "#fdca26"
             ],
             [
              1,
              "#f0f921"
             ]
            ],
            "type": "histogram2dcontour"
           }
          ],
          "mesh3d": [
           {
            "colorbar": {
             "outlinewidth": 0,
             "ticks": ""
            },
            "type": "mesh3d"
           }
          ],
          "parcoords": [
           {
            "line": {
             "colorbar": {
              "outlinewidth": 0,
              "ticks": ""
             }
            },
            "type": "parcoords"
           }
          ],
          "pie": [
           {
            "automargin": true,
            "type": "pie"
           }
          ],
          "scatter": [
           {
            "fillpattern": {
             "fillmode": "overlay",
             "size": 10,
             "solidity": 0.2
            },
            "type": "scatter"
           }
          ],
          "scatter3d": [
           {
            "line": {
             "colorbar": {
              "outlinewidth": 0,
              "ticks": ""
             }
            },
            "marker": {
             "colorbar": {
              "outlinewidth": 0,
              "ticks": ""
             }
            },
            "type": "scatter3d"
           }
          ],
          "scattercarpet": [
           {
            "marker": {
             "colorbar": {
              "outlinewidth": 0,
              "ticks": ""
             }
            },
            "type": "scattercarpet"
           }
          ],
          "scattergeo": [
           {
            "marker": {
             "colorbar": {
              "outlinewidth": 0,
              "ticks": ""
             }
            },
            "type": "scattergeo"
           }
          ],
          "scattergl": [
           {
            "marker": {
             "colorbar": {
              "outlinewidth": 0,
              "ticks": ""
             }
            },
            "type": "scattergl"
           }
          ],
          "scattermapbox": [
           {
            "marker": {
             "colorbar": {
              "outlinewidth": 0,
              "ticks": ""
             }
            },
            "type": "scattermapbox"
           }
          ],
          "scatterpolar": [
           {
            "marker": {
             "colorbar": {
              "outlinewidth": 0,
              "ticks": ""
             }
            },
            "type": "scatterpolar"
           }
          ],
          "scatterpolargl": [
           {
            "marker": {
             "colorbar": {
              "outlinewidth": 0,
              "ticks": ""
             }
            },
            "type": "scatterpolargl"
           }
          ],
          "scatterternary": [
           {
            "marker": {
             "colorbar": {
              "outlinewidth": 0,
              "ticks": ""
             }
            },
            "type": "scatterternary"
           }
          ],
          "surface": [
           {
            "colorbar": {
             "outlinewidth": 0,
             "ticks": ""
            },
            "colorscale": [
             [
              0,
              "#0d0887"
             ],
             [
              0.1111111111111111,
              "#46039f"
             ],
             [
              0.2222222222222222,
              "#7201a8"
             ],
             [
              0.3333333333333333,
              "#9c179e"
             ],
             [
              0.4444444444444444,
              "#bd3786"
             ],
             [
              0.5555555555555556,
              "#d8576b"
             ],
             [
              0.6666666666666666,
              "#ed7953"
             ],
             [
              0.7777777777777778,
              "#fb9f3a"
             ],
             [
              0.8888888888888888,
              "#fdca26"
             ],
             [
              1,
              "#f0f921"
             ]
            ],
            "type": "surface"
           }
          ],
          "table": [
           {
            "cells": {
             "fill": {
              "color": "#EBF0F8"
             },
             "line": {
              "color": "white"
             }
            },
            "header": {
             "fill": {
              "color": "#C8D4E3"
             },
             "line": {
              "color": "white"
             }
            },
            "type": "table"
           }
          ]
         },
         "layout": {
          "annotationdefaults": {
           "arrowcolor": "#2a3f5f",
           "arrowhead": 0,
           "arrowwidth": 1
          },
          "autotypenumbers": "strict",
          "coloraxis": {
           "colorbar": {
            "outlinewidth": 0,
            "ticks": ""
           }
          },
          "colorscale": {
           "diverging": [
            [
             0,
             "#8e0152"
            ],
            [
             0.1,
             "#c51b7d"
            ],
            [
             0.2,
             "#de77ae"
            ],
            [
             0.3,
             "#f1b6da"
            ],
            [
             0.4,
             "#fde0ef"
            ],
            [
             0.5,
             "#f7f7f7"
            ],
            [
             0.6,
             "#e6f5d0"
            ],
            [
             0.7,
             "#b8e186"
            ],
            [
             0.8,
             "#7fbc41"
            ],
            [
             0.9,
             "#4d9221"
            ],
            [
             1,
             "#276419"
            ]
           ],
           "sequential": [
            [
             0,
             "#0d0887"
            ],
            [
             0.1111111111111111,
             "#46039f"
            ],
            [
             0.2222222222222222,
             "#7201a8"
            ],
            [
             0.3333333333333333,
             "#9c179e"
            ],
            [
             0.4444444444444444,
             "#bd3786"
            ],
            [
             0.5555555555555556,
             "#d8576b"
            ],
            [
             0.6666666666666666,
             "#ed7953"
            ],
            [
             0.7777777777777778,
             "#fb9f3a"
            ],
            [
             0.8888888888888888,
             "#fdca26"
            ],
            [
             1,
             "#f0f921"
            ]
           ],
           "sequentialminus": [
            [
             0,
             "#0d0887"
            ],
            [
             0.1111111111111111,
             "#46039f"
            ],
            [
             0.2222222222222222,
             "#7201a8"
            ],
            [
             0.3333333333333333,
             "#9c179e"
            ],
            [
             0.4444444444444444,
             "#bd3786"
            ],
            [
             0.5555555555555556,
             "#d8576b"
            ],
            [
             0.6666666666666666,
             "#ed7953"
            ],
            [
             0.7777777777777778,
             "#fb9f3a"
            ],
            [
             0.8888888888888888,
             "#fdca26"
            ],
            [
             1,
             "#f0f921"
            ]
           ]
          },
          "colorway": [
           "#636efa",
           "#EF553B",
           "#00cc96",
           "#ab63fa",
           "#FFA15A",
           "#19d3f3",
           "#FF6692",
           "#B6E880",
           "#FF97FF",
           "#FECB52"
          ],
          "font": {
           "color": "#2a3f5f"
          },
          "geo": {
           "bgcolor": "white",
           "lakecolor": "white",
           "landcolor": "#E5ECF6",
           "showlakes": true,
           "showland": true,
           "subunitcolor": "white"
          },
          "hoverlabel": {
           "align": "left"
          },
          "hovermode": "closest",
          "mapbox": {
           "style": "light"
          },
          "paper_bgcolor": "white",
          "plot_bgcolor": "#E5ECF6",
          "polar": {
           "angularaxis": {
            "gridcolor": "white",
            "linecolor": "white",
            "ticks": ""
           },
           "bgcolor": "#E5ECF6",
           "radialaxis": {
            "gridcolor": "white",
            "linecolor": "white",
            "ticks": ""
           }
          },
          "scene": {
           "xaxis": {
            "backgroundcolor": "#E5ECF6",
            "gridcolor": "white",
            "gridwidth": 2,
            "linecolor": "white",
            "showbackground": true,
            "ticks": "",
            "zerolinecolor": "white"
           },
           "yaxis": {
            "backgroundcolor": "#E5ECF6",
            "gridcolor": "white",
            "gridwidth": 2,
            "linecolor": "white",
            "showbackground": true,
            "ticks": "",
            "zerolinecolor": "white"
           },
           "zaxis": {
            "backgroundcolor": "#E5ECF6",
            "gridcolor": "white",
            "gridwidth": 2,
            "linecolor": "white",
            "showbackground": true,
            "ticks": "",
            "zerolinecolor": "white"
           }
          },
          "shapedefaults": {
           "line": {
            "color": "#2a3f5f"
           }
          },
          "ternary": {
           "aaxis": {
            "gridcolor": "white",
            "linecolor": "white",
            "ticks": ""
           },
           "baxis": {
            "gridcolor": "white",
            "linecolor": "white",
            "ticks": ""
           },
           "bgcolor": "#E5ECF6",
           "caxis": {
            "gridcolor": "white",
            "linecolor": "white",
            "ticks": ""
           }
          },
          "title": {
           "x": 0.05
          },
          "xaxis": {
           "automargin": true,
           "gridcolor": "white",
           "linecolor": "white",
           "ticks": "",
           "title": {
            "standoff": 15
           },
           "zerolinecolor": "white",
           "zerolinewidth": 2
          },
          "yaxis": {
           "automargin": true,
           "gridcolor": "white",
           "linecolor": "white",
           "ticks": "",
           "title": {
            "standoff": 15
           },
           "zerolinecolor": "white",
           "zerolinewidth": 2
          }
         }
        },
        "title": {
         "font": {
          "size": 26
         },
         "text": "Price_Cat VS Total Price , Average Price , Highest Price , Lowest Price"
        },
        "width": 1000,
        "xaxis": {
         "anchor": "y",
         "domain": [
          0,
          0.45
         ]
        },
        "xaxis2": {
         "anchor": "y2",
         "domain": [
          0.55,
          1
         ]
        },
        "xaxis3": {
         "anchor": "y3",
         "domain": [
          0,
          0.45
         ]
        },
        "xaxis4": {
         "anchor": "y4",
         "domain": [
          0.55,
          1
         ]
        },
        "yaxis": {
         "anchor": "x",
         "domain": [
          0.625,
          1
         ]
        },
        "yaxis2": {
         "anchor": "x2",
         "domain": [
          0.625,
          1
         ]
        },
        "yaxis3": {
         "anchor": "x3",
         "domain": [
          0,
          0.375
         ]
        },
        "yaxis4": {
         "anchor": "x4",
         "domain": [
          0,
          0.375
         ]
        }
       }
      },
      "text/html": [
       "<div>                            <div id=\"d385f8d3-c46a-4d21-8d02-a63673bbebb6\" class=\"plotly-graph-div\" style=\"height:1200px; width:1000px;\"></div>            <script type=\"text/javascript\">                require([\"plotly\"], function(Plotly) {                    window.PLOTLYENV=window.PLOTLYENV || {};                                    if (document.getElementById(\"d385f8d3-c46a-4d21-8d02-a63673bbebb6\")) {                    Plotly.newPlot(                        \"d385f8d3-c46a-4d21-8d02-a63673bbebb6\",                        [{\"name\":\"Total Price\",\"opacity\":0.75,\"showlegend\":false,\"x\":[\"Low\",\"Mid\",\"High\"],\"y\":[7486.0,7553.0,5279.0],\"type\":\"bar\",\"xaxis\":\"x\",\"yaxis\":\"y\"},{\"name\":\"Average Price\",\"opacity\":0.75,\"showlegend\":false,\"x\":[\"Low\",\"Mid\",\"High\"],\"y\":[74.86,116.2,164.96875],\"type\":\"bar\",\"xaxis\":\"x2\",\"yaxis\":\"y2\"},{\"name\":\"Highest Price\",\"opacity\":0.75,\"showlegend\":false,\"x\":[\"Low\",\"Mid\",\"High\"],\"y\":[100.0,130.0,199.0],\"type\":\"bar\",\"xaxis\":\"x3\",\"yaxis\":\"y3\"},{\"name\":\"Lowest Price\",\"opacity\":0.75,\"showlegend\":false,\"x\":[\"Low\",\"Mid\",\"High\"],\"y\":[33.0,101.0,131.0],\"type\":\"bar\",\"xaxis\":\"x4\",\"yaxis\":\"y4\"}],                        {\"template\":{\"data\":{\"histogram2dcontour\":[{\"type\":\"histogram2dcontour\",\"colorbar\":{\"outlinewidth\":0,\"ticks\":\"\"},\"colorscale\":[[0.0,\"#0d0887\"],[0.1111111111111111,\"#46039f\"],[0.2222222222222222,\"#7201a8\"],[0.3333333333333333,\"#9c179e\"],[0.4444444444444444,\"#bd3786\"],[0.5555555555555556,\"#d8576b\"],[0.6666666666666666,\"#ed7953\"],[0.7777777777777778,\"#fb9f3a\"],[0.8888888888888888,\"#fdca26\"],[1.0,\"#f0f921\"]]}],\"choropleth\":[{\"type\":\"choropleth\",\"colorbar\":{\"outlinewidth\":0,\"ticks\":\"\"}}],\"histogram2d\":[{\"type\":\"histogram2d\",\"colorbar\":{\"outlinewidth\":0,\"ticks\":\"\"},\"colorscale\":[[0.0,\"#0d0887\"],[0.1111111111111111,\"#46039f\"],[0.2222222222222222,\"#7201a8\"],[0.3333333333333333,\"#9c179e\"],[0.4444444444444444,\"#bd3786\"],[0.5555555555555556,\"#d8576b\"],[0.6666666666666666,\"#ed7953\"],[0.7777777777777778,\"#fb9f3a\"],[0.8888888888888888,\"#fdca26\"],[1.0,\"#f0f921\"]]}],\"heatmap\":[{\"type\":\"heatmap\",\"colorbar\":{\"outlinewidth\":0,\"ticks\":\"\"},\"colorscale\":[[0.0,\"#0d0887\"],[0.1111111111111111,\"#46039f\"],[0.2222222222222222,\"#7201a8\"],[0.3333333333333333,\"#9c179e\"],[0.4444444444444444,\"#bd3786\"],[0.5555555555555556,\"#d8576b\"],[0.6666666666666666,\"#ed7953\"],[0.7777777777777778,\"#fb9f3a\"],[0.8888888888888888,\"#fdca26\"],[1.0,\"#f0f921\"]]}],\"heatmapgl\":[{\"type\":\"heatmapgl\",\"colorbar\":{\"outlinewidth\":0,\"ticks\":\"\"},\"colorscale\":[[0.0,\"#0d0887\"],[0.1111111111111111,\"#46039f\"],[0.2222222222222222,\"#7201a8\"],[0.3333333333333333,\"#9c179e\"],[0.4444444444444444,\"#bd3786\"],[0.5555555555555556,\"#d8576b\"],[0.6666666666666666,\"#ed7953\"],[0.7777777777777778,\"#fb9f3a\"],[0.8888888888888888,\"#fdca26\"],[1.0,\"#f0f921\"]]}],\"contourcarpet\":[{\"type\":\"contourcarpet\",\"colorbar\":{\"outlinewidth\":0,\"ticks\":\"\"}}],\"contour\":[{\"type\":\"contour\",\"colorbar\":{\"outlinewidth\":0,\"ticks\":\"\"},\"colorscale\":[[0.0,\"#0d0887\"],[0.1111111111111111,\"#46039f\"],[0.2222222222222222,\"#7201a8\"],[0.3333333333333333,\"#9c179e\"],[0.4444444444444444,\"#bd3786\"],[0.5555555555555556,\"#d8576b\"],[0.6666666666666666,\"#ed7953\"],[0.7777777777777778,\"#fb9f3a\"],[0.8888888888888888,\"#fdca26\"],[1.0,\"#f0f921\"]]}],\"surface\":[{\"type\":\"surface\",\"colorbar\":{\"outlinewidth\":0,\"ticks\":\"\"},\"colorscale\":[[0.0,\"#0d0887\"],[0.1111111111111111,\"#46039f\"],[0.2222222222222222,\"#7201a8\"],[0.3333333333333333,\"#9c179e\"],[0.4444444444444444,\"#bd3786\"],[0.5555555555555556,\"#d8576b\"],[0.6666666666666666,\"#ed7953\"],[0.7777777777777778,\"#fb9f3a\"],[0.8888888888888888,\"#fdca26\"],[1.0,\"#f0f921\"]]}],\"mesh3d\":[{\"type\":\"mesh3d\",\"colorbar\":{\"outlinewidth\":0,\"ticks\":\"\"}}],\"scatter\":[{\"fillpattern\":{\"fillmode\":\"overlay\",\"size\":10,\"solidity\":0.2},\"type\":\"scatter\"}],\"parcoords\":[{\"type\":\"parcoords\",\"line\":{\"colorbar\":{\"outlinewidth\":0,\"ticks\":\"\"}}}],\"scatterpolargl\":[{\"type\":\"scatterpolargl\",\"marker\":{\"colorbar\":{\"outlinewidth\":0,\"ticks\":\"\"}}}],\"bar\":[{\"error_x\":{\"color\":\"#2a3f5f\"},\"error_y\":{\"color\":\"#2a3f5f\"},\"marker\":{\"line\":{\"color\":\"#E5ECF6\",\"width\":0.5},\"pattern\":{\"fillmode\":\"overlay\",\"size\":10,\"solidity\":0.2}},\"type\":\"bar\"}],\"scattergeo\":[{\"type\":\"scattergeo\",\"marker\":{\"colorbar\":{\"outlinewidth\":0,\"ticks\":\"\"}}}],\"scatterpolar\":[{\"type\":\"scatterpolar\",\"marker\":{\"colorbar\":{\"outlinewidth\":0,\"ticks\":\"\"}}}],\"histogram\":[{\"marker\":{\"pattern\":{\"fillmode\":\"overlay\",\"size\":10,\"solidity\":0.2}},\"type\":\"histogram\"}],\"scattergl\":[{\"type\":\"scattergl\",\"marker\":{\"colorbar\":{\"outlinewidth\":0,\"ticks\":\"\"}}}],\"scatter3d\":[{\"type\":\"scatter3d\",\"line\":{\"colorbar\":{\"outlinewidth\":0,\"ticks\":\"\"}},\"marker\":{\"colorbar\":{\"outlinewidth\":0,\"ticks\":\"\"}}}],\"scattermapbox\":[{\"type\":\"scattermapbox\",\"marker\":{\"colorbar\":{\"outlinewidth\":0,\"ticks\":\"\"}}}],\"scatterternary\":[{\"type\":\"scatterternary\",\"marker\":{\"colorbar\":{\"outlinewidth\":0,\"ticks\":\"\"}}}],\"scattercarpet\":[{\"type\":\"scattercarpet\",\"marker\":{\"colorbar\":{\"outlinewidth\":0,\"ticks\":\"\"}}}],\"carpet\":[{\"aaxis\":{\"endlinecolor\":\"#2a3f5f\",\"gridcolor\":\"white\",\"linecolor\":\"white\",\"minorgridcolor\":\"white\",\"startlinecolor\":\"#2a3f5f\"},\"baxis\":{\"endlinecolor\":\"#2a3f5f\",\"gridcolor\":\"white\",\"linecolor\":\"white\",\"minorgridcolor\":\"white\",\"startlinecolor\":\"#2a3f5f\"},\"type\":\"carpet\"}],\"table\":[{\"cells\":{\"fill\":{\"color\":\"#EBF0F8\"},\"line\":{\"color\":\"white\"}},\"header\":{\"fill\":{\"color\":\"#C8D4E3\"},\"line\":{\"color\":\"white\"}},\"type\":\"table\"}],\"barpolar\":[{\"marker\":{\"line\":{\"color\":\"#E5ECF6\",\"width\":0.5},\"pattern\":{\"fillmode\":\"overlay\",\"size\":10,\"solidity\":0.2}},\"type\":\"barpolar\"}],\"pie\":[{\"automargin\":true,\"type\":\"pie\"}]},\"layout\":{\"autotypenumbers\":\"strict\",\"colorway\":[\"#636efa\",\"#EF553B\",\"#00cc96\",\"#ab63fa\",\"#FFA15A\",\"#19d3f3\",\"#FF6692\",\"#B6E880\",\"#FF97FF\",\"#FECB52\"],\"font\":{\"color\":\"#2a3f5f\"},\"hovermode\":\"closest\",\"hoverlabel\":{\"align\":\"left\"},\"paper_bgcolor\":\"white\",\"plot_bgcolor\":\"#E5ECF6\",\"polar\":{\"bgcolor\":\"#E5ECF6\",\"angularaxis\":{\"gridcolor\":\"white\",\"linecolor\":\"white\",\"ticks\":\"\"},\"radialaxis\":{\"gridcolor\":\"white\",\"linecolor\":\"white\",\"ticks\":\"\"}},\"ternary\":{\"bgcolor\":\"#E5ECF6\",\"aaxis\":{\"gridcolor\":\"white\",\"linecolor\":\"white\",\"ticks\":\"\"},\"baxis\":{\"gridcolor\":\"white\",\"linecolor\":\"white\",\"ticks\":\"\"},\"caxis\":{\"gridcolor\":\"white\",\"linecolor\":\"white\",\"ticks\":\"\"}},\"coloraxis\":{\"colorbar\":{\"outlinewidth\":0,\"ticks\":\"\"}},\"colorscale\":{\"sequential\":[[0.0,\"#0d0887\"],[0.1111111111111111,\"#46039f\"],[0.2222222222222222,\"#7201a8\"],[0.3333333333333333,\"#9c179e\"],[0.4444444444444444,\"#bd3786\"],[0.5555555555555556,\"#d8576b\"],[0.6666666666666666,\"#ed7953\"],[0.7777777777777778,\"#fb9f3a\"],[0.8888888888888888,\"#fdca26\"],[1.0,\"#f0f921\"]],\"sequentialminus\":[[0.0,\"#0d0887\"],[0.1111111111111111,\"#46039f\"],[0.2222222222222222,\"#7201a8\"],[0.3333333333333333,\"#9c179e\"],[0.4444444444444444,\"#bd3786\"],[0.5555555555555556,\"#d8576b\"],[0.6666666666666666,\"#ed7953\"],[0.7777777777777778,\"#fb9f3a\"],[0.8888888888888888,\"#fdca26\"],[1.0,\"#f0f921\"]],\"diverging\":[[0,\"#8e0152\"],[0.1,\"#c51b7d\"],[0.2,\"#de77ae\"],[0.3,\"#f1b6da\"],[0.4,\"#fde0ef\"],[0.5,\"#f7f7f7\"],[0.6,\"#e6f5d0\"],[0.7,\"#b8e186\"],[0.8,\"#7fbc41\"],[0.9,\"#4d9221\"],[1,\"#276419\"]]},\"xaxis\":{\"gridcolor\":\"white\",\"linecolor\":\"white\",\"ticks\":\"\",\"title\":{\"standoff\":15},\"zerolinecolor\":\"white\",\"automargin\":true,\"zerolinewidth\":2},\"yaxis\":{\"gridcolor\":\"white\",\"linecolor\":\"white\",\"ticks\":\"\",\"title\":{\"standoff\":15},\"zerolinecolor\":\"white\",\"automargin\":true,\"zerolinewidth\":2},\"scene\":{\"xaxis\":{\"backgroundcolor\":\"#E5ECF6\",\"gridcolor\":\"white\",\"linecolor\":\"white\",\"showbackground\":true,\"ticks\":\"\",\"zerolinecolor\":\"white\",\"gridwidth\":2},\"yaxis\":{\"backgroundcolor\":\"#E5ECF6\",\"gridcolor\":\"white\",\"linecolor\":\"white\",\"showbackground\":true,\"ticks\":\"\",\"zerolinecolor\":\"white\",\"gridwidth\":2},\"zaxis\":{\"backgroundcolor\":\"#E5ECF6\",\"gridcolor\":\"white\",\"linecolor\":\"white\",\"showbackground\":true,\"ticks\":\"\",\"zerolinecolor\":\"white\",\"gridwidth\":2}},\"shapedefaults\":{\"line\":{\"color\":\"#2a3f5f\"}},\"annotationdefaults\":{\"arrowcolor\":\"#2a3f5f\",\"arrowhead\":0,\"arrowwidth\":1},\"geo\":{\"bgcolor\":\"white\",\"landcolor\":\"#E5ECF6\",\"subunitcolor\":\"white\",\"showland\":true,\"showlakes\":true,\"lakecolor\":\"white\"},\"title\":{\"x\":0.05},\"mapbox\":{\"style\":\"light\"}}},\"xaxis\":{\"anchor\":\"y\",\"domain\":[0.0,0.45]},\"yaxis\":{\"anchor\":\"x\",\"domain\":[0.625,1.0]},\"xaxis2\":{\"anchor\":\"y2\",\"domain\":[0.55,1.0]},\"yaxis2\":{\"anchor\":\"x2\",\"domain\":[0.625,1.0]},\"xaxis3\":{\"anchor\":\"y3\",\"domain\":[0.0,0.45]},\"yaxis3\":{\"anchor\":\"x3\",\"domain\":[0.0,0.375]},\"xaxis4\":{\"anchor\":\"y4\",\"domain\":[0.55,1.0]},\"yaxis4\":{\"anchor\":\"x4\",\"domain\":[0.0,0.375]},\"annotations\":[{\"font\":{\"size\":16},\"showarrow\":false,\"text\":\"Total Price\",\"x\":0.225,\"xanchor\":\"center\",\"xref\":\"paper\",\"y\":1.0,\"yanchor\":\"bottom\",\"yref\":\"paper\"},{\"font\":{\"size\":16},\"showarrow\":false,\"text\":\"Average Price\",\"x\":0.775,\"xanchor\":\"center\",\"xref\":\"paper\",\"y\":1.0,\"yanchor\":\"bottom\",\"yref\":\"paper\"},{\"font\":{\"size\":16},\"showarrow\":false,\"text\":\"Highest Price\",\"x\":0.225,\"xanchor\":\"center\",\"xref\":\"paper\",\"y\":0.375,\"yanchor\":\"bottom\",\"yref\":\"paper\"},{\"font\":{\"size\":16},\"showarrow\":false,\"text\":\"Lowest Price\",\"x\":0.775,\"xanchor\":\"center\",\"xref\":\"paper\",\"y\":0.375,\"yanchor\":\"bottom\",\"yref\":\"paper\"}],\"font\":{\"color\":\"#909497\",\"size\":18},\"title\":{\"font\":{\"size\":26},\"text\":\"Price_Cat VS Total Price , Average Price , Highest Price , Lowest Price\"},\"margin\":{\"t\":100,\"r\":80,\"b\":80,\"l\":120},\"plot_bgcolor\":\"white\",\"hovermode\":\"closest\",\"height\":1200,\"width\":1000},                        {\"responsive\": true}                    ).then(function(){\n",
       "                            \n",
       "var gd = document.getElementById('d385f8d3-c46a-4d21-8d02-a63673bbebb6');\n",
       "var x = new MutationObserver(function (mutations, observer) {{\n",
       "        var display = window.getComputedStyle(gd).display;\n",
       "        if (!display || display === 'none') {{\n",
       "            console.log([gd, 'removed!']);\n",
       "            Plotly.purge(gd);\n",
       "            observer.disconnect();\n",
       "        }}\n",
       "}});\n",
       "\n",
       "// Listen for the removal of the full notebook cells\n",
       "var notebookContainer = gd.closest('#notebook-container');\n",
       "if (notebookContainer) {{\n",
       "    x.observe(notebookContainer, {childList: true});\n",
       "}}\n",
       "\n",
       "// Listen for the clearing of the current output cell\n",
       "var outputEl = gd.closest('.output');\n",
       "if (outputEl) {{\n",
       "    x.observe(outputEl, {childList: true});\n",
       "}}\n",
       "\n",
       "                        })                };                });            </script>        </div>"
      ]
     },
     "metadata": {},
     "output_type": "display_data"
    }
   ],
   "source": [
    "plot_column_summary_statistics(column_summary_statistics(data_without_outliers , \"price_cat\" , \"price\"))"
   ]
  },
  {
   "cell_type": "code",
   "execution_count": 25,
   "id": "ba04afee",
   "metadata": {},
   "outputs": [],
   "source": [
    "# I have to ignore this part cause the last review column for review time \n",
    "# maybe on another dataset we will do time series analysis\n",
    "# data_without_outliers.last_review = pd.to_datetime(data_without_outliers.last_review)\n",
    "# data_without_outliers[\"year\"] = data_without_outliers.last_review.dt.year\n",
    "# data_without_outliers[\"month\"] = data_without_outliers.last_review.dt.month\n"
   ]
  },
  {
   "cell_type": "code",
   "execution_count": null,
   "id": "885094c6",
   "metadata": {},
   "outputs": [],
   "source": []
  },
  {
   "cell_type": "code",
   "execution_count": null,
   "id": "077d4567-6728-49fe-b5af-3eed7d9a51b3",
   "metadata": {},
   "outputs": [],
   "source": []
  },
  {
   "cell_type": "markdown",
   "id": "88210b5f-3fa3-402f-abd0-ca7ee910f333",
   "metadata": {},
   "source": [
    "# MultiVari Analysis"
   ]
  },
  {
   "cell_type": "code",
   "execution_count": 26,
   "id": "4447a708",
   "metadata": {},
   "outputs": [
    {
     "data": {
      "application/vnd.plotly.v1+json": {
       "config": {
        "plotlyServerURL": "https://plot.ly"
       },
       "data": [
        {
         "marker": {
          "color": [
           143,
           216,
           184,
           102,
           95,
           175,
           60,
           115,
           208,
           39,
           40,
           356,
           100,
           53,
           103,
           104,
           101,
           105,
           120,
           62,
           240,
           178,
           175,
           110,
           75,
           60,
           119,
           65,
           79,
           45,
           185,
           200,
           730,
           105,
           95,
           99,
           465,
           287,
           115,
           70,
           77,
           129,
           150,
           79,
           100,
           87,
           56,
           371,
           289,
           339,
           80,
           85,
           191,
           65,
           617,
           125,
           90,
           359,
           290,
           50,
           208,
           131,
           155,
           120,
           130,
           110,
           75,
           368,
           113,
           125,
           410,
           557,
           89,
           87,
           130,
           125,
           264,
           373,
           89,
           100,
           119,
           149,
           107,
           113,
           50,
           120,
           186,
           110,
           118,
           493,
           109,
           115,
           148,
           114,
           184,
           100,
           175,
           199,
           147,
           67,
           189,
           489,
           111,
           154,
           108,
           163,
           89,
           109,
           91,
           104,
           90,
           228,
           354,
           100,
           187,
           99,
           110,
           126,
           85,
           110,
           141,
           77,
           385,
           155,
           175
          ],
          "colorscale": [
           [
            0,
            "#440154"
           ],
           [
            0.1111111111111111,
            "#482878"
           ],
           [
            0.2222222222222222,
            "#3e4989"
           ],
           [
            0.3333333333333333,
            "#31688e"
           ],
           [
            0.4444444444444444,
            "#26828e"
           ],
           [
            0.5555555555555556,
            "#1f9e89"
           ],
           [
            0.6666666666666666,
            "#35b779"
           ],
           [
            0.7777777777777778,
            "#6ece58"
           ],
           [
            0.8888888888888888,
            "#b5de2b"
           ],
           [
            1,
            "#fde725"
           ]
          ],
          "opacity": 0.8,
          "size": 12
         },
         "mode": "markers",
         "text": [
          "Cindy",
          "Antonio",
          "Argus",
          "Brian",
          "Fs",
          "Phil",
          "Philip",
          "Rabia",
          "Iris",
          "Jon",
          "Luke",
          "Peter",
          "Tanjin",
          "Adam",
          "Alexis",
          "Carla",
          "Keneisha",
          "Tomar & Kash",
          "Tyrell",
          "Aaron",
          "Abba",
          "Allen",
          "Brian",
          "Cristian",
          "Domini",
          "Donna",
          "Elsa",
          "Hasan",
          "He",
          "John",
          "Scott",
          "Thomas",
          "Linda",
          "Nickolas",
          "Rachel",
          "Allen",
          "Bela",
          "Blossom Estates",
          "Connie",
          "Ed",
          "Elizabeth",
          "Ermenita",
          "Kemba",
          "Kori",
          "Reyana",
          "Shane",
          "Share",
          "Terra",
          "Aggie",
          "Angela",
          "Anilexa",
          "Blake",
          "Earl",
          "Etem",
          "Linda",
          "Marlene",
          "Osas",
          "Urbangem",
          "Vorakij",
          "Ed",
          "James",
          "Kira",
          "Linda",
          "Najeem Adegbemiga",
          "Umer",
          "Abba",
          "Alice",
          "Argus",
          "Brian",
          "Bryce",
          "Clyde",
          "Erion",
          "Farah",
          "Grace",
          "Grant",
          "JShing",
          "Jerry",
          "Joshua",
          "Justin",
          "Leiba",
          "Lloyd",
          "Lori",
          "Massi",
          "Mela",
          "Musab",
          "Natasha",
          "Rodney",
          "Ron",
          "Sean",
          "Terra",
          "Todd",
          "Abba",
          "Allen",
          "Archer",
          "Argus",
          "Emilie",
          "Erion",
          "John M",
          "Melissa",
          "Miguelino",
          "Rashawn",
          "Scott",
          "Share",
          "Amar",
          "Chadell",
          "David",
          "Diana",
          "Dillon",
          "Earl",
          "Evolve",
          "Gabriel",
          "Julia",
          "Linda",
          "Queen",
          "Allen",
          "Caroline",
          "Elizabeth",
          "Evolve",
          "Fs",
          "Peter",
          "Romel",
          "Thaddeus",
          "Thomas",
          "Mary",
          "Phil"
         ],
         "type": "scatter",
         "x": [
          "EIGHTH WARD",
          "ELEVENTH WARD",
          "ELEVENTH WARD",
          "ELEVENTH WARD",
          "ELEVENTH WARD",
          "ELEVENTH WARD",
          "ELEVENTH WARD",
          "ELEVENTH WARD",
          "FIFTEENTH WARD",
          "FIFTEENTH WARD",
          "FIFTEENTH WARD",
          "FIFTEENTH WARD",
          "FIFTEENTH WARD",
          "FIFTH WARD",
          "FIFTH WARD",
          "FIFTH WARD",
          "FIFTH WARD",
          "FIFTH WARD",
          "FIFTH WARD",
          "FOURTEENTH WARD",
          "FOURTEENTH WARD",
          "FOURTEENTH WARD",
          "FOURTEENTH WARD",
          "FOURTEENTH WARD",
          "FOURTEENTH WARD",
          "FOURTEENTH WARD",
          "FOURTEENTH WARD",
          "FOURTEENTH WARD",
          "FOURTEENTH WARD",
          "FOURTEENTH WARD",
          "FOURTEENTH WARD",
          "FOURTEENTH WARD",
          "FOURTH WARD",
          "FOURTH WARD",
          "FOURTH WARD",
          "NINTH WARD",
          "NINTH WARD",
          "NINTH WARD",
          "NINTH WARD",
          "NINTH WARD",
          "NINTH WARD",
          "NINTH WARD",
          "NINTH WARD",
          "NINTH WARD",
          "NINTH WARD",
          "NINTH WARD",
          "NINTH WARD",
          "NINTH WARD",
          "SECOND WARD",
          "SECOND WARD",
          "SECOND WARD",
          "SECOND WARD",
          "SECOND WARD",
          "SECOND WARD",
          "SECOND WARD",
          "SECOND WARD",
          "SECOND WARD",
          "SECOND WARD",
          "SECOND WARD",
          "SEVENTH WARD",
          "SEVENTH WARD",
          "SEVENTH WARD",
          "SEVENTH WARD",
          "SEVENTH WARD",
          "SEVENTH WARD",
          "SIXTH WARD",
          "SIXTH WARD",
          "SIXTH WARD",
          "SIXTH WARD",
          "SIXTH WARD",
          "SIXTH WARD",
          "SIXTH WARD",
          "SIXTH WARD",
          "SIXTH WARD",
          "SIXTH WARD",
          "SIXTH WARD",
          "SIXTH WARD",
          "SIXTH WARD",
          "SIXTH WARD",
          "SIXTH WARD",
          "SIXTH WARD",
          "SIXTH WARD",
          "SIXTH WARD",
          "SIXTH WARD",
          "SIXTH WARD",
          "SIXTH WARD",
          "SIXTH WARD",
          "SIXTH WARD",
          "SIXTH WARD",
          "SIXTH WARD",
          "SIXTH WARD",
          "TENTH WARD",
          "TENTH WARD",
          "TENTH WARD",
          "TENTH WARD",
          "TENTH WARD",
          "TENTH WARD",
          "TENTH WARD",
          "TENTH WARD",
          "TENTH WARD",
          "TENTH WARD",
          "TENTH WARD",
          "TENTH WARD",
          "THIRD WARD",
          "THIRD WARD",
          "THIRD WARD",
          "THIRD WARD",
          "THIRD WARD",
          "THIRD WARD",
          "THIRD WARD",
          "THIRD WARD",
          "THIRD WARD",
          "THIRD WARD",
          "THIRD WARD",
          "THIRTEENTH WARD",
          "THIRTEENTH WARD",
          "THIRTEENTH WARD",
          "THIRTEENTH WARD",
          "THIRTEENTH WARD",
          "THIRTEENTH WARD",
          "THIRTEENTH WARD",
          "THIRTEENTH WARD",
          "THIRTEENTH WARD",
          "TWELFTH WARD",
          "TWELFTH WARD"
         ],
         "y": [
          143,
          216,
          184,
          102,
          95,
          175,
          60,
          115,
          208,
          39,
          40,
          356,
          100,
          53,
          103,
          104,
          101,
          105,
          120,
          62,
          240,
          178,
          175,
          110,
          75,
          60,
          119,
          65,
          79,
          45,
          185,
          200,
          730,
          105,
          95,
          99,
          465,
          287,
          115,
          70,
          77,
          129,
          150,
          79,
          100,
          87,
          56,
          371,
          289,
          339,
          80,
          85,
          191,
          65,
          617,
          125,
          90,
          359,
          290,
          50,
          208,
          131,
          155,
          120,
          130,
          110,
          75,
          368,
          113,
          125,
          410,
          557,
          89,
          87,
          130,
          125,
          264,
          373,
          89,
          100,
          119,
          149,
          107,
          113,
          50,
          120,
          186,
          110,
          118,
          493,
          109,
          115,
          148,
          114,
          184,
          100,
          175,
          199,
          147,
          67,
          189,
          489,
          111,
          154,
          108,
          163,
          89,
          109,
          91,
          104,
          90,
          228,
          354,
          100,
          187,
          99,
          110,
          126,
          85,
          110,
          141,
          77,
          385,
          155,
          175
         ]
        }
       ],
       "layout": {
        "font": {
         "color": "#909497",
         "size": 18
        },
        "height": 720,
        "hovermode": "closest",
        "margin": {
         "b": 80,
         "l": 120,
         "r": 80,
         "t": 100
        },
        "plot_bgcolor": "white",
        "template": {
         "data": {
          "bar": [
           {
            "error_x": {
             "color": "#2a3f5f"
            },
            "error_y": {
             "color": "#2a3f5f"
            },
            "marker": {
             "line": {
              "color": "#E5ECF6",
              "width": 0.5
             },
             "pattern": {
              "fillmode": "overlay",
              "size": 10,
              "solidity": 0.2
             }
            },
            "type": "bar"
           }
          ],
          "barpolar": [
           {
            "marker": {
             "line": {
              "color": "#E5ECF6",
              "width": 0.5
             },
             "pattern": {
              "fillmode": "overlay",
              "size": 10,
              "solidity": 0.2
             }
            },
            "type": "barpolar"
           }
          ],
          "carpet": [
           {
            "aaxis": {
             "endlinecolor": "#2a3f5f",
             "gridcolor": "white",
             "linecolor": "white",
             "minorgridcolor": "white",
             "startlinecolor": "#2a3f5f"
            },
            "baxis": {
             "endlinecolor": "#2a3f5f",
             "gridcolor": "white",
             "linecolor": "white",
             "minorgridcolor": "white",
             "startlinecolor": "#2a3f5f"
            },
            "type": "carpet"
           }
          ],
          "choropleth": [
           {
            "colorbar": {
             "outlinewidth": 0,
             "ticks": ""
            },
            "type": "choropleth"
           }
          ],
          "contour": [
           {
            "colorbar": {
             "outlinewidth": 0,
             "ticks": ""
            },
            "colorscale": [
             [
              0,
              "#0d0887"
             ],
             [
              0.1111111111111111,
              "#46039f"
             ],
             [
              0.2222222222222222,
              "#7201a8"
             ],
             [
              0.3333333333333333,
              "#9c179e"
             ],
             [
              0.4444444444444444,
              "#bd3786"
             ],
             [
              0.5555555555555556,
              "#d8576b"
             ],
             [
              0.6666666666666666,
              "#ed7953"
             ],
             [
              0.7777777777777778,
              "#fb9f3a"
             ],
             [
              0.8888888888888888,
              "#fdca26"
             ],
             [
              1,
              "#f0f921"
             ]
            ],
            "type": "contour"
           }
          ],
          "contourcarpet": [
           {
            "colorbar": {
             "outlinewidth": 0,
             "ticks": ""
            },
            "type": "contourcarpet"
           }
          ],
          "heatmap": [
           {
            "colorbar": {
             "outlinewidth": 0,
             "ticks": ""
            },
            "colorscale": [
             [
              0,
              "#0d0887"
             ],
             [
              0.1111111111111111,
              "#46039f"
             ],
             [
              0.2222222222222222,
              "#7201a8"
             ],
             [
              0.3333333333333333,
              "#9c179e"
             ],
             [
              0.4444444444444444,
              "#bd3786"
             ],
             [
              0.5555555555555556,
              "#d8576b"
             ],
             [
              0.6666666666666666,
              "#ed7953"
             ],
             [
              0.7777777777777778,
              "#fb9f3a"
             ],
             [
              0.8888888888888888,
              "#fdca26"
             ],
             [
              1,
              "#f0f921"
             ]
            ],
            "type": "heatmap"
           }
          ],
          "heatmapgl": [
           {
            "colorbar": {
             "outlinewidth": 0,
             "ticks": ""
            },
            "colorscale": [
             [
              0,
              "#0d0887"
             ],
             [
              0.1111111111111111,
              "#46039f"
             ],
             [
              0.2222222222222222,
              "#7201a8"
             ],
             [
              0.3333333333333333,
              "#9c179e"
             ],
             [
              0.4444444444444444,
              "#bd3786"
             ],
             [
              0.5555555555555556,
              "#d8576b"
             ],
             [
              0.6666666666666666,
              "#ed7953"
             ],
             [
              0.7777777777777778,
              "#fb9f3a"
             ],
             [
              0.8888888888888888,
              "#fdca26"
             ],
             [
              1,
              "#f0f921"
             ]
            ],
            "type": "heatmapgl"
           }
          ],
          "histogram": [
           {
            "marker": {
             "pattern": {
              "fillmode": "overlay",
              "size": 10,
              "solidity": 0.2
             }
            },
            "type": "histogram"
           }
          ],
          "histogram2d": [
           {
            "colorbar": {
             "outlinewidth": 0,
             "ticks": ""
            },
            "colorscale": [
             [
              0,
              "#0d0887"
             ],
             [
              0.1111111111111111,
              "#46039f"
             ],
             [
              0.2222222222222222,
              "#7201a8"
             ],
             [
              0.3333333333333333,
              "#9c179e"
             ],
             [
              0.4444444444444444,
              "#bd3786"
             ],
             [
              0.5555555555555556,
              "#d8576b"
             ],
             [
              0.6666666666666666,
              "#ed7953"
             ],
             [
              0.7777777777777778,
              "#fb9f3a"
             ],
             [
              0.8888888888888888,
              "#fdca26"
             ],
             [
              1,
              "#f0f921"
             ]
            ],
            "type": "histogram2d"
           }
          ],
          "histogram2dcontour": [
           {
            "colorbar": {
             "outlinewidth": 0,
             "ticks": ""
            },
            "colorscale": [
             [
              0,
              "#0d0887"
             ],
             [
              0.1111111111111111,
              "#46039f"
             ],
             [
              0.2222222222222222,
              "#7201a8"
             ],
             [
              0.3333333333333333,
              "#9c179e"
             ],
             [
              0.4444444444444444,
              "#bd3786"
             ],
             [
              0.5555555555555556,
              "#d8576b"
             ],
             [
              0.6666666666666666,
              "#ed7953"
             ],
             [
              0.7777777777777778,
              "#fb9f3a"
             ],
             [
              0.8888888888888888,
              "#fdca26"
             ],
             [
              1,
              "#f0f921"
             ]
            ],
            "type": "histogram2dcontour"
           }
          ],
          "mesh3d": [
           {
            "colorbar": {
             "outlinewidth": 0,
             "ticks": ""
            },
            "type": "mesh3d"
           }
          ],
          "parcoords": [
           {
            "line": {
             "colorbar": {
              "outlinewidth": 0,
              "ticks": ""
             }
            },
            "type": "parcoords"
           }
          ],
          "pie": [
           {
            "automargin": true,
            "type": "pie"
           }
          ],
          "scatter": [
           {
            "fillpattern": {
             "fillmode": "overlay",
             "size": 10,
             "solidity": 0.2
            },
            "type": "scatter"
           }
          ],
          "scatter3d": [
           {
            "line": {
             "colorbar": {
              "outlinewidth": 0,
              "ticks": ""
             }
            },
            "marker": {
             "colorbar": {
              "outlinewidth": 0,
              "ticks": ""
             }
            },
            "type": "scatter3d"
           }
          ],
          "scattercarpet": [
           {
            "marker": {
             "colorbar": {
              "outlinewidth": 0,
              "ticks": ""
             }
            },
            "type": "scattercarpet"
           }
          ],
          "scattergeo": [
           {
            "marker": {
             "colorbar": {
              "outlinewidth": 0,
              "ticks": ""
             }
            },
            "type": "scattergeo"
           }
          ],
          "scattergl": [
           {
            "marker": {
             "colorbar": {
              "outlinewidth": 0,
              "ticks": ""
             }
            },
            "type": "scattergl"
           }
          ],
          "scattermapbox": [
           {
            "marker": {
             "colorbar": {
              "outlinewidth": 0,
              "ticks": ""
             }
            },
            "type": "scattermapbox"
           }
          ],
          "scatterpolar": [
           {
            "marker": {
             "colorbar": {
              "outlinewidth": 0,
              "ticks": ""
             }
            },
            "type": "scatterpolar"
           }
          ],
          "scatterpolargl": [
           {
            "marker": {
             "colorbar": {
              "outlinewidth": 0,
              "ticks": ""
             }
            },
            "type": "scatterpolargl"
           }
          ],
          "scatterternary": [
           {
            "marker": {
             "colorbar": {
              "outlinewidth": 0,
              "ticks": ""
             }
            },
            "type": "scatterternary"
           }
          ],
          "surface": [
           {
            "colorbar": {
             "outlinewidth": 0,
             "ticks": ""
            },
            "colorscale": [
             [
              0,
              "#0d0887"
             ],
             [
              0.1111111111111111,
              "#46039f"
             ],
             [
              0.2222222222222222,
              "#7201a8"
             ],
             [
              0.3333333333333333,
              "#9c179e"
             ],
             [
              0.4444444444444444,
              "#bd3786"
             ],
             [
              0.5555555555555556,
              "#d8576b"
             ],
             [
              0.6666666666666666,
              "#ed7953"
             ],
             [
              0.7777777777777778,
              "#fb9f3a"
             ],
             [
              0.8888888888888888,
              "#fdca26"
             ],
             [
              1,
              "#f0f921"
             ]
            ],
            "type": "surface"
           }
          ],
          "table": [
           {
            "cells": {
             "fill": {
              "color": "#EBF0F8"
             },
             "line": {
              "color": "white"
             }
            },
            "header": {
             "fill": {
              "color": "#C8D4E3"
             },
             "line": {
              "color": "white"
             }
            },
            "type": "table"
           }
          ]
         },
         "layout": {
          "annotationdefaults": {
           "arrowcolor": "#2a3f5f",
           "arrowhead": 0,
           "arrowwidth": 1
          },
          "autotypenumbers": "strict",
          "coloraxis": {
           "colorbar": {
            "outlinewidth": 0,
            "ticks": ""
           }
          },
          "colorscale": {
           "diverging": [
            [
             0,
             "#8e0152"
            ],
            [
             0.1,
             "#c51b7d"
            ],
            [
             0.2,
             "#de77ae"
            ],
            [
             0.3,
             "#f1b6da"
            ],
            [
             0.4,
             "#fde0ef"
            ],
            [
             0.5,
             "#f7f7f7"
            ],
            [
             0.6,
             "#e6f5d0"
            ],
            [
             0.7,
             "#b8e186"
            ],
            [
             0.8,
             "#7fbc41"
            ],
            [
             0.9,
             "#4d9221"
            ],
            [
             1,
             "#276419"
            ]
           ],
           "sequential": [
            [
             0,
             "#0d0887"
            ],
            [
             0.1111111111111111,
             "#46039f"
            ],
            [
             0.2222222222222222,
             "#7201a8"
            ],
            [
             0.3333333333333333,
             "#9c179e"
            ],
            [
             0.4444444444444444,
             "#bd3786"
            ],
            [
             0.5555555555555556,
             "#d8576b"
            ],
            [
             0.6666666666666666,
             "#ed7953"
            ],
            [
             0.7777777777777778,
             "#fb9f3a"
            ],
            [
             0.8888888888888888,
             "#fdca26"
            ],
            [
             1,
             "#f0f921"
            ]
           ],
           "sequentialminus": [
            [
             0,
             "#0d0887"
            ],
            [
             0.1111111111111111,
             "#46039f"
            ],
            [
             0.2222222222222222,
             "#7201a8"
            ],
            [
             0.3333333333333333,
             "#9c179e"
            ],
            [
             0.4444444444444444,
             "#bd3786"
            ],
            [
             0.5555555555555556,
             "#d8576b"
            ],
            [
             0.6666666666666666,
             "#ed7953"
            ],
            [
             0.7777777777777778,
             "#fb9f3a"
            ],
            [
             0.8888888888888888,
             "#fdca26"
            ],
            [
             1,
             "#f0f921"
            ]
           ]
          },
          "colorway": [
           "#636efa",
           "#EF553B",
           "#00cc96",
           "#ab63fa",
           "#FFA15A",
           "#19d3f3",
           "#FF6692",
           "#B6E880",
           "#FF97FF",
           "#FECB52"
          ],
          "font": {
           "color": "#2a3f5f"
          },
          "geo": {
           "bgcolor": "white",
           "lakecolor": "white",
           "landcolor": "#E5ECF6",
           "showlakes": true,
           "showland": true,
           "subunitcolor": "white"
          },
          "hoverlabel": {
           "align": "left"
          },
          "hovermode": "closest",
          "mapbox": {
           "style": "light"
          },
          "paper_bgcolor": "white",
          "plot_bgcolor": "#E5ECF6",
          "polar": {
           "angularaxis": {
            "gridcolor": "white",
            "linecolor": "white",
            "ticks": ""
           },
           "bgcolor": "#E5ECF6",
           "radialaxis": {
            "gridcolor": "white",
            "linecolor": "white",
            "ticks": ""
           }
          },
          "scene": {
           "xaxis": {
            "backgroundcolor": "#E5ECF6",
            "gridcolor": "white",
            "gridwidth": 2,
            "linecolor": "white",
            "showbackground": true,
            "ticks": "",
            "zerolinecolor": "white"
           },
           "yaxis": {
            "backgroundcolor": "#E5ECF6",
            "gridcolor": "white",
            "gridwidth": 2,
            "linecolor": "white",
            "showbackground": true,
            "ticks": "",
            "zerolinecolor": "white"
           },
           "zaxis": {
            "backgroundcolor": "#E5ECF6",
            "gridcolor": "white",
            "gridwidth": 2,
            "linecolor": "white",
            "showbackground": true,
            "ticks": "",
            "zerolinecolor": "white"
           }
          },
          "shapedefaults": {
           "line": {
            "color": "#2a3f5f"
           }
          },
          "ternary": {
           "aaxis": {
            "gridcolor": "white",
            "linecolor": "white",
            "ticks": ""
           },
           "baxis": {
            "gridcolor": "white",
            "linecolor": "white",
            "ticks": ""
           },
           "bgcolor": "#E5ECF6",
           "caxis": {
            "gridcolor": "white",
            "linecolor": "white",
            "ticks": ""
           }
          },
          "title": {
           "x": 0.05
          },
          "xaxis": {
           "automargin": true,
           "gridcolor": "white",
           "linecolor": "white",
           "ticks": "",
           "title": {
            "standoff": 15
           },
           "zerolinecolor": "white",
           "zerolinewidth": 2
          },
          "yaxis": {
           "automargin": true,
           "gridcolor": "white",
           "linecolor": "white",
           "ticks": "",
           "title": {
            "standoff": 15
           },
           "zerolinecolor": "white",
           "zerolinewidth": 2
          }
         }
        },
        "title": {
         "font": {
          "size": 26
         },
         "text": "Total Price by Neighbourhood and Host Name"
        },
        "width": 900,
        "xaxis": {
         "linecolor": "#909497",
         "title": {
          "text": "Neighbourhood"
         }
        },
        "yaxis": {
         "linecolor": "#909497",
         "tickformat": ",",
         "title": {
          "text": "Total Price"
         }
        }
       }
      },
      "text/html": [
       "<div>                            <div id=\"d0d13448-a1ac-4178-aff7-377e4dea1732\" class=\"plotly-graph-div\" style=\"height:720px; width:900px;\"></div>            <script type=\"text/javascript\">                require([\"plotly\"], function(Plotly) {                    window.PLOTLYENV=window.PLOTLYENV || {};                                    if (document.getElementById(\"d0d13448-a1ac-4178-aff7-377e4dea1732\")) {                    Plotly.newPlot(                        \"d0d13448-a1ac-4178-aff7-377e4dea1732\",                        [{\"marker\":{\"color\":[143.0,216.0,184.0,102.0,95.0,175.0,60.0,115.0,208.0,39.0,40.0,356.0,100.0,53.0,103.0,104.0,101.0,105.0,120.0,62.0,240.0,178.0,175.0,110.0,75.0,60.0,119.0,65.0,79.0,45.0,185.0,200.0,730.0,105.0,95.0,99.0,465.0,287.0,115.0,70.0,77.0,129.0,150.0,79.0,100.0,87.0,56.0,371.0,289.0,339.0,80.0,85.0,191.0,65.0,617.0,125.0,90.0,359.0,290.0,50.0,208.0,131.0,155.0,120.0,130.0,110.0,75.0,368.0,113.0,125.0,410.0,557.0,89.0,87.0,130.0,125.0,264.0,373.0,89.0,100.0,119.0,149.0,107.0,113.0,50.0,120.0,186.0,110.0,118.0,493.0,109.0,115.0,148.0,114.0,184.0,100.0,175.0,199.0,147.0,67.0,189.0,489.0,111.0,154.0,108.0,163.0,89.0,109.0,91.0,104.0,90.0,228.0,354.0,100.0,187.0,99.0,110.0,126.0,85.0,110.0,141.0,77.0,385.0,155.0,175.0],\"colorscale\":[[0.0,\"#440154\"],[0.1111111111111111,\"#482878\"],[0.2222222222222222,\"#3e4989\"],[0.3333333333333333,\"#31688e\"],[0.4444444444444444,\"#26828e\"],[0.5555555555555556,\"#1f9e89\"],[0.6666666666666666,\"#35b779\"],[0.7777777777777778,\"#6ece58\"],[0.8888888888888888,\"#b5de2b\"],[1.0,\"#fde725\"]],\"opacity\":0.8,\"size\":12},\"mode\":\"markers\",\"text\":[\"Cindy\",\"Antonio\",\"Argus\",\"Brian\",\"Fs\",\"Phil\",\"Philip\",\"Rabia\",\"Iris\",\"Jon\",\"Luke\",\"Peter\",\"Tanjin\",\"Adam\",\"Alexis\",\"Carla\",\"Keneisha\",\"Tomar & Kash\",\"Tyrell\",\"Aaron\",\"Abba\",\"Allen\",\"Brian\",\"Cristian\",\"Domini\",\"Donna\",\"Elsa\",\"Hasan\",\"He\",\"John\",\"Scott\",\"Thomas\",\"Linda\",\"Nickolas\",\"Rachel\",\"Allen\",\"Bela\",\"Blossom Estates\",\"Connie\",\"Ed\",\"Elizabeth\",\"Ermenita\",\"Kemba\",\"Kori\",\"Reyana\",\"Shane\",\"Share\",\"Terra\",\"Aggie\",\"Angela\",\"Anilexa\",\"Blake\",\"Earl\",\"Etem\",\"Linda\",\"Marlene\",\"Osas\",\"Urbangem\",\"Vorakij\",\"Ed\",\"James\",\"Kira\",\"Linda\",\"Najeem Adegbemiga\",\"Umer\",\"Abba\",\"Alice\",\"Argus\",\"Brian\",\"Bryce\",\"Clyde\",\"Erion\",\"Farah\",\"Grace\",\"Grant\",\"JShing\",\"Jerry\",\"Joshua\",\"Justin\",\"Leiba\",\"Lloyd\",\"Lori\",\"Massi\",\"Mela\",\"Musab\",\"Natasha\",\"Rodney\",\"Ron\",\"Sean\",\"Terra\",\"Todd\",\"Abba\",\"Allen\",\"Archer\",\"Argus\",\"Emilie\",\"Erion\",\"John M\",\"Melissa\",\"Miguelino\",\"Rashawn\",\"Scott\",\"Share\",\"Amar\",\"Chadell\",\"David\",\"Diana\",\"Dillon\",\"Earl\",\"Evolve\",\"Gabriel\",\"Julia\",\"Linda\",\"Queen\",\"Allen\",\"Caroline\",\"Elizabeth\",\"Evolve\",\"Fs\",\"Peter\",\"Romel\",\"Thaddeus\",\"Thomas\",\"Mary\",\"Phil\"],\"x\":[\"EIGHTH WARD\",\"ELEVENTH WARD\",\"ELEVENTH WARD\",\"ELEVENTH WARD\",\"ELEVENTH WARD\",\"ELEVENTH WARD\",\"ELEVENTH WARD\",\"ELEVENTH WARD\",\"FIFTEENTH WARD\",\"FIFTEENTH WARD\",\"FIFTEENTH WARD\",\"FIFTEENTH WARD\",\"FIFTEENTH WARD\",\"FIFTH WARD\",\"FIFTH WARD\",\"FIFTH WARD\",\"FIFTH WARD\",\"FIFTH WARD\",\"FIFTH WARD\",\"FOURTEENTH WARD\",\"FOURTEENTH WARD\",\"FOURTEENTH WARD\",\"FOURTEENTH WARD\",\"FOURTEENTH WARD\",\"FOURTEENTH WARD\",\"FOURTEENTH WARD\",\"FOURTEENTH WARD\",\"FOURTEENTH WARD\",\"FOURTEENTH WARD\",\"FOURTEENTH WARD\",\"FOURTEENTH WARD\",\"FOURTEENTH WARD\",\"FOURTH WARD\",\"FOURTH WARD\",\"FOURTH WARD\",\"NINTH WARD\",\"NINTH WARD\",\"NINTH WARD\",\"NINTH WARD\",\"NINTH WARD\",\"NINTH WARD\",\"NINTH WARD\",\"NINTH WARD\",\"NINTH WARD\",\"NINTH WARD\",\"NINTH WARD\",\"NINTH WARD\",\"NINTH WARD\",\"SECOND WARD\",\"SECOND WARD\",\"SECOND WARD\",\"SECOND WARD\",\"SECOND WARD\",\"SECOND WARD\",\"SECOND WARD\",\"SECOND WARD\",\"SECOND WARD\",\"SECOND WARD\",\"SECOND WARD\",\"SEVENTH WARD\",\"SEVENTH WARD\",\"SEVENTH WARD\",\"SEVENTH WARD\",\"SEVENTH WARD\",\"SEVENTH WARD\",\"SIXTH WARD\",\"SIXTH WARD\",\"SIXTH WARD\",\"SIXTH WARD\",\"SIXTH WARD\",\"SIXTH WARD\",\"SIXTH WARD\",\"SIXTH WARD\",\"SIXTH WARD\",\"SIXTH WARD\",\"SIXTH WARD\",\"SIXTH WARD\",\"SIXTH WARD\",\"SIXTH WARD\",\"SIXTH WARD\",\"SIXTH WARD\",\"SIXTH WARD\",\"SIXTH WARD\",\"SIXTH WARD\",\"SIXTH WARD\",\"SIXTH WARD\",\"SIXTH WARD\",\"SIXTH WARD\",\"SIXTH WARD\",\"SIXTH WARD\",\"SIXTH WARD\",\"TENTH WARD\",\"TENTH WARD\",\"TENTH WARD\",\"TENTH WARD\",\"TENTH WARD\",\"TENTH WARD\",\"TENTH WARD\",\"TENTH WARD\",\"TENTH WARD\",\"TENTH WARD\",\"TENTH WARD\",\"TENTH WARD\",\"THIRD WARD\",\"THIRD WARD\",\"THIRD WARD\",\"THIRD WARD\",\"THIRD WARD\",\"THIRD WARD\",\"THIRD WARD\",\"THIRD WARD\",\"THIRD WARD\",\"THIRD WARD\",\"THIRD WARD\",\"THIRTEENTH WARD\",\"THIRTEENTH WARD\",\"THIRTEENTH WARD\",\"THIRTEENTH WARD\",\"THIRTEENTH WARD\",\"THIRTEENTH WARD\",\"THIRTEENTH WARD\",\"THIRTEENTH WARD\",\"THIRTEENTH WARD\",\"TWELFTH WARD\",\"TWELFTH WARD\"],\"y\":[143.0,216.0,184.0,102.0,95.0,175.0,60.0,115.0,208.0,39.0,40.0,356.0,100.0,53.0,103.0,104.0,101.0,105.0,120.0,62.0,240.0,178.0,175.0,110.0,75.0,60.0,119.0,65.0,79.0,45.0,185.0,200.0,730.0,105.0,95.0,99.0,465.0,287.0,115.0,70.0,77.0,129.0,150.0,79.0,100.0,87.0,56.0,371.0,289.0,339.0,80.0,85.0,191.0,65.0,617.0,125.0,90.0,359.0,290.0,50.0,208.0,131.0,155.0,120.0,130.0,110.0,75.0,368.0,113.0,125.0,410.0,557.0,89.0,87.0,130.0,125.0,264.0,373.0,89.0,100.0,119.0,149.0,107.0,113.0,50.0,120.0,186.0,110.0,118.0,493.0,109.0,115.0,148.0,114.0,184.0,100.0,175.0,199.0,147.0,67.0,189.0,489.0,111.0,154.0,108.0,163.0,89.0,109.0,91.0,104.0,90.0,228.0,354.0,100.0,187.0,99.0,110.0,126.0,85.0,110.0,141.0,77.0,385.0,155.0,175.0],\"type\":\"scatter\"}],                        {\"template\":{\"data\":{\"histogram2dcontour\":[{\"type\":\"histogram2dcontour\",\"colorbar\":{\"outlinewidth\":0,\"ticks\":\"\"},\"colorscale\":[[0.0,\"#0d0887\"],[0.1111111111111111,\"#46039f\"],[0.2222222222222222,\"#7201a8\"],[0.3333333333333333,\"#9c179e\"],[0.4444444444444444,\"#bd3786\"],[0.5555555555555556,\"#d8576b\"],[0.6666666666666666,\"#ed7953\"],[0.7777777777777778,\"#fb9f3a\"],[0.8888888888888888,\"#fdca26\"],[1.0,\"#f0f921\"]]}],\"choropleth\":[{\"type\":\"choropleth\",\"colorbar\":{\"outlinewidth\":0,\"ticks\":\"\"}}],\"histogram2d\":[{\"type\":\"histogram2d\",\"colorbar\":{\"outlinewidth\":0,\"ticks\":\"\"},\"colorscale\":[[0.0,\"#0d0887\"],[0.1111111111111111,\"#46039f\"],[0.2222222222222222,\"#7201a8\"],[0.3333333333333333,\"#9c179e\"],[0.4444444444444444,\"#bd3786\"],[0.5555555555555556,\"#d8576b\"],[0.6666666666666666,\"#ed7953\"],[0.7777777777777778,\"#fb9f3a\"],[0.8888888888888888,\"#fdca26\"],[1.0,\"#f0f921\"]]}],\"heatmap\":[{\"type\":\"heatmap\",\"colorbar\":{\"outlinewidth\":0,\"ticks\":\"\"},\"colorscale\":[[0.0,\"#0d0887\"],[0.1111111111111111,\"#46039f\"],[0.2222222222222222,\"#7201a8\"],[0.3333333333333333,\"#9c179e\"],[0.4444444444444444,\"#bd3786\"],[0.5555555555555556,\"#d8576b\"],[0.6666666666666666,\"#ed7953\"],[0.7777777777777778,\"#fb9f3a\"],[0.8888888888888888,\"#fdca26\"],[1.0,\"#f0f921\"]]}],\"heatmapgl\":[{\"type\":\"heatmapgl\",\"colorbar\":{\"outlinewidth\":0,\"ticks\":\"\"},\"colorscale\":[[0.0,\"#0d0887\"],[0.1111111111111111,\"#46039f\"],[0.2222222222222222,\"#7201a8\"],[0.3333333333333333,\"#9c179e\"],[0.4444444444444444,\"#bd3786\"],[0.5555555555555556,\"#d8576b\"],[0.6666666666666666,\"#ed7953\"],[0.7777777777777778,\"#fb9f3a\"],[0.8888888888888888,\"#fdca26\"],[1.0,\"#f0f921\"]]}],\"contourcarpet\":[{\"type\":\"contourcarpet\",\"colorbar\":{\"outlinewidth\":0,\"ticks\":\"\"}}],\"contour\":[{\"type\":\"contour\",\"colorbar\":{\"outlinewidth\":0,\"ticks\":\"\"},\"colorscale\":[[0.0,\"#0d0887\"],[0.1111111111111111,\"#46039f\"],[0.2222222222222222,\"#7201a8\"],[0.3333333333333333,\"#9c179e\"],[0.4444444444444444,\"#bd3786\"],[0.5555555555555556,\"#d8576b\"],[0.6666666666666666,\"#ed7953\"],[0.7777777777777778,\"#fb9f3a\"],[0.8888888888888888,\"#fdca26\"],[1.0,\"#f0f921\"]]}],\"surface\":[{\"type\":\"surface\",\"colorbar\":{\"outlinewidth\":0,\"ticks\":\"\"},\"colorscale\":[[0.0,\"#0d0887\"],[0.1111111111111111,\"#46039f\"],[0.2222222222222222,\"#7201a8\"],[0.3333333333333333,\"#9c179e\"],[0.4444444444444444,\"#bd3786\"],[0.5555555555555556,\"#d8576b\"],[0.6666666666666666,\"#ed7953\"],[0.7777777777777778,\"#fb9f3a\"],[0.8888888888888888,\"#fdca26\"],[1.0,\"#f0f921\"]]}],\"mesh3d\":[{\"type\":\"mesh3d\",\"colorbar\":{\"outlinewidth\":0,\"ticks\":\"\"}}],\"scatter\":[{\"fillpattern\":{\"fillmode\":\"overlay\",\"size\":10,\"solidity\":0.2},\"type\":\"scatter\"}],\"parcoords\":[{\"type\":\"parcoords\",\"line\":{\"colorbar\":{\"outlinewidth\":0,\"ticks\":\"\"}}}],\"scatterpolargl\":[{\"type\":\"scatterpolargl\",\"marker\":{\"colorbar\":{\"outlinewidth\":0,\"ticks\":\"\"}}}],\"bar\":[{\"error_x\":{\"color\":\"#2a3f5f\"},\"error_y\":{\"color\":\"#2a3f5f\"},\"marker\":{\"line\":{\"color\":\"#E5ECF6\",\"width\":0.5},\"pattern\":{\"fillmode\":\"overlay\",\"size\":10,\"solidity\":0.2}},\"type\":\"bar\"}],\"scattergeo\":[{\"type\":\"scattergeo\",\"marker\":{\"colorbar\":{\"outlinewidth\":0,\"ticks\":\"\"}}}],\"scatterpolar\":[{\"type\":\"scatterpolar\",\"marker\":{\"colorbar\":{\"outlinewidth\":0,\"ticks\":\"\"}}}],\"histogram\":[{\"marker\":{\"pattern\":{\"fillmode\":\"overlay\",\"size\":10,\"solidity\":0.2}},\"type\":\"histogram\"}],\"scattergl\":[{\"type\":\"scattergl\",\"marker\":{\"colorbar\":{\"outlinewidth\":0,\"ticks\":\"\"}}}],\"scatter3d\":[{\"type\":\"scatter3d\",\"line\":{\"colorbar\":{\"outlinewidth\":0,\"ticks\":\"\"}},\"marker\":{\"colorbar\":{\"outlinewidth\":0,\"ticks\":\"\"}}}],\"scattermapbox\":[{\"type\":\"scattermapbox\",\"marker\":{\"colorbar\":{\"outlinewidth\":0,\"ticks\":\"\"}}}],\"scatterternary\":[{\"type\":\"scatterternary\",\"marker\":{\"colorbar\":{\"outlinewidth\":0,\"ticks\":\"\"}}}],\"scattercarpet\":[{\"type\":\"scattercarpet\",\"marker\":{\"colorbar\":{\"outlinewidth\":0,\"ticks\":\"\"}}}],\"carpet\":[{\"aaxis\":{\"endlinecolor\":\"#2a3f5f\",\"gridcolor\":\"white\",\"linecolor\":\"white\",\"minorgridcolor\":\"white\",\"startlinecolor\":\"#2a3f5f\"},\"baxis\":{\"endlinecolor\":\"#2a3f5f\",\"gridcolor\":\"white\",\"linecolor\":\"white\",\"minorgridcolor\":\"white\",\"startlinecolor\":\"#2a3f5f\"},\"type\":\"carpet\"}],\"table\":[{\"cells\":{\"fill\":{\"color\":\"#EBF0F8\"},\"line\":{\"color\":\"white\"}},\"header\":{\"fill\":{\"color\":\"#C8D4E3\"},\"line\":{\"color\":\"white\"}},\"type\":\"table\"}],\"barpolar\":[{\"marker\":{\"line\":{\"color\":\"#E5ECF6\",\"width\":0.5},\"pattern\":{\"fillmode\":\"overlay\",\"size\":10,\"solidity\":0.2}},\"type\":\"barpolar\"}],\"pie\":[{\"automargin\":true,\"type\":\"pie\"}]},\"layout\":{\"autotypenumbers\":\"strict\",\"colorway\":[\"#636efa\",\"#EF553B\",\"#00cc96\",\"#ab63fa\",\"#FFA15A\",\"#19d3f3\",\"#FF6692\",\"#B6E880\",\"#FF97FF\",\"#FECB52\"],\"font\":{\"color\":\"#2a3f5f\"},\"hovermode\":\"closest\",\"hoverlabel\":{\"align\":\"left\"},\"paper_bgcolor\":\"white\",\"plot_bgcolor\":\"#E5ECF6\",\"polar\":{\"bgcolor\":\"#E5ECF6\",\"angularaxis\":{\"gridcolor\":\"white\",\"linecolor\":\"white\",\"ticks\":\"\"},\"radialaxis\":{\"gridcolor\":\"white\",\"linecolor\":\"white\",\"ticks\":\"\"}},\"ternary\":{\"bgcolor\":\"#E5ECF6\",\"aaxis\":{\"gridcolor\":\"white\",\"linecolor\":\"white\",\"ticks\":\"\"},\"baxis\":{\"gridcolor\":\"white\",\"linecolor\":\"white\",\"ticks\":\"\"},\"caxis\":{\"gridcolor\":\"white\",\"linecolor\":\"white\",\"ticks\":\"\"}},\"coloraxis\":{\"colorbar\":{\"outlinewidth\":0,\"ticks\":\"\"}},\"colorscale\":{\"sequential\":[[0.0,\"#0d0887\"],[0.1111111111111111,\"#46039f\"],[0.2222222222222222,\"#7201a8\"],[0.3333333333333333,\"#9c179e\"],[0.4444444444444444,\"#bd3786\"],[0.5555555555555556,\"#d8576b\"],[0.6666666666666666,\"#ed7953\"],[0.7777777777777778,\"#fb9f3a\"],[0.8888888888888888,\"#fdca26\"],[1.0,\"#f0f921\"]],\"sequentialminus\":[[0.0,\"#0d0887\"],[0.1111111111111111,\"#46039f\"],[0.2222222222222222,\"#7201a8\"],[0.3333333333333333,\"#9c179e\"],[0.4444444444444444,\"#bd3786\"],[0.5555555555555556,\"#d8576b\"],[0.6666666666666666,\"#ed7953\"],[0.7777777777777778,\"#fb9f3a\"],[0.8888888888888888,\"#fdca26\"],[1.0,\"#f0f921\"]],\"diverging\":[[0,\"#8e0152\"],[0.1,\"#c51b7d\"],[0.2,\"#de77ae\"],[0.3,\"#f1b6da\"],[0.4,\"#fde0ef\"],[0.5,\"#f7f7f7\"],[0.6,\"#e6f5d0\"],[0.7,\"#b8e186\"],[0.8,\"#7fbc41\"],[0.9,\"#4d9221\"],[1,\"#276419\"]]},\"xaxis\":{\"gridcolor\":\"white\",\"linecolor\":\"white\",\"ticks\":\"\",\"title\":{\"standoff\":15},\"zerolinecolor\":\"white\",\"automargin\":true,\"zerolinewidth\":2},\"yaxis\":{\"gridcolor\":\"white\",\"linecolor\":\"white\",\"ticks\":\"\",\"title\":{\"standoff\":15},\"zerolinecolor\":\"white\",\"automargin\":true,\"zerolinewidth\":2},\"scene\":{\"xaxis\":{\"backgroundcolor\":\"#E5ECF6\",\"gridcolor\":\"white\",\"linecolor\":\"white\",\"showbackground\":true,\"ticks\":\"\",\"zerolinecolor\":\"white\",\"gridwidth\":2},\"yaxis\":{\"backgroundcolor\":\"#E5ECF6\",\"gridcolor\":\"white\",\"linecolor\":\"white\",\"showbackground\":true,\"ticks\":\"\",\"zerolinecolor\":\"white\",\"gridwidth\":2},\"zaxis\":{\"backgroundcolor\":\"#E5ECF6\",\"gridcolor\":\"white\",\"linecolor\":\"white\",\"showbackground\":true,\"ticks\":\"\",\"zerolinecolor\":\"white\",\"gridwidth\":2}},\"shapedefaults\":{\"line\":{\"color\":\"#2a3f5f\"}},\"annotationdefaults\":{\"arrowcolor\":\"#2a3f5f\",\"arrowhead\":0,\"arrowwidth\":1},\"geo\":{\"bgcolor\":\"white\",\"landcolor\":\"#E5ECF6\",\"subunitcolor\":\"white\",\"showland\":true,\"showlakes\":true,\"lakecolor\":\"white\"},\"title\":{\"x\":0.05},\"mapbox\":{\"style\":\"light\"}}},\"font\":{\"color\":\"#909497\",\"size\":18},\"title\":{\"font\":{\"size\":26},\"text\":\"Total Price by Neighbourhood and Host Name\"},\"xaxis\":{\"title\":{\"text\":\"Neighbourhood\"},\"linecolor\":\"#909497\"},\"yaxis\":{\"title\":{\"text\":\"Total Price\"},\"tickformat\":\",\",\"linecolor\":\"#909497\"},\"margin\":{\"t\":100,\"r\":80,\"b\":80,\"l\":120},\"plot_bgcolor\":\"white\",\"hovermode\":\"closest\",\"height\":720,\"width\":900},                        {\"responsive\": true}                    ).then(function(){\n",
       "                            \n",
       "var gd = document.getElementById('d0d13448-a1ac-4178-aff7-377e4dea1732');\n",
       "var x = new MutationObserver(function (mutations, observer) {{\n",
       "        var display = window.getComputedStyle(gd).display;\n",
       "        if (!display || display === 'none') {{\n",
       "            console.log([gd, 'removed!']);\n",
       "            Plotly.purge(gd);\n",
       "            observer.disconnect();\n",
       "        }}\n",
       "}});\n",
       "\n",
       "// Listen for the removal of the full notebook cells\n",
       "var notebookContainer = gd.closest('#notebook-container');\n",
       "if (notebookContainer) {{\n",
       "    x.observe(notebookContainer, {childList: true});\n",
       "}}\n",
       "\n",
       "// Listen for the clearing of the current output cell\n",
       "var outputEl = gd.closest('.output');\n",
       "if (outputEl) {{\n",
       "    x.observe(outputEl, {childList: true});\n",
       "}}\n",
       "\n",
       "                        })                };                });            </script>        </div>"
      ]
     },
     "metadata": {},
     "output_type": "display_data"
    }
   ],
   "source": [
    "# Group the data by 'neighbourhood' and 'host_name', and sum the 'price' column\n",
    "grouped_data = data_without_outliers.groupby([\"neighbourhood\", \"host_name\"])[\"price\"].sum().reset_index()\n",
    "\n",
    "# Create the Plotly figure\n",
    "fig = go.Figure(data=go.Scatter(\n",
    "    x=grouped_data[\"neighbourhood\"],\n",
    "    y=grouped_data[\"price\"],\n",
    "    mode='markers',\n",
    "    text=grouped_data[\"host_name\"],\n",
    "    marker=dict(\n",
    "        size=12,\n",
    "        color=grouped_data[\"price\"],\n",
    "        colorscale='Viridis',\n",
    "        opacity=0.8\n",
    "    )\n",
    "))\n",
    "\n",
    "# Customize the layout\n",
    "fig.update_layout(plot_bgcolor = \"white\",\n",
    "                 font = dict(color = \"#909497\", size = 18),\n",
    "                 title = dict(text = \"Total Price by Neighbourhood and Host Name\", font = dict(size = 26)),\n",
    "                 xaxis = dict(title = \"Neighbourhood\", linecolor = \"#909497\"),\n",
    "                 yaxis = dict(title = \"Total Price\", tickformat = \",\", linecolor = \"#909497\"),\n",
    "                 margin = dict(t = 100, r = 80, b = 80, l = 120),\n",
    "                 hovermode=\"closest\",\n",
    "                 height = 720,\n",
    "                 width = 900)\n",
    "\n",
    "# Display the plot\n",
    "fig.show()"
   ]
  },
  {
   "cell_type": "code",
   "execution_count": 42,
   "id": "a27e1f8b",
   "metadata": {
    "scrolled": false
   },
   "outputs": [
    {
     "data": {
      "application/vnd.plotly.v1+json": {
       "config": {
        "plotlyServerURL": "https://plot.ly"
       },
       "data": [
        {
         "mode": "lines+markers",
         "name": "Cindy",
         "text": "Cindy",
         "type": "scatter",
         "x": [
          "EIGHTH WARD"
         ],
         "y": [
          143
         ]
        },
        {
         "mode": "lines+markers",
         "name": "Antonio",
         "text": "Antonio",
         "type": "scatter",
         "x": [
          "ELEVENTH WARD"
         ],
         "y": [
          216
         ]
        },
        {
         "mode": "lines+markers",
         "name": "Argus",
         "text": "Argus",
         "type": "scatter",
         "x": [
          "ELEVENTH WARD",
          "SIXTH WARD",
          "TENTH WARD"
         ],
         "y": [
          184,
          368,
          184
         ]
        },
        {
         "mode": "lines+markers",
         "name": "Brian",
         "text": "Brian",
         "type": "scatter",
         "x": [
          "ELEVENTH WARD",
          "FOURTEENTH WARD",
          "SIXTH WARD"
         ],
         "y": [
          102,
          175,
          113
         ]
        },
        {
         "mode": "lines+markers",
         "name": "Fs",
         "text": "Fs",
         "type": "scatter",
         "x": [
          "ELEVENTH WARD",
          "THIRTEENTH WARD"
         ],
         "y": [
          95,
          85
         ]
        },
        {
         "mode": "lines+markers",
         "name": "Phil",
         "text": "Phil",
         "type": "scatter",
         "x": [
          "ELEVENTH WARD",
          "TWELFTH WARD"
         ],
         "y": [
          175,
          175
         ]
        },
        {
         "mode": "lines+markers",
         "name": "Philip",
         "text": "Philip",
         "type": "scatter",
         "x": [
          "ELEVENTH WARD"
         ],
         "y": [
          60
         ]
        },
        {
         "mode": "lines+markers",
         "name": "Rabia",
         "text": "Rabia",
         "type": "scatter",
         "x": [
          "ELEVENTH WARD"
         ],
         "y": [
          115
         ]
        },
        {
         "mode": "lines+markers",
         "name": "Iris",
         "text": "Iris",
         "type": "scatter",
         "x": [
          "FIFTEENTH WARD"
         ],
         "y": [
          208
         ]
        },
        {
         "mode": "lines+markers",
         "name": "Jon",
         "text": "Jon",
         "type": "scatter",
         "x": [
          "FIFTEENTH WARD"
         ],
         "y": [
          39
         ]
        },
        {
         "mode": "lines+markers",
         "name": "Luke",
         "text": "Luke",
         "type": "scatter",
         "x": [
          "FIFTEENTH WARD"
         ],
         "y": [
          40
         ]
        },
        {
         "mode": "lines+markers",
         "name": "Peter",
         "text": "Peter",
         "type": "scatter",
         "x": [
          "FIFTEENTH WARD",
          "THIRTEENTH WARD"
         ],
         "y": [
          356,
          110
         ]
        },
        {
         "mode": "lines+markers",
         "name": "Tanjin",
         "text": "Tanjin",
         "type": "scatter",
         "x": [
          "FIFTEENTH WARD"
         ],
         "y": [
          100
         ]
        },
        {
         "mode": "lines+markers",
         "name": "Adam",
         "text": "Adam",
         "type": "scatter",
         "x": [
          "FIFTH WARD"
         ],
         "y": [
          53
         ]
        },
        {
         "mode": "lines+markers",
         "name": "Alexis",
         "text": "Alexis",
         "type": "scatter",
         "x": [
          "FIFTH WARD"
         ],
         "y": [
          103
         ]
        },
        {
         "mode": "lines+markers",
         "name": "Carla",
         "text": "Carla",
         "type": "scatter",
         "x": [
          "FIFTH WARD"
         ],
         "y": [
          104
         ]
        },
        {
         "mode": "lines+markers",
         "name": "Keneisha",
         "text": "Keneisha",
         "type": "scatter",
         "x": [
          "FIFTH WARD"
         ],
         "y": [
          101
         ]
        },
        {
         "mode": "lines+markers",
         "name": "Tomar & Kash",
         "text": "Tomar & Kash",
         "type": "scatter",
         "x": [
          "FIFTH WARD"
         ],
         "y": [
          105
         ]
        },
        {
         "mode": "lines+markers",
         "name": "Tyrell",
         "text": "Tyrell",
         "type": "scatter",
         "x": [
          "FIFTH WARD"
         ],
         "y": [
          120
         ]
        },
        {
         "mode": "lines+markers",
         "name": "Aaron",
         "text": "Aaron",
         "type": "scatter",
         "x": [
          "FOURTEENTH WARD"
         ],
         "y": [
          62
         ]
        },
        {
         "mode": "lines+markers",
         "name": "Abba",
         "text": "Abba",
         "type": "scatter",
         "x": [
          "FOURTEENTH WARD",
          "SIXTH WARD",
          "TENTH WARD"
         ],
         "y": [
          240,
          110,
          115
         ]
        },
        {
         "mode": "lines+markers",
         "name": "Allen",
         "text": "Allen",
         "type": "scatter",
         "x": [
          "FOURTEENTH WARD",
          "NINTH WARD",
          "TENTH WARD",
          "THIRTEENTH WARD"
         ],
         "y": [
          178,
          99,
          148,
          187
         ]
        },
        {
         "mode": "lines+markers",
         "name": "Cristian",
         "text": "Cristian",
         "type": "scatter",
         "x": [
          "FOURTEENTH WARD"
         ],
         "y": [
          110
         ]
        },
        {
         "mode": "lines+markers",
         "name": "Domini",
         "text": "Domini",
         "type": "scatter",
         "x": [
          "FOURTEENTH WARD"
         ],
         "y": [
          75
         ]
        },
        {
         "mode": "lines+markers",
         "name": "Donna",
         "text": "Donna",
         "type": "scatter",
         "x": [
          "FOURTEENTH WARD"
         ],
         "y": [
          60
         ]
        },
        {
         "mode": "lines+markers",
         "name": "Elsa",
         "text": "Elsa",
         "type": "scatter",
         "x": [
          "FOURTEENTH WARD"
         ],
         "y": [
          119
         ]
        },
        {
         "mode": "lines+markers",
         "name": "Hasan",
         "text": "Hasan",
         "type": "scatter",
         "x": [
          "FOURTEENTH WARD"
         ],
         "y": [
          65
         ]
        },
        {
         "mode": "lines+markers",
         "name": "He",
         "text": "He",
         "type": "scatter",
         "x": [
          "FOURTEENTH WARD"
         ],
         "y": [
          79
         ]
        },
        {
         "mode": "lines+markers",
         "name": "John",
         "text": "John",
         "type": "scatter",
         "x": [
          "FOURTEENTH WARD"
         ],
         "y": [
          45
         ]
        },
        {
         "mode": "lines+markers",
         "name": "Scott",
         "text": "Scott",
         "type": "scatter",
         "x": [
          "FOURTEENTH WARD",
          "TENTH WARD"
         ],
         "y": [
          185,
          489
         ]
        },
        {
         "mode": "lines+markers",
         "name": "Thomas",
         "text": "Thomas",
         "type": "scatter",
         "x": [
          "FOURTEENTH WARD",
          "THIRTEENTH WARD"
         ],
         "y": [
          200,
          385
         ]
        },
        {
         "mode": "lines+markers",
         "name": "Linda",
         "text": "Linda",
         "type": "scatter",
         "x": [
          "FOURTH WARD",
          "SECOND WARD",
          "SEVENTH WARD",
          "THIRD WARD"
         ],
         "y": [
          730,
          617,
          155,
          354
         ]
        },
        {
         "mode": "lines+markers",
         "name": "Nickolas",
         "text": "Nickolas",
         "type": "scatter",
         "x": [
          "FOURTH WARD"
         ],
         "y": [
          105
         ]
        },
        {
         "mode": "lines+markers",
         "name": "Rachel",
         "text": "Rachel",
         "type": "scatter",
         "x": [
          "FOURTH WARD"
         ],
         "y": [
          95
         ]
        },
        {
         "mode": "lines+markers",
         "name": "Bela",
         "text": "Bela",
         "type": "scatter",
         "x": [
          "NINTH WARD"
         ],
         "y": [
          465
         ]
        },
        {
         "mode": "lines+markers",
         "name": "Blossom Estates",
         "text": "Blossom Estates",
         "type": "scatter",
         "x": [
          "NINTH WARD"
         ],
         "y": [
          287
         ]
        },
        {
         "mode": "lines+markers",
         "name": "Connie",
         "text": "Connie",
         "type": "scatter",
         "x": [
          "NINTH WARD"
         ],
         "y": [
          115
         ]
        },
        {
         "mode": "lines+markers",
         "name": "Ed",
         "text": "Ed",
         "type": "scatter",
         "x": [
          "NINTH WARD",
          "SEVENTH WARD"
         ],
         "y": [
          70,
          50
         ]
        },
        {
         "mode": "lines+markers",
         "name": "Elizabeth",
         "text": "Elizabeth",
         "type": "scatter",
         "x": [
          "NINTH WARD",
          "THIRTEENTH WARD"
         ],
         "y": [
          77,
          110
         ]
        },
        {
         "mode": "lines+markers",
         "name": "Ermenita",
         "text": "Ermenita",
         "type": "scatter",
         "x": [
          "NINTH WARD"
         ],
         "y": [
          129
         ]
        },
        {
         "mode": "lines+markers",
         "name": "Kemba",
         "text": "Kemba",
         "type": "scatter",
         "x": [
          "NINTH WARD"
         ],
         "y": [
          150
         ]
        },
        {
         "mode": "lines+markers",
         "name": "Kori",
         "text": "Kori",
         "type": "scatter",
         "x": [
          "NINTH WARD"
         ],
         "y": [
          79
         ]
        },
        {
         "mode": "lines+markers",
         "name": "Reyana",
         "text": "Reyana",
         "type": "scatter",
         "x": [
          "NINTH WARD"
         ],
         "y": [
          100
         ]
        },
        {
         "mode": "lines+markers",
         "name": "Shane",
         "text": "Shane",
         "type": "scatter",
         "x": [
          "NINTH WARD"
         ],
         "y": [
          87
         ]
        },
        {
         "mode": "lines+markers",
         "name": "Share",
         "text": "Share",
         "type": "scatter",
         "x": [
          "NINTH WARD",
          "TENTH WARD"
         ],
         "y": [
          56,
          111
         ]
        },
        {
         "mode": "lines+markers",
         "name": "Terra",
         "text": "Terra",
         "type": "scatter",
         "x": [
          "NINTH WARD",
          "SIXTH WARD"
         ],
         "y": [
          371,
          493
         ]
        },
        {
         "mode": "lines+markers",
         "name": "Aggie",
         "text": "Aggie",
         "type": "scatter",
         "x": [
          "SECOND WARD"
         ],
         "y": [
          289
         ]
        },
        {
         "mode": "lines+markers",
         "name": "Angela",
         "text": "Angela",
         "type": "scatter",
         "x": [
          "SECOND WARD"
         ],
         "y": [
          339
         ]
        },
        {
         "mode": "lines+markers",
         "name": "Anilexa",
         "text": "Anilexa",
         "type": "scatter",
         "x": [
          "SECOND WARD"
         ],
         "y": [
          80
         ]
        },
        {
         "mode": "lines+markers",
         "name": "Blake",
         "text": "Blake",
         "type": "scatter",
         "x": [
          "SECOND WARD"
         ],
         "y": [
          85
         ]
        },
        {
         "mode": "lines+markers",
         "name": "Earl",
         "text": "Earl",
         "type": "scatter",
         "x": [
          "SECOND WARD",
          "THIRD WARD"
         ],
         "y": [
          191,
          91
         ]
        },
        {
         "mode": "lines+markers",
         "name": "Etem",
         "text": "Etem",
         "type": "scatter",
         "x": [
          "SECOND WARD"
         ],
         "y": [
          65
         ]
        },
        {
         "mode": "lines+markers",
         "name": "Marlene",
         "text": "Marlene",
         "type": "scatter",
         "x": [
          "SECOND WARD"
         ],
         "y": [
          125
         ]
        },
        {
         "mode": "lines+markers",
         "name": "Osas",
         "text": "Osas",
         "type": "scatter",
         "x": [
          "SECOND WARD"
         ],
         "y": [
          90
         ]
        },
        {
         "mode": "lines+markers",
         "name": "Urbangem",
         "text": "Urbangem",
         "type": "scatter",
         "x": [
          "SECOND WARD"
         ],
         "y": [
          359
         ]
        },
        {
         "mode": "lines+markers",
         "name": "Vorakij",
         "text": "Vorakij",
         "type": "scatter",
         "x": [
          "SECOND WARD"
         ],
         "y": [
          290
         ]
        },
        {
         "mode": "lines+markers",
         "name": "James",
         "text": "James",
         "type": "scatter",
         "x": [
          "SEVENTH WARD"
         ],
         "y": [
          208
         ]
        },
        {
         "mode": "lines+markers",
         "name": "Kira",
         "text": "Kira",
         "type": "scatter",
         "x": [
          "SEVENTH WARD"
         ],
         "y": [
          131
         ]
        },
        {
         "mode": "lines+markers",
         "name": "Najeem Adegbemiga",
         "text": "Najeem Adegbemiga",
         "type": "scatter",
         "x": [
          "SEVENTH WARD"
         ],
         "y": [
          120
         ]
        },
        {
         "mode": "lines+markers",
         "name": "Umer",
         "text": "Umer",
         "type": "scatter",
         "x": [
          "SEVENTH WARD"
         ],
         "y": [
          130
         ]
        },
        {
         "mode": "lines+markers",
         "name": "Alice",
         "text": "Alice",
         "type": "scatter",
         "x": [
          "SIXTH WARD"
         ],
         "y": [
          75
         ]
        },
        {
         "mode": "lines+markers",
         "name": "Bryce",
         "text": "Bryce",
         "type": "scatter",
         "x": [
          "SIXTH WARD"
         ],
         "y": [
          125
         ]
        },
        {
         "mode": "lines+markers",
         "name": "Clyde",
         "text": "Clyde",
         "type": "scatter",
         "x": [
          "SIXTH WARD"
         ],
         "y": [
          410
         ]
        },
        {
         "mode": "lines+markers",
         "name": "Erion",
         "text": "Erion",
         "type": "scatter",
         "x": [
          "SIXTH WARD",
          "TENTH WARD"
         ],
         "y": [
          557,
          175
         ]
        },
        {
         "mode": "lines+markers",
         "name": "Farah",
         "text": "Farah",
         "type": "scatter",
         "x": [
          "SIXTH WARD"
         ],
         "y": [
          89
         ]
        },
        {
         "mode": "lines+markers",
         "name": "Grace",
         "text": "Grace",
         "type": "scatter",
         "x": [
          "SIXTH WARD"
         ],
         "y": [
          87
         ]
        },
        {
         "mode": "lines+markers",
         "name": "Grant",
         "text": "Grant",
         "type": "scatter",
         "x": [
          "SIXTH WARD"
         ],
         "y": [
          130
         ]
        },
        {
         "mode": "lines+markers",
         "name": "JShing",
         "text": "JShing",
         "type": "scatter",
         "x": [
          "SIXTH WARD"
         ],
         "y": [
          125
         ]
        },
        {
         "mode": "lines+markers",
         "name": "Jerry",
         "text": "Jerry",
         "type": "scatter",
         "x": [
          "SIXTH WARD"
         ],
         "y": [
          264
         ]
        },
        {
         "mode": "lines+markers",
         "name": "Joshua",
         "text": "Joshua",
         "type": "scatter",
         "x": [
          "SIXTH WARD"
         ],
         "y": [
          373
         ]
        },
        {
         "mode": "lines+markers",
         "name": "Justin",
         "text": "Justin",
         "type": "scatter",
         "x": [
          "SIXTH WARD"
         ],
         "y": [
          89
         ]
        },
        {
         "mode": "lines+markers",
         "name": "Leiba",
         "text": "Leiba",
         "type": "scatter",
         "x": [
          "SIXTH WARD"
         ],
         "y": [
          100
         ]
        },
        {
         "mode": "lines+markers",
         "name": "Lloyd",
         "text": "Lloyd",
         "type": "scatter",
         "x": [
          "SIXTH WARD"
         ],
         "y": [
          119
         ]
        },
        {
         "mode": "lines+markers",
         "name": "Lori",
         "text": "Lori",
         "type": "scatter",
         "x": [
          "SIXTH WARD"
         ],
         "y": [
          149
         ]
        },
        {
         "mode": "lines+markers",
         "name": "Massi",
         "text": "Massi",
         "type": "scatter",
         "x": [
          "SIXTH WARD"
         ],
         "y": [
          107
         ]
        },
        {
         "mode": "lines+markers",
         "name": "Mela",
         "text": "Mela",
         "type": "scatter",
         "x": [
          "SIXTH WARD"
         ],
         "y": [
          113
         ]
        },
        {
         "mode": "lines+markers",
         "name": "Musab",
         "text": "Musab",
         "type": "scatter",
         "x": [
          "SIXTH WARD"
         ],
         "y": [
          50
         ]
        },
        {
         "mode": "lines+markers",
         "name": "Natasha",
         "text": "Natasha",
         "type": "scatter",
         "x": [
          "SIXTH WARD"
         ],
         "y": [
          120
         ]
        },
        {
         "mode": "lines+markers",
         "name": "Rodney",
         "text": "Rodney",
         "type": "scatter",
         "x": [
          "SIXTH WARD"
         ],
         "y": [
          186
         ]
        },
        {
         "mode": "lines+markers",
         "name": "Ron",
         "text": "Ron",
         "type": "scatter",
         "x": [
          "SIXTH WARD"
         ],
         "y": [
          110
         ]
        },
        {
         "mode": "lines+markers",
         "name": "Sean",
         "text": "Sean",
         "type": "scatter",
         "x": [
          "SIXTH WARD"
         ],
         "y": [
          118
         ]
        },
        {
         "mode": "lines+markers",
         "name": "Todd",
         "text": "Todd",
         "type": "scatter",
         "x": [
          "SIXTH WARD"
         ],
         "y": [
          109
         ]
        },
        {
         "mode": "lines+markers",
         "name": "Archer",
         "text": "Archer",
         "type": "scatter",
         "x": [
          "TENTH WARD"
         ],
         "y": [
          114
         ]
        },
        {
         "mode": "lines+markers",
         "name": "Emilie",
         "text": "Emilie",
         "type": "scatter",
         "x": [
          "TENTH WARD"
         ],
         "y": [
          100
         ]
        },
        {
         "mode": "lines+markers",
         "name": "John M",
         "text": "John M",
         "type": "scatter",
         "x": [
          "TENTH WARD"
         ],
         "y": [
          199
         ]
        },
        {
         "mode": "lines+markers",
         "name": "Melissa",
         "text": "Melissa",
         "type": "scatter",
         "x": [
          "TENTH WARD"
         ],
         "y": [
          147
         ]
        },
        {
         "mode": "lines+markers",
         "name": "Miguelino",
         "text": "Miguelino",
         "type": "scatter",
         "x": [
          "TENTH WARD"
         ],
         "y": [
          67
         ]
        },
        {
         "mode": "lines+markers",
         "name": "Rashawn",
         "text": "Rashawn",
         "type": "scatter",
         "x": [
          "TENTH WARD"
         ],
         "y": [
          189
         ]
        },
        {
         "mode": "lines+markers",
         "name": "Amar",
         "text": "Amar",
         "type": "scatter",
         "x": [
          "THIRD WARD"
         ],
         "y": [
          154
         ]
        },
        {
         "mode": "lines+markers",
         "name": "Chadell",
         "text": "Chadell",
         "type": "scatter",
         "x": [
          "THIRD WARD"
         ],
         "y": [
          108
         ]
        },
        {
         "mode": "lines+markers",
         "name": "David",
         "text": "David",
         "type": "scatter",
         "x": [
          "THIRD WARD"
         ],
         "y": [
          163
         ]
        },
        {
         "mode": "lines+markers",
         "name": "Diana",
         "text": "Diana",
         "type": "scatter",
         "x": [
          "THIRD WARD"
         ],
         "y": [
          89
         ]
        },
        {
         "mode": "lines+markers",
         "name": "Dillon",
         "text": "Dillon",
         "type": "scatter",
         "x": [
          "THIRD WARD"
         ],
         "y": [
          109
         ]
        },
        {
         "mode": "lines+markers",
         "name": "Evolve",
         "text": "Evolve",
         "type": "scatter",
         "x": [
          "THIRD WARD",
          "THIRTEENTH WARD"
         ],
         "y": [
          104,
          126
         ]
        },
        {
         "mode": "lines+markers",
         "name": "Gabriel",
         "text": "Gabriel",
         "type": "scatter",
         "x": [
          "THIRD WARD"
         ],
         "y": [
          90
         ]
        },
        {
         "mode": "lines+markers",
         "name": "Julia",
         "text": "Julia",
         "type": "scatter",
         "x": [
          "THIRD WARD"
         ],
         "y": [
          228
         ]
        },
        {
         "mode": "lines+markers",
         "name": "Queen",
         "text": "Queen",
         "type": "scatter",
         "x": [
          "THIRD WARD"
         ],
         "y": [
          100
         ]
        },
        {
         "mode": "lines+markers",
         "name": "Caroline",
         "text": "Caroline",
         "type": "scatter",
         "x": [
          "THIRTEENTH WARD"
         ],
         "y": [
          99
         ]
        },
        {
         "mode": "lines+markers",
         "name": "Romel",
         "text": "Romel",
         "type": "scatter",
         "x": [
          "THIRTEENTH WARD"
         ],
         "y": [
          141
         ]
        },
        {
         "mode": "lines+markers",
         "name": "Thaddeus",
         "text": "Thaddeus",
         "type": "scatter",
         "x": [
          "THIRTEENTH WARD"
         ],
         "y": [
          77
         ]
        },
        {
         "mode": "lines+markers",
         "name": "Mary",
         "text": "Mary",
         "type": "scatter",
         "x": [
          "TWELFTH WARD"
         ],
         "y": [
          155
         ]
        }
       ],
       "layout": {
        "font": {
         "color": "#909497",
         "size": 18
        },
        "height": 720,
        "margin": {
         "b": 80,
         "l": 120,
         "r": 80,
         "t": 100
        },
        "plot_bgcolor": "white",
        "template": {
         "data": {
          "bar": [
           {
            "error_x": {
             "color": "#2a3f5f"
            },
            "error_y": {
             "color": "#2a3f5f"
            },
            "marker": {
             "line": {
              "color": "#E5ECF6",
              "width": 0.5
             },
             "pattern": {
              "fillmode": "overlay",
              "size": 10,
              "solidity": 0.2
             }
            },
            "type": "bar"
           }
          ],
          "barpolar": [
           {
            "marker": {
             "line": {
              "color": "#E5ECF6",
              "width": 0.5
             },
             "pattern": {
              "fillmode": "overlay",
              "size": 10,
              "solidity": 0.2
             }
            },
            "type": "barpolar"
           }
          ],
          "carpet": [
           {
            "aaxis": {
             "endlinecolor": "#2a3f5f",
             "gridcolor": "white",
             "linecolor": "white",
             "minorgridcolor": "white",
             "startlinecolor": "#2a3f5f"
            },
            "baxis": {
             "endlinecolor": "#2a3f5f",
             "gridcolor": "white",
             "linecolor": "white",
             "minorgridcolor": "white",
             "startlinecolor": "#2a3f5f"
            },
            "type": "carpet"
           }
          ],
          "choropleth": [
           {
            "colorbar": {
             "outlinewidth": 0,
             "ticks": ""
            },
            "type": "choropleth"
           }
          ],
          "contour": [
           {
            "colorbar": {
             "outlinewidth": 0,
             "ticks": ""
            },
            "colorscale": [
             [
              0,
              "#0d0887"
             ],
             [
              0.1111111111111111,
              "#46039f"
             ],
             [
              0.2222222222222222,
              "#7201a8"
             ],
             [
              0.3333333333333333,
              "#9c179e"
             ],
             [
              0.4444444444444444,
              "#bd3786"
             ],
             [
              0.5555555555555556,
              "#d8576b"
             ],
             [
              0.6666666666666666,
              "#ed7953"
             ],
             [
              0.7777777777777778,
              "#fb9f3a"
             ],
             [
              0.8888888888888888,
              "#fdca26"
             ],
             [
              1,
              "#f0f921"
             ]
            ],
            "type": "contour"
           }
          ],
          "contourcarpet": [
           {
            "colorbar": {
             "outlinewidth": 0,
             "ticks": ""
            },
            "type": "contourcarpet"
           }
          ],
          "heatmap": [
           {
            "colorbar": {
             "outlinewidth": 0,
             "ticks": ""
            },
            "colorscale": [
             [
              0,
              "#0d0887"
             ],
             [
              0.1111111111111111,
              "#46039f"
             ],
             [
              0.2222222222222222,
              "#7201a8"
             ],
             [
              0.3333333333333333,
              "#9c179e"
             ],
             [
              0.4444444444444444,
              "#bd3786"
             ],
             [
              0.5555555555555556,
              "#d8576b"
             ],
             [
              0.6666666666666666,
              "#ed7953"
             ],
             [
              0.7777777777777778,
              "#fb9f3a"
             ],
             [
              0.8888888888888888,
              "#fdca26"
             ],
             [
              1,
              "#f0f921"
             ]
            ],
            "type": "heatmap"
           }
          ],
          "heatmapgl": [
           {
            "colorbar": {
             "outlinewidth": 0,
             "ticks": ""
            },
            "colorscale": [
             [
              0,
              "#0d0887"
             ],
             [
              0.1111111111111111,
              "#46039f"
             ],
             [
              0.2222222222222222,
              "#7201a8"
             ],
             [
              0.3333333333333333,
              "#9c179e"
             ],
             [
              0.4444444444444444,
              "#bd3786"
             ],
             [
              0.5555555555555556,
              "#d8576b"
             ],
             [
              0.6666666666666666,
              "#ed7953"
             ],
             [
              0.7777777777777778,
              "#fb9f3a"
             ],
             [
              0.8888888888888888,
              "#fdca26"
             ],
             [
              1,
              "#f0f921"
             ]
            ],
            "type": "heatmapgl"
           }
          ],
          "histogram": [
           {
            "marker": {
             "pattern": {
              "fillmode": "overlay",
              "size": 10,
              "solidity": 0.2
             }
            },
            "type": "histogram"
           }
          ],
          "histogram2d": [
           {
            "colorbar": {
             "outlinewidth": 0,
             "ticks": ""
            },
            "colorscale": [
             [
              0,
              "#0d0887"
             ],
             [
              0.1111111111111111,
              "#46039f"
             ],
             [
              0.2222222222222222,
              "#7201a8"
             ],
             [
              0.3333333333333333,
              "#9c179e"
             ],
             [
              0.4444444444444444,
              "#bd3786"
             ],
             [
              0.5555555555555556,
              "#d8576b"
             ],
             [
              0.6666666666666666,
              "#ed7953"
             ],
             [
              0.7777777777777778,
              "#fb9f3a"
             ],
             [
              0.8888888888888888,
              "#fdca26"
             ],
             [
              1,
              "#f0f921"
             ]
            ],
            "type": "histogram2d"
           }
          ],
          "histogram2dcontour": [
           {
            "colorbar": {
             "outlinewidth": 0,
             "ticks": ""
            },
            "colorscale": [
             [
              0,
              "#0d0887"
             ],
             [
              0.1111111111111111,
              "#46039f"
             ],
             [
              0.2222222222222222,
              "#7201a8"
             ],
             [
              0.3333333333333333,
              "#9c179e"
             ],
             [
              0.4444444444444444,
              "#bd3786"
             ],
             [
              0.5555555555555556,
              "#d8576b"
             ],
             [
              0.6666666666666666,
              "#ed7953"
             ],
             [
              0.7777777777777778,
              "#fb9f3a"
             ],
             [
              0.8888888888888888,
              "#fdca26"
             ],
             [
              1,
              "#f0f921"
             ]
            ],
            "type": "histogram2dcontour"
           }
          ],
          "mesh3d": [
           {
            "colorbar": {
             "outlinewidth": 0,
             "ticks": ""
            },
            "type": "mesh3d"
           }
          ],
          "parcoords": [
           {
            "line": {
             "colorbar": {
              "outlinewidth": 0,
              "ticks": ""
             }
            },
            "type": "parcoords"
           }
          ],
          "pie": [
           {
            "automargin": true,
            "type": "pie"
           }
          ],
          "scatter": [
           {
            "fillpattern": {
             "fillmode": "overlay",
             "size": 10,
             "solidity": 0.2
            },
            "type": "scatter"
           }
          ],
          "scatter3d": [
           {
            "line": {
             "colorbar": {
              "outlinewidth": 0,
              "ticks": ""
             }
            },
            "marker": {
             "colorbar": {
              "outlinewidth": 0,
              "ticks": ""
             }
            },
            "type": "scatter3d"
           }
          ],
          "scattercarpet": [
           {
            "marker": {
             "colorbar": {
              "outlinewidth": 0,
              "ticks": ""
             }
            },
            "type": "scattercarpet"
           }
          ],
          "scattergeo": [
           {
            "marker": {
             "colorbar": {
              "outlinewidth": 0,
              "ticks": ""
             }
            },
            "type": "scattergeo"
           }
          ],
          "scattergl": [
           {
            "marker": {
             "colorbar": {
              "outlinewidth": 0,
              "ticks": ""
             }
            },
            "type": "scattergl"
           }
          ],
          "scattermapbox": [
           {
            "marker": {
             "colorbar": {
              "outlinewidth": 0,
              "ticks": ""
             }
            },
            "type": "scattermapbox"
           }
          ],
          "scatterpolar": [
           {
            "marker": {
             "colorbar": {
              "outlinewidth": 0,
              "ticks": ""
             }
            },
            "type": "scatterpolar"
           }
          ],
          "scatterpolargl": [
           {
            "marker": {
             "colorbar": {
              "outlinewidth": 0,
              "ticks": ""
             }
            },
            "type": "scatterpolargl"
           }
          ],
          "scatterternary": [
           {
            "marker": {
             "colorbar": {
              "outlinewidth": 0,
              "ticks": ""
             }
            },
            "type": "scatterternary"
           }
          ],
          "surface": [
           {
            "colorbar": {
             "outlinewidth": 0,
             "ticks": ""
            },
            "colorscale": [
             [
              0,
              "#0d0887"
             ],
             [
              0.1111111111111111,
              "#46039f"
             ],
             [
              0.2222222222222222,
              "#7201a8"
             ],
             [
              0.3333333333333333,
              "#9c179e"
             ],
             [
              0.4444444444444444,
              "#bd3786"
             ],
             [
              0.5555555555555556,
              "#d8576b"
             ],
             [
              0.6666666666666666,
              "#ed7953"
             ],
             [
              0.7777777777777778,
              "#fb9f3a"
             ],
             [
              0.8888888888888888,
              "#fdca26"
             ],
             [
              1,
              "#f0f921"
             ]
            ],
            "type": "surface"
           }
          ],
          "table": [
           {
            "cells": {
             "fill": {
              "color": "#EBF0F8"
             },
             "line": {
              "color": "white"
             }
            },
            "header": {
             "fill": {
              "color": "#C8D4E3"
             },
             "line": {
              "color": "white"
             }
            },
            "type": "table"
           }
          ]
         },
         "layout": {
          "annotationdefaults": {
           "arrowcolor": "#2a3f5f",
           "arrowhead": 0,
           "arrowwidth": 1
          },
          "autotypenumbers": "strict",
          "coloraxis": {
           "colorbar": {
            "outlinewidth": 0,
            "ticks": ""
           }
          },
          "colorscale": {
           "diverging": [
            [
             0,
             "#8e0152"
            ],
            [
             0.1,
             "#c51b7d"
            ],
            [
             0.2,
             "#de77ae"
            ],
            [
             0.3,
             "#f1b6da"
            ],
            [
             0.4,
             "#fde0ef"
            ],
            [
             0.5,
             "#f7f7f7"
            ],
            [
             0.6,
             "#e6f5d0"
            ],
            [
             0.7,
             "#b8e186"
            ],
            [
             0.8,
             "#7fbc41"
            ],
            [
             0.9,
             "#4d9221"
            ],
            [
             1,
             "#276419"
            ]
           ],
           "sequential": [
            [
             0,
             "#0d0887"
            ],
            [
             0.1111111111111111,
             "#46039f"
            ],
            [
             0.2222222222222222,
             "#7201a8"
            ],
            [
             0.3333333333333333,
             "#9c179e"
            ],
            [
             0.4444444444444444,
             "#bd3786"
            ],
            [
             0.5555555555555556,
             "#d8576b"
            ],
            [
             0.6666666666666666,
             "#ed7953"
            ],
            [
             0.7777777777777778,
             "#fb9f3a"
            ],
            [
             0.8888888888888888,
             "#fdca26"
            ],
            [
             1,
             "#f0f921"
            ]
           ],
           "sequentialminus": [
            [
             0,
             "#0d0887"
            ],
            [
             0.1111111111111111,
             "#46039f"
            ],
            [
             0.2222222222222222,
             "#7201a8"
            ],
            [
             0.3333333333333333,
             "#9c179e"
            ],
            [
             0.4444444444444444,
             "#bd3786"
            ],
            [
             0.5555555555555556,
             "#d8576b"
            ],
            [
             0.6666666666666666,
             "#ed7953"
            ],
            [
             0.7777777777777778,
             "#fb9f3a"
            ],
            [
             0.8888888888888888,
             "#fdca26"
            ],
            [
             1,
             "#f0f921"
            ]
           ]
          },
          "colorway": [
           "#636efa",
           "#EF553B",
           "#00cc96",
           "#ab63fa",
           "#FFA15A",
           "#19d3f3",
           "#FF6692",
           "#B6E880",
           "#FF97FF",
           "#FECB52"
          ],
          "font": {
           "color": "#2a3f5f"
          },
          "geo": {
           "bgcolor": "white",
           "lakecolor": "white",
           "landcolor": "#E5ECF6",
           "showlakes": true,
           "showland": true,
           "subunitcolor": "white"
          },
          "hoverlabel": {
           "align": "left"
          },
          "hovermode": "closest",
          "mapbox": {
           "style": "light"
          },
          "paper_bgcolor": "white",
          "plot_bgcolor": "#E5ECF6",
          "polar": {
           "angularaxis": {
            "gridcolor": "white",
            "linecolor": "white",
            "ticks": ""
           },
           "bgcolor": "#E5ECF6",
           "radialaxis": {
            "gridcolor": "white",
            "linecolor": "white",
            "ticks": ""
           }
          },
          "scene": {
           "xaxis": {
            "backgroundcolor": "#E5ECF6",
            "gridcolor": "white",
            "gridwidth": 2,
            "linecolor": "white",
            "showbackground": true,
            "ticks": "",
            "zerolinecolor": "white"
           },
           "yaxis": {
            "backgroundcolor": "#E5ECF6",
            "gridcolor": "white",
            "gridwidth": 2,
            "linecolor": "white",
            "showbackground": true,
            "ticks": "",
            "zerolinecolor": "white"
           },
           "zaxis": {
            "backgroundcolor": "#E5ECF6",
            "gridcolor": "white",
            "gridwidth": 2,
            "linecolor": "white",
            "showbackground": true,
            "ticks": "",
            "zerolinecolor": "white"
           }
          },
          "shapedefaults": {
           "line": {
            "color": "#2a3f5f"
           }
          },
          "ternary": {
           "aaxis": {
            "gridcolor": "white",
            "linecolor": "white",
            "ticks": ""
           },
           "baxis": {
            "gridcolor": "white",
            "linecolor": "white",
            "ticks": ""
           },
           "bgcolor": "#E5ECF6",
           "caxis": {
            "gridcolor": "white",
            "linecolor": "white",
            "ticks": ""
           }
          },
          "title": {
           "x": 0.05
          },
          "xaxis": {
           "automargin": true,
           "gridcolor": "white",
           "linecolor": "white",
           "ticks": "",
           "title": {
            "standoff": 15
           },
           "zerolinecolor": "white",
           "zerolinewidth": 2
          },
          "yaxis": {
           "automargin": true,
           "gridcolor": "white",
           "linecolor": "white",
           "ticks": "",
           "title": {
            "standoff": 15
           },
           "zerolinecolor": "white",
           "zerolinewidth": 2
          }
         }
        },
        "title": {
         "font": {
          "size": 26
         },
         "text": "Total Price by Neighbourhood and Host Name"
        },
        "width": 1000,
        "xaxis": {
         "linecolor": "#909497",
         "title": {
          "text": "Neighbourhood"
         }
        },
        "yaxis": {
         "linecolor": "#909497",
         "tickformat": ",",
         "title": {
          "text": "Total Price"
         }
        }
       }
      },
      "text/html": [
       "<div>                            <div id=\"7f51f405-0f4e-4ff2-9e07-a340964feeeb\" class=\"plotly-graph-div\" style=\"height:720px; width:1000px;\"></div>            <script type=\"text/javascript\">                require([\"plotly\"], function(Plotly) {                    window.PLOTLYENV=window.PLOTLYENV || {};                                    if (document.getElementById(\"7f51f405-0f4e-4ff2-9e07-a340964feeeb\")) {                    Plotly.newPlot(                        \"7f51f405-0f4e-4ff2-9e07-a340964feeeb\",                        [{\"mode\":\"lines+markers\",\"name\":\"Cindy\",\"text\":\"Cindy\",\"x\":[\"EIGHTH WARD\"],\"y\":[143.0],\"type\":\"scatter\"},{\"mode\":\"lines+markers\",\"name\":\"Antonio\",\"text\":\"Antonio\",\"x\":[\"ELEVENTH WARD\"],\"y\":[216.0],\"type\":\"scatter\"},{\"mode\":\"lines+markers\",\"name\":\"Argus\",\"text\":\"Argus\",\"x\":[\"ELEVENTH WARD\",\"SIXTH WARD\",\"TENTH WARD\"],\"y\":[184.0,368.0,184.0],\"type\":\"scatter\"},{\"mode\":\"lines+markers\",\"name\":\"Brian\",\"text\":\"Brian\",\"x\":[\"ELEVENTH WARD\",\"FOURTEENTH WARD\",\"SIXTH WARD\"],\"y\":[102.0,175.0,113.0],\"type\":\"scatter\"},{\"mode\":\"lines+markers\",\"name\":\"Fs\",\"text\":\"Fs\",\"x\":[\"ELEVENTH WARD\",\"THIRTEENTH WARD\"],\"y\":[95.0,85.0],\"type\":\"scatter\"},{\"mode\":\"lines+markers\",\"name\":\"Phil\",\"text\":\"Phil\",\"x\":[\"ELEVENTH WARD\",\"TWELFTH WARD\"],\"y\":[175.0,175.0],\"type\":\"scatter\"},{\"mode\":\"lines+markers\",\"name\":\"Philip\",\"text\":\"Philip\",\"x\":[\"ELEVENTH WARD\"],\"y\":[60.0],\"type\":\"scatter\"},{\"mode\":\"lines+markers\",\"name\":\"Rabia\",\"text\":\"Rabia\",\"x\":[\"ELEVENTH WARD\"],\"y\":[115.0],\"type\":\"scatter\"},{\"mode\":\"lines+markers\",\"name\":\"Iris\",\"text\":\"Iris\",\"x\":[\"FIFTEENTH WARD\"],\"y\":[208.0],\"type\":\"scatter\"},{\"mode\":\"lines+markers\",\"name\":\"Jon\",\"text\":\"Jon\",\"x\":[\"FIFTEENTH WARD\"],\"y\":[39.0],\"type\":\"scatter\"},{\"mode\":\"lines+markers\",\"name\":\"Luke\",\"text\":\"Luke\",\"x\":[\"FIFTEENTH WARD\"],\"y\":[40.0],\"type\":\"scatter\"},{\"mode\":\"lines+markers\",\"name\":\"Peter\",\"text\":\"Peter\",\"x\":[\"FIFTEENTH WARD\",\"THIRTEENTH WARD\"],\"y\":[356.0,110.0],\"type\":\"scatter\"},{\"mode\":\"lines+markers\",\"name\":\"Tanjin\",\"text\":\"Tanjin\",\"x\":[\"FIFTEENTH WARD\"],\"y\":[100.0],\"type\":\"scatter\"},{\"mode\":\"lines+markers\",\"name\":\"Adam\",\"text\":\"Adam\",\"x\":[\"FIFTH WARD\"],\"y\":[53.0],\"type\":\"scatter\"},{\"mode\":\"lines+markers\",\"name\":\"Alexis\",\"text\":\"Alexis\",\"x\":[\"FIFTH WARD\"],\"y\":[103.0],\"type\":\"scatter\"},{\"mode\":\"lines+markers\",\"name\":\"Carla\",\"text\":\"Carla\",\"x\":[\"FIFTH WARD\"],\"y\":[104.0],\"type\":\"scatter\"},{\"mode\":\"lines+markers\",\"name\":\"Keneisha\",\"text\":\"Keneisha\",\"x\":[\"FIFTH WARD\"],\"y\":[101.0],\"type\":\"scatter\"},{\"mode\":\"lines+markers\",\"name\":\"Tomar & Kash\",\"text\":\"Tomar & Kash\",\"x\":[\"FIFTH WARD\"],\"y\":[105.0],\"type\":\"scatter\"},{\"mode\":\"lines+markers\",\"name\":\"Tyrell\",\"text\":\"Tyrell\",\"x\":[\"FIFTH WARD\"],\"y\":[120.0],\"type\":\"scatter\"},{\"mode\":\"lines+markers\",\"name\":\"Aaron\",\"text\":\"Aaron\",\"x\":[\"FOURTEENTH WARD\"],\"y\":[62.0],\"type\":\"scatter\"},{\"mode\":\"lines+markers\",\"name\":\"Abba\",\"text\":\"Abba\",\"x\":[\"FOURTEENTH WARD\",\"SIXTH WARD\",\"TENTH WARD\"],\"y\":[240.0,110.0,115.0],\"type\":\"scatter\"},{\"mode\":\"lines+markers\",\"name\":\"Allen\",\"text\":\"Allen\",\"x\":[\"FOURTEENTH WARD\",\"NINTH WARD\",\"TENTH WARD\",\"THIRTEENTH WARD\"],\"y\":[178.0,99.0,148.0,187.0],\"type\":\"scatter\"},{\"mode\":\"lines+markers\",\"name\":\"Cristian\",\"text\":\"Cristian\",\"x\":[\"FOURTEENTH WARD\"],\"y\":[110.0],\"type\":\"scatter\"},{\"mode\":\"lines+markers\",\"name\":\"Domini\",\"text\":\"Domini\",\"x\":[\"FOURTEENTH WARD\"],\"y\":[75.0],\"type\":\"scatter\"},{\"mode\":\"lines+markers\",\"name\":\"Donna\",\"text\":\"Donna\",\"x\":[\"FOURTEENTH WARD\"],\"y\":[60.0],\"type\":\"scatter\"},{\"mode\":\"lines+markers\",\"name\":\"Elsa\",\"text\":\"Elsa\",\"x\":[\"FOURTEENTH WARD\"],\"y\":[119.0],\"type\":\"scatter\"},{\"mode\":\"lines+markers\",\"name\":\"Hasan\",\"text\":\"Hasan\",\"x\":[\"FOURTEENTH WARD\"],\"y\":[65.0],\"type\":\"scatter\"},{\"mode\":\"lines+markers\",\"name\":\"He\",\"text\":\"He\",\"x\":[\"FOURTEENTH WARD\"],\"y\":[79.0],\"type\":\"scatter\"},{\"mode\":\"lines+markers\",\"name\":\"John\",\"text\":\"John\",\"x\":[\"FOURTEENTH WARD\"],\"y\":[45.0],\"type\":\"scatter\"},{\"mode\":\"lines+markers\",\"name\":\"Scott\",\"text\":\"Scott\",\"x\":[\"FOURTEENTH WARD\",\"TENTH WARD\"],\"y\":[185.0,489.0],\"type\":\"scatter\"},{\"mode\":\"lines+markers\",\"name\":\"Thomas\",\"text\":\"Thomas\",\"x\":[\"FOURTEENTH WARD\",\"THIRTEENTH WARD\"],\"y\":[200.0,385.0],\"type\":\"scatter\"},{\"mode\":\"lines+markers\",\"name\":\"Linda\",\"text\":\"Linda\",\"x\":[\"FOURTH WARD\",\"SECOND WARD\",\"SEVENTH WARD\",\"THIRD WARD\"],\"y\":[730.0,617.0,155.0,354.0],\"type\":\"scatter\"},{\"mode\":\"lines+markers\",\"name\":\"Nickolas\",\"text\":\"Nickolas\",\"x\":[\"FOURTH WARD\"],\"y\":[105.0],\"type\":\"scatter\"},{\"mode\":\"lines+markers\",\"name\":\"Rachel\",\"text\":\"Rachel\",\"x\":[\"FOURTH WARD\"],\"y\":[95.0],\"type\":\"scatter\"},{\"mode\":\"lines+markers\",\"name\":\"Bela\",\"text\":\"Bela\",\"x\":[\"NINTH WARD\"],\"y\":[465.0],\"type\":\"scatter\"},{\"mode\":\"lines+markers\",\"name\":\"Blossom Estates\",\"text\":\"Blossom Estates\",\"x\":[\"NINTH WARD\"],\"y\":[287.0],\"type\":\"scatter\"},{\"mode\":\"lines+markers\",\"name\":\"Connie\",\"text\":\"Connie\",\"x\":[\"NINTH WARD\"],\"y\":[115.0],\"type\":\"scatter\"},{\"mode\":\"lines+markers\",\"name\":\"Ed\",\"text\":\"Ed\",\"x\":[\"NINTH WARD\",\"SEVENTH WARD\"],\"y\":[70.0,50.0],\"type\":\"scatter\"},{\"mode\":\"lines+markers\",\"name\":\"Elizabeth\",\"text\":\"Elizabeth\",\"x\":[\"NINTH WARD\",\"THIRTEENTH WARD\"],\"y\":[77.0,110.0],\"type\":\"scatter\"},{\"mode\":\"lines+markers\",\"name\":\"Ermenita\",\"text\":\"Ermenita\",\"x\":[\"NINTH WARD\"],\"y\":[129.0],\"type\":\"scatter\"},{\"mode\":\"lines+markers\",\"name\":\"Kemba\",\"text\":\"Kemba\",\"x\":[\"NINTH WARD\"],\"y\":[150.0],\"type\":\"scatter\"},{\"mode\":\"lines+markers\",\"name\":\"Kori\",\"text\":\"Kori\",\"x\":[\"NINTH WARD\"],\"y\":[79.0],\"type\":\"scatter\"},{\"mode\":\"lines+markers\",\"name\":\"Reyana\",\"text\":\"Reyana\",\"x\":[\"NINTH WARD\"],\"y\":[100.0],\"type\":\"scatter\"},{\"mode\":\"lines+markers\",\"name\":\"Shane\",\"text\":\"Shane\",\"x\":[\"NINTH WARD\"],\"y\":[87.0],\"type\":\"scatter\"},{\"mode\":\"lines+markers\",\"name\":\"Share\",\"text\":\"Share\",\"x\":[\"NINTH WARD\",\"TENTH WARD\"],\"y\":[56.0,111.0],\"type\":\"scatter\"},{\"mode\":\"lines+markers\",\"name\":\"Terra\",\"text\":\"Terra\",\"x\":[\"NINTH WARD\",\"SIXTH WARD\"],\"y\":[371.0,493.0],\"type\":\"scatter\"},{\"mode\":\"lines+markers\",\"name\":\"Aggie\",\"text\":\"Aggie\",\"x\":[\"SECOND WARD\"],\"y\":[289.0],\"type\":\"scatter\"},{\"mode\":\"lines+markers\",\"name\":\"Angela\",\"text\":\"Angela\",\"x\":[\"SECOND WARD\"],\"y\":[339.0],\"type\":\"scatter\"},{\"mode\":\"lines+markers\",\"name\":\"Anilexa\",\"text\":\"Anilexa\",\"x\":[\"SECOND WARD\"],\"y\":[80.0],\"type\":\"scatter\"},{\"mode\":\"lines+markers\",\"name\":\"Blake\",\"text\":\"Blake\",\"x\":[\"SECOND WARD\"],\"y\":[85.0],\"type\":\"scatter\"},{\"mode\":\"lines+markers\",\"name\":\"Earl\",\"text\":\"Earl\",\"x\":[\"SECOND WARD\",\"THIRD WARD\"],\"y\":[191.0,91.0],\"type\":\"scatter\"},{\"mode\":\"lines+markers\",\"name\":\"Etem\",\"text\":\"Etem\",\"x\":[\"SECOND WARD\"],\"y\":[65.0],\"type\":\"scatter\"},{\"mode\":\"lines+markers\",\"name\":\"Marlene\",\"text\":\"Marlene\",\"x\":[\"SECOND WARD\"],\"y\":[125.0],\"type\":\"scatter\"},{\"mode\":\"lines+markers\",\"name\":\"Osas\",\"text\":\"Osas\",\"x\":[\"SECOND WARD\"],\"y\":[90.0],\"type\":\"scatter\"},{\"mode\":\"lines+markers\",\"name\":\"Urbangem\",\"text\":\"Urbangem\",\"x\":[\"SECOND WARD\"],\"y\":[359.0],\"type\":\"scatter\"},{\"mode\":\"lines+markers\",\"name\":\"Vorakij\",\"text\":\"Vorakij\",\"x\":[\"SECOND WARD\"],\"y\":[290.0],\"type\":\"scatter\"},{\"mode\":\"lines+markers\",\"name\":\"James\",\"text\":\"James\",\"x\":[\"SEVENTH WARD\"],\"y\":[208.0],\"type\":\"scatter\"},{\"mode\":\"lines+markers\",\"name\":\"Kira\",\"text\":\"Kira\",\"x\":[\"SEVENTH WARD\"],\"y\":[131.0],\"type\":\"scatter\"},{\"mode\":\"lines+markers\",\"name\":\"Najeem Adegbemiga\",\"text\":\"Najeem Adegbemiga\",\"x\":[\"SEVENTH WARD\"],\"y\":[120.0],\"type\":\"scatter\"},{\"mode\":\"lines+markers\",\"name\":\"Umer\",\"text\":\"Umer\",\"x\":[\"SEVENTH WARD\"],\"y\":[130.0],\"type\":\"scatter\"},{\"mode\":\"lines+markers\",\"name\":\"Alice\",\"text\":\"Alice\",\"x\":[\"SIXTH WARD\"],\"y\":[75.0],\"type\":\"scatter\"},{\"mode\":\"lines+markers\",\"name\":\"Bryce\",\"text\":\"Bryce\",\"x\":[\"SIXTH WARD\"],\"y\":[125.0],\"type\":\"scatter\"},{\"mode\":\"lines+markers\",\"name\":\"Clyde\",\"text\":\"Clyde\",\"x\":[\"SIXTH WARD\"],\"y\":[410.0],\"type\":\"scatter\"},{\"mode\":\"lines+markers\",\"name\":\"Erion\",\"text\":\"Erion\",\"x\":[\"SIXTH WARD\",\"TENTH WARD\"],\"y\":[557.0,175.0],\"type\":\"scatter\"},{\"mode\":\"lines+markers\",\"name\":\"Farah\",\"text\":\"Farah\",\"x\":[\"SIXTH WARD\"],\"y\":[89.0],\"type\":\"scatter\"},{\"mode\":\"lines+markers\",\"name\":\"Grace\",\"text\":\"Grace\",\"x\":[\"SIXTH WARD\"],\"y\":[87.0],\"type\":\"scatter\"},{\"mode\":\"lines+markers\",\"name\":\"Grant\",\"text\":\"Grant\",\"x\":[\"SIXTH WARD\"],\"y\":[130.0],\"type\":\"scatter\"},{\"mode\":\"lines+markers\",\"name\":\"JShing\",\"text\":\"JShing\",\"x\":[\"SIXTH WARD\"],\"y\":[125.0],\"type\":\"scatter\"},{\"mode\":\"lines+markers\",\"name\":\"Jerry\",\"text\":\"Jerry\",\"x\":[\"SIXTH WARD\"],\"y\":[264.0],\"type\":\"scatter\"},{\"mode\":\"lines+markers\",\"name\":\"Joshua\",\"text\":\"Joshua\",\"x\":[\"SIXTH WARD\"],\"y\":[373.0],\"type\":\"scatter\"},{\"mode\":\"lines+markers\",\"name\":\"Justin\",\"text\":\"Justin\",\"x\":[\"SIXTH WARD\"],\"y\":[89.0],\"type\":\"scatter\"},{\"mode\":\"lines+markers\",\"name\":\"Leiba\",\"text\":\"Leiba\",\"x\":[\"SIXTH WARD\"],\"y\":[100.0],\"type\":\"scatter\"},{\"mode\":\"lines+markers\",\"name\":\"Lloyd\",\"text\":\"Lloyd\",\"x\":[\"SIXTH WARD\"],\"y\":[119.0],\"type\":\"scatter\"},{\"mode\":\"lines+markers\",\"name\":\"Lori\",\"text\":\"Lori\",\"x\":[\"SIXTH WARD\"],\"y\":[149.0],\"type\":\"scatter\"},{\"mode\":\"lines+markers\",\"name\":\"Massi\",\"text\":\"Massi\",\"x\":[\"SIXTH WARD\"],\"y\":[107.0],\"type\":\"scatter\"},{\"mode\":\"lines+markers\",\"name\":\"Mela\",\"text\":\"Mela\",\"x\":[\"SIXTH WARD\"],\"y\":[113.0],\"type\":\"scatter\"},{\"mode\":\"lines+markers\",\"name\":\"Musab\",\"text\":\"Musab\",\"x\":[\"SIXTH WARD\"],\"y\":[50.0],\"type\":\"scatter\"},{\"mode\":\"lines+markers\",\"name\":\"Natasha\",\"text\":\"Natasha\",\"x\":[\"SIXTH WARD\"],\"y\":[120.0],\"type\":\"scatter\"},{\"mode\":\"lines+markers\",\"name\":\"Rodney\",\"text\":\"Rodney\",\"x\":[\"SIXTH WARD\"],\"y\":[186.0],\"type\":\"scatter\"},{\"mode\":\"lines+markers\",\"name\":\"Ron\",\"text\":\"Ron\",\"x\":[\"SIXTH WARD\"],\"y\":[110.0],\"type\":\"scatter\"},{\"mode\":\"lines+markers\",\"name\":\"Sean\",\"text\":\"Sean\",\"x\":[\"SIXTH WARD\"],\"y\":[118.0],\"type\":\"scatter\"},{\"mode\":\"lines+markers\",\"name\":\"Todd\",\"text\":\"Todd\",\"x\":[\"SIXTH WARD\"],\"y\":[109.0],\"type\":\"scatter\"},{\"mode\":\"lines+markers\",\"name\":\"Archer\",\"text\":\"Archer\",\"x\":[\"TENTH WARD\"],\"y\":[114.0],\"type\":\"scatter\"},{\"mode\":\"lines+markers\",\"name\":\"Emilie\",\"text\":\"Emilie\",\"x\":[\"TENTH WARD\"],\"y\":[100.0],\"type\":\"scatter\"},{\"mode\":\"lines+markers\",\"name\":\"John M\",\"text\":\"John M\",\"x\":[\"TENTH WARD\"],\"y\":[199.0],\"type\":\"scatter\"},{\"mode\":\"lines+markers\",\"name\":\"Melissa\",\"text\":\"Melissa\",\"x\":[\"TENTH WARD\"],\"y\":[147.0],\"type\":\"scatter\"},{\"mode\":\"lines+markers\",\"name\":\"Miguelino\",\"text\":\"Miguelino\",\"x\":[\"TENTH WARD\"],\"y\":[67.0],\"type\":\"scatter\"},{\"mode\":\"lines+markers\",\"name\":\"Rashawn\",\"text\":\"Rashawn\",\"x\":[\"TENTH WARD\"],\"y\":[189.0],\"type\":\"scatter\"},{\"mode\":\"lines+markers\",\"name\":\"Amar\",\"text\":\"Amar\",\"x\":[\"THIRD WARD\"],\"y\":[154.0],\"type\":\"scatter\"},{\"mode\":\"lines+markers\",\"name\":\"Chadell\",\"text\":\"Chadell\",\"x\":[\"THIRD WARD\"],\"y\":[108.0],\"type\":\"scatter\"},{\"mode\":\"lines+markers\",\"name\":\"David\",\"text\":\"David\",\"x\":[\"THIRD WARD\"],\"y\":[163.0],\"type\":\"scatter\"},{\"mode\":\"lines+markers\",\"name\":\"Diana\",\"text\":\"Diana\",\"x\":[\"THIRD WARD\"],\"y\":[89.0],\"type\":\"scatter\"},{\"mode\":\"lines+markers\",\"name\":\"Dillon\",\"text\":\"Dillon\",\"x\":[\"THIRD WARD\"],\"y\":[109.0],\"type\":\"scatter\"},{\"mode\":\"lines+markers\",\"name\":\"Evolve\",\"text\":\"Evolve\",\"x\":[\"THIRD WARD\",\"THIRTEENTH WARD\"],\"y\":[104.0,126.0],\"type\":\"scatter\"},{\"mode\":\"lines+markers\",\"name\":\"Gabriel\",\"text\":\"Gabriel\",\"x\":[\"THIRD WARD\"],\"y\":[90.0],\"type\":\"scatter\"},{\"mode\":\"lines+markers\",\"name\":\"Julia\",\"text\":\"Julia\",\"x\":[\"THIRD WARD\"],\"y\":[228.0],\"type\":\"scatter\"},{\"mode\":\"lines+markers\",\"name\":\"Queen\",\"text\":\"Queen\",\"x\":[\"THIRD WARD\"],\"y\":[100.0],\"type\":\"scatter\"},{\"mode\":\"lines+markers\",\"name\":\"Caroline\",\"text\":\"Caroline\",\"x\":[\"THIRTEENTH WARD\"],\"y\":[99.0],\"type\":\"scatter\"},{\"mode\":\"lines+markers\",\"name\":\"Romel\",\"text\":\"Romel\",\"x\":[\"THIRTEENTH WARD\"],\"y\":[141.0],\"type\":\"scatter\"},{\"mode\":\"lines+markers\",\"name\":\"Thaddeus\",\"text\":\"Thaddeus\",\"x\":[\"THIRTEENTH WARD\"],\"y\":[77.0],\"type\":\"scatter\"},{\"mode\":\"lines+markers\",\"name\":\"Mary\",\"text\":\"Mary\",\"x\":[\"TWELFTH WARD\"],\"y\":[155.0],\"type\":\"scatter\"}],                        {\"template\":{\"data\":{\"histogram2dcontour\":[{\"type\":\"histogram2dcontour\",\"colorbar\":{\"outlinewidth\":0,\"ticks\":\"\"},\"colorscale\":[[0.0,\"#0d0887\"],[0.1111111111111111,\"#46039f\"],[0.2222222222222222,\"#7201a8\"],[0.3333333333333333,\"#9c179e\"],[0.4444444444444444,\"#bd3786\"],[0.5555555555555556,\"#d8576b\"],[0.6666666666666666,\"#ed7953\"],[0.7777777777777778,\"#fb9f3a\"],[0.8888888888888888,\"#fdca26\"],[1.0,\"#f0f921\"]]}],\"choropleth\":[{\"type\":\"choropleth\",\"colorbar\":{\"outlinewidth\":0,\"ticks\":\"\"}}],\"histogram2d\":[{\"type\":\"histogram2d\",\"colorbar\":{\"outlinewidth\":0,\"ticks\":\"\"},\"colorscale\":[[0.0,\"#0d0887\"],[0.1111111111111111,\"#46039f\"],[0.2222222222222222,\"#7201a8\"],[0.3333333333333333,\"#9c179e\"],[0.4444444444444444,\"#bd3786\"],[0.5555555555555556,\"#d8576b\"],[0.6666666666666666,\"#ed7953\"],[0.7777777777777778,\"#fb9f3a\"],[0.8888888888888888,\"#fdca26\"],[1.0,\"#f0f921\"]]}],\"heatmap\":[{\"type\":\"heatmap\",\"colorbar\":{\"outlinewidth\":0,\"ticks\":\"\"},\"colorscale\":[[0.0,\"#0d0887\"],[0.1111111111111111,\"#46039f\"],[0.2222222222222222,\"#7201a8\"],[0.3333333333333333,\"#9c179e\"],[0.4444444444444444,\"#bd3786\"],[0.5555555555555556,\"#d8576b\"],[0.6666666666666666,\"#ed7953\"],[0.7777777777777778,\"#fb9f3a\"],[0.8888888888888888,\"#fdca26\"],[1.0,\"#f0f921\"]]}],\"heatmapgl\":[{\"type\":\"heatmapgl\",\"colorbar\":{\"outlinewidth\":0,\"ticks\":\"\"},\"colorscale\":[[0.0,\"#0d0887\"],[0.1111111111111111,\"#46039f\"],[0.2222222222222222,\"#7201a8\"],[0.3333333333333333,\"#9c179e\"],[0.4444444444444444,\"#bd3786\"],[0.5555555555555556,\"#d8576b\"],[0.6666666666666666,\"#ed7953\"],[0.7777777777777778,\"#fb9f3a\"],[0.8888888888888888,\"#fdca26\"],[1.0,\"#f0f921\"]]}],\"contourcarpet\":[{\"type\":\"contourcarpet\",\"colorbar\":{\"outlinewidth\":0,\"ticks\":\"\"}}],\"contour\":[{\"type\":\"contour\",\"colorbar\":{\"outlinewidth\":0,\"ticks\":\"\"},\"colorscale\":[[0.0,\"#0d0887\"],[0.1111111111111111,\"#46039f\"],[0.2222222222222222,\"#7201a8\"],[0.3333333333333333,\"#9c179e\"],[0.4444444444444444,\"#bd3786\"],[0.5555555555555556,\"#d8576b\"],[0.6666666666666666,\"#ed7953\"],[0.7777777777777778,\"#fb9f3a\"],[0.8888888888888888,\"#fdca26\"],[1.0,\"#f0f921\"]]}],\"surface\":[{\"type\":\"surface\",\"colorbar\":{\"outlinewidth\":0,\"ticks\":\"\"},\"colorscale\":[[0.0,\"#0d0887\"],[0.1111111111111111,\"#46039f\"],[0.2222222222222222,\"#7201a8\"],[0.3333333333333333,\"#9c179e\"],[0.4444444444444444,\"#bd3786\"],[0.5555555555555556,\"#d8576b\"],[0.6666666666666666,\"#ed7953\"],[0.7777777777777778,\"#fb9f3a\"],[0.8888888888888888,\"#fdca26\"],[1.0,\"#f0f921\"]]}],\"mesh3d\":[{\"type\":\"mesh3d\",\"colorbar\":{\"outlinewidth\":0,\"ticks\":\"\"}}],\"scatter\":[{\"fillpattern\":{\"fillmode\":\"overlay\",\"size\":10,\"solidity\":0.2},\"type\":\"scatter\"}],\"parcoords\":[{\"type\":\"parcoords\",\"line\":{\"colorbar\":{\"outlinewidth\":0,\"ticks\":\"\"}}}],\"scatterpolargl\":[{\"type\":\"scatterpolargl\",\"marker\":{\"colorbar\":{\"outlinewidth\":0,\"ticks\":\"\"}}}],\"bar\":[{\"error_x\":{\"color\":\"#2a3f5f\"},\"error_y\":{\"color\":\"#2a3f5f\"},\"marker\":{\"line\":{\"color\":\"#E5ECF6\",\"width\":0.5},\"pattern\":{\"fillmode\":\"overlay\",\"size\":10,\"solidity\":0.2}},\"type\":\"bar\"}],\"scattergeo\":[{\"type\":\"scattergeo\",\"marker\":{\"colorbar\":{\"outlinewidth\":0,\"ticks\":\"\"}}}],\"scatterpolar\":[{\"type\":\"scatterpolar\",\"marker\":{\"colorbar\":{\"outlinewidth\":0,\"ticks\":\"\"}}}],\"histogram\":[{\"marker\":{\"pattern\":{\"fillmode\":\"overlay\",\"size\":10,\"solidity\":0.2}},\"type\":\"histogram\"}],\"scattergl\":[{\"type\":\"scattergl\",\"marker\":{\"colorbar\":{\"outlinewidth\":0,\"ticks\":\"\"}}}],\"scatter3d\":[{\"type\":\"scatter3d\",\"line\":{\"colorbar\":{\"outlinewidth\":0,\"ticks\":\"\"}},\"marker\":{\"colorbar\":{\"outlinewidth\":0,\"ticks\":\"\"}}}],\"scattermapbox\":[{\"type\":\"scattermapbox\",\"marker\":{\"colorbar\":{\"outlinewidth\":0,\"ticks\":\"\"}}}],\"scatterternary\":[{\"type\":\"scatterternary\",\"marker\":{\"colorbar\":{\"outlinewidth\":0,\"ticks\":\"\"}}}],\"scattercarpet\":[{\"type\":\"scattercarpet\",\"marker\":{\"colorbar\":{\"outlinewidth\":0,\"ticks\":\"\"}}}],\"carpet\":[{\"aaxis\":{\"endlinecolor\":\"#2a3f5f\",\"gridcolor\":\"white\",\"linecolor\":\"white\",\"minorgridcolor\":\"white\",\"startlinecolor\":\"#2a3f5f\"},\"baxis\":{\"endlinecolor\":\"#2a3f5f\",\"gridcolor\":\"white\",\"linecolor\":\"white\",\"minorgridcolor\":\"white\",\"startlinecolor\":\"#2a3f5f\"},\"type\":\"carpet\"}],\"table\":[{\"cells\":{\"fill\":{\"color\":\"#EBF0F8\"},\"line\":{\"color\":\"white\"}},\"header\":{\"fill\":{\"color\":\"#C8D4E3\"},\"line\":{\"color\":\"white\"}},\"type\":\"table\"}],\"barpolar\":[{\"marker\":{\"line\":{\"color\":\"#E5ECF6\",\"width\":0.5},\"pattern\":{\"fillmode\":\"overlay\",\"size\":10,\"solidity\":0.2}},\"type\":\"barpolar\"}],\"pie\":[{\"automargin\":true,\"type\":\"pie\"}]},\"layout\":{\"autotypenumbers\":\"strict\",\"colorway\":[\"#636efa\",\"#EF553B\",\"#00cc96\",\"#ab63fa\",\"#FFA15A\",\"#19d3f3\",\"#FF6692\",\"#B6E880\",\"#FF97FF\",\"#FECB52\"],\"font\":{\"color\":\"#2a3f5f\"},\"hovermode\":\"closest\",\"hoverlabel\":{\"align\":\"left\"},\"paper_bgcolor\":\"white\",\"plot_bgcolor\":\"#E5ECF6\",\"polar\":{\"bgcolor\":\"#E5ECF6\",\"angularaxis\":{\"gridcolor\":\"white\",\"linecolor\":\"white\",\"ticks\":\"\"},\"radialaxis\":{\"gridcolor\":\"white\",\"linecolor\":\"white\",\"ticks\":\"\"}},\"ternary\":{\"bgcolor\":\"#E5ECF6\",\"aaxis\":{\"gridcolor\":\"white\",\"linecolor\":\"white\",\"ticks\":\"\"},\"baxis\":{\"gridcolor\":\"white\",\"linecolor\":\"white\",\"ticks\":\"\"},\"caxis\":{\"gridcolor\":\"white\",\"linecolor\":\"white\",\"ticks\":\"\"}},\"coloraxis\":{\"colorbar\":{\"outlinewidth\":0,\"ticks\":\"\"}},\"colorscale\":{\"sequential\":[[0.0,\"#0d0887\"],[0.1111111111111111,\"#46039f\"],[0.2222222222222222,\"#7201a8\"],[0.3333333333333333,\"#9c179e\"],[0.4444444444444444,\"#bd3786\"],[0.5555555555555556,\"#d8576b\"],[0.6666666666666666,\"#ed7953\"],[0.7777777777777778,\"#fb9f3a\"],[0.8888888888888888,\"#fdca26\"],[1.0,\"#f0f921\"]],\"sequentialminus\":[[0.0,\"#0d0887\"],[0.1111111111111111,\"#46039f\"],[0.2222222222222222,\"#7201a8\"],[0.3333333333333333,\"#9c179e\"],[0.4444444444444444,\"#bd3786\"],[0.5555555555555556,\"#d8576b\"],[0.6666666666666666,\"#ed7953\"],[0.7777777777777778,\"#fb9f3a\"],[0.8888888888888888,\"#fdca26\"],[1.0,\"#f0f921\"]],\"diverging\":[[0,\"#8e0152\"],[0.1,\"#c51b7d\"],[0.2,\"#de77ae\"],[0.3,\"#f1b6da\"],[0.4,\"#fde0ef\"],[0.5,\"#f7f7f7\"],[0.6,\"#e6f5d0\"],[0.7,\"#b8e186\"],[0.8,\"#7fbc41\"],[0.9,\"#4d9221\"],[1,\"#276419\"]]},\"xaxis\":{\"gridcolor\":\"white\",\"linecolor\":\"white\",\"ticks\":\"\",\"title\":{\"standoff\":15},\"zerolinecolor\":\"white\",\"automargin\":true,\"zerolinewidth\":2},\"yaxis\":{\"gridcolor\":\"white\",\"linecolor\":\"white\",\"ticks\":\"\",\"title\":{\"standoff\":15},\"zerolinecolor\":\"white\",\"automargin\":true,\"zerolinewidth\":2},\"scene\":{\"xaxis\":{\"backgroundcolor\":\"#E5ECF6\",\"gridcolor\":\"white\",\"linecolor\":\"white\",\"showbackground\":true,\"ticks\":\"\",\"zerolinecolor\":\"white\",\"gridwidth\":2},\"yaxis\":{\"backgroundcolor\":\"#E5ECF6\",\"gridcolor\":\"white\",\"linecolor\":\"white\",\"showbackground\":true,\"ticks\":\"\",\"zerolinecolor\":\"white\",\"gridwidth\":2},\"zaxis\":{\"backgroundcolor\":\"#E5ECF6\",\"gridcolor\":\"white\",\"linecolor\":\"white\",\"showbackground\":true,\"ticks\":\"\",\"zerolinecolor\":\"white\",\"gridwidth\":2}},\"shapedefaults\":{\"line\":{\"color\":\"#2a3f5f\"}},\"annotationdefaults\":{\"arrowcolor\":\"#2a3f5f\",\"arrowhead\":0,\"arrowwidth\":1},\"geo\":{\"bgcolor\":\"white\",\"landcolor\":\"#E5ECF6\",\"subunitcolor\":\"white\",\"showland\":true,\"showlakes\":true,\"lakecolor\":\"white\"},\"title\":{\"x\":0.05},\"mapbox\":{\"style\":\"light\"}}},\"font\":{\"color\":\"#909497\",\"size\":18},\"title\":{\"font\":{\"size\":26},\"text\":\"Total Price by Neighbourhood and Host Name\"},\"xaxis\":{\"title\":{\"text\":\"Neighbourhood\"},\"linecolor\":\"#909497\"},\"yaxis\":{\"title\":{\"text\":\"Total Price\"},\"tickformat\":\",\",\"linecolor\":\"#909497\"},\"margin\":{\"t\":100,\"r\":80,\"b\":80,\"l\":120},\"plot_bgcolor\":\"white\",\"height\":720,\"width\":1000},                        {\"responsive\": true}                    ).then(function(){\n",
       "                            \n",
       "var gd = document.getElementById('7f51f405-0f4e-4ff2-9e07-a340964feeeb');\n",
       "var x = new MutationObserver(function (mutations, observer) {{\n",
       "        var display = window.getComputedStyle(gd).display;\n",
       "        if (!display || display === 'none') {{\n",
       "            console.log([gd, 'removed!']);\n",
       "            Plotly.purge(gd);\n",
       "            observer.disconnect();\n",
       "        }}\n",
       "}});\n",
       "\n",
       "// Listen for the removal of the full notebook cells\n",
       "var notebookContainer = gd.closest('#notebook-container');\n",
       "if (notebookContainer) {{\n",
       "    x.observe(notebookContainer, {childList: true});\n",
       "}}\n",
       "\n",
       "// Listen for the clearing of the current output cell\n",
       "var outputEl = gd.closest('.output');\n",
       "if (outputEl) {{\n",
       "    x.observe(outputEl, {childList: true});\n",
       "}}\n",
       "\n",
       "                        })                };                });            </script>        </div>"
      ]
     },
     "metadata": {},
     "output_type": "display_data"
    }
   ],
   "source": [
    "# Group the data by 'neighbourhood' and 'host_name', and sum the 'price' column\n",
    "grouped_data = data_without_outliers.groupby([\"neighbourhood\", \"host_name\"])[\"price\"].sum().reset_index()\n",
    "\n",
    "# Create the Plotly figure\n",
    "fig = go.Figure()\n",
    "\n",
    "for host_name in grouped_data[\"host_name\"].unique():\n",
    "    host_data = grouped_data[grouped_data[\"host_name\"] == host_name]\n",
    "    fig.add_trace(go.Scatter(\n",
    "        x=host_data[\"neighbourhood\"],\n",
    "        y=host_data[\"price\"],\n",
    "        mode='lines+markers',\n",
    "        name=host_name,\n",
    "        text =host_name\n",
    "    ))\n",
    "\n",
    "# Customize the layout\n",
    "fig.update_layout(plot_bgcolor = \"white\",\n",
    "                 font = dict(color = \"#909497\", size = 18),\n",
    "                 title = dict(text = \"Total Price by Neighbourhood and Host Name\", font = dict(size = 26)),\n",
    "                 xaxis = dict(title = \"Neighbourhood\", linecolor = \"#909497\"),\n",
    "                 yaxis = dict(title = \"Total Price\", tickformat = \",\", linecolor = \"#909497\"),\n",
    "                 margin = dict(t = 100, r = 80, b = 80, l = 120),\n",
    "                 height = 720,\n",
    "                 width = 1000)\n",
    "\n",
    "# Display the plot\n",
    "fig.show()"
   ]
  },
  {
   "cell_type": "markdown",
   "id": "89eecac8",
   "metadata": {},
   "source": [
    "* you can see how the diffrent on host price go from ward to aonther ward "
   ]
  },
  {
   "cell_type": "code",
   "execution_count": 28,
   "id": "934f0d89",
   "metadata": {},
   "outputs": [
    {
     "data": {
      "application/vnd.plotly.v1+json": {
       "config": {
        "plotlyServerURL": "https://plot.ly"
       },
       "data": [
        {
         "marker": {
          "color": [
           190,
           199,
           56,
           53,
           62,
           70,
           169,
           196,
           126,
           85,
           70,
           69,
           55,
           75,
           55,
           100,
           89,
           55,
           75,
           56,
           95,
           119,
           55,
           39,
           50,
           110,
           95,
           45,
           117,
           145,
           119,
           97,
           79,
           120,
           122,
           140,
           100,
           92,
           125,
           79,
           95,
           109,
           147,
           45,
           88,
           109,
           115,
           120,
           115,
           85,
           88,
           125,
           40,
           100,
           120,
           88,
           115,
           119,
           88,
           175,
           150,
           160,
           75,
           100,
           100,
           125,
           99,
           79,
           110,
           100,
           100,
           115,
           89,
           100,
           113,
           120,
           129,
           130,
           120,
           115,
           149,
           97,
           99,
           130,
           115,
           118,
           75,
           75,
           141,
           99,
           115,
           90,
           113,
           91,
           45,
           80,
           130,
           82,
           131,
           101,
           145,
           145,
           50,
           110,
           75,
           65,
           107,
           100,
           110,
           60,
           105,
           185,
           102,
           104,
           122,
           87,
           55,
           126,
           127,
           122,
           127,
           89,
           103,
           99,
           50,
           85,
           55,
           157,
           120,
           175,
           85,
           78,
           79,
           55,
           175,
           89,
           67,
           45,
           45,
           104,
           100,
           189,
           155,
           110,
           197,
           72,
           33,
           115,
           44,
           77,
           122,
           184,
           184,
           184,
           184,
           45,
           35,
           135,
           105,
           50,
           115,
           129,
           89,
           100,
           108,
           125,
           120,
           114,
           87,
           99,
           110,
           154,
           143,
           83,
           191,
           50,
           50,
           50,
           95,
           50,
           73,
           65,
           120,
           119,
           100,
           102,
           91,
           155,
           60,
           91,
           114,
           90,
           150,
           125,
           105,
           102,
           51
          ],
          "colorscale": [
           [
            0,
            "#440154"
           ],
           [
            0.1111111111111111,
            "#482878"
           ],
           [
            0.2222222222222222,
            "#3e4989"
           ],
           [
            0.3333333333333333,
            "#31688e"
           ],
           [
            0.4444444444444444,
            "#26828e"
           ],
           [
            0.5555555555555556,
            "#1f9e89"
           ],
           [
            0.6666666666666666,
            "#35b779"
           ],
           [
            0.7777777777777778,
            "#6ece58"
           ],
           [
            0.8888888888888888,
            "#b5de2b"
           ],
           [
            1,
            "#fde725"
           ]
          ],
          "opacity": 0.8,
          "size": 12
         },
         "mode": "markers",
         "text": [
          190,
          199,
          56,
          53,
          62,
          70,
          169,
          196,
          126,
          85,
          70,
          69,
          55,
          75,
          55,
          100,
          89,
          55,
          75,
          56,
          95,
          119,
          55,
          39,
          50,
          110,
          95,
          45,
          117,
          145,
          119,
          97,
          79,
          120,
          122,
          140,
          100,
          92,
          125,
          79,
          95,
          109,
          147,
          45,
          88,
          109,
          115,
          120,
          115,
          85,
          88,
          125,
          40,
          100,
          120,
          88,
          115,
          119,
          88,
          175,
          150,
          160,
          75,
          100,
          100,
          125,
          99,
          79,
          110,
          100,
          100,
          115,
          89,
          100,
          113,
          120,
          129,
          130,
          120,
          115,
          149,
          97,
          99,
          130,
          115,
          118,
          75,
          75,
          141,
          99,
          115,
          90,
          113,
          91,
          45,
          80,
          130,
          82,
          131,
          101,
          145,
          145,
          50,
          110,
          75,
          65,
          107,
          100,
          110,
          60,
          105,
          185,
          102,
          104,
          122,
          87,
          55,
          126,
          127,
          122,
          127,
          89,
          103,
          99,
          50,
          85,
          55,
          157,
          120,
          175,
          85,
          78,
          79,
          55,
          175,
          89,
          67,
          45,
          45,
          104,
          100,
          189,
          155,
          110,
          197,
          72,
          33,
          115,
          44,
          77,
          122,
          184,
          184,
          184,
          184,
          45,
          35,
          135,
          105,
          50,
          115,
          129,
          89,
          100,
          108,
          125,
          120,
          114,
          87,
          99,
          110,
          154,
          143,
          83,
          191,
          50,
          50,
          50,
          95,
          50,
          73,
          65,
          120,
          119,
          100,
          102,
          91,
          155,
          60,
          91,
          114,
          90,
          150,
          125,
          105,
          102,
          51
         ],
         "type": "scatter",
         "x": [
          -73.75851,
          -73.78115,
          -73.77887,
          -73.78169,
          -73.80321,
          -73.78161,
          -73.75887,
          -73.82382,
          -73.76865,
          -73.78244,
          -73.78244,
          -73.77833,
          -73.78122,
          -73.81196,
          -73.78178,
          -73.77293,
          -73.76325,
          -73.78177642822266,
          -73.76917,
          -73.77904,
          -73.75313,
          -73.76714,
          -73.78114,
          -73.82281,
          -73.78223,
          -73.79031,
          -73.79231,
          -73.81446,
          -73.75426,
          -73.78281,
          -73.7956,
          -73.75369,
          -73.78223,
          -73.75668,
          -73.75793,
          -73.75628,
          -73.7904,
          -73.79184,
          -73.76663,
          -73.80883,
          -73.79849,
          -73.75273894471623,
          -73.78332,
          -73.78126,
          -73.75986,
          -73.76546,
          -73.74673,
          -73.74748,
          -73.74866,
          -73.74941,
          -73.76076,
          -73.75614,
          -73.82903,
          -73.76966,
          -73.82573,
          -73.75958,
          -73.74837,
          -73.76944,
          -73.82367,
          -73.80114,
          -73.74722,
          -73.822861,
          -73.79026,
          -73.76996,
          -73.77056,
          -73.75392,
          -73.78641,
          -73.77964,
          -73.7701,
          -73.76938,
          -73.76995,
          -73.76359,
          -73.79869,
          -73.7949665,
          -73.7679,
          -73.780815,
          -73.75684,
          -73.78426,
          -73.75861,
          -73.75928,
          -73.76797,
          -73.76455,
          -73.76196,
          -73.76538,
          -73.74743,
          -73.76367520540953,
          -73.7992,
          -73.79908,
          -73.79749410000001,
          -73.75676,
          -73.777,
          -73.76146,
          -73.7673156,
          -73.75261,
          -73.7818222,
          -73.761,
          -73.77685,
          -73.76792,
          -73.77997,
          -73.76831,
          -73.75975701534425,
          -73.75971410000001,
          -73.76732,
          -73.76953,
          -73.79091,
          -73.80719,
          -73.7642072,
          -73.75065,
          -73.76594,
          -73.81361,
          -73.75431932508945,
          -73.7943,
          -73.77061,
          -73.77367,
          -73.77541,
          -73.7855281,
          -73.78034,
          -73.79722,
          -73.77409,
          -73.775205,
          -73.775205,
          -73.75332,
          -73.7684199,
          -73.79418,
          -73.79032550419785,
          -73.76917,
          -73.80479,
          -73.77469,
          -73.76976949435519,
          -73.78619,
          -73.7586141,
          -73.74935,
          -73.81607,
          -73.80548,
          -73.78496,
          -73.76901,
          -73.7747433,
          -73.76576,
          -73.76534029999999,
          -73.7521,
          -73.79234533756971,
          -73.78655,
          -73.76707,
          -73.7868778,
          -73.78299,
          -73.79158,
          -73.7807478,
          -73.79149618599958,
          -73.78021704609974,
          -73.79571205018514,
          -73.77433674199318,
          -73.77478693204898,
          -73.77284,
          -73.77455698333637,
          -73.77272373106814,
          -73.7853116,
          -73.78610658197474,
          -73.80049,
          -73.80128215056936,
          -73.78509801171585,
          -73.77397295619353,
          -73.79390939999999,
          -73.77002141071337,
          -73.81678288145305,
          -73.75335661522755,
          -73.76950465142727,
          -73.76511947562057,
          -73.77786945551634,
          -73.761780139996,
          -73.80695225761066,
          -73.7641152,
          -73.75115885472674,
          -73.8106566601018,
          -73.7674333870007,
          -73.75364650000002,
          -73.7977054151877,
          -73.797549986088,
          -73.79930289371134,
          -73.76416369206528,
          -73.7981565369516,
          -73.77046,
          -73.7546608201248,
          -73.76420635863742,
          -73.76382104785372,
          -73.7597240543698,
          -73.77868,
          -73.76519868723663,
          -73.79260844002489,
          -73.78413107868002,
          -73.76077862456057,
          -73.78973060044702,
          -73.75705214104126,
          -73.7920570376047,
          -73.76307767802679,
          -73.7381032862318,
          -73.77786945551634,
          -73.79881962357733
         ],
         "y": [
          42.64484,
          42.66063,
          42.65651,
          42.67614,
          42.65729,
          42.65312,
          42.6436,
          42.675,
          42.64939,
          42.65532,
          42.65372,
          42.66045,
          42.65501,
          42.65975,
          42.65431,
          42.65333,
          42.65403,
          42.6543083190918,
          42.65821,
          42.65746,
          42.6737,
          42.65235,
          42.6533,
          42.67519,
          42.65259,
          42.66619,
          42.66827,
          42.66403,
          42.64453,
          42.66257,
          42.66132,
          42.64454,
          42.6545,
          42.64801,
          42.64821,
          42.64713,
          42.66137,
          42.66646,
          42.65345,
          42.67156,
          42.6692,
          42.6511808672392,
          42.66261,
          42.65399,
          42.65429,
          42.65157,
          42.65888,
          42.65901,
          42.65856,
          42.65812,
          42.65269,
          42.64684,
          42.67643,
          42.65934,
          42.67044,
          42.65386,
          42.65812,
          42.65826,
          42.67004,
          42.65824,
          42.65913,
          42.674675,
          42.66261,
          42.65422,
          42.65403,
          42.64459,
          42.65578,
          42.65905,
          42.65902,
          42.6595,
          42.6598,
          42.65848,
          42.66911,
          42.652049,
          42.65353,
          42.640217,
          42.65723,
          42.64372,
          42.64528,
          42.64558,
          42.65323,
          42.65427,
          42.64595,
          42.65389,
          42.65752,
          42.65541380925019,
          42.66758,
          42.66764,
          42.6694413,
          42.65732,
          42.6623,
          42.64638,
          42.6513719,
          42.64564,
          42.6543178,
          42.64469,
          42.65569,
          42.6496,
          42.64284,
          42.66648,
          42.64439384900326,
          42.6444412,
          42.65259,
          42.65405,
          42.66117,
          42.6601,
          42.6518469,
          42.65725,
          42.65183,
          42.66298,
          42.6591503133547,
          42.6653,
          42.65489,
          42.67283,
          42.65582,
          42.6538578,
          42.65741,
          42.66958,
          42.65751,
          42.656329,
          42.656329,
          42.65588,
          42.6684126,
          42.67239,
          42.67143614564987,
          42.65258,
          42.66109,
          42.65613,
          42.66007584297136,
          42.67336,
          42.6457663,
          42.65817,
          42.66947,
          42.66128,
          42.67355,
          42.65379,
          42.6599733,
          42.66246,
          42.6628771,
          42.6573,
          42.66215778253739,
          42.66087,
          42.64787,
          42.6652959,
          42.66217,
          42.66261,
          42.6559529,
          42.65483722729842,
          42.654965911269095,
          42.67066076442359,
          42.65654925592276,
          42.658672199777634,
          42.6606,
          42.659082586070085,
          42.65846944486231,
          42.6708367,
          42.669735657513975,
          42.65801,
          42.65798404004404,
          42.67033901962889,
          42.66000843071908,
          42.6549886,
          42.65240863051438,
          42.67059398561849,
          42.65679550669701,
          42.65312775001394,
          42.66627900500492,
          42.66391565517209,
          42.65259924007496,
          42.6709773627501,
          42.65623,
          42.65761589542138,
          42.6554977755084,
          42.65483900711961,
          42.64534889999999,
          42.67002775509383,
          42.6697096084112,
          42.66873116573401,
          42.65538680270734,
          42.66996089870569,
          42.6535,
          42.64713879857583,
          42.65859808957202,
          42.65970700274541,
          42.64655138980193,
          42.66838,
          42.65487397780481,
          42.6759553661711,
          42.6736802909505,
          42.65446887973431,
          42.66106893179246,
          42.639757084309245,
          42.659886051712505,
          42.65098734769702,
          42.66311590202129,
          42.663915656143736,
          42.66943098938467
         ]
        }
       ],
       "layout": {
        "font": {
         "color": "#909497",
         "size": 18
        },
        "height": 720,
        "margin": {
         "b": 80,
         "l": 120,
         "r": 80,
         "t": 100
        },
        "plot_bgcolor": "white",
        "template": {
         "data": {
          "bar": [
           {
            "error_x": {
             "color": "#2a3f5f"
            },
            "error_y": {
             "color": "#2a3f5f"
            },
            "marker": {
             "line": {
              "color": "#E5ECF6",
              "width": 0.5
             },
             "pattern": {
              "fillmode": "overlay",
              "size": 10,
              "solidity": 0.2
             }
            },
            "type": "bar"
           }
          ],
          "barpolar": [
           {
            "marker": {
             "line": {
              "color": "#E5ECF6",
              "width": 0.5
             },
             "pattern": {
              "fillmode": "overlay",
              "size": 10,
              "solidity": 0.2
             }
            },
            "type": "barpolar"
           }
          ],
          "carpet": [
           {
            "aaxis": {
             "endlinecolor": "#2a3f5f",
             "gridcolor": "white",
             "linecolor": "white",
             "minorgridcolor": "white",
             "startlinecolor": "#2a3f5f"
            },
            "baxis": {
             "endlinecolor": "#2a3f5f",
             "gridcolor": "white",
             "linecolor": "white",
             "minorgridcolor": "white",
             "startlinecolor": "#2a3f5f"
            },
            "type": "carpet"
           }
          ],
          "choropleth": [
           {
            "colorbar": {
             "outlinewidth": 0,
             "ticks": ""
            },
            "type": "choropleth"
           }
          ],
          "contour": [
           {
            "colorbar": {
             "outlinewidth": 0,
             "ticks": ""
            },
            "colorscale": [
             [
              0,
              "#0d0887"
             ],
             [
              0.1111111111111111,
              "#46039f"
             ],
             [
              0.2222222222222222,
              "#7201a8"
             ],
             [
              0.3333333333333333,
              "#9c179e"
             ],
             [
              0.4444444444444444,
              "#bd3786"
             ],
             [
              0.5555555555555556,
              "#d8576b"
             ],
             [
              0.6666666666666666,
              "#ed7953"
             ],
             [
              0.7777777777777778,
              "#fb9f3a"
             ],
             [
              0.8888888888888888,
              "#fdca26"
             ],
             [
              1,
              "#f0f921"
             ]
            ],
            "type": "contour"
           }
          ],
          "contourcarpet": [
           {
            "colorbar": {
             "outlinewidth": 0,
             "ticks": ""
            },
            "type": "contourcarpet"
           }
          ],
          "heatmap": [
           {
            "colorbar": {
             "outlinewidth": 0,
             "ticks": ""
            },
            "colorscale": [
             [
              0,
              "#0d0887"
             ],
             [
              0.1111111111111111,
              "#46039f"
             ],
             [
              0.2222222222222222,
              "#7201a8"
             ],
             [
              0.3333333333333333,
              "#9c179e"
             ],
             [
              0.4444444444444444,
              "#bd3786"
             ],
             [
              0.5555555555555556,
              "#d8576b"
             ],
             [
              0.6666666666666666,
              "#ed7953"
             ],
             [
              0.7777777777777778,
              "#fb9f3a"
             ],
             [
              0.8888888888888888,
              "#fdca26"
             ],
             [
              1,
              "#f0f921"
             ]
            ],
            "type": "heatmap"
           }
          ],
          "heatmapgl": [
           {
            "colorbar": {
             "outlinewidth": 0,
             "ticks": ""
            },
            "colorscale": [
             [
              0,
              "#0d0887"
             ],
             [
              0.1111111111111111,
              "#46039f"
             ],
             [
              0.2222222222222222,
              "#7201a8"
             ],
             [
              0.3333333333333333,
              "#9c179e"
             ],
             [
              0.4444444444444444,
              "#bd3786"
             ],
             [
              0.5555555555555556,
              "#d8576b"
             ],
             [
              0.6666666666666666,
              "#ed7953"
             ],
             [
              0.7777777777777778,
              "#fb9f3a"
             ],
             [
              0.8888888888888888,
              "#fdca26"
             ],
             [
              1,
              "#f0f921"
             ]
            ],
            "type": "heatmapgl"
           }
          ],
          "histogram": [
           {
            "marker": {
             "pattern": {
              "fillmode": "overlay",
              "size": 10,
              "solidity": 0.2
             }
            },
            "type": "histogram"
           }
          ],
          "histogram2d": [
           {
            "colorbar": {
             "outlinewidth": 0,
             "ticks": ""
            },
            "colorscale": [
             [
              0,
              "#0d0887"
             ],
             [
              0.1111111111111111,
              "#46039f"
             ],
             [
              0.2222222222222222,
              "#7201a8"
             ],
             [
              0.3333333333333333,
              "#9c179e"
             ],
             [
              0.4444444444444444,
              "#bd3786"
             ],
             [
              0.5555555555555556,
              "#d8576b"
             ],
             [
              0.6666666666666666,
              "#ed7953"
             ],
             [
              0.7777777777777778,
              "#fb9f3a"
             ],
             [
              0.8888888888888888,
              "#fdca26"
             ],
             [
              1,
              "#f0f921"
             ]
            ],
            "type": "histogram2d"
           }
          ],
          "histogram2dcontour": [
           {
            "colorbar": {
             "outlinewidth": 0,
             "ticks": ""
            },
            "colorscale": [
             [
              0,
              "#0d0887"
             ],
             [
              0.1111111111111111,
              "#46039f"
             ],
             [
              0.2222222222222222,
              "#7201a8"
             ],
             [
              0.3333333333333333,
              "#9c179e"
             ],
             [
              0.4444444444444444,
              "#bd3786"
             ],
             [
              0.5555555555555556,
              "#d8576b"
             ],
             [
              0.6666666666666666,
              "#ed7953"
             ],
             [
              0.7777777777777778,
              "#fb9f3a"
             ],
             [
              0.8888888888888888,
              "#fdca26"
             ],
             [
              1,
              "#f0f921"
             ]
            ],
            "type": "histogram2dcontour"
           }
          ],
          "mesh3d": [
           {
            "colorbar": {
             "outlinewidth": 0,
             "ticks": ""
            },
            "type": "mesh3d"
           }
          ],
          "parcoords": [
           {
            "line": {
             "colorbar": {
              "outlinewidth": 0,
              "ticks": ""
             }
            },
            "type": "parcoords"
           }
          ],
          "pie": [
           {
            "automargin": true,
            "type": "pie"
           }
          ],
          "scatter": [
           {
            "fillpattern": {
             "fillmode": "overlay",
             "size": 10,
             "solidity": 0.2
            },
            "type": "scatter"
           }
          ],
          "scatter3d": [
           {
            "line": {
             "colorbar": {
              "outlinewidth": 0,
              "ticks": ""
             }
            },
            "marker": {
             "colorbar": {
              "outlinewidth": 0,
              "ticks": ""
             }
            },
            "type": "scatter3d"
           }
          ],
          "scattercarpet": [
           {
            "marker": {
             "colorbar": {
              "outlinewidth": 0,
              "ticks": ""
             }
            },
            "type": "scattercarpet"
           }
          ],
          "scattergeo": [
           {
            "marker": {
             "colorbar": {
              "outlinewidth": 0,
              "ticks": ""
             }
            },
            "type": "scattergeo"
           }
          ],
          "scattergl": [
           {
            "marker": {
             "colorbar": {
              "outlinewidth": 0,
              "ticks": ""
             }
            },
            "type": "scattergl"
           }
          ],
          "scattermapbox": [
           {
            "marker": {
             "colorbar": {
              "outlinewidth": 0,
              "ticks": ""
             }
            },
            "type": "scattermapbox"
           }
          ],
          "scatterpolar": [
           {
            "marker": {
             "colorbar": {
              "outlinewidth": 0,
              "ticks": ""
             }
            },
            "type": "scatterpolar"
           }
          ],
          "scatterpolargl": [
           {
            "marker": {
             "colorbar": {
              "outlinewidth": 0,
              "ticks": ""
             }
            },
            "type": "scatterpolargl"
           }
          ],
          "scatterternary": [
           {
            "marker": {
             "colorbar": {
              "outlinewidth": 0,
              "ticks": ""
             }
            },
            "type": "scatterternary"
           }
          ],
          "surface": [
           {
            "colorbar": {
             "outlinewidth": 0,
             "ticks": ""
            },
            "colorscale": [
             [
              0,
              "#0d0887"
             ],
             [
              0.1111111111111111,
              "#46039f"
             ],
             [
              0.2222222222222222,
              "#7201a8"
             ],
             [
              0.3333333333333333,
              "#9c179e"
             ],
             [
              0.4444444444444444,
              "#bd3786"
             ],
             [
              0.5555555555555556,
              "#d8576b"
             ],
             [
              0.6666666666666666,
              "#ed7953"
             ],
             [
              0.7777777777777778,
              "#fb9f3a"
             ],
             [
              0.8888888888888888,
              "#fdca26"
             ],
             [
              1,
              "#f0f921"
             ]
            ],
            "type": "surface"
           }
          ],
          "table": [
           {
            "cells": {
             "fill": {
              "color": "#EBF0F8"
             },
             "line": {
              "color": "white"
             }
            },
            "header": {
             "fill": {
              "color": "#C8D4E3"
             },
             "line": {
              "color": "white"
             }
            },
            "type": "table"
           }
          ]
         },
         "layout": {
          "annotationdefaults": {
           "arrowcolor": "#2a3f5f",
           "arrowhead": 0,
           "arrowwidth": 1
          },
          "autotypenumbers": "strict",
          "coloraxis": {
           "colorbar": {
            "outlinewidth": 0,
            "ticks": ""
           }
          },
          "colorscale": {
           "diverging": [
            [
             0,
             "#8e0152"
            ],
            [
             0.1,
             "#c51b7d"
            ],
            [
             0.2,
             "#de77ae"
            ],
            [
             0.3,
             "#f1b6da"
            ],
            [
             0.4,
             "#fde0ef"
            ],
            [
             0.5,
             "#f7f7f7"
            ],
            [
             0.6,
             "#e6f5d0"
            ],
            [
             0.7,
             "#b8e186"
            ],
            [
             0.8,
             "#7fbc41"
            ],
            [
             0.9,
             "#4d9221"
            ],
            [
             1,
             "#276419"
            ]
           ],
           "sequential": [
            [
             0,
             "#0d0887"
            ],
            [
             0.1111111111111111,
             "#46039f"
            ],
            [
             0.2222222222222222,
             "#7201a8"
            ],
            [
             0.3333333333333333,
             "#9c179e"
            ],
            [
             0.4444444444444444,
             "#bd3786"
            ],
            [
             0.5555555555555556,
             "#d8576b"
            ],
            [
             0.6666666666666666,
             "#ed7953"
            ],
            [
             0.7777777777777778,
             "#fb9f3a"
            ],
            [
             0.8888888888888888,
             "#fdca26"
            ],
            [
             1,
             "#f0f921"
            ]
           ],
           "sequentialminus": [
            [
             0,
             "#0d0887"
            ],
            [
             0.1111111111111111,
             "#46039f"
            ],
            [
             0.2222222222222222,
             "#7201a8"
            ],
            [
             0.3333333333333333,
             "#9c179e"
            ],
            [
             0.4444444444444444,
             "#bd3786"
            ],
            [
             0.5555555555555556,
             "#d8576b"
            ],
            [
             0.6666666666666666,
             "#ed7953"
            ],
            [
             0.7777777777777778,
             "#fb9f3a"
            ],
            [
             0.8888888888888888,
             "#fdca26"
            ],
            [
             1,
             "#f0f921"
            ]
           ]
          },
          "colorway": [
           "#636efa",
           "#EF553B",
           "#00cc96",
           "#ab63fa",
           "#FFA15A",
           "#19d3f3",
           "#FF6692",
           "#B6E880",
           "#FF97FF",
           "#FECB52"
          ],
          "font": {
           "color": "#2a3f5f"
          },
          "geo": {
           "bgcolor": "white",
           "lakecolor": "white",
           "landcolor": "#E5ECF6",
           "showlakes": true,
           "showland": true,
           "subunitcolor": "white"
          },
          "hoverlabel": {
           "align": "left"
          },
          "hovermode": "closest",
          "mapbox": {
           "style": "light"
          },
          "paper_bgcolor": "white",
          "plot_bgcolor": "#E5ECF6",
          "polar": {
           "angularaxis": {
            "gridcolor": "white",
            "linecolor": "white",
            "ticks": ""
           },
           "bgcolor": "#E5ECF6",
           "radialaxis": {
            "gridcolor": "white",
            "linecolor": "white",
            "ticks": ""
           }
          },
          "scene": {
           "xaxis": {
            "backgroundcolor": "#E5ECF6",
            "gridcolor": "white",
            "gridwidth": 2,
            "linecolor": "white",
            "showbackground": true,
            "ticks": "",
            "zerolinecolor": "white"
           },
           "yaxis": {
            "backgroundcolor": "#E5ECF6",
            "gridcolor": "white",
            "gridwidth": 2,
            "linecolor": "white",
            "showbackground": true,
            "ticks": "",
            "zerolinecolor": "white"
           },
           "zaxis": {
            "backgroundcolor": "#E5ECF6",
            "gridcolor": "white",
            "gridwidth": 2,
            "linecolor": "white",
            "showbackground": true,
            "ticks": "",
            "zerolinecolor": "white"
           }
          },
          "shapedefaults": {
           "line": {
            "color": "#2a3f5f"
           }
          },
          "ternary": {
           "aaxis": {
            "gridcolor": "white",
            "linecolor": "white",
            "ticks": ""
           },
           "baxis": {
            "gridcolor": "white",
            "linecolor": "white",
            "ticks": ""
           },
           "bgcolor": "#E5ECF6",
           "caxis": {
            "gridcolor": "white",
            "linecolor": "white",
            "ticks": ""
           }
          },
          "title": {
           "x": 0.05
          },
          "xaxis": {
           "automargin": true,
           "gridcolor": "white",
           "linecolor": "white",
           "ticks": "",
           "title": {
            "standoff": 15
           },
           "zerolinecolor": "white",
           "zerolinewidth": 2
          },
          "yaxis": {
           "automargin": true,
           "gridcolor": "white",
           "linecolor": "white",
           "ticks": "",
           "title": {
            "standoff": 15
           },
           "zerolinecolor": "white",
           "zerolinewidth": 2
          }
         }
        },
        "title": {
         "font": {
          "size": 26
         },
         "text": "Longitude VS Latitude VS Price"
        },
        "width": 900,
        "xaxis": {
         "linecolor": "#909497",
         "title": {
          "text": "Longitude"
         }
        },
        "yaxis": {
         "linecolor": "#909497",
         "tickformat": ",",
         "title": {
          "text": "Latitude"
         }
        }
       }
      },
      "text/html": [
       "<div>                            <div id=\"608862a5-95de-451d-b65c-0c254163df5b\" class=\"plotly-graph-div\" style=\"height:720px; width:900px;\"></div>            <script type=\"text/javascript\">                require([\"plotly\"], function(Plotly) {                    window.PLOTLYENV=window.PLOTLYENV || {};                                    if (document.getElementById(\"608862a5-95de-451d-b65c-0c254163df5b\")) {                    Plotly.newPlot(                        \"608862a5-95de-451d-b65c-0c254163df5b\",                        [{\"marker\":{\"color\":[190.0,199.0,56.0,53.0,62.0,70.0,169.0,196.0,126.0,85.0,70.0,69.0,55.0,75.0,55.0,100.0,89.0,55.0,75.0,56.0,95.0,119.0,55.0,39.0,50.0,110.0,95.0,45.0,117.0,145.0,119.0,97.0,79.0,120.0,122.0,140.0,100.0,92.0,125.0,79.0,95.0,109.0,147.0,45.0,88.0,109.0,115.0,120.0,115.0,85.0,88.0,125.0,40.0,100.0,120.0,88.0,115.0,119.0,88.0,175.0,150.0,160.0,75.0,100.0,100.0,125.0,99.0,79.0,110.0,100.0,100.0,115.0,89.0,100.0,113.0,120.0,129.0,130.0,120.0,115.0,149.0,97.0,99.0,130.0,115.0,118.0,75.0,75.0,141.0,99.0,115.0,90.0,113.0,91.0,45.0,80.0,130.0,82.0,131.0,101.0,145.0,145.0,50.0,110.0,75.0,65.0,107.0,100.0,110.0,60.0,105.0,185.0,102.0,104.0,122.0,87.0,55.0,126.0,127.0,122.0,127.0,89.0,103.0,99.0,50.0,85.0,55.0,157.0,120.0,175.0,85.0,78.0,79.0,55.0,175.0,89.0,67.0,45.0,45.0,104.0,100.0,189.0,155.0,110.0,197.0,72.0,33.0,115.0,44.0,77.0,122.0,184.0,184.0,184.0,184.0,45.0,35.0,135.0,105.0,50.0,115.0,129.0,89.0,100.0,108.0,125.0,120.0,114.0,87.0,99.0,110.0,154.0,143.0,83.0,191.0,50.0,50.0,50.0,95.0,50.0,73.0,65.0,120.0,119.0,100.0,102.0,91.0,155.0,60.0,91.0,114.0,90.0,150.0,125.0,105.0,102.0,51.0],\"colorscale\":[[0.0,\"#440154\"],[0.1111111111111111,\"#482878\"],[0.2222222222222222,\"#3e4989\"],[0.3333333333333333,\"#31688e\"],[0.4444444444444444,\"#26828e\"],[0.5555555555555556,\"#1f9e89\"],[0.6666666666666666,\"#35b779\"],[0.7777777777777778,\"#6ece58\"],[0.8888888888888888,\"#b5de2b\"],[1.0,\"#fde725\"]],\"opacity\":0.8,\"size\":12},\"mode\":\"markers\",\"text\":[190.0,199.0,56.0,53.0,62.0,70.0,169.0,196.0,126.0,85.0,70.0,69.0,55.0,75.0,55.0,100.0,89.0,55.0,75.0,56.0,95.0,119.0,55.0,39.0,50.0,110.0,95.0,45.0,117.0,145.0,119.0,97.0,79.0,120.0,122.0,140.0,100.0,92.0,125.0,79.0,95.0,109.0,147.0,45.0,88.0,109.0,115.0,120.0,115.0,85.0,88.0,125.0,40.0,100.0,120.0,88.0,115.0,119.0,88.0,175.0,150.0,160.0,75.0,100.0,100.0,125.0,99.0,79.0,110.0,100.0,100.0,115.0,89.0,100.0,113.0,120.0,129.0,130.0,120.0,115.0,149.0,97.0,99.0,130.0,115.0,118.0,75.0,75.0,141.0,99.0,115.0,90.0,113.0,91.0,45.0,80.0,130.0,82.0,131.0,101.0,145.0,145.0,50.0,110.0,75.0,65.0,107.0,100.0,110.0,60.0,105.0,185.0,102.0,104.0,122.0,87.0,55.0,126.0,127.0,122.0,127.0,89.0,103.0,99.0,50.0,85.0,55.0,157.0,120.0,175.0,85.0,78.0,79.0,55.0,175.0,89.0,67.0,45.0,45.0,104.0,100.0,189.0,155.0,110.0,197.0,72.0,33.0,115.0,44.0,77.0,122.0,184.0,184.0,184.0,184.0,45.0,35.0,135.0,105.0,50.0,115.0,129.0,89.0,100.0,108.0,125.0,120.0,114.0,87.0,99.0,110.0,154.0,143.0,83.0,191.0,50.0,50.0,50.0,95.0,50.0,73.0,65.0,120.0,119.0,100.0,102.0,91.0,155.0,60.0,91.0,114.0,90.0,150.0,125.0,105.0,102.0,51.0],\"x\":[-73.75851,-73.78115,-73.77887,-73.78169,-73.80321,-73.78161,-73.75887,-73.82382,-73.76865,-73.78244,-73.78244,-73.77833,-73.78122,-73.81196,-73.78178,-73.77293,-73.76325,-73.78177642822266,-73.76917,-73.77904,-73.75313,-73.76714,-73.78114,-73.82281,-73.78223,-73.79031,-73.79231,-73.81446,-73.75426,-73.78281,-73.7956,-73.75369,-73.78223,-73.75668,-73.75793,-73.75628,-73.7904,-73.79184,-73.76663,-73.80883,-73.79849,-73.75273894471623,-73.78332,-73.78126,-73.75986,-73.76546,-73.74673,-73.74748,-73.74866,-73.74941,-73.76076,-73.75614,-73.82903,-73.76966,-73.82573,-73.75958,-73.74837,-73.76944,-73.82367,-73.80114,-73.74722,-73.822861,-73.79026,-73.76996,-73.77056,-73.75392,-73.78641,-73.77964,-73.7701,-73.76938,-73.76995,-73.76359,-73.79869,-73.7949665,-73.7679,-73.780815,-73.75684,-73.78426,-73.75861,-73.75928,-73.76797,-73.76455,-73.76196,-73.76538,-73.74743,-73.76367520540953,-73.7992,-73.79908,-73.79749410000001,-73.75676,-73.777,-73.76146,-73.7673156,-73.75261,-73.7818222,-73.761,-73.77685,-73.76792,-73.77997,-73.76831,-73.75975701534425,-73.75971410000001,-73.76732,-73.76953,-73.79091,-73.80719,-73.7642072,-73.75065,-73.76594,-73.81361,-73.75431932508945,-73.7943,-73.77061,-73.77367,-73.77541,-73.7855281,-73.78034,-73.79722,-73.77409,-73.775205,-73.775205,-73.75332,-73.7684199,-73.79418,-73.79032550419785,-73.76917,-73.80479,-73.77469,-73.76976949435519,-73.78619,-73.7586141,-73.74935,-73.81607,-73.80548,-73.78496,-73.76901,-73.7747433,-73.76576,-73.76534029999999,-73.7521,-73.79234533756971,-73.78655,-73.76707,-73.7868778,-73.78299,-73.79158,-73.7807478,-73.79149618599958,-73.78021704609974,-73.79571205018514,-73.77433674199318,-73.77478693204898,-73.77284,-73.77455698333637,-73.77272373106814,-73.7853116,-73.78610658197474,-73.80049,-73.80128215056936,-73.78509801171585,-73.77397295619353,-73.79390939999999,-73.77002141071337,-73.81678288145305,-73.75335661522755,-73.76950465142727,-73.76511947562057,-73.77786945551634,-73.761780139996,-73.80695225761066,-73.7641152,-73.75115885472674,-73.8106566601018,-73.7674333870007,-73.75364650000002,-73.7977054151877,-73.797549986088,-73.79930289371134,-73.76416369206528,-73.7981565369516,-73.77046,-73.7546608201248,-73.76420635863742,-73.76382104785372,-73.7597240543698,-73.77868,-73.76519868723663,-73.79260844002489,-73.78413107868002,-73.76077862456057,-73.78973060044702,-73.75705214104126,-73.7920570376047,-73.76307767802679,-73.7381032862318,-73.77786945551634,-73.79881962357733],\"y\":[42.64484,42.66063,42.65651,42.67614,42.65729,42.65312,42.6436,42.675,42.64939,42.65532,42.65372,42.66045,42.65501,42.65975,42.65431,42.65333,42.65403,42.6543083190918,42.65821,42.65746,42.6737,42.65235,42.6533,42.67519,42.65259,42.66619,42.66827,42.66403,42.64453,42.66257,42.66132,42.64454,42.6545,42.64801,42.64821,42.64713,42.66137,42.66646,42.65345,42.67156,42.6692,42.6511808672392,42.66261,42.65399,42.65429,42.65157,42.65888,42.65901,42.65856,42.65812,42.65269,42.64684,42.67643,42.65934,42.67044,42.65386,42.65812,42.65826,42.67004,42.65824,42.65913,42.674675,42.66261,42.65422,42.65403,42.64459,42.65578,42.65905,42.65902,42.6595,42.6598,42.65848,42.66911,42.652049,42.65353,42.640217,42.65723,42.64372,42.64528,42.64558,42.65323,42.65427,42.64595,42.65389,42.65752,42.65541380925019,42.66758,42.66764,42.6694413,42.65732,42.6623,42.64638,42.6513719,42.64564,42.6543178,42.64469,42.65569,42.6496,42.64284,42.66648,42.64439384900326,42.6444412,42.65259,42.65405,42.66117,42.6601,42.6518469,42.65725,42.65183,42.66298,42.6591503133547,42.6653,42.65489,42.67283,42.65582,42.6538578,42.65741,42.66958,42.65751,42.656329,42.656329,42.65588,42.6684126,42.67239,42.67143614564987,42.65258,42.66109,42.65613,42.66007584297136,42.67336,42.6457663,42.65817,42.66947,42.66128,42.67355,42.65379,42.6599733,42.66246,42.6628771,42.6573,42.66215778253739,42.66087,42.64787,42.6652959,42.66217,42.66261,42.6559529,42.65483722729842,42.654965911269095,42.67066076442359,42.65654925592276,42.658672199777634,42.6606,42.659082586070085,42.65846944486231,42.6708367,42.669735657513975,42.65801,42.65798404004404,42.67033901962889,42.66000843071908,42.6549886,42.65240863051438,42.67059398561849,42.65679550669701,42.65312775001394,42.66627900500492,42.66391565517209,42.65259924007496,42.6709773627501,42.65623,42.65761589542138,42.6554977755084,42.65483900711961,42.64534889999999,42.67002775509383,42.6697096084112,42.66873116573401,42.65538680270734,42.66996089870569,42.6535,42.64713879857583,42.65859808957202,42.65970700274541,42.64655138980193,42.66838,42.65487397780481,42.6759553661711,42.6736802909505,42.65446887973431,42.66106893179246,42.639757084309245,42.659886051712505,42.65098734769702,42.66311590202129,42.663915656143736,42.66943098938467],\"type\":\"scatter\"}],                        {\"template\":{\"data\":{\"histogram2dcontour\":[{\"type\":\"histogram2dcontour\",\"colorbar\":{\"outlinewidth\":0,\"ticks\":\"\"},\"colorscale\":[[0.0,\"#0d0887\"],[0.1111111111111111,\"#46039f\"],[0.2222222222222222,\"#7201a8\"],[0.3333333333333333,\"#9c179e\"],[0.4444444444444444,\"#bd3786\"],[0.5555555555555556,\"#d8576b\"],[0.6666666666666666,\"#ed7953\"],[0.7777777777777778,\"#fb9f3a\"],[0.8888888888888888,\"#fdca26\"],[1.0,\"#f0f921\"]]}],\"choropleth\":[{\"type\":\"choropleth\",\"colorbar\":{\"outlinewidth\":0,\"ticks\":\"\"}}],\"histogram2d\":[{\"type\":\"histogram2d\",\"colorbar\":{\"outlinewidth\":0,\"ticks\":\"\"},\"colorscale\":[[0.0,\"#0d0887\"],[0.1111111111111111,\"#46039f\"],[0.2222222222222222,\"#7201a8\"],[0.3333333333333333,\"#9c179e\"],[0.4444444444444444,\"#bd3786\"],[0.5555555555555556,\"#d8576b\"],[0.6666666666666666,\"#ed7953\"],[0.7777777777777778,\"#fb9f3a\"],[0.8888888888888888,\"#fdca26\"],[1.0,\"#f0f921\"]]}],\"heatmap\":[{\"type\":\"heatmap\",\"colorbar\":{\"outlinewidth\":0,\"ticks\":\"\"},\"colorscale\":[[0.0,\"#0d0887\"],[0.1111111111111111,\"#46039f\"],[0.2222222222222222,\"#7201a8\"],[0.3333333333333333,\"#9c179e\"],[0.4444444444444444,\"#bd3786\"],[0.5555555555555556,\"#d8576b\"],[0.6666666666666666,\"#ed7953\"],[0.7777777777777778,\"#fb9f3a\"],[0.8888888888888888,\"#fdca26\"],[1.0,\"#f0f921\"]]}],\"heatmapgl\":[{\"type\":\"heatmapgl\",\"colorbar\":{\"outlinewidth\":0,\"ticks\":\"\"},\"colorscale\":[[0.0,\"#0d0887\"],[0.1111111111111111,\"#46039f\"],[0.2222222222222222,\"#7201a8\"],[0.3333333333333333,\"#9c179e\"],[0.4444444444444444,\"#bd3786\"],[0.5555555555555556,\"#d8576b\"],[0.6666666666666666,\"#ed7953\"],[0.7777777777777778,\"#fb9f3a\"],[0.8888888888888888,\"#fdca26\"],[1.0,\"#f0f921\"]]}],\"contourcarpet\":[{\"type\":\"contourcarpet\",\"colorbar\":{\"outlinewidth\":0,\"ticks\":\"\"}}],\"contour\":[{\"type\":\"contour\",\"colorbar\":{\"outlinewidth\":0,\"ticks\":\"\"},\"colorscale\":[[0.0,\"#0d0887\"],[0.1111111111111111,\"#46039f\"],[0.2222222222222222,\"#7201a8\"],[0.3333333333333333,\"#9c179e\"],[0.4444444444444444,\"#bd3786\"],[0.5555555555555556,\"#d8576b\"],[0.6666666666666666,\"#ed7953\"],[0.7777777777777778,\"#fb9f3a\"],[0.8888888888888888,\"#fdca26\"],[1.0,\"#f0f921\"]]}],\"surface\":[{\"type\":\"surface\",\"colorbar\":{\"outlinewidth\":0,\"ticks\":\"\"},\"colorscale\":[[0.0,\"#0d0887\"],[0.1111111111111111,\"#46039f\"],[0.2222222222222222,\"#7201a8\"],[0.3333333333333333,\"#9c179e\"],[0.4444444444444444,\"#bd3786\"],[0.5555555555555556,\"#d8576b\"],[0.6666666666666666,\"#ed7953\"],[0.7777777777777778,\"#fb9f3a\"],[0.8888888888888888,\"#fdca26\"],[1.0,\"#f0f921\"]]}],\"mesh3d\":[{\"type\":\"mesh3d\",\"colorbar\":{\"outlinewidth\":0,\"ticks\":\"\"}}],\"scatter\":[{\"fillpattern\":{\"fillmode\":\"overlay\",\"size\":10,\"solidity\":0.2},\"type\":\"scatter\"}],\"parcoords\":[{\"type\":\"parcoords\",\"line\":{\"colorbar\":{\"outlinewidth\":0,\"ticks\":\"\"}}}],\"scatterpolargl\":[{\"type\":\"scatterpolargl\",\"marker\":{\"colorbar\":{\"outlinewidth\":0,\"ticks\":\"\"}}}],\"bar\":[{\"error_x\":{\"color\":\"#2a3f5f\"},\"error_y\":{\"color\":\"#2a3f5f\"},\"marker\":{\"line\":{\"color\":\"#E5ECF6\",\"width\":0.5},\"pattern\":{\"fillmode\":\"overlay\",\"size\":10,\"solidity\":0.2}},\"type\":\"bar\"}],\"scattergeo\":[{\"type\":\"scattergeo\",\"marker\":{\"colorbar\":{\"outlinewidth\":0,\"ticks\":\"\"}}}],\"scatterpolar\":[{\"type\":\"scatterpolar\",\"marker\":{\"colorbar\":{\"outlinewidth\":0,\"ticks\":\"\"}}}],\"histogram\":[{\"marker\":{\"pattern\":{\"fillmode\":\"overlay\",\"size\":10,\"solidity\":0.2}},\"type\":\"histogram\"}],\"scattergl\":[{\"type\":\"scattergl\",\"marker\":{\"colorbar\":{\"outlinewidth\":0,\"ticks\":\"\"}}}],\"scatter3d\":[{\"type\":\"scatter3d\",\"line\":{\"colorbar\":{\"outlinewidth\":0,\"ticks\":\"\"}},\"marker\":{\"colorbar\":{\"outlinewidth\":0,\"ticks\":\"\"}}}],\"scattermapbox\":[{\"type\":\"scattermapbox\",\"marker\":{\"colorbar\":{\"outlinewidth\":0,\"ticks\":\"\"}}}],\"scatterternary\":[{\"type\":\"scatterternary\",\"marker\":{\"colorbar\":{\"outlinewidth\":0,\"ticks\":\"\"}}}],\"scattercarpet\":[{\"type\":\"scattercarpet\",\"marker\":{\"colorbar\":{\"outlinewidth\":0,\"ticks\":\"\"}}}],\"carpet\":[{\"aaxis\":{\"endlinecolor\":\"#2a3f5f\",\"gridcolor\":\"white\",\"linecolor\":\"white\",\"minorgridcolor\":\"white\",\"startlinecolor\":\"#2a3f5f\"},\"baxis\":{\"endlinecolor\":\"#2a3f5f\",\"gridcolor\":\"white\",\"linecolor\":\"white\",\"minorgridcolor\":\"white\",\"startlinecolor\":\"#2a3f5f\"},\"type\":\"carpet\"}],\"table\":[{\"cells\":{\"fill\":{\"color\":\"#EBF0F8\"},\"line\":{\"color\":\"white\"}},\"header\":{\"fill\":{\"color\":\"#C8D4E3\"},\"line\":{\"color\":\"white\"}},\"type\":\"table\"}],\"barpolar\":[{\"marker\":{\"line\":{\"color\":\"#E5ECF6\",\"width\":0.5},\"pattern\":{\"fillmode\":\"overlay\",\"size\":10,\"solidity\":0.2}},\"type\":\"barpolar\"}],\"pie\":[{\"automargin\":true,\"type\":\"pie\"}]},\"layout\":{\"autotypenumbers\":\"strict\",\"colorway\":[\"#636efa\",\"#EF553B\",\"#00cc96\",\"#ab63fa\",\"#FFA15A\",\"#19d3f3\",\"#FF6692\",\"#B6E880\",\"#FF97FF\",\"#FECB52\"],\"font\":{\"color\":\"#2a3f5f\"},\"hovermode\":\"closest\",\"hoverlabel\":{\"align\":\"left\"},\"paper_bgcolor\":\"white\",\"plot_bgcolor\":\"#E5ECF6\",\"polar\":{\"bgcolor\":\"#E5ECF6\",\"angularaxis\":{\"gridcolor\":\"white\",\"linecolor\":\"white\",\"ticks\":\"\"},\"radialaxis\":{\"gridcolor\":\"white\",\"linecolor\":\"white\",\"ticks\":\"\"}},\"ternary\":{\"bgcolor\":\"#E5ECF6\",\"aaxis\":{\"gridcolor\":\"white\",\"linecolor\":\"white\",\"ticks\":\"\"},\"baxis\":{\"gridcolor\":\"white\",\"linecolor\":\"white\",\"ticks\":\"\"},\"caxis\":{\"gridcolor\":\"white\",\"linecolor\":\"white\",\"ticks\":\"\"}},\"coloraxis\":{\"colorbar\":{\"outlinewidth\":0,\"ticks\":\"\"}},\"colorscale\":{\"sequential\":[[0.0,\"#0d0887\"],[0.1111111111111111,\"#46039f\"],[0.2222222222222222,\"#7201a8\"],[0.3333333333333333,\"#9c179e\"],[0.4444444444444444,\"#bd3786\"],[0.5555555555555556,\"#d8576b\"],[0.6666666666666666,\"#ed7953\"],[0.7777777777777778,\"#fb9f3a\"],[0.8888888888888888,\"#fdca26\"],[1.0,\"#f0f921\"]],\"sequentialminus\":[[0.0,\"#0d0887\"],[0.1111111111111111,\"#46039f\"],[0.2222222222222222,\"#7201a8\"],[0.3333333333333333,\"#9c179e\"],[0.4444444444444444,\"#bd3786\"],[0.5555555555555556,\"#d8576b\"],[0.6666666666666666,\"#ed7953\"],[0.7777777777777778,\"#fb9f3a\"],[0.8888888888888888,\"#fdca26\"],[1.0,\"#f0f921\"]],\"diverging\":[[0,\"#8e0152\"],[0.1,\"#c51b7d\"],[0.2,\"#de77ae\"],[0.3,\"#f1b6da\"],[0.4,\"#fde0ef\"],[0.5,\"#f7f7f7\"],[0.6,\"#e6f5d0\"],[0.7,\"#b8e186\"],[0.8,\"#7fbc41\"],[0.9,\"#4d9221\"],[1,\"#276419\"]]},\"xaxis\":{\"gridcolor\":\"white\",\"linecolor\":\"white\",\"ticks\":\"\",\"title\":{\"standoff\":15},\"zerolinecolor\":\"white\",\"automargin\":true,\"zerolinewidth\":2},\"yaxis\":{\"gridcolor\":\"white\",\"linecolor\":\"white\",\"ticks\":\"\",\"title\":{\"standoff\":15},\"zerolinecolor\":\"white\",\"automargin\":true,\"zerolinewidth\":2},\"scene\":{\"xaxis\":{\"backgroundcolor\":\"#E5ECF6\",\"gridcolor\":\"white\",\"linecolor\":\"white\",\"showbackground\":true,\"ticks\":\"\",\"zerolinecolor\":\"white\",\"gridwidth\":2},\"yaxis\":{\"backgroundcolor\":\"#E5ECF6\",\"gridcolor\":\"white\",\"linecolor\":\"white\",\"showbackground\":true,\"ticks\":\"\",\"zerolinecolor\":\"white\",\"gridwidth\":2},\"zaxis\":{\"backgroundcolor\":\"#E5ECF6\",\"gridcolor\":\"white\",\"linecolor\":\"white\",\"showbackground\":true,\"ticks\":\"\",\"zerolinecolor\":\"white\",\"gridwidth\":2}},\"shapedefaults\":{\"line\":{\"color\":\"#2a3f5f\"}},\"annotationdefaults\":{\"arrowcolor\":\"#2a3f5f\",\"arrowhead\":0,\"arrowwidth\":1},\"geo\":{\"bgcolor\":\"white\",\"landcolor\":\"#E5ECF6\",\"subunitcolor\":\"white\",\"showland\":true,\"showlakes\":true,\"lakecolor\":\"white\"},\"title\":{\"x\":0.05},\"mapbox\":{\"style\":\"light\"}}},\"font\":{\"color\":\"#909497\",\"size\":18},\"title\":{\"font\":{\"size\":26},\"text\":\"Longitude VS Latitude VS Price\"},\"xaxis\":{\"title\":{\"text\":\"Longitude\"},\"linecolor\":\"#909497\"},\"yaxis\":{\"title\":{\"text\":\"Latitude\"},\"tickformat\":\",\",\"linecolor\":\"#909497\"},\"margin\":{\"t\":100,\"r\":80,\"b\":80,\"l\":120},\"plot_bgcolor\":\"white\",\"height\":720,\"width\":900},                        {\"responsive\": true}                    ).then(function(){\n",
       "                            \n",
       "var gd = document.getElementById('608862a5-95de-451d-b65c-0c254163df5b');\n",
       "var x = new MutationObserver(function (mutations, observer) {{\n",
       "        var display = window.getComputedStyle(gd).display;\n",
       "        if (!display || display === 'none') {{\n",
       "            console.log([gd, 'removed!']);\n",
       "            Plotly.purge(gd);\n",
       "            observer.disconnect();\n",
       "        }}\n",
       "}});\n",
       "\n",
       "// Listen for the removal of the full notebook cells\n",
       "var notebookContainer = gd.closest('#notebook-container');\n",
       "if (notebookContainer) {{\n",
       "    x.observe(notebookContainer, {childList: true});\n",
       "}}\n",
       "\n",
       "// Listen for the clearing of the current output cell\n",
       "var outputEl = gd.closest('.output');\n",
       "if (outputEl) {{\n",
       "    x.observe(outputEl, {childList: true});\n",
       "}}\n",
       "\n",
       "                        })                };                });            </script>        </div>"
      ]
     },
     "metadata": {},
     "output_type": "display_data"
    }
   ],
   "source": [
    "fig = go.Figure()\n",
    "\n",
    "\n",
    "fig.add_trace(go.Scatter(x = data_without_outliers.longitude, y = data_without_outliers.latitude,\n",
    "\n",
    "                        mode = \"markers\",\n",
    "                        text=data_without_outliers.price,\n",
    "                             marker=dict(\n",
    "        size=12,\n",
    "        color=data_without_outliers[\"price\"],\n",
    "        colorscale='Viridis',\n",
    "        opacity=0.8\n",
    "    )\n",
    "                        ))\n",
    "\n",
    "\n",
    "fig.update_layout(plot_bgcolor = \"white\",\n",
    "                 font = dict(color = \"#909497\", size = 18),\n",
    "                 title = dict(text = \"Longitude VS Latitude VS Price\", font = dict(size = 26)),\n",
    "                 xaxis = dict(title = \"Longitude\", linecolor = \"#909497\"),\n",
    "                 yaxis = dict(title = \"Latitude\", tickformat = \",\", linecolor = \"#909497\"),\n",
    "                 margin = dict(t = 100, r = 80, b = 80, l = 120),\n",
    "                 height = 720,\n",
    "                 width = 900)\n",
    "\n",
    "\n",
    "fig.show()        "
   ]
  },
  {
   "cell_type": "markdown",
   "id": "67c762e3",
   "metadata": {},
   "source": [
    "### Data Preprocessing "
   ]
  },
  {
   "cell_type": "code",
   "execution_count": 29,
   "id": "ddc520e5",
   "metadata": {},
   "outputs": [],
   "source": [
    "# data_without_outliers.neighbourhood = data_without_outliers.neighbourhood.replace({k : i for i , k in enumerate(df.neighbourhood.unique())}) \n",
    "data = data_without_outliers.join(pd.get_dummies(data_without_outliers.neighbourhood))"
   ]
  },
  {
   "cell_type": "code",
   "execution_count": 30,
   "id": "e35b6ead",
   "metadata": {},
   "outputs": [],
   "source": [
    "data = data.join(pd.get_dummies(data_without_outliers.room_type).drop(\"Shared room\" , axis = 1))"
   ]
  },
  {
   "cell_type": "code",
   "execution_count": 31,
   "id": "5aa33a05",
   "metadata": {},
   "outputs": [],
   "source": [
    "data = data.drop([\"name\" , \n",
    "                                                    \"host_name\" , \n",
    "                                                    \"price_cat\" , \n",
    "                                                    \"room_type\",\n",
    "                                                    \"last_review\",\n",
    "                                                    \"neighbourhood\"] , axis = 1)"
   ]
  },
  {
   "cell_type": "markdown",
   "id": "6e8ff662",
   "metadata": {},
   "source": [
    "##### take only 15 features from data that has more relation with price "
   ]
  },
  {
   "cell_type": "code",
   "execution_count": 32,
   "id": "98213805",
   "metadata": {},
   "outputs": [],
   "source": [
    "corr = (data[data.corr()[\"price\"].abs().sort_values(ascending = False)[: 15].index]).corr()"
   ]
  },
  {
   "cell_type": "markdown",
   "id": "fa5bbd1f",
   "metadata": {},
   "source": [
    "##### Try to Create a mask for heatmap but idk how to do it  TODO\n"
   ]
  },
  {
   "cell_type": "code",
   "execution_count": 33,
   "id": "e48d4d31",
   "metadata": {},
   "outputs": [],
   "source": [
    "mask = np.tri(corr.values.shape[0], k=-1)"
   ]
  },
  {
   "cell_type": "code",
   "execution_count": 34,
   "id": "3e3a118e",
   "metadata": {},
   "outputs": [],
   "source": [
    "masked_matrix = np.ma.array(corr.values, mask=mask)"
   ]
  },
  {
   "cell_type": "code",
   "execution_count": null,
   "id": "5d3d869e",
   "metadata": {},
   "outputs": [],
   "source": []
  },
  {
   "cell_type": "code",
   "execution_count": null,
   "id": "dba10f90",
   "metadata": {},
   "outputs": [],
   "source": []
  },
  {
   "cell_type": "code",
   "execution_count": 41,
   "id": "d32ecaaa",
   "metadata": {},
   "outputs": [
    {
     "data": {
      "application/vnd.plotly.v1+json": {
       "config": {
        "plotlyServerURL": "https://plot.ly"
       },
       "data": [
        {
         "colorscale": [
          [
           0,
           "#440154"
          ],
          [
           0.1111111111111111,
           "#482878"
          ],
          [
           0.2222222222222222,
           "#3e4989"
          ],
          [
           0.3333333333333333,
           "#31688e"
          ],
          [
           0.4444444444444444,
           "#26828e"
          ],
          [
           0.5555555555555556,
           "#1f9e89"
          ],
          [
           0.6666666666666666,
           "#35b779"
          ],
          [
           0.7777777777777778,
           "#6ece58"
          ],
          [
           0.8888888888888888,
           "#b5de2b"
          ],
          [
           1,
           "#fde725"
          ]
         ],
         "showscale": false,
         "type": "heatmap",
         "x": [
          "price",
          "Private room",
          "Entire home/apt",
          "longitude",
          "TWELFTH WARD",
          "THIRTEENTH WARD",
          "NINTH WARD",
          "SECOND WARD",
          "minimum_nights",
          "latitude",
          "FOURTEENTH WARD",
          "calculated_host_listings_count",
          "host_id",
          "TENTH WARD",
          "EIGHTH WARD"
         ],
         "y": [
          "price",
          "Private room",
          "Entire home/apt",
          "longitude",
          "TWELFTH WARD",
          "THIRTEENTH WARD",
          "NINTH WARD",
          "SECOND WARD",
          "minimum_nights",
          "latitude",
          "FOURTEENTH WARD",
          "calculated_host_listings_count",
          "host_id",
          "TENTH WARD",
          "EIGHTH WARD"
         ],
         "z": [
          [
           1,
           -0.37960994238254125,
           0.3773790986504099,
           0.18063941548155496,
           0.16892352170320543,
           -0.1654361036346305,
           -0.1633126654618593,
           0.1614888650236712,
           -0.15954794797430602,
           -0.1485678281523025,
           -0.12514840429532934,
           0.12445927218936911,
           0.10511211300357454,
           0.0862292590873276,
           0.07677205848434446
          ],
          [
           -0.37960994238254125,
           1,
           -0.9882492713839421,
           -0.2925036776138387,
           -0.06782552365537022,
           0.12241019786409733,
           0.1869147539857946,
           -0.16018552423264146,
           -0.02833812153587517,
           0.22207048836216828,
           0.16866281528297297,
           0.06219045067771544,
           0.008906790926500721,
           0.05435120538361866,
           -0.047837384608133166
          ],
          [
           0.3773790986504099,
           -0.9882492713839421,
           1,
           0.26835012130926894,
           0.06863199965772565,
           -0.11861806614266111,
           -0.18201547800571632,
           0.16325148416218024,
           0.037126111020412446,
           -0.22748749501693225,
           -0.1644494304325918,
           -0.05198691370858946,
           -0.008493905982888784,
           -0.05064426253369047,
           0.04840619264119658
          ],
          [
           0.18063941548155496,
           -0.2925036776138387,
           0.26835012130926894,
           1,
           -0.06800050738027677,
           -0.2810986951387339,
           -0.11109277887530115,
           0.3577298963495888,
           -0.11573538809162949,
           -0.6018966504462467,
           -0.472671452073782,
           0.11767758382378787,
           -0.07228740992265416,
           -0.11185954473596207,
           -0.129736678503953
          ],
          [
           0.16892352170320543,
           -0.06782552365537022,
           0.06863199965772565,
           -0.06800050738027677,
           1,
           -0.030110529729093994,
           -0.0377207449826399,
           -0.03498251311407208,
           0.1413067355419293,
           0.2024649909833025,
           -0.03211496323792227,
           -0.07995347249514072,
           -0.001617935128322038,
           -0.032114963237922275,
           -0.007233852622026192
          ],
          [
           -0.1654361036346305,
           0.12241019786409733,
           -0.11861806614266111,
           -0.2810986951387339,
           -0.030110529729093994,
           1,
           -0.11073968228732681,
           -0.10270084510916956,
           0.05880678322054928,
           0.3949707508227619,
           -0.09428235914411134,
           0.1494380403625711,
           0.07681438279119443,
           -0.09428235914411136,
           -0.021236975607061902
          ],
          [
           -0.1633126654618593,
           0.1869147539857946,
           -0.18201547800571632,
           -0.11109277887530115,
           -0.0377207449826399,
           -0.11073968228732681,
           1,
           -0.12865772946270732,
           0.08510628578074181,
           -0.15017060933685453,
           -0.11811153299639084,
           -0.013777776308529452,
           0.012303791618905845,
           -0.1181115329963908,
           -0.026604465224751465
          ],
          [
           0.1614888650236712,
           -0.16018552423264146,
           0.16325148416218024,
           0.3577298963495888,
           -0.03498251311407208,
           -0.10270084510916956,
           -0.12865772946270732,
           1,
           -0.11198548783313404,
           -0.5468698020076974,
           -0.10953755695628438,
           0.08493940883688617,
           -0.017985917519657547,
           -0.10953755695628437,
           -0.02467318856099135
          ],
          [
           -0.15954794797430602,
           -0.02833812153587517,
           0.037126111020412446,
           -0.11573538809162949,
           0.1413067355419293,
           0.05880678322054928,
           0.08510628578074181,
           -0.11198548783313404,
           1,
           0.10952317250191557,
           -0.05087575553420215,
           -0.23579745400673893,
           -0.17899508976475806,
           -0.024910667865192263,
           0.04702631749564261
          ],
          [
           -0.1485678281523025,
           0.22207048836216828,
           -0.22748749501693225,
           -0.6018966504462467,
           0.2024649909833025,
           0.3949707508227619,
           -0.15017060933685453,
           -0.5468698020076974,
           0.10952317250191557,
           1,
           0.20133471953373977,
           -0.014003686768577057,
           0.07644686767550607,
           0.09331837386364977,
           -0.0248165296952828
          ],
          [
           -0.12514840429532934,
           0.16866281528297297,
           -0.1644494304325918,
           -0.472671452073782,
           -0.03211496323792227,
           -0.09428235914411134,
           -0.11811153299639084,
           -0.10953755695628438,
           -0.05087575553420215,
           0.20133471953373977,
           1,
           -0.03266187308679966,
           0.13534608701673737,
           -0.10055865921787718,
           -0.022650703824929574
          ],
          [
           0.12445927218936911,
           0.06219045067771544,
           -0.05198691370858946,
           0.11767758382378787,
           -0.07995347249514072,
           0.1494380403625711,
           -0.013777776308529452,
           0.08493940883688617,
           -0.23579745400673893,
           -0.014003686768577057,
           -0.03266187308679966,
           1,
           -0.19580873414247973,
           0.0008287658102701257,
           -0.0648779215182327
          ],
          [
           0.10511211300357454,
           0.008906790926500721,
           -0.008493905982888784,
           -0.07228740992265416,
           -0.001617935128322038,
           0.07681438279119443,
           0.012303791618905845,
           -0.017985917519657547,
           -0.17899508976475806,
           0.07644686767550607,
           0.13534608701673737,
           -0.19580873414247973,
           1,
           -0.012765589060753103,
           -0.07621991437632604
          ],
          [
           0.0862292590873276,
           0.05435120538361866,
           -0.05064426253369047,
           -0.11185954473596207,
           -0.032114963237922275,
           -0.09428235914411136,
           -0.1181115329963908,
           -0.10953755695628437,
           -0.024910667865192263,
           0.09331837386364977,
           -0.10055865921787718,
           0.0008287658102701257,
           -0.012765589060753103,
           1,
           -0.02265070382492958
          ],
          [
           0.07677205848434446,
           -0.047837384608133166,
           0.04840619264119658,
           -0.129736678503953,
           -0.007233852622026192,
           -0.021236975607061902,
           -0.026604465224751465,
           -0.02467318856099135,
           0.04702631749564261,
           -0.0248165296952828,
           -0.022650703824929574,
           -0.0648779215182327,
           -0.07621991437632604,
           -0.02265070382492958,
           1
          ]
         ]
        }
       ],
       "layout": {
        "annotations": [
         {
          "showarrow": false,
          "text": "1.0",
          "x": "price",
          "y": "price"
         },
         {
          "showarrow": false,
          "text": "-0.38",
          "x": "Private room",
          "y": "price"
         },
         {
          "showarrow": false,
          "text": "0.38",
          "x": "Entire home/apt",
          "y": "price"
         },
         {
          "showarrow": false,
          "text": "0.18",
          "x": "longitude",
          "y": "price"
         },
         {
          "showarrow": false,
          "text": "0.17",
          "x": "TWELFTH WARD",
          "y": "price"
         },
         {
          "showarrow": false,
          "text": "-0.17",
          "x": "THIRTEENTH WARD",
          "y": "price"
         },
         {
          "showarrow": false,
          "text": "-0.16",
          "x": "NINTH WARD",
          "y": "price"
         },
         {
          "showarrow": false,
          "text": "0.16",
          "x": "SECOND WARD",
          "y": "price"
         },
         {
          "showarrow": false,
          "text": "-0.16",
          "x": "minimum_nights",
          "y": "price"
         },
         {
          "showarrow": false,
          "text": "-0.15",
          "x": "latitude",
          "y": "price"
         },
         {
          "showarrow": false,
          "text": "-0.13",
          "x": "FOURTEENTH WARD",
          "y": "price"
         },
         {
          "showarrow": false,
          "text": "0.12",
          "x": "calculated_host_listings_count",
          "y": "price"
         },
         {
          "showarrow": false,
          "text": "0.11",
          "x": "host_id",
          "y": "price"
         },
         {
          "showarrow": false,
          "text": "0.09",
          "x": "TENTH WARD",
          "y": "price"
         },
         {
          "showarrow": false,
          "text": "0.08",
          "x": "EIGHTH WARD",
          "y": "price"
         },
         {
          "showarrow": false,
          "text": "-0.38",
          "x": "price",
          "y": "Private room"
         },
         {
          "showarrow": false,
          "text": "1.0",
          "x": "Private room",
          "y": "Private room"
         },
         {
          "showarrow": false,
          "text": "-0.99",
          "x": "Entire home/apt",
          "y": "Private room"
         },
         {
          "showarrow": false,
          "text": "-0.29",
          "x": "longitude",
          "y": "Private room"
         },
         {
          "showarrow": false,
          "text": "-0.07",
          "x": "TWELFTH WARD",
          "y": "Private room"
         },
         {
          "showarrow": false,
          "text": "0.12",
          "x": "THIRTEENTH WARD",
          "y": "Private room"
         },
         {
          "showarrow": false,
          "text": "0.19",
          "x": "NINTH WARD",
          "y": "Private room"
         },
         {
          "showarrow": false,
          "text": "-0.16",
          "x": "SECOND WARD",
          "y": "Private room"
         },
         {
          "showarrow": false,
          "text": "-0.03",
          "x": "minimum_nights",
          "y": "Private room"
         },
         {
          "showarrow": false,
          "text": "0.22",
          "x": "latitude",
          "y": "Private room"
         },
         {
          "showarrow": false,
          "text": "0.17",
          "x": "FOURTEENTH WARD",
          "y": "Private room"
         },
         {
          "showarrow": false,
          "text": "0.06",
          "x": "calculated_host_listings_count",
          "y": "Private room"
         },
         {
          "showarrow": false,
          "text": "0.01",
          "x": "host_id",
          "y": "Private room"
         },
         {
          "showarrow": false,
          "text": "0.05",
          "x": "TENTH WARD",
          "y": "Private room"
         },
         {
          "showarrow": false,
          "text": "-0.05",
          "x": "EIGHTH WARD",
          "y": "Private room"
         },
         {
          "showarrow": false,
          "text": "0.38",
          "x": "price",
          "y": "Entire home/apt"
         },
         {
          "showarrow": false,
          "text": "-0.99",
          "x": "Private room",
          "y": "Entire home/apt"
         },
         {
          "showarrow": false,
          "text": "1.0",
          "x": "Entire home/apt",
          "y": "Entire home/apt"
         },
         {
          "showarrow": false,
          "text": "0.27",
          "x": "longitude",
          "y": "Entire home/apt"
         },
         {
          "showarrow": false,
          "text": "0.07",
          "x": "TWELFTH WARD",
          "y": "Entire home/apt"
         },
         {
          "showarrow": false,
          "text": "-0.12",
          "x": "THIRTEENTH WARD",
          "y": "Entire home/apt"
         },
         {
          "showarrow": false,
          "text": "-0.18",
          "x": "NINTH WARD",
          "y": "Entire home/apt"
         },
         {
          "showarrow": false,
          "text": "0.16",
          "x": "SECOND WARD",
          "y": "Entire home/apt"
         },
         {
          "showarrow": false,
          "text": "0.04",
          "x": "minimum_nights",
          "y": "Entire home/apt"
         },
         {
          "showarrow": false,
          "text": "-0.23",
          "x": "latitude",
          "y": "Entire home/apt"
         },
         {
          "showarrow": false,
          "text": "-0.16",
          "x": "FOURTEENTH WARD",
          "y": "Entire home/apt"
         },
         {
          "showarrow": false,
          "text": "-0.05",
          "x": "calculated_host_listings_count",
          "y": "Entire home/apt"
         },
         {
          "showarrow": false,
          "text": "-0.01",
          "x": "host_id",
          "y": "Entire home/apt"
         },
         {
          "showarrow": false,
          "text": "-0.05",
          "x": "TENTH WARD",
          "y": "Entire home/apt"
         },
         {
          "showarrow": false,
          "text": "0.05",
          "x": "EIGHTH WARD",
          "y": "Entire home/apt"
         },
         {
          "showarrow": false,
          "text": "0.18",
          "x": "price",
          "y": "longitude"
         },
         {
          "showarrow": false,
          "text": "-0.29",
          "x": "Private room",
          "y": "longitude"
         },
         {
          "showarrow": false,
          "text": "0.27",
          "x": "Entire home/apt",
          "y": "longitude"
         },
         {
          "showarrow": false,
          "text": "1.0",
          "x": "longitude",
          "y": "longitude"
         },
         {
          "showarrow": false,
          "text": "-0.07",
          "x": "TWELFTH WARD",
          "y": "longitude"
         },
         {
          "showarrow": false,
          "text": "-0.28",
          "x": "THIRTEENTH WARD",
          "y": "longitude"
         },
         {
          "showarrow": false,
          "text": "-0.11",
          "x": "NINTH WARD",
          "y": "longitude"
         },
         {
          "showarrow": false,
          "text": "0.36",
          "x": "SECOND WARD",
          "y": "longitude"
         },
         {
          "showarrow": false,
          "text": "-0.12",
          "x": "minimum_nights",
          "y": "longitude"
         },
         {
          "showarrow": false,
          "text": "-0.6",
          "x": "latitude",
          "y": "longitude"
         },
         {
          "showarrow": false,
          "text": "-0.47",
          "x": "FOURTEENTH WARD",
          "y": "longitude"
         },
         {
          "showarrow": false,
          "text": "0.12",
          "x": "calculated_host_listings_count",
          "y": "longitude"
         },
         {
          "showarrow": false,
          "text": "-0.07",
          "x": "host_id",
          "y": "longitude"
         },
         {
          "showarrow": false,
          "text": "-0.11",
          "x": "TENTH WARD",
          "y": "longitude"
         },
         {
          "showarrow": false,
          "text": "-0.13",
          "x": "EIGHTH WARD",
          "y": "longitude"
         },
         {
          "showarrow": false,
          "text": "0.17",
          "x": "price",
          "y": "TWELFTH WARD"
         },
         {
          "showarrow": false,
          "text": "-0.07",
          "x": "Private room",
          "y": "TWELFTH WARD"
         },
         {
          "showarrow": false,
          "text": "0.07",
          "x": "Entire home/apt",
          "y": "TWELFTH WARD"
         },
         {
          "showarrow": false,
          "text": "-0.07",
          "x": "longitude",
          "y": "TWELFTH WARD"
         },
         {
          "showarrow": false,
          "text": "1.0",
          "x": "TWELFTH WARD",
          "y": "TWELFTH WARD"
         },
         {
          "showarrow": false,
          "text": "-0.03",
          "x": "THIRTEENTH WARD",
          "y": "TWELFTH WARD"
         },
         {
          "showarrow": false,
          "text": "-0.04",
          "x": "NINTH WARD",
          "y": "TWELFTH WARD"
         },
         {
          "showarrow": false,
          "text": "-0.03",
          "x": "SECOND WARD",
          "y": "TWELFTH WARD"
         },
         {
          "showarrow": false,
          "text": "0.14",
          "x": "minimum_nights",
          "y": "TWELFTH WARD"
         },
         {
          "showarrow": false,
          "text": "0.2",
          "x": "latitude",
          "y": "TWELFTH WARD"
         },
         {
          "showarrow": false,
          "text": "-0.03",
          "x": "FOURTEENTH WARD",
          "y": "TWELFTH WARD"
         },
         {
          "showarrow": false,
          "text": "-0.08",
          "x": "calculated_host_listings_count",
          "y": "TWELFTH WARD"
         },
         {
          "showarrow": false,
          "text": "-0.0",
          "x": "host_id",
          "y": "TWELFTH WARD"
         },
         {
          "showarrow": false,
          "text": "-0.03",
          "x": "TENTH WARD",
          "y": "TWELFTH WARD"
         },
         {
          "showarrow": false,
          "text": "-0.01",
          "x": "EIGHTH WARD",
          "y": "TWELFTH WARD"
         },
         {
          "showarrow": false,
          "text": "-0.17",
          "x": "price",
          "y": "THIRTEENTH WARD"
         },
         {
          "showarrow": false,
          "text": "0.12",
          "x": "Private room",
          "y": "THIRTEENTH WARD"
         },
         {
          "showarrow": false,
          "text": "-0.12",
          "x": "Entire home/apt",
          "y": "THIRTEENTH WARD"
         },
         {
          "showarrow": false,
          "text": "-0.28",
          "x": "longitude",
          "y": "THIRTEENTH WARD"
         },
         {
          "showarrow": false,
          "text": "-0.03",
          "x": "TWELFTH WARD",
          "y": "THIRTEENTH WARD"
         },
         {
          "showarrow": false,
          "text": "1.0",
          "x": "THIRTEENTH WARD",
          "y": "THIRTEENTH WARD"
         },
         {
          "showarrow": false,
          "text": "-0.11",
          "x": "NINTH WARD",
          "y": "THIRTEENTH WARD"
         },
         {
          "showarrow": false,
          "text": "-0.1",
          "x": "SECOND WARD",
          "y": "THIRTEENTH WARD"
         },
         {
          "showarrow": false,
          "text": "0.06",
          "x": "minimum_nights",
          "y": "THIRTEENTH WARD"
         },
         {
          "showarrow": false,
          "text": "0.39",
          "x": "latitude",
          "y": "THIRTEENTH WARD"
         },
         {
          "showarrow": false,
          "text": "-0.09",
          "x": "FOURTEENTH WARD",
          "y": "THIRTEENTH WARD"
         },
         {
          "showarrow": false,
          "text": "0.15",
          "x": "calculated_host_listings_count",
          "y": "THIRTEENTH WARD"
         },
         {
          "showarrow": false,
          "text": "0.08",
          "x": "host_id",
          "y": "THIRTEENTH WARD"
         },
         {
          "showarrow": false,
          "text": "-0.09",
          "x": "TENTH WARD",
          "y": "THIRTEENTH WARD"
         },
         {
          "showarrow": false,
          "text": "-0.02",
          "x": "EIGHTH WARD",
          "y": "THIRTEENTH WARD"
         },
         {
          "showarrow": false,
          "text": "-0.16",
          "x": "price",
          "y": "NINTH WARD"
         },
         {
          "showarrow": false,
          "text": "0.19",
          "x": "Private room",
          "y": "NINTH WARD"
         },
         {
          "showarrow": false,
          "text": "-0.18",
          "x": "Entire home/apt",
          "y": "NINTH WARD"
         },
         {
          "showarrow": false,
          "text": "-0.11",
          "x": "longitude",
          "y": "NINTH WARD"
         },
         {
          "showarrow": false,
          "text": "-0.04",
          "x": "TWELFTH WARD",
          "y": "NINTH WARD"
         },
         {
          "showarrow": false,
          "text": "-0.11",
          "x": "THIRTEENTH WARD",
          "y": "NINTH WARD"
         },
         {
          "showarrow": false,
          "text": "1.0",
          "x": "NINTH WARD",
          "y": "NINTH WARD"
         },
         {
          "showarrow": false,
          "text": "-0.13",
          "x": "SECOND WARD",
          "y": "NINTH WARD"
         },
         {
          "showarrow": false,
          "text": "0.09",
          "x": "minimum_nights",
          "y": "NINTH WARD"
         },
         {
          "showarrow": false,
          "text": "-0.15",
          "x": "latitude",
          "y": "NINTH WARD"
         },
         {
          "showarrow": false,
          "text": "-0.12",
          "x": "FOURTEENTH WARD",
          "y": "NINTH WARD"
         },
         {
          "showarrow": false,
          "text": "-0.01",
          "x": "calculated_host_listings_count",
          "y": "NINTH WARD"
         },
         {
          "showarrow": false,
          "text": "0.01",
          "x": "host_id",
          "y": "NINTH WARD"
         },
         {
          "showarrow": false,
          "text": "-0.12",
          "x": "TENTH WARD",
          "y": "NINTH WARD"
         },
         {
          "showarrow": false,
          "text": "-0.03",
          "x": "EIGHTH WARD",
          "y": "NINTH WARD"
         },
         {
          "showarrow": false,
          "text": "0.16",
          "x": "price",
          "y": "SECOND WARD"
         },
         {
          "showarrow": false,
          "text": "-0.16",
          "x": "Private room",
          "y": "SECOND WARD"
         },
         {
          "showarrow": false,
          "text": "0.16",
          "x": "Entire home/apt",
          "y": "SECOND WARD"
         },
         {
          "showarrow": false,
          "text": "0.36",
          "x": "longitude",
          "y": "SECOND WARD"
         },
         {
          "showarrow": false,
          "text": "-0.03",
          "x": "TWELFTH WARD",
          "y": "SECOND WARD"
         },
         {
          "showarrow": false,
          "text": "-0.1",
          "x": "THIRTEENTH WARD",
          "y": "SECOND WARD"
         },
         {
          "showarrow": false,
          "text": "-0.13",
          "x": "NINTH WARD",
          "y": "SECOND WARD"
         },
         {
          "showarrow": false,
          "text": "1.0",
          "x": "SECOND WARD",
          "y": "SECOND WARD"
         },
         {
          "showarrow": false,
          "text": "-0.11",
          "x": "minimum_nights",
          "y": "SECOND WARD"
         },
         {
          "showarrow": false,
          "text": "-0.55",
          "x": "latitude",
          "y": "SECOND WARD"
         },
         {
          "showarrow": false,
          "text": "-0.11",
          "x": "FOURTEENTH WARD",
          "y": "SECOND WARD"
         },
         {
          "showarrow": false,
          "text": "0.08",
          "x": "calculated_host_listings_count",
          "y": "SECOND WARD"
         },
         {
          "showarrow": false,
          "text": "-0.02",
          "x": "host_id",
          "y": "SECOND WARD"
         },
         {
          "showarrow": false,
          "text": "-0.11",
          "x": "TENTH WARD",
          "y": "SECOND WARD"
         },
         {
          "showarrow": false,
          "text": "-0.02",
          "x": "EIGHTH WARD",
          "y": "SECOND WARD"
         },
         {
          "showarrow": false,
          "text": "-0.16",
          "x": "price",
          "y": "minimum_nights"
         },
         {
          "showarrow": false,
          "text": "-0.03",
          "x": "Private room",
          "y": "minimum_nights"
         },
         {
          "showarrow": false,
          "text": "0.04",
          "x": "Entire home/apt",
          "y": "minimum_nights"
         },
         {
          "showarrow": false,
          "text": "-0.12",
          "x": "longitude",
          "y": "minimum_nights"
         },
         {
          "showarrow": false,
          "text": "0.14",
          "x": "TWELFTH WARD",
          "y": "minimum_nights"
         },
         {
          "showarrow": false,
          "text": "0.06",
          "x": "THIRTEENTH WARD",
          "y": "minimum_nights"
         },
         {
          "showarrow": false,
          "text": "0.09",
          "x": "NINTH WARD",
          "y": "minimum_nights"
         },
         {
          "showarrow": false,
          "text": "-0.11",
          "x": "SECOND WARD",
          "y": "minimum_nights"
         },
         {
          "showarrow": false,
          "text": "1.0",
          "x": "minimum_nights",
          "y": "minimum_nights"
         },
         {
          "showarrow": false,
          "text": "0.11",
          "x": "latitude",
          "y": "minimum_nights"
         },
         {
          "showarrow": false,
          "text": "-0.05",
          "x": "FOURTEENTH WARD",
          "y": "minimum_nights"
         },
         {
          "showarrow": false,
          "text": "-0.24",
          "x": "calculated_host_listings_count",
          "y": "minimum_nights"
         },
         {
          "showarrow": false,
          "text": "-0.18",
          "x": "host_id",
          "y": "minimum_nights"
         },
         {
          "showarrow": false,
          "text": "-0.02",
          "x": "TENTH WARD",
          "y": "minimum_nights"
         },
         {
          "showarrow": false,
          "text": "0.05",
          "x": "EIGHTH WARD",
          "y": "minimum_nights"
         },
         {
          "showarrow": false,
          "text": "-0.15",
          "x": "price",
          "y": "latitude"
         },
         {
          "showarrow": false,
          "text": "0.22",
          "x": "Private room",
          "y": "latitude"
         },
         {
          "showarrow": false,
          "text": "-0.23",
          "x": "Entire home/apt",
          "y": "latitude"
         },
         {
          "showarrow": false,
          "text": "-0.6",
          "x": "longitude",
          "y": "latitude"
         },
         {
          "showarrow": false,
          "text": "0.2",
          "x": "TWELFTH WARD",
          "y": "latitude"
         },
         {
          "showarrow": false,
          "text": "0.39",
          "x": "THIRTEENTH WARD",
          "y": "latitude"
         },
         {
          "showarrow": false,
          "text": "-0.15",
          "x": "NINTH WARD",
          "y": "latitude"
         },
         {
          "showarrow": false,
          "text": "-0.55",
          "x": "SECOND WARD",
          "y": "latitude"
         },
         {
          "showarrow": false,
          "text": "0.11",
          "x": "minimum_nights",
          "y": "latitude"
         },
         {
          "showarrow": false,
          "text": "1.0",
          "x": "latitude",
          "y": "latitude"
         },
         {
          "showarrow": false,
          "text": "0.2",
          "x": "FOURTEENTH WARD",
          "y": "latitude"
         },
         {
          "showarrow": false,
          "text": "-0.01",
          "x": "calculated_host_listings_count",
          "y": "latitude"
         },
         {
          "showarrow": false,
          "text": "0.08",
          "x": "host_id",
          "y": "latitude"
         },
         {
          "showarrow": false,
          "text": "0.09",
          "x": "TENTH WARD",
          "y": "latitude"
         },
         {
          "showarrow": false,
          "text": "-0.02",
          "x": "EIGHTH WARD",
          "y": "latitude"
         },
         {
          "showarrow": false,
          "text": "-0.13",
          "x": "price",
          "y": "FOURTEENTH WARD"
         },
         {
          "showarrow": false,
          "text": "0.17",
          "x": "Private room",
          "y": "FOURTEENTH WARD"
         },
         {
          "showarrow": false,
          "text": "-0.16",
          "x": "Entire home/apt",
          "y": "FOURTEENTH WARD"
         },
         {
          "showarrow": false,
          "text": "-0.47",
          "x": "longitude",
          "y": "FOURTEENTH WARD"
         },
         {
          "showarrow": false,
          "text": "-0.03",
          "x": "TWELFTH WARD",
          "y": "FOURTEENTH WARD"
         },
         {
          "showarrow": false,
          "text": "-0.09",
          "x": "THIRTEENTH WARD",
          "y": "FOURTEENTH WARD"
         },
         {
          "showarrow": false,
          "text": "-0.12",
          "x": "NINTH WARD",
          "y": "FOURTEENTH WARD"
         },
         {
          "showarrow": false,
          "text": "-0.11",
          "x": "SECOND WARD",
          "y": "FOURTEENTH WARD"
         },
         {
          "showarrow": false,
          "text": "-0.05",
          "x": "minimum_nights",
          "y": "FOURTEENTH WARD"
         },
         {
          "showarrow": false,
          "text": "0.2",
          "x": "latitude",
          "y": "FOURTEENTH WARD"
         },
         {
          "showarrow": false,
          "text": "1.0",
          "x": "FOURTEENTH WARD",
          "y": "FOURTEENTH WARD"
         },
         {
          "showarrow": false,
          "text": "-0.03",
          "x": "calculated_host_listings_count",
          "y": "FOURTEENTH WARD"
         },
         {
          "showarrow": false,
          "text": "0.14",
          "x": "host_id",
          "y": "FOURTEENTH WARD"
         },
         {
          "showarrow": false,
          "text": "-0.1",
          "x": "TENTH WARD",
          "y": "FOURTEENTH WARD"
         },
         {
          "showarrow": false,
          "text": "-0.02",
          "x": "EIGHTH WARD",
          "y": "FOURTEENTH WARD"
         },
         {
          "showarrow": false,
          "text": "0.12",
          "x": "price",
          "y": "calculated_host_listings_count"
         },
         {
          "showarrow": false,
          "text": "0.06",
          "x": "Private room",
          "y": "calculated_host_listings_count"
         },
         {
          "showarrow": false,
          "text": "-0.05",
          "x": "Entire home/apt",
          "y": "calculated_host_listings_count"
         },
         {
          "showarrow": false,
          "text": "0.12",
          "x": "longitude",
          "y": "calculated_host_listings_count"
         },
         {
          "showarrow": false,
          "text": "-0.08",
          "x": "TWELFTH WARD",
          "y": "calculated_host_listings_count"
         },
         {
          "showarrow": false,
          "text": "0.15",
          "x": "THIRTEENTH WARD",
          "y": "calculated_host_listings_count"
         },
         {
          "showarrow": false,
          "text": "-0.01",
          "x": "NINTH WARD",
          "y": "calculated_host_listings_count"
         },
         {
          "showarrow": false,
          "text": "0.08",
          "x": "SECOND WARD",
          "y": "calculated_host_listings_count"
         },
         {
          "showarrow": false,
          "text": "-0.24",
          "x": "minimum_nights",
          "y": "calculated_host_listings_count"
         },
         {
          "showarrow": false,
          "text": "-0.01",
          "x": "latitude",
          "y": "calculated_host_listings_count"
         },
         {
          "showarrow": false,
          "text": "-0.03",
          "x": "FOURTEENTH WARD",
          "y": "calculated_host_listings_count"
         },
         {
          "showarrow": false,
          "text": "1.0",
          "x": "calculated_host_listings_count",
          "y": "calculated_host_listings_count"
         },
         {
          "showarrow": false,
          "text": "-0.2",
          "x": "host_id",
          "y": "calculated_host_listings_count"
         },
         {
          "showarrow": false,
          "text": "0.0",
          "x": "TENTH WARD",
          "y": "calculated_host_listings_count"
         },
         {
          "showarrow": false,
          "text": "-0.06",
          "x": "EIGHTH WARD",
          "y": "calculated_host_listings_count"
         },
         {
          "showarrow": false,
          "text": "0.11",
          "x": "price",
          "y": "host_id"
         },
         {
          "showarrow": false,
          "text": "0.01",
          "x": "Private room",
          "y": "host_id"
         },
         {
          "showarrow": false,
          "text": "-0.01",
          "x": "Entire home/apt",
          "y": "host_id"
         },
         {
          "showarrow": false,
          "text": "-0.07",
          "x": "longitude",
          "y": "host_id"
         },
         {
          "showarrow": false,
          "text": "-0.0",
          "x": "TWELFTH WARD",
          "y": "host_id"
         },
         {
          "showarrow": false,
          "text": "0.08",
          "x": "THIRTEENTH WARD",
          "y": "host_id"
         },
         {
          "showarrow": false,
          "text": "0.01",
          "x": "NINTH WARD",
          "y": "host_id"
         },
         {
          "showarrow": false,
          "text": "-0.02",
          "x": "SECOND WARD",
          "y": "host_id"
         },
         {
          "showarrow": false,
          "text": "-0.18",
          "x": "minimum_nights",
          "y": "host_id"
         },
         {
          "showarrow": false,
          "text": "0.08",
          "x": "latitude",
          "y": "host_id"
         },
         {
          "showarrow": false,
          "text": "0.14",
          "x": "FOURTEENTH WARD",
          "y": "host_id"
         },
         {
          "showarrow": false,
          "text": "-0.2",
          "x": "calculated_host_listings_count",
          "y": "host_id"
         },
         {
          "showarrow": false,
          "text": "1.0",
          "x": "host_id",
          "y": "host_id"
         },
         {
          "showarrow": false,
          "text": "-0.01",
          "x": "TENTH WARD",
          "y": "host_id"
         },
         {
          "showarrow": false,
          "text": "-0.08",
          "x": "EIGHTH WARD",
          "y": "host_id"
         },
         {
          "showarrow": false,
          "text": "0.09",
          "x": "price",
          "y": "TENTH WARD"
         },
         {
          "showarrow": false,
          "text": "0.05",
          "x": "Private room",
          "y": "TENTH WARD"
         },
         {
          "showarrow": false,
          "text": "-0.05",
          "x": "Entire home/apt",
          "y": "TENTH WARD"
         },
         {
          "showarrow": false,
          "text": "-0.11",
          "x": "longitude",
          "y": "TENTH WARD"
         },
         {
          "showarrow": false,
          "text": "-0.03",
          "x": "TWELFTH WARD",
          "y": "TENTH WARD"
         },
         {
          "showarrow": false,
          "text": "-0.09",
          "x": "THIRTEENTH WARD",
          "y": "TENTH WARD"
         },
         {
          "showarrow": false,
          "text": "-0.12",
          "x": "NINTH WARD",
          "y": "TENTH WARD"
         },
         {
          "showarrow": false,
          "text": "-0.11",
          "x": "SECOND WARD",
          "y": "TENTH WARD"
         },
         {
          "showarrow": false,
          "text": "-0.02",
          "x": "minimum_nights",
          "y": "TENTH WARD"
         },
         {
          "showarrow": false,
          "text": "0.09",
          "x": "latitude",
          "y": "TENTH WARD"
         },
         {
          "showarrow": false,
          "text": "-0.1",
          "x": "FOURTEENTH WARD",
          "y": "TENTH WARD"
         },
         {
          "showarrow": false,
          "text": "0.0",
          "x": "calculated_host_listings_count",
          "y": "TENTH WARD"
         },
         {
          "showarrow": false,
          "text": "-0.01",
          "x": "host_id",
          "y": "TENTH WARD"
         },
         {
          "showarrow": false,
          "text": "1.0",
          "x": "TENTH WARD",
          "y": "TENTH WARD"
         },
         {
          "showarrow": false,
          "text": "-0.02",
          "x": "EIGHTH WARD",
          "y": "TENTH WARD"
         },
         {
          "showarrow": false,
          "text": "0.08",
          "x": "price",
          "y": "EIGHTH WARD"
         },
         {
          "showarrow": false,
          "text": "-0.05",
          "x": "Private room",
          "y": "EIGHTH WARD"
         },
         {
          "showarrow": false,
          "text": "0.05",
          "x": "Entire home/apt",
          "y": "EIGHTH WARD"
         },
         {
          "showarrow": false,
          "text": "-0.13",
          "x": "longitude",
          "y": "EIGHTH WARD"
         },
         {
          "showarrow": false,
          "text": "-0.01",
          "x": "TWELFTH WARD",
          "y": "EIGHTH WARD"
         },
         {
          "showarrow": false,
          "text": "-0.02",
          "x": "THIRTEENTH WARD",
          "y": "EIGHTH WARD"
         },
         {
          "showarrow": false,
          "text": "-0.03",
          "x": "NINTH WARD",
          "y": "EIGHTH WARD"
         },
         {
          "showarrow": false,
          "text": "-0.02",
          "x": "SECOND WARD",
          "y": "EIGHTH WARD"
         },
         {
          "showarrow": false,
          "text": "0.05",
          "x": "minimum_nights",
          "y": "EIGHTH WARD"
         },
         {
          "showarrow": false,
          "text": "-0.02",
          "x": "latitude",
          "y": "EIGHTH WARD"
         },
         {
          "showarrow": false,
          "text": "-0.02",
          "x": "FOURTEENTH WARD",
          "y": "EIGHTH WARD"
         },
         {
          "showarrow": false,
          "text": "-0.06",
          "x": "calculated_host_listings_count",
          "y": "EIGHTH WARD"
         },
         {
          "showarrow": false,
          "text": "-0.08",
          "x": "host_id",
          "y": "EIGHTH WARD"
         },
         {
          "showarrow": false,
          "text": "-0.02",
          "x": "TENTH WARD",
          "y": "EIGHTH WARD"
         },
         {
          "showarrow": false,
          "text": "1.0",
          "x": "EIGHTH WARD",
          "y": "EIGHTH WARD"
         }
        ],
        "autosize": false,
        "height": 800,
        "margin": {
         "b": 80,
         "l": 120,
         "r": 80,
         "t": 100
        },
        "template": {
         "data": {
          "bar": [
           {
            "error_x": {
             "color": "#2a3f5f"
            },
            "error_y": {
             "color": "#2a3f5f"
            },
            "marker": {
             "line": {
              "color": "#E5ECF6",
              "width": 0.5
             },
             "pattern": {
              "fillmode": "overlay",
              "size": 10,
              "solidity": 0.2
             }
            },
            "type": "bar"
           }
          ],
          "barpolar": [
           {
            "marker": {
             "line": {
              "color": "#E5ECF6",
              "width": 0.5
             },
             "pattern": {
              "fillmode": "overlay",
              "size": 10,
              "solidity": 0.2
             }
            },
            "type": "barpolar"
           }
          ],
          "carpet": [
           {
            "aaxis": {
             "endlinecolor": "#2a3f5f",
             "gridcolor": "white",
             "linecolor": "white",
             "minorgridcolor": "white",
             "startlinecolor": "#2a3f5f"
            },
            "baxis": {
             "endlinecolor": "#2a3f5f",
             "gridcolor": "white",
             "linecolor": "white",
             "minorgridcolor": "white",
             "startlinecolor": "#2a3f5f"
            },
            "type": "carpet"
           }
          ],
          "choropleth": [
           {
            "colorbar": {
             "outlinewidth": 0,
             "ticks": ""
            },
            "type": "choropleth"
           }
          ],
          "contour": [
           {
            "colorbar": {
             "outlinewidth": 0,
             "ticks": ""
            },
            "colorscale": [
             [
              0,
              "#0d0887"
             ],
             [
              0.1111111111111111,
              "#46039f"
             ],
             [
              0.2222222222222222,
              "#7201a8"
             ],
             [
              0.3333333333333333,
              "#9c179e"
             ],
             [
              0.4444444444444444,
              "#bd3786"
             ],
             [
              0.5555555555555556,
              "#d8576b"
             ],
             [
              0.6666666666666666,
              "#ed7953"
             ],
             [
              0.7777777777777778,
              "#fb9f3a"
             ],
             [
              0.8888888888888888,
              "#fdca26"
             ],
             [
              1,
              "#f0f921"
             ]
            ],
            "type": "contour"
           }
          ],
          "contourcarpet": [
           {
            "colorbar": {
             "outlinewidth": 0,
             "ticks": ""
            },
            "type": "contourcarpet"
           }
          ],
          "heatmap": [
           {
            "colorbar": {
             "outlinewidth": 0,
             "ticks": ""
            },
            "colorscale": [
             [
              0,
              "#0d0887"
             ],
             [
              0.1111111111111111,
              "#46039f"
             ],
             [
              0.2222222222222222,
              "#7201a8"
             ],
             [
              0.3333333333333333,
              "#9c179e"
             ],
             [
              0.4444444444444444,
              "#bd3786"
             ],
             [
              0.5555555555555556,
              "#d8576b"
             ],
             [
              0.6666666666666666,
              "#ed7953"
             ],
             [
              0.7777777777777778,
              "#fb9f3a"
             ],
             [
              0.8888888888888888,
              "#fdca26"
             ],
             [
              1,
              "#f0f921"
             ]
            ],
            "type": "heatmap"
           }
          ],
          "heatmapgl": [
           {
            "colorbar": {
             "outlinewidth": 0,
             "ticks": ""
            },
            "colorscale": [
             [
              0,
              "#0d0887"
             ],
             [
              0.1111111111111111,
              "#46039f"
             ],
             [
              0.2222222222222222,
              "#7201a8"
             ],
             [
              0.3333333333333333,
              "#9c179e"
             ],
             [
              0.4444444444444444,
              "#bd3786"
             ],
             [
              0.5555555555555556,
              "#d8576b"
             ],
             [
              0.6666666666666666,
              "#ed7953"
             ],
             [
              0.7777777777777778,
              "#fb9f3a"
             ],
             [
              0.8888888888888888,
              "#fdca26"
             ],
             [
              1,
              "#f0f921"
             ]
            ],
            "type": "heatmapgl"
           }
          ],
          "histogram": [
           {
            "marker": {
             "pattern": {
              "fillmode": "overlay",
              "size": 10,
              "solidity": 0.2
             }
            },
            "type": "histogram"
           }
          ],
          "histogram2d": [
           {
            "colorbar": {
             "outlinewidth": 0,
             "ticks": ""
            },
            "colorscale": [
             [
              0,
              "#0d0887"
             ],
             [
              0.1111111111111111,
              "#46039f"
             ],
             [
              0.2222222222222222,
              "#7201a8"
             ],
             [
              0.3333333333333333,
              "#9c179e"
             ],
             [
              0.4444444444444444,
              "#bd3786"
             ],
             [
              0.5555555555555556,
              "#d8576b"
             ],
             [
              0.6666666666666666,
              "#ed7953"
             ],
             [
              0.7777777777777778,
              "#fb9f3a"
             ],
             [
              0.8888888888888888,
              "#fdca26"
             ],
             [
              1,
              "#f0f921"
             ]
            ],
            "type": "histogram2d"
           }
          ],
          "histogram2dcontour": [
           {
            "colorbar": {
             "outlinewidth": 0,
             "ticks": ""
            },
            "colorscale": [
             [
              0,
              "#0d0887"
             ],
             [
              0.1111111111111111,
              "#46039f"
             ],
             [
              0.2222222222222222,
              "#7201a8"
             ],
             [
              0.3333333333333333,
              "#9c179e"
             ],
             [
              0.4444444444444444,
              "#bd3786"
             ],
             [
              0.5555555555555556,
              "#d8576b"
             ],
             [
              0.6666666666666666,
              "#ed7953"
             ],
             [
              0.7777777777777778,
              "#fb9f3a"
             ],
             [
              0.8888888888888888,
              "#fdca26"
             ],
             [
              1,
              "#f0f921"
             ]
            ],
            "type": "histogram2dcontour"
           }
          ],
          "mesh3d": [
           {
            "colorbar": {
             "outlinewidth": 0,
             "ticks": ""
            },
            "type": "mesh3d"
           }
          ],
          "parcoords": [
           {
            "line": {
             "colorbar": {
              "outlinewidth": 0,
              "ticks": ""
             }
            },
            "type": "parcoords"
           }
          ],
          "pie": [
           {
            "automargin": true,
            "type": "pie"
           }
          ],
          "scatter": [
           {
            "fillpattern": {
             "fillmode": "overlay",
             "size": 10,
             "solidity": 0.2
            },
            "type": "scatter"
           }
          ],
          "scatter3d": [
           {
            "line": {
             "colorbar": {
              "outlinewidth": 0,
              "ticks": ""
             }
            },
            "marker": {
             "colorbar": {
              "outlinewidth": 0,
              "ticks": ""
             }
            },
            "type": "scatter3d"
           }
          ],
          "scattercarpet": [
           {
            "marker": {
             "colorbar": {
              "outlinewidth": 0,
              "ticks": ""
             }
            },
            "type": "scattercarpet"
           }
          ],
          "scattergeo": [
           {
            "marker": {
             "colorbar": {
              "outlinewidth": 0,
              "ticks": ""
             }
            },
            "type": "scattergeo"
           }
          ],
          "scattergl": [
           {
            "marker": {
             "colorbar": {
              "outlinewidth": 0,
              "ticks": ""
             }
            },
            "type": "scattergl"
           }
          ],
          "scattermapbox": [
           {
            "marker": {
             "colorbar": {
              "outlinewidth": 0,
              "ticks": ""
             }
            },
            "type": "scattermapbox"
           }
          ],
          "scatterpolar": [
           {
            "marker": {
             "colorbar": {
              "outlinewidth": 0,
              "ticks": ""
             }
            },
            "type": "scatterpolar"
           }
          ],
          "scatterpolargl": [
           {
            "marker": {
             "colorbar": {
              "outlinewidth": 0,
              "ticks": ""
             }
            },
            "type": "scatterpolargl"
           }
          ],
          "scatterternary": [
           {
            "marker": {
             "colorbar": {
              "outlinewidth": 0,
              "ticks": ""
             }
            },
            "type": "scatterternary"
           }
          ],
          "surface": [
           {
            "colorbar": {
             "outlinewidth": 0,
             "ticks": ""
            },
            "colorscale": [
             [
              0,
              "#0d0887"
             ],
             [
              0.1111111111111111,
              "#46039f"
             ],
             [
              0.2222222222222222,
              "#7201a8"
             ],
             [
              0.3333333333333333,
              "#9c179e"
             ],
             [
              0.4444444444444444,
              "#bd3786"
             ],
             [
              0.5555555555555556,
              "#d8576b"
             ],
             [
              0.6666666666666666,
              "#ed7953"
             ],
             [
              0.7777777777777778,
              "#fb9f3a"
             ],
             [
              0.8888888888888888,
              "#fdca26"
             ],
             [
              1,
              "#f0f921"
             ]
            ],
            "type": "surface"
           }
          ],
          "table": [
           {
            "cells": {
             "fill": {
              "color": "#EBF0F8"
             },
             "line": {
              "color": "white"
             }
            },
            "header": {
             "fill": {
              "color": "#C8D4E3"
             },
             "line": {
              "color": "white"
             }
            },
            "type": "table"
           }
          ]
         },
         "layout": {
          "annotationdefaults": {
           "arrowcolor": "#2a3f5f",
           "arrowhead": 0,
           "arrowwidth": 1
          },
          "autotypenumbers": "strict",
          "coloraxis": {
           "colorbar": {
            "outlinewidth": 0,
            "ticks": ""
           }
          },
          "colorscale": {
           "diverging": [
            [
             0,
             "#8e0152"
            ],
            [
             0.1,
             "#c51b7d"
            ],
            [
             0.2,
             "#de77ae"
            ],
            [
             0.3,
             "#f1b6da"
            ],
            [
             0.4,
             "#fde0ef"
            ],
            [
             0.5,
             "#f7f7f7"
            ],
            [
             0.6,
             "#e6f5d0"
            ],
            [
             0.7,
             "#b8e186"
            ],
            [
             0.8,
             "#7fbc41"
            ],
            [
             0.9,
             "#4d9221"
            ],
            [
             1,
             "#276419"
            ]
           ],
           "sequential": [
            [
             0,
             "#0d0887"
            ],
            [
             0.1111111111111111,
             "#46039f"
            ],
            [
             0.2222222222222222,
             "#7201a8"
            ],
            [
             0.3333333333333333,
             "#9c179e"
            ],
            [
             0.4444444444444444,
             "#bd3786"
            ],
            [
             0.5555555555555556,
             "#d8576b"
            ],
            [
             0.6666666666666666,
             "#ed7953"
            ],
            [
             0.7777777777777778,
             "#fb9f3a"
            ],
            [
             0.8888888888888888,
             "#fdca26"
            ],
            [
             1,
             "#f0f921"
            ]
           ],
           "sequentialminus": [
            [
             0,
             "#0d0887"
            ],
            [
             0.1111111111111111,
             "#46039f"
            ],
            [
             0.2222222222222222,
             "#7201a8"
            ],
            [
             0.3333333333333333,
             "#9c179e"
            ],
            [
             0.4444444444444444,
             "#bd3786"
            ],
            [
             0.5555555555555556,
             "#d8576b"
            ],
            [
             0.6666666666666666,
             "#ed7953"
            ],
            [
             0.7777777777777778,
             "#fb9f3a"
            ],
            [
             0.8888888888888888,
             "#fdca26"
            ],
            [
             1,
             "#f0f921"
            ]
           ]
          },
          "colorway": [
           "#636efa",
           "#EF553B",
           "#00cc96",
           "#ab63fa",
           "#FFA15A",
           "#19d3f3",
           "#FF6692",
           "#B6E880",
           "#FF97FF",
           "#FECB52"
          ],
          "font": {
           "color": "#2a3f5f"
          },
          "geo": {
           "bgcolor": "white",
           "lakecolor": "white",
           "landcolor": "#E5ECF6",
           "showlakes": true,
           "showland": true,
           "subunitcolor": "white"
          },
          "hoverlabel": {
           "align": "left"
          },
          "hovermode": "closest",
          "mapbox": {
           "style": "light"
          },
          "paper_bgcolor": "white",
          "plot_bgcolor": "#E5ECF6",
          "polar": {
           "angularaxis": {
            "gridcolor": "white",
            "linecolor": "white",
            "ticks": ""
           },
           "bgcolor": "#E5ECF6",
           "radialaxis": {
            "gridcolor": "white",
            "linecolor": "white",
            "ticks": ""
           }
          },
          "scene": {
           "xaxis": {
            "backgroundcolor": "#E5ECF6",
            "gridcolor": "white",
            "gridwidth": 2,
            "linecolor": "white",
            "showbackground": true,
            "ticks": "",
            "zerolinecolor": "white"
           },
           "yaxis": {
            "backgroundcolor": "#E5ECF6",
            "gridcolor": "white",
            "gridwidth": 2,
            "linecolor": "white",
            "showbackground": true,
            "ticks": "",
            "zerolinecolor": "white"
           },
           "zaxis": {
            "backgroundcolor": "#E5ECF6",
            "gridcolor": "white",
            "gridwidth": 2,
            "linecolor": "white",
            "showbackground": true,
            "ticks": "",
            "zerolinecolor": "white"
           }
          },
          "shapedefaults": {
           "line": {
            "color": "#2a3f5f"
           }
          },
          "ternary": {
           "aaxis": {
            "gridcolor": "white",
            "linecolor": "white",
            "ticks": ""
           },
           "baxis": {
            "gridcolor": "white",
            "linecolor": "white",
            "ticks": ""
           },
           "bgcolor": "#E5ECF6",
           "caxis": {
            "gridcolor": "white",
            "linecolor": "white",
            "ticks": ""
           }
          },
          "title": {
           "x": 0.05
          },
          "xaxis": {
           "automargin": true,
           "gridcolor": "white",
           "linecolor": "white",
           "ticks": "",
           "title": {
            "standoff": 15
           },
           "zerolinecolor": "white",
           "zerolinewidth": 2
          },
          "yaxis": {
           "automargin": true,
           "gridcolor": "white",
           "linecolor": "white",
           "ticks": "",
           "title": {
            "standoff": 15
           },
           "zerolinecolor": "white",
           "zerolinewidth": 2
          }
         }
        },
        "title": {
         "text": "Heatmap"
        },
        "width": 800
       }
      },
      "text/html": [
       "<div>                            <div id=\"99642be0-e4cd-44ea-a05f-626dc997ff35\" class=\"plotly-graph-div\" style=\"height:800px; width:800px;\"></div>            <script type=\"text/javascript\">                require([\"plotly\"], function(Plotly) {                    window.PLOTLYENV=window.PLOTLYENV || {};                                    if (document.getElementById(\"99642be0-e4cd-44ea-a05f-626dc997ff35\")) {                    Plotly.newPlot(                        \"99642be0-e4cd-44ea-a05f-626dc997ff35\",                        [{\"colorscale\":[[0.0,\"#440154\"],[0.1111111111111111,\"#482878\"],[0.2222222222222222,\"#3e4989\"],[0.3333333333333333,\"#31688e\"],[0.4444444444444444,\"#26828e\"],[0.5555555555555556,\"#1f9e89\"],[0.6666666666666666,\"#35b779\"],[0.7777777777777778,\"#6ece58\"],[0.8888888888888888,\"#b5de2b\"],[1.0,\"#fde725\"]],\"showscale\":false,\"x\":[\"price\",\"Private room\",\"Entire home/apt\",\"longitude\",\"TWELFTH WARD\",\"THIRTEENTH WARD\",\"NINTH WARD\",\"SECOND WARD\",\"minimum_nights\",\"latitude\",\"FOURTEENTH WARD\",\"calculated_host_listings_count\",\"host_id\",\"TENTH WARD\",\"EIGHTH WARD\"],\"y\":[\"price\",\"Private room\",\"Entire home/apt\",\"longitude\",\"TWELFTH WARD\",\"THIRTEENTH WARD\",\"NINTH WARD\",\"SECOND WARD\",\"minimum_nights\",\"latitude\",\"FOURTEENTH WARD\",\"calculated_host_listings_count\",\"host_id\",\"TENTH WARD\",\"EIGHTH WARD\"],\"z\":[[1.0,-0.37960994238254125,0.3773790986504099,0.18063941548155496,0.16892352170320543,-0.1654361036346305,-0.1633126654618593,0.1614888650236712,-0.15954794797430602,-0.1485678281523025,-0.12514840429532934,0.12445927218936911,0.10511211300357454,0.0862292590873276,0.07677205848434446],[-0.37960994238254125,1.0,-0.9882492713839421,-0.2925036776138387,-0.06782552365537022,0.12241019786409733,0.1869147539857946,-0.16018552423264146,-0.02833812153587517,0.22207048836216828,0.16866281528297297,0.06219045067771544,0.008906790926500721,0.05435120538361866,-0.047837384608133166],[0.3773790986504099,-0.9882492713839421,1.0,0.26835012130926894,0.06863199965772565,-0.11861806614266111,-0.18201547800571632,0.16325148416218024,0.037126111020412446,-0.22748749501693225,-0.1644494304325918,-0.05198691370858946,-0.008493905982888784,-0.05064426253369047,0.04840619264119658],[0.18063941548155496,-0.2925036776138387,0.26835012130926894,1.0,-0.06800050738027677,-0.2810986951387339,-0.11109277887530115,0.3577298963495888,-0.11573538809162949,-0.6018966504462467,-0.472671452073782,0.11767758382378787,-0.07228740992265416,-0.11185954473596207,-0.129736678503953],[0.16892352170320543,-0.06782552365537022,0.06863199965772565,-0.06800050738027677,1.0,-0.030110529729093994,-0.0377207449826399,-0.03498251311407208,0.1413067355419293,0.2024649909833025,-0.03211496323792227,-0.07995347249514072,-0.001617935128322038,-0.032114963237922275,-0.007233852622026192],[-0.1654361036346305,0.12241019786409733,-0.11861806614266111,-0.2810986951387339,-0.030110529729093994,1.0,-0.11073968228732681,-0.10270084510916956,0.05880678322054928,0.3949707508227619,-0.09428235914411134,0.1494380403625711,0.07681438279119443,-0.09428235914411136,-0.021236975607061902],[-0.1633126654618593,0.1869147539857946,-0.18201547800571632,-0.11109277887530115,-0.0377207449826399,-0.11073968228732681,1.0,-0.12865772946270732,0.08510628578074181,-0.15017060933685453,-0.11811153299639084,-0.013777776308529452,0.012303791618905845,-0.1181115329963908,-0.026604465224751465],[0.1614888650236712,-0.16018552423264146,0.16325148416218024,0.3577298963495888,-0.03498251311407208,-0.10270084510916956,-0.12865772946270732,1.0,-0.11198548783313404,-0.5468698020076974,-0.10953755695628438,0.08493940883688617,-0.017985917519657547,-0.10953755695628437,-0.02467318856099135],[-0.15954794797430602,-0.02833812153587517,0.037126111020412446,-0.11573538809162949,0.1413067355419293,0.05880678322054928,0.08510628578074181,-0.11198548783313404,1.0,0.10952317250191557,-0.05087575553420215,-0.23579745400673893,-0.17899508976475806,-0.024910667865192263,0.04702631749564261],[-0.1485678281523025,0.22207048836216828,-0.22748749501693225,-0.6018966504462467,0.2024649909833025,0.3949707508227619,-0.15017060933685453,-0.5468698020076974,0.10952317250191557,1.0,0.20133471953373977,-0.014003686768577057,0.07644686767550607,0.09331837386364977,-0.0248165296952828],[-0.12514840429532934,0.16866281528297297,-0.1644494304325918,-0.472671452073782,-0.03211496323792227,-0.09428235914411134,-0.11811153299639084,-0.10953755695628438,-0.05087575553420215,0.20133471953373977,1.0,-0.03266187308679966,0.13534608701673737,-0.10055865921787718,-0.022650703824929574],[0.12445927218936911,0.06219045067771544,-0.05198691370858946,0.11767758382378787,-0.07995347249514072,0.1494380403625711,-0.013777776308529452,0.08493940883688617,-0.23579745400673893,-0.014003686768577057,-0.03266187308679966,1.0,-0.19580873414247973,0.0008287658102701257,-0.0648779215182327],[0.10511211300357454,0.008906790926500721,-0.008493905982888784,-0.07228740992265416,-0.001617935128322038,0.07681438279119443,0.012303791618905845,-0.017985917519657547,-0.17899508976475806,0.07644686767550607,0.13534608701673737,-0.19580873414247973,1.0,-0.012765589060753103,-0.07621991437632604],[0.0862292590873276,0.05435120538361866,-0.05064426253369047,-0.11185954473596207,-0.032114963237922275,-0.09428235914411136,-0.1181115329963908,-0.10953755695628437,-0.024910667865192263,0.09331837386364977,-0.10055865921787718,0.0008287658102701257,-0.012765589060753103,1.0,-0.02265070382492958],[0.07677205848434446,-0.047837384608133166,0.04840619264119658,-0.129736678503953,-0.007233852622026192,-0.021236975607061902,-0.026604465224751465,-0.02467318856099135,0.04702631749564261,-0.0248165296952828,-0.022650703824929574,-0.0648779215182327,-0.07621991437632604,-0.02265070382492958,1.0]],\"type\":\"heatmap\"}],                        {\"template\":{\"data\":{\"histogram2dcontour\":[{\"type\":\"histogram2dcontour\",\"colorbar\":{\"outlinewidth\":0,\"ticks\":\"\"},\"colorscale\":[[0.0,\"#0d0887\"],[0.1111111111111111,\"#46039f\"],[0.2222222222222222,\"#7201a8\"],[0.3333333333333333,\"#9c179e\"],[0.4444444444444444,\"#bd3786\"],[0.5555555555555556,\"#d8576b\"],[0.6666666666666666,\"#ed7953\"],[0.7777777777777778,\"#fb9f3a\"],[0.8888888888888888,\"#fdca26\"],[1.0,\"#f0f921\"]]}],\"choropleth\":[{\"type\":\"choropleth\",\"colorbar\":{\"outlinewidth\":0,\"ticks\":\"\"}}],\"histogram2d\":[{\"type\":\"histogram2d\",\"colorbar\":{\"outlinewidth\":0,\"ticks\":\"\"},\"colorscale\":[[0.0,\"#0d0887\"],[0.1111111111111111,\"#46039f\"],[0.2222222222222222,\"#7201a8\"],[0.3333333333333333,\"#9c179e\"],[0.4444444444444444,\"#bd3786\"],[0.5555555555555556,\"#d8576b\"],[0.6666666666666666,\"#ed7953\"],[0.7777777777777778,\"#fb9f3a\"],[0.8888888888888888,\"#fdca26\"],[1.0,\"#f0f921\"]]}],\"heatmap\":[{\"type\":\"heatmap\",\"colorbar\":{\"outlinewidth\":0,\"ticks\":\"\"},\"colorscale\":[[0.0,\"#0d0887\"],[0.1111111111111111,\"#46039f\"],[0.2222222222222222,\"#7201a8\"],[0.3333333333333333,\"#9c179e\"],[0.4444444444444444,\"#bd3786\"],[0.5555555555555556,\"#d8576b\"],[0.6666666666666666,\"#ed7953\"],[0.7777777777777778,\"#fb9f3a\"],[0.8888888888888888,\"#fdca26\"],[1.0,\"#f0f921\"]]}],\"heatmapgl\":[{\"type\":\"heatmapgl\",\"colorbar\":{\"outlinewidth\":0,\"ticks\":\"\"},\"colorscale\":[[0.0,\"#0d0887\"],[0.1111111111111111,\"#46039f\"],[0.2222222222222222,\"#7201a8\"],[0.3333333333333333,\"#9c179e\"],[0.4444444444444444,\"#bd3786\"],[0.5555555555555556,\"#d8576b\"],[0.6666666666666666,\"#ed7953\"],[0.7777777777777778,\"#fb9f3a\"],[0.8888888888888888,\"#fdca26\"],[1.0,\"#f0f921\"]]}],\"contourcarpet\":[{\"type\":\"contourcarpet\",\"colorbar\":{\"outlinewidth\":0,\"ticks\":\"\"}}],\"contour\":[{\"type\":\"contour\",\"colorbar\":{\"outlinewidth\":0,\"ticks\":\"\"},\"colorscale\":[[0.0,\"#0d0887\"],[0.1111111111111111,\"#46039f\"],[0.2222222222222222,\"#7201a8\"],[0.3333333333333333,\"#9c179e\"],[0.4444444444444444,\"#bd3786\"],[0.5555555555555556,\"#d8576b\"],[0.6666666666666666,\"#ed7953\"],[0.7777777777777778,\"#fb9f3a\"],[0.8888888888888888,\"#fdca26\"],[1.0,\"#f0f921\"]]}],\"surface\":[{\"type\":\"surface\",\"colorbar\":{\"outlinewidth\":0,\"ticks\":\"\"},\"colorscale\":[[0.0,\"#0d0887\"],[0.1111111111111111,\"#46039f\"],[0.2222222222222222,\"#7201a8\"],[0.3333333333333333,\"#9c179e\"],[0.4444444444444444,\"#bd3786\"],[0.5555555555555556,\"#d8576b\"],[0.6666666666666666,\"#ed7953\"],[0.7777777777777778,\"#fb9f3a\"],[0.8888888888888888,\"#fdca26\"],[1.0,\"#f0f921\"]]}],\"mesh3d\":[{\"type\":\"mesh3d\",\"colorbar\":{\"outlinewidth\":0,\"ticks\":\"\"}}],\"scatter\":[{\"fillpattern\":{\"fillmode\":\"overlay\",\"size\":10,\"solidity\":0.2},\"type\":\"scatter\"}],\"parcoords\":[{\"type\":\"parcoords\",\"line\":{\"colorbar\":{\"outlinewidth\":0,\"ticks\":\"\"}}}],\"scatterpolargl\":[{\"type\":\"scatterpolargl\",\"marker\":{\"colorbar\":{\"outlinewidth\":0,\"ticks\":\"\"}}}],\"bar\":[{\"error_x\":{\"color\":\"#2a3f5f\"},\"error_y\":{\"color\":\"#2a3f5f\"},\"marker\":{\"line\":{\"color\":\"#E5ECF6\",\"width\":0.5},\"pattern\":{\"fillmode\":\"overlay\",\"size\":10,\"solidity\":0.2}},\"type\":\"bar\"}],\"scattergeo\":[{\"type\":\"scattergeo\",\"marker\":{\"colorbar\":{\"outlinewidth\":0,\"ticks\":\"\"}}}],\"scatterpolar\":[{\"type\":\"scatterpolar\",\"marker\":{\"colorbar\":{\"outlinewidth\":0,\"ticks\":\"\"}}}],\"histogram\":[{\"marker\":{\"pattern\":{\"fillmode\":\"overlay\",\"size\":10,\"solidity\":0.2}},\"type\":\"histogram\"}],\"scattergl\":[{\"type\":\"scattergl\",\"marker\":{\"colorbar\":{\"outlinewidth\":0,\"ticks\":\"\"}}}],\"scatter3d\":[{\"type\":\"scatter3d\",\"line\":{\"colorbar\":{\"outlinewidth\":0,\"ticks\":\"\"}},\"marker\":{\"colorbar\":{\"outlinewidth\":0,\"ticks\":\"\"}}}],\"scattermapbox\":[{\"type\":\"scattermapbox\",\"marker\":{\"colorbar\":{\"outlinewidth\":0,\"ticks\":\"\"}}}],\"scatterternary\":[{\"type\":\"scatterternary\",\"marker\":{\"colorbar\":{\"outlinewidth\":0,\"ticks\":\"\"}}}],\"scattercarpet\":[{\"type\":\"scattercarpet\",\"marker\":{\"colorbar\":{\"outlinewidth\":0,\"ticks\":\"\"}}}],\"carpet\":[{\"aaxis\":{\"endlinecolor\":\"#2a3f5f\",\"gridcolor\":\"white\",\"linecolor\":\"white\",\"minorgridcolor\":\"white\",\"startlinecolor\":\"#2a3f5f\"},\"baxis\":{\"endlinecolor\":\"#2a3f5f\",\"gridcolor\":\"white\",\"linecolor\":\"white\",\"minorgridcolor\":\"white\",\"startlinecolor\":\"#2a3f5f\"},\"type\":\"carpet\"}],\"table\":[{\"cells\":{\"fill\":{\"color\":\"#EBF0F8\"},\"line\":{\"color\":\"white\"}},\"header\":{\"fill\":{\"color\":\"#C8D4E3\"},\"line\":{\"color\":\"white\"}},\"type\":\"table\"}],\"barpolar\":[{\"marker\":{\"line\":{\"color\":\"#E5ECF6\",\"width\":0.5},\"pattern\":{\"fillmode\":\"overlay\",\"size\":10,\"solidity\":0.2}},\"type\":\"barpolar\"}],\"pie\":[{\"automargin\":true,\"type\":\"pie\"}]},\"layout\":{\"autotypenumbers\":\"strict\",\"colorway\":[\"#636efa\",\"#EF553B\",\"#00cc96\",\"#ab63fa\",\"#FFA15A\",\"#19d3f3\",\"#FF6692\",\"#B6E880\",\"#FF97FF\",\"#FECB52\"],\"font\":{\"color\":\"#2a3f5f\"},\"hovermode\":\"closest\",\"hoverlabel\":{\"align\":\"left\"},\"paper_bgcolor\":\"white\",\"plot_bgcolor\":\"#E5ECF6\",\"polar\":{\"bgcolor\":\"#E5ECF6\",\"angularaxis\":{\"gridcolor\":\"white\",\"linecolor\":\"white\",\"ticks\":\"\"},\"radialaxis\":{\"gridcolor\":\"white\",\"linecolor\":\"white\",\"ticks\":\"\"}},\"ternary\":{\"bgcolor\":\"#E5ECF6\",\"aaxis\":{\"gridcolor\":\"white\",\"linecolor\":\"white\",\"ticks\":\"\"},\"baxis\":{\"gridcolor\":\"white\",\"linecolor\":\"white\",\"ticks\":\"\"},\"caxis\":{\"gridcolor\":\"white\",\"linecolor\":\"white\",\"ticks\":\"\"}},\"coloraxis\":{\"colorbar\":{\"outlinewidth\":0,\"ticks\":\"\"}},\"colorscale\":{\"sequential\":[[0.0,\"#0d0887\"],[0.1111111111111111,\"#46039f\"],[0.2222222222222222,\"#7201a8\"],[0.3333333333333333,\"#9c179e\"],[0.4444444444444444,\"#bd3786\"],[0.5555555555555556,\"#d8576b\"],[0.6666666666666666,\"#ed7953\"],[0.7777777777777778,\"#fb9f3a\"],[0.8888888888888888,\"#fdca26\"],[1.0,\"#f0f921\"]],\"sequentialminus\":[[0.0,\"#0d0887\"],[0.1111111111111111,\"#46039f\"],[0.2222222222222222,\"#7201a8\"],[0.3333333333333333,\"#9c179e\"],[0.4444444444444444,\"#bd3786\"],[0.5555555555555556,\"#d8576b\"],[0.6666666666666666,\"#ed7953\"],[0.7777777777777778,\"#fb9f3a\"],[0.8888888888888888,\"#fdca26\"],[1.0,\"#f0f921\"]],\"diverging\":[[0,\"#8e0152\"],[0.1,\"#c51b7d\"],[0.2,\"#de77ae\"],[0.3,\"#f1b6da\"],[0.4,\"#fde0ef\"],[0.5,\"#f7f7f7\"],[0.6,\"#e6f5d0\"],[0.7,\"#b8e186\"],[0.8,\"#7fbc41\"],[0.9,\"#4d9221\"],[1,\"#276419\"]]},\"xaxis\":{\"gridcolor\":\"white\",\"linecolor\":\"white\",\"ticks\":\"\",\"title\":{\"standoff\":15},\"zerolinecolor\":\"white\",\"automargin\":true,\"zerolinewidth\":2},\"yaxis\":{\"gridcolor\":\"white\",\"linecolor\":\"white\",\"ticks\":\"\",\"title\":{\"standoff\":15},\"zerolinecolor\":\"white\",\"automargin\":true,\"zerolinewidth\":2},\"scene\":{\"xaxis\":{\"backgroundcolor\":\"#E5ECF6\",\"gridcolor\":\"white\",\"linecolor\":\"white\",\"showbackground\":true,\"ticks\":\"\",\"zerolinecolor\":\"white\",\"gridwidth\":2},\"yaxis\":{\"backgroundcolor\":\"#E5ECF6\",\"gridcolor\":\"white\",\"linecolor\":\"white\",\"showbackground\":true,\"ticks\":\"\",\"zerolinecolor\":\"white\",\"gridwidth\":2},\"zaxis\":{\"backgroundcolor\":\"#E5ECF6\",\"gridcolor\":\"white\",\"linecolor\":\"white\",\"showbackground\":true,\"ticks\":\"\",\"zerolinecolor\":\"white\",\"gridwidth\":2}},\"shapedefaults\":{\"line\":{\"color\":\"#2a3f5f\"}},\"annotationdefaults\":{\"arrowcolor\":\"#2a3f5f\",\"arrowhead\":0,\"arrowwidth\":1},\"geo\":{\"bgcolor\":\"white\",\"landcolor\":\"#E5ECF6\",\"subunitcolor\":\"white\",\"showland\":true,\"showlakes\":true,\"lakecolor\":\"white\"},\"title\":{\"x\":0.05},\"mapbox\":{\"style\":\"light\"}}},\"margin\":{\"t\":100,\"r\":80,\"b\":80,\"l\":120},\"title\":{\"text\":\"Heatmap\"},\"annotations\":[{\"showarrow\":false,\"text\":\"1.0\",\"x\":\"price\",\"y\":\"price\"},{\"showarrow\":false,\"text\":\"-0.38\",\"x\":\"Private room\",\"y\":\"price\"},{\"showarrow\":false,\"text\":\"0.38\",\"x\":\"Entire home/apt\",\"y\":\"price\"},{\"showarrow\":false,\"text\":\"0.18\",\"x\":\"longitude\",\"y\":\"price\"},{\"showarrow\":false,\"text\":\"0.17\",\"x\":\"TWELFTH WARD\",\"y\":\"price\"},{\"showarrow\":false,\"text\":\"-0.17\",\"x\":\"THIRTEENTH WARD\",\"y\":\"price\"},{\"showarrow\":false,\"text\":\"-0.16\",\"x\":\"NINTH WARD\",\"y\":\"price\"},{\"showarrow\":false,\"text\":\"0.16\",\"x\":\"SECOND WARD\",\"y\":\"price\"},{\"showarrow\":false,\"text\":\"-0.16\",\"x\":\"minimum_nights\",\"y\":\"price\"},{\"showarrow\":false,\"text\":\"-0.15\",\"x\":\"latitude\",\"y\":\"price\"},{\"showarrow\":false,\"text\":\"-0.13\",\"x\":\"FOURTEENTH WARD\",\"y\":\"price\"},{\"showarrow\":false,\"text\":\"0.12\",\"x\":\"calculated_host_listings_count\",\"y\":\"price\"},{\"showarrow\":false,\"text\":\"0.11\",\"x\":\"host_id\",\"y\":\"price\"},{\"showarrow\":false,\"text\":\"0.09\",\"x\":\"TENTH WARD\",\"y\":\"price\"},{\"showarrow\":false,\"text\":\"0.08\",\"x\":\"EIGHTH WARD\",\"y\":\"price\"},{\"showarrow\":false,\"text\":\"-0.38\",\"x\":\"price\",\"y\":\"Private room\"},{\"showarrow\":false,\"text\":\"1.0\",\"x\":\"Private room\",\"y\":\"Private room\"},{\"showarrow\":false,\"text\":\"-0.99\",\"x\":\"Entire home/apt\",\"y\":\"Private room\"},{\"showarrow\":false,\"text\":\"-0.29\",\"x\":\"longitude\",\"y\":\"Private room\"},{\"showarrow\":false,\"text\":\"-0.07\",\"x\":\"TWELFTH WARD\",\"y\":\"Private room\"},{\"showarrow\":false,\"text\":\"0.12\",\"x\":\"THIRTEENTH WARD\",\"y\":\"Private room\"},{\"showarrow\":false,\"text\":\"0.19\",\"x\":\"NINTH WARD\",\"y\":\"Private room\"},{\"showarrow\":false,\"text\":\"-0.16\",\"x\":\"SECOND WARD\",\"y\":\"Private room\"},{\"showarrow\":false,\"text\":\"-0.03\",\"x\":\"minimum_nights\",\"y\":\"Private room\"},{\"showarrow\":false,\"text\":\"0.22\",\"x\":\"latitude\",\"y\":\"Private room\"},{\"showarrow\":false,\"text\":\"0.17\",\"x\":\"FOURTEENTH WARD\",\"y\":\"Private room\"},{\"showarrow\":false,\"text\":\"0.06\",\"x\":\"calculated_host_listings_count\",\"y\":\"Private room\"},{\"showarrow\":false,\"text\":\"0.01\",\"x\":\"host_id\",\"y\":\"Private room\"},{\"showarrow\":false,\"text\":\"0.05\",\"x\":\"TENTH WARD\",\"y\":\"Private room\"},{\"showarrow\":false,\"text\":\"-0.05\",\"x\":\"EIGHTH WARD\",\"y\":\"Private room\"},{\"showarrow\":false,\"text\":\"0.38\",\"x\":\"price\",\"y\":\"Entire home/apt\"},{\"showarrow\":false,\"text\":\"-0.99\",\"x\":\"Private room\",\"y\":\"Entire home/apt\"},{\"showarrow\":false,\"text\":\"1.0\",\"x\":\"Entire home/apt\",\"y\":\"Entire home/apt\"},{\"showarrow\":false,\"text\":\"0.27\",\"x\":\"longitude\",\"y\":\"Entire home/apt\"},{\"showarrow\":false,\"text\":\"0.07\",\"x\":\"TWELFTH WARD\",\"y\":\"Entire home/apt\"},{\"showarrow\":false,\"text\":\"-0.12\",\"x\":\"THIRTEENTH WARD\",\"y\":\"Entire home/apt\"},{\"showarrow\":false,\"text\":\"-0.18\",\"x\":\"NINTH WARD\",\"y\":\"Entire home/apt\"},{\"showarrow\":false,\"text\":\"0.16\",\"x\":\"SECOND WARD\",\"y\":\"Entire home/apt\"},{\"showarrow\":false,\"text\":\"0.04\",\"x\":\"minimum_nights\",\"y\":\"Entire home/apt\"},{\"showarrow\":false,\"text\":\"-0.23\",\"x\":\"latitude\",\"y\":\"Entire home/apt\"},{\"showarrow\":false,\"text\":\"-0.16\",\"x\":\"FOURTEENTH WARD\",\"y\":\"Entire home/apt\"},{\"showarrow\":false,\"text\":\"-0.05\",\"x\":\"calculated_host_listings_count\",\"y\":\"Entire home/apt\"},{\"showarrow\":false,\"text\":\"-0.01\",\"x\":\"host_id\",\"y\":\"Entire home/apt\"},{\"showarrow\":false,\"text\":\"-0.05\",\"x\":\"TENTH WARD\",\"y\":\"Entire home/apt\"},{\"showarrow\":false,\"text\":\"0.05\",\"x\":\"EIGHTH WARD\",\"y\":\"Entire home/apt\"},{\"showarrow\":false,\"text\":\"0.18\",\"x\":\"price\",\"y\":\"longitude\"},{\"showarrow\":false,\"text\":\"-0.29\",\"x\":\"Private room\",\"y\":\"longitude\"},{\"showarrow\":false,\"text\":\"0.27\",\"x\":\"Entire home/apt\",\"y\":\"longitude\"},{\"showarrow\":false,\"text\":\"1.0\",\"x\":\"longitude\",\"y\":\"longitude\"},{\"showarrow\":false,\"text\":\"-0.07\",\"x\":\"TWELFTH WARD\",\"y\":\"longitude\"},{\"showarrow\":false,\"text\":\"-0.28\",\"x\":\"THIRTEENTH WARD\",\"y\":\"longitude\"},{\"showarrow\":false,\"text\":\"-0.11\",\"x\":\"NINTH WARD\",\"y\":\"longitude\"},{\"showarrow\":false,\"text\":\"0.36\",\"x\":\"SECOND WARD\",\"y\":\"longitude\"},{\"showarrow\":false,\"text\":\"-0.12\",\"x\":\"minimum_nights\",\"y\":\"longitude\"},{\"showarrow\":false,\"text\":\"-0.6\",\"x\":\"latitude\",\"y\":\"longitude\"},{\"showarrow\":false,\"text\":\"-0.47\",\"x\":\"FOURTEENTH WARD\",\"y\":\"longitude\"},{\"showarrow\":false,\"text\":\"0.12\",\"x\":\"calculated_host_listings_count\",\"y\":\"longitude\"},{\"showarrow\":false,\"text\":\"-0.07\",\"x\":\"host_id\",\"y\":\"longitude\"},{\"showarrow\":false,\"text\":\"-0.11\",\"x\":\"TENTH WARD\",\"y\":\"longitude\"},{\"showarrow\":false,\"text\":\"-0.13\",\"x\":\"EIGHTH WARD\",\"y\":\"longitude\"},{\"showarrow\":false,\"text\":\"0.17\",\"x\":\"price\",\"y\":\"TWELFTH WARD\"},{\"showarrow\":false,\"text\":\"-0.07\",\"x\":\"Private room\",\"y\":\"TWELFTH WARD\"},{\"showarrow\":false,\"text\":\"0.07\",\"x\":\"Entire home/apt\",\"y\":\"TWELFTH WARD\"},{\"showarrow\":false,\"text\":\"-0.07\",\"x\":\"longitude\",\"y\":\"TWELFTH WARD\"},{\"showarrow\":false,\"text\":\"1.0\",\"x\":\"TWELFTH WARD\",\"y\":\"TWELFTH WARD\"},{\"showarrow\":false,\"text\":\"-0.03\",\"x\":\"THIRTEENTH WARD\",\"y\":\"TWELFTH WARD\"},{\"showarrow\":false,\"text\":\"-0.04\",\"x\":\"NINTH WARD\",\"y\":\"TWELFTH WARD\"},{\"showarrow\":false,\"text\":\"-0.03\",\"x\":\"SECOND WARD\",\"y\":\"TWELFTH WARD\"},{\"showarrow\":false,\"text\":\"0.14\",\"x\":\"minimum_nights\",\"y\":\"TWELFTH WARD\"},{\"showarrow\":false,\"text\":\"0.2\",\"x\":\"latitude\",\"y\":\"TWELFTH WARD\"},{\"showarrow\":false,\"text\":\"-0.03\",\"x\":\"FOURTEENTH WARD\",\"y\":\"TWELFTH WARD\"},{\"showarrow\":false,\"text\":\"-0.08\",\"x\":\"calculated_host_listings_count\",\"y\":\"TWELFTH WARD\"},{\"showarrow\":false,\"text\":\"-0.0\",\"x\":\"host_id\",\"y\":\"TWELFTH WARD\"},{\"showarrow\":false,\"text\":\"-0.03\",\"x\":\"TENTH WARD\",\"y\":\"TWELFTH WARD\"},{\"showarrow\":false,\"text\":\"-0.01\",\"x\":\"EIGHTH WARD\",\"y\":\"TWELFTH WARD\"},{\"showarrow\":false,\"text\":\"-0.17\",\"x\":\"price\",\"y\":\"THIRTEENTH WARD\"},{\"showarrow\":false,\"text\":\"0.12\",\"x\":\"Private room\",\"y\":\"THIRTEENTH WARD\"},{\"showarrow\":false,\"text\":\"-0.12\",\"x\":\"Entire home/apt\",\"y\":\"THIRTEENTH WARD\"},{\"showarrow\":false,\"text\":\"-0.28\",\"x\":\"longitude\",\"y\":\"THIRTEENTH WARD\"},{\"showarrow\":false,\"text\":\"-0.03\",\"x\":\"TWELFTH WARD\",\"y\":\"THIRTEENTH WARD\"},{\"showarrow\":false,\"text\":\"1.0\",\"x\":\"THIRTEENTH WARD\",\"y\":\"THIRTEENTH WARD\"},{\"showarrow\":false,\"text\":\"-0.11\",\"x\":\"NINTH WARD\",\"y\":\"THIRTEENTH WARD\"},{\"showarrow\":false,\"text\":\"-0.1\",\"x\":\"SECOND WARD\",\"y\":\"THIRTEENTH WARD\"},{\"showarrow\":false,\"text\":\"0.06\",\"x\":\"minimum_nights\",\"y\":\"THIRTEENTH WARD\"},{\"showarrow\":false,\"text\":\"0.39\",\"x\":\"latitude\",\"y\":\"THIRTEENTH WARD\"},{\"showarrow\":false,\"text\":\"-0.09\",\"x\":\"FOURTEENTH WARD\",\"y\":\"THIRTEENTH WARD\"},{\"showarrow\":false,\"text\":\"0.15\",\"x\":\"calculated_host_listings_count\",\"y\":\"THIRTEENTH WARD\"},{\"showarrow\":false,\"text\":\"0.08\",\"x\":\"host_id\",\"y\":\"THIRTEENTH WARD\"},{\"showarrow\":false,\"text\":\"-0.09\",\"x\":\"TENTH WARD\",\"y\":\"THIRTEENTH WARD\"},{\"showarrow\":false,\"text\":\"-0.02\",\"x\":\"EIGHTH WARD\",\"y\":\"THIRTEENTH WARD\"},{\"showarrow\":false,\"text\":\"-0.16\",\"x\":\"price\",\"y\":\"NINTH WARD\"},{\"showarrow\":false,\"text\":\"0.19\",\"x\":\"Private room\",\"y\":\"NINTH WARD\"},{\"showarrow\":false,\"text\":\"-0.18\",\"x\":\"Entire home/apt\",\"y\":\"NINTH WARD\"},{\"showarrow\":false,\"text\":\"-0.11\",\"x\":\"longitude\",\"y\":\"NINTH WARD\"},{\"showarrow\":false,\"text\":\"-0.04\",\"x\":\"TWELFTH WARD\",\"y\":\"NINTH WARD\"},{\"showarrow\":false,\"text\":\"-0.11\",\"x\":\"THIRTEENTH WARD\",\"y\":\"NINTH WARD\"},{\"showarrow\":false,\"text\":\"1.0\",\"x\":\"NINTH WARD\",\"y\":\"NINTH WARD\"},{\"showarrow\":false,\"text\":\"-0.13\",\"x\":\"SECOND WARD\",\"y\":\"NINTH WARD\"},{\"showarrow\":false,\"text\":\"0.09\",\"x\":\"minimum_nights\",\"y\":\"NINTH WARD\"},{\"showarrow\":false,\"text\":\"-0.15\",\"x\":\"latitude\",\"y\":\"NINTH WARD\"},{\"showarrow\":false,\"text\":\"-0.12\",\"x\":\"FOURTEENTH WARD\",\"y\":\"NINTH WARD\"},{\"showarrow\":false,\"text\":\"-0.01\",\"x\":\"calculated_host_listings_count\",\"y\":\"NINTH WARD\"},{\"showarrow\":false,\"text\":\"0.01\",\"x\":\"host_id\",\"y\":\"NINTH WARD\"},{\"showarrow\":false,\"text\":\"-0.12\",\"x\":\"TENTH WARD\",\"y\":\"NINTH WARD\"},{\"showarrow\":false,\"text\":\"-0.03\",\"x\":\"EIGHTH WARD\",\"y\":\"NINTH WARD\"},{\"showarrow\":false,\"text\":\"0.16\",\"x\":\"price\",\"y\":\"SECOND WARD\"},{\"showarrow\":false,\"text\":\"-0.16\",\"x\":\"Private room\",\"y\":\"SECOND WARD\"},{\"showarrow\":false,\"text\":\"0.16\",\"x\":\"Entire home/apt\",\"y\":\"SECOND WARD\"},{\"showarrow\":false,\"text\":\"0.36\",\"x\":\"longitude\",\"y\":\"SECOND WARD\"},{\"showarrow\":false,\"text\":\"-0.03\",\"x\":\"TWELFTH WARD\",\"y\":\"SECOND WARD\"},{\"showarrow\":false,\"text\":\"-0.1\",\"x\":\"THIRTEENTH WARD\",\"y\":\"SECOND WARD\"},{\"showarrow\":false,\"text\":\"-0.13\",\"x\":\"NINTH WARD\",\"y\":\"SECOND WARD\"},{\"showarrow\":false,\"text\":\"1.0\",\"x\":\"SECOND WARD\",\"y\":\"SECOND WARD\"},{\"showarrow\":false,\"text\":\"-0.11\",\"x\":\"minimum_nights\",\"y\":\"SECOND WARD\"},{\"showarrow\":false,\"text\":\"-0.55\",\"x\":\"latitude\",\"y\":\"SECOND WARD\"},{\"showarrow\":false,\"text\":\"-0.11\",\"x\":\"FOURTEENTH WARD\",\"y\":\"SECOND WARD\"},{\"showarrow\":false,\"text\":\"0.08\",\"x\":\"calculated_host_listings_count\",\"y\":\"SECOND WARD\"},{\"showarrow\":false,\"text\":\"-0.02\",\"x\":\"host_id\",\"y\":\"SECOND WARD\"},{\"showarrow\":false,\"text\":\"-0.11\",\"x\":\"TENTH WARD\",\"y\":\"SECOND WARD\"},{\"showarrow\":false,\"text\":\"-0.02\",\"x\":\"EIGHTH WARD\",\"y\":\"SECOND WARD\"},{\"showarrow\":false,\"text\":\"-0.16\",\"x\":\"price\",\"y\":\"minimum_nights\"},{\"showarrow\":false,\"text\":\"-0.03\",\"x\":\"Private room\",\"y\":\"minimum_nights\"},{\"showarrow\":false,\"text\":\"0.04\",\"x\":\"Entire home/apt\",\"y\":\"minimum_nights\"},{\"showarrow\":false,\"text\":\"-0.12\",\"x\":\"longitude\",\"y\":\"minimum_nights\"},{\"showarrow\":false,\"text\":\"0.14\",\"x\":\"TWELFTH WARD\",\"y\":\"minimum_nights\"},{\"showarrow\":false,\"text\":\"0.06\",\"x\":\"THIRTEENTH WARD\",\"y\":\"minimum_nights\"},{\"showarrow\":false,\"text\":\"0.09\",\"x\":\"NINTH WARD\",\"y\":\"minimum_nights\"},{\"showarrow\":false,\"text\":\"-0.11\",\"x\":\"SECOND WARD\",\"y\":\"minimum_nights\"},{\"showarrow\":false,\"text\":\"1.0\",\"x\":\"minimum_nights\",\"y\":\"minimum_nights\"},{\"showarrow\":false,\"text\":\"0.11\",\"x\":\"latitude\",\"y\":\"minimum_nights\"},{\"showarrow\":false,\"text\":\"-0.05\",\"x\":\"FOURTEENTH WARD\",\"y\":\"minimum_nights\"},{\"showarrow\":false,\"text\":\"-0.24\",\"x\":\"calculated_host_listings_count\",\"y\":\"minimum_nights\"},{\"showarrow\":false,\"text\":\"-0.18\",\"x\":\"host_id\",\"y\":\"minimum_nights\"},{\"showarrow\":false,\"text\":\"-0.02\",\"x\":\"TENTH WARD\",\"y\":\"minimum_nights\"},{\"showarrow\":false,\"text\":\"0.05\",\"x\":\"EIGHTH WARD\",\"y\":\"minimum_nights\"},{\"showarrow\":false,\"text\":\"-0.15\",\"x\":\"price\",\"y\":\"latitude\"},{\"showarrow\":false,\"text\":\"0.22\",\"x\":\"Private room\",\"y\":\"latitude\"},{\"showarrow\":false,\"text\":\"-0.23\",\"x\":\"Entire home/apt\",\"y\":\"latitude\"},{\"showarrow\":false,\"text\":\"-0.6\",\"x\":\"longitude\",\"y\":\"latitude\"},{\"showarrow\":false,\"text\":\"0.2\",\"x\":\"TWELFTH WARD\",\"y\":\"latitude\"},{\"showarrow\":false,\"text\":\"0.39\",\"x\":\"THIRTEENTH WARD\",\"y\":\"latitude\"},{\"showarrow\":false,\"text\":\"-0.15\",\"x\":\"NINTH WARD\",\"y\":\"latitude\"},{\"showarrow\":false,\"text\":\"-0.55\",\"x\":\"SECOND WARD\",\"y\":\"latitude\"},{\"showarrow\":false,\"text\":\"0.11\",\"x\":\"minimum_nights\",\"y\":\"latitude\"},{\"showarrow\":false,\"text\":\"1.0\",\"x\":\"latitude\",\"y\":\"latitude\"},{\"showarrow\":false,\"text\":\"0.2\",\"x\":\"FOURTEENTH WARD\",\"y\":\"latitude\"},{\"showarrow\":false,\"text\":\"-0.01\",\"x\":\"calculated_host_listings_count\",\"y\":\"latitude\"},{\"showarrow\":false,\"text\":\"0.08\",\"x\":\"host_id\",\"y\":\"latitude\"},{\"showarrow\":false,\"text\":\"0.09\",\"x\":\"TENTH WARD\",\"y\":\"latitude\"},{\"showarrow\":false,\"text\":\"-0.02\",\"x\":\"EIGHTH WARD\",\"y\":\"latitude\"},{\"showarrow\":false,\"text\":\"-0.13\",\"x\":\"price\",\"y\":\"FOURTEENTH WARD\"},{\"showarrow\":false,\"text\":\"0.17\",\"x\":\"Private room\",\"y\":\"FOURTEENTH WARD\"},{\"showarrow\":false,\"text\":\"-0.16\",\"x\":\"Entire home/apt\",\"y\":\"FOURTEENTH WARD\"},{\"showarrow\":false,\"text\":\"-0.47\",\"x\":\"longitude\",\"y\":\"FOURTEENTH WARD\"},{\"showarrow\":false,\"text\":\"-0.03\",\"x\":\"TWELFTH WARD\",\"y\":\"FOURTEENTH WARD\"},{\"showarrow\":false,\"text\":\"-0.09\",\"x\":\"THIRTEENTH WARD\",\"y\":\"FOURTEENTH WARD\"},{\"showarrow\":false,\"text\":\"-0.12\",\"x\":\"NINTH WARD\",\"y\":\"FOURTEENTH WARD\"},{\"showarrow\":false,\"text\":\"-0.11\",\"x\":\"SECOND WARD\",\"y\":\"FOURTEENTH WARD\"},{\"showarrow\":false,\"text\":\"-0.05\",\"x\":\"minimum_nights\",\"y\":\"FOURTEENTH WARD\"},{\"showarrow\":false,\"text\":\"0.2\",\"x\":\"latitude\",\"y\":\"FOURTEENTH WARD\"},{\"showarrow\":false,\"text\":\"1.0\",\"x\":\"FOURTEENTH WARD\",\"y\":\"FOURTEENTH WARD\"},{\"showarrow\":false,\"text\":\"-0.03\",\"x\":\"calculated_host_listings_count\",\"y\":\"FOURTEENTH WARD\"},{\"showarrow\":false,\"text\":\"0.14\",\"x\":\"host_id\",\"y\":\"FOURTEENTH WARD\"},{\"showarrow\":false,\"text\":\"-0.1\",\"x\":\"TENTH WARD\",\"y\":\"FOURTEENTH WARD\"},{\"showarrow\":false,\"text\":\"-0.02\",\"x\":\"EIGHTH WARD\",\"y\":\"FOURTEENTH WARD\"},{\"showarrow\":false,\"text\":\"0.12\",\"x\":\"price\",\"y\":\"calculated_host_listings_count\"},{\"showarrow\":false,\"text\":\"0.06\",\"x\":\"Private room\",\"y\":\"calculated_host_listings_count\"},{\"showarrow\":false,\"text\":\"-0.05\",\"x\":\"Entire home/apt\",\"y\":\"calculated_host_listings_count\"},{\"showarrow\":false,\"text\":\"0.12\",\"x\":\"longitude\",\"y\":\"calculated_host_listings_count\"},{\"showarrow\":false,\"text\":\"-0.08\",\"x\":\"TWELFTH WARD\",\"y\":\"calculated_host_listings_count\"},{\"showarrow\":false,\"text\":\"0.15\",\"x\":\"THIRTEENTH WARD\",\"y\":\"calculated_host_listings_count\"},{\"showarrow\":false,\"text\":\"-0.01\",\"x\":\"NINTH WARD\",\"y\":\"calculated_host_listings_count\"},{\"showarrow\":false,\"text\":\"0.08\",\"x\":\"SECOND WARD\",\"y\":\"calculated_host_listings_count\"},{\"showarrow\":false,\"text\":\"-0.24\",\"x\":\"minimum_nights\",\"y\":\"calculated_host_listings_count\"},{\"showarrow\":false,\"text\":\"-0.01\",\"x\":\"latitude\",\"y\":\"calculated_host_listings_count\"},{\"showarrow\":false,\"text\":\"-0.03\",\"x\":\"FOURTEENTH WARD\",\"y\":\"calculated_host_listings_count\"},{\"showarrow\":false,\"text\":\"1.0\",\"x\":\"calculated_host_listings_count\",\"y\":\"calculated_host_listings_count\"},{\"showarrow\":false,\"text\":\"-0.2\",\"x\":\"host_id\",\"y\":\"calculated_host_listings_count\"},{\"showarrow\":false,\"text\":\"0.0\",\"x\":\"TENTH WARD\",\"y\":\"calculated_host_listings_count\"},{\"showarrow\":false,\"text\":\"-0.06\",\"x\":\"EIGHTH WARD\",\"y\":\"calculated_host_listings_count\"},{\"showarrow\":false,\"text\":\"0.11\",\"x\":\"price\",\"y\":\"host_id\"},{\"showarrow\":false,\"text\":\"0.01\",\"x\":\"Private room\",\"y\":\"host_id\"},{\"showarrow\":false,\"text\":\"-0.01\",\"x\":\"Entire home/apt\",\"y\":\"host_id\"},{\"showarrow\":false,\"text\":\"-0.07\",\"x\":\"longitude\",\"y\":\"host_id\"},{\"showarrow\":false,\"text\":\"-0.0\",\"x\":\"TWELFTH WARD\",\"y\":\"host_id\"},{\"showarrow\":false,\"text\":\"0.08\",\"x\":\"THIRTEENTH WARD\",\"y\":\"host_id\"},{\"showarrow\":false,\"text\":\"0.01\",\"x\":\"NINTH WARD\",\"y\":\"host_id\"},{\"showarrow\":false,\"text\":\"-0.02\",\"x\":\"SECOND WARD\",\"y\":\"host_id\"},{\"showarrow\":false,\"text\":\"-0.18\",\"x\":\"minimum_nights\",\"y\":\"host_id\"},{\"showarrow\":false,\"text\":\"0.08\",\"x\":\"latitude\",\"y\":\"host_id\"},{\"showarrow\":false,\"text\":\"0.14\",\"x\":\"FOURTEENTH WARD\",\"y\":\"host_id\"},{\"showarrow\":false,\"text\":\"-0.2\",\"x\":\"calculated_host_listings_count\",\"y\":\"host_id\"},{\"showarrow\":false,\"text\":\"1.0\",\"x\":\"host_id\",\"y\":\"host_id\"},{\"showarrow\":false,\"text\":\"-0.01\",\"x\":\"TENTH WARD\",\"y\":\"host_id\"},{\"showarrow\":false,\"text\":\"-0.08\",\"x\":\"EIGHTH WARD\",\"y\":\"host_id\"},{\"showarrow\":false,\"text\":\"0.09\",\"x\":\"price\",\"y\":\"TENTH WARD\"},{\"showarrow\":false,\"text\":\"0.05\",\"x\":\"Private room\",\"y\":\"TENTH WARD\"},{\"showarrow\":false,\"text\":\"-0.05\",\"x\":\"Entire home/apt\",\"y\":\"TENTH WARD\"},{\"showarrow\":false,\"text\":\"-0.11\",\"x\":\"longitude\",\"y\":\"TENTH WARD\"},{\"showarrow\":false,\"text\":\"-0.03\",\"x\":\"TWELFTH WARD\",\"y\":\"TENTH WARD\"},{\"showarrow\":false,\"text\":\"-0.09\",\"x\":\"THIRTEENTH WARD\",\"y\":\"TENTH WARD\"},{\"showarrow\":false,\"text\":\"-0.12\",\"x\":\"NINTH WARD\",\"y\":\"TENTH WARD\"},{\"showarrow\":false,\"text\":\"-0.11\",\"x\":\"SECOND WARD\",\"y\":\"TENTH WARD\"},{\"showarrow\":false,\"text\":\"-0.02\",\"x\":\"minimum_nights\",\"y\":\"TENTH WARD\"},{\"showarrow\":false,\"text\":\"0.09\",\"x\":\"latitude\",\"y\":\"TENTH WARD\"},{\"showarrow\":false,\"text\":\"-0.1\",\"x\":\"FOURTEENTH WARD\",\"y\":\"TENTH WARD\"},{\"showarrow\":false,\"text\":\"0.0\",\"x\":\"calculated_host_listings_count\",\"y\":\"TENTH WARD\"},{\"showarrow\":false,\"text\":\"-0.01\",\"x\":\"host_id\",\"y\":\"TENTH WARD\"},{\"showarrow\":false,\"text\":\"1.0\",\"x\":\"TENTH WARD\",\"y\":\"TENTH WARD\"},{\"showarrow\":false,\"text\":\"-0.02\",\"x\":\"EIGHTH WARD\",\"y\":\"TENTH WARD\"},{\"showarrow\":false,\"text\":\"0.08\",\"x\":\"price\",\"y\":\"EIGHTH WARD\"},{\"showarrow\":false,\"text\":\"-0.05\",\"x\":\"Private room\",\"y\":\"EIGHTH WARD\"},{\"showarrow\":false,\"text\":\"0.05\",\"x\":\"Entire home/apt\",\"y\":\"EIGHTH WARD\"},{\"showarrow\":false,\"text\":\"-0.13\",\"x\":\"longitude\",\"y\":\"EIGHTH WARD\"},{\"showarrow\":false,\"text\":\"-0.01\",\"x\":\"TWELFTH WARD\",\"y\":\"EIGHTH WARD\"},{\"showarrow\":false,\"text\":\"-0.02\",\"x\":\"THIRTEENTH WARD\",\"y\":\"EIGHTH WARD\"},{\"showarrow\":false,\"text\":\"-0.03\",\"x\":\"NINTH WARD\",\"y\":\"EIGHTH WARD\"},{\"showarrow\":false,\"text\":\"-0.02\",\"x\":\"SECOND WARD\",\"y\":\"EIGHTH WARD\"},{\"showarrow\":false,\"text\":\"0.05\",\"x\":\"minimum_nights\",\"y\":\"EIGHTH WARD\"},{\"showarrow\":false,\"text\":\"-0.02\",\"x\":\"latitude\",\"y\":\"EIGHTH WARD\"},{\"showarrow\":false,\"text\":\"-0.02\",\"x\":\"FOURTEENTH WARD\",\"y\":\"EIGHTH WARD\"},{\"showarrow\":false,\"text\":\"-0.06\",\"x\":\"calculated_host_listings_count\",\"y\":\"EIGHTH WARD\"},{\"showarrow\":false,\"text\":\"-0.08\",\"x\":\"host_id\",\"y\":\"EIGHTH WARD\"},{\"showarrow\":false,\"text\":\"-0.02\",\"x\":\"TENTH WARD\",\"y\":\"EIGHTH WARD\"},{\"showarrow\":false,\"text\":\"1.0\",\"x\":\"EIGHTH WARD\",\"y\":\"EIGHTH WARD\"}],\"width\":800,\"height\":800,\"autosize\":false},                        {\"responsive\": true}                    ).then(function(){\n",
       "                            \n",
       "var gd = document.getElementById('99642be0-e4cd-44ea-a05f-626dc997ff35');\n",
       "var x = new MutationObserver(function (mutations, observer) {{\n",
       "        var display = window.getComputedStyle(gd).display;\n",
       "        if (!display || display === 'none') {{\n",
       "            console.log([gd, 'removed!']);\n",
       "            Plotly.purge(gd);\n",
       "            observer.disconnect();\n",
       "        }}\n",
       "}});\n",
       "\n",
       "// Listen for the removal of the full notebook cells\n",
       "var notebookContainer = gd.closest('#notebook-container');\n",
       "if (notebookContainer) {{\n",
       "    x.observe(notebookContainer, {childList: true});\n",
       "}}\n",
       "\n",
       "// Listen for the clearing of the current output cell\n",
       "var outputEl = gd.closest('.output');\n",
       "if (outputEl) {{\n",
       "    x.observe(outputEl, {childList: true});\n",
       "}}\n",
       "\n",
       "                        })                };                });            </script>        </div>"
      ]
     },
     "metadata": {},
     "output_type": "display_data"
    }
   ],
   "source": [
    "import pandas as pd\n",
    "import plotly.graph_objects as go\n",
    "from scipy.cluster.hierarchy import dendrogram, linkage\n",
    "\n",
    "\n",
    "# Corr values \n",
    "Z =corr.values\n",
    "\n",
    "annotations = go.Annotations()\n",
    "for n, row in enumerate(Z):\n",
    "    for m, val in enumerate(row):\n",
    "        annotations.append(go.Annotation(text=str(np.round(Z[n][m] , 2)), \n",
    "                                         x=corr.columns[m], \n",
    "                                         y=corr.index[n],\n",
    "                                         showarrow=False))\n",
    "\n",
    "\n",
    "# Create the heatmap\n",
    "Trace=go.Heatmap(\n",
    "    z=Z,\n",
    "    x=corr.columns,\n",
    "    y=corr.index,\n",
    "    showscale=False,\n",
    "    colorscale='Viridis',\n",
    "    \n",
    ")\n",
    "fig = go.Figure(data=go.Data([Trace]))\n",
    "\n",
    "\n",
    "# Customize the layout\n",
    "fig.update_layout(\n",
    "    title='Heatmap',\n",
    "    annotations=annotations,\n",
    "    width=800,\n",
    "    height=800,\n",
    "    autosize=False,\n",
    "    margin = dict(t = 100, r = 80, b = 80, l = 120)\n",
    "    \n",
    "    \n",
    ")\n",
    "\n",
    "# Show the plot\n",
    "fig.show()"
   ]
  },
  {
   "cell_type": "code",
   "execution_count": 40,
   "id": "3667854d",
   "metadata": {},
   "outputs": [],
   "source": [
    "data = data.reset_index(drop = True)\n"
   ]
  },
  {
   "cell_type": "code",
   "execution_count": 37,
   "id": "2726b5d4",
   "metadata": {},
   "outputs": [
    {
     "data": {
      "text/html": [
       "<div>\n",
       "<style scoped>\n",
       "    .dataframe tbody tr th:only-of-type {\n",
       "        vertical-align: middle;\n",
       "    }\n",
       "\n",
       "    .dataframe tbody tr th {\n",
       "        vertical-align: top;\n",
       "    }\n",
       "\n",
       "    .dataframe thead th {\n",
       "        text-align: right;\n",
       "    }\n",
       "</style>\n",
       "<table border=\"1\" class=\"dataframe\">\n",
       "  <thead>\n",
       "    <tr style=\"text-align: right;\">\n",
       "      <th></th>\n",
       "      <th>id</th>\n",
       "      <th>host_id</th>\n",
       "      <th>latitude</th>\n",
       "      <th>longitude</th>\n",
       "      <th>price</th>\n",
       "      <th>minimum_nights</th>\n",
       "      <th>number_of_reviews</th>\n",
       "      <th>reviews_per_month</th>\n",
       "      <th>calculated_host_listings_count</th>\n",
       "      <th>availability_365</th>\n",
       "      <th>...</th>\n",
       "      <th>NINTH WARD</th>\n",
       "      <th>SECOND WARD</th>\n",
       "      <th>SEVENTH WARD</th>\n",
       "      <th>SIXTH WARD</th>\n",
       "      <th>TENTH WARD</th>\n",
       "      <th>THIRD WARD</th>\n",
       "      <th>THIRTEENTH WARD</th>\n",
       "      <th>TWELFTH WARD</th>\n",
       "      <th>Entire home/apt</th>\n",
       "      <th>Private room</th>\n",
       "    </tr>\n",
       "  </thead>\n",
       "  <tbody>\n",
       "    <tr>\n",
       "      <th>0</th>\n",
       "      <td>7563949</td>\n",
       "      <td>39656001</td>\n",
       "      <td>42.644840</td>\n",
       "      <td>-73.758510</td>\n",
       "      <td>190.0</td>\n",
       "      <td>1.0</td>\n",
       "      <td>37.0</td>\n",
       "      <td>0.40</td>\n",
       "      <td>6.0</td>\n",
       "      <td>365</td>\n",
       "      <td>...</td>\n",
       "      <td>False</td>\n",
       "      <td>True</td>\n",
       "      <td>False</td>\n",
       "      <td>False</td>\n",
       "      <td>False</td>\n",
       "      <td>False</td>\n",
       "      <td>False</td>\n",
       "      <td>False</td>\n",
       "      <td>False</td>\n",
       "      <td>True</td>\n",
       "    </tr>\n",
       "    <tr>\n",
       "      <th>1</th>\n",
       "      <td>8035784</td>\n",
       "      <td>42430824</td>\n",
       "      <td>42.660630</td>\n",
       "      <td>-73.781150</td>\n",
       "      <td>199.0</td>\n",
       "      <td>3.0</td>\n",
       "      <td>18.0</td>\n",
       "      <td>0.18</td>\n",
       "      <td>2.0</td>\n",
       "      <td>179</td>\n",
       "      <td>...</td>\n",
       "      <td>False</td>\n",
       "      <td>False</td>\n",
       "      <td>False</td>\n",
       "      <td>False</td>\n",
       "      <td>True</td>\n",
       "      <td>False</td>\n",
       "      <td>False</td>\n",
       "      <td>False</td>\n",
       "      <td>False</td>\n",
       "      <td>True</td>\n",
       "    </tr>\n",
       "    <tr>\n",
       "      <th>2</th>\n",
       "      <td>15580397</td>\n",
       "      <td>89705052</td>\n",
       "      <td>42.656510</td>\n",
       "      <td>-73.778870</td>\n",
       "      <td>56.0</td>\n",
       "      <td>2.0</td>\n",
       "      <td>40.0</td>\n",
       "      <td>0.48</td>\n",
       "      <td>4.0</td>\n",
       "      <td>112</td>\n",
       "      <td>...</td>\n",
       "      <td>True</td>\n",
       "      <td>False</td>\n",
       "      <td>False</td>\n",
       "      <td>False</td>\n",
       "      <td>False</td>\n",
       "      <td>False</td>\n",
       "      <td>False</td>\n",
       "      <td>False</td>\n",
       "      <td>False</td>\n",
       "      <td>True</td>\n",
       "    </tr>\n",
       "    <tr>\n",
       "      <th>3</th>\n",
       "      <td>17238066</td>\n",
       "      <td>61700428</td>\n",
       "      <td>42.676140</td>\n",
       "      <td>-73.781690</td>\n",
       "      <td>53.0</td>\n",
       "      <td>3.0</td>\n",
       "      <td>130.0</td>\n",
       "      <td>1.55</td>\n",
       "      <td>2.0</td>\n",
       "      <td>365</td>\n",
       "      <td>...</td>\n",
       "      <td>False</td>\n",
       "      <td>False</td>\n",
       "      <td>False</td>\n",
       "      <td>False</td>\n",
       "      <td>False</td>\n",
       "      <td>False</td>\n",
       "      <td>False</td>\n",
       "      <td>False</td>\n",
       "      <td>False</td>\n",
       "      <td>True</td>\n",
       "    </tr>\n",
       "    <tr>\n",
       "      <th>4</th>\n",
       "      <td>17552120</td>\n",
       "      <td>20738797</td>\n",
       "      <td>42.657290</td>\n",
       "      <td>-73.803210</td>\n",
       "      <td>62.0</td>\n",
       "      <td>1.0</td>\n",
       "      <td>33.0</td>\n",
       "      <td>0.40</td>\n",
       "      <td>1.0</td>\n",
       "      <td>26</td>\n",
       "      <td>...</td>\n",
       "      <td>False</td>\n",
       "      <td>False</td>\n",
       "      <td>False</td>\n",
       "      <td>False</td>\n",
       "      <td>False</td>\n",
       "      <td>False</td>\n",
       "      <td>False</td>\n",
       "      <td>False</td>\n",
       "      <td>False</td>\n",
       "      <td>True</td>\n",
       "    </tr>\n",
       "    <tr>\n",
       "      <th>...</th>\n",
       "      <td>...</td>\n",
       "      <td>...</td>\n",
       "      <td>...</td>\n",
       "      <td>...</td>\n",
       "      <td>...</td>\n",
       "      <td>...</td>\n",
       "      <td>...</td>\n",
       "      <td>...</td>\n",
       "      <td>...</td>\n",
       "      <td>...</td>\n",
       "      <td>...</td>\n",
       "      <td>...</td>\n",
       "      <td>...</td>\n",
       "      <td>...</td>\n",
       "      <td>...</td>\n",
       "      <td>...</td>\n",
       "      <td>...</td>\n",
       "      <td>...</td>\n",
       "      <td>...</td>\n",
       "      <td>...</td>\n",
       "      <td>...</td>\n",
       "    </tr>\n",
       "    <tr>\n",
       "      <th>192</th>\n",
       "      <td>1053892116573935214</td>\n",
       "      <td>552465537</td>\n",
       "      <td>42.659886</td>\n",
       "      <td>-73.792057</td>\n",
       "      <td>150.0</td>\n",
       "      <td>1.0</td>\n",
       "      <td>1.0</td>\n",
       "      <td>1.00</td>\n",
       "      <td>1.0</td>\n",
       "      <td>356</td>\n",
       "      <td>...</td>\n",
       "      <td>True</td>\n",
       "      <td>False</td>\n",
       "      <td>False</td>\n",
       "      <td>False</td>\n",
       "      <td>False</td>\n",
       "      <td>False</td>\n",
       "      <td>False</td>\n",
       "      <td>False</td>\n",
       "      <td>True</td>\n",
       "      <td>False</td>\n",
       "    </tr>\n",
       "    <tr>\n",
       "      <th>193</th>\n",
       "      <td>1055481757202000214</td>\n",
       "      <td>28987572</td>\n",
       "      <td>42.650987</td>\n",
       "      <td>-73.763078</td>\n",
       "      <td>125.0</td>\n",
       "      <td>2.0</td>\n",
       "      <td>2.0</td>\n",
       "      <td>2.00</td>\n",
       "      <td>1.0</td>\n",
       "      <td>95</td>\n",
       "      <td>...</td>\n",
       "      <td>False</td>\n",
       "      <td>False</td>\n",
       "      <td>False</td>\n",
       "      <td>True</td>\n",
       "      <td>False</td>\n",
       "      <td>False</td>\n",
       "      <td>False</td>\n",
       "      <td>False</td>\n",
       "      <td>True</td>\n",
       "      <td>False</td>\n",
       "    </tr>\n",
       "    <tr>\n",
       "      <th>194</th>\n",
       "      <td>1057932481605319073</td>\n",
       "      <td>217818949</td>\n",
       "      <td>42.663116</td>\n",
       "      <td>-73.738103</td>\n",
       "      <td>105.0</td>\n",
       "      <td>1.0</td>\n",
       "      <td>1.0</td>\n",
       "      <td>0.83</td>\n",
       "      <td>1.0</td>\n",
       "      <td>269</td>\n",
       "      <td>...</td>\n",
       "      <td>False</td>\n",
       "      <td>False</td>\n",
       "      <td>False</td>\n",
       "      <td>False</td>\n",
       "      <td>False</td>\n",
       "      <td>False</td>\n",
       "      <td>False</td>\n",
       "      <td>False</td>\n",
       "      <td>False</td>\n",
       "      <td>False</td>\n",
       "    </tr>\n",
       "    <tr>\n",
       "      <th>195</th>\n",
       "      <td>1072781767409521866</td>\n",
       "      <td>426223840</td>\n",
       "      <td>42.663916</td>\n",
       "      <td>-73.777869</td>\n",
       "      <td>102.0</td>\n",
       "      <td>1.0</td>\n",
       "      <td>7.0</td>\n",
       "      <td>5.68</td>\n",
       "      <td>2.0</td>\n",
       "      <td>256</td>\n",
       "      <td>...</td>\n",
       "      <td>False</td>\n",
       "      <td>False</td>\n",
       "      <td>False</td>\n",
       "      <td>False</td>\n",
       "      <td>False</td>\n",
       "      <td>False</td>\n",
       "      <td>False</td>\n",
       "      <td>False</td>\n",
       "      <td>True</td>\n",
       "      <td>False</td>\n",
       "    </tr>\n",
       "    <tr>\n",
       "      <th>196</th>\n",
       "      <td>1104977057298366617</td>\n",
       "      <td>382970529</td>\n",
       "      <td>42.669431</td>\n",
       "      <td>-73.798820</td>\n",
       "      <td>51.0</td>\n",
       "      <td>1.0</td>\n",
       "      <td>1.0</td>\n",
       "      <td>1.00</td>\n",
       "      <td>10.0</td>\n",
       "      <td>0</td>\n",
       "      <td>...</td>\n",
       "      <td>False</td>\n",
       "      <td>False</td>\n",
       "      <td>False</td>\n",
       "      <td>False</td>\n",
       "      <td>False</td>\n",
       "      <td>False</td>\n",
       "      <td>True</td>\n",
       "      <td>False</td>\n",
       "      <td>False</td>\n",
       "      <td>True</td>\n",
       "    </tr>\n",
       "  </tbody>\n",
       "</table>\n",
       "<p>197 rows × 27 columns</p>\n",
       "</div>"
      ],
      "text/plain": [
       "                      id    host_id   latitude  longitude  price  \\\n",
       "0                7563949   39656001  42.644840 -73.758510  190.0   \n",
       "1                8035784   42430824  42.660630 -73.781150  199.0   \n",
       "2               15580397   89705052  42.656510 -73.778870   56.0   \n",
       "3               17238066   61700428  42.676140 -73.781690   53.0   \n",
       "4               17552120   20738797  42.657290 -73.803210   62.0   \n",
       "..                   ...        ...        ...        ...    ...   \n",
       "192  1053892116573935214  552465537  42.659886 -73.792057  150.0   \n",
       "193  1055481757202000214   28987572  42.650987 -73.763078  125.0   \n",
       "194  1057932481605319073  217818949  42.663116 -73.738103  105.0   \n",
       "195  1072781767409521866  426223840  42.663916 -73.777869  102.0   \n",
       "196  1104977057298366617  382970529  42.669431 -73.798820   51.0   \n",
       "\n",
       "     minimum_nights  number_of_reviews  reviews_per_month  \\\n",
       "0               1.0               37.0               0.40   \n",
       "1               3.0               18.0               0.18   \n",
       "2               2.0               40.0               0.48   \n",
       "3               3.0              130.0               1.55   \n",
       "4               1.0               33.0               0.40   \n",
       "..              ...                ...                ...   \n",
       "192             1.0                1.0               1.00   \n",
       "193             2.0                2.0               2.00   \n",
       "194             1.0                1.0               0.83   \n",
       "195             1.0                7.0               5.68   \n",
       "196             1.0                1.0               1.00   \n",
       "\n",
       "     calculated_host_listings_count  availability_365  ...  NINTH WARD  \\\n",
       "0                               6.0               365  ...       False   \n",
       "1                               2.0               179  ...       False   \n",
       "2                               4.0               112  ...        True   \n",
       "3                               2.0               365  ...       False   \n",
       "4                               1.0                26  ...       False   \n",
       "..                              ...               ...  ...         ...   \n",
       "192                             1.0               356  ...        True   \n",
       "193                             1.0                95  ...       False   \n",
       "194                             1.0               269  ...       False   \n",
       "195                             2.0               256  ...       False   \n",
       "196                            10.0                 0  ...       False   \n",
       "\n",
       "     SECOND WARD  SEVENTH WARD  SIXTH WARD  TENTH WARD  THIRD WARD  \\\n",
       "0           True         False       False       False       False   \n",
       "1          False         False       False        True       False   \n",
       "2          False         False       False       False       False   \n",
       "3          False         False       False       False       False   \n",
       "4          False         False       False       False       False   \n",
       "..           ...           ...         ...         ...         ...   \n",
       "192        False         False       False       False       False   \n",
       "193        False         False        True       False       False   \n",
       "194        False         False       False       False       False   \n",
       "195        False         False       False       False       False   \n",
       "196        False         False       False       False       False   \n",
       "\n",
       "     THIRTEENTH WARD  TWELFTH WARD  Entire home/apt  Private room  \n",
       "0              False         False            False          True  \n",
       "1              False         False            False          True  \n",
       "2              False         False            False          True  \n",
       "3              False         False            False          True  \n",
       "4              False         False            False          True  \n",
       "..               ...           ...              ...           ...  \n",
       "192            False         False             True         False  \n",
       "193            False         False             True         False  \n",
       "194            False         False            False         False  \n",
       "195            False         False             True         False  \n",
       "196             True         False            False          True  \n",
       "\n",
       "[197 rows x 27 columns]"
      ]
     },
     "execution_count": 37,
     "metadata": {},
     "output_type": "execute_result"
    }
   ],
   "source": [
    "data"
   ]
  },
  {
   "cell_type": "code",
   "execution_count": 38,
   "id": "36938881",
   "metadata": {},
   "outputs": [],
   "source": [
    "# To read it later \n",
    "# https://medium.com/analytics-vidhya/a-complete-guide-to-adam-and-rmsprop-optimizer-75f4502d83be\n",
    "# https://towardsdatascience.com/understanding-rmsprop-faster-neural-network-learning-62e116fcf29a"
   ]
  },
  {
   "cell_type": "code",
   "execution_count": null,
   "id": "ae2916c8",
   "metadata": {},
   "outputs": [],
   "source": []
  },
  {
   "cell_type": "code",
   "execution_count": null,
   "id": "c0af6e62",
   "metadata": {},
   "outputs": [],
   "source": []
  },
  {
   "cell_type": "code",
   "execution_count": null,
   "id": "2c12204f",
   "metadata": {},
   "outputs": [],
   "source": []
  }
 ],
 "metadata": {
  "kernelspec": {
   "display_name": "Python 3 (ipykernel)",
   "language": "python",
   "name": "python3"
  },
  "language_info": {
   "codemirror_mode": {
    "name": "ipython",
    "version": 3
   },
   "file_extension": ".py",
   "mimetype": "text/x-python",
   "name": "python",
   "nbconvert_exporter": "python",
   "pygments_lexer": "ipython3",
   "version": "3.11.5"
  }
 },
 "nbformat": 4,
 "nbformat_minor": 5
}
